{
 "cells": [
  {
   "cell_type": "code",
   "execution_count": 4,
   "metadata": {},
   "outputs": [],
   "source": [
    "import openai\n",
    "from openai import AzureOpenAI, AsyncAzureOpenAI\n",
    "from tqdm.notebook import tqdm\n",
    "import os\n",
    "from dotenv import load_dotenv, find_dotenv\n",
    "import requests\n",
    "import base64\n",
    "\n",
    "GPT_3_5_TURBO = \"gpt-3.5-turbo\"\n",
    "GPT_4_TURBO_PREVIEW = \"gpt-4-turbo-preview\"\n",
    "GPT_4 = 'gpt-4'\n",
    "GPT_4o = 'gpt-4o'\n",
    "\n",
    "def get_openai_api_key():\n",
    "    _ = load_dotenv(find_dotenv())\n",
    "\n",
    "    return os.getenv(\"OPENAI_API_KEY\")\n",
    "\n",
    "OPENAI_API_KEY = get_openai_api_key()\n",
    "azure_endpoint=os.getenv(\"AZURE_OPENAI_ENDPOINT\")\n",
    "client = AzureOpenAI(\n",
    "    api_key=os.getenv(\"AZURE_OPENAI_API_KEY\"),  \n",
    "    api_version=\"2024-07-01-preview\",\n",
    "    azure_endpoint=os.getenv(\"AZURE_OPENAI_ENDPOINT\")\n",
    ")"
   ]
  },
  {
   "cell_type": "code",
   "execution_count": 5,
   "metadata": {},
   "outputs": [],
   "source": [
    "import json\n",
    "\n",
    "\n",
    "EVAL_FOLDER = '../../data/russian-english/cards/eval_results/ru_eng_'\n",
    "def get_eval_results_from_file(file_name):\n",
    "    data = []\n",
    "    file_path = EVAL_FOLDER + file_name\n",
    "    with open(file_path, 'r', encoding='utf-8') as file:\n",
    "        data = json.load(file)\n",
    "    return data\n",
    "\n",
    "\n",
    "RU_ENG_OUTPUT_FOLDER = '../../data/russian-english/cards/test_cards/ru_eng_'\n",
    "def get_ru_eng_cards_from_file(file_name):\n",
    "    data = []\n",
    "    file_path = OUTPUT_FOLDER + file_name\n",
    "    with open(file_path, 'r', encoding='utf-8') as file:\n",
    "        data = json.load(file)\n",
    "    return data\n",
    "\n",
    "\n",
    "RU_FINN_FOLDER_WITH_JSON = '../../data/russian-finnish/cards/curated_platform_cards/'\n",
    "def get_ru_finn_cards_from_file(file_name):\n",
    "    data = []\n",
    "    file_path = RU_FINN_FOLDER_WITH_JSON + file_name\n",
    "    with open(file_path, 'r', encoding='utf-8') as file:\n",
    "        data = json.load(file)\n",
    "    res = []\n",
    "    for card in data:\n",
    "        if 'isMarkedDeleted' not in card.keys():\n",
    "            res.append(card)\n",
    "    return res\n",
    "\n",
    "\n",
    "OUTPUT_FOLDER = '../../data/russian-english/cards/test_cards/ru_eng_'\n",
    "def write_cards_to_file(file_name, cards):\n",
    "    file_path = OUTPUT_FOLDER + file_name\n",
    "    with open(file_path, 'w', encoding='utf-8') as f:\n",
    "        json.dump(cards, f, ensure_ascii=False, indent=2)\n",
    "        \n",
    "        \n",
    "EVAL_FOLDER = '../../data/russian-english/cards/eval_results/ru_eng_'\n",
    "def write_eval_results_to_file(file_name, results):\n",
    "    file_path = EVAL_FOLDER + file_name\n",
    "    with open(file_path, 'w', encoding='utf-8') as f:\n",
    "        json.dump(results, f, ensure_ascii=False, indent=2)"
   ]
  },
  {
   "cell_type": "code",
   "execution_count": 35,
   "metadata": {},
   "outputs": [],
   "source": [
    "def eval_phrase_card(card, model=GPT_4o):\n",
    "    src_word, src_sentence, tr_word, tr_sentence, tr_id = card.values()\n",
    "\n",
    "    system_prompt = '''You are a multilingual assistant who is proficient in Russian and English.'''\n",
    "\n",
    "    user_prompt = f\"\"\"\n",
    "**Task**: Evaluate the correctness and naturalness of English translations for a given Russian word or phrase. Confirm the following:\n",
    "\n",
    "The English translation accurately conveys the meaning and context of the Russian version.\n",
    "The English translation sounds natural to a native speaker.\n",
    "\n",
    "**Guidelines**:\n",
    "\n",
    "The translated word or phrase does not need to be the most common or best possible translation of the Russian version. As long as it retains the original meaning and sounds natural and correct, it is acceptable.\n",
    "Your evaluation should focus on whether the translation is acceptable or identify any issues if present.\n",
    "If corrections are needed, provide only the final corrected English translation.\n",
    "If no correction is needed, set suggestedFix to null.\n",
    "\n",
    "**Input Example**:\n",
    "\n",
    "Word or Phrase in Russian: {src_word}\n",
    "Word or Phrase in English: {tr_word}\n",
    "\n",
    "**Output Format**: Respond in JSON using the structure below:\n",
    " \n",
    "{{\n",
    "  \"translationAccuracy\": {{\n",
    "    \"isCorrect\": true/false,\n",
    "    \"explanation\": \"Detailed explanation if there is an issue or why it's correct\",\n",
    "    \"suggestedFix\": \"Suggested correction if there is an issue or null if no correction is needed\"\n",
    "  }}\n",
    "}}\n",
    "\n",
    "**Notes**:\n",
    "\n",
    "The English translation does not have to be the most commonly used or the best translation, as long as it preserves the meaning of the Russian word or phrase.\n",
    "Prioritize naturalness, correctness, and clarity when evaluating the translation.\n",
    "Ensure all explanations are detailed, clear, and actionable.\n",
    "    \"\"\"\n",
    "\n",
    "    response = client.chat.completions.create(\n",
    "      model=model,\n",
    "      response_format={ \"type\": \"json_object\" },\n",
    "      messages=[\n",
    "        {\"role\": \"system\", \"content\": system_prompt.strip()},\n",
    "        {\"role\": \"user\", \"content\": user_prompt.strip()}\n",
    "      ]\n",
    "    )\n",
    "\n",
    "    res = json.loads(response.choices[0].message.content.strip())\n",
    "    res['id'] = tr_id\n",
    "\n",
    "    return res"
   ]
  },
  {
   "cell_type": "code",
   "execution_count": 36,
   "metadata": {},
   "outputs": [],
   "source": [
    "def eval_full_card(card, model=GPT_4o):\n",
    "    src_word, src_sentence, tr_word, tr_sentence, tr_id = card.values()\n",
    "\n",
    "    system_prompt = '''You are a multilingual assistant who is proficient in Russian and English.'''\n",
    "\n",
    "    user_prompt = f\"\"\"\n",
    "**Task**: Evaluate the correctness and naturalness of an English word and sentence based on their translations from Russian. Assess the following:\n",
    "\n",
    "The quality and naturalness of the English sentence.\n",
    "The accuracy of the word’s translation and its usage in the sentence.\n",
    "The overall accuracy of the translations for both the word and sentence from Russian to English.\n",
    "\n",
    "**Evaluation Points**:\n",
    "\n",
    "Verify that the English sentence is grammatically correct, natural, and conveys the meaning of the Russian sentence. The sentence does not need to be an exact translation as long as it preserves the original meaning and sounds natural.\n",
    "Confirm that the English word reflects the meaning of the Russian word. It is acceptable if the word appears in a different form (e.g., conjugated, pluralized) or is replaced by a synonym, as long as it aligns with the intended meaning and fits naturally within the sentence.\n",
    "Prioritize naturalness, clarity, and correctness when suggesting fixes.\n",
    "\n",
    "**Output**: Respond in JSON format as follows:\n",
    "{{\n",
    "    \"englishSentenceCorrectness\": {{\n",
    "    \"isCorrect\": true/false,\n",
    "    \"explanation\": \"Detailed explanation if there is an issue or why it's correct.\",\n",
    "    \"suggestedFix\": \"Suggested corrected sentence if there is an issue, or null if not applicable.\"\n",
    "    }},\n",
    "    \"wordUsage\": {{\n",
    "    \"isCorrect\": true/false,\n",
    "    \"explanation\": \"Detailed explanation if there is an issue or why it's correct.\",\n",
    "    \"suggestedFixSentence\": \"Suggested corrected sentence if the word usage is incorrect, or null if not applicable.\",\n",
    "    \"suggestedFixWord\": \"Suggested corrected word if the word usage is incorrect, or null if not applicable.\"\n",
    "    }},\n",
    "    \"wordTranslationAccuracy\": {{\n",
    "    \"isCorrect\": true/false,\n",
    "    \"explanation\": \"Detailed explanation if there is an issue or why it's correct.\",\n",
    "    \"suggestedFix\": \"Suggested correction for translation issues, or null if not applicable.\"\n",
    "    }},\n",
    "    \"sentenceTranslationAccuracy\": {{\n",
    "    \"isCorrect\": true/false,\n",
    "    \"explanation\": \"Detailed explanation if there is an issue or why it's correct.\",\n",
    "    \"suggestedFix\": \"Suggested correction for translation issues, or null if not applicable.\"\n",
    "    }}\n",
    "}}\n",
    "\n",
    "**Input Example**:\n",
    "\n",
    "Word in Russian: {src_word}\n",
    "Word in English: {tr_word}\n",
    "Sentence in Russian: {src_sentence}\n",
    "Sentence in English: {tr_sentence}\n",
    "\n",
    "**Notes**:\n",
    "\n",
    "The word does not have to appear in its given form as long as it fits naturally and conveys the intended meaning.\n",
    "The sentence does not have to be an exact translation of the Russian sentence; preserving the meaning and sounding natural are the main priorities.\n",
    "Provide detailed explanations and actionable corrections wherever applicable.\n",
    "    \"\"\"\n",
    "\n",
    "    response = client.chat.completions.create(\n",
    "      model=model,\n",
    "      response_format={ \"type\": \"json_object\" },\n",
    "      messages=[\n",
    "        {\"role\": \"system\", \"content\": system_prompt.strip()},\n",
    "        {\"role\": \"user\", \"content\": user_prompt.strip()}\n",
    "      ]\n",
    "    )\n",
    "\n",
    "    res = json.loads(response.choices[0].message.content.strip())\n",
    "    res['id'] = tr_id\n",
    "\n",
    "    return res"
   ]
  },
  {
   "cell_type": "code",
   "execution_count": 8,
   "metadata": {},
   "outputs": [],
   "source": [
    "def check_eval(eval_result, is_phrase_card):\n",
    "    if is_phrase_card:\n",
    "        return eval_result['translationAccuracy']['isCorrect']\n",
    "    \n",
    "    w_tr_accuracy = eval_result['wordTranslationAccuracy']['isCorrect']\n",
    "    s_tr_accuracy = eval_result['sentenceTranslationAccuracy']['isCorrect']\n",
    "    s_accuracy = eval_result['englishSentenceCorrectness']['isCorrect']\n",
    "    w_accuracy = eval_result['wordUsage']['isCorrect']\n",
    "    \n",
    "    return all([w_tr_accuracy, s_tr_accuracy, s_accuracy, w_accuracy])"
   ]
  },
  {
   "cell_type": "code",
   "execution_count": 9,
   "metadata": {},
   "outputs": [],
   "source": [
    "file_names = [f'sm1_new_kap{i}.json' for i in range(1, 10)]"
   ]
  },
  {
   "cell_type": "code",
   "execution_count": 10,
   "metadata": {},
   "outputs": [
    {
     "data": {
      "text/plain": [
       "'sm1_new_kap1.json'"
      ]
     },
     "execution_count": 10,
     "metadata": {},
     "output_type": "execute_result"
    }
   ],
   "source": [
    "first_file = file_names[0]\n",
    "first_file"
   ]
  },
  {
   "cell_type": "code",
   "execution_count": 21,
   "metadata": {},
   "outputs": [],
   "source": [
    "ru_eng_cards = get_ru_eng_cards_from_file(first_file)\n",
    "eval_results = get_eval_results_from_file(first_file)"
   ]
  },
  {
   "cell_type": "code",
   "execution_count": 15,
   "metadata": {},
   "outputs": [],
   "source": [
    "def is_phrase_card(card):\n",
    "    return card['sentenceFirstLang'] == ''"
   ]
  },
  {
   "cell_type": "code",
   "execution_count": 28,
   "metadata": {},
   "outputs": [
    {
     "data": {
      "application/vnd.jupyter.widget-view+json": {
       "model_id": "6a6cb34ba1f04a97a6045dc605ff6737",
       "version_major": 2,
       "version_minor": 0
      },
      "text/plain": [
       "  0%|          | 0/151 [00:00<?, ?it/s]"
      ]
     },
     "metadata": {},
     "output_type": "display_data"
    }
   ],
   "source": [
    "eval_res = []\n",
    "eval_acc = []\n",
    "for card in tqdm(ru_eng_cards):\n",
    "    cur_eval = {}\n",
    "    if is_phrase_card(card):\n",
    "        cur_eval = eval_phrase_card(card)\n",
    "    else:\n",
    "        cur_eval = eval_full_card(card)\n",
    "    \n",
    "    eval_res.append(cur_eval)\n",
    "    eval_acc.append(check_eval(cur_eval, is_phrase_card(card)))"
   ]
  },
  {
   "cell_type": "code",
   "execution_count": 34,
   "metadata": {},
   "outputs": [
    {
     "data": {
      "application/vnd.jupyter.widget-view+json": {
       "model_id": "3262051b193d46198f093f6c2ffb1a14",
       "version_major": 2,
       "version_minor": 0
      },
      "text/plain": [
       "  0%|          | 0/8 [00:00<?, ?it/s]"
      ]
     },
     "metadata": {},
     "output_type": "display_data"
    },
    {
     "data": {
      "application/vnd.jupyter.widget-view+json": {
       "model_id": "3c34665bcf8b4b479ce4739442a07dc2",
       "version_major": 2,
       "version_minor": 0
      },
      "text/plain": [
       "  0%|          | 0/192 [00:00<?, ?it/s]"
      ]
     },
     "metadata": {},
     "output_type": "display_data"
    },
    {
     "name": "stdout",
     "output_type": "stream",
     "text": [
      "sm1_new_kap2.json  accuracy  1.0\n"
     ]
    },
    {
     "data": {
      "application/vnd.jupyter.widget-view+json": {
       "model_id": "e4a499c6917b40e4a8b3df0ad6e65cd7",
       "version_major": 2,
       "version_minor": 0
      },
      "text/plain": [
       "  0%|          | 0/238 [00:00<?, ?it/s]"
      ]
     },
     "metadata": {},
     "output_type": "display_data"
    },
    {
     "name": "stdout",
     "output_type": "stream",
     "text": [
      "sm1_new_kap3.json  accuracy  0.9698275862068966\n"
     ]
    },
    {
     "data": {
      "application/vnd.jupyter.widget-view+json": {
       "model_id": "641b8615629849c1987fa049762fbffb",
       "version_major": 2,
       "version_minor": 0
      },
      "text/plain": [
       "  0%|          | 0/267 [00:00<?, ?it/s]"
      ]
     },
     "metadata": {},
     "output_type": "display_data"
    },
    {
     "name": "stdout",
     "output_type": "stream",
     "text": [
      "sm1_new_kap4.json  accuracy  0.9847908745247148\n"
     ]
    },
    {
     "data": {
      "application/vnd.jupyter.widget-view+json": {
       "model_id": "0d35d27e6be74782907019f823954bdd",
       "version_major": 2,
       "version_minor": 0
      },
      "text/plain": [
       "  0%|          | 0/153 [00:00<?, ?it/s]"
      ]
     },
     "metadata": {},
     "output_type": "display_data"
    },
    {
     "name": "stdout",
     "output_type": "stream",
     "text": [
      "sm1_new_kap5.json  accuracy  0.9671052631578947\n"
     ]
    },
    {
     "data": {
      "application/vnd.jupyter.widget-view+json": {
       "model_id": "ae43cf3904304124989141c952aeba5b",
       "version_major": 2,
       "version_minor": 0
      },
      "text/plain": [
       "  0%|          | 0/239 [00:00<?, ?it/s]"
      ]
     },
     "metadata": {},
     "output_type": "display_data"
    },
    {
     "name": "stdout",
     "output_type": "stream",
     "text": [
      "sm1_new_kap6.json  accuracy  0.9535864978902954\n"
     ]
    },
    {
     "data": {
      "application/vnd.jupyter.widget-view+json": {
       "model_id": "cd8ec2b72c1c47498f4f5525a7977c6e",
       "version_major": 2,
       "version_minor": 0
      },
      "text/plain": [
       "  0%|          | 0/184 [00:00<?, ?it/s]"
      ]
     },
     "metadata": {},
     "output_type": "display_data"
    },
    {
     "name": "stdout",
     "output_type": "stream",
     "text": [
      "sm1_new_kap7.json  accuracy  0.95\n"
     ]
    },
    {
     "data": {
      "application/vnd.jupyter.widget-view+json": {
       "model_id": "39df34aea82043a18681f0d9937dee4f",
       "version_major": 2,
       "version_minor": 0
      },
      "text/plain": [
       "  0%|          | 0/260 [00:00<?, ?it/s]"
      ]
     },
     "metadata": {},
     "output_type": "display_data"
    },
    {
     "name": "stdout",
     "output_type": "stream",
     "text": [
      "sm1_new_kap8.json  accuracy  0.9728682170542635\n"
     ]
    },
    {
     "data": {
      "application/vnd.jupyter.widget-view+json": {
       "model_id": "530f440d6fea43d1ba78beddc5a530f6",
       "version_major": 2,
       "version_minor": 0
      },
      "text/plain": [
       "  0%|          | 0/226 [00:00<?, ?it/s]"
      ]
     },
     "metadata": {},
     "output_type": "display_data"
    },
    {
     "name": "stdout",
     "output_type": "stream",
     "text": [
      "sm1_new_kap9.json  accuracy  0.9727272727272728\n"
     ]
    }
   ],
   "source": [
    "for file_name in tqdm(file_names[1:]):\n",
    "    ru_eng_cards = get_ru_eng_cards_from_file(file_name)\n",
    "    eval_results = get_eval_results_from_file(file_name)\n",
    "\n",
    "    eval_res = []\n",
    "    eval_acc = []\n",
    "    for card, eval in tqdm(list(zip(ru_eng_cards, eval_results))):\n",
    "        if not check_eval(eval, is_phrase_card(card)):\n",
    "            continue\n",
    "        cur_eval = {}\n",
    "        if is_phrase_card(card):\n",
    "            cur_eval = eval_phrase_card(card)\n",
    "        else:\n",
    "            cur_eval = eval_full_card(card)\n",
    "        \n",
    "        eval_res.append(cur_eval)\n",
    "        eval_acc.append(check_eval(cur_eval, is_phrase_card(card)))\n",
    "    \n",
    "    print(file_name, ' accuracy ', sum(eval_acc) / len(eval_acc))"
   ]
  },
  {
   "cell_type": "code",
   "execution_count": 23,
   "metadata": {},
   "outputs": [],
   "source": [
    "eval_acc_2 = np.array([check_eval(eval, is_phrase_card(card)) for eval, card in list(zip(eval_results, ru_eng_cards))])"
   ]
  },
  {
   "cell_type": "code",
   "execution_count": 24,
   "metadata": {},
   "outputs": [
    {
     "data": {
      "text/plain": [
       "np.float64(1.0)"
      ]
     },
     "execution_count": 24,
     "metadata": {},
     "output_type": "execute_result"
    }
   ],
   "source": [
    "sum(eval_acc_2) / len(eval_acc_2)"
   ]
  },
  {
   "cell_type": "code",
   "execution_count": 29,
   "metadata": {},
   "outputs": [
    {
     "data": {
      "text/plain": [
       "0.9867549668874173"
      ]
     },
     "execution_count": 29,
     "metadata": {},
     "output_type": "execute_result"
    }
   ],
   "source": [
    "sum(eval_acc) / len(eval_acc)"
   ]
  },
  {
   "cell_type": "code",
   "execution_count": 18,
   "metadata": {},
   "outputs": [],
   "source": [
    "import numpy as np\n",
    "np_res = np.array(eval_res)\n",
    "np_acc = np.array(eval_acc)"
   ]
  },
  {
   "cell_type": "code",
   "execution_count": 20,
   "metadata": {},
   "outputs": [
    {
     "data": {
      "text/plain": [
       "array([{'englishSentenceCorrectness': {'isCorrect': True, 'explanation': \"The English sentence 'Hello! How are you doing?' is grammatically correct and natural. It appropriately uses the English word 'How are you?' in context.\", 'suggestedFix': None}, 'wordUsage': {'isCorrect': False, 'explanation': \"While 'How are you doing?' is a common and natural expression in English, the word being checked for accuracy is 'How are you?', which should be used in its original form for this particular evaluation.\", 'suggestedFixSentence': 'Hello! How are you?', 'suggestedFixWord': 'How are you?'}, 'wordTranslationAccuracy': {'isCorrect': True, 'explanation': \"The translation of 'Как ты?' to 'How are you?' is accurate. Both phrases are direct equivalents in meaning.\", 'suggestedFix': None}, 'sentenceTranslationAccuracy': {'isCorrect': False, 'explanation': \"Although 'Hello! How are you doing?' is natural and idiomatic in English, it is not a literal translation of the Russian sentence 'Привет! Как ты?', which directly translates to 'Hello! How are you?'\", 'suggestedFix': 'Hello! How are you?'}, 'id': 1010},\n",
       "       {'englishSentenceCorrectness': {'isCorrect': True, 'explanation': \"The sentence 'Good day, how is your day going?' is grammatically correct and sounds natural in English.\", 'suggestedFix': None}, 'wordUsage': {'isCorrect': False, 'explanation': \"While 'Good day!' is a correct translation, it is not commonly used as a greeting in modern English. 'Good day!' can sound overly formal or outdated.\", 'suggestedFixSentence': 'Hello, how is your day going?', 'suggestedFixWord': 'Hello!'}, 'wordTranslationAccuracy': {'isCorrect': True, 'explanation': \"The translation of 'День добрый!' to 'Good day!' is accurate, even though it may be less commonly used.\", 'suggestedFix': None}, 'sentenceTranslationAccuracy': {'isCorrect': False, 'explanation': \"The sentence 'Good day, how is your day going?' is an accurate translation, but 'Good day!' is not commonly used in contemporary English. A more natural translation would be 'Hello, how is your day going?'\", 'suggestedFix': 'Hello, how is your day going?'}, 'id': 1023},\n",
       "       {'translationAccuracy': {'isCorrect': False, 'explanation': \"The phrase 'Пожалуйста!' in Russian is more commonly used to mean 'Please!' rather than 'You're welcome!'. The translation does not convey the correct meaning and context.\", 'suggestedFix': 'Please!'}, 'id': 1031},\n",
       "       {'englishSentenceCorrectness': {'isCorrect': True, 'explanation': \"The sentence 'That is true.' is grammatically correct and natural in English.\", 'suggestedFix': None}, 'wordUsage': {'isCorrect': False, 'explanation': \"The translation of 'это есть' as 'that is' suggests an implied state of being or existence. However, in the context of the sentence 'Это правда.', 'это' more naturally translates to 'this' or 'it', and 'правда' translates to 'true'.\", 'suggestedFixSentence': 'This is true.', 'suggestedFixWord': 'this is'}, 'wordTranslationAccuracy': {'isCorrect': False, 'explanation': \"The word 'это есть' translates literally to 'this is', which is slightly different from 'that is'. 'Это' is more accurately translated as 'this' or 'it', and 'есть' is used for the verb 'is', which is often implied in English and not necessary to include.\", 'suggestedFix': 'this is'}, 'sentenceTranslationAccuracy': {'isCorrect': False, 'explanation': \"The sentence 'Это правда.' can be more accurately translated to 'This is true.' or 'It is true.' to maintain the natural meaning and flow.\", 'suggestedFix': 'This is true.'}, 'id': 1117},\n",
       "       {'englishSentenceCorrectness': {'isCorrect': False, 'explanation': \"The sentence 'I'm learning colloquial speech.' is grammatically correct but does not sound very natural. In English, it is more common to say 'I'm learning to speak colloquially.' or 'I'm learning everyday spoken language.'\", 'suggestedFix': \"I'm learning to speak colloquially.\"}, 'wordUsage': {'isCorrect': False, 'explanation': \"While 'colloquial speech' is a correct translation of 'разговорный язык', it is not commonly used in everyday English. A more natural alternative would be 'colloquial language' or 'everyday language.'\", 'suggestedFixSentence': \"I'm learning colloquial language.\", 'suggestedFixWord': 'colloquial language'}, 'wordTranslationAccuracy': {'isCorrect': True, 'explanation': \"'Colloquial speech' is a correct and accurate translation of 'разговорный язык'. However, given context and natural usage, 'colloquial language' may be more appropriate.\", 'suggestedFix': 'colloquial language'}, 'sentenceTranslationAccuracy': {'isCorrect': True, 'explanation': \"The sentence 'I'm learning colloquial speech.' is an accurate translation of 'Я учу разговорный язык.', but could be improved for better naturalness and clarity.\", 'suggestedFix': \"I'm learning colloquial language.\"}, 'id': 1122},\n",
       "       {'englishSentenceCorrectness': {'isCorrect': True, 'explanation': \"The English sentence 'We are in a café.' is grammatically correct and natural.\", 'suggestedFix': None}, 'wordUsage': {'isCorrect': False, 'explanation': \"The English word 'we are (informal)' is not an accurate or natural representation of the Russian 'мы есть (неформ.)'. In English, 'we are' itself is informal and there is no need to specify it as informal.\", 'suggestedFixSentence': 'We are in a café.', 'suggestedFixWord': 'we are'}, 'wordTranslationAccuracy': {'isCorrect': False, 'explanation': \"The translation 'we are (informal)' is not correct as it implies a grammatical note that is unnecessary. In English, 'we are' is already informal.\", 'suggestedFix': 'we are'}, 'sentenceTranslationAccuracy': {'isCorrect': True, 'explanation': \"The sentence 'We are in a café.' accurately translates the Russian sentence 'Мы в кафе.'.\", 'suggestedFix': None}, 'id': 1125},\n",
       "       {'englishSentenceCorrectness': {'isCorrect': True, 'explanation': \"The English sentence 'They are here.' is grammatically correct and natural.\", 'suggestedFix': None}, 'wordUsage': {'isCorrect': False, 'explanation': \"The phrase 'они есть' (неформ.) in Russian is commonly translated to 'they are', but 'они есть' is not an informal expression. 'They are here.' properly uses 'they are', but there's a slight mismatch in the formality aspect if we consider the note.\", 'suggestedFixSentence': 'They are here.', 'suggestedFixWord': None}, 'wordTranslationAccuracy': {'isCorrect': False, 'explanation': \"The phrase 'они есть' is an informal way to say 'they are', which does match 'they are' in English. However, 'они есть' can sometimes be understood as simply 'они' depending on the context, as 'есть' is often omitted in informal speech in Russian.\", 'suggestedFix': \"they are (if the context allows, you can also translate it simply as 'they' without 'are')\"}, 'sentenceTranslationAccuracy': {'isCorrect': True, 'explanation': \"The translation of 'Они здесь.' to 'They are here.' is accurate and conveys the same meaning.\", 'suggestedFix': None}, 'id': 1127},\n",
       "       {'englishSentenceCorrectness': {'isCorrect': True, 'explanation': \"The English sentence 'Exercise is important for your health.' is grammatically correct and natural.\", 'suggestedFix': None}, 'wordUsage': {'isCorrect': False, 'explanation': \"The word 'exercise' is correctly used in the context of the sentence. However, the Russian word 'физкультура' can be more accurately translated as 'physical education' or simply 'PE' in some contexts. 'Exercise' refers to physical activity in general, while 'физкультура' often refers to structured physical education, especially in schools.\", 'suggestedFixSentence': 'Physical education is important for your health.', 'suggestedFixWord': 'physical education'}, 'wordTranslationAccuracy': {'isCorrect': False, 'explanation': \"The translation of 'физкультура' as 'exercise' is not entirely accurate. 'Физкультура' is more accurately translated as 'physical education' or 'PE'.\", 'suggestedFix': 'physical education'}, 'sentenceTranslationAccuracy': {'isCorrect': True, 'explanation': \"The translation of the sentence from Russian to English is accurate in conveying the general meaning. However, it could be improved by using 'physical education' instead of 'exercise' for a more precise translation.\", 'suggestedFix': 'Physical education is important for your health.'}, 'id': 1134}],\n",
       "      dtype=object)"
      ]
     },
     "execution_count": 20,
     "metadata": {},
     "output_type": "execute_result"
    }
   ],
   "source": [
    "np_res[np_acc == 0]"
   ]
  },
  {
   "cell_type": "code",
   "execution_count": null,
   "metadata": {},
   "outputs": [],
   "source": []
  }
 ],
 "metadata": {
  "kernelspec": {
   "display_name": "Python 3",
   "language": "python",
   "name": "python3"
  },
  "language_info": {
   "codemirror_mode": {
    "name": "ipython",
    "version": 3
   },
   "file_extension": ".py",
   "mimetype": "text/x-python",
   "name": "python",
   "nbconvert_exporter": "python",
   "pygments_lexer": "ipython3",
   "version": "3.13.0"
  }
 },
 "nbformat": 4,
 "nbformat_minor": 2
}
