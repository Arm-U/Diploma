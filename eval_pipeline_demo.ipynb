{
 "cells": [
  {
   "cell_type": "code",
   "execution_count": 1,
   "id": "ad7eacd1",
   "metadata": {},
   "outputs": [],
   "source": [
    "#!/usr/bin/env python\n",
    "# coding: utf-8\n",
    "import openai\n",
    "from openai import AzureOpenAI, AsyncAzureOpenAI\n",
    "from tqdm.notebook import tqdm\n",
    "import os\n",
    "from dotenv import load_dotenv, find_dotenv\n",
    "import requests\n",
    "import base64\n",
    "\n",
    "\n",
    "# create \".env\" file and put the line with the key in it\n",
    "# OPENAI_API_KEY=\"<get_your_key_from_platform.openai.com\"\n",
    "def get_openai_api_key():\n",
    "    _ = load_dotenv(find_dotenv())\n",
    "\n",
    "    return os.getenv(\"OPENAI_API_KEY\")\n",
    "\n",
    "OPENAI_API_KEY = get_openai_api_key()\n",
    "# client = openai.OpenAI(api_key=OPENAI_API_KEY)  # Replace \"YOUR_API_KEY\" with your actual OpenAI API key\n",
    "\n",
    "azure_endpoint=os.getenv(\"AZURE_OPENAI_ENDPOINT\")\n",
    "client = AzureOpenAI(\n",
    "    api_key=os.getenv(\"AZURE_OPENAI_API_KEY\"),  \n",
    "    api_version=\"2024-07-01-preview\",\n",
    "    azure_endpoint=os.getenv(\"AZURE_OPENAI_ENDPOINT\")\n",
    ")\n",
    "\n",
    "GPT_3_5_TURBO = \"gpt-3.5-turbo\"\n",
    "GPT_4_TURBO_PREVIEW = \"gpt-4-turbo-preview\"\n",
    "GPT_4 = 'gpt-4'\n",
    "GPT_4o = 'gpt-4o'"
   ]
  },
  {
   "cell_type": "code",
   "execution_count": 5,
   "id": "ce53aa92",
   "metadata": {},
   "outputs": [],
   "source": [
    "def generate_english_sentences(words, system_prompt, model=GPT_4o):\n",
    "    word_to_sentence = {}\n",
    "    for word in tqdm(words, desc=\"Generating sentece examplesn\"):\n",
    "        #         prompt = f\"Generate a simple, useful, beginner-friendly sentence in Finnish using the word or phrase: '{word}'. The sentence should be useful and easy to understand for someone learning Finnish.\"\n",
    "        # prompt = f\"Generate a simple, useful, beginner-friendly sentence in Finnish using the word or phrase: '{word}'. The sentence should be useful and easy to understand for someone learning Finnish. Provide only the Finnish sentence, without any translation or additional information.\"\n",
    "        user_prompt = f'''Generate an idiomatic, simple, useful sentence in English containing this word or phrase:\n",
    "        \n",
    "        === \n",
    "        '{word}'\n",
    "        ===\n",
    "         \n",
    "        The sentence should be useful and easy to understand for someone who just started learning English. Provide only the English sentence, without any translation or additional information.\n",
    "        '''\n",
    "\n",
    "        response = client.chat.completions.create(\n",
    "          model=model,\n",
    "          messages=[\n",
    "            {\"role\": \"system\", \"content\": system_prompt},\n",
    "            {\"role\": \"user\", \"content\": user_prompt}\n",
    "          ]\n",
    "        )\n",
    "        \n",
    "        sentence = response.choices[0].message.content if response.choices else 'No response generated.'\n",
    "\n",
    "        word_to_sentence[word] = sentence.strip()\n",
    "    return word_to_sentence\n"
   ]
  },
  {
   "cell_type": "code",
   "execution_count": 6,
   "id": "734bb67f",
   "metadata": {},
   "outputs": [
    {
     "data": {
      "application/vnd.jupyter.widget-view+json": {
       "model_id": "2506b2c72ad648279272dffd94fc0fab",
       "version_major": 2,
       "version_minor": 0
      },
      "text/plain": [
       "Generating sentece examplesn:   0%|          | 0/1 [00:00<?, ?it/s]"
      ]
     },
     "metadata": {},
     "output_type": "display_data"
    },
    {
     "data": {
      "text/plain": [
       "{'Apple': 'An apple a day keeps the doctor away.'}"
      ]
     },
     "execution_count": 6,
     "metadata": {},
     "output_type": "execute_result"
    }
   ],
   "source": [
    "system_prompt = '''You are generator of simple and usefull sentences.'''\n",
    "generate_english_sentences([\"Apple\"], system_prompt, model=GPT_4o)"
   ]
  },
  {
   "cell_type": "code",
   "execution_count": 7,
   "id": "61a40090",
   "metadata": {},
   "outputs": [],
   "source": [
    "def generate_russian_sentences(words, system_prompt, model=GPT_4o):\n",
    "    word_to_sentence = {}\n",
    "    for word in tqdm(words, desc=\"Generating sentece examplesn\"):\n",
    "        #         prompt = f\"Generate a simple, useful, beginner-friendly sentence in Finnish using the word or phrase: '{word}'. The sentence should be useful and easy to understand for someone learning Finnish.\"\n",
    "        # prompt = f\"Generate a simple, useful, beginner-friendly sentence in Finnish using the word or phrase: '{word}'. The sentence should be useful and easy to understand for someone learning Finnish. Provide only the Finnish sentence, without any translation or additional information.\"\n",
    "        user_prompt = f'''Generate an idiomatic, simple, useful sentence in Russian containing this word or phrase:\n",
    "        \n",
    "        === \n",
    "        '{word}'\n",
    "        ===\n",
    "         \n",
    "        The sentence should be useful and easy to understand for someone who just started learning Russian. Provide only the Russian sentence, without any translation or additional information.\n",
    "        '''\n",
    "\n",
    "        response = client.chat.completions.create(\n",
    "          model=model,\n",
    "          messages=[\n",
    "            {\"role\": \"system\", \"content\": system_prompt},\n",
    "            {\"role\": \"user\", \"content\": user_prompt}\n",
    "          ]\n",
    "        )\n",
    "\n",
    "        sentence = response.choices[0].message.content if response.choices else 'No response generated.'\n",
    "\n",
    "        word_to_sentence[word] = sentence.strip()\n",
    "    return word_to_sentence\n"
   ]
  },
  {
   "cell_type": "code",
   "execution_count": 8,
   "id": "c01cf4fe",
   "metadata": {},
   "outputs": [
    {
     "data": {
      "application/vnd.jupyter.widget-view+json": {
       "model_id": "b5c971df964d43689e8c95ee7e7294fe",
       "version_major": 2,
       "version_minor": 0
      },
      "text/plain": [
       "Generating sentece examplesn:   0%|          | 0/1 [00:00<?, ?it/s]"
      ]
     },
     "metadata": {},
     "output_type": "display_data"
    },
    {
     "data": {
      "text/plain": [
       "{'Привет': 'Привет, как дела?'}"
      ]
     },
     "execution_count": 8,
     "metadata": {},
     "output_type": "execute_result"
    }
   ],
   "source": [
    "system_prompt = '''You are Russian generator of simple and usefull sentences on Russian language.'''\n",
    "generate_russian_sentences([\"Привет\"], system_prompt, model=GPT_4o)"
   ]
  },
  {
   "cell_type": "code",
   "execution_count": 9,
   "id": "afcf6a95",
   "metadata": {},
   "outputs": [],
   "source": [
    "def generate_russian_words(system_prompt, n=1000, model=GPT_4o):\n",
    "    user_prompt = f'''Generate {n} basic, useful Russian words or phrases for beginners. Provide only generated words or phrases using for separator only comma'''\n",
    "\n",
    "    response = client.chat.completions.create(\n",
    "      model=model,\n",
    "      messages=[\n",
    "        {\"role\": \"system\", \"content\": system_prompt},\n",
    "        {\"role\": \"user\", \"content\": user_prompt}\n",
    "      ]\n",
    "    )\n",
    "\n",
    "    sentence = response.choices[0].message.content if response.choices else 'No response generated.'\n",
    "\n",
    "    return [word.strip() for word in sentence.split(',')]\n"
   ]
  },
  {
   "cell_type": "code",
   "execution_count": 32,
   "id": "969b46c6",
   "metadata": {},
   "outputs": [],
   "source": [
    "system_prompt = '''You are the Russian dictionary with useful words and phrases for beginners.'''\n",
    "russian_basic_words = generate_russian_words(system_prompt, model=GPT_4o)"
   ]
  },
  {
   "cell_type": "code",
   "execution_count": 41,
   "id": "e030620f",
   "metadata": {},
   "outputs": [
    {
     "data": {
      "application/vnd.jupyter.widget-view+json": {
       "model_id": "ddfcfe1ba264438fa0d29b07c38b6c7d",
       "version_major": 2,
       "version_minor": 0
      },
      "text/plain": [
       "Generating sentece examplesn:   0%|          | 0/100 [00:00<?, ?it/s]"
      ]
     },
     "metadata": {},
     "output_type": "display_data"
    }
   ],
   "source": [
    "system_prompt = '''You are Russian generator of simple and usefull sentences on Russian language.'''\n",
    "russian_word_to_sentence = generate_russian_sentences(russian_basic_words[:100], system_prompt, model=GPT_4o)"
   ]
  },
  {
   "cell_type": "code",
   "execution_count": 42,
   "id": "470f3898",
   "metadata": {
    "scrolled": true
   },
   "outputs": [
    {
     "data": {
      "text/plain": [
       "{'здравствуйте': 'Здравствуйте, как вас зовут?',\n",
       " 'да': 'Да, я понимаю.',\n",
       " 'нет': 'Извините, но у меня нет времени.',\n",
       " 'пожалуйста': 'Пожалуйста, передайте мне соль.',\n",
       " 'спасибо': 'Спасибо за помощь!',\n",
       " 'извините': 'Извините, вы не подскажете дорогу?',\n",
       " 'доброе утро': 'Доброе утро, как вы себя чувствуете сегодня?',\n",
       " 'добрый день': 'Добрый день, как ваши дела?',\n",
       " 'добрый вечер': 'Добрый вечер, как у вас дела?',\n",
       " 'спокойной ночи': 'Спокойной ночи, увидимся завтра!',\n",
       " 'как дела': 'Как дела? У тебя всё хорошо?',\n",
       " 'хорошо': 'Всё будет хорошо.',\n",
       " 'плохо': 'Мне стало плохо.',\n",
       " 'нормально': 'У меня всё нормально.',\n",
       " 'отлично': 'Ты сделал это задание отлично!',\n",
       " 'привет': 'Привет, как дела?',\n",
       " 'пока': 'Пока, увидимся завтра!',\n",
       " 'до свидания': 'До свидания, до завтра!',\n",
       " 'до встречи': 'До встречи на следующей неделе.',\n",
       " 'до завтра': 'До завтра!',\n",
       " 'меня зовут': 'Меня зовут Алексей, а тебя?',\n",
       " 'как вас зовут': 'Как вас зовут, если не секрет?',\n",
       " 'очень приятно': 'Очень приятно познакомиться!',\n",
       " 'вы говорите по-английски': 'Извините, вы говорите по-английски?',\n",
       " 'я не понимаю': 'Я не понимаю, что вы говорите.',\n",
       " 'повторите': 'Пожалуйста, повторите медленно.',\n",
       " 'медленнее': 'Пожалуйста, говорите медленнее.',\n",
       " 'сколько это стоит': 'Скажите, пожалуйста, сколько это стоит?',\n",
       " 'где находится': 'Где находится ближайшая аптека?',\n",
       " 'пойдёмте': 'Пойдёмте в магазин за продуктами.',\n",
       " 'я хочу': 'Я хочу пить.',\n",
       " 'я могу': 'Я могу помочь тебе с этим.',\n",
       " 'я не могу': 'Извините, я не могу помочь вам с этим.',\n",
       " 'можно': 'Можно мне взять это?',\n",
       " 'нельзя': 'Здесь фотографировать нельзя.',\n",
       " 'мне нужно': 'Мне нужно купить хлеб.',\n",
       " 'я люблю': 'Я люблю читать книги.',\n",
       " 'я не люблю': 'Я не люблю ждать долго.',\n",
       " 'я голоден': 'Я голоден, давай поедим что-нибудь.',\n",
       " 'я жажду': 'Я жажду воды после быстрого бега.',\n",
       " 'мне нужно помочь': 'Мне нужно помочь бабушке с покупками.',\n",
       " 'вода': 'Пожалуйста, налей мне стакан воды.',\n",
       " 'еда': 'Еда на столе готова.',\n",
       " 'завтрак': 'Я люблю завтракать по утрам.',\n",
       " 'обед': 'Я готовлю обед для всей семьи.',\n",
       " 'ужин': 'Я приготовил ужин для всей семьи.',\n",
       " 'напиток': 'Этот напиток очень вкусный.',\n",
       " 'хлеб': 'Я хочу купить свежий хлеб.',\n",
       " 'молоко': 'Могу ли я купить молоко в этом магазине?',\n",
       " 'мясо': 'Мне нравится жареное мясо.',\n",
       " 'овощи': 'Ешь больше овощей, это полезно для здоровья.',\n",
       " 'фрукты': 'Есть ли у вас свежие фрукты?',\n",
       " 'соль': 'Не забудь добавить соль в суп.',\n",
       " 'сахар': 'Я не пью чай с сахаром.',\n",
       " 'чай': 'Подай, пожалуйста, чашку чая.',\n",
       " 'кофе': 'Я хочу выпить кофе.',\n",
       " 'суп': 'Мама готовит вкусный суп на ужин.',\n",
       " 'рыба': 'Я поймал большую рыбу на озере.',\n",
       " 'курица': 'Курица бегает по двору.',\n",
       " 'сок': 'Можно мне стакан сока, пожалуйста?',\n",
       " 'вино': 'Это вино очень вкусное.',\n",
       " 'пиво': 'Я хочу заказать пиво.',\n",
       " 'стакан': 'Пожалуйста, налей мне воды в стакан.',\n",
       " 'чашка': 'Я хочу пить чай из этой чашки.',\n",
       " 'тарелка': 'Я поставил суп на новую тарелку.',\n",
       " 'нож': 'Пожалуйста, передай мне нож.',\n",
       " 'вилка': 'Дай мне, пожалуйста, вилку.',\n",
       " 'ложка': 'У меня есть деревянная ложка.',\n",
       " 'салфетка': 'Можно мне, пожалуйста, салфетку?',\n",
       " 'гостиница': 'Где находится ближайшая гостиница?',\n",
       " 'номер': 'Какой у вас номер комнаты?',\n",
       " 'кровать': 'Я люблю читать книги, лежа на кровати.',\n",
       " 'ванная': 'Я убираю комнату, а ты уберись в ванной.',\n",
       " 'душ': 'После тренировки я всегда принимаю душ.',\n",
       " 'туалет': 'Где находится туалет?',\n",
       " 'телевизор': 'Мой брат смотрит телевизор каждый вечер.',\n",
       " 'окно': 'Открой, пожалуйста, окно.',\n",
       " 'дверь': 'Пожалуйста, закрой дверь.',\n",
       " 'балкон': 'Вечером мы часто сидим на балконе.',\n",
       " 'ключ': 'Ключ от квартиры лежит на столе.',\n",
       " 'ресторан': 'Мы пойдём в ресторан на ужин.',\n",
       " 'меню': 'Пожалуйста, принесите меню.',\n",
       " 'официант': 'Официант принес меню и подождал, пока я выберу блюдо.',\n",
       " 'супермаркет': 'Я иду в супермаркет за продуктами.',\n",
       " 'магазин': 'Я иду в магазин за продуктами.',\n",
       " 'аптека': 'Я купил лекарство в аптеке.',\n",
       " 'больница': 'Я иду в больницу на проверку.',\n",
       " 'полиция': 'Полиция быстро приехала на место происшествия.',\n",
       " 'метро': 'Я каждый день езжу на работу на метро.',\n",
       " 'автобус': 'Автобус приехал на остановку.',\n",
       " 'такси': 'Я заказал такси на вечер.',\n",
       " 'билет': 'Где можно купить билет на концерт?',\n",
       " 'поезд': 'Поезд прибудет на станцию через пять минут.',\n",
       " 'аэропорт': 'Где находится ближайший аэропорт?',\n",
       " 'самолёт': 'Самолёт прилетает в три часа.',\n",
       " 'вокзал': 'Я жду тебя на вокзале.',\n",
       " 'улица': 'Я живу на улице Ленина.'}"
      ]
     },
     "execution_count": 42,
     "metadata": {},
     "output_type": "execute_result"
    }
   ],
   "source": [
    "russian_word_to_sentence"
   ]
  },
  {
   "cell_type": "code",
   "execution_count": 43,
   "id": "4d114719",
   "metadata": {},
   "outputs": [
    {
     "data": {
      "application/vnd.jupyter.widget-view+json": {
       "model_id": "7b17eb1c0fdb4bada4c6400b5f47ccca",
       "version_major": 2,
       "version_minor": 0
      },
      "text/plain": [
       "Generating sentece examplesn:   0%|          | 0/10 [00:00<?, ?it/s]"
      ]
     },
     "metadata": {},
     "output_type": "display_data"
    }
   ],
   "source": [
    "system_prompt = '''You are Russian generator of simple and usefull sentences on Russian language.'''\n",
    "little_russian_word_to_sentence = generate_russian_sentences(russian_basic_words[:10], system_prompt, model=GPT_4o)"
   ]
  },
  {
   "cell_type": "code",
   "execution_count": 10,
   "id": "e1b4f09c",
   "metadata": {},
   "outputs": [],
   "source": [
    "def translate_russian_to_english(word_to_sentence, system_prompt, model=GPT_4o):\n",
    "    cards = []\n",
    "    for word, sentence in tqdm(word_to_sentence.items(), desc=\"Generating sentece examplesn\"):\n",
    "        #         prompt = f\"Generate a simple, useful, beginner-friendly sentence in Finnish using the word or phrase: '{word}'. The sentence should be useful and easy to understand for someone learning Finnish.\"\n",
    "        # prompt = f\"Generate a simple, useful, beginner-friendly sentence in Finnish using the word or phrase: '{word}'. The sentence should be useful and easy to understand for someone learning Finnish. Provide only the Finnish sentence, without any translation or additional information.\"\n",
    "        #user_prompt = f'''You will get the pair of word or phrase and sentence which contains this word or phrase on Russian then translate it into English. You should translate the word or phrase then translate given sentence into English language.\n",
    "        #\n",
    "        #=== \n",
    "        #Given word or phrase: '{word}'\n",
    "        #===\n",
    "        #Given sentence: '{sentence}'\n",
    "        #===\n",
    "        # \n",
    "        #The english translated sentence should contain english translated word. Return only english translated word and english translated sentence using comma as seperator and nothing else.\n",
    "        #'''\n",
    "        word_prompt = f\"\"\"Translate given word or phrase into English.\n",
    "        ===\n",
    "        Given word: '{word}'\n",
    "        ===\n",
    "        Return only translated word or phrase and nothing else.\n",
    "        \"\"\"\n",
    "\n",
    "        response = client.chat.completions.create(\n",
    "          model=model,\n",
    "          messages=[\n",
    "            {\"role\": \"system\", \"content\": system_prompt},\n",
    "            {\"role\": \"user\", \"content\": word_prompt}\n",
    "          ]\n",
    "        )\n",
    "\n",
    "        tr_word = response.choices[0].message.content if response.choices else 'No response generated.'\n",
    "        \n",
    "        sentence_prompt = f\"\"\"Translate given sentence into English. Make sure it contains this word {tr_word}\n",
    "        ===\n",
    "        Given sentence: '{sentence}'\n",
    "        ===\n",
    "        Return only translated word or phrase and nothing else. Make sentence grammaticly correct and idiomatic.\n",
    "        \"\"\"\n",
    "\n",
    "        response = client.chat.completions.create(\n",
    "          model=model,\n",
    "          messages=[\n",
    "            {\"role\": \"system\", \"content\": system_prompt},\n",
    "            {\"role\": \"user\", \"content\": sentence_prompt}\n",
    "          ]\n",
    "        )\n",
    "\n",
    "        tr_sentence = response.choices[0].message.content if response.choices else 'No response generated.'\n",
    "        \n",
    "        card = {}\n",
    "        card[\"wordFirstLang\"] = word\n",
    "        card[\"sentenceFirstLang\"] = sentence\n",
    "        card[\"wordSecondLang\"] = tr_word.strip()\n",
    "        card[\"sentenceSecondLang\"] = tr_sentence.strip()\n",
    "        cards.append(card)\n",
    "        \n",
    "    return cards\n"
   ]
  },
  {
   "cell_type": "code",
   "execution_count": 56,
   "id": "e8fb0c3a",
   "metadata": {},
   "outputs": [
    {
     "data": {
      "application/vnd.jupyter.widget-view+json": {
       "model_id": "5dcf44d63ab14e3ebb3c8279d3b2cf7d",
       "version_major": 2,
       "version_minor": 0
      },
      "text/plain": [
       "Generating sentece examplesn:   0%|          | 0/10 [00:00<?, ?it/s]"
      ]
     },
     "metadata": {},
     "output_type": "display_data"
    }
   ],
   "source": [
    "system_prompt = '''You are the Russian to English translater for beginners. Translate given (word, sentence) pair from Russian to English'''\n",
    "little_cards = translate_russian_to_english(little_russian_word_to_sentence, system_prompt, model=GPT_4o)"
   ]
  },
  {
   "cell_type": "code",
   "execution_count": 57,
   "id": "b3095731",
   "metadata": {},
   "outputs": [
    {
     "data": {
      "text/plain": [
       "[{'wordFirstLang': 'здравствуйте',\n",
       "  'sentenceFirstLang': 'Здравствуйте, как у вас дела?',\n",
       "  'wordSecondLang': 'hello',\n",
       "  'sentenceSecondLang': 'Hello, how are you?'},\n",
       " {'wordFirstLang': 'да',\n",
       "  'sentenceFirstLang': 'Да, я тебя понимаю.',\n",
       "  'wordSecondLang': 'yes',\n",
       "  'sentenceSecondLang': 'Yes, I understand you.'},\n",
       " {'wordFirstLang': 'нет',\n",
       "  'sentenceFirstLang': 'Извините, но у нас нет хлеба.',\n",
       "  'wordSecondLang': 'no',\n",
       "  'sentenceSecondLang': 'Sorry, but we have no bread.'},\n",
       " {'wordFirstLang': 'пожалуйста',\n",
       "  'sentenceFirstLang': 'Принесите мне стакан воды, пожалуйста.',\n",
       "  'wordSecondLang': 'please',\n",
       "  'sentenceSecondLang': 'Bring me a glass of water, please.'},\n",
       " {'wordFirstLang': 'спасибо',\n",
       "  'sentenceFirstLang': 'Спасибо за помощь.',\n",
       "  'wordSecondLang': 'thank you',\n",
       "  'sentenceSecondLang': 'Thank you for your help.'},\n",
       " {'wordFirstLang': 'извините',\n",
       "  'sentenceFirstLang': 'Извините, можно мне пройти?',\n",
       "  'wordSecondLang': 'Sorry',\n",
       "  'sentenceSecondLang': 'Sorry, can I pass?'},\n",
       " {'wordFirstLang': 'доброе утро',\n",
       "  'sentenceFirstLang': 'Доброе утро, как ты себя чувствуешь сегодня?',\n",
       "  'wordSecondLang': 'good morning',\n",
       "  'sentenceSecondLang': 'Good morning, how are you feeling today?'},\n",
       " {'wordFirstLang': 'добрый день',\n",
       "  'sentenceFirstLang': 'Добрый день, как ваши дела?',\n",
       "  'wordSecondLang': 'good afternoon',\n",
       "  'sentenceSecondLang': 'Good afternoon, how are you?'},\n",
       " {'wordFirstLang': 'добрый вечер',\n",
       "  'sentenceFirstLang': 'Добрый вечер, как у вас дела?',\n",
       "  'wordSecondLang': 'good evening',\n",
       "  'sentenceSecondLang': 'Good evening, how are you?'},\n",
       " {'wordFirstLang': 'спокойной ночи',\n",
       "  'sentenceFirstLang': 'Спокойной ночи и сладких снов!',\n",
       "  'wordSecondLang': 'Good night',\n",
       "  'sentenceSecondLang': 'Good night and sweet dreams!'}]"
      ]
     },
     "execution_count": 57,
     "metadata": {},
     "output_type": "execute_result"
    }
   ],
   "source": [
    "little_cards"
   ]
  },
  {
   "cell_type": "code",
   "execution_count": 11,
   "id": "2565c0d3",
   "metadata": {},
   "outputs": [],
   "source": [
    "def eval_cards(cards, first_lang='Russian', second_lang='Finnish', model=GPT_4o):\n",
    "    successfull_translations = []\n",
    "    for card in tqdm(cards, desc=\"Generating sentece examplesn\"):\n",
    "        word_first_lang = card[\"wordFirstLang\"]\n",
    "        sentence_first_lang = card[\"sentenceFirstLang\"]\n",
    "        word_second_lang = card[\"wordSecondLang\"]\n",
    "        sentence_second_lang = card[\"sentenceSecondLang\"]\n",
    "        \n",
    "        word_translation_check = f\"\"\"Do this {first_lang} word or phrase '{word_first_lang}' is translation of this {second_lang} word or phrase '{word_second_lang}'.\n",
    "        Provide only 1 if yes, 0 else.\n",
    "        \"\"\"\n",
    "\n",
    "        response = client.chat.completions.create(\n",
    "          model=model,\n",
    "          messages=[\n",
    "            {\"role\": \"user\", \"content\": word_translation_check}\n",
    "          ]\n",
    "        )\n",
    "\n",
    "        is_word_translation_correct = response.choices[0].message.content if response.choices else 'No response generated.'\n",
    "        \n",
    "        sentence_translation_check = f\"\"\"Do this {first_lang} sentence '{sentence_first_lang}' is translation of this {second_lang} sentence '{sentence_second_lang}'.\n",
    "        Provide only 1 if yes, 0 else.\n",
    "        \"\"\"\n",
    "\n",
    "        response = client.chat.completions.create(\n",
    "          model=model,\n",
    "          messages=[\n",
    "            {\"role\": \"user\", \"content\": sentence_translation_check}\n",
    "          ]\n",
    "        )\n",
    "\n",
    "        is_sentence_translation_correct = response.choices[0].message.content if response.choices else 'No response generated.'\n",
    "        \n",
    "        first_word_exist_check = f\"\"\"Do this {first_lang} word or phrase '{word_first_lang}' contains in this sentence '{sentence_first_lang}'?\n",
    "        Provide only 1 if yes, 0 else.\n",
    "        \"\"\"\n",
    "\n",
    "        response = client.chat.completions.create(\n",
    "          model=model,\n",
    "          messages=[\n",
    "            {\"role\": \"user\", \"content\": first_word_exist_check}\n",
    "          ]\n",
    "        )\n",
    "        \n",
    "        is_first_word_exists = response.choices[0].message.content if response.choices else 'No response generated.'\n",
    "        \n",
    "        second_word_exist_check = f\"\"\"Do this {second_lang} word or phrase '{word_second_lang}' contains in this sentence '{sentence_second_lang}'?\n",
    "        Provide only 1 if yes, 0 else.\n",
    "        \"\"\"\n",
    "\n",
    "        response = client.chat.completions.create(\n",
    "          model=model,\n",
    "          messages=[\n",
    "            {\"role\": \"user\", \"content\": second_word_exist_check}\n",
    "          ]\n",
    "        )\n",
    "        \n",
    "        is_second_word_exists = response.choices[0].message.content if response.choices else 'No response generated.'\n",
    "\n",
    "        #append succesfull card\n",
    "        successfull_translations.append(int(is_word_translation_correct) * int(is_sentence_translation_correct) * int(is_first_word_exists) * int(is_second_word_exists))\n",
    "    return sum(successfull_translations) / len(successfull_translations)\n"
   ]
  },
  {
   "cell_type": "code",
   "execution_count": 64,
   "id": "ed6241ef",
   "metadata": {},
   "outputs": [
    {
     "data": {
      "application/vnd.jupyter.widget-view+json": {
       "model_id": "6e8ae4d795da456db0ec20f5103250eb",
       "version_major": 2,
       "version_minor": 0
      },
      "text/plain": [
       "Generating sentece examplesn:   0%|          | 0/10 [00:00<?, ?it/s]"
      ]
     },
     "metadata": {},
     "output_type": "display_data"
    },
    {
     "data": {
      "text/plain": [
       "1.0"
      ]
     },
     "execution_count": 64,
     "metadata": {},
     "output_type": "execute_result"
    }
   ],
   "source": [
    "eval_cards(little_cards)"
   ]
  },
  {
   "cell_type": "code",
   "execution_count": 12,
   "id": "86b8247e",
   "metadata": {},
   "outputs": [],
   "source": [
    "import json\n",
    "\n",
    "\n",
    "FOLDER_WITH_JSON = '../../data/russian-finnish/cards/curated_platform_cards/'\n",
    "def load_cards_from_file(file_name):\n",
    "    data = []\n",
    "    file_path = FOLDER_WITH_JSON + file_name\n",
    "    with open(file_path, 'r', encoding='utf-8') as file:\n",
    "        data = json.load(file)\n",
    "    return data"
   ]
  },
  {
   "cell_type": "code",
   "execution_count": 13,
   "id": "e9bb81c4",
   "metadata": {},
   "outputs": [],
   "source": [
    "file_name = 'sm1_new_kap1.json'\n",
    "cards = load_cards_from_file(file_name)"
   ]
  },
  {
   "cell_type": "code",
   "execution_count": 78,
   "id": "c99fd83e",
   "metadata": {},
   "outputs": [
    {
     "data": {
      "application/vnd.jupyter.widget-view+json": {
       "model_id": "1e31ee712c384381af9c386bdebb9f26",
       "version_major": 2,
       "version_minor": 0
      },
      "text/plain": [
       "Generating sentece examplesn:   0%|          | 0/151 [00:00<?, ?it/s]"
      ]
     },
     "metadata": {},
     "output_type": "display_data"
    },
    {
     "data": {
      "text/plain": [
       "0.2847682119205298"
      ]
     },
     "execution_count": 78,
     "metadata": {},
     "output_type": "execute_result"
    }
   ],
   "source": [
    "eval_cards(cards, first_lang='Russian', second_lang='Finnish')"
   ]
  },
  {
   "cell_type": "code",
   "execution_count": 14,
   "id": "b0258658",
   "metadata": {},
   "outputs": [],
   "source": [
    "def evaluate_cards_2(cards, first_lang='Russian', second_lang='Finnish', model=GPT_4o):\n",
    "    # Construct the prompt\n",
    "    results = []\n",
    "    for card in tqdm(cards):\n",
    "        system_prompt = f\"\"\"\n",
    "        You are a language expert proficient in both {first_lang} and {second_lang}.\"\"\"\n",
    "\n",
    "        user_prompt = f\"\"\"\n",
    "        You are given a flashcard containing a word and a sentence in {first_lang}, along with its translation and \n",
    "        a sentence in {second_lang}. Your task is to evaluate the correctness of the flashcard. Here’s what you need to check:\n",
    "\n",
    "        1. Whether the sentence in {first_lang} is grammatically correct and natural.\n",
    "        2. Whether the sentence in {second_lang} is grammatically correct and natural.\n",
    "        3. Whether the translation from {second_lang} to {first_lang} is accurate.\n",
    "        4. Whether the word in {first_lang} occurs in some form in the {first_lang} sentence.\n",
    "        5. Whether the word in {second_lang} occurs in some form in the {second_lang} sentence.\n",
    "\n",
    "        If both sentence in {first_lang} and {second_lang} are missing it is ok, just check the translation to {second_lang}. \n",
    "\n",
    "        Check that the word in {first_lang} appear in the sentence in some form, diregarding the case and form of the word, or the order of the words, \n",
    "        if the words in {first_lang} consists of several words. For example if the word is 'в то же время' and in sentence it's 'в одно и то же время', it's ok. Or if 'когда опять' in the words and 'когда моя сестра опять' is in the sentence. \n",
    "        If there are several synonyms in {first_lang} word field, then if one of them appears in the sentences in some form it's ok. \n",
    "        For example if {first_lang} word is 'выносить, красть' and in sentence 'украсть' is used it's ok.\n",
    "\n",
    "        If the word doesn't appear in some form, suggest using synonyms or related terms in the \n",
    "        translation to ensure the sentence remains natural and accurate. You can change either the sentence translation \n",
    "        or the word translation. For example, if the word is \"досуг,\" it can be translated as \"досуг\" or \"свободное время\". So if the word \"свободное время\" \n",
    "        is in some form used in the sentence and it sounds natural, suggested fix can be to change the word translation to \"досуг, свободное время\", \n",
    "        keeping the sentence intact\n",
    "\n",
    "\n",
    "\n",
    "\n",
    "        In the suggestedFix fields don't provide explanations or instructions, just provide the final corrected string.\n",
    "        If it's better to fix word, not sentence, return null for suggestedFixSentence.\n",
    "\n",
    "\n",
    "        Provide a detailed evaluation for each point and suggest fixes where necessary.\n",
    "\n",
    "        Here is the flashcard:\n",
    "\n",
    "        Word in {first_lang}: {card['wordFirstLang']}\n",
    "        Sentence in {first_lang}: {card['sentenceFirstLang']}\n",
    "        Word in {second_lang}: {card['wordSecondLang']}\n",
    "        Sentence in {second_lang}: {card['sentenceSecondLang']}\n",
    "\n",
    "        Respond in JSON format with the following structure:\n",
    "\n",
    "        {{\n",
    "          \"{first_lang}Sentence\": {{\n",
    "            \"isCorrect\": true/false,\n",
    "            \"explanation\": \"Detailed explanation if there is an issue or why it's correct\",\n",
    "            \"suggestedFix\": \"Suggested correction if there is an issue\"\n",
    "          }},\n",
    "          \"{second_lang}Sentence\": {{\n",
    "            \"isCorrect\": true/false,\n",
    "            \"explanation\": \"Detailed explanation if there is an issue or why it's correct\",\n",
    "            \"suggestedFix\": \"Suggested correction if there is an issue\"\n",
    "          }},\n",
    "          \"translationAccuracy\": {{\n",
    "            \"isCorrect\": true/false,\n",
    "            \"explanation\": \"Detailed explanation if there is an issue or why it's correct\",\n",
    "            \"suggestedFix\": \"Suggested correction if there is an issue\"\n",
    "          }},\n",
    "          \"{first_lang}WordUsage\": {{\n",
    "            \"isCorrect\": true/false,\n",
    "            \"explanation\": \"Detailed explanation if there is an issue or why it's correct\",\n",
    "            \"suggestedFixSentence\": \"Suggested correction to the sentence if there is an issue\"\n",
    "            \"suggestedFixWord\": \"Suggested correction to the word if there is an issue\"\n",
    "          }},\n",
    "          \"{second_lang}WordUsage\": {{\n",
    "            \"isCorrect\": true/false,\n",
    "            \"explanation\": \"Detailed explanation if there is an issue or why it's correct\",\n",
    "            \"suggestedFix\": \"Suggested correction if there is an issue\"\n",
    "          }}\n",
    "        }}\n",
    "\n",
    "\n",
    "        If both sentence in {first_lang} and {second_lang} are missing return only translationAccuracy block.\n",
    "        \"\"\"\n",
    "\n",
    "        response = client.chat.completions.create(\n",
    "          model=\"gpt-4o\",\n",
    "          response_format={ \"type\": \"json_object\" },\n",
    "          messages=[\n",
    "            {\"role\": \"system\", \"content\": system_prompt},\n",
    "            {\"role\": \"user\", \"content\": user_prompt}\n",
    "          ]\n",
    "        )\n",
    "        \n",
    "        results.append(json.loads(response.choices[0].message.content.strip()))\n",
    "    return results"
   ]
  },
  {
   "cell_type": "code",
   "execution_count": 92,
   "id": "d9e644bc",
   "metadata": {},
   "outputs": [
    {
     "data": {
      "application/vnd.jupyter.widget-view+json": {
       "model_id": "7ffee7eb91b844069b0f9db6dea5106c",
       "version_major": 2,
       "version_minor": 0
      },
      "text/plain": [
       "  0%|          | 0/151 [00:00<?, ?it/s]"
      ]
     },
     "metadata": {},
     "output_type": "display_data"
    }
   ],
   "source": [
    "results = evaluate_cards_2(cards, first_lang='Russian', second_lang='Finnish')"
   ]
  },
  {
   "cell_type": "code",
   "execution_count": 93,
   "id": "dfdea4a6",
   "metadata": {},
   "outputs": [
    {
     "data": {
      "text/plain": [
       "{'RussianSentence': {'isCorrect': True,\n",
       "  'explanation': \"The Russian sentence 'Привет, как дела?' is grammatically correct and sounds natural.\",\n",
       "  'suggestedFix': None},\n",
       " 'FinnishSentence': {'isCorrect': True,\n",
       "  'explanation': \"The Finnish sentence 'Hei, mitä kuuluu?' is grammatically correct and sounds natural.\",\n",
       "  'suggestedFix': None},\n",
       " 'translationAccuracy': {'isCorrect': True,\n",
       "  'explanation': \"The translation 'Hei, mitä kuuluu?' accurately translates to 'Привет, как дела?' in Russian.\",\n",
       "  'suggestedFix': None},\n",
       " 'RussianWordUsage': {'isCorrect': True,\n",
       "  'explanation': \"The word 'Привет!' appears in the sentence 'Привет, как дела?' in an appropriate form.\",\n",
       "  'suggestedFixSentence': None,\n",
       "  'suggestedFixWord': None},\n",
       " 'FinnishWordUsage': {'isCorrect': True,\n",
       "  'explanation': \"The word 'Hei!' appears in the sentence 'Hei, mitä kuuluu?' in an appropriate form.\",\n",
       "  'suggestedFix': None}}"
      ]
     },
     "execution_count": 93,
     "metadata": {},
     "output_type": "execute_result"
    }
   ],
   "source": [
    "results[0]"
   ]
  },
  {
   "cell_type": "code",
   "execution_count": 95,
   "id": "324576dd",
   "metadata": {},
   "outputs": [
    {
     "data": {
      "text/plain": [
       "0.9933774834437086"
      ]
     },
     "execution_count": 95,
     "metadata": {},
     "output_type": "execute_result"
    }
   ],
   "source": [
    "sum([res['translationAccuracy']['isCorrect'] for res in results]) / len([res['translationAccuracy']['isCorrect'] for res in results])"
   ]
  },
  {
   "cell_type": "code",
   "execution_count": 17,
   "id": "117dd0f8",
   "metadata": {},
   "outputs": [],
   "source": [
    "def translate_first_lang_to_second_lang(initial_cards, first_lang='Russian', second_lang='Finnish', model=GPT_4o):\n",
    "    final_cards = []\n",
    "    \n",
    "    for card in tqdm(initial_cards):\n",
    "        #         prompt = f\"Generate a simple, useful, beginner-friendly sentence in Finnish using the word or phrase: '{word}'. The sentence should be useful and easy to understand for someone learning Finnish.\"\n",
    "        # prompt = f\"Generate a simple, useful, beginner-friendly sentence in Finnish using the word or phrase: '{word}'. The sentence should be useful and easy to understand for someone learning Finnish. Provide only the Finnish sentence, without any translation or additional information.\"\n",
    "        #user_prompt = f'''You will get the pair of word or phrase and sentence which contains this word or phrase on Russian then translate it into English. You should translate the word or phrase then translate given sentence into English language.\n",
    "        #\n",
    "        #=== \n",
    "        #Given word or phrase: '{word}'\n",
    "        #===\n",
    "        #Given sentence: '{sentence}'\n",
    "        #===\n",
    "        # \n",
    "        #The english translated sentence should contain english translated word. Return only english translated word and english translated sentence using comma as seperator and nothing else.\n",
    "        #'''\n",
    "        \n",
    "        word_first_lang = card[\"wordFirstLang\"]\n",
    "        sentence_first_lang = card[\"sentenceFirstLang\"]\n",
    "        \n",
    "        word_prompt = f\"\"\"Translate given {first_lang} word or phrase into {second_lang}.\n",
    "        ===\n",
    "        Given word: '{word_first_lang}'\n",
    "        ===\n",
    "        Return only translated word or phrase and nothing else.\n",
    "        \"\"\"\n",
    "\n",
    "        response = client.chat.completions.create(\n",
    "          model=model,\n",
    "          messages=[\n",
    "            {\"role\": \"system\", \"content\": system_prompt},\n",
    "            {\"role\": \"user\", \"content\": word_prompt}\n",
    "          ]\n",
    "        )\n",
    "\n",
    "        tr_word = response.choices[0].message.content if response.choices else 'No response generated.'\n",
    "        \n",
    "        sentence_prompt = f\"\"\"Translate given {first_lang} sentence into {second_lang}. Make sure it contains this word {tr_word}\n",
    "        ===\n",
    "        Given sentence: '{sentence_first_lang}'\n",
    "        ===\n",
    "        Return only translated word or phrase and nothing else. Make sentence grammaticly correct and idiomatic.\n",
    "        \"\"\"\n",
    "\n",
    "        response = client.chat.completions.create(\n",
    "          model=model,\n",
    "          messages=[\n",
    "            {\"role\": \"system\", \"content\": system_prompt},\n",
    "            {\"role\": \"user\", \"content\": sentence_prompt}\n",
    "          ]\n",
    "        )\n",
    "\n",
    "        tr_sentence = response.choices[0].message.content if response.choices else 'No response generated.'\n",
    "        \n",
    "        final_card = {}\n",
    "        final_card[\"wordFirstLang\"] = word_first_lang\n",
    "        final_card[\"sentenceFirstLang\"] = sentence_first_lang\n",
    "        final_card[\"wordSecondLang\"] = tr_word.strip()\n",
    "        final_card[\"sentenceSecondLang\"] = tr_sentence.strip()\n",
    "        final_cards.append(card)\n",
    "        \n",
    "    return final_cards\n"
   ]
  },
  {
   "cell_type": "code",
   "execution_count": 18,
   "id": "7b086e00",
   "metadata": {},
   "outputs": [
    {
     "data": {
      "application/vnd.jupyter.widget-view+json": {
       "model_id": "1a340ac468c34065a99e8f9db8eb86ed",
       "version_major": 2,
       "version_minor": 0
      },
      "text/plain": [
       "  0%|          | 0/151 [00:00<?, ?it/s]"
      ]
     },
     "metadata": {},
     "output_type": "display_data"
    }
   ],
   "source": [
    "translated_cards = translate_first_lang_to_second_lang(cards)"
   ]
  },
  {
   "cell_type": "code",
   "execution_count": 19,
   "id": "0f5cbddb",
   "metadata": {},
   "outputs": [
    {
     "data": {
      "application/vnd.jupyter.widget-view+json": {
       "model_id": "186fde8310f945a4b9afed21241af1da",
       "version_major": 2,
       "version_minor": 0
      },
      "text/plain": [
       "  0%|          | 0/151 [00:00<?, ?it/s]"
      ]
     },
     "metadata": {},
     "output_type": "display_data"
    }
   ],
   "source": [
    "translation_eval_results = evaluate_cards_2(translated_cards, first_lang='Russian', second_lang='Finnish')"
   ]
  },
  {
   "cell_type": "code",
   "execution_count": 20,
   "id": "0ec05683",
   "metadata": {},
   "outputs": [
    {
     "data": {
      "text/plain": [
       "0.9933774834437086"
      ]
     },
     "execution_count": 20,
     "metadata": {},
     "output_type": "execute_result"
    }
   ],
   "source": [
    "sum([res['translationAccuracy']['isCorrect'] for res in translation_eval_results]) / len([res['translationAccuracy']['isCorrect'] for res in translation_eval_results])"
   ]
  },
  {
   "cell_type": "code",
   "execution_count": 33,
   "id": "f662c59f",
   "metadata": {},
   "outputs": [],
   "source": [
    "def eval_with_golden(real_cards, translated_cards, first_lang='Russian', second_lang='Finnish', model=GPT_4o):\n",
    "    results = []\n",
    "    for real_card, translated_card in tqdm(list(zip(real_cards, translated_cards))):\n",
    "        word_real = real_card[\"wordSecondLang\"]\n",
    "        sentence_real = real_card[\"sentenceSecondLang\"]\n",
    "        word_tr = translated_card[\"wordSecondLang\"]\n",
    "        sentence_tr = translated_card[\"sentenceSecondLang\"]\n",
    "        \n",
    "        system_prompt = f\"\"\"\n",
    "        You are a language expert proficient in both {second_lang}.\"\"\"\n",
    "        \n",
    "        user_prompt = f\"\"\"\n",
    "        You are given a two pairs of word or phrase and sentence containing this word or phrase in {second_lang}. Here’s what you need to check:\n",
    "\n",
    "        1. Whether the word or phrase '{word_tr}' is similar by meaning to this word or phrase '{word_real}'.\n",
    "        2. Whether the sentence '{sentence_tr}' is similar by meaning to this sentence '{sentence_real}'.\n",
    "        3. Whether the word or phrase '{word_tr}' occurs in some form in this sentence '{sentence_tr}'.\n",
    "\n",
    "        Respond in JSON format with the following structure:\n",
    "\n",
    "        {{\n",
    "          \"WordSimilarity\": {{\n",
    "            \"isCorrect\": true/false,\n",
    "            \"explanation\": \"Detailed explanation if there is an issue or why it's correct\",\n",
    "            \"suggestedFix\": \"Suggested correction if there is an issue\"\n",
    "          }},\n",
    "          \"SentenceSimilarity\": {{\n",
    "            \"isCorrect\": true/false,\n",
    "            \"explanation\": \"Detailed explanation if there is an issue or why it's correct\",\n",
    "            \"suggestedFix\": \"Suggested correction if there is an issue\"\n",
    "          }},\n",
    "          \"WordUsage\": {{\n",
    "            \"isCorrect\": true/false,\n",
    "            \"explanation\": \"Detailed explanation if there is an issue or why it's correct\",\n",
    "            \"suggestedFixSentence\": \"Suggested correction to the sentence if there is an issue\"\n",
    "            \"suggestedFixWord\": \"Suggested correction to the word if there is an issue\"\n",
    "          }}\n",
    "        }}\n",
    "        \n",
    "        If word or sentence didn't provided then think this checks correct\n",
    "        \"\"\"\n",
    "        \n",
    "        response = client.chat.completions.create(\n",
    "          model=\"gpt-4o\",\n",
    "          response_format={ \"type\": \"json_object\" },\n",
    "          messages=[\n",
    "            {\"role\": \"system\", \"content\": system_prompt},\n",
    "            {\"role\": \"user\", \"content\": user_prompt}\n",
    "          ]\n",
    "        )\n",
    "        \n",
    "        results.append(json.loads(response.choices[0].message.content.strip()))\n",
    "    return results"
   ]
  },
  {
   "cell_type": "code",
   "execution_count": 36,
   "id": "8eff8537",
   "metadata": {},
   "outputs": [
    {
     "data": {
      "application/vnd.jupyter.widget-view+json": {
       "model_id": "1a001e1ff42a411fa2a36b7fe1fbb59c",
       "version_major": 2,
       "version_minor": 0
      },
      "text/plain": [
       "  0%|          | 0/151 [00:00<?, ?it/s]"
      ]
     },
     "metadata": {},
     "output_type": "display_data"
    }
   ],
   "source": [
    "results_with_golden = eval_with_golden(cards, translated_cards)"
   ]
  },
  {
   "cell_type": "code",
   "execution_count": 37,
   "id": "8d455e9d",
   "metadata": {},
   "outputs": [
    {
     "data": {
      "text/plain": [
       "0.9933774834437086"
      ]
     },
     "execution_count": 37,
     "metadata": {},
     "output_type": "execute_result"
    }
   ],
   "source": [
    "sum([res['WordSimilarity']['isCorrect'] for res in results_with_golden]) / len([res['WordSimilarity']['isCorrect'] for res in results_with_golden])"
   ]
  },
  {
   "cell_type": "code",
   "execution_count": null,
   "id": "1de55a85",
   "metadata": {},
   "outputs": [],
   "source": []
  }
 ],
 "metadata": {
  "celltoolbar": "Отсутствует",
  "kernelspec": {
   "display_name": "Python 3 (ipykernel)",
   "language": "python",
   "name": "python3"
  },
  "language_info": {
   "codemirror_mode": {
    "name": "ipython",
    "version": 3
   },
   "file_extension": ".py",
   "mimetype": "text/x-python",
   "name": "python",
   "nbconvert_exporter": "python",
   "pygments_lexer": "ipython3",
   "version": "3.8.18"
  }
 },
 "nbformat": 4,
 "nbformat_minor": 5
}
