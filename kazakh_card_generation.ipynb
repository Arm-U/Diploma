{
 "cells": [
  {
   "cell_type": "code",
   "execution_count": 1,
   "metadata": {},
   "outputs": [],
   "source": [
    "import openai\n",
    "from openai import AzureOpenAI, AsyncAzureOpenAI\n",
    "from tqdm.notebook import tqdm\n",
    "import os\n",
    "from dotenv import load_dotenv, find_dotenv\n",
    "import requests\n",
    "import base64\n",
    "\n",
    "GPT_3_5_TURBO = \"gpt-3.5-turbo\"\n",
    "GPT_4_TURBO_PREVIEW = \"gpt-4-turbo-preview\"\n",
    "GPT_4 = 'gpt-4'\n",
    "GPT_4o = 'gpt-4o'\n",
    "\n",
    "def get_openai_api_key():\n",
    "    _ = load_dotenv(find_dotenv())\n",
    "\n",
    "    return os.getenv(\"OPENAI_API_KEY\")\n",
    "\n",
    "OPENAI_API_KEY = get_openai_api_key()\n",
    "azure_endpoint=os.getenv(\"AZURE_OPENAI_ENDPOINT\")\n",
    "client = AzureOpenAI(\n",
    "    api_key=os.getenv(\"AZURE_OPENAI_API_KEY\"),  \n",
    "    api_version=\"2024-07-01-preview\",\n",
    "    azure_endpoint=os.getenv(\"AZURE_OPENAI_ENDPOINT\")\n",
    ")"
   ]
  },
  {
   "cell_type": "code",
   "execution_count": 2,
   "metadata": {},
   "outputs": [],
   "source": [
    "source_lang = 'Russian'\n",
    "secondary_lang = 'Finnish'\n",
    "target_lang = 'Kazakh'"
   ]
  },
  {
   "cell_type": "code",
   "execution_count": 3,
   "metadata": {},
   "outputs": [],
   "source": [
    "import json\n",
    "\n",
    "\n",
    "RU_FI_EVAL_FOLDER = '../../data/russian-english/cards/eval_results/ru_eng_'\n",
    "def get_ru_finn_eval_results_from_file(file_name):\n",
    "    data = []\n",
    "    file_path = RU_FI_EVAL_FOLDER + file_name\n",
    "    with open(file_path, 'r', encoding='utf-8') as file:\n",
    "        data = json.load(file)\n",
    "    return data\n",
    "\n",
    "RU_KZ_EVAL_FOLDER = '../../data/russian-kazakh/cards/eval_results/ru_kz_'\n",
    "def get_ru_kz_eval_results_from_file(file_name):\n",
    "    data = []\n",
    "    file_path = RU_KZ_EVAL_FOLDER + file_name\n",
    "    with open(file_path, 'r', encoding='utf-8') as file:\n",
    "        data = json.load(file)\n",
    "    return data\n",
    "\n",
    "\n",
    "RU_FI_FOLDER_WITH_JSON = '../../data/russian-finnish/cards/curated_platform_cards/'\n",
    "def get_ru_finn_cards_from_file(file_name):\n",
    "    data = []\n",
    "    file_path = RU_FI_FOLDER_WITH_JSON + file_name\n",
    "    with open(file_path, 'r', encoding='utf-8') as file:\n",
    "        data = json.load(file)\n",
    "    res = []\n",
    "    for card in data:\n",
    "        if 'isMarkedDeleted' not in card.keys():\n",
    "            res.append(card)\n",
    "    return res\n",
    "\n",
    "\n",
    "RU_KZ_OUTPUT_FOLDER = '../../data/russian-kazakh/cards/test_cards/ru_kz_'\n",
    "def get_ru_kz_cards_from_file(file_name):\n",
    "    data = []\n",
    "    file_path = RU_KZ_OUTPUT_FOLDER + file_name\n",
    "    with open(file_path, 'r', encoding='utf-8') as file:\n",
    "        data = json.load(file)\n",
    "    return data\n",
    "\n",
    "\n",
    "OUTPUT_FOLDER = '../../data/russian-kazakh/cards/test_cards/ru_kz_'\n",
    "def write_cards_to_file(file_name, cards):\n",
    "    file_path = OUTPUT_FOLDER + file_name\n",
    "    with open(file_path, 'w', encoding='utf-8') as f:\n",
    "        json.dump(cards, f, ensure_ascii=False, indent=2)\n",
    "        \n",
    "        \n",
    "EVAL_FOLDER = '../../data/russian-kazakh/cards/eval_results/ru_kz_'\n",
    "def write_eval_results_to_file(file_name, results):\n",
    "    file_path = EVAL_FOLDER + file_name\n",
    "    with open(file_path, 'w', encoding='utf-8') as f:\n",
    "        json.dump(results, f, ensure_ascii=False, indent=2)"
   ]
  },
  {
   "cell_type": "code",
   "execution_count": 4,
   "metadata": {},
   "outputs": [],
   "source": [
    "def generate_phrase_card(source_card, secondary_card, card_id, source_lang, target_lang, secondary_lang, model=GPT_4o):\n",
    "\n",
    "    source_word, source_sentence, _ = source_card.items()\n",
    "    secondary_word, secondary_sentence, _ = secondary_card.items()\n",
    "\n",
    "    system_prompt = f'''You are a multilingual assistant who is proficient in {source_lang}, {secondary_lang} and {target_lang}.'''\n",
    "\n",
    "    user_prompt = f\"\"\"\n",
    "    Translate the given {source_lang} word or phrase: '{source_word}' into clear and natural {target_lang}, reflecting its meaning and context as the primary focus. Use the {secondary_lang} equivalent: '{secondary_word}' as a supportive reference to help clarify or refine the exact context if needed. The goal is to create a {target_lang} translation that is accurate, fluent, and authentic to native speakers, avoiding overly complex or literal phrasing.\n",
    "\n",
    "    Please provide the {target_lang} translation of the word or phrase and nothing else.\n",
    "\n",
    "    Important formatting rules:\n",
    "    1. Ensure punctuation consistency with the source language:\n",
    "        - If the source word or phrase ends with a period, the translation should also end with a period unless there is another example in brackets\n",
    "    2. Maintain consistent capitalization rules between source and target languages:\n",
    "        - If the source word or phrase ends starts with lower case letter, the translation should also start with lower case letter\n",
    "    3. Return the translation without any external quotation marks:\n",
    "        - Do not wrap the result in quotes\n",
    "    4. Return only the translation without any additions\n",
    "    \"\"\"\n",
    "\n",
    "    response = client.chat.completions.create(\n",
    "        model=model,\n",
    "        messages=[\n",
    "        {\"role\": \"system\", \"content\": system_prompt.strip()},\n",
    "        {\"role\": \"user\", \"content\": user_prompt.strip()}\n",
    "        ]\n",
    "    )\n",
    "\n",
    "    tr_word = response.choices[0].message.content.strip()\n",
    "\n",
    "    card = {}\n",
    "    card[\"word\"] = tr_word\n",
    "    card[\"sentence\"] = \"\"\n",
    "    card[\"id\"] = card_id\n",
    "\n",
    "    return card"
   ]
  },
  {
   "cell_type": "code",
   "execution_count": 5,
   "metadata": {},
   "outputs": [],
   "source": [
    "def generate_full_card(source_card, secondary_card, card_id, source_lang, target_lang, secondary_lang, model=GPT_4o):\n",
    "\n",
    "    source_word, source_sentence, _ = source_card.items()\n",
    "    secondary_word, secondary_sentence, _ = secondary_card.items()\n",
    "\n",
    "    system_prompt = f'''You are a multilingual assistant who is proficient in {source_lang}, {secondary_lang} and {target_lang}.'''\n",
    "\n",
    "    user_prompt = f\"\"\"\n",
    "    **Translate the given {source_lang} word or phrase along with its {secondary_lang} translation into {target_lang}, and then translate the provided {source_lang} sentence, incorporating the {target_lang} translation of the word or phrase. Use synonyms or related terms where necessary to convey the intended meaning and maintain naturalness in {target_lang}.**  \n",
    "\n",
    "    Given word or phrase ({source_lang}): '{source_word}'  \n",
    "    Given word or phrase ({secondary_lang}): '{secondary_word}'  \n",
    "\n",
    "    Given sentence ({source_lang}): '{source_sentence}'  \n",
    "    Given sentence ({secondary_lang}): '{secondary_sentence}'  \n",
    "\n",
    "    ### Response structure:  \n",
    "\n",
    "    Respond in JSON format with the following structure:\n",
    "    {{\n",
    "        \"translatedWord\": \"Translated word in {target_lang}\",\n",
    "        \"translatedSentence\": \"Translated sentence in {target_lang}\"\n",
    "    }}\n",
    "    ```\n",
    "\n",
    "    Important formatting rules:\n",
    "    1. Ensure punctuation consistency with the source language:\n",
    "        - If the source word or phrase ends with a period, the translation should also end with a period unless there is another example in brackets\n",
    "    2. Maintain consistent capitalization rules between source and target languages:\n",
    "        - If the source word or phrase ends starts with lower case letter, the translation should also start with lower case letter\n",
    "    3. Return the translation without any external quotation marks:\n",
    "        - Do not wrap the result in quotes\n",
    "    \"\"\"\n",
    "\n",
    "    response = client.chat.completions.create(\n",
    "        model=model,\n",
    "        response_format={ \"type\": \"json_object\" },\n",
    "        messages=[\n",
    "        {\"role\": \"system\", \"content\": system_prompt.strip()},\n",
    "        {\"role\": \"user\", \"content\": user_prompt.strip()}\n",
    "        ]\n",
    "    )\n",
    "    \n",
    "    response_dict = json.loads(response.choices[0].message.content.strip())\n",
    "    tr_word = response_dict['translatedWord']\n",
    "    tr_sentence = response_dict['translatedSentence']\n",
    "\n",
    "    card = {}\n",
    "    card[\"word\"] = tr_word.strip()\n",
    "    card[\"sentence\"] = tr_sentence.strip()\n",
    "    card[\"id\"] = card_id\n",
    "\n",
    "    return card"
   ]
  },
  {
   "cell_type": "code",
   "execution_count": 6,
   "metadata": {},
   "outputs": [],
   "source": [
    "def eval_phrase_card(source_card, secondary_card, target_card, card_id, source_lang, target_lang, secondary_lang, model=GPT_4o):\n",
    "\n",
    "    source_word, source_sentence, _ = source_card.items()\n",
    "    secondary_word, secondary_sentence, _ = secondary_card.items()\n",
    "    target_word, target_sentence, _ = target_card.items()\n",
    "\n",
    "    system_prompt = f'''You are a multilingual assistant who is proficient in {source_lang}, {secondary_lang} and {target_lang}.'''\n",
    "\n",
    "    user_prompt = f\"\"\"\n",
    "    **As an AI model, your task is to evaluate the correctness and naturalness of {target_lang} translations for given {source_lang} and {secondary_lang} words or phrases. Check if the {target_lang} translation accurately conveys the meaning and context of the {source_lang} and {secondary_lang} versions, and whether it sounds natural to a native speaker. Your evaluation does not need to suggest the best possible translation, only confirm that it is good enough and identify any issues if present.**  \n",
    "\n",
    "    When suggesting corrections, provide only the final corrected {target_lang} translation. If no correction is needed, set `suggestedFix` to `null`.  \n",
    "\n",
    "    Here are the words or phrases:  \n",
    "    - Word or Phrase in {source_lang}: {source_word}  \n",
    "    - Word or Phrase in {secondary_lang}: {secondary_word}  \n",
    "    - Word or Phrase in {target_lang}: {target_word}  \n",
    "\n",
    "    Respond in JSON format using the following structure:\n",
    "    {{\n",
    "      \"translationAccuracy\": {{\n",
    "        \"isCorrect\": true/false,\n",
    "        \"explanation\": \"Detailed explanation if there is an issue or why it's correct\",\n",
    "        \"suggestedFix\": \"Suggested correction if there is an issue or null if no correction is needed\"\n",
    "      }}\n",
    "    }}\n",
    "    \"\"\"\n",
    "\n",
    "    response = client.chat.completions.create(\n",
    "      model=model,\n",
    "      response_format={ \"type\": \"json_object\" },\n",
    "      messages=[\n",
    "        {\"role\": \"system\", \"content\": system_prompt.strip()},\n",
    "        {\"role\": \"user\", \"content\": user_prompt.strip()}\n",
    "      ]\n",
    "    )\n",
    "\n",
    "    res = json.loads(response.choices[0].message.content.strip())\n",
    "    res['id'] = card_id\n",
    "\n",
    "    return res"
   ]
  },
  {
   "cell_type": "code",
   "execution_count": 7,
   "metadata": {},
   "outputs": [],
   "source": [
    "def eval_full_card(source_card, secondary_card, target_card, card_id, source_lang, target_lang, secondary_lang, model=GPT_4o):\n",
    "\n",
    "    source_word, source_sentence, _ = source_card.items()\n",
    "    secondary_word, secondary_sentence, _ = secondary_card.items()\n",
    "    target_word, target_sentence, _ = target_card.items()\n",
    "\n",
    "    system_prompt = f'''You are a multilingual assistant who is proficient in {source_lang}, {secondary_lang} and {target_lang}.'''\n",
    "\n",
    "    user_prompt = f\"\"\"\n",
    "    **Evaluate the correctness of a {target_lang} word and sentence based on their translations from {source_lang} and {secondary_lang}. You will receive a word in {source_lang}, {secondary_lang}, and its translation in {target_lang}, as well as a sentence in {source_lang}, {secondary_lang}, and its translation in {target_lang}. Your task is to assess the quality of the {target_lang} sentence, the usage of the {target_lang} word in the sentence, and the accuracy of the translations from {source_lang} and {secondary_lang} to {target_lang}. For each evaluation point, provide a detailed explanation of your judgment and suggest fixes where applicable, either to the {target_lang} word, the {target_lang} sentence, or both.**  \n",
    "\n",
    "    Please ensure that the {target_lang} sentence is grammatically correct and natural. Suggest a corrected version if necessary. Verify that the {target_lang} sentence contains the {target_lang} word in some form and suggest using synonyms or related terms if the word is missing. Prioritize naturalness and correctness. Ensure that the translations of both the word and sentence from {source_lang} and {secondary_lang} to {target_lang} are accurate and provide corrections if necessary.  \n",
    "\n",
    "    Respond in JSON format with the following structure:  \n",
    "    {{\n",
    "        \"sentenceCorrectness\": {{\n",
    "            \"isCorrect\": true/false,\n",
    "            \"explanation\": \"Detailed explanation if there is an issue or why it's correct.\",\n",
    "            \"suggestedFix\": \"Suggested corrected sentence if there is an issue, or null if not applicable.\"\n",
    "        }},\n",
    "        \"wordUsage\": {{\n",
    "            \"isCorrect\": true/false,\n",
    "            \"explanation\": \"Detailed explanation if there is an issue or why it's correct.\",\n",
    "            \"suggestedFixSentence\": \"Suggested corrected sentence if the word usage is incorrect, or null if not applicable.\",\n",
    "            \"suggestedFixWord\": \"Suggested corrected word if the word usage is incorrect, or null if not applicable.\"\n",
    "        }},\n",
    "        \"wordTranslationAccuracy\": {{\n",
    "            \"isCorrect\": true/false,\n",
    "            \"explanation\": \"Detailed explanation if there is an issue or why it's correct.\",\n",
    "            \"suggestedFix\": \"Suggested correction for translation issues, or null if not applicable.\"\n",
    "        }},\n",
    "        \"sentenceTranslationAccuracy\": {{\n",
    "            \"isCorrect\": true/false,\n",
    "            \"explanation\": \"Detailed explanation if there is an issue or why it's correct.\",\n",
    "            \"suggestedFix\": \"Suggested correction for translation issues, or null if not applicable.\"\n",
    "        }}\n",
    "    }}\n",
    "\n",
    "    Here are the provided word and sentence in {source_lang}, {secondary_lang}, and {target_lang}:  \n",
    "\n",
    "    - Word in {source_lang}: {source_word}  \n",
    "    - Word in {secondary_lang}: {secondary_word}  \n",
    "    - Word in {target_lang}: {target_word}  \n",
    "    - Sentence in {source_lang}: {source_sentence}  \n",
    "    - Sentence in {secondary_lang}: {secondary_sentence}  \n",
    "    - Sentence in {target_lang}: {target_sentence}  \n",
    "\n",
    "    Please adhere to this structure to ensure clear, actionable feedback for each evaluation point.\n",
    "    \"\"\"\n",
    "\n",
    "    response = client.chat.completions.create(\n",
    "      model=model,\n",
    "      response_format={ \"type\": \"json_object\" },\n",
    "      messages=[\n",
    "        {\"role\": \"system\", \"content\": system_prompt.strip()},\n",
    "        {\"role\": \"user\", \"content\": user_prompt.strip()}\n",
    "      ]\n",
    "    )\n",
    "\n",
    "    res = json.loads(response.choices[0].message.content.strip())\n",
    "    res['id'] = card_id\n",
    "\n",
    "    return res"
   ]
  },
  {
   "cell_type": "code",
   "execution_count": 8,
   "metadata": {},
   "outputs": [],
   "source": [
    "BASE_SYSTEM_PROMPT = f'''You are a multilingual assistant who is proficient in {source_lang}, {secondary_lang} and {target_lang}.'''"
   ]
  },
  {
   "cell_type": "code",
   "execution_count": 9,
   "metadata": {},
   "outputs": [],
   "source": [
    "def improve_phrase_card(source_card, secondary_card, target_card, card_id, source_lang, target_lang, secondary_lang, eval_result, system_prompt=BASE_SYSTEM_PROMPT, model=GPT_4o):\n",
    "\n",
    "    source_word, source_sentence, _ = source_card.items()\n",
    "    secondary_word, secondary_sentence, _ = secondary_card.items()\n",
    "    target_word, target_sentence, _ = target_card.items()\n",
    "\n",
    "    _, explanation, suggested_fix = eval_result['translationAccuracy'].values()\n",
    "\n",
    "    user_prompt = f\"\"\"\n",
    "    **Translate the given {source_lang} word or phrase: '{source_word}' into clear and natural {target_lang}, prioritizing its meaning and how it would sound most authentic and fluent to native speakers. Use the {secondary_lang} equivalent: '{secondary_word}' as a supportive reference if it helps refine the context or meaning. While accuracy is important, favor translations that fit naturally into everyday {target_lang}, even if they are not the most direct equivalents.**  \n",
    "\n",
    "    Consider the following:  \n",
    "    - Existing {target_lang} translation: '{target_word}'  \n",
    "    - Issues identified: '{explanation}'  \n",
    "    - Suggested improvement: '{suggested_fix}'  \n",
    "\n",
    "    ### Instructions:  \n",
    "    Based on the information provided, craft a {target_lang} translation that balances accuracy, naturalness, and context. You may adapt the word or phrase slightly to ensure it resonates well with native speakers and fits its intended use.  \n",
    "\n",
    "    **Respond with only the final {target_lang} translation without any additional explanations, just word or phrase in {target_lang}.**\n",
    "\n",
    "    Important formatting rules:\n",
    "    1. Ensure punctuation consistency with the source language:\n",
    "        - If the source word or phrase ends with a period, the translation should also end with a period unless there is another example in brackets\n",
    "    2. Maintain consistent capitalization rules between source and target languages:\n",
    "        - If the source word or phrase ends starts with lower case letter, the translation should also start with lower case letter\n",
    "    3. Return the translation without any external quotation marks:\n",
    "        - Do not wrap the result in quotes\n",
    "    4. Return only the translation without any additions\n",
    "    \"\"\"\n",
    "\n",
    "    response = client.chat.completions.create(\n",
    "        model=model,\n",
    "        messages=[\n",
    "        {\"role\": \"system\", \"content\": system_prompt.strip()},\n",
    "        {\"role\": \"user\", \"content\": user_prompt.strip()}\n",
    "        ]\n",
    "    )\n",
    "    \n",
    "    tr_word = response.choices[0].message.content.strip()\n",
    "\n",
    "    card = {}\n",
    "    card[\"word\"] = tr_word\n",
    "    card[\"sentence\"] = \"\"\n",
    "    card[\"id\"] = card_id\n",
    "\n",
    "    return card"
   ]
  },
  {
   "cell_type": "code",
   "execution_count": 10,
   "metadata": {},
   "outputs": [],
   "source": [
    "def improve_full_card(source_card, secondary_card, target_card, card_id, source_lang, target_lang, secondary_lang, eval_result, system_prompt=BASE_SYSTEM_PROMPT, model=GPT_4o):\n",
    "\n",
    "    source_word, source_sentence, _ = source_card.items()\n",
    "    secondary_word, secondary_sentence, _ = secondary_card.items()\n",
    "    target_word, target_sentence, _ = target_card.items()\n",
    "\n",
    "    user_prompt = f\"\"\"\n",
    "    **Translate the given {source_lang} word or phrase into {target_lang} and use it within the provided {source_lang} sentence to create a natural and accurate {target_lang} translation. Use the {secondary_lang} word or sentence as additional context if needed. Focus on accurately conveying the meaning of the {source_lang} source while incorporating all feedback and suggestions from the evaluation results.**  \n",
    "\n",
    "    When choosing the {target_lang} word or phrase, prioritize naturalness and fluency in the sentence over strict accuracy. While the translation should reflect the original meaning, it is acceptable to use a word or phrase that is not the most direct translation but still conveys the intended sense in a way that sounds natural and idiomatic in {target_lang}.  \n",
    "\n",
    "    ### **Details to guide your translation:**  \n",
    "\n",
    "    - **Word or phrase in {source_lang}:** '{source_word}'  \n",
    "    - **Word or phrase in {secondary_lang}:** '{secondary_word}'  \n",
    "    - **Sentence in {source_lang}:** '{source_sentence}'  \n",
    "    - **Sentence in {secondary_lang}:** '{secondary_sentence}'  \n",
    "    - **Existing {target_lang} translation of the word or phrase:** '{target_word}'  \n",
    "    - **Existing {target_lang} translation of the sentence:** '{target_sentence}'  \n",
    "\n",
    "    ### **Evaluation Results Summary:**  \n",
    "\n",
    "    **{target_lang} Sentence Evaluation:**  \n",
    "    - **Correctness:** {eval_result['sentenceCorrectness']['isCorrect']}  \n",
    "    - **Explanation:** {eval_result['sentenceCorrectness']['explanation']}  \n",
    "    - **Suggested Fix (if applicable):** {eval_result['sentenceCorrectness']['suggestedFix']}  \n",
    "\n",
    "    **Word Usage Evaluation:**  \n",
    "    - **Correctness:** {eval_result['wordUsage']['isCorrect']}  \n",
    "    - **Explanation:** {eval_result['wordUsage']['explanation']}  \n",
    "    - **Suggested Fix for Word (if applicable):** {eval_result['wordUsage']['suggestedFixWord']}  \n",
    "    - **Suggested Fix for Sentence (if applicable):** {eval_result['wordUsage']['suggestedFixSentence']}  \n",
    "\n",
    "    **Word Translation Accuracy Evaluation:**  \n",
    "    - **Correctness:** {eval_result['wordTranslationAccuracy']['isCorrect']}  \n",
    "    - **Explanation:** {eval_result['wordTranslationAccuracy']['explanation']}  \n",
    "    - **Suggested Fix (if applicable):** {eval_result['wordTranslationAccuracy']['suggestedFix']}  \n",
    "\n",
    "    **Sentence Translation Accuracy Evaluation:**  \n",
    "    - **Correctness:** {eval_result['sentenceTranslationAccuracy']['isCorrect']}  \n",
    "    - **Explanation:** {eval_result['sentenceTranslationAccuracy']['explanation']}  \n",
    "    - **Suggested Fix (if applicable):** {eval_result['sentenceTranslationAccuracy']['suggestedFix']}  \n",
    "\n",
    "    ### **Instructions:**  \n",
    "\n",
    "    1. **Review the Evaluation Feedback:**  \n",
    "    - Carefully consider all provided explanations and suggested fixes for the word or phrase, sentence, and overall translation accuracy.  \n",
    "\n",
    "    2. **Translate the Word or Phrase:**  \n",
    "    - Choose a translation that balances accuracy with naturalness.  \n",
    "    - If the word usage is marked incorrect, incorporate the suggested fix or refine it further for better contextual alignment.  \n",
    "\n",
    "    3. **Translate the {source_lang} Sentence:**  \n",
    "    - Integrate the translated word or phrase naturally into the sentence.  \n",
    "    - If the sentence translation is marked incorrect, incorporate the suggested fixes and adjust for fluency and clarity.  \n",
    "\n",
    "    4. **Address Translation Accuracy Issues:**  \n",
    "    - If any translation inaccuracies are identified, apply the suggested fixes or clarify the meaning while ensuring the translation sounds natural and idiomatic.  \n",
    "\n",
    "    5. **Leverage Context:**  \n",
    "    - Use the {secondary_lang} word or sentence as additional guidance where necessary.  \n",
    "\n",
    "    6. **Produce a Polished Result:**  \n",
    "    - Ensure the final translation conveys the intended meaning, aligns naturally with the sentence, and incorporates feedback from the evaluation results.  \n",
    "\n",
    "    ### **Response structure:**  \n",
    "\n",
    "    Respond in JSON format with the following structure:  \n",
    "    {{\n",
    "        \"translatedWord\": \"Translated word in {target_lang}\",\n",
    "        \"translatedSentence\": \"Translated sentence in {target_lang}\"\n",
    "    }}\n",
    "\n",
    "    Important formatting rules:\n",
    "    1. Ensure punctuation consistency with the source language:\n",
    "        - If the source word or phrase ends with a period, the translation should also end with a period unless there is another example in brackets\n",
    "    2. Maintain consistent capitalization rules between source and target languages:\n",
    "        - If the source word or phrase ends starts with lower case letter, the translation should also start with lower case letter\n",
    "    3. Return the translation without any external quotation marks (do not wrap the result in quotes)\n",
    "    \"\"\"\n",
    "\n",
    "    response = client.chat.completions.create(\n",
    "        model=model,\n",
    "        response_format={ \"type\": \"json_object\" },\n",
    "        messages=[\n",
    "        {\"role\": \"system\", \"content\": system_prompt.strip()},\n",
    "        {\"role\": \"user\", \"content\": user_prompt.strip()}\n",
    "        ]\n",
    "    )\n",
    "    \n",
    "    response_dict = json.loads(response.choices[0].message.content.strip())\n",
    "    tr_word = response_dict['translatedWord']\n",
    "    tr_sentence = response_dict['translatedSentence']\n",
    "\n",
    "    card = {}\n",
    "    card[\"word\"] = tr_word.strip()\n",
    "    card[\"sentence\"] = tr_sentence.strip()\n",
    "    card[\"id\"] = card_id\n",
    "\n",
    "    return card"
   ]
  },
  {
   "cell_type": "code",
   "execution_count": 11,
   "metadata": {},
   "outputs": [],
   "source": [
    "def is_phrase_card(card):\n",
    "    return card['sentence'] == ''"
   ]
  },
  {
   "cell_type": "code",
   "execution_count": 12,
   "metadata": {},
   "outputs": [],
   "source": [
    "def check_eval(eval_result, is_phrase_card_):\n",
    "    if is_phrase_card_:\n",
    "        return eval_result['translationAccuracy']['isCorrect']\n",
    "    \n",
    "    w_tr_accuracy = eval_result['wordTranslationAccuracy']['isCorrect']\n",
    "    s_tr_accuracy = eval_result['sentenceTranslationAccuracy']['isCorrect']\n",
    "    s_accuracy = eval_result['sentenceCorrectness']['isCorrect']\n",
    "    w_accuracy = eval_result['wordUsage']['isCorrect']\n",
    "    \n",
    "    return all([w_tr_accuracy, s_tr_accuracy, s_accuracy, w_accuracy])"
   ]
  },
  {
   "cell_type": "code",
   "execution_count": 13,
   "metadata": {},
   "outputs": [],
   "source": [
    "def regressor(source_card, secondary_card, target_cards, card_id, source_lang, target_lang, secondary_lang, n_models=3, model=GPT_4o):\n",
    "\n",
    "    source_word, source_sentence, _ = source_card.items()\n",
    "    secondary_word, secondary_sentence, _ = secondary_card.items()\n",
    "\n",
    "    target_words = [card['word'] for card in target_cards]\n",
    "    target_sentences = [card['sentence'] for card in target_cards]\n",
    "\n",
    "    models_response = ''\n",
    "    for i in range(n_models):\n",
    "        models_response += f\"\"\"{i + 1}. `Model {i + 1}` Response: {{ \"{target_lang}Word\": '{target_words[i]}', \"{target_lang}Sentence\": '{target_sentences[i]}'}}\\n\"\"\"\n",
    "\n",
    "    system_prompt = f'''Act as a translation evaluator and synthesizer. Assess model-generated translations for a {source_lang} word/phrase and its sentence, prioritizing accuracy, fluency, and contextual fit. Return the best translations in JSON format with refinements if necessary.'''\n",
    "\n",
    "    user_prompt = f\"\"\"\n",
    "**Instruction for the Regressor**:  \n",
    "Evaluate the translations provided by different models for a given {source_lang} word or phrase and its accompanying sentence. Select or synthesize the best {target_lang} translation for the word and sentence based on:\n",
    "1. **Accuracy**: Ensure the translation reflects the original {source_lang} meaning correctly.\n",
    "2. **Naturalness**: The {target_lang} translations should be fluid and use appropriate synonyms or phrasing where needed.\n",
    "3. **Consistency**: The translated sentence should appropriately incorporate the word's translation.\n",
    "\n",
    "### Input:\n",
    "Given word or phrase ({source_lang}): '{source_word}'  \n",
    "Given word or phrase ({secondary_lang}): '{secondary_word}'  \n",
    "\n",
    "Given sentence ({source_lang}): '{source_sentence}'  \n",
    "Given sentence ({secondary_lang}): '{secondary_sentence}'  \n",
    "\n",
    "Responses from models:\n",
    "{models_response}\n",
    "\n",
    "---\n",
    "\n",
    "### Task:\n",
    "Critically evaluate these responses, identify the best translations, and synthesize a single, high-quality translation. If needed, refine the translations to ensure accuracy and naturalness. Do not simply copy; improve where necessary.\n",
    "\n",
    "### Response structure:\n",
    "Respond in JSON format with the following structure:\n",
    "{{\n",
    "    \"{target_lang}Word\": \"Best translated word in {target_lang}\",\n",
    "    \"{target_lang}Sentence\": \"Best translated sentence in {target_lang}\"\n",
    "}}\n",
    "\n",
    "---\n",
    "\n",
    "### Key Considerations for Evaluation:\n",
    "- **Accuracy**: Does the translation reflect the original meaning and nuances in {source_lang}?\n",
    "- **Fluency**: Is the translation grammatically correct and natural in {target_lang}?\n",
    "- **Contextual Fit**: Does the sentence correctly integrate the translation of the word or phrase?\n",
    "\n",
    "Important formatting rules:\n",
    "1. Ensure punctuation consistency with the source language:\n",
    "    - If the source word or phrase ends with a period, the translation should also end with a period unless there is another example in brackets\n",
    "2. Maintain consistent capitalization rules between source and target languages:\n",
    "    - If the source word or phrase ends starts with lower case letter, the translation should also start with lower case letter\n",
    "3. Return the translation without any external quotation marks (do not wrap the result in quotes)\n",
    "    \"\"\"\n",
    "\n",
    "    response = client.chat.completions.create(\n",
    "        model=model,\n",
    "        response_format={ \"type\": \"json_object\" },\n",
    "        messages=[\n",
    "        {\"role\": \"system\", \"content\": system_prompt.strip()},\n",
    "        {\"role\": \"user\", \"content\": user_prompt.strip()}\n",
    "        ]\n",
    "    )\n",
    "    \n",
    "    response_dict = json.loads(response.choices[0].message.content.strip())\n",
    "    target_word = response_dict[f'{target_lang}Word']\n",
    "    target_sentence = response_dict[f'{target_lang}Sentence']\n",
    "\n",
    "    card = {}\n",
    "    card[\"word\"] = target_word.strip()\n",
    "    card[\"sentence\"] = target_sentence.strip()\n",
    "    card[\"id\"] = card_id\n",
    "\n",
    "    return card\n"
   ]
  },
  {
   "cell_type": "code",
   "execution_count": 14,
   "metadata": {},
   "outputs": [],
   "source": [
    "system_prompts = [\n",
    "    \"Act as a linguistic expert specializing in Russian, Finnish, and Kazakh translations. Evaluate the given Kazakh word and sentence translations in conjunction with the Russian context. Based on evaluation feedback, refine the word and sentence translations for accuracy, fluency, and naturalness, ensuring idiomatic Finnish usage. Provide the response in JSON format.\",\n",
    "    \"Take on the role of a translator focusing on contextual accuracy. Use the provided Kazakh and Russian inputs, along with feedback evaluations, to create an Finnish translation that balances precise meaning with natural phrasing. Address inaccuracies and ensure the translation reads fluent?ly and idiomatically. Respond in JSON format.\",\n",
    "    \"Serve as a cultural localization specialist. Translate the provided Kazakh word and sentence into Finnish, using the Russian context and feedback to enhance naturalness and idiomatic expression. Focus on making the translation contextually relevant and fluent for an Finnish-speaking audience. Provide your output in JSON format.\"\n",
    "]"
   ]
  },
  {
   "cell_type": "code",
   "execution_count": 15,
   "metadata": {},
   "outputs": [],
   "source": [
    "def meaxture_of_improving_agents(source_card, secondary_card, target_card, card_id, source_lang, target_lang, secondary_lang, eval_result, n_models=3):\n",
    "    is_phrase_card_ = is_phrase_card(source_card)\n",
    "\n",
    "    target_cards = []\n",
    "    for s_p in system_prompts:\n",
    "        improved_eng_finn_card = {}\n",
    "\n",
    "        if is_phrase_card_:\n",
    "            improved_eng_finn_card = improve_phrase_card(source_card, secondary_card, target_card, card_id, source_lang, target_lang, secondary_lang, eval_result, system_prompt=s_p)\n",
    "        else:\n",
    "            improved_eng_finn_card = improve_full_card(source_card, secondary_card, target_card, card_id, source_lang, target_lang, secondary_lang, eval_result, system_prompt=s_p)\n",
    "\n",
    "        target_cards.append(improved_eng_finn_card)\n",
    "\n",
    "    card = regressor(source_card, secondary_card, target_cards, card_id, source_lang, target_lang, secondary_lang, n_models)\n",
    "\n",
    "    return card"
   ]
  },
  {
   "cell_type": "code",
   "execution_count": 16,
   "metadata": {},
   "outputs": [],
   "source": [
    "def card_handler_with_agents(source_card, secondary_card, card_id, source_lang, target_lang, secondary_lang, num_iter=5, num_agents=3):\n",
    "    is_phrase_card_ = is_phrase_card(source_card)\n",
    "\n",
    "    target_card = {}\n",
    "\n",
    "    if is_phrase_card_:\n",
    "        target_card = generate_phrase_card(source_card, secondary_card, card_id, source_lang, target_lang, secondary_lang)\n",
    "    else:\n",
    "        target_card = generate_full_card(source_card, secondary_card, card_id, source_lang, target_lang, secondary_lang)\n",
    "\n",
    "    eval_result = {}\n",
    "\n",
    "    if is_phrase_card_:\n",
    "        eval_result = eval_phrase_card(source_card, secondary_card, target_card, card_id, source_lang, target_lang, secondary_lang)\n",
    "    else:\n",
    "        eval_result = eval_full_card(source_card, secondary_card, target_card, card_id, source_lang, target_lang, secondary_lang)\n",
    "\n",
    "    for _ in range(num_iter):\n",
    "        if check_eval(eval_result, is_phrase_card_):\n",
    "            break\n",
    "        \n",
    "        if is_phrase_card_:\n",
    "            target_card = meaxture_of_improving_agents(source_card, secondary_card, target_card, card_id, source_lang, target_lang, secondary_lang, eval_result)\n",
    "        else:\n",
    "            target_card = meaxture_of_improving_agents(source_card, secondary_card, target_card, card_id, source_lang, target_lang, secondary_lang, eval_result)\n",
    "\n",
    "        if is_phrase_card_:\n",
    "            eval_result = eval_phrase_card(source_card, secondary_card, target_card, card_id, source_lang, target_lang, secondary_lang)\n",
    "        else:\n",
    "            eval_result = eval_full_card(source_card, secondary_card, target_card, card_id, source_lang, target_lang, secondary_lang)\n",
    "    \n",
    "    return target_card, eval_result"
   ]
  },
  {
   "cell_type": "code",
   "execution_count": 17,
   "metadata": {},
   "outputs": [],
   "source": [
    "import logging\n",
    "\n",
    "logging.basicConfig(\n",
    "    filename='errors.txt',\n",
    "    level=logging.ERROR,\n",
    "    format='%(message)s',\n",
    "    filemode='a'\n",
    ")\n",
    "\n",
    "def generate_source_target_cards_with_eval_results(source_cards, secondary_cards, source_lang, target_lang, secondary_lang):\n",
    "\n",
    "    source_target_cards = []\n",
    "    eval_results = []\n",
    "\n",
    "    for source_card, secondary_card in tqdm(list(zip(source_cards, secondary_cards))):\n",
    "        card_id = source_card['id']\n",
    "\n",
    "        while True:\n",
    "            try:\n",
    "                target_card, eval_res = card_handler_with_agents(source_card, secondary_card, card_id, source_lang, target_lang, secondary_lang)\n",
    "\n",
    "                card = {}\n",
    "                card[\"wordFirstLang\"] = source_card['word']\n",
    "                card[\"sentenceFirstLang\"] = source_card['sentence']\n",
    "                card[\"wordSecondLang\"] = target_card['word']\n",
    "                card[\"sentenceSecondLang\"] = target_card['sentence']\n",
    "                card[\"id\"] = card_id\n",
    "\n",
    "                source_target_cards.append(card)\n",
    "                eval_results.append(eval_res)\n",
    "                break\n",
    "            except Exception as e:\n",
    "                logging.error(str(e))\n",
    "                pass\n",
    "\n",
    "    assert len(source_target_cards) == len(eval_results)\n",
    "\n",
    "    return source_target_cards, eval_results"
   ]
  },
  {
   "cell_type": "code",
   "execution_count": 18,
   "metadata": {},
   "outputs": [],
   "source": [
    "def generate_and_write_cards(file_name):\n",
    "    ru_finn_cards = get_ru_finn_cards_from_file(file_name)\n",
    "\n",
    "    source_cards = [{'word': card[\"wordFirstLang\"], 'sentence': card[\"sentenceFirstLang\"], 'id': card['id']} for card in ru_finn_cards]\n",
    "    secondary_cards = [{'word': card[\"wordSecondLang\"], 'sentence': card[\"sentenceSecondLang\"], 'id': card['id']} for card in ru_finn_cards]\n",
    "\n",
    "    source_lang, target_lang, secondary_lang = 'Russian', 'Kazakh', 'Finnish'\n",
    "\n",
    "    source_target_cards, eval_results = generate_source_target_cards_with_eval_results(source_cards, secondary_cards, source_lang, target_lang, secondary_lang)\n",
    "\n",
    "    res = []\n",
    "    for card, eval_res in list(zip(source_target_cards, eval_results)):\n",
    "        res.append(check_eval(eval_res, card['sentenceFirstLang'] == ''))\n",
    "    \n",
    "    print(sum(res) / len(res))\n",
    "\n",
    "    write_cards_to_file(file_name, source_target_cards)\n",
    "    write_eval_results_to_file(file_name, eval_results)"
   ]
  },
  {
   "cell_type": "code",
   "execution_count": 23,
   "metadata": {},
   "outputs": [
    {
     "data": {
      "application/vnd.jupyter.widget-view+json": {
       "model_id": "aad9dce4d9c04f5b8b564e839076a5ae",
       "version_major": 2,
       "version_minor": 0
      },
      "text/plain": [
       "  0%|          | 0/9 [00:00<?, ?it/s]"
      ]
     },
     "metadata": {},
     "output_type": "display_data"
    },
    {
     "data": {
      "application/vnd.jupyter.widget-view+json": {
       "model_id": "8b1a75dd672040aa8c75d243485f6093",
       "version_major": 2,
       "version_minor": 0
      },
      "text/plain": [
       "  0%|          | 0/151 [00:00<?, ?it/s]"
      ]
     },
     "metadata": {},
     "output_type": "display_data"
    },
    {
     "name": "stdout",
     "output_type": "stream",
     "text": [
      "0.9602649006622517\n"
     ]
    },
    {
     "data": {
      "application/vnd.jupyter.widget-view+json": {
       "model_id": "493546f87cbf44e98ebe95de838e2662",
       "version_major": 2,
       "version_minor": 0
      },
      "text/plain": [
       "  0%|          | 0/192 [00:00<?, ?it/s]"
      ]
     },
     "metadata": {},
     "output_type": "display_data"
    },
    {
     "name": "stdout",
     "output_type": "stream",
     "text": [
      "0.953125\n"
     ]
    },
    {
     "data": {
      "application/vnd.jupyter.widget-view+json": {
       "model_id": "8492f623ceba45b99967bc5ebd6f4571",
       "version_major": 2,
       "version_minor": 0
      },
      "text/plain": [
       "  0%|          | 0/238 [00:00<?, ?it/s]"
      ]
     },
     "metadata": {},
     "output_type": "display_data"
    },
    {
     "name": "stdout",
     "output_type": "stream",
     "text": [
      "0.9411764705882353\n"
     ]
    },
    {
     "data": {
      "application/vnd.jupyter.widget-view+json": {
       "model_id": "f5499ea0e6fc4dc4a543e3921c9eae73",
       "version_major": 2,
       "version_minor": 0
      },
      "text/plain": [
       "  0%|          | 0/267 [00:00<?, ?it/s]"
      ]
     },
     "metadata": {},
     "output_type": "display_data"
    },
    {
     "ename": "KeyboardInterrupt",
     "evalue": "",
     "output_type": "error",
     "traceback": [
      "\u001b[1;31m---------------------------------------------------------------------------\u001b[0m",
      "\u001b[1;31mHTTPStatusError\u001b[0m                           Traceback (most recent call last)",
      "File \u001b[1;32mc:\\Users\\Арман\\AppData\\Local\\Programs\\Python\\Python313\\Lib\\site-packages\\openai\\_base_client.py:1040\u001b[0m, in \u001b[0;36mSyncAPIClient._request\u001b[1;34m(self, cast_to, options, retries_taken, stream, stream_cls)\u001b[0m\n\u001b[0;32m   1039\u001b[0m \u001b[38;5;28;01mtry\u001b[39;00m:\n\u001b[1;32m-> 1040\u001b[0m     \u001b[43mresponse\u001b[49m\u001b[38;5;241;43m.\u001b[39;49m\u001b[43mraise_for_status\u001b[49m\u001b[43m(\u001b[49m\u001b[43m)\u001b[49m\n\u001b[0;32m   1041\u001b[0m \u001b[38;5;28;01mexcept\u001b[39;00m httpx\u001b[38;5;241m.\u001b[39mHTTPStatusError \u001b[38;5;28;01mas\u001b[39;00m err:  \u001b[38;5;66;03m# thrown on 4xx and 5xx status code\u001b[39;00m\n",
      "File \u001b[1;32mc:\\Users\\Арман\\AppData\\Local\\Programs\\Python\\Python313\\Lib\\site-packages\\httpx\\_models.py:829\u001b[0m, in \u001b[0;36mResponse.raise_for_status\u001b[1;34m(self)\u001b[0m\n\u001b[0;32m    828\u001b[0m message \u001b[38;5;241m=\u001b[39m message\u001b[38;5;241m.\u001b[39mformat(\u001b[38;5;28mself\u001b[39m, error_type\u001b[38;5;241m=\u001b[39merror_type)\n\u001b[1;32m--> 829\u001b[0m \u001b[38;5;28;01mraise\u001b[39;00m HTTPStatusError(message, request\u001b[38;5;241m=\u001b[39mrequest, response\u001b[38;5;241m=\u001b[39m\u001b[38;5;28mself\u001b[39m)\n",
      "\u001b[1;31mHTTPStatusError\u001b[0m: Client error '429 Too Many Requests' for url 'https://pectoazureopenai.openai.azure.com/openai/deployments/gpt-4o/chat/completions?api-version=2024-07-01-preview'\nFor more information check: https://developer.mozilla.org/en-US/docs/Web/HTTP/Status/429",
      "\nDuring handling of the above exception, another exception occurred:\n",
      "\u001b[1;31mKeyboardInterrupt\u001b[0m                         Traceback (most recent call last)",
      "Cell \u001b[1;32mIn[23], line 4\u001b[0m\n\u001b[0;32m      1\u001b[0m first_book \u001b[38;5;241m=\u001b[39m [\u001b[38;5;124mf\u001b[39m\u001b[38;5;124m'\u001b[39m\u001b[38;5;124msm1_new_kap\u001b[39m\u001b[38;5;132;01m{\u001b[39;00mi\u001b[38;5;132;01m}\u001b[39;00m\u001b[38;5;124m.json\u001b[39m\u001b[38;5;124m'\u001b[39m \u001b[38;5;28;01mfor\u001b[39;00m i \u001b[38;5;129;01min\u001b[39;00m \u001b[38;5;28mrange\u001b[39m(\u001b[38;5;241m1\u001b[39m, \u001b[38;5;241m10\u001b[39m)]\n\u001b[0;32m      3\u001b[0m \u001b[38;5;28;01mfor\u001b[39;00m file_name \u001b[38;5;129;01min\u001b[39;00m tqdm(first_book):\n\u001b[1;32m----> 4\u001b[0m     \u001b[43mgenerate_and_write_cards\u001b[49m\u001b[43m(\u001b[49m\u001b[43mfile_name\u001b[49m\u001b[43m)\u001b[49m\n",
      "Cell \u001b[1;32mIn[22], line 9\u001b[0m, in \u001b[0;36mgenerate_and_write_cards\u001b[1;34m(file_name)\u001b[0m\n\u001b[0;32m      5\u001b[0m secondary_cards \u001b[38;5;241m=\u001b[39m [{\u001b[38;5;124m'\u001b[39m\u001b[38;5;124mword\u001b[39m\u001b[38;5;124m'\u001b[39m: card[\u001b[38;5;124m\"\u001b[39m\u001b[38;5;124mwordSecondLang\u001b[39m\u001b[38;5;124m\"\u001b[39m], \u001b[38;5;124m'\u001b[39m\u001b[38;5;124msentence\u001b[39m\u001b[38;5;124m'\u001b[39m: card[\u001b[38;5;124m\"\u001b[39m\u001b[38;5;124msentenceSecondLang\u001b[39m\u001b[38;5;124m\"\u001b[39m], \u001b[38;5;124m'\u001b[39m\u001b[38;5;124mid\u001b[39m\u001b[38;5;124m'\u001b[39m: card[\u001b[38;5;124m'\u001b[39m\u001b[38;5;124mid\u001b[39m\u001b[38;5;124m'\u001b[39m]} \u001b[38;5;28;01mfor\u001b[39;00m card \u001b[38;5;129;01min\u001b[39;00m ru_finn_cards]\n\u001b[0;32m      7\u001b[0m source_lang, target_lang, secondary_lang \u001b[38;5;241m=\u001b[39m \u001b[38;5;124m'\u001b[39m\u001b[38;5;124mRussian\u001b[39m\u001b[38;5;124m'\u001b[39m, \u001b[38;5;124m'\u001b[39m\u001b[38;5;124mKazakh\u001b[39m\u001b[38;5;124m'\u001b[39m, \u001b[38;5;124m'\u001b[39m\u001b[38;5;124mFinnish\u001b[39m\u001b[38;5;124m'\u001b[39m\n\u001b[1;32m----> 9\u001b[0m source_target_cards, eval_results \u001b[38;5;241m=\u001b[39m \u001b[43mgenerate_source_target_cards_with_eval_results\u001b[49m\u001b[43m(\u001b[49m\u001b[43msource_cards\u001b[49m\u001b[43m,\u001b[49m\u001b[43m \u001b[49m\u001b[43msecondary_cards\u001b[49m\u001b[43m,\u001b[49m\u001b[43m \u001b[49m\u001b[43msource_lang\u001b[49m\u001b[43m,\u001b[49m\u001b[43m \u001b[49m\u001b[43mtarget_lang\u001b[49m\u001b[43m,\u001b[49m\u001b[43m \u001b[49m\u001b[43msecondary_lang\u001b[49m\u001b[43m)\u001b[49m\n\u001b[0;32m     11\u001b[0m res \u001b[38;5;241m=\u001b[39m []\n\u001b[0;32m     12\u001b[0m \u001b[38;5;28;01mfor\u001b[39;00m card, eval_res \u001b[38;5;129;01min\u001b[39;00m \u001b[38;5;28mlist\u001b[39m(\u001b[38;5;28mzip\u001b[39m(source_target_cards, eval_results)):\n",
      "Cell \u001b[1;32mIn[18], line 20\u001b[0m, in \u001b[0;36mgenerate_source_target_cards_with_eval_results\u001b[1;34m(source_cards, secondary_cards, source_lang, target_lang, secondary_lang)\u001b[0m\n\u001b[0;32m     18\u001b[0m \u001b[38;5;28;01mwhile\u001b[39;00m \u001b[38;5;28;01mTrue\u001b[39;00m:\n\u001b[0;32m     19\u001b[0m     \u001b[38;5;28;01mtry\u001b[39;00m:\n\u001b[1;32m---> 20\u001b[0m         target_card, eval_res \u001b[38;5;241m=\u001b[39m \u001b[43mcard_handler_with_agents\u001b[49m\u001b[43m(\u001b[49m\u001b[43msource_card\u001b[49m\u001b[43m,\u001b[49m\u001b[43m \u001b[49m\u001b[43msecondary_card\u001b[49m\u001b[43m,\u001b[49m\u001b[43m \u001b[49m\u001b[43mcard_id\u001b[49m\u001b[43m,\u001b[49m\u001b[43m \u001b[49m\u001b[43msource_lang\u001b[49m\u001b[43m,\u001b[49m\u001b[43m \u001b[49m\u001b[43mtarget_lang\u001b[49m\u001b[43m,\u001b[49m\u001b[43m \u001b[49m\u001b[43msecondary_lang\u001b[49m\u001b[43m)\u001b[49m\n\u001b[0;32m     22\u001b[0m         card \u001b[38;5;241m=\u001b[39m {}\n\u001b[0;32m     23\u001b[0m         card[\u001b[38;5;124m\"\u001b[39m\u001b[38;5;124mwordFirstLang\u001b[39m\u001b[38;5;124m\"\u001b[39m] \u001b[38;5;241m=\u001b[39m source_card[\u001b[38;5;124m'\u001b[39m\u001b[38;5;124mword\u001b[39m\u001b[38;5;124m'\u001b[39m]\n",
      "Cell \u001b[1;32mIn[17], line 25\u001b[0m, in \u001b[0;36mcard_handler_with_agents\u001b[1;34m(source_card, secondary_card, card_id, source_lang, target_lang, secondary_lang, num_iter, num_agents)\u001b[0m\n\u001b[0;32m     23\u001b[0m     target_card \u001b[38;5;241m=\u001b[39m meaxture_of_improving_agents(source_card, secondary_card, target_card, card_id, source_lang, target_lang, secondary_lang, eval_result)\n\u001b[0;32m     24\u001b[0m \u001b[38;5;28;01melse\u001b[39;00m:\n\u001b[1;32m---> 25\u001b[0m     target_card \u001b[38;5;241m=\u001b[39m \u001b[43mmeaxture_of_improving_agents\u001b[49m\u001b[43m(\u001b[49m\u001b[43msource_card\u001b[49m\u001b[43m,\u001b[49m\u001b[43m \u001b[49m\u001b[43msecondary_card\u001b[49m\u001b[43m,\u001b[49m\u001b[43m \u001b[49m\u001b[43mtarget_card\u001b[49m\u001b[43m,\u001b[49m\u001b[43m \u001b[49m\u001b[43mcard_id\u001b[49m\u001b[43m,\u001b[49m\u001b[43m \u001b[49m\u001b[43msource_lang\u001b[49m\u001b[43m,\u001b[49m\u001b[43m \u001b[49m\u001b[43mtarget_lang\u001b[49m\u001b[43m,\u001b[49m\u001b[43m \u001b[49m\u001b[43msecondary_lang\u001b[49m\u001b[43m,\u001b[49m\u001b[43m \u001b[49m\u001b[43meval_result\u001b[49m\u001b[43m)\u001b[49m\n\u001b[0;32m     27\u001b[0m \u001b[38;5;28;01mif\u001b[39;00m is_phrase_card_:\n\u001b[0;32m     28\u001b[0m     eval_result \u001b[38;5;241m=\u001b[39m eval_phrase_card(source_card, secondary_card, target_card, card_id, source_lang, target_lang, secondary_lang)\n",
      "Cell \u001b[1;32mIn[16], line 11\u001b[0m, in \u001b[0;36mmeaxture_of_improving_agents\u001b[1;34m(source_card, secondary_card, target_card, card_id, source_lang, target_lang, secondary_lang, eval_result, n_models)\u001b[0m\n\u001b[0;32m      9\u001b[0m         improved_eng_finn_card \u001b[38;5;241m=\u001b[39m improve_phrase_card(source_card, secondary_card, target_card, card_id, source_lang, target_lang, secondary_lang, eval_result, system_prompt\u001b[38;5;241m=\u001b[39ms_p)\n\u001b[0;32m     10\u001b[0m     \u001b[38;5;28;01melse\u001b[39;00m:\n\u001b[1;32m---> 11\u001b[0m         improved_eng_finn_card \u001b[38;5;241m=\u001b[39m \u001b[43mimprove_full_card\u001b[49m\u001b[43m(\u001b[49m\u001b[43msource_card\u001b[49m\u001b[43m,\u001b[49m\u001b[43m \u001b[49m\u001b[43msecondary_card\u001b[49m\u001b[43m,\u001b[49m\u001b[43m \u001b[49m\u001b[43mtarget_card\u001b[49m\u001b[43m,\u001b[49m\u001b[43m \u001b[49m\u001b[43mcard_id\u001b[49m\u001b[43m,\u001b[49m\u001b[43m \u001b[49m\u001b[43msource_lang\u001b[49m\u001b[43m,\u001b[49m\u001b[43m \u001b[49m\u001b[43mtarget_lang\u001b[49m\u001b[43m,\u001b[49m\u001b[43m \u001b[49m\u001b[43msecondary_lang\u001b[49m\u001b[43m,\u001b[49m\u001b[43m \u001b[49m\u001b[43meval_result\u001b[49m\u001b[43m,\u001b[49m\u001b[43m \u001b[49m\u001b[43msystem_prompt\u001b[49m\u001b[38;5;241;43m=\u001b[39;49m\u001b[43ms_p\u001b[49m\u001b[43m)\u001b[49m\n\u001b[0;32m     13\u001b[0m     target_cards\u001b[38;5;241m.\u001b[39mappend(improved_eng_finn_card)\n\u001b[0;32m     15\u001b[0m card \u001b[38;5;241m=\u001b[39m regressor(source_card, secondary_card, target_cards, card_id, source_lang, target_lang, secondary_lang, n_models)\n",
      "Cell \u001b[1;32mIn[11], line 82\u001b[0m, in \u001b[0;36mimprove_full_card\u001b[1;34m(source_card, secondary_card, target_card, card_id, source_lang, target_lang, secondary_lang, eval_result, system_prompt, model)\u001b[0m\n\u001b[0;32m      5\u001b[0m target_word, target_sentence, _ \u001b[38;5;241m=\u001b[39m target_card\u001b[38;5;241m.\u001b[39mitems()\n\u001b[0;32m      7\u001b[0m user_prompt \u001b[38;5;241m=\u001b[39m \u001b[38;5;124mf\u001b[39m\u001b[38;5;124m\"\"\"\u001b[39m\n\u001b[0;32m      8\u001b[0m \u001b[38;5;124m**Translate the given \u001b[39m\u001b[38;5;132;01m{\u001b[39;00msource_lang\u001b[38;5;132;01m}\u001b[39;00m\u001b[38;5;124m word or phrase into \u001b[39m\u001b[38;5;132;01m{\u001b[39;00mtarget_lang\u001b[38;5;132;01m}\u001b[39;00m\u001b[38;5;124m and use it within the provided \u001b[39m\u001b[38;5;132;01m{\u001b[39;00msource_lang\u001b[38;5;132;01m}\u001b[39;00m\u001b[38;5;124m sentence to create a natural and accurate \u001b[39m\u001b[38;5;132;01m{\u001b[39;00mtarget_lang\u001b[38;5;132;01m}\u001b[39;00m\u001b[38;5;124m translation. Use the \u001b[39m\u001b[38;5;132;01m{\u001b[39;00msecondary_lang\u001b[38;5;132;01m}\u001b[39;00m\u001b[38;5;124m word or sentence as additional context if needed. Focus on accurately conveying the meaning of the \u001b[39m\u001b[38;5;132;01m{\u001b[39;00msource_lang\u001b[38;5;132;01m}\u001b[39;00m\u001b[38;5;124m source while incorporating all feedback and suggestions from the evaluation results.**  \u001b[39m\n\u001b[0;32m      9\u001b[0m \n\u001b[1;32m   (...)\u001b[0m\n\u001b[0;32m     79\u001b[0m \u001b[38;5;124m3. Return the translation without any external quotation marks (do not wrap the result in quotes)\u001b[39m\n\u001b[0;32m     80\u001b[0m \u001b[38;5;124m\u001b[39m\u001b[38;5;124m\"\"\"\u001b[39m\n\u001b[1;32m---> 82\u001b[0m response \u001b[38;5;241m=\u001b[39m \u001b[43mclient\u001b[49m\u001b[38;5;241;43m.\u001b[39;49m\u001b[43mchat\u001b[49m\u001b[38;5;241;43m.\u001b[39;49m\u001b[43mcompletions\u001b[49m\u001b[38;5;241;43m.\u001b[39;49m\u001b[43mcreate\u001b[49m\u001b[43m(\u001b[49m\n\u001b[0;32m     83\u001b[0m \u001b[43m    \u001b[49m\u001b[43mmodel\u001b[49m\u001b[38;5;241;43m=\u001b[39;49m\u001b[43mmodel\u001b[49m\u001b[43m,\u001b[49m\n\u001b[0;32m     84\u001b[0m \u001b[43m    \u001b[49m\u001b[43mresponse_format\u001b[49m\u001b[38;5;241;43m=\u001b[39;49m\u001b[43m{\u001b[49m\u001b[43m \u001b[49m\u001b[38;5;124;43m\"\u001b[39;49m\u001b[38;5;124;43mtype\u001b[39;49m\u001b[38;5;124;43m\"\u001b[39;49m\u001b[43m:\u001b[49m\u001b[43m \u001b[49m\u001b[38;5;124;43m\"\u001b[39;49m\u001b[38;5;124;43mjson_object\u001b[39;49m\u001b[38;5;124;43m\"\u001b[39;49m\u001b[43m \u001b[49m\u001b[43m}\u001b[49m\u001b[43m,\u001b[49m\n\u001b[0;32m     85\u001b[0m \u001b[43m    \u001b[49m\u001b[43mmessages\u001b[49m\u001b[38;5;241;43m=\u001b[39;49m\u001b[43m[\u001b[49m\n\u001b[0;32m     86\u001b[0m \u001b[43m    \u001b[49m\u001b[43m{\u001b[49m\u001b[38;5;124;43m\"\u001b[39;49m\u001b[38;5;124;43mrole\u001b[39;49m\u001b[38;5;124;43m\"\u001b[39;49m\u001b[43m:\u001b[49m\u001b[43m \u001b[49m\u001b[38;5;124;43m\"\u001b[39;49m\u001b[38;5;124;43msystem\u001b[39;49m\u001b[38;5;124;43m\"\u001b[39;49m\u001b[43m,\u001b[49m\u001b[43m \u001b[49m\u001b[38;5;124;43m\"\u001b[39;49m\u001b[38;5;124;43mcontent\u001b[39;49m\u001b[38;5;124;43m\"\u001b[39;49m\u001b[43m:\u001b[49m\u001b[43m \u001b[49m\u001b[43msystem_prompt\u001b[49m\u001b[38;5;241;43m.\u001b[39;49m\u001b[43mstrip\u001b[49m\u001b[43m(\u001b[49m\u001b[43m)\u001b[49m\u001b[43m}\u001b[49m\u001b[43m,\u001b[49m\n\u001b[0;32m     87\u001b[0m \u001b[43m    \u001b[49m\u001b[43m{\u001b[49m\u001b[38;5;124;43m\"\u001b[39;49m\u001b[38;5;124;43mrole\u001b[39;49m\u001b[38;5;124;43m\"\u001b[39;49m\u001b[43m:\u001b[49m\u001b[43m \u001b[49m\u001b[38;5;124;43m\"\u001b[39;49m\u001b[38;5;124;43muser\u001b[39;49m\u001b[38;5;124;43m\"\u001b[39;49m\u001b[43m,\u001b[49m\u001b[43m \u001b[49m\u001b[38;5;124;43m\"\u001b[39;49m\u001b[38;5;124;43mcontent\u001b[39;49m\u001b[38;5;124;43m\"\u001b[39;49m\u001b[43m:\u001b[49m\u001b[43m \u001b[49m\u001b[43muser_prompt\u001b[49m\u001b[38;5;241;43m.\u001b[39;49m\u001b[43mstrip\u001b[49m\u001b[43m(\u001b[49m\u001b[43m)\u001b[49m\u001b[43m}\u001b[49m\n\u001b[0;32m     88\u001b[0m \u001b[43m    \u001b[49m\u001b[43m]\u001b[49m\n\u001b[0;32m     89\u001b[0m \u001b[43m\u001b[49m\u001b[43m)\u001b[49m\n\u001b[0;32m     91\u001b[0m response_dict \u001b[38;5;241m=\u001b[39m json\u001b[38;5;241m.\u001b[39mloads(response\u001b[38;5;241m.\u001b[39mchoices[\u001b[38;5;241m0\u001b[39m]\u001b[38;5;241m.\u001b[39mmessage\u001b[38;5;241m.\u001b[39mcontent\u001b[38;5;241m.\u001b[39mstrip())\n\u001b[0;32m     92\u001b[0m tr_word \u001b[38;5;241m=\u001b[39m response_dict[\u001b[38;5;124m'\u001b[39m\u001b[38;5;124mtranslatedWord\u001b[39m\u001b[38;5;124m'\u001b[39m]\n",
      "File \u001b[1;32mc:\\Users\\Арман\\AppData\\Local\\Programs\\Python\\Python313\\Lib\\site-packages\\openai\\_utils\\_utils.py:275\u001b[0m, in \u001b[0;36mrequired_args.<locals>.inner.<locals>.wrapper\u001b[1;34m(*args, **kwargs)\u001b[0m\n\u001b[0;32m    273\u001b[0m             msg \u001b[38;5;241m=\u001b[39m \u001b[38;5;124mf\u001b[39m\u001b[38;5;124m\"\u001b[39m\u001b[38;5;124mMissing required argument: \u001b[39m\u001b[38;5;132;01m{\u001b[39;00mquote(missing[\u001b[38;5;241m0\u001b[39m])\u001b[38;5;132;01m}\u001b[39;00m\u001b[38;5;124m\"\u001b[39m\n\u001b[0;32m    274\u001b[0m     \u001b[38;5;28;01mraise\u001b[39;00m \u001b[38;5;167;01mTypeError\u001b[39;00m(msg)\n\u001b[1;32m--> 275\u001b[0m \u001b[38;5;28;01mreturn\u001b[39;00m \u001b[43mfunc\u001b[49m\u001b[43m(\u001b[49m\u001b[38;5;241;43m*\u001b[39;49m\u001b[43margs\u001b[49m\u001b[43m,\u001b[49m\u001b[43m \u001b[49m\u001b[38;5;241;43m*\u001b[39;49m\u001b[38;5;241;43m*\u001b[39;49m\u001b[43mkwargs\u001b[49m\u001b[43m)\u001b[49m\n",
      "File \u001b[1;32mc:\\Users\\Арман\\AppData\\Local\\Programs\\Python\\Python313\\Lib\\site-packages\\openai\\resources\\chat\\completions.py:829\u001b[0m, in \u001b[0;36mCompletions.create\u001b[1;34m(self, messages, model, audio, frequency_penalty, function_call, functions, logit_bias, logprobs, max_completion_tokens, max_tokens, metadata, modalities, n, parallel_tool_calls, prediction, presence_penalty, response_format, seed, service_tier, stop, store, stream, stream_options, temperature, tool_choice, tools, top_logprobs, top_p, user, extra_headers, extra_query, extra_body, timeout)\u001b[0m\n\u001b[0;32m    788\u001b[0m \u001b[38;5;129m@required_args\u001b[39m([\u001b[38;5;124m\"\u001b[39m\u001b[38;5;124mmessages\u001b[39m\u001b[38;5;124m\"\u001b[39m, \u001b[38;5;124m\"\u001b[39m\u001b[38;5;124mmodel\u001b[39m\u001b[38;5;124m\"\u001b[39m], [\u001b[38;5;124m\"\u001b[39m\u001b[38;5;124mmessages\u001b[39m\u001b[38;5;124m\"\u001b[39m, \u001b[38;5;124m\"\u001b[39m\u001b[38;5;124mmodel\u001b[39m\u001b[38;5;124m\"\u001b[39m, \u001b[38;5;124m\"\u001b[39m\u001b[38;5;124mstream\u001b[39m\u001b[38;5;124m\"\u001b[39m])\n\u001b[0;32m    789\u001b[0m \u001b[38;5;28;01mdef\u001b[39;00m \u001b[38;5;21mcreate\u001b[39m(\n\u001b[0;32m    790\u001b[0m     \u001b[38;5;28mself\u001b[39m,\n\u001b[1;32m   (...)\u001b[0m\n\u001b[0;32m    826\u001b[0m     timeout: \u001b[38;5;28mfloat\u001b[39m \u001b[38;5;241m|\u001b[39m httpx\u001b[38;5;241m.\u001b[39mTimeout \u001b[38;5;241m|\u001b[39m \u001b[38;5;28;01mNone\u001b[39;00m \u001b[38;5;241m|\u001b[39m NotGiven \u001b[38;5;241m=\u001b[39m NOT_GIVEN,\n\u001b[0;32m    827\u001b[0m ) \u001b[38;5;241m-\u001b[39m\u001b[38;5;241m>\u001b[39m ChatCompletion \u001b[38;5;241m|\u001b[39m Stream[ChatCompletionChunk]:\n\u001b[0;32m    828\u001b[0m     validate_response_format(response_format)\n\u001b[1;32m--> 829\u001b[0m     \u001b[38;5;28;01mreturn\u001b[39;00m \u001b[38;5;28;43mself\u001b[39;49m\u001b[38;5;241;43m.\u001b[39;49m\u001b[43m_post\u001b[49m\u001b[43m(\u001b[49m\n\u001b[0;32m    830\u001b[0m \u001b[43m        \u001b[49m\u001b[38;5;124;43m\"\u001b[39;49m\u001b[38;5;124;43m/chat/completions\u001b[39;49m\u001b[38;5;124;43m\"\u001b[39;49m\u001b[43m,\u001b[49m\n\u001b[0;32m    831\u001b[0m \u001b[43m        \u001b[49m\u001b[43mbody\u001b[49m\u001b[38;5;241;43m=\u001b[39;49m\u001b[43mmaybe_transform\u001b[49m\u001b[43m(\u001b[49m\n\u001b[0;32m    832\u001b[0m \u001b[43m            \u001b[49m\u001b[43m{\u001b[49m\n\u001b[0;32m    833\u001b[0m \u001b[43m                \u001b[49m\u001b[38;5;124;43m\"\u001b[39;49m\u001b[38;5;124;43mmessages\u001b[39;49m\u001b[38;5;124;43m\"\u001b[39;49m\u001b[43m:\u001b[49m\u001b[43m \u001b[49m\u001b[43mmessages\u001b[49m\u001b[43m,\u001b[49m\n\u001b[0;32m    834\u001b[0m \u001b[43m                \u001b[49m\u001b[38;5;124;43m\"\u001b[39;49m\u001b[38;5;124;43mmodel\u001b[39;49m\u001b[38;5;124;43m\"\u001b[39;49m\u001b[43m:\u001b[49m\u001b[43m \u001b[49m\u001b[43mmodel\u001b[49m\u001b[43m,\u001b[49m\n\u001b[0;32m    835\u001b[0m \u001b[43m                \u001b[49m\u001b[38;5;124;43m\"\u001b[39;49m\u001b[38;5;124;43maudio\u001b[39;49m\u001b[38;5;124;43m\"\u001b[39;49m\u001b[43m:\u001b[49m\u001b[43m \u001b[49m\u001b[43maudio\u001b[49m\u001b[43m,\u001b[49m\n\u001b[0;32m    836\u001b[0m \u001b[43m                \u001b[49m\u001b[38;5;124;43m\"\u001b[39;49m\u001b[38;5;124;43mfrequency_penalty\u001b[39;49m\u001b[38;5;124;43m\"\u001b[39;49m\u001b[43m:\u001b[49m\u001b[43m \u001b[49m\u001b[43mfrequency_penalty\u001b[49m\u001b[43m,\u001b[49m\n\u001b[0;32m    837\u001b[0m \u001b[43m                \u001b[49m\u001b[38;5;124;43m\"\u001b[39;49m\u001b[38;5;124;43mfunction_call\u001b[39;49m\u001b[38;5;124;43m\"\u001b[39;49m\u001b[43m:\u001b[49m\u001b[43m \u001b[49m\u001b[43mfunction_call\u001b[49m\u001b[43m,\u001b[49m\n\u001b[0;32m    838\u001b[0m \u001b[43m                \u001b[49m\u001b[38;5;124;43m\"\u001b[39;49m\u001b[38;5;124;43mfunctions\u001b[39;49m\u001b[38;5;124;43m\"\u001b[39;49m\u001b[43m:\u001b[49m\u001b[43m \u001b[49m\u001b[43mfunctions\u001b[49m\u001b[43m,\u001b[49m\n\u001b[0;32m    839\u001b[0m \u001b[43m                \u001b[49m\u001b[38;5;124;43m\"\u001b[39;49m\u001b[38;5;124;43mlogit_bias\u001b[39;49m\u001b[38;5;124;43m\"\u001b[39;49m\u001b[43m:\u001b[49m\u001b[43m \u001b[49m\u001b[43mlogit_bias\u001b[49m\u001b[43m,\u001b[49m\n\u001b[0;32m    840\u001b[0m \u001b[43m                \u001b[49m\u001b[38;5;124;43m\"\u001b[39;49m\u001b[38;5;124;43mlogprobs\u001b[39;49m\u001b[38;5;124;43m\"\u001b[39;49m\u001b[43m:\u001b[49m\u001b[43m \u001b[49m\u001b[43mlogprobs\u001b[49m\u001b[43m,\u001b[49m\n\u001b[0;32m    841\u001b[0m \u001b[43m                \u001b[49m\u001b[38;5;124;43m\"\u001b[39;49m\u001b[38;5;124;43mmax_completion_tokens\u001b[39;49m\u001b[38;5;124;43m\"\u001b[39;49m\u001b[43m:\u001b[49m\u001b[43m \u001b[49m\u001b[43mmax_completion_tokens\u001b[49m\u001b[43m,\u001b[49m\n\u001b[0;32m    842\u001b[0m \u001b[43m                \u001b[49m\u001b[38;5;124;43m\"\u001b[39;49m\u001b[38;5;124;43mmax_tokens\u001b[39;49m\u001b[38;5;124;43m\"\u001b[39;49m\u001b[43m:\u001b[49m\u001b[43m \u001b[49m\u001b[43mmax_tokens\u001b[49m\u001b[43m,\u001b[49m\n\u001b[0;32m    843\u001b[0m \u001b[43m                \u001b[49m\u001b[38;5;124;43m\"\u001b[39;49m\u001b[38;5;124;43mmetadata\u001b[39;49m\u001b[38;5;124;43m\"\u001b[39;49m\u001b[43m:\u001b[49m\u001b[43m \u001b[49m\u001b[43mmetadata\u001b[49m\u001b[43m,\u001b[49m\n\u001b[0;32m    844\u001b[0m \u001b[43m                \u001b[49m\u001b[38;5;124;43m\"\u001b[39;49m\u001b[38;5;124;43mmodalities\u001b[39;49m\u001b[38;5;124;43m\"\u001b[39;49m\u001b[43m:\u001b[49m\u001b[43m \u001b[49m\u001b[43mmodalities\u001b[49m\u001b[43m,\u001b[49m\n\u001b[0;32m    845\u001b[0m \u001b[43m                \u001b[49m\u001b[38;5;124;43m\"\u001b[39;49m\u001b[38;5;124;43mn\u001b[39;49m\u001b[38;5;124;43m\"\u001b[39;49m\u001b[43m:\u001b[49m\u001b[43m \u001b[49m\u001b[43mn\u001b[49m\u001b[43m,\u001b[49m\n\u001b[0;32m    846\u001b[0m \u001b[43m                \u001b[49m\u001b[38;5;124;43m\"\u001b[39;49m\u001b[38;5;124;43mparallel_tool_calls\u001b[39;49m\u001b[38;5;124;43m\"\u001b[39;49m\u001b[43m:\u001b[49m\u001b[43m \u001b[49m\u001b[43mparallel_tool_calls\u001b[49m\u001b[43m,\u001b[49m\n\u001b[0;32m    847\u001b[0m \u001b[43m                \u001b[49m\u001b[38;5;124;43m\"\u001b[39;49m\u001b[38;5;124;43mprediction\u001b[39;49m\u001b[38;5;124;43m\"\u001b[39;49m\u001b[43m:\u001b[49m\u001b[43m \u001b[49m\u001b[43mprediction\u001b[49m\u001b[43m,\u001b[49m\n\u001b[0;32m    848\u001b[0m \u001b[43m                \u001b[49m\u001b[38;5;124;43m\"\u001b[39;49m\u001b[38;5;124;43mpresence_penalty\u001b[39;49m\u001b[38;5;124;43m\"\u001b[39;49m\u001b[43m:\u001b[49m\u001b[43m \u001b[49m\u001b[43mpresence_penalty\u001b[49m\u001b[43m,\u001b[49m\n\u001b[0;32m    849\u001b[0m \u001b[43m                \u001b[49m\u001b[38;5;124;43m\"\u001b[39;49m\u001b[38;5;124;43mresponse_format\u001b[39;49m\u001b[38;5;124;43m\"\u001b[39;49m\u001b[43m:\u001b[49m\u001b[43m \u001b[49m\u001b[43mresponse_format\u001b[49m\u001b[43m,\u001b[49m\n\u001b[0;32m    850\u001b[0m \u001b[43m                \u001b[49m\u001b[38;5;124;43m\"\u001b[39;49m\u001b[38;5;124;43mseed\u001b[39;49m\u001b[38;5;124;43m\"\u001b[39;49m\u001b[43m:\u001b[49m\u001b[43m \u001b[49m\u001b[43mseed\u001b[49m\u001b[43m,\u001b[49m\n\u001b[0;32m    851\u001b[0m \u001b[43m                \u001b[49m\u001b[38;5;124;43m\"\u001b[39;49m\u001b[38;5;124;43mservice_tier\u001b[39;49m\u001b[38;5;124;43m\"\u001b[39;49m\u001b[43m:\u001b[49m\u001b[43m \u001b[49m\u001b[43mservice_tier\u001b[49m\u001b[43m,\u001b[49m\n\u001b[0;32m    852\u001b[0m \u001b[43m                \u001b[49m\u001b[38;5;124;43m\"\u001b[39;49m\u001b[38;5;124;43mstop\u001b[39;49m\u001b[38;5;124;43m\"\u001b[39;49m\u001b[43m:\u001b[49m\u001b[43m \u001b[49m\u001b[43mstop\u001b[49m\u001b[43m,\u001b[49m\n\u001b[0;32m    853\u001b[0m \u001b[43m                \u001b[49m\u001b[38;5;124;43m\"\u001b[39;49m\u001b[38;5;124;43mstore\u001b[39;49m\u001b[38;5;124;43m\"\u001b[39;49m\u001b[43m:\u001b[49m\u001b[43m \u001b[49m\u001b[43mstore\u001b[49m\u001b[43m,\u001b[49m\n\u001b[0;32m    854\u001b[0m \u001b[43m                \u001b[49m\u001b[38;5;124;43m\"\u001b[39;49m\u001b[38;5;124;43mstream\u001b[39;49m\u001b[38;5;124;43m\"\u001b[39;49m\u001b[43m:\u001b[49m\u001b[43m \u001b[49m\u001b[43mstream\u001b[49m\u001b[43m,\u001b[49m\n\u001b[0;32m    855\u001b[0m \u001b[43m                \u001b[49m\u001b[38;5;124;43m\"\u001b[39;49m\u001b[38;5;124;43mstream_options\u001b[39;49m\u001b[38;5;124;43m\"\u001b[39;49m\u001b[43m:\u001b[49m\u001b[43m \u001b[49m\u001b[43mstream_options\u001b[49m\u001b[43m,\u001b[49m\n\u001b[0;32m    856\u001b[0m \u001b[43m                \u001b[49m\u001b[38;5;124;43m\"\u001b[39;49m\u001b[38;5;124;43mtemperature\u001b[39;49m\u001b[38;5;124;43m\"\u001b[39;49m\u001b[43m:\u001b[49m\u001b[43m \u001b[49m\u001b[43mtemperature\u001b[49m\u001b[43m,\u001b[49m\n\u001b[0;32m    857\u001b[0m \u001b[43m                \u001b[49m\u001b[38;5;124;43m\"\u001b[39;49m\u001b[38;5;124;43mtool_choice\u001b[39;49m\u001b[38;5;124;43m\"\u001b[39;49m\u001b[43m:\u001b[49m\u001b[43m \u001b[49m\u001b[43mtool_choice\u001b[49m\u001b[43m,\u001b[49m\n\u001b[0;32m    858\u001b[0m \u001b[43m                \u001b[49m\u001b[38;5;124;43m\"\u001b[39;49m\u001b[38;5;124;43mtools\u001b[39;49m\u001b[38;5;124;43m\"\u001b[39;49m\u001b[43m:\u001b[49m\u001b[43m \u001b[49m\u001b[43mtools\u001b[49m\u001b[43m,\u001b[49m\n\u001b[0;32m    859\u001b[0m \u001b[43m                \u001b[49m\u001b[38;5;124;43m\"\u001b[39;49m\u001b[38;5;124;43mtop_logprobs\u001b[39;49m\u001b[38;5;124;43m\"\u001b[39;49m\u001b[43m:\u001b[49m\u001b[43m \u001b[49m\u001b[43mtop_logprobs\u001b[49m\u001b[43m,\u001b[49m\n\u001b[0;32m    860\u001b[0m \u001b[43m                \u001b[49m\u001b[38;5;124;43m\"\u001b[39;49m\u001b[38;5;124;43mtop_p\u001b[39;49m\u001b[38;5;124;43m\"\u001b[39;49m\u001b[43m:\u001b[49m\u001b[43m \u001b[49m\u001b[43mtop_p\u001b[49m\u001b[43m,\u001b[49m\n\u001b[0;32m    861\u001b[0m \u001b[43m                \u001b[49m\u001b[38;5;124;43m\"\u001b[39;49m\u001b[38;5;124;43muser\u001b[39;49m\u001b[38;5;124;43m\"\u001b[39;49m\u001b[43m:\u001b[49m\u001b[43m \u001b[49m\u001b[43muser\u001b[49m\u001b[43m,\u001b[49m\n\u001b[0;32m    862\u001b[0m \u001b[43m            \u001b[49m\u001b[43m}\u001b[49m\u001b[43m,\u001b[49m\n\u001b[0;32m    863\u001b[0m \u001b[43m            \u001b[49m\u001b[43mcompletion_create_params\u001b[49m\u001b[38;5;241;43m.\u001b[39;49m\u001b[43mCompletionCreateParams\u001b[49m\u001b[43m,\u001b[49m\n\u001b[0;32m    864\u001b[0m \u001b[43m        \u001b[49m\u001b[43m)\u001b[49m\u001b[43m,\u001b[49m\n\u001b[0;32m    865\u001b[0m \u001b[43m        \u001b[49m\u001b[43moptions\u001b[49m\u001b[38;5;241;43m=\u001b[39;49m\u001b[43mmake_request_options\u001b[49m\u001b[43m(\u001b[49m\n\u001b[0;32m    866\u001b[0m \u001b[43m            \u001b[49m\u001b[43mextra_headers\u001b[49m\u001b[38;5;241;43m=\u001b[39;49m\u001b[43mextra_headers\u001b[49m\u001b[43m,\u001b[49m\u001b[43m \u001b[49m\u001b[43mextra_query\u001b[49m\u001b[38;5;241;43m=\u001b[39;49m\u001b[43mextra_query\u001b[49m\u001b[43m,\u001b[49m\u001b[43m \u001b[49m\u001b[43mextra_body\u001b[49m\u001b[38;5;241;43m=\u001b[39;49m\u001b[43mextra_body\u001b[49m\u001b[43m,\u001b[49m\u001b[43m \u001b[49m\u001b[43mtimeout\u001b[49m\u001b[38;5;241;43m=\u001b[39;49m\u001b[43mtimeout\u001b[49m\n\u001b[0;32m    867\u001b[0m \u001b[43m        \u001b[49m\u001b[43m)\u001b[49m\u001b[43m,\u001b[49m\n\u001b[0;32m    868\u001b[0m \u001b[43m        \u001b[49m\u001b[43mcast_to\u001b[49m\u001b[38;5;241;43m=\u001b[39;49m\u001b[43mChatCompletion\u001b[49m\u001b[43m,\u001b[49m\n\u001b[0;32m    869\u001b[0m \u001b[43m        \u001b[49m\u001b[43mstream\u001b[49m\u001b[38;5;241;43m=\u001b[39;49m\u001b[43mstream\u001b[49m\u001b[43m \u001b[49m\u001b[38;5;129;43;01mor\u001b[39;49;00m\u001b[43m \u001b[49m\u001b[38;5;28;43;01mFalse\u001b[39;49;00m\u001b[43m,\u001b[49m\n\u001b[0;32m    870\u001b[0m \u001b[43m        \u001b[49m\u001b[43mstream_cls\u001b[49m\u001b[38;5;241;43m=\u001b[39;49m\u001b[43mStream\u001b[49m\u001b[43m[\u001b[49m\u001b[43mChatCompletionChunk\u001b[49m\u001b[43m]\u001b[49m\u001b[43m,\u001b[49m\n\u001b[0;32m    871\u001b[0m \u001b[43m    \u001b[49m\u001b[43m)\u001b[49m\n",
      "File \u001b[1;32mc:\\Users\\Арман\\AppData\\Local\\Programs\\Python\\Python313\\Lib\\site-packages\\openai\\_base_client.py:1280\u001b[0m, in \u001b[0;36mSyncAPIClient.post\u001b[1;34m(self, path, cast_to, body, options, files, stream, stream_cls)\u001b[0m\n\u001b[0;32m   1266\u001b[0m \u001b[38;5;28;01mdef\u001b[39;00m \u001b[38;5;21mpost\u001b[39m(\n\u001b[0;32m   1267\u001b[0m     \u001b[38;5;28mself\u001b[39m,\n\u001b[0;32m   1268\u001b[0m     path: \u001b[38;5;28mstr\u001b[39m,\n\u001b[1;32m   (...)\u001b[0m\n\u001b[0;32m   1275\u001b[0m     stream_cls: \u001b[38;5;28mtype\u001b[39m[_StreamT] \u001b[38;5;241m|\u001b[39m \u001b[38;5;28;01mNone\u001b[39;00m \u001b[38;5;241m=\u001b[39m \u001b[38;5;28;01mNone\u001b[39;00m,\n\u001b[0;32m   1276\u001b[0m ) \u001b[38;5;241m-\u001b[39m\u001b[38;5;241m>\u001b[39m ResponseT \u001b[38;5;241m|\u001b[39m _StreamT:\n\u001b[0;32m   1277\u001b[0m     opts \u001b[38;5;241m=\u001b[39m FinalRequestOptions\u001b[38;5;241m.\u001b[39mconstruct(\n\u001b[0;32m   1278\u001b[0m         method\u001b[38;5;241m=\u001b[39m\u001b[38;5;124m\"\u001b[39m\u001b[38;5;124mpost\u001b[39m\u001b[38;5;124m\"\u001b[39m, url\u001b[38;5;241m=\u001b[39mpath, json_data\u001b[38;5;241m=\u001b[39mbody, files\u001b[38;5;241m=\u001b[39mto_httpx_files(files), \u001b[38;5;241m*\u001b[39m\u001b[38;5;241m*\u001b[39moptions\n\u001b[0;32m   1279\u001b[0m     )\n\u001b[1;32m-> 1280\u001b[0m     \u001b[38;5;28;01mreturn\u001b[39;00m cast(ResponseT, \u001b[38;5;28;43mself\u001b[39;49m\u001b[38;5;241;43m.\u001b[39;49m\u001b[43mrequest\u001b[49m\u001b[43m(\u001b[49m\u001b[43mcast_to\u001b[49m\u001b[43m,\u001b[49m\u001b[43m \u001b[49m\u001b[43mopts\u001b[49m\u001b[43m,\u001b[49m\u001b[43m \u001b[49m\u001b[43mstream\u001b[49m\u001b[38;5;241;43m=\u001b[39;49m\u001b[43mstream\u001b[49m\u001b[43m,\u001b[49m\u001b[43m \u001b[49m\u001b[43mstream_cls\u001b[49m\u001b[38;5;241;43m=\u001b[39;49m\u001b[43mstream_cls\u001b[49m\u001b[43m)\u001b[49m)\n",
      "File \u001b[1;32mc:\\Users\\Арман\\AppData\\Local\\Programs\\Python\\Python313\\Lib\\site-packages\\openai\\_base_client.py:957\u001b[0m, in \u001b[0;36mSyncAPIClient.request\u001b[1;34m(self, cast_to, options, remaining_retries, stream, stream_cls)\u001b[0m\n\u001b[0;32m    954\u001b[0m \u001b[38;5;28;01melse\u001b[39;00m:\n\u001b[0;32m    955\u001b[0m     retries_taken \u001b[38;5;241m=\u001b[39m \u001b[38;5;241m0\u001b[39m\n\u001b[1;32m--> 957\u001b[0m \u001b[38;5;28;01mreturn\u001b[39;00m \u001b[38;5;28;43mself\u001b[39;49m\u001b[38;5;241;43m.\u001b[39;49m\u001b[43m_request\u001b[49m\u001b[43m(\u001b[49m\n\u001b[0;32m    958\u001b[0m \u001b[43m    \u001b[49m\u001b[43mcast_to\u001b[49m\u001b[38;5;241;43m=\u001b[39;49m\u001b[43mcast_to\u001b[49m\u001b[43m,\u001b[49m\n\u001b[0;32m    959\u001b[0m \u001b[43m    \u001b[49m\u001b[43moptions\u001b[49m\u001b[38;5;241;43m=\u001b[39;49m\u001b[43moptions\u001b[49m\u001b[43m,\u001b[49m\n\u001b[0;32m    960\u001b[0m \u001b[43m    \u001b[49m\u001b[43mstream\u001b[49m\u001b[38;5;241;43m=\u001b[39;49m\u001b[43mstream\u001b[49m\u001b[43m,\u001b[49m\n\u001b[0;32m    961\u001b[0m \u001b[43m    \u001b[49m\u001b[43mstream_cls\u001b[49m\u001b[38;5;241;43m=\u001b[39;49m\u001b[43mstream_cls\u001b[49m\u001b[43m,\u001b[49m\n\u001b[0;32m    962\u001b[0m \u001b[43m    \u001b[49m\u001b[43mretries_taken\u001b[49m\u001b[38;5;241;43m=\u001b[39;49m\u001b[43mretries_taken\u001b[49m\u001b[43m,\u001b[49m\n\u001b[0;32m    963\u001b[0m \u001b[43m\u001b[49m\u001b[43m)\u001b[49m\n",
      "File \u001b[1;32mc:\\Users\\Арман\\AppData\\Local\\Programs\\Python\\Python313\\Lib\\site-packages\\openai\\_base_client.py:1046\u001b[0m, in \u001b[0;36mSyncAPIClient._request\u001b[1;34m(self, cast_to, options, retries_taken, stream, stream_cls)\u001b[0m\n\u001b[0;32m   1044\u001b[0m \u001b[38;5;28;01mif\u001b[39;00m remaining_retries \u001b[38;5;241m>\u001b[39m \u001b[38;5;241m0\u001b[39m \u001b[38;5;129;01mand\u001b[39;00m \u001b[38;5;28mself\u001b[39m\u001b[38;5;241m.\u001b[39m_should_retry(err\u001b[38;5;241m.\u001b[39mresponse):\n\u001b[0;32m   1045\u001b[0m     err\u001b[38;5;241m.\u001b[39mresponse\u001b[38;5;241m.\u001b[39mclose()\n\u001b[1;32m-> 1046\u001b[0m     \u001b[38;5;28;01mreturn\u001b[39;00m \u001b[38;5;28;43mself\u001b[39;49m\u001b[38;5;241;43m.\u001b[39;49m\u001b[43m_retry_request\u001b[49m\u001b[43m(\u001b[49m\n\u001b[0;32m   1047\u001b[0m \u001b[43m        \u001b[49m\u001b[43minput_options\u001b[49m\u001b[43m,\u001b[49m\n\u001b[0;32m   1048\u001b[0m \u001b[43m        \u001b[49m\u001b[43mcast_to\u001b[49m\u001b[43m,\u001b[49m\n\u001b[0;32m   1049\u001b[0m \u001b[43m        \u001b[49m\u001b[43mretries_taken\u001b[49m\u001b[38;5;241;43m=\u001b[39;49m\u001b[43mretries_taken\u001b[49m\u001b[43m,\u001b[49m\n\u001b[0;32m   1050\u001b[0m \u001b[43m        \u001b[49m\u001b[43mresponse_headers\u001b[49m\u001b[38;5;241;43m=\u001b[39;49m\u001b[43merr\u001b[49m\u001b[38;5;241;43m.\u001b[39;49m\u001b[43mresponse\u001b[49m\u001b[38;5;241;43m.\u001b[39;49m\u001b[43mheaders\u001b[49m\u001b[43m,\u001b[49m\n\u001b[0;32m   1051\u001b[0m \u001b[43m        \u001b[49m\u001b[43mstream\u001b[49m\u001b[38;5;241;43m=\u001b[39;49m\u001b[43mstream\u001b[49m\u001b[43m,\u001b[49m\n\u001b[0;32m   1052\u001b[0m \u001b[43m        \u001b[49m\u001b[43mstream_cls\u001b[49m\u001b[38;5;241;43m=\u001b[39;49m\u001b[43mstream_cls\u001b[49m\u001b[43m,\u001b[49m\n\u001b[0;32m   1053\u001b[0m \u001b[43m    \u001b[49m\u001b[43m)\u001b[49m\n\u001b[0;32m   1055\u001b[0m \u001b[38;5;66;03m# If the response is streamed then we need to explicitly read the response\u001b[39;00m\n\u001b[0;32m   1056\u001b[0m \u001b[38;5;66;03m# to completion before attempting to access the response text.\u001b[39;00m\n\u001b[0;32m   1057\u001b[0m \u001b[38;5;28;01mif\u001b[39;00m \u001b[38;5;129;01mnot\u001b[39;00m err\u001b[38;5;241m.\u001b[39mresponse\u001b[38;5;241m.\u001b[39mis_closed:\n",
      "File \u001b[1;32mc:\\Users\\Арман\\AppData\\Local\\Programs\\Python\\Python313\\Lib\\site-packages\\openai\\_base_client.py:1093\u001b[0m, in \u001b[0;36mSyncAPIClient._retry_request\u001b[1;34m(self, options, cast_to, retries_taken, response_headers, stream, stream_cls)\u001b[0m\n\u001b[0;32m   1089\u001b[0m log\u001b[38;5;241m.\u001b[39minfo(\u001b[38;5;124m\"\u001b[39m\u001b[38;5;124mRetrying request to \u001b[39m\u001b[38;5;132;01m%s\u001b[39;00m\u001b[38;5;124m in \u001b[39m\u001b[38;5;132;01m%f\u001b[39;00m\u001b[38;5;124m seconds\u001b[39m\u001b[38;5;124m\"\u001b[39m, options\u001b[38;5;241m.\u001b[39murl, timeout)\n\u001b[0;32m   1091\u001b[0m \u001b[38;5;66;03m# In a synchronous context we are blocking the entire thread. Up to the library user to run the client in a\u001b[39;00m\n\u001b[0;32m   1092\u001b[0m \u001b[38;5;66;03m# different thread if necessary.\u001b[39;00m\n\u001b[1;32m-> 1093\u001b[0m \u001b[43mtime\u001b[49m\u001b[38;5;241;43m.\u001b[39;49m\u001b[43msleep\u001b[49m\u001b[43m(\u001b[49m\u001b[43mtimeout\u001b[49m\u001b[43m)\u001b[49m\n\u001b[0;32m   1095\u001b[0m \u001b[38;5;28;01mreturn\u001b[39;00m \u001b[38;5;28mself\u001b[39m\u001b[38;5;241m.\u001b[39m_request(\n\u001b[0;32m   1096\u001b[0m     options\u001b[38;5;241m=\u001b[39moptions,\n\u001b[0;32m   1097\u001b[0m     cast_to\u001b[38;5;241m=\u001b[39mcast_to,\n\u001b[1;32m   (...)\u001b[0m\n\u001b[0;32m   1100\u001b[0m     stream_cls\u001b[38;5;241m=\u001b[39mstream_cls,\n\u001b[0;32m   1101\u001b[0m )\n",
      "\u001b[1;31mKeyboardInterrupt\u001b[0m: "
     ]
    }
   ],
   "source": [
    "first_book = [f'sm1_new_kap{i}.json' for i in range(1, 10)]\n",
    "\n",
    "for file_name in tqdm(first_book):\n",
    "    generate_and_write_cards(file_name)"
   ]
  },
  {
   "cell_type": "code",
   "execution_count": null,
   "metadata": {},
   "outputs": [
    {
     "data": {
      "application/vnd.jupyter.widget-view+json": {
       "model_id": "002cde328f104041adbcc8daf792bdfe",
       "version_major": 2,
       "version_minor": 0
      },
      "text/plain": [
       "  0%|          | 0/6 [00:00<?, ?it/s]"
      ]
     },
     "metadata": {},
     "output_type": "display_data"
    },
    {
     "data": {
      "application/vnd.jupyter.widget-view+json": {
       "model_id": "4a17ea6d50214ca6905eb991b73d5d53",
       "version_major": 2,
       "version_minor": 0
      },
      "text/plain": [
       "  0%|          | 0/267 [00:00<?, ?it/s]"
      ]
     },
     "metadata": {},
     "output_type": "display_data"
    },
    {
     "name": "stdout",
     "output_type": "stream",
     "text": [
      "0.9363295880149812\n"
     ]
    },
    {
     "data": {
      "application/vnd.jupyter.widget-view+json": {
       "model_id": "f8884409eeda4c4aad1eab574a523332",
       "version_major": 2,
       "version_minor": 0
      },
      "text/plain": [
       "  0%|          | 0/153 [00:00<?, ?it/s]"
      ]
     },
     "metadata": {},
     "output_type": "display_data"
    },
    {
     "name": "stdout",
     "output_type": "stream",
     "text": [
      "0.954248366013072\n"
     ]
    },
    {
     "data": {
      "application/vnd.jupyter.widget-view+json": {
       "model_id": "8ed505440c834938b1c2e537063719d5",
       "version_major": 2,
       "version_minor": 0
      },
      "text/plain": [
       "  0%|          | 0/239 [00:00<?, ?it/s]"
      ]
     },
     "metadata": {},
     "output_type": "display_data"
    }
   ],
   "source": [
    "first_book = [f'sm1_new_kap{i}.json' for i in range(1, 10)]\n",
    "\n",
    "for file_name in tqdm(first_book[3:]):\n",
    "    generate_and_write_cards(file_name)"
   ]
  },
  {
   "cell_type": "code",
   "execution_count": 19,
   "metadata": {},
   "outputs": [
    {
     "data": {
      "application/vnd.jupyter.widget-view+json": {
       "model_id": "6fb35275e92e413faf7cfc3972e3d676",
       "version_major": 2,
       "version_minor": 0
      },
      "text/plain": [
       "  0%|          | 0/4 [00:00<?, ?it/s]"
      ]
     },
     "metadata": {},
     "output_type": "display_data"
    },
    {
     "data": {
      "application/vnd.jupyter.widget-view+json": {
       "model_id": "45bb7c66983544868860572258074ddb",
       "version_major": 2,
       "version_minor": 0
      },
      "text/plain": [
       "  0%|          | 0/239 [00:00<?, ?it/s]"
      ]
     },
     "metadata": {},
     "output_type": "display_data"
    },
    {
     "name": "stdout",
     "output_type": "stream",
     "text": [
      "0.9581589958158996\n"
     ]
    },
    {
     "data": {
      "application/vnd.jupyter.widget-view+json": {
       "model_id": "56c4fbe08cd94cdeadcd8fcf71228bc3",
       "version_major": 2,
       "version_minor": 0
      },
      "text/plain": [
       "  0%|          | 0/184 [00:00<?, ?it/s]"
      ]
     },
     "metadata": {},
     "output_type": "display_data"
    },
    {
     "name": "stdout",
     "output_type": "stream",
     "text": [
      "0.9619565217391305\n"
     ]
    },
    {
     "data": {
      "application/vnd.jupyter.widget-view+json": {
       "model_id": "a595713ab94d494db26727680823b310",
       "version_major": 2,
       "version_minor": 0
      },
      "text/plain": [
       "  0%|          | 0/260 [00:00<?, ?it/s]"
      ]
     },
     "metadata": {},
     "output_type": "display_data"
    },
    {
     "ename": "KeyboardInterrupt",
     "evalue": "",
     "output_type": "error",
     "traceback": [
      "\u001b[1;31m---------------------------------------------------------------------------\u001b[0m",
      "\u001b[1;31mHTTPStatusError\u001b[0m                           Traceback (most recent call last)",
      "File \u001b[1;32mc:\\Users\\Арман\\AppData\\Local\\Programs\\Python\\Python313\\Lib\\site-packages\\openai\\_base_client.py:1040\u001b[0m, in \u001b[0;36mSyncAPIClient._request\u001b[1;34m(self, cast_to, options, retries_taken, stream, stream_cls)\u001b[0m\n\u001b[0;32m   1039\u001b[0m \u001b[38;5;28;01mtry\u001b[39;00m:\n\u001b[1;32m-> 1040\u001b[0m     \u001b[43mresponse\u001b[49m\u001b[38;5;241;43m.\u001b[39;49m\u001b[43mraise_for_status\u001b[49m\u001b[43m(\u001b[49m\u001b[43m)\u001b[49m\n\u001b[0;32m   1041\u001b[0m \u001b[38;5;28;01mexcept\u001b[39;00m httpx\u001b[38;5;241m.\u001b[39mHTTPStatusError \u001b[38;5;28;01mas\u001b[39;00m err:  \u001b[38;5;66;03m# thrown on 4xx and 5xx status code\u001b[39;00m\n",
      "File \u001b[1;32mc:\\Users\\Арман\\AppData\\Local\\Programs\\Python\\Python313\\Lib\\site-packages\\httpx\\_models.py:829\u001b[0m, in \u001b[0;36mResponse.raise_for_status\u001b[1;34m(self)\u001b[0m\n\u001b[0;32m    828\u001b[0m message \u001b[38;5;241m=\u001b[39m message\u001b[38;5;241m.\u001b[39mformat(\u001b[38;5;28mself\u001b[39m, error_type\u001b[38;5;241m=\u001b[39merror_type)\n\u001b[1;32m--> 829\u001b[0m \u001b[38;5;28;01mraise\u001b[39;00m HTTPStatusError(message, request\u001b[38;5;241m=\u001b[39mrequest, response\u001b[38;5;241m=\u001b[39m\u001b[38;5;28mself\u001b[39m)\n",
      "\u001b[1;31mHTTPStatusError\u001b[0m: Client error '429 Too Many Requests' for url 'https://pectoazureopenai.openai.azure.com/openai/deployments/gpt-4o/chat/completions?api-version=2024-07-01-preview'\nFor more information check: https://developer.mozilla.org/en-US/docs/Web/HTTP/Status/429",
      "\nDuring handling of the above exception, another exception occurred:\n",
      "\u001b[1;31mKeyboardInterrupt\u001b[0m                         Traceback (most recent call last)",
      "Cell \u001b[1;32mIn[19], line 4\u001b[0m\n\u001b[0;32m      1\u001b[0m first_book \u001b[38;5;241m=\u001b[39m [\u001b[38;5;124mf\u001b[39m\u001b[38;5;124m'\u001b[39m\u001b[38;5;124msm1_new_kap\u001b[39m\u001b[38;5;132;01m{\u001b[39;00mi\u001b[38;5;132;01m}\u001b[39;00m\u001b[38;5;124m.json\u001b[39m\u001b[38;5;124m'\u001b[39m \u001b[38;5;28;01mfor\u001b[39;00m i \u001b[38;5;129;01min\u001b[39;00m \u001b[38;5;28mrange\u001b[39m(\u001b[38;5;241m1\u001b[39m, \u001b[38;5;241m10\u001b[39m)]\n\u001b[0;32m      3\u001b[0m \u001b[38;5;28;01mfor\u001b[39;00m file_name \u001b[38;5;129;01min\u001b[39;00m tqdm(first_book[\u001b[38;5;241m5\u001b[39m:]):\n\u001b[1;32m----> 4\u001b[0m     \u001b[43mgenerate_and_write_cards\u001b[49m\u001b[43m(\u001b[49m\u001b[43mfile_name\u001b[49m\u001b[43m)\u001b[49m\n",
      "Cell \u001b[1;32mIn[18], line 9\u001b[0m, in \u001b[0;36mgenerate_and_write_cards\u001b[1;34m(file_name)\u001b[0m\n\u001b[0;32m      5\u001b[0m secondary_cards \u001b[38;5;241m=\u001b[39m [{\u001b[38;5;124m'\u001b[39m\u001b[38;5;124mword\u001b[39m\u001b[38;5;124m'\u001b[39m: card[\u001b[38;5;124m\"\u001b[39m\u001b[38;5;124mwordSecondLang\u001b[39m\u001b[38;5;124m\"\u001b[39m], \u001b[38;5;124m'\u001b[39m\u001b[38;5;124msentence\u001b[39m\u001b[38;5;124m'\u001b[39m: card[\u001b[38;5;124m\"\u001b[39m\u001b[38;5;124msentenceSecondLang\u001b[39m\u001b[38;5;124m\"\u001b[39m], \u001b[38;5;124m'\u001b[39m\u001b[38;5;124mid\u001b[39m\u001b[38;5;124m'\u001b[39m: card[\u001b[38;5;124m'\u001b[39m\u001b[38;5;124mid\u001b[39m\u001b[38;5;124m'\u001b[39m]} \u001b[38;5;28;01mfor\u001b[39;00m card \u001b[38;5;129;01min\u001b[39;00m ru_finn_cards]\n\u001b[0;32m      7\u001b[0m source_lang, target_lang, secondary_lang \u001b[38;5;241m=\u001b[39m \u001b[38;5;124m'\u001b[39m\u001b[38;5;124mRussian\u001b[39m\u001b[38;5;124m'\u001b[39m, \u001b[38;5;124m'\u001b[39m\u001b[38;5;124mKazakh\u001b[39m\u001b[38;5;124m'\u001b[39m, \u001b[38;5;124m'\u001b[39m\u001b[38;5;124mFinnish\u001b[39m\u001b[38;5;124m'\u001b[39m\n\u001b[1;32m----> 9\u001b[0m source_target_cards, eval_results \u001b[38;5;241m=\u001b[39m \u001b[43mgenerate_source_target_cards_with_eval_results\u001b[49m\u001b[43m(\u001b[49m\u001b[43msource_cards\u001b[49m\u001b[43m,\u001b[49m\u001b[43m \u001b[49m\u001b[43msecondary_cards\u001b[49m\u001b[43m,\u001b[49m\u001b[43m \u001b[49m\u001b[43msource_lang\u001b[49m\u001b[43m,\u001b[49m\u001b[43m \u001b[49m\u001b[43mtarget_lang\u001b[49m\u001b[43m,\u001b[49m\u001b[43m \u001b[49m\u001b[43msecondary_lang\u001b[49m\u001b[43m)\u001b[49m\n\u001b[0;32m     11\u001b[0m res \u001b[38;5;241m=\u001b[39m []\n\u001b[0;32m     12\u001b[0m \u001b[38;5;28;01mfor\u001b[39;00m card, eval_res \u001b[38;5;129;01min\u001b[39;00m \u001b[38;5;28mlist\u001b[39m(\u001b[38;5;28mzip\u001b[39m(source_target_cards, eval_results)):\n",
      "Cell \u001b[1;32mIn[17], line 20\u001b[0m, in \u001b[0;36mgenerate_source_target_cards_with_eval_results\u001b[1;34m(source_cards, secondary_cards, source_lang, target_lang, secondary_lang)\u001b[0m\n\u001b[0;32m     18\u001b[0m \u001b[38;5;28;01mwhile\u001b[39;00m \u001b[38;5;28;01mTrue\u001b[39;00m:\n\u001b[0;32m     19\u001b[0m     \u001b[38;5;28;01mtry\u001b[39;00m:\n\u001b[1;32m---> 20\u001b[0m         target_card, eval_res \u001b[38;5;241m=\u001b[39m \u001b[43mcard_handler_with_agents\u001b[49m\u001b[43m(\u001b[49m\u001b[43msource_card\u001b[49m\u001b[43m,\u001b[49m\u001b[43m \u001b[49m\u001b[43msecondary_card\u001b[49m\u001b[43m,\u001b[49m\u001b[43m \u001b[49m\u001b[43mcard_id\u001b[49m\u001b[43m,\u001b[49m\u001b[43m \u001b[49m\u001b[43msource_lang\u001b[49m\u001b[43m,\u001b[49m\u001b[43m \u001b[49m\u001b[43mtarget_lang\u001b[49m\u001b[43m,\u001b[49m\u001b[43m \u001b[49m\u001b[43msecondary_lang\u001b[49m\u001b[43m)\u001b[49m\n\u001b[0;32m     22\u001b[0m         card \u001b[38;5;241m=\u001b[39m {}\n\u001b[0;32m     23\u001b[0m         card[\u001b[38;5;124m\"\u001b[39m\u001b[38;5;124mwordFirstLang\u001b[39m\u001b[38;5;124m\"\u001b[39m] \u001b[38;5;241m=\u001b[39m source_card[\u001b[38;5;124m'\u001b[39m\u001b[38;5;124mword\u001b[39m\u001b[38;5;124m'\u001b[39m]\n",
      "Cell \u001b[1;32mIn[16], line 9\u001b[0m, in \u001b[0;36mcard_handler_with_agents\u001b[1;34m(source_card, secondary_card, card_id, source_lang, target_lang, secondary_lang, num_iter, num_agents)\u001b[0m\n\u001b[0;32m      7\u001b[0m     target_card \u001b[38;5;241m=\u001b[39m generate_phrase_card(source_card, secondary_card, card_id, source_lang, target_lang, secondary_lang)\n\u001b[0;32m      8\u001b[0m \u001b[38;5;28;01melse\u001b[39;00m:\n\u001b[1;32m----> 9\u001b[0m     target_card \u001b[38;5;241m=\u001b[39m \u001b[43mgenerate_full_card\u001b[49m\u001b[43m(\u001b[49m\u001b[43msource_card\u001b[49m\u001b[43m,\u001b[49m\u001b[43m \u001b[49m\u001b[43msecondary_card\u001b[49m\u001b[43m,\u001b[49m\u001b[43m \u001b[49m\u001b[43mcard_id\u001b[49m\u001b[43m,\u001b[49m\u001b[43m \u001b[49m\u001b[43msource_lang\u001b[49m\u001b[43m,\u001b[49m\u001b[43m \u001b[49m\u001b[43mtarget_lang\u001b[49m\u001b[43m,\u001b[49m\u001b[43m \u001b[49m\u001b[43msecondary_lang\u001b[49m\u001b[43m)\u001b[49m\n\u001b[0;32m     11\u001b[0m eval_result \u001b[38;5;241m=\u001b[39m {}\n\u001b[0;32m     13\u001b[0m \u001b[38;5;28;01mif\u001b[39;00m is_phrase_card_:\n",
      "Cell \u001b[1;32mIn[5], line 35\u001b[0m, in \u001b[0;36mgenerate_full_card\u001b[1;34m(source_card, secondary_card, card_id, source_lang, target_lang, secondary_lang, model)\u001b[0m\n\u001b[0;32m      6\u001b[0m system_prompt \u001b[38;5;241m=\u001b[39m \u001b[38;5;124mf\u001b[39m\u001b[38;5;124m'''\u001b[39m\u001b[38;5;124mYou are a multilingual assistant who is proficient in \u001b[39m\u001b[38;5;132;01m{\u001b[39;00msource_lang\u001b[38;5;132;01m}\u001b[39;00m\u001b[38;5;124m, \u001b[39m\u001b[38;5;132;01m{\u001b[39;00msecondary_lang\u001b[38;5;132;01m}\u001b[39;00m\u001b[38;5;124m and \u001b[39m\u001b[38;5;132;01m{\u001b[39;00mtarget_lang\u001b[38;5;132;01m}\u001b[39;00m\u001b[38;5;124m.\u001b[39m\u001b[38;5;124m'''\u001b[39m\n\u001b[0;32m      8\u001b[0m user_prompt \u001b[38;5;241m=\u001b[39m \u001b[38;5;124mf\u001b[39m\u001b[38;5;124m\"\"\"\u001b[39m\n\u001b[0;32m      9\u001b[0m \u001b[38;5;124m**Translate the given \u001b[39m\u001b[38;5;132;01m{\u001b[39;00msource_lang\u001b[38;5;132;01m}\u001b[39;00m\u001b[38;5;124m word or phrase along with its \u001b[39m\u001b[38;5;132;01m{\u001b[39;00msecondary_lang\u001b[38;5;132;01m}\u001b[39;00m\u001b[38;5;124m translation into \u001b[39m\u001b[38;5;132;01m{\u001b[39;00mtarget_lang\u001b[38;5;132;01m}\u001b[39;00m\u001b[38;5;124m, and then translate the provided \u001b[39m\u001b[38;5;132;01m{\u001b[39;00msource_lang\u001b[38;5;132;01m}\u001b[39;00m\u001b[38;5;124m sentence, incorporating the \u001b[39m\u001b[38;5;132;01m{\u001b[39;00mtarget_lang\u001b[38;5;132;01m}\u001b[39;00m\u001b[38;5;124m translation of the word or phrase. Use synonyms or related terms where necessary to convey the intended meaning and maintain naturalness in \u001b[39m\u001b[38;5;132;01m{\u001b[39;00mtarget_lang\u001b[38;5;132;01m}\u001b[39;00m\u001b[38;5;124m.**  \u001b[39m\n\u001b[0;32m     10\u001b[0m \n\u001b[1;32m   (...)\u001b[0m\n\u001b[0;32m     32\u001b[0m \u001b[38;5;124m    - Do not wrap the result in quotes\u001b[39m\n\u001b[0;32m     33\u001b[0m \u001b[38;5;124m\u001b[39m\u001b[38;5;124m\"\"\"\u001b[39m\n\u001b[1;32m---> 35\u001b[0m response \u001b[38;5;241m=\u001b[39m \u001b[43mclient\u001b[49m\u001b[38;5;241;43m.\u001b[39;49m\u001b[43mchat\u001b[49m\u001b[38;5;241;43m.\u001b[39;49m\u001b[43mcompletions\u001b[49m\u001b[38;5;241;43m.\u001b[39;49m\u001b[43mcreate\u001b[49m\u001b[43m(\u001b[49m\n\u001b[0;32m     36\u001b[0m \u001b[43m    \u001b[49m\u001b[43mmodel\u001b[49m\u001b[38;5;241;43m=\u001b[39;49m\u001b[43mmodel\u001b[49m\u001b[43m,\u001b[49m\n\u001b[0;32m     37\u001b[0m \u001b[43m    \u001b[49m\u001b[43mresponse_format\u001b[49m\u001b[38;5;241;43m=\u001b[39;49m\u001b[43m{\u001b[49m\u001b[43m \u001b[49m\u001b[38;5;124;43m\"\u001b[39;49m\u001b[38;5;124;43mtype\u001b[39;49m\u001b[38;5;124;43m\"\u001b[39;49m\u001b[43m:\u001b[49m\u001b[43m \u001b[49m\u001b[38;5;124;43m\"\u001b[39;49m\u001b[38;5;124;43mjson_object\u001b[39;49m\u001b[38;5;124;43m\"\u001b[39;49m\u001b[43m \u001b[49m\u001b[43m}\u001b[49m\u001b[43m,\u001b[49m\n\u001b[0;32m     38\u001b[0m \u001b[43m    \u001b[49m\u001b[43mmessages\u001b[49m\u001b[38;5;241;43m=\u001b[39;49m\u001b[43m[\u001b[49m\n\u001b[0;32m     39\u001b[0m \u001b[43m    \u001b[49m\u001b[43m{\u001b[49m\u001b[38;5;124;43m\"\u001b[39;49m\u001b[38;5;124;43mrole\u001b[39;49m\u001b[38;5;124;43m\"\u001b[39;49m\u001b[43m:\u001b[49m\u001b[43m \u001b[49m\u001b[38;5;124;43m\"\u001b[39;49m\u001b[38;5;124;43msystem\u001b[39;49m\u001b[38;5;124;43m\"\u001b[39;49m\u001b[43m,\u001b[49m\u001b[43m \u001b[49m\u001b[38;5;124;43m\"\u001b[39;49m\u001b[38;5;124;43mcontent\u001b[39;49m\u001b[38;5;124;43m\"\u001b[39;49m\u001b[43m:\u001b[49m\u001b[43m \u001b[49m\u001b[43msystem_prompt\u001b[49m\u001b[38;5;241;43m.\u001b[39;49m\u001b[43mstrip\u001b[49m\u001b[43m(\u001b[49m\u001b[43m)\u001b[49m\u001b[43m}\u001b[49m\u001b[43m,\u001b[49m\n\u001b[0;32m     40\u001b[0m \u001b[43m    \u001b[49m\u001b[43m{\u001b[49m\u001b[38;5;124;43m\"\u001b[39;49m\u001b[38;5;124;43mrole\u001b[39;49m\u001b[38;5;124;43m\"\u001b[39;49m\u001b[43m:\u001b[49m\u001b[43m \u001b[49m\u001b[38;5;124;43m\"\u001b[39;49m\u001b[38;5;124;43muser\u001b[39;49m\u001b[38;5;124;43m\"\u001b[39;49m\u001b[43m,\u001b[49m\u001b[43m \u001b[49m\u001b[38;5;124;43m\"\u001b[39;49m\u001b[38;5;124;43mcontent\u001b[39;49m\u001b[38;5;124;43m\"\u001b[39;49m\u001b[43m:\u001b[49m\u001b[43m \u001b[49m\u001b[43muser_prompt\u001b[49m\u001b[38;5;241;43m.\u001b[39;49m\u001b[43mstrip\u001b[49m\u001b[43m(\u001b[49m\u001b[43m)\u001b[49m\u001b[43m}\u001b[49m\n\u001b[0;32m     41\u001b[0m \u001b[43m    \u001b[49m\u001b[43m]\u001b[49m\n\u001b[0;32m     42\u001b[0m \u001b[43m\u001b[49m\u001b[43m)\u001b[49m\n\u001b[0;32m     44\u001b[0m response_dict \u001b[38;5;241m=\u001b[39m json\u001b[38;5;241m.\u001b[39mloads(response\u001b[38;5;241m.\u001b[39mchoices[\u001b[38;5;241m0\u001b[39m]\u001b[38;5;241m.\u001b[39mmessage\u001b[38;5;241m.\u001b[39mcontent\u001b[38;5;241m.\u001b[39mstrip())\n\u001b[0;32m     45\u001b[0m tr_word \u001b[38;5;241m=\u001b[39m response_dict[\u001b[38;5;124m'\u001b[39m\u001b[38;5;124mtranslatedWord\u001b[39m\u001b[38;5;124m'\u001b[39m]\n",
      "File \u001b[1;32mc:\\Users\\Арман\\AppData\\Local\\Programs\\Python\\Python313\\Lib\\site-packages\\openai\\_utils\\_utils.py:275\u001b[0m, in \u001b[0;36mrequired_args.<locals>.inner.<locals>.wrapper\u001b[1;34m(*args, **kwargs)\u001b[0m\n\u001b[0;32m    273\u001b[0m             msg \u001b[38;5;241m=\u001b[39m \u001b[38;5;124mf\u001b[39m\u001b[38;5;124m\"\u001b[39m\u001b[38;5;124mMissing required argument: \u001b[39m\u001b[38;5;132;01m{\u001b[39;00mquote(missing[\u001b[38;5;241m0\u001b[39m])\u001b[38;5;132;01m}\u001b[39;00m\u001b[38;5;124m\"\u001b[39m\n\u001b[0;32m    274\u001b[0m     \u001b[38;5;28;01mraise\u001b[39;00m \u001b[38;5;167;01mTypeError\u001b[39;00m(msg)\n\u001b[1;32m--> 275\u001b[0m \u001b[38;5;28;01mreturn\u001b[39;00m \u001b[43mfunc\u001b[49m\u001b[43m(\u001b[49m\u001b[38;5;241;43m*\u001b[39;49m\u001b[43margs\u001b[49m\u001b[43m,\u001b[49m\u001b[43m \u001b[49m\u001b[38;5;241;43m*\u001b[39;49m\u001b[38;5;241;43m*\u001b[39;49m\u001b[43mkwargs\u001b[49m\u001b[43m)\u001b[49m\n",
      "File \u001b[1;32mc:\\Users\\Арман\\AppData\\Local\\Programs\\Python\\Python313\\Lib\\site-packages\\openai\\resources\\chat\\completions.py:829\u001b[0m, in \u001b[0;36mCompletions.create\u001b[1;34m(self, messages, model, audio, frequency_penalty, function_call, functions, logit_bias, logprobs, max_completion_tokens, max_tokens, metadata, modalities, n, parallel_tool_calls, prediction, presence_penalty, response_format, seed, service_tier, stop, store, stream, stream_options, temperature, tool_choice, tools, top_logprobs, top_p, user, extra_headers, extra_query, extra_body, timeout)\u001b[0m\n\u001b[0;32m    788\u001b[0m \u001b[38;5;129m@required_args\u001b[39m([\u001b[38;5;124m\"\u001b[39m\u001b[38;5;124mmessages\u001b[39m\u001b[38;5;124m\"\u001b[39m, \u001b[38;5;124m\"\u001b[39m\u001b[38;5;124mmodel\u001b[39m\u001b[38;5;124m\"\u001b[39m], [\u001b[38;5;124m\"\u001b[39m\u001b[38;5;124mmessages\u001b[39m\u001b[38;5;124m\"\u001b[39m, \u001b[38;5;124m\"\u001b[39m\u001b[38;5;124mmodel\u001b[39m\u001b[38;5;124m\"\u001b[39m, \u001b[38;5;124m\"\u001b[39m\u001b[38;5;124mstream\u001b[39m\u001b[38;5;124m\"\u001b[39m])\n\u001b[0;32m    789\u001b[0m \u001b[38;5;28;01mdef\u001b[39;00m \u001b[38;5;21mcreate\u001b[39m(\n\u001b[0;32m    790\u001b[0m     \u001b[38;5;28mself\u001b[39m,\n\u001b[1;32m   (...)\u001b[0m\n\u001b[0;32m    826\u001b[0m     timeout: \u001b[38;5;28mfloat\u001b[39m \u001b[38;5;241m|\u001b[39m httpx\u001b[38;5;241m.\u001b[39mTimeout \u001b[38;5;241m|\u001b[39m \u001b[38;5;28;01mNone\u001b[39;00m \u001b[38;5;241m|\u001b[39m NotGiven \u001b[38;5;241m=\u001b[39m NOT_GIVEN,\n\u001b[0;32m    827\u001b[0m ) \u001b[38;5;241m-\u001b[39m\u001b[38;5;241m>\u001b[39m ChatCompletion \u001b[38;5;241m|\u001b[39m Stream[ChatCompletionChunk]:\n\u001b[0;32m    828\u001b[0m     validate_response_format(response_format)\n\u001b[1;32m--> 829\u001b[0m     \u001b[38;5;28;01mreturn\u001b[39;00m \u001b[38;5;28;43mself\u001b[39;49m\u001b[38;5;241;43m.\u001b[39;49m\u001b[43m_post\u001b[49m\u001b[43m(\u001b[49m\n\u001b[0;32m    830\u001b[0m \u001b[43m        \u001b[49m\u001b[38;5;124;43m\"\u001b[39;49m\u001b[38;5;124;43m/chat/completions\u001b[39;49m\u001b[38;5;124;43m\"\u001b[39;49m\u001b[43m,\u001b[49m\n\u001b[0;32m    831\u001b[0m \u001b[43m        \u001b[49m\u001b[43mbody\u001b[49m\u001b[38;5;241;43m=\u001b[39;49m\u001b[43mmaybe_transform\u001b[49m\u001b[43m(\u001b[49m\n\u001b[0;32m    832\u001b[0m \u001b[43m            \u001b[49m\u001b[43m{\u001b[49m\n\u001b[0;32m    833\u001b[0m \u001b[43m                \u001b[49m\u001b[38;5;124;43m\"\u001b[39;49m\u001b[38;5;124;43mmessages\u001b[39;49m\u001b[38;5;124;43m\"\u001b[39;49m\u001b[43m:\u001b[49m\u001b[43m \u001b[49m\u001b[43mmessages\u001b[49m\u001b[43m,\u001b[49m\n\u001b[0;32m    834\u001b[0m \u001b[43m                \u001b[49m\u001b[38;5;124;43m\"\u001b[39;49m\u001b[38;5;124;43mmodel\u001b[39;49m\u001b[38;5;124;43m\"\u001b[39;49m\u001b[43m:\u001b[49m\u001b[43m \u001b[49m\u001b[43mmodel\u001b[49m\u001b[43m,\u001b[49m\n\u001b[0;32m    835\u001b[0m \u001b[43m                \u001b[49m\u001b[38;5;124;43m\"\u001b[39;49m\u001b[38;5;124;43maudio\u001b[39;49m\u001b[38;5;124;43m\"\u001b[39;49m\u001b[43m:\u001b[49m\u001b[43m \u001b[49m\u001b[43maudio\u001b[49m\u001b[43m,\u001b[49m\n\u001b[0;32m    836\u001b[0m \u001b[43m                \u001b[49m\u001b[38;5;124;43m\"\u001b[39;49m\u001b[38;5;124;43mfrequency_penalty\u001b[39;49m\u001b[38;5;124;43m\"\u001b[39;49m\u001b[43m:\u001b[49m\u001b[43m \u001b[49m\u001b[43mfrequency_penalty\u001b[49m\u001b[43m,\u001b[49m\n\u001b[0;32m    837\u001b[0m \u001b[43m                \u001b[49m\u001b[38;5;124;43m\"\u001b[39;49m\u001b[38;5;124;43mfunction_call\u001b[39;49m\u001b[38;5;124;43m\"\u001b[39;49m\u001b[43m:\u001b[49m\u001b[43m \u001b[49m\u001b[43mfunction_call\u001b[49m\u001b[43m,\u001b[49m\n\u001b[0;32m    838\u001b[0m \u001b[43m                \u001b[49m\u001b[38;5;124;43m\"\u001b[39;49m\u001b[38;5;124;43mfunctions\u001b[39;49m\u001b[38;5;124;43m\"\u001b[39;49m\u001b[43m:\u001b[49m\u001b[43m \u001b[49m\u001b[43mfunctions\u001b[49m\u001b[43m,\u001b[49m\n\u001b[0;32m    839\u001b[0m \u001b[43m                \u001b[49m\u001b[38;5;124;43m\"\u001b[39;49m\u001b[38;5;124;43mlogit_bias\u001b[39;49m\u001b[38;5;124;43m\"\u001b[39;49m\u001b[43m:\u001b[49m\u001b[43m \u001b[49m\u001b[43mlogit_bias\u001b[49m\u001b[43m,\u001b[49m\n\u001b[0;32m    840\u001b[0m \u001b[43m                \u001b[49m\u001b[38;5;124;43m\"\u001b[39;49m\u001b[38;5;124;43mlogprobs\u001b[39;49m\u001b[38;5;124;43m\"\u001b[39;49m\u001b[43m:\u001b[49m\u001b[43m \u001b[49m\u001b[43mlogprobs\u001b[49m\u001b[43m,\u001b[49m\n\u001b[0;32m    841\u001b[0m \u001b[43m                \u001b[49m\u001b[38;5;124;43m\"\u001b[39;49m\u001b[38;5;124;43mmax_completion_tokens\u001b[39;49m\u001b[38;5;124;43m\"\u001b[39;49m\u001b[43m:\u001b[49m\u001b[43m \u001b[49m\u001b[43mmax_completion_tokens\u001b[49m\u001b[43m,\u001b[49m\n\u001b[0;32m    842\u001b[0m \u001b[43m                \u001b[49m\u001b[38;5;124;43m\"\u001b[39;49m\u001b[38;5;124;43mmax_tokens\u001b[39;49m\u001b[38;5;124;43m\"\u001b[39;49m\u001b[43m:\u001b[49m\u001b[43m \u001b[49m\u001b[43mmax_tokens\u001b[49m\u001b[43m,\u001b[49m\n\u001b[0;32m    843\u001b[0m \u001b[43m                \u001b[49m\u001b[38;5;124;43m\"\u001b[39;49m\u001b[38;5;124;43mmetadata\u001b[39;49m\u001b[38;5;124;43m\"\u001b[39;49m\u001b[43m:\u001b[49m\u001b[43m \u001b[49m\u001b[43mmetadata\u001b[49m\u001b[43m,\u001b[49m\n\u001b[0;32m    844\u001b[0m \u001b[43m                \u001b[49m\u001b[38;5;124;43m\"\u001b[39;49m\u001b[38;5;124;43mmodalities\u001b[39;49m\u001b[38;5;124;43m\"\u001b[39;49m\u001b[43m:\u001b[49m\u001b[43m \u001b[49m\u001b[43mmodalities\u001b[49m\u001b[43m,\u001b[49m\n\u001b[0;32m    845\u001b[0m \u001b[43m                \u001b[49m\u001b[38;5;124;43m\"\u001b[39;49m\u001b[38;5;124;43mn\u001b[39;49m\u001b[38;5;124;43m\"\u001b[39;49m\u001b[43m:\u001b[49m\u001b[43m \u001b[49m\u001b[43mn\u001b[49m\u001b[43m,\u001b[49m\n\u001b[0;32m    846\u001b[0m \u001b[43m                \u001b[49m\u001b[38;5;124;43m\"\u001b[39;49m\u001b[38;5;124;43mparallel_tool_calls\u001b[39;49m\u001b[38;5;124;43m\"\u001b[39;49m\u001b[43m:\u001b[49m\u001b[43m \u001b[49m\u001b[43mparallel_tool_calls\u001b[49m\u001b[43m,\u001b[49m\n\u001b[0;32m    847\u001b[0m \u001b[43m                \u001b[49m\u001b[38;5;124;43m\"\u001b[39;49m\u001b[38;5;124;43mprediction\u001b[39;49m\u001b[38;5;124;43m\"\u001b[39;49m\u001b[43m:\u001b[49m\u001b[43m \u001b[49m\u001b[43mprediction\u001b[49m\u001b[43m,\u001b[49m\n\u001b[0;32m    848\u001b[0m \u001b[43m                \u001b[49m\u001b[38;5;124;43m\"\u001b[39;49m\u001b[38;5;124;43mpresence_penalty\u001b[39;49m\u001b[38;5;124;43m\"\u001b[39;49m\u001b[43m:\u001b[49m\u001b[43m \u001b[49m\u001b[43mpresence_penalty\u001b[49m\u001b[43m,\u001b[49m\n\u001b[0;32m    849\u001b[0m \u001b[43m                \u001b[49m\u001b[38;5;124;43m\"\u001b[39;49m\u001b[38;5;124;43mresponse_format\u001b[39;49m\u001b[38;5;124;43m\"\u001b[39;49m\u001b[43m:\u001b[49m\u001b[43m \u001b[49m\u001b[43mresponse_format\u001b[49m\u001b[43m,\u001b[49m\n\u001b[0;32m    850\u001b[0m \u001b[43m                \u001b[49m\u001b[38;5;124;43m\"\u001b[39;49m\u001b[38;5;124;43mseed\u001b[39;49m\u001b[38;5;124;43m\"\u001b[39;49m\u001b[43m:\u001b[49m\u001b[43m \u001b[49m\u001b[43mseed\u001b[49m\u001b[43m,\u001b[49m\n\u001b[0;32m    851\u001b[0m \u001b[43m                \u001b[49m\u001b[38;5;124;43m\"\u001b[39;49m\u001b[38;5;124;43mservice_tier\u001b[39;49m\u001b[38;5;124;43m\"\u001b[39;49m\u001b[43m:\u001b[49m\u001b[43m \u001b[49m\u001b[43mservice_tier\u001b[49m\u001b[43m,\u001b[49m\n\u001b[0;32m    852\u001b[0m \u001b[43m                \u001b[49m\u001b[38;5;124;43m\"\u001b[39;49m\u001b[38;5;124;43mstop\u001b[39;49m\u001b[38;5;124;43m\"\u001b[39;49m\u001b[43m:\u001b[49m\u001b[43m \u001b[49m\u001b[43mstop\u001b[49m\u001b[43m,\u001b[49m\n\u001b[0;32m    853\u001b[0m \u001b[43m                \u001b[49m\u001b[38;5;124;43m\"\u001b[39;49m\u001b[38;5;124;43mstore\u001b[39;49m\u001b[38;5;124;43m\"\u001b[39;49m\u001b[43m:\u001b[49m\u001b[43m \u001b[49m\u001b[43mstore\u001b[49m\u001b[43m,\u001b[49m\n\u001b[0;32m    854\u001b[0m \u001b[43m                \u001b[49m\u001b[38;5;124;43m\"\u001b[39;49m\u001b[38;5;124;43mstream\u001b[39;49m\u001b[38;5;124;43m\"\u001b[39;49m\u001b[43m:\u001b[49m\u001b[43m \u001b[49m\u001b[43mstream\u001b[49m\u001b[43m,\u001b[49m\n\u001b[0;32m    855\u001b[0m \u001b[43m                \u001b[49m\u001b[38;5;124;43m\"\u001b[39;49m\u001b[38;5;124;43mstream_options\u001b[39;49m\u001b[38;5;124;43m\"\u001b[39;49m\u001b[43m:\u001b[49m\u001b[43m \u001b[49m\u001b[43mstream_options\u001b[49m\u001b[43m,\u001b[49m\n\u001b[0;32m    856\u001b[0m \u001b[43m                \u001b[49m\u001b[38;5;124;43m\"\u001b[39;49m\u001b[38;5;124;43mtemperature\u001b[39;49m\u001b[38;5;124;43m\"\u001b[39;49m\u001b[43m:\u001b[49m\u001b[43m \u001b[49m\u001b[43mtemperature\u001b[49m\u001b[43m,\u001b[49m\n\u001b[0;32m    857\u001b[0m \u001b[43m                \u001b[49m\u001b[38;5;124;43m\"\u001b[39;49m\u001b[38;5;124;43mtool_choice\u001b[39;49m\u001b[38;5;124;43m\"\u001b[39;49m\u001b[43m:\u001b[49m\u001b[43m \u001b[49m\u001b[43mtool_choice\u001b[49m\u001b[43m,\u001b[49m\n\u001b[0;32m    858\u001b[0m \u001b[43m                \u001b[49m\u001b[38;5;124;43m\"\u001b[39;49m\u001b[38;5;124;43mtools\u001b[39;49m\u001b[38;5;124;43m\"\u001b[39;49m\u001b[43m:\u001b[49m\u001b[43m \u001b[49m\u001b[43mtools\u001b[49m\u001b[43m,\u001b[49m\n\u001b[0;32m    859\u001b[0m \u001b[43m                \u001b[49m\u001b[38;5;124;43m\"\u001b[39;49m\u001b[38;5;124;43mtop_logprobs\u001b[39;49m\u001b[38;5;124;43m\"\u001b[39;49m\u001b[43m:\u001b[49m\u001b[43m \u001b[49m\u001b[43mtop_logprobs\u001b[49m\u001b[43m,\u001b[49m\n\u001b[0;32m    860\u001b[0m \u001b[43m                \u001b[49m\u001b[38;5;124;43m\"\u001b[39;49m\u001b[38;5;124;43mtop_p\u001b[39;49m\u001b[38;5;124;43m\"\u001b[39;49m\u001b[43m:\u001b[49m\u001b[43m \u001b[49m\u001b[43mtop_p\u001b[49m\u001b[43m,\u001b[49m\n\u001b[0;32m    861\u001b[0m \u001b[43m                \u001b[49m\u001b[38;5;124;43m\"\u001b[39;49m\u001b[38;5;124;43muser\u001b[39;49m\u001b[38;5;124;43m\"\u001b[39;49m\u001b[43m:\u001b[49m\u001b[43m \u001b[49m\u001b[43muser\u001b[49m\u001b[43m,\u001b[49m\n\u001b[0;32m    862\u001b[0m \u001b[43m            \u001b[49m\u001b[43m}\u001b[49m\u001b[43m,\u001b[49m\n\u001b[0;32m    863\u001b[0m \u001b[43m            \u001b[49m\u001b[43mcompletion_create_params\u001b[49m\u001b[38;5;241;43m.\u001b[39;49m\u001b[43mCompletionCreateParams\u001b[49m\u001b[43m,\u001b[49m\n\u001b[0;32m    864\u001b[0m \u001b[43m        \u001b[49m\u001b[43m)\u001b[49m\u001b[43m,\u001b[49m\n\u001b[0;32m    865\u001b[0m \u001b[43m        \u001b[49m\u001b[43moptions\u001b[49m\u001b[38;5;241;43m=\u001b[39;49m\u001b[43mmake_request_options\u001b[49m\u001b[43m(\u001b[49m\n\u001b[0;32m    866\u001b[0m \u001b[43m            \u001b[49m\u001b[43mextra_headers\u001b[49m\u001b[38;5;241;43m=\u001b[39;49m\u001b[43mextra_headers\u001b[49m\u001b[43m,\u001b[49m\u001b[43m \u001b[49m\u001b[43mextra_query\u001b[49m\u001b[38;5;241;43m=\u001b[39;49m\u001b[43mextra_query\u001b[49m\u001b[43m,\u001b[49m\u001b[43m \u001b[49m\u001b[43mextra_body\u001b[49m\u001b[38;5;241;43m=\u001b[39;49m\u001b[43mextra_body\u001b[49m\u001b[43m,\u001b[49m\u001b[43m \u001b[49m\u001b[43mtimeout\u001b[49m\u001b[38;5;241;43m=\u001b[39;49m\u001b[43mtimeout\u001b[49m\n\u001b[0;32m    867\u001b[0m \u001b[43m        \u001b[49m\u001b[43m)\u001b[49m\u001b[43m,\u001b[49m\n\u001b[0;32m    868\u001b[0m \u001b[43m        \u001b[49m\u001b[43mcast_to\u001b[49m\u001b[38;5;241;43m=\u001b[39;49m\u001b[43mChatCompletion\u001b[49m\u001b[43m,\u001b[49m\n\u001b[0;32m    869\u001b[0m \u001b[43m        \u001b[49m\u001b[43mstream\u001b[49m\u001b[38;5;241;43m=\u001b[39;49m\u001b[43mstream\u001b[49m\u001b[43m \u001b[49m\u001b[38;5;129;43;01mor\u001b[39;49;00m\u001b[43m \u001b[49m\u001b[38;5;28;43;01mFalse\u001b[39;49;00m\u001b[43m,\u001b[49m\n\u001b[0;32m    870\u001b[0m \u001b[43m        \u001b[49m\u001b[43mstream_cls\u001b[49m\u001b[38;5;241;43m=\u001b[39;49m\u001b[43mStream\u001b[49m\u001b[43m[\u001b[49m\u001b[43mChatCompletionChunk\u001b[49m\u001b[43m]\u001b[49m\u001b[43m,\u001b[49m\n\u001b[0;32m    871\u001b[0m \u001b[43m    \u001b[49m\u001b[43m)\u001b[49m\n",
      "File \u001b[1;32mc:\\Users\\Арман\\AppData\\Local\\Programs\\Python\\Python313\\Lib\\site-packages\\openai\\_base_client.py:1280\u001b[0m, in \u001b[0;36mSyncAPIClient.post\u001b[1;34m(self, path, cast_to, body, options, files, stream, stream_cls)\u001b[0m\n\u001b[0;32m   1266\u001b[0m \u001b[38;5;28;01mdef\u001b[39;00m \u001b[38;5;21mpost\u001b[39m(\n\u001b[0;32m   1267\u001b[0m     \u001b[38;5;28mself\u001b[39m,\n\u001b[0;32m   1268\u001b[0m     path: \u001b[38;5;28mstr\u001b[39m,\n\u001b[1;32m   (...)\u001b[0m\n\u001b[0;32m   1275\u001b[0m     stream_cls: \u001b[38;5;28mtype\u001b[39m[_StreamT] \u001b[38;5;241m|\u001b[39m \u001b[38;5;28;01mNone\u001b[39;00m \u001b[38;5;241m=\u001b[39m \u001b[38;5;28;01mNone\u001b[39;00m,\n\u001b[0;32m   1276\u001b[0m ) \u001b[38;5;241m-\u001b[39m\u001b[38;5;241m>\u001b[39m ResponseT \u001b[38;5;241m|\u001b[39m _StreamT:\n\u001b[0;32m   1277\u001b[0m     opts \u001b[38;5;241m=\u001b[39m FinalRequestOptions\u001b[38;5;241m.\u001b[39mconstruct(\n\u001b[0;32m   1278\u001b[0m         method\u001b[38;5;241m=\u001b[39m\u001b[38;5;124m\"\u001b[39m\u001b[38;5;124mpost\u001b[39m\u001b[38;5;124m\"\u001b[39m, url\u001b[38;5;241m=\u001b[39mpath, json_data\u001b[38;5;241m=\u001b[39mbody, files\u001b[38;5;241m=\u001b[39mto_httpx_files(files), \u001b[38;5;241m*\u001b[39m\u001b[38;5;241m*\u001b[39moptions\n\u001b[0;32m   1279\u001b[0m     )\n\u001b[1;32m-> 1280\u001b[0m     \u001b[38;5;28;01mreturn\u001b[39;00m cast(ResponseT, \u001b[38;5;28;43mself\u001b[39;49m\u001b[38;5;241;43m.\u001b[39;49m\u001b[43mrequest\u001b[49m\u001b[43m(\u001b[49m\u001b[43mcast_to\u001b[49m\u001b[43m,\u001b[49m\u001b[43m \u001b[49m\u001b[43mopts\u001b[49m\u001b[43m,\u001b[49m\u001b[43m \u001b[49m\u001b[43mstream\u001b[49m\u001b[38;5;241;43m=\u001b[39;49m\u001b[43mstream\u001b[49m\u001b[43m,\u001b[49m\u001b[43m \u001b[49m\u001b[43mstream_cls\u001b[49m\u001b[38;5;241;43m=\u001b[39;49m\u001b[43mstream_cls\u001b[49m\u001b[43m)\u001b[49m)\n",
      "File \u001b[1;32mc:\\Users\\Арман\\AppData\\Local\\Programs\\Python\\Python313\\Lib\\site-packages\\openai\\_base_client.py:957\u001b[0m, in \u001b[0;36mSyncAPIClient.request\u001b[1;34m(self, cast_to, options, remaining_retries, stream, stream_cls)\u001b[0m\n\u001b[0;32m    954\u001b[0m \u001b[38;5;28;01melse\u001b[39;00m:\n\u001b[0;32m    955\u001b[0m     retries_taken \u001b[38;5;241m=\u001b[39m \u001b[38;5;241m0\u001b[39m\n\u001b[1;32m--> 957\u001b[0m \u001b[38;5;28;01mreturn\u001b[39;00m \u001b[38;5;28;43mself\u001b[39;49m\u001b[38;5;241;43m.\u001b[39;49m\u001b[43m_request\u001b[49m\u001b[43m(\u001b[49m\n\u001b[0;32m    958\u001b[0m \u001b[43m    \u001b[49m\u001b[43mcast_to\u001b[49m\u001b[38;5;241;43m=\u001b[39;49m\u001b[43mcast_to\u001b[49m\u001b[43m,\u001b[49m\n\u001b[0;32m    959\u001b[0m \u001b[43m    \u001b[49m\u001b[43moptions\u001b[49m\u001b[38;5;241;43m=\u001b[39;49m\u001b[43moptions\u001b[49m\u001b[43m,\u001b[49m\n\u001b[0;32m    960\u001b[0m \u001b[43m    \u001b[49m\u001b[43mstream\u001b[49m\u001b[38;5;241;43m=\u001b[39;49m\u001b[43mstream\u001b[49m\u001b[43m,\u001b[49m\n\u001b[0;32m    961\u001b[0m \u001b[43m    \u001b[49m\u001b[43mstream_cls\u001b[49m\u001b[38;5;241;43m=\u001b[39;49m\u001b[43mstream_cls\u001b[49m\u001b[43m,\u001b[49m\n\u001b[0;32m    962\u001b[0m \u001b[43m    \u001b[49m\u001b[43mretries_taken\u001b[49m\u001b[38;5;241;43m=\u001b[39;49m\u001b[43mretries_taken\u001b[49m\u001b[43m,\u001b[49m\n\u001b[0;32m    963\u001b[0m \u001b[43m\u001b[49m\u001b[43m)\u001b[49m\n",
      "File \u001b[1;32mc:\\Users\\Арман\\AppData\\Local\\Programs\\Python\\Python313\\Lib\\site-packages\\openai\\_base_client.py:1046\u001b[0m, in \u001b[0;36mSyncAPIClient._request\u001b[1;34m(self, cast_to, options, retries_taken, stream, stream_cls)\u001b[0m\n\u001b[0;32m   1044\u001b[0m \u001b[38;5;28;01mif\u001b[39;00m remaining_retries \u001b[38;5;241m>\u001b[39m \u001b[38;5;241m0\u001b[39m \u001b[38;5;129;01mand\u001b[39;00m \u001b[38;5;28mself\u001b[39m\u001b[38;5;241m.\u001b[39m_should_retry(err\u001b[38;5;241m.\u001b[39mresponse):\n\u001b[0;32m   1045\u001b[0m     err\u001b[38;5;241m.\u001b[39mresponse\u001b[38;5;241m.\u001b[39mclose()\n\u001b[1;32m-> 1046\u001b[0m     \u001b[38;5;28;01mreturn\u001b[39;00m \u001b[38;5;28;43mself\u001b[39;49m\u001b[38;5;241;43m.\u001b[39;49m\u001b[43m_retry_request\u001b[49m\u001b[43m(\u001b[49m\n\u001b[0;32m   1047\u001b[0m \u001b[43m        \u001b[49m\u001b[43minput_options\u001b[49m\u001b[43m,\u001b[49m\n\u001b[0;32m   1048\u001b[0m \u001b[43m        \u001b[49m\u001b[43mcast_to\u001b[49m\u001b[43m,\u001b[49m\n\u001b[0;32m   1049\u001b[0m \u001b[43m        \u001b[49m\u001b[43mretries_taken\u001b[49m\u001b[38;5;241;43m=\u001b[39;49m\u001b[43mretries_taken\u001b[49m\u001b[43m,\u001b[49m\n\u001b[0;32m   1050\u001b[0m \u001b[43m        \u001b[49m\u001b[43mresponse_headers\u001b[49m\u001b[38;5;241;43m=\u001b[39;49m\u001b[43merr\u001b[49m\u001b[38;5;241;43m.\u001b[39;49m\u001b[43mresponse\u001b[49m\u001b[38;5;241;43m.\u001b[39;49m\u001b[43mheaders\u001b[49m\u001b[43m,\u001b[49m\n\u001b[0;32m   1051\u001b[0m \u001b[43m        \u001b[49m\u001b[43mstream\u001b[49m\u001b[38;5;241;43m=\u001b[39;49m\u001b[43mstream\u001b[49m\u001b[43m,\u001b[49m\n\u001b[0;32m   1052\u001b[0m \u001b[43m        \u001b[49m\u001b[43mstream_cls\u001b[49m\u001b[38;5;241;43m=\u001b[39;49m\u001b[43mstream_cls\u001b[49m\u001b[43m,\u001b[49m\n\u001b[0;32m   1053\u001b[0m \u001b[43m    \u001b[49m\u001b[43m)\u001b[49m\n\u001b[0;32m   1055\u001b[0m \u001b[38;5;66;03m# If the response is streamed then we need to explicitly read the response\u001b[39;00m\n\u001b[0;32m   1056\u001b[0m \u001b[38;5;66;03m# to completion before attempting to access the response text.\u001b[39;00m\n\u001b[0;32m   1057\u001b[0m \u001b[38;5;28;01mif\u001b[39;00m \u001b[38;5;129;01mnot\u001b[39;00m err\u001b[38;5;241m.\u001b[39mresponse\u001b[38;5;241m.\u001b[39mis_closed:\n",
      "File \u001b[1;32mc:\\Users\\Арман\\AppData\\Local\\Programs\\Python\\Python313\\Lib\\site-packages\\openai\\_base_client.py:1093\u001b[0m, in \u001b[0;36mSyncAPIClient._retry_request\u001b[1;34m(self, options, cast_to, retries_taken, response_headers, stream, stream_cls)\u001b[0m\n\u001b[0;32m   1089\u001b[0m log\u001b[38;5;241m.\u001b[39minfo(\u001b[38;5;124m\"\u001b[39m\u001b[38;5;124mRetrying request to \u001b[39m\u001b[38;5;132;01m%s\u001b[39;00m\u001b[38;5;124m in \u001b[39m\u001b[38;5;132;01m%f\u001b[39;00m\u001b[38;5;124m seconds\u001b[39m\u001b[38;5;124m\"\u001b[39m, options\u001b[38;5;241m.\u001b[39murl, timeout)\n\u001b[0;32m   1091\u001b[0m \u001b[38;5;66;03m# In a synchronous context we are blocking the entire thread. Up to the library user to run the client in a\u001b[39;00m\n\u001b[0;32m   1092\u001b[0m \u001b[38;5;66;03m# different thread if necessary.\u001b[39;00m\n\u001b[1;32m-> 1093\u001b[0m \u001b[43mtime\u001b[49m\u001b[38;5;241;43m.\u001b[39;49m\u001b[43msleep\u001b[49m\u001b[43m(\u001b[49m\u001b[43mtimeout\u001b[49m\u001b[43m)\u001b[49m\n\u001b[0;32m   1095\u001b[0m \u001b[38;5;28;01mreturn\u001b[39;00m \u001b[38;5;28mself\u001b[39m\u001b[38;5;241m.\u001b[39m_request(\n\u001b[0;32m   1096\u001b[0m     options\u001b[38;5;241m=\u001b[39moptions,\n\u001b[0;32m   1097\u001b[0m     cast_to\u001b[38;5;241m=\u001b[39mcast_to,\n\u001b[1;32m   (...)\u001b[0m\n\u001b[0;32m   1100\u001b[0m     stream_cls\u001b[38;5;241m=\u001b[39mstream_cls,\n\u001b[0;32m   1101\u001b[0m )\n",
      "\u001b[1;31mKeyboardInterrupt\u001b[0m: "
     ]
    }
   ],
   "source": [
    "first_book = [f'sm1_new_kap{i}.json' for i in range(1, 10)]\n",
    "\n",
    "for file_name in tqdm(first_book[5:]):\n",
    "    generate_and_write_cards(file_name)"
   ]
  },
  {
   "cell_type": "code",
   "execution_count": 20,
   "metadata": {},
   "outputs": [
    {
     "data": {
      "application/vnd.jupyter.widget-view+json": {
       "model_id": "4a882373e51a465dbe1700aac7ea85b2",
       "version_major": 2,
       "version_minor": 0
      },
      "text/plain": [
       "  0%|          | 0/2 [00:00<?, ?it/s]"
      ]
     },
     "metadata": {},
     "output_type": "display_data"
    },
    {
     "data": {
      "application/vnd.jupyter.widget-view+json": {
       "model_id": "76403beea8614904a1208cae6598a203",
       "version_major": 2,
       "version_minor": 0
      },
      "text/plain": [
       "  0%|          | 0/260 [00:00<?, ?it/s]"
      ]
     },
     "metadata": {},
     "output_type": "display_data"
    },
    {
     "name": "stdout",
     "output_type": "stream",
     "text": [
      "0.926923076923077\n"
     ]
    },
    {
     "data": {
      "application/vnd.jupyter.widget-view+json": {
       "model_id": "8fe9611666d246bfbe275e2a90240395",
       "version_major": 2,
       "version_minor": 0
      },
      "text/plain": [
       "  0%|          | 0/226 [00:00<?, ?it/s]"
      ]
     },
     "metadata": {},
     "output_type": "display_data"
    },
    {
     "name": "stdout",
     "output_type": "stream",
     "text": [
      "0.9292035398230089\n"
     ]
    }
   ],
   "source": [
    "first_book = [f'sm1_new_kap{i}.json' for i in range(1, 10)]\n",
    "\n",
    "for file_name in tqdm(first_book[7:]):\n",
    "    generate_and_write_cards(file_name)"
   ]
  },
  {
   "cell_type": "code",
   "execution_count": 23,
   "metadata": {},
   "outputs": [],
   "source": [
    "import numpy as np\n",
    "\n",
    "def get_cards_and_evals_from_files(file_names):\n",
    "    ru_kz_cards = []\n",
    "    ru_kz_evals = []\n",
    "\n",
    "    for file_name in file_names:\n",
    "        ru_kz_cards.extend(get_ru_kz_cards_from_file(file_name))\n",
    "        ru_kz_evals.extend(get_ru_kz_eval_results_from_file(file_name))\n",
    "\n",
    "    return ru_kz_cards, ru_kz_evals"
   ]
  },
  {
   "cell_type": "code",
   "execution_count": 24,
   "metadata": {},
   "outputs": [],
   "source": [
    "first_book_cards, first_book_evals = get_cards_and_evals_from_files(first_book)"
   ]
  },
  {
   "cell_type": "code",
   "execution_count": 25,
   "metadata": {},
   "outputs": [],
   "source": [
    "def check_cards_accuracy(source_target_cards, eval_results):\n",
    "    res = []\n",
    "    for card, eval_res in list(zip(source_target_cards, eval_results)):\n",
    "        res.append(check_eval(eval_res, card['sentenceFirstLang'] == ''))\n",
    "    \n",
    "    print(sum(res) / len(res))"
   ]
  },
  {
   "cell_type": "code",
   "execution_count": 26,
   "metadata": {},
   "outputs": [
    {
     "name": "stdout",
     "output_type": "stream",
     "text": [
      "0.9450261780104712\n"
     ]
    }
   ],
   "source": [
    "check_cards_accuracy(first_book_cards, first_book_evals)"
   ]
  },
  {
   "cell_type": "code",
   "execution_count": 28,
   "metadata": {},
   "outputs": [
    {
     "data": {
      "text/plain": [
       "[({'wordFirstLang': 'Привет!',\n",
       "   'sentenceFirstLang': 'Привет, как дела?',\n",
       "   'wordSecondLang': 'Сәлем!',\n",
       "   'sentenceSecondLang': 'Сәлем, қалайсың?',\n",
       "   'id': 1000},\n",
       "  {'sentenceCorrectness': {'isCorrect': True,\n",
       "    'explanation': \"The Kazakh sentence 'Сәлем, қалайсың?' is grammatically correct and natural. It properly translates the greeting and inquiry, aligning well with both the Russian and Finnish sentences.\",\n",
       "    'suggestedFix': None},\n",
       "   'wordUsage': {'isCorrect': True,\n",
       "    'explanation': \"The Kazakh word 'Сәлем!' is appropriately used in the sentence 'Сәлем, қалайсың?'. It corresponds well with the greeting 'Привет!' and 'Hei!' in Russian and Finnish respectively.\",\n",
       "    'suggestedFixSentence': None,\n",
       "    'suggestedFixWord': None},\n",
       "   'wordTranslationAccuracy': {'isCorrect': True,\n",
       "    'explanation': \"The translation of the word from Russian and Finnish to Kazakh is accurate. 'Привет!' and 'Hei!' both mean 'Hello!', which is correctly translated into Kazakh as 'Сәлем!'.\",\n",
       "    'suggestedFix': None},\n",
       "   'sentenceTranslationAccuracy': {'isCorrect': True,\n",
       "    'explanation': \"The translation of the sentence from Russian 'Привет, как дела?' and Finnish 'Hei, mitä kuuluu?' to Kazakh 'Сәлем, қалайсың?' is done accurately. Each captures the essence of greeting someone and asking about their well-being.\",\n",
       "    'suggestedFix': None},\n",
       "   'id': 1000}),\n",
       " ({'wordFirstLang': 'Добро пожаловать!',\n",
       "   'sentenceFirstLang': 'Добро пожаловать в наш магазин!',\n",
       "   'wordSecondLang': 'Қош келдіңіз!',\n",
       "   'sentenceSecondLang': 'Біздің дүкенімізге қош келдіңіз!',\n",
       "   'id': 1001},\n",
       "  {'sentenceCorrectness': {'isCorrect': True,\n",
       "    'explanation': \"The Kazakh sentence 'Біздің дүкенімізге қош келдіңіз!' is grammatically correct and natural. It properly translates the meaning and intent of the Russian and Finnish sentences, which are inviting the listener to the store.\",\n",
       "    'suggestedFix': None},\n",
       "   'wordUsage': {'isCorrect': True,\n",
       "    'explanation': \"The Kazakh word 'Қош келдіңіз!' is correctly used in the sentence. It maintains the meaning of 'welcome' as intended in both the Russian and Finnish contexts.\",\n",
       "    'suggestedFixSentence': None,\n",
       "    'suggestedFixWord': None},\n",
       "   'wordTranslationAccuracy': {'isCorrect': True,\n",
       "    'explanation': \"The translation of the word 'welcome' as 'Қош келдіңіз!' in Kazakh accurately reflects the meaning from both Russian ('Добро пожаловать!') and Finnish ('Tervetuloa!').\",\n",
       "    'suggestedFix': None},\n",
       "   'sentenceTranslationAccuracy': {'isCorrect': True,\n",
       "    'explanation': \"The Kazakh sentence 'Біздің дүкенімізге қош келдіңіз!' is an accurate translation of the Russian 'Добро пожаловать в наш магазин!' and Finnish 'Tervetuloa kauppaamme!'. The essence of inviting someone to the store is clearly conveyed in the Kazakh translation.\",\n",
       "    'suggestedFix': None},\n",
       "   'id': 1001}),\n",
       " ({'wordFirstLang': 'Извините!',\n",
       "   'sentenceFirstLang': 'Извините, где находится станция?',\n",
       "   'wordSecondLang': 'Кешіріңіз!',\n",
       "   'sentenceSecondLang': 'Кешіріңіз, станция қай жерде орналасқан?',\n",
       "   'id': 1002},\n",
       "  {'sentenceCorrectness': {'isCorrect': True,\n",
       "    'explanation': \"The Kazakh sentence 'Кешіріңіз, станция қай жерде орналасқан?' is grammatically correct and natural. It uses clear and accurate phrasing, maintaining the politeness of the inquiry.\",\n",
       "    'suggestedFix': None},\n",
       "   'wordUsage': {'isCorrect': True,\n",
       "    'explanation': \"The Kazakh word 'Кешіріңіз!' is correctly used in the sentence. It represents an apology, synonymous with 'Извините!' in Russian and 'Anteeksi!' in Finnish, fitting the context of the sentence which seeks directions politely.\",\n",
       "    'suggestedFixSentence': None,\n",
       "    'suggestedFixWord': None},\n",
       "   'wordTranslationAccuracy': {'isCorrect': True,\n",
       "    'explanation': \"The translation of the word 'Извините!' from Russian and 'Anteeksi!' from Finnish to 'Кешіріңіз!' in Kazakh is accurate. All three represent a polite request for forgiveness or an apology.\",\n",
       "    'suggestedFix': None},\n",
       "   'sentenceTranslationAccuracy': {'isCorrect': True,\n",
       "    'explanation': \"The sentence 'Кешіріңіз, станция қай жерде орналасқан?' is an accurate translation of both the Russian 'Извините, где находится станция?' and the Finnish 'Anteeksi, missä on asema?'. It effectively conveys the same meaning: politely asking for the location of a station.\",\n",
       "    'suggestedFix': None},\n",
       "   'id': 1002}),\n",
       " ({'wordFirstLang': 'здесь',\n",
       "   'sentenceFirstLang': 'Здесь много людей.',\n",
       "   'wordSecondLang': 'мұнда',\n",
       "   'sentenceSecondLang': 'Мұнда көп адам бар.',\n",
       "   'id': 1003},\n",
       "  {'sentenceCorrectness': {'isCorrect': True,\n",
       "    'explanation': \"The Kazakh sentence 'Мұнда көп адам бар.' is grammatically correct and natural. The sentence structure follows normal Kazakh syntactic patterns, and the meaning is clear.\",\n",
       "    'suggestedFix': None},\n",
       "   'wordUsage': {'isCorrect': True,\n",
       "    'explanation': \"The word 'мұнда' is correctly used in the Kazakh sentence to represent 'here', translating 'здесь' from Russian and 'täällä' from Finnish. It is positioned correctly in the sentence without any semantic errors.\",\n",
       "    'suggestedFixSentence': None,\n",
       "    'suggestedFixWord': None},\n",
       "   'wordTranslationAccuracy': {'isCorrect': True,\n",
       "    'explanation': \"The Kazakh translation of the word 'здесь' in Russian and 'täällä' in Finnish is accurately rendered as 'мұнда'. This translation is both semantically and contextually appropriate.\",\n",
       "    'suggestedFix': None},\n",
       "   'sentenceTranslationAccuracy': {'isCorrect': True,\n",
       "    'explanation': \"The translation of the sentences from Russian 'Здесь много людей.' and Finnish 'Täällä on paljon ihmisiä.' into Kazakh 'Мұнда көп адам бар.' is correct. The meaning is preserved, and the usage of 'мұнда' accurately conveys the concept of 'here' as intended.\",\n",
       "    'suggestedFix': None},\n",
       "   'id': 1003}),\n",
       " ({'wordFirstLang': 'Кто ты?',\n",
       "   'sentenceFirstLang': 'Привет, кто ты?',\n",
       "   'wordSecondLang': 'Кімсің?',\n",
       "   'sentenceSecondLang': 'Сәлем, кімсің?',\n",
       "   'id': 1004},\n",
       "  {'sentenceCorrectness': {'isCorrect': True,\n",
       "    'explanation': \"The Kazakh sentence 'Сәлем, кімсің?' is grammatically correct and natural. It properly greets someone and asks for their identity, aligning with common conversational structure.\",\n",
       "    'suggestedFix': None},\n",
       "   'wordUsage': {'isCorrect': True,\n",
       "    'explanation': \"The word 'Кімсің?' meaning 'Who are you?' is correctly used in the sentence 'Сәлем, кімсің?' as it conveys asking someone's identity following a greeting.\",\n",
       "    'suggestedFixSentence': None,\n",
       "    'suggestedFixWord': None},\n",
       "   'wordTranslationAccuracy': {'isCorrect': True,\n",
       "    'explanation': \"The Kazakh word 'Кімсің?' accurately translates the Russian 'Кто ты?' and Finnish 'Kuka sinä olet?' as it carries the same meaning of asking someone's identity.\",\n",
       "    'suggestedFix': None},\n",
       "   'sentenceTranslationAccuracy': {'isCorrect': True,\n",
       "    'explanation': \"The Kazakh sentence 'Сәлем, кімсің?' correctly translates the Russian 'Привет, кто ты?' and Finnish 'Hei, kuka sinä olet?' as it maintains the greeting followed by asking someone's identity.\",\n",
       "    'suggestedFix': None},\n",
       "   'id': 1004}),\n",
       " ({'wordFirstLang': 'я',\n",
       "   'sentenceFirstLang': 'Я студент.',\n",
       "   'wordSecondLang': 'мен',\n",
       "   'sentenceSecondLang': 'Мен студентпін.',\n",
       "   'id': 1005},\n",
       "  {'sentenceCorrectness': {'isCorrect': True,\n",
       "    'explanation': \"The Kazakh sentence 'Мен студентпін.' is grammatically correct and natural. It conveys the meaning that 'I am a student,' in line with the Russian sentence 'Я студент.' and the Finnish sentence 'Minä olen opiskelija.'.\",\n",
       "    'suggestedFix': None},\n",
       "   'wordUsage': {'isCorrect': True,\n",
       "    'explanation': \"The word 'мен' meaning 'I' is correctly used in the Kazakh sentence. It is aligned with the Russian word 'я' and Finnish word 'minä', referring to oneself in the sentence context.\",\n",
       "    'suggestedFixSentence': None,\n",
       "    'suggestedFixWord': None},\n",
       "   'wordTranslationAccuracy': {'isCorrect': True,\n",
       "    'explanation': \"The Kazakh word 'мен' accurately translates the Russian word 'я' and the Finnish word 'minä'. Both words convey the first-person singular pronoun 'I', with 'мен' being the appropriate Kazakh equivalent.\",\n",
       "    'suggestedFix': None},\n",
       "   'sentenceTranslationAccuracy': {'isCorrect': True,\n",
       "    'explanation': \"The translation of the sentence 'Мен студентпін.' accurately reflects the meaning of both the Russian sentence 'Я студент.' and the Finnish sentence 'Minä olen opiskelija.'. It maintains the structure and meaning effectively in Kazakh.\",\n",
       "    'suggestedFix': None},\n",
       "   'id': 1005}),\n",
       " ({'wordFirstLang': 'быть',\n",
       "   'sentenceFirstLang': 'Я дома.',\n",
       "   'wordSecondLang': 'болу',\n",
       "   'sentenceSecondLang': 'Мен үйдемін.',\n",
       "   'id': 1006},\n",
       "  {'sentenceCorrectness': {'isCorrect': True,\n",
       "    'explanation': \"The Kazakh sentence 'Мен үйдемін.' is grammatically correct and natural. It is a simple sentence that conveys the location of the speaker accurately.\",\n",
       "    'suggestedFix': None},\n",
       "   'wordUsage': {'isCorrect': False,\n",
       "    'explanation': \"The word 'болу' (to be) is not used in the Kazakh sentence 'Мен үйдемін.'. In Kazakh, presence is often indicated by verb forms embedded in pronouns or particles such as 'мын/мін'. Therefore, the literal usage of 'болу' isn't typical for this context.\",\n",
       "    'suggestedFixSentence': \"If inclusion of 'болу' is necessary, a sentence might be 'Мен үйде боламын.', although it changes the sentence meaning slightly to 'I will be at home.'\",\n",
       "    'suggestedFixWord': \"Given the equivalence in other languages and usage patterns in Kazakh, the translation of 'болу' does not directly fit into the sentence 'Мен үйдемін.' without altering its natural flow or context.\"},\n",
       "   'wordTranslationAccuracy': {'isCorrect': True,\n",
       "    'explanation': \"The word 'болу' is a correct translation of 'быть' in Russian and 'olla' in Finnish. Both words mean 'to be', which aligns with the translated Kazakh term.\",\n",
       "    'suggestedFix': None},\n",
       "   'sentenceTranslationAccuracy': {'isCorrect': True,\n",
       "    'explanation': \"The Russian sentence 'Я дома.' and the Finnish sentence 'Minä olen kotona.' both accurately translate to 'Мен үйдемін.' in Kazakh, conveying the intended meaning 'I am at home.'\",\n",
       "    'suggestedFix': None},\n",
       "   'id': 1006}),\n",
       " ({'wordFirstLang': 'а ты?',\n",
       "   'sentenceFirstLang': 'Я готов, а ты?',\n",
       "   'wordSecondLang': 'сен ше?',\n",
       "   'sentenceSecondLang': 'Мен дайынмын, сен ше?',\n",
       "   'id': 1007},\n",
       "  {'sentenceCorrectness': {'isCorrect': True,\n",
       "    'explanation': \"The Kazakh sentence 'Мен дайынмын, сен ше?' is grammatically correct and natural. It properly conveys the idea of asking if someone else is ready, following the statement of one's own readiness.\",\n",
       "    'suggestedFix': None},\n",
       "   'wordUsage': {'isCorrect': True,\n",
       "    'explanation': \"The Kazakh word 'сен ше?' is correctly used in the sentence. It serves the same purpose as 'а ты?' in Russian and 'entä sinä?' in Finnish, meaning 'and you?' or 'how about you?'.\",\n",
       "    'suggestedFixSentence': None,\n",
       "    'suggestedFixWord': None},\n",
       "   'wordTranslationAccuracy': {'isCorrect': True,\n",
       "    'explanation': \"The Kazakh word 'сен ше?' accurately translates the Russian phrase 'а ты?' and the Finnish phrase 'entä sinä?', maintaining the same interrogative and conversational tone.\",\n",
       "    'suggestedFix': None},\n",
       "   'sentenceTranslationAccuracy': {'isCorrect': True,\n",
       "    'explanation': \"The sentence 'Мен дайынмын, сен ше?' in Kazakh is a correct translation of both the Russian 'Я готов, а ты?' and the Finnish 'Olen valmis, entä sinä?'. It fully captures the meaning and intent of the original sentences.\",\n",
       "    'suggestedFix': None},\n",
       "   'id': 1007}),\n",
       " ({'wordFirstLang': 'ты',\n",
       "   'sentenceFirstLang': 'Ты идешь сегодня в кино?',\n",
       "   'wordSecondLang': 'сен',\n",
       "   'sentenceSecondLang': 'Сен бүгін киноға барасың ба?',\n",
       "   'id': 1008},\n",
       "  {'sentenceCorrectness': {'isCorrect': True,\n",
       "    'explanation': \"The Kazakh sentence 'Сен бүгін киноға барасың ба?' is grammatical and natural. It uses the correct word order and correctly conveys the meaning of the sentence.\",\n",
       "    'suggestedFix': None},\n",
       "   'wordUsage': {'isCorrect': True,\n",
       "    'explanation': \"The Kazakh word 'сен' which means 'you' is appropriately used in the sentence 'Сен бүгін киноға барасың ба?'. It matches the usage in the Russian and Finnish sentences, and is necessary for addressing the listener.\",\n",
       "    'suggestedFixSentence': None,\n",
       "    'suggestedFixWord': None},\n",
       "   'wordTranslationAccuracy': {'isCorrect': True,\n",
       "    'explanation': \"The translation of the word 'ты' in Russian and 'sinä' in Finnish appropriately translates to 'сен' in Kazakh. These are all the respective informal ways of saying 'you' in each language.\",\n",
       "    'suggestedFix': None},\n",
       "   'sentenceTranslationAccuracy': {'isCorrect': True,\n",
       "    'explanation': \"The Russian sentence 'Ты идешь сегодня в кино?' and the Finnish sentence 'Menetkö sinä tänään elokuviin?' both ask if the listener is going to the cinema today. The Kazakh translation 'Сен бүгін киноға барасың ба?' accurately captures the meaning by asking the same in Kazakh.\",\n",
       "    'suggestedFix': None},\n",
       "   'id': 1008}),\n",
       " ({'wordFirstLang': 'Приятно познакомиться!',\n",
       "   'sentenceFirstLang': 'Приятно познакомиться, мое имя Анна.',\n",
       "   'wordSecondLang': 'Танысқаныма қуаныштымын!',\n",
       "   'sentenceSecondLang': 'Танысқаныма қуаныштымын, менің атым Анна.',\n",
       "   'id': 1009},\n",
       "  {'sentenceCorrectness': {'isCorrect': True,\n",
       "    'explanation': \"The Kazakh sentence 'Танысқаныма қуаныштымын, менің атым Анна.' is grammatically correct and natural. It appropriately uses the phrase 'Танысқаныма қуаныштымын' to convey the meaning 'nice to meet you' and follows with a natural introduction of the name as 'менің атым Анна'.\",\n",
       "    'suggestedFix': None},\n",
       "   'wordUsage': {'isCorrect': True,\n",
       "    'explanation': \"The word 'Танысқаныма қуаныштымын' from the provided translations is properly utilized in the sentence. It correctly conveys the meaning of 'nice to meet you', and fits well in the context of the sentence.\",\n",
       "    'suggestedFixSentence': None,\n",
       "    'suggestedFixWord': None},\n",
       "   'wordTranslationAccuracy': {'isCorrect': True,\n",
       "    'explanation': \"The word translation from both Russian 'Приятно познакомиться!' and Finnish 'Hauska tutustua!' to Kazakh 'Танысқаныма қуаныштымын!' is accurate. The Kazakh expression captures the same sentiment of pleasure in meeting someone.\",\n",
       "    'suggestedFix': None},\n",
       "   'sentenceTranslationAccuracy': {'isCorrect': True,\n",
       "    'explanation': \"The sentence translation from Russian 'Приятно познакомиться, мое имя Анна.' and Finnish 'Hauska tutustua, nimeni on Anna.' to Kazakh 'Танысқаныма қуаныштымын, менің атым Анна.' is accurate and retains the meaning and structure effectively.\",\n",
       "    'suggestedFix': None},\n",
       "   'id': 1009})]"
      ]
     },
     "execution_count": 28,
     "metadata": {},
     "output_type": "execute_result"
    }
   ],
   "source": [
    "list(zip(first_book_cards, first_book_evals))[:10]"
   ]
  },
  {
   "cell_type": "code",
   "execution_count": 35,
   "metadata": {},
   "outputs": [],
   "source": [
    "import random\n",
    "\n",
    "first_book_sample = random.choices(list(zip(first_book_cards, first_book_evals)), k=30)"
   ]
  },
  {
   "cell_type": "code",
   "execution_count": 36,
   "metadata": {},
   "outputs": [
    {
     "data": {
      "text/plain": [
       "[({'wordFirstLang': 'сто один',\n",
       "   'sentenceFirstLang': '',\n",
       "   'wordSecondLang': 'жүз бір',\n",
       "   'sentenceSecondLang': '',\n",
       "   'id': 1095},\n",
       "  {'translationAccuracy': {'isCorrect': True,\n",
       "    'explanation': \"The Kazakh translation accurately conveys the meaning of the Russian 'сто один' and the Finnish 'satayksi', both of which mean '101'. 'Жүз бір' is the correct and natural way to express the number 101 in Kazakh.\",\n",
       "    'suggestedFix': None},\n",
       "   'id': 1095}),\n",
       " ({'wordFirstLang': 'у нас',\n",
       "   'sentenceFirstLang': 'У нас закончился кофе.',\n",
       "   'wordSecondLang': 'бізде',\n",
       "   'sentenceSecondLang': 'Бізде кофе таусылды.',\n",
       "   'id': 2933},\n",
       "  {'sentenceCorrectness': {'isCorrect': True,\n",
       "    'explanation': \"The Kazakh sentence, 'Бізде кофе таусылды.', is grammatically correct and natural. It correctly uses the structure to indicate that they have run out of coffee.\",\n",
       "    'suggestedFix': None},\n",
       "   'wordUsage': {'isCorrect': True,\n",
       "    'explanation': \"The word 'бізде' is correctly used in the sentence to convey the location or source context ('У нас', 'meiltä'). It ensures the sentence retains the meaning that the coffee ran out from the given location.\",\n",
       "    'suggestedFixSentence': None,\n",
       "    'suggestedFixWord': None},\n",
       "   'wordTranslationAccuracy': {'isCorrect': True,\n",
       "    'explanation': \"The word 'бізде' in Kazakh accurately translates to 'у нас' in Russian and 'meiltä' in Finnish, both meaning 'at us' or 'from us'. There is no issue with the translation accuracy.\",\n",
       "    'suggestedFix': None},\n",
       "   'sentenceTranslationAccuracy': {'isCorrect': True,\n",
       "    'explanation': \"The sentence 'Бізде кофе таусылды.' is an accurate translation from the Russian 'У нас закончился кофе.' and Finnish 'Meiltä loppui kahvi.'. It correctly conveys that the coffee ran out, maintaining the intended meaning from both Russian and Finnish sources.\",\n",
       "    'suggestedFix': None},\n",
       "   'id': 2933}),\n",
       " ({'wordFirstLang': 'Ну, это точно.',\n",
       "   'sentenceFirstLang': '',\n",
       "   'wordSecondLang': 'Иә, дәл солай.',\n",
       "   'sentenceSecondLang': '',\n",
       "   'id': 2315},\n",
       "  {'translationAccuracy': {'isCorrect': True,\n",
       "    'explanation': \"The Kazakh translation 'Иә, дәл солай.' accurately conveys the meaning of the Russian phrase 'Ну, это точно.' and the Finnish phrase 'Niin onkin.' Both express agreement and confirmation, which is naturally represented in Kazakh as 'Иә, дәл солай.'\",\n",
       "    'suggestedFix': None},\n",
       "   'id': 2315}),\n",
       " ({'wordFirstLang': 'новоселье',\n",
       "   'sentenceFirstLang': 'Сегодня у нас новоселье.',\n",
       "   'wordSecondLang': 'қоныс тойы',\n",
       "   'sentenceSecondLang': 'Бүгін бізде қоныс тойы.',\n",
       "   'id': 2450},\n",
       "  {'sentenceCorrectness': {'isCorrect': True,\n",
       "    'explanation': \"The sentence 'Бүгін бізде қоныс тойы.' is grammatically correct in Kazakh. It naturally conveys the intended meaning that 'Today we have a housewarming.' The structure and word usage are appropriate.\",\n",
       "    'suggestedFix': None},\n",
       "   'wordUsage': {'isCorrect': True,\n",
       "    'explanation': \"The word 'қоныс тойы' is correctly used in the sentence as it refers to the concept of 'housewarming party.' The sentence correctly integrates this term as part of the context, maintaining relevance and coherence.\",\n",
       "    'suggestedFixSentence': None,\n",
       "    'suggestedFixWord': None},\n",
       "   'wordTranslationAccuracy': {'isCorrect': True,\n",
       "    'explanation': \"The translation of the word 'новоселье' from Russian and 'tupaantuliaiset' from Finnish to Kazakh as 'қоныс тойы' is accurate. All terms convey the concept of a 'housewarming party,' which fits the context well.\",\n",
       "    'suggestedFix': None},\n",
       "   'sentenceTranslationAccuracy': {'isCorrect': True,\n",
       "    'explanation': \"The translation of the sentence 'Сегодня у нас новоселье.' from Russian and 'Tänään meillä on tupaantuliaiset.' from Finnish to the Kazakh sentence 'Бүгін бізде қоныс тойы.' is accurate. It successfully retains the meaning and context of the original sentences, effectively communicating the occurrence of a housewarming event today.\",\n",
       "    'suggestedFix': None},\n",
       "   'id': 2450}),\n",
       " ({'wordFirstLang': 'двоюродный брат',\n",
       "   'sentenceFirstLang': 'У меня есть двоюродный брат.',\n",
       "   'wordSecondLang': 'туыс ағайын',\n",
       "   'sentenceSecondLang': 'Менің туыс ағайыным бар.',\n",
       "   'id': 1730},\n",
       "  {'sentenceCorrectness': {'isCorrect': True,\n",
       "    'explanation': \"The Kazakh sentence 'Менің туыс ағайыным бар.' is grammatically correct and natural. It correctly uses the possessive form to indicate 'I have a cousin'.\",\n",
       "    'suggestedFix': None},\n",
       "   'wordUsage': {'isCorrect': False,\n",
       "    'explanation': \"The phrase 'туыс ағайын' in Kazakh translates more directly as 'relative brother', which may not capture the concept of 'cousin' accurately. A more precise word for 'cousin' in Kazakh is 'құда', which specifically refers to a cousin.\",\n",
       "    'suggestedFixSentence': 'Менің құдам бар.',\n",
       "    'suggestedFixWord': 'құда'},\n",
       "   'wordTranslationAccuracy': {'isCorrect': False,\n",
       "    'explanation': \"The word 'туыс ағайын' is not the most accurate translation for 'cousin'. While 'туыс' means 'relative', 'ағайын' generally refers to siblings or kin, and may misrepresent the specific relationship denoted by 'cousin'.\",\n",
       "    'suggestedFix': 'құда'},\n",
       "   'sentenceTranslationAccuracy': {'isCorrect': False,\n",
       "    'explanation': \"The translation 'Менің туыс ағайыным бар.' uses 'туыс ағайын' and does not accurately convey the term 'cousin'. The suggested word 'құда' would render the sentence more accurately.\",\n",
       "    'suggestedFix': 'Менің құдам бар.'},\n",
       "   'id': 1730}),\n",
       " ({'wordFirstLang': 'меня',\n",
       "   'sentenceFirstLang': 'Он видит меня.',\n",
       "   'wordSecondLang': 'мені',\n",
       "   'sentenceSecondLang': 'Ол мені көреді.',\n",
       "   'id': 1844},\n",
       "  {'sentenceCorrectness': {'isCorrect': True,\n",
       "    'explanation': \"The Kazakh sentence 'Ол мені көреді.' is grammatically correct and natural. The sentence structure directly mirrors the Russian and Finnish versions, appropriately using the Kazakh syntax for a simple subject-verb-object sentence.\",\n",
       "    'suggestedFix': None},\n",
       "   'wordUsage': {'isCorrect': True,\n",
       "    'explanation': \"The word 'мені' is correctly used in the Kazakh sentence. It is the direct translation of 'меня' in Russian and 'minua' in Finnish, both meaning 'me' in English. It serves the same grammatical purpose in the sentence as in the other translations.\",\n",
       "    'suggestedFixSentence': None,\n",
       "    'suggestedFixWord': None},\n",
       "   'wordTranslationAccuracy': {'isCorrect': True,\n",
       "    'explanation': \"The translation accuracy of the word 'мені' from Russian 'меня' and Finnish 'minua' to Kazakh is correct. All versions carry the same meaning 'me' and function as the first person singular pronoun in the accusative case.\",\n",
       "    'suggestedFix': None},\n",
       "   'sentenceTranslationAccuracy': {'isCorrect': True,\n",
       "    'explanation': \"The sentence 'Ол мені көреді.' accurately translates the meaning of both Russian 'Он видит меня.' and Finnish 'Hän näkee minua.' into Kazakh. The subject 'Ол', the verb 'көреді', and the object 'мені' all correspond perfectly to their counterparts in the given languages.\",\n",
       "    'suggestedFix': None},\n",
       "   'id': 1844}),\n",
       " ({'wordFirstLang': 'Поверните на улицу Марианкату.',\n",
       "   'sentenceFirstLang': '',\n",
       "   'wordSecondLang': 'Марианкат көшесіне бұрыңыз.',\n",
       "   'sentenceSecondLang': '',\n",
       "   'id': 2638},\n",
       "  {'translationAccuracy': {'isCorrect': True,\n",
       "    'explanation': \"The Kazakh translation 'Марианкат көшесіне бұрыңыз.' accurately conveys the meaning of the Russian phrase 'Поверните на улицу Марианкату.' and the Finnish phrase 'Käänny Mariankadulle.' Both the meaning and context are preserved, and the translation sounds natural to a native speaker.\",\n",
       "    'suggestedFix': None},\n",
       "   'id': 2638}),\n",
       " ({'wordFirstLang': 'унитаз',\n",
       "   'sentenceFirstLang': 'Унитаз в ванной комнате.',\n",
       "   'wordSecondLang': 'унитаз',\n",
       "   'sentenceSecondLang': 'Унитаз жуынатын бөлмеде.',\n",
       "   'id': 2132},\n",
       "  {'sentenceCorrectness': {'isCorrect': True,\n",
       "    'explanation': \"The sentence 'Унитаз жуынатын бөлмеде.' is grammatically correct in Kazakh. It follows the proper structure, where the noun phrase 'унитаз' is correctly placed before the location phrase 'жуынатын бөлмеде.' The sentence is natural and sounds appropriate.\",\n",
       "    'suggestedFix': None},\n",
       "   'wordUsage': {'isCorrect': True,\n",
       "    'explanation': \"The word 'унитаз' is correctly used in the sentence. It directly corresponds to the intended object in the sentence, which is properly contextualized in 'жуынатын бөлмеде' (in the bathroom). The usage is precise, as the word is common for such context.\",\n",
       "    'suggestedFixSentence': None,\n",
       "    'suggestedFixWord': None},\n",
       "   'wordTranslationAccuracy': {'isCorrect': True,\n",
       "    'explanation': \"The word translation from Russian 'унитаз' to Kazakh 'унитаз' is accurate since it is a borrowed term commonly used in Kazakh to refer to a toilet bowl. Similarly, the Finnish term 'wc-pönttö' is translated to 'унитаз,' which captures the intended meaning correctly.\",\n",
       "    'suggestedFix': None},\n",
       "   'sentenceTranslationAccuracy': {'isCorrect': True,\n",
       "    'explanation': \"The Kazakh sentence 'Унитаз жуынатын бөлмеде.' accurately translates the Russian 'Унитаз в ванной комнате.' and the Finnish 'WC-pönttö on kylpyhuoneessa.' The meaning is maintained across translations as each language places the toilet bowl in the bathroom.\",\n",
       "    'suggestedFix': None},\n",
       "   'id': 2132}),\n",
       " ({'wordFirstLang': 'место для обеда',\n",
       "   'sentenceFirstLang': 'Мы часто ходим на обед в это место.',\n",
       "   'wordSecondLang': 'түскі ас орны',\n",
       "   'sentenceSecondLang': 'Біз бұл түскі ас орнына жиі барамыз.',\n",
       "   'id': 2745},\n",
       "  {'sentenceCorrectness': {'isCorrect': True,\n",
       "    'explanation': \"The Kazakh sentence 'Біз бұл түскі ас орнына жиі барамыз.' is grammatically correct and natural. It properly conveys the idea of frequently going to a lunch place, matching the nuance and intention of the Russian and Finnish sentences.\",\n",
       "    'suggestedFix': None},\n",
       "   'wordUsage': {'isCorrect': True,\n",
       "    'explanation': \"The Kazakh word 'түскі ас орны' is correctly used in the sentence. It fits naturally and contextually matches the original terms for 'место для обеда' in Russian and 'lounaspaikka' in Finnish.\",\n",
       "    'suggestedFixSentence': None,\n",
       "    'suggestedFixWord': None},\n",
       "   'wordTranslationAccuracy': {'isCorrect': True,\n",
       "    'explanation': \"The translation of the word 'место для обеда' from Russian and 'lounaspaikka' from Finnish to 'түскі ас орны' in Kazakh is accurate and correctly reflects the term 'lunch place'.\",\n",
       "    'suggestedFix': None},\n",
       "   'sentenceTranslationAccuracy': {'isCorrect': True,\n",
       "    'explanation': \"The Kazakh sentence correctly translates the Russian 'Мы часто ходим на обед в это место.' and Finnish 'Me käymme usein lounaalla tässä lounaspaikassa.' into a natural-sounding statement conveying the same meaning, about frequently visiting a lunch place.\",\n",
       "    'suggestedFix': None},\n",
       "   'id': 2745}),\n",
       " ({'wordFirstLang': 'бассейн',\n",
       "   'sentenceFirstLang': 'Я хожу в бассейн каждую неделю.',\n",
       "   'wordSecondLang': 'жүзу бассейні',\n",
       "   'sentenceSecondLang': 'Мен жүзу бассейніне апта сайын барамын.',\n",
       "   'id': 1896},\n",
       "  {'sentenceCorrectness': {'isCorrect': True,\n",
       "    'explanation': \"The Kazakh sentence 'Мен жүзу бассейніне апта сайын барамын.' is grammatically correct. It follows the structure of subject-object-adverb-verb, which is typical in Kazakh sentences.\",\n",
       "    'suggestedFix': None},\n",
       "   'wordUsage': {'isCorrect': True,\n",
       "    'explanation': \"The Kazakh word 'жүзу бассейні' accurately matches the context in which it's used in the sentence. It is the equivalent of 'бассейн' in Russian and 'uimahalli' in Finnish, specifically meaning a swimming pool.\",\n",
       "    'suggestedFixSentence': None,\n",
       "    'suggestedFixWord': None},\n",
       "   'wordTranslationAccuracy': {'isCorrect': True,\n",
       "    'explanation': \"The translation of 'бассейн' from Russian and 'uimahalli' from Finnish to 'жүзу бассейні' in Kazakh is appropriate and accurately conveys the meaning of a swimming facility.\",\n",
       "    'suggestedFix': None},\n",
       "   'sentenceTranslationAccuracy': {'isCorrect': True,\n",
       "    'explanation': \"The translations from both Russian ('Я хожу в бассейн каждую неделю.') and Finnish ('Käyn uimahallissa joka viikko.') are accurately rendered in Kazakh ('Мен жүзу бассейніне апта сайын барамын.') without any loss of meaning.\",\n",
       "    'suggestedFix': None},\n",
       "   'id': 1896}),\n",
       " ({'wordFirstLang': 'конечно',\n",
       "   'sentenceFirstLang': 'Конечно, я помогу тебе.',\n",
       "   'wordSecondLang': 'әрине',\n",
       "   'sentenceSecondLang': 'Әрине, мен саған көмектесемін.',\n",
       "   'id': 1175},\n",
       "  {'sentenceCorrectness': {'isCorrect': True,\n",
       "    'explanation': \"The sentence 'Әрине, мен саған көмектесемін.' is grammatically correct and natural in Kazakh. It translates accurately to 'Of course, I will help you.' in English, maintaining the sentence structure from both Russian and Finnish.\",\n",
       "    'suggestedFix': None},\n",
       "   'wordUsage': {'isCorrect': True,\n",
       "    'explanation': \"The word 'әрине' is correctly used in the sentence 'Әрине, мен саған көмектесемін.' It serves as the proper equivalent to both 'конечно' in Russian and 'tietysti' in Finnish, fitting naturally at the beginning of the sentence.\",\n",
       "    'suggestedFixSentence': None,\n",
       "    'suggestedFixWord': None},\n",
       "   'wordTranslationAccuracy': {'isCorrect': True,\n",
       "    'explanation': \"The word 'әрине' is a correct translation of 'конечно' from Russian and 'tietysti' from Finnish. It captures the meaning 'of course' accurately in Kazakh.\",\n",
       "    'suggestedFix': None},\n",
       "   'sentenceTranslationAccuracy': {'isCorrect': True,\n",
       "    'explanation': \"The sentence 'Әрине, мен саған көмектесемін.' is an accurate translation from both the Russian sentence 'Конечно, я помогу тебе.' and the Finnish sentence 'Tietysti autan sinua.'. The meaning and structure are preserved correctly in Kazakh.\",\n",
       "    'suggestedFix': None},\n",
       "   'id': 1175}),\n",
       " ({'wordFirstLang': 'на машине, на автомобиле',\n",
       "   'sentenceFirstLang': 'На работу я езжу на автомобиле.',\n",
       "   'wordSecondLang': 'көлікпен',\n",
       "   'sentenceSecondLang': 'Жұмысқа мен көлікпен барамын.',\n",
       "   'id': 2364},\n",
       "  {'sentenceCorrectness': {'isCorrect': True,\n",
       "    'explanation': \"The Kazakh sentence 'Жұмысқа мен көлікпен барамын.' is grammatically correct and natural. The structure of the sentence accurately conveys the meaning of traveling to work using a mode of transport.\",\n",
       "    'suggestedFix': None},\n",
       "   'wordUsage': {'isCorrect': True,\n",
       "    'explanation': \"The word 'көлікпен' is correctly used in the sentence. It accurately represents 'by car' or 'by vehicle,' as needed by the context of the sentence. The sentence makes natural use of the word.\",\n",
       "    'suggestedFixSentence': None,\n",
       "    'suggestedFixWord': None},\n",
       "   'wordTranslationAccuracy': {'isCorrect': True,\n",
       "    'explanation': \"The translation of 'көлікпен' as 'на машине, на автомобиле' in Russian and 'autolla' in Finnish is accurate. 'Көлікпен' carries the meaning of traveling by car or vehicle, which matches the translations.\",\n",
       "    'suggestedFix': None},\n",
       "   'sentenceTranslationAccuracy': {'isCorrect': True,\n",
       "    'explanation': \"The Kazakh sentence 'Жұмысқа мен көлікпен барамын.' accurately translates the meaning from both the Russian sentence 'На работу я езжу на автомобиле.' and the Finnish sentence 'Ajan töihin autolla.' Both source sentences express traveling to work by car, which is correctly conveyed in Kazakh.\",\n",
       "    'suggestedFix': None},\n",
       "   'id': 2364}),\n",
       " ({'wordFirstLang': 'поднос',\n",
       "   'sentenceFirstLang': 'Поднос используется для сервировки.',\n",
       "   'wordSecondLang': 'табақ',\n",
       "   'sentenceSecondLang': 'Табақ сервировка үшін пайдаланылады.',\n",
       "   'id': 2569},\n",
       "  {'sentenceCorrectness': {'isCorrect': False,\n",
       "    'explanation': \"The given sentence in Kazakh is understandable but can be improved for grammatical correctness and naturalness. 'сервировка үшін' is a direct translation from Russian and not commonly used in Kazakh. A more natural phrasing could be considered.\",\n",
       "    'suggestedFix': 'Табақ тағамды ұсынуға пайдаланылады.'},\n",
       "   'wordUsage': {'isCorrect': False,\n",
       "    'explanation': \"The word 'табақ' generally refers to 'bowl' or 'dish' rather than 'tray'. While 'табақ' can contextually refer to serving, it doesn't accurately convey the meaning of 'tray'. The sentence reflects 'tableware' rather than the specific 'tray' usage.\",\n",
       "    'suggestedFixSentence': 'Пастарды немесе тағамдарды ұсыну үшін табақ пайдаланылады.',\n",
       "    'suggestedFixWord': 'тақта'},\n",
       "   'wordTranslationAccuracy': {'isCorrect': False,\n",
       "    'explanation': \"The word 'табақ' in Kazakh usually means 'bowl' or 'platter'. A more precise translation for 'tray' would be 'тақта', which reflects the intended meaning more closely.\",\n",
       "    'suggestedFix': 'тақта'},\n",
       "   'sentenceTranslationAccuracy': {'isCorrect': False,\n",
       "    'explanation': \"While the sentence translates to serving contexts, it does not accurately reflect the idea of using a 'tray'. Additionally, 'сервировка үшін пайдаланылды' might be better expressed for clarity and naturalness.\",\n",
       "    'suggestedFix': 'Тақта тағамдарды немесе сусындарды ұсынуға қолданылады.'},\n",
       "   'id': 2569}),\n",
       " ({'wordFirstLang': 'смеяться',\n",
       "   'sentenceFirstLang': 'Ребенок смеется.',\n",
       "   'wordSecondLang': 'күлу',\n",
       "   'sentenceSecondLang': 'Бала күліп жатыр.',\n",
       "   'id': 1166},\n",
       "  {'sentenceCorrectness': {'isCorrect': True,\n",
       "    'explanation': \"The Kazakh sentence 'Бала күліп жатыр.' is grammatically correct and natural. It appropriately uses the present continuous tense to describe the ongoing action of the child laughing.\",\n",
       "    'suggestedFix': None},\n",
       "   'wordUsage': {'isCorrect': True,\n",
       "    'explanation': \"The word 'күлу' is correctly used in the sentence as 'күліп жатыр', which means 'is laughing'. The usage accurately conveys the action being performed by the subject, 'Бала' ('child').\",\n",
       "    'suggestedFixSentence': None,\n",
       "    'suggestedFixWord': None},\n",
       "   'wordTranslationAccuracy': {'isCorrect': True,\n",
       "    'explanation': \"The translation of the word 'смеяться' from Russian and 'nauraa' from Finnish to 'күлу' in Kazakh is accurate. All three denote the action of laughing.\",\n",
       "    'suggestedFix': None},\n",
       "   'sentenceTranslationAccuracy': {'isCorrect': True,\n",
       "    'explanation': \"The Kazakh sentence 'Бала күліп жатыр.' accurately translates the Russian sentence 'Ребенок смеется.' and the Finnish sentence 'Lapsi nauraa.'. Both convey the meaning that 'The child is laughing.'\",\n",
       "    'suggestedFix': None},\n",
       "   'id': 1166}),\n",
       " ({'wordFirstLang': 'встреча',\n",
       "   'sentenceFirstLang': 'Мы проводим встречу каждый понедельник.',\n",
       "   'wordSecondLang': 'жиналыс',\n",
       "   'sentenceSecondLang': 'Біз әр дүйсенбі жиналыс өткіземіз.',\n",
       "   'id': 2728},\n",
       "  {'sentenceCorrectness': {'isCorrect': True,\n",
       "    'explanation': \"The Kazakh sentence 'Біз әр дүйсенбі жиналыс өткіземіз.' is grammatically correct and natural. It properly conveys the meaning that the meeting is held every Monday.\",\n",
       "    'suggestedFix': None},\n",
       "   'wordUsage': {'isCorrect': True,\n",
       "    'explanation': \"The Kazakh word 'жиналыс' is correctly used in the sentence in the context of a gathering or meeting. It appropriately fits the context of holding meetings regularly.\",\n",
       "    'suggestedFixSentence': None,\n",
       "    'suggestedFixWord': None},\n",
       "   'wordTranslationAccuracy': {'isCorrect': True,\n",
       "    'explanation': \"The translation of the word 'встреча' (Russian) and 'palaveri' (Finnish) as 'жиналыс' in Kazakh is accurate. 'Жиналыс' is a proper translation for a formal meeting in Kazakh.\",\n",
       "    'suggestedFix': None},\n",
       "   'sentenceTranslationAccuracy': {'isCorrect': True,\n",
       "    'explanation': \"The Kazakh sentence 'Біз әр дүйсенбі жиналыс өткіземіз.' accurately translates both the Russian sentence 'Мы проводим встречу каждый понедельник.' and the Finnish sentence 'Kokoonnumme palaveriin joka maanantai.'. The frequency and activity are well represented.\",\n",
       "    'suggestedFix': None},\n",
       "   'id': 2728}),\n",
       " ({'wordFirstLang': 'Не открывай компьютер!',\n",
       "   'sentenceFirstLang': '',\n",
       "   'wordSecondLang': 'компьютерді ашпа',\n",
       "   'sentenceSecondLang': 'Компьютерді ашпа!',\n",
       "   'id': 2248},\n",
       "  {'translationAccuracy': {'isCorrect': True,\n",
       "    'explanation': \"The Kazakh translation 'компьютерді ашпа' accurately conveys the meaning of both the Russian and Finnish phrases, which are commands not to open the computer. The phrase sounds natural and is correctly structured in Kazakh.\",\n",
       "    'suggestedFix': None},\n",
       "   'id': 2248}),\n",
       " ({'wordFirstLang': 'очаровательный',\n",
       "   'sentenceFirstLang': 'Улыбка ребенка была очаровательной.',\n",
       "   'wordSecondLang': 'өте сүйкімді',\n",
       "   'sentenceSecondLang': 'Балақайдың күлкісі өте сүйкімді болды.',\n",
       "   'id': 1687},\n",
       "  {'sentenceCorrectness': {'isCorrect': True,\n",
       "    'explanation': \"The Kazakh sentence 'Балақайдың күлкісі өте сүйкімді болды.' is grammatically correct and natural. It effectively conveys the meaning of the child's smile being charming or very cute.\",\n",
       "    'suggestedFix': None},\n",
       "   'wordUsage': {'isCorrect': True,\n",
       "    'explanation': \"The word 'өте сүйкімді' is correctly used in the sentence to convey the idea of being very cute or charming. It fits the context of describing the smile.\",\n",
       "    'suggestedFixSentence': None,\n",
       "    'suggestedFixWord': None},\n",
       "   'wordTranslationAccuracy': {'isCorrect': True,\n",
       "    'explanation': \"The translation of 'очаровательный' in Russian and 'suloinen' in Finnish as 'өте сүйкімді' in Kazakh is accurate. Both Russian and Finnish terms imply charming or cute, which is well reflected in the Kazakh translation.\",\n",
       "    'suggestedFix': None},\n",
       "   'sentenceTranslationAccuracy': {'isCorrect': True,\n",
       "    'explanation': \"The sentence translation from Russian 'Улыбка ребенка была очаровательной.' and Finnish 'Lapsen hymy oli suloinen.' to Kazakh 'Балақайдың күлкісі өте сүйкімді болды.' accurately maintains the meaning that the child's smile is very charming or sweet. The essence is captured well in Kazakh.\",\n",
       "    'suggestedFix': None},\n",
       "   'id': 1687}),\n",
       " ({'wordFirstLang': 'дорогой',\n",
       "   'sentenceFirstLang': 'Эти часы дорогие.',\n",
       "   'wordSecondLang': 'қымбат',\n",
       "   'sentenceSecondLang': 'Бұл сағат қымбат.',\n",
       "   'id': 1235},\n",
       "  {'sentenceCorrectness': {'isCorrect': True,\n",
       "    'explanation': \"The Kazakh sentence 'Бұл сағат қымбат.' is grammatically correct and natural. It follows the typical word order in a Kazakh sentence, placing the subject ('Бұл сағат') before the predicate ('қымбат').\",\n",
       "    'suggestedFix': None},\n",
       "   'wordUsage': {'isCorrect': True,\n",
       "    'explanation': \"The word 'қымбат' is used correctly within the context of this sentence. It accurately conveys the meaning 'expensive', relating to the clock, based on the translations in Russian and Finnish.\",\n",
       "    'suggestedFixSentence': None,\n",
       "    'suggestedFixWord': None},\n",
       "   'wordTranslationAccuracy': {'isCorrect': True,\n",
       "    'explanation': \"The Kazakh translation 'қымбат' for the Russian word 'дорогой' and Finnish word 'kallis' is accurate. Both words mean 'expensive,' and 'қымбат' is the correct translation in Kazakh.\",\n",
       "    'suggestedFix': None},\n",
       "   'sentenceTranslationAccuracy': {'isCorrect': True,\n",
       "    'explanation': \"The sentence 'Бұл сағат қымбат.' is a correct translation of both the Russian sentence 'Эти часы дорогие.' and the Finnish sentence 'Tämä kello on kallis.' The meaning is preserved accurately in Kazakh.\",\n",
       "    'suggestedFix': None},\n",
       "   'id': 1235}),\n",
       " ({'wordFirstLang': 'сковорода',\n",
       "   'sentenceFirstLang': 'На сковороде готовят яичницу.',\n",
       "   'wordSecondLang': 'қуыру табағы',\n",
       "   'sentenceSecondLang': 'Қуыру табағында жұмыртқа пісіреді.',\n",
       "   'id': 2559},\n",
       "  {'sentenceCorrectness': {'isCorrect': True,\n",
       "    'explanation': \"The Kazakh sentence 'Қуыру табағында жұмыртқа пісіреді.' is grammatically correct and natural. It follows the structure where 'Tabagynda' means 'on the frying pan', 'zhumyurtqa' means 'eggs', and 'pisiredi' means 'cook'.\",\n",
       "    'suggestedFix': None},\n",
       "   'wordUsage': {'isCorrect': True,\n",
       "    'explanation': \"The Kazakh word 'қуыру табағы' is used correctly in the sentence. It accurately represents the concept of a 'frying pan', and the usage is appropriate in the context of cooking eggs.\",\n",
       "    'suggestedFixSentence': None,\n",
       "    'suggestedFixWord': None},\n",
       "   'wordTranslationAccuracy': {'isCorrect': True,\n",
       "    'explanation': \"The word translation from Russian 'сковорода' and Finnish 'paistinpannu' to Kazakh 'қуыру табағы' is correct. 'Қуыру табағы' is a commonly accepted term for a frying pan in Kazakh.\",\n",
       "    'suggestedFix': None},\n",
       "   'sentenceTranslationAccuracy': {'isCorrect': True,\n",
       "    'explanation': \"The translations from Russian and Finnish to Kazakh are accurate. The original meanings 'На сковороде готовят яичницу.' and 'Munakasta valmistetaan paistinpannulla.' match the nuance of cooking eggs on a frying pan, which is preserved in the Kazakh 'Қуыру табағында жұмыртқа пісіреді.'\",\n",
       "    'suggestedFix': None},\n",
       "   'id': 2559}),\n",
       " ({'wordFirstLang': 'Польша',\n",
       "   'sentenceFirstLang': '',\n",
       "   'wordSecondLang': 'Польша',\n",
       "   'sentenceSecondLang': '',\n",
       "   'id': 1326},\n",
       "  {'translationAccuracy': {'isCorrect': True,\n",
       "    'explanation': \"The word 'Польша' is the correct and natural translation for both the Russian 'Польша' and Finnish 'Puola' into Kazakh as it refers to the country Poland. There's no need for a correction.\",\n",
       "    'suggestedFix': None},\n",
       "   'id': 1326}),\n",
       " ({'wordFirstLang': 'один миллион',\n",
       "   'sentenceFirstLang': '',\n",
       "   'wordSecondLang': 'бір миллион',\n",
       "   'sentenceSecondLang': '',\n",
       "   'id': 1100},\n",
       "  {'translationAccuracy': {'isCorrect': True,\n",
       "    'explanation': \"The Kazakh translation 'бір миллион' accurately conveys the meaning of both the Russian 'один миллион' and the Finnish 'miljoona', meaning 'one million'. It sounds natural in Kazakh and there are no issues with the translation.\",\n",
       "    'suggestedFix': None},\n",
       "   'id': 1100}),\n",
       " ({'wordFirstLang': 'для тебя, тебе',\n",
       "   'sentenceFirstLang': 'Это подарок для тебя.',\n",
       "   'wordSecondLang': 'саған',\n",
       "   'sentenceSecondLang': 'Бұл саған сыйлық.',\n",
       "   'id': 1263},\n",
       "  {'sentenceCorrectness': {'isCorrect': True,\n",
       "    'explanation': \"The Kazakh sentence 'Бұл саған сыйлық.' is grammatically correct and natural. The structure aligns well with common Kazakh sentence patterns, starting with 'Бұл' (this) and ending with 'сыйлық' (gift).\",\n",
       "    'suggestedFix': None},\n",
       "   'wordUsage': {'isCorrect': True,\n",
       "    'explanation': \"The word 'саған' is correctly used within the Kazakh sentence as it means 'to you', matching the context given by the Russian and Finnish sentences, which are referring to a gift for the listener.\",\n",
       "    'suggestedFixSentence': None,\n",
       "    'suggestedFixWord': None},\n",
       "   'wordTranslationAccuracy': {'isCorrect': True,\n",
       "    'explanation': \"The word 'саған' accurately translates the meaning from Russian ('для тебя, тебе') and Finnish ('sinulle') to Kazakh, conveying the message 'for you' or 'to you'.\",\n",
       "    'suggestedFix': None},\n",
       "   'sentenceTranslationAccuracy': {'isCorrect': True,\n",
       "    'explanation': \"The translation of the sentence 'Это подарок для тебя.' from Russian and 'Tämä on lahja sinulle.' from Finnish to Kazakh is accurate. The Kazakh sentence 'Бұл саған сыйлық.' effectively captures the essence of the original message.\",\n",
       "    'suggestedFix': None},\n",
       "   'id': 1263}),\n",
       " ({'wordFirstLang': 'что',\n",
       "   'sentenceFirstLang': 'Что у вас в планах на вечер?',\n",
       "   'wordSecondLang': 'не',\n",
       "   'sentenceSecondLang': 'Кешке не жоспарларыңыз бар?',\n",
       "   'id': 2833},\n",
       "  {'sentenceCorrectness': {'isCorrect': True,\n",
       "    'explanation': \"The Kazakh sentence 'Кешке не жоспарларыңыз бар?' is grammatically correct and natural. It effectively conveys the intended meaning of the sentence asking what plans someone has for the evening.\",\n",
       "    'suggestedFix': None},\n",
       "   'wordUsage': {'isCorrect': True,\n",
       "    'explanation': \"The word 'не' in Kazakh corresponds appropriately to the context of asking 'what' plans are there. It reflects the same functionality as 'что' and 'mitäs'.\",\n",
       "    'suggestedFixSentence': None,\n",
       "    'suggestedFixWord': None},\n",
       "   'wordTranslationAccuracy': {'isCorrect': True,\n",
       "    'explanation': \"The translation of the word 'что' and 'mitäs' to 'не' in Kazakh is correct in the context of forming questions. 'Не' is commonly used to inquire 'what' in Kazakh.\",\n",
       "    'suggestedFix': None},\n",
       "   'sentenceTranslationAccuracy': {'isCorrect': True,\n",
       "    'explanation': \"The Kazakh translation 'Кешке не жоспарларыңыз бар?' accurately corresponds to both the Russian sentence 'Что у вас в планах на вечер?' and the Finnish sentence 'Mitäs sinulla on suunnitelmissa illaksi?'. The meaning and intent are preserved well.\",\n",
       "    'suggestedFix': None},\n",
       "   'id': 2833}),\n",
       " ({'wordFirstLang': 'третий',\n",
       "   'sentenceFirstLang': 'Я был третьим на соревнованиях',\n",
       "   'wordSecondLang': 'үшінші',\n",
       "   'sentenceSecondLang': 'Мен жарыста үшінші болдым',\n",
       "   'id': 2654},\n",
       "  {'sentenceCorrectness': {'isCorrect': True,\n",
       "    'explanation': \"The Kazakh sentence 'Мен жарыста үшінші болдым' is grammatically correct and natural. It uses the Kazakh word for 'third' appropriately within the context of the sentence.\",\n",
       "    'suggestedFix': None},\n",
       "   'wordUsage': {'isCorrect': True,\n",
       "    'explanation': \"The usage of the word 'үшінші' in the Kazakh sentence is correct. It appropriately translates the concept of 'third' from the Russian and Finnish sentences within the context of a competition.\",\n",
       "    'suggestedFixSentence': None,\n",
       "    'suggestedFixWord': None},\n",
       "   'wordTranslationAccuracy': {'isCorrect': True,\n",
       "    'explanation': \"The word 'үшінші' accurately translates the Russian 'третий' and Finnish 'kolmas' into Kazakh, reflecting the concept of being in the third position.\",\n",
       "    'suggestedFix': None},\n",
       "   'sentenceTranslationAccuracy': {'isCorrect': True,\n",
       "    'explanation': \"The Kazakh sentence 'Мен жарыста үшінші болдым' is a correct translation of both the Russian 'Я был третьим на соревнованиях' and Finnish 'Olin kilpailussa kolmas'. It captures the meaning of being third in a competition accurately.\",\n",
       "    'suggestedFix': None},\n",
       "   'id': 2654}),\n",
       " ({'wordFirstLang': 'станция метро',\n",
       "   'sentenceFirstLang': 'Мы пошли на станцию метро.',\n",
       "   'wordSecondLang': 'метро станциясы',\n",
       "   'sentenceSecondLang': 'Біз метро станциясына бардық.',\n",
       "   'id': 2341},\n",
       "  {'sentenceCorrectness': {'isCorrect': True,\n",
       "    'explanation': \"The Kazakh sentence 'Біз метро станциясына бардық.' is grammatically correct and natural. The structure aligns well with Kazakh sentence formation, adhering to correct word order.\",\n",
       "    'suggestedFix': None},\n",
       "   'wordUsage': {'isCorrect': True,\n",
       "    'explanation': \"The word 'метро станциясы' is used correctly in the Kazakh sentence to refer to 'station' as required by the translations from both Russian and Finnish.\",\n",
       "    'suggestedFixSentence': None,\n",
       "    'suggestedFixWord': None},\n",
       "   'wordTranslationAccuracy': {'isCorrect': True,\n",
       "    'explanation': \"The translation of 'станция метро' and 'metroasema' to 'метро станциясы' is accurate. The meaning is preserved in both contexts, correctly identifying a subway station.\",\n",
       "    'suggestedFix': None},\n",
       "   'sentenceTranslationAccuracy': {'isCorrect': True,\n",
       "    'explanation': \"The sentence translation from Russian 'Мы пошли на станцию метро.' and Finnish 'Menimme metroasemalle.' to Kazakh 'Біз метро станциясына бардық.' is accurate. The sentence correctly denotes the action of going to the subway station, maintaining the original intent and meaning.\",\n",
       "    'suggestedFix': None},\n",
       "   'id': 2341}),\n",
       " ({'wordFirstLang': 'я тоже',\n",
       "   'sentenceFirstLang': 'Я тоже хочу идти!',\n",
       "   'wordSecondLang': 'мен де',\n",
       "   'sentenceSecondLang': 'Мен де барғым келеді!',\n",
       "   'id': 1340},\n",
       "  {'sentenceCorrectness': {'isCorrect': True,\n",
       "    'explanation': \"The Kazakh sentence 'Мен де барғым келеді!' is grammatically correct and natural. It correctly conveys the intended meaning 'I also want to go!', similar to the Russian 'Я тоже хочу идти!' and the Finnish 'Mäkin haluan mennä!'.\",\n",
       "    'suggestedFix': None},\n",
       "   'wordUsage': {'isCorrect': True,\n",
       "    'explanation': \"The word 'мен де' is correctly used in the Kazakh sentence to convey 'I also' or 'я тоже', which is consistent with the Russian and Finnish phrases.\",\n",
       "    'suggestedFixSentence': None,\n",
       "    'suggestedFixWord': None},\n",
       "   'wordTranslationAccuracy': {'isCorrect': True,\n",
       "    'explanation': \"The translation of the Russian 'я тоже' and Finnish 'mäkin' as 'мен де' in Kazakh is accurate and correctly expresses the idea of 'I also'.\",\n",
       "    'suggestedFix': None},\n",
       "   'sentenceTranslationAccuracy': {'isCorrect': True,\n",
       "    'explanation': \"The Kazakh sentence 'Мен де барғым келеді!' correctly translates the meaning of both the Russian sentence 'Я тоже хочу идти!' and the Finnish sentence 'Mäkin haluan mennä!' into Kazakh, maintaining the context and intent.\",\n",
       "    'suggestedFix': None},\n",
       "   'id': 1340}),\n",
       " ({'wordFirstLang': 'Ты умеешь плавать?',\n",
       "   'sentenceFirstLang': '',\n",
       "   'wordSecondLang': 'Сен жүзе аласың ба?',\n",
       "   'sentenceSecondLang': '',\n",
       "   'id': 1991},\n",
       "  {'translationAccuracy': {'isCorrect': True,\n",
       "    'explanation': \"The Kazakh phrase 'Сен жүзе аласың ба?' accurately translates the meaning and context of both the Russian 'Ты умеешь плавать?' and the Finnish 'Osaatko sinä uida?', which both mean 'Can you swim?'. The translation is natural and correct.\",\n",
       "    'suggestedFix': None},\n",
       "   'id': 1991}),\n",
       " ({'wordFirstLang': 'язык',\n",
       "   'sentenceFirstLang': 'Она изучает новый язык.',\n",
       "   'wordSecondLang': 'тіл',\n",
       "   'sentenceSecondLang': 'Ол жаңа тіл үйреніп жатыр.',\n",
       "   'id': 1186},\n",
       "  {'sentenceCorrectness': {'isCorrect': True,\n",
       "    'explanation': \"The Kazakh sentence 'Ол жаңа тіл үйреніп жатыр.' is grammatically correct and natural. It accurately conveys the meaning of the example sentences from Russian and Finnish, which both mean 'She/he is studying a new language.' The structure and word choice are appropriate in Kazakh.\",\n",
       "    'suggestedFix': None},\n",
       "   'wordUsage': {'isCorrect': True,\n",
       "    'explanation': \"The Kazakh word 'тіл' is correctly used in the sentence 'Ол жаңа тіл үйреніп жатыр.' It corresponds to 'язык' in Russian and 'kieli' in Finnish, both meaning 'language.' Its usage is contextual and correct in describing the action of studying a new language.\",\n",
       "    'suggestedFixSentence': None,\n",
       "    'suggestedFixWord': None},\n",
       "   'wordTranslationAccuracy': {'isCorrect': True,\n",
       "    'explanation': \"The translation of the word 'язык' from Russian and 'kieli' from Finnish to 'тіл' in Kazakh is accurate. In all three languages, the word translates to 'language,' and the meaning is consistently preserved.\",\n",
       "    'suggestedFix': None},\n",
       "   'sentenceTranslationAccuracy': {'isCorrect': True,\n",
       "    'explanation': \"The translation of the sentence 'Она изучает новый язык.' in Russian and 'Hän opiskelee uutta kieltä.' in Finnish to 'Ол жаңа тіл үйреніп жатыр.' in Kazakh is accurate. The Kazakh translation conveys the same meaning and sentiment, maintaining clarity and correctness.\",\n",
       "    'suggestedFix': None},\n",
       "   'id': 1186}),\n",
       " ({'wordFirstLang': 'ты придёшь',\n",
       "   'sentenceFirstLang': '',\n",
       "   'wordSecondLang': 'сен келесің',\n",
       "   'sentenceSecondLang': '',\n",
       "   'id': 1961},\n",
       "  {'translationAccuracy': {'isCorrect': True,\n",
       "    'explanation': \"The Kazakh translation 'сен келесің' accurately conveys the meaning of both the Russian 'ты придёшь' and the Finnish 'sä tuut'. In all three languages, the phrase means 'you will come' or 'you are coming', which is in future tense. The translation sounds natural to a native Kazakh speaker.\",\n",
       "    'suggestedFix': None},\n",
       "   'id': 1961}),\n",
       " ({'wordFirstLang': 'так',\n",
       "   'sentenceFirstLang': 'Ночью так светло, что трудно уснуть.',\n",
       "   'wordSecondLang': 'сондай',\n",
       "   'sentenceSecondLang': 'Түнде сондай жарық болғандықтан, ұйықтау қиын.',\n",
       "   'id': 1571},\n",
       "  {'sentenceCorrectness': {'isCorrect': True,\n",
       "    'explanation': \"The Kazakh sentence 'Түнде сондай жарық болғандықтан, ұйықтау қиын.' is grammatically correct and natural. The structure and meaning are conveyed properly.\",\n",
       "    'suggestedFix': None},\n",
       "   'wordUsage': {'isCorrect': True,\n",
       "    'explanation': \"The word 'сондай' is used correctly in the Kazakh sentence to denote the intensity of light, similarly to 'так' in Russian and 'niin' in Finnish.\",\n",
       "    'suggestedFixSentence': None,\n",
       "    'suggestedFixWord': None},\n",
       "   'wordTranslationAccuracy': {'isCorrect': True,\n",
       "    'explanation': \"The translation of the word 'так' in Russian and 'niin' in Finnish to 'сондай' in Kazakh is accurate. 'Сондай' fits the context of the sentence well, maintaining the meaning of describing an extent or degree.\",\n",
       "    'suggestedFix': None},\n",
       "   'sentenceTranslationAccuracy': {'isCorrect': True,\n",
       "    'explanation': \"The translation of the sentence from Russian 'Ночью так светло, что трудно уснуть.' and Finnish 'Yöllä on niin valoisaa, että on vaikea nukkua.' to Kazakh 'Түнде сондай жарық болғандықтан, ұйықтау қиын.' is accurate. The meaning is preserved, and the sentence reads naturally.\",\n",
       "    'suggestedFix': None},\n",
       "   'id': 1571})]"
      ]
     },
     "execution_count": 36,
     "metadata": {},
     "output_type": "execute_result"
    }
   ],
   "source": [
    "first_book_sample"
   ]
  },
  {
   "cell_type": "code",
   "execution_count": 37,
   "metadata": {},
   "outputs": [
    {
     "data": {
      "application/vnd.jupyter.widget-view+json": {
       "model_id": "f0569b952b7a46c59b610d80bf60c9a0",
       "version_major": 2,
       "version_minor": 0
      },
      "text/plain": [
       "  0%|          | 0/8 [00:00<?, ?it/s]"
      ]
     },
     "metadata": {},
     "output_type": "display_data"
    },
    {
     "data": {
      "application/vnd.jupyter.widget-view+json": {
       "model_id": "c4338ab499d84565a5cd4ac24a6047aa",
       "version_major": 2,
       "version_minor": 0
      },
      "text/plain": [
       "  0%|          | 0/239 [00:00<?, ?it/s]"
      ]
     },
     "metadata": {},
     "output_type": "display_data"
    },
    {
     "name": "stdout",
     "output_type": "stream",
     "text": [
      "0.9372384937238494\n"
     ]
    },
    {
     "data": {
      "application/vnd.jupyter.widget-view+json": {
       "model_id": "d9626c3e4afd41ecab58e0c9a8bd81c8",
       "version_major": 2,
       "version_minor": 0
      },
      "text/plain": [
       "  0%|          | 0/195 [00:00<?, ?it/s]"
      ]
     },
     "metadata": {},
     "output_type": "display_data"
    },
    {
     "name": "stdout",
     "output_type": "stream",
     "text": [
      "0.9487179487179487\n"
     ]
    },
    {
     "data": {
      "application/vnd.jupyter.widget-view+json": {
       "model_id": "680a25df06bb435fa6ecbe247806b71b",
       "version_major": 2,
       "version_minor": 0
      },
      "text/plain": [
       "  0%|          | 0/217 [00:00<?, ?it/s]"
      ]
     },
     "metadata": {},
     "output_type": "display_data"
    },
    {
     "ename": "KeyboardInterrupt",
     "evalue": "",
     "output_type": "error",
     "traceback": [
      "\u001b[1;31m---------------------------------------------------------------------------\u001b[0m",
      "\u001b[1;31mKeyboardInterrupt\u001b[0m                         Traceback (most recent call last)",
      "Cell \u001b[1;32mIn[37], line 4\u001b[0m\n\u001b[0;32m      1\u001b[0m second_book \u001b[38;5;241m=\u001b[39m [\u001b[38;5;124mf\u001b[39m\u001b[38;5;124m'\u001b[39m\u001b[38;5;124msm2_new_kap\u001b[39m\u001b[38;5;132;01m{\u001b[39;00mi\u001b[38;5;132;01m}\u001b[39;00m\u001b[38;5;124m.json\u001b[39m\u001b[38;5;124m'\u001b[39m \u001b[38;5;28;01mfor\u001b[39;00m i \u001b[38;5;129;01min\u001b[39;00m \u001b[38;5;28mrange\u001b[39m(\u001b[38;5;241m1\u001b[39m, \u001b[38;5;241m9\u001b[39m)]\n\u001b[0;32m      3\u001b[0m \u001b[38;5;28;01mfor\u001b[39;00m file_name \u001b[38;5;129;01min\u001b[39;00m tqdm(second_book):\n\u001b[1;32m----> 4\u001b[0m     \u001b[43mgenerate_and_write_cards\u001b[49m\u001b[43m(\u001b[49m\u001b[43mfile_name\u001b[49m\u001b[43m)\u001b[49m\n",
      "Cell \u001b[1;32mIn[22], line 9\u001b[0m, in \u001b[0;36mgenerate_and_write_cards\u001b[1;34m(file_name)\u001b[0m\n\u001b[0;32m      5\u001b[0m secondary_cards \u001b[38;5;241m=\u001b[39m [{\u001b[38;5;124m'\u001b[39m\u001b[38;5;124mword\u001b[39m\u001b[38;5;124m'\u001b[39m: card[\u001b[38;5;124m\"\u001b[39m\u001b[38;5;124mwordSecondLang\u001b[39m\u001b[38;5;124m\"\u001b[39m], \u001b[38;5;124m'\u001b[39m\u001b[38;5;124msentence\u001b[39m\u001b[38;5;124m'\u001b[39m: card[\u001b[38;5;124m\"\u001b[39m\u001b[38;5;124msentenceSecondLang\u001b[39m\u001b[38;5;124m\"\u001b[39m], \u001b[38;5;124m'\u001b[39m\u001b[38;5;124mid\u001b[39m\u001b[38;5;124m'\u001b[39m: card[\u001b[38;5;124m'\u001b[39m\u001b[38;5;124mid\u001b[39m\u001b[38;5;124m'\u001b[39m]} \u001b[38;5;28;01mfor\u001b[39;00m card \u001b[38;5;129;01min\u001b[39;00m ru_finn_cards]\n\u001b[0;32m      7\u001b[0m source_lang, target_lang, secondary_lang \u001b[38;5;241m=\u001b[39m \u001b[38;5;124m'\u001b[39m\u001b[38;5;124mRussian\u001b[39m\u001b[38;5;124m'\u001b[39m, \u001b[38;5;124m'\u001b[39m\u001b[38;5;124mKazakh\u001b[39m\u001b[38;5;124m'\u001b[39m, \u001b[38;5;124m'\u001b[39m\u001b[38;5;124mFinnish\u001b[39m\u001b[38;5;124m'\u001b[39m\n\u001b[1;32m----> 9\u001b[0m source_target_cards, eval_results \u001b[38;5;241m=\u001b[39m \u001b[43mgenerate_source_target_cards_with_eval_results\u001b[49m\u001b[43m(\u001b[49m\u001b[43msource_cards\u001b[49m\u001b[43m,\u001b[49m\u001b[43m \u001b[49m\u001b[43msecondary_cards\u001b[49m\u001b[43m,\u001b[49m\u001b[43m \u001b[49m\u001b[43msource_lang\u001b[49m\u001b[43m,\u001b[49m\u001b[43m \u001b[49m\u001b[43mtarget_lang\u001b[49m\u001b[43m,\u001b[49m\u001b[43m \u001b[49m\u001b[43msecondary_lang\u001b[49m\u001b[43m)\u001b[49m\n\u001b[0;32m     11\u001b[0m res \u001b[38;5;241m=\u001b[39m []\n\u001b[0;32m     12\u001b[0m \u001b[38;5;28;01mfor\u001b[39;00m card, eval_res \u001b[38;5;129;01min\u001b[39;00m \u001b[38;5;28mlist\u001b[39m(\u001b[38;5;28mzip\u001b[39m(source_target_cards, eval_results)):\n",
      "Cell \u001b[1;32mIn[17], line 20\u001b[0m, in \u001b[0;36mgenerate_source_target_cards_with_eval_results\u001b[1;34m(source_cards, secondary_cards, source_lang, target_lang, secondary_lang)\u001b[0m\n\u001b[0;32m     18\u001b[0m \u001b[38;5;28;01mwhile\u001b[39;00m \u001b[38;5;28;01mTrue\u001b[39;00m:\n\u001b[0;32m     19\u001b[0m     \u001b[38;5;28;01mtry\u001b[39;00m:\n\u001b[1;32m---> 20\u001b[0m         target_card, eval_res \u001b[38;5;241m=\u001b[39m \u001b[43mcard_handler_with_agents\u001b[49m\u001b[43m(\u001b[49m\u001b[43msource_card\u001b[49m\u001b[43m,\u001b[49m\u001b[43m \u001b[49m\u001b[43msecondary_card\u001b[49m\u001b[43m,\u001b[49m\u001b[43m \u001b[49m\u001b[43mcard_id\u001b[49m\u001b[43m,\u001b[49m\u001b[43m \u001b[49m\u001b[43msource_lang\u001b[49m\u001b[43m,\u001b[49m\u001b[43m \u001b[49m\u001b[43mtarget_lang\u001b[49m\u001b[43m,\u001b[49m\u001b[43m \u001b[49m\u001b[43msecondary_lang\u001b[49m\u001b[43m)\u001b[49m\n\u001b[0;32m     22\u001b[0m         card \u001b[38;5;241m=\u001b[39m {}\n\u001b[0;32m     23\u001b[0m         card[\u001b[38;5;124m\"\u001b[39m\u001b[38;5;124mwordFirstLang\u001b[39m\u001b[38;5;124m\"\u001b[39m] \u001b[38;5;241m=\u001b[39m source_card[\u001b[38;5;124m'\u001b[39m\u001b[38;5;124mword\u001b[39m\u001b[38;5;124m'\u001b[39m]\n",
      "Cell \u001b[1;32mIn[16], line 30\u001b[0m, in \u001b[0;36mcard_handler_with_agents\u001b[1;34m(source_card, secondary_card, card_id, source_lang, target_lang, secondary_lang, num_iter, num_agents)\u001b[0m\n\u001b[0;32m     28\u001b[0m         eval_result \u001b[38;5;241m=\u001b[39m eval_phrase_card(source_card, secondary_card, target_card, card_id, source_lang, target_lang, secondary_lang)\n\u001b[0;32m     29\u001b[0m     \u001b[38;5;28;01melse\u001b[39;00m:\n\u001b[1;32m---> 30\u001b[0m         eval_result \u001b[38;5;241m=\u001b[39m \u001b[43meval_full_card\u001b[49m\u001b[43m(\u001b[49m\u001b[43msource_card\u001b[49m\u001b[43m,\u001b[49m\u001b[43m \u001b[49m\u001b[43msecondary_card\u001b[49m\u001b[43m,\u001b[49m\u001b[43m \u001b[49m\u001b[43mtarget_card\u001b[49m\u001b[43m,\u001b[49m\u001b[43m \u001b[49m\u001b[43mcard_id\u001b[49m\u001b[43m,\u001b[49m\u001b[43m \u001b[49m\u001b[43msource_lang\u001b[49m\u001b[43m,\u001b[49m\u001b[43m \u001b[49m\u001b[43mtarget_lang\u001b[49m\u001b[43m,\u001b[49m\u001b[43m \u001b[49m\u001b[43msecondary_lang\u001b[49m\u001b[43m)\u001b[49m\n\u001b[0;32m     32\u001b[0m \u001b[38;5;28;01mreturn\u001b[39;00m target_card, eval_result\n",
      "Cell \u001b[1;32mIn[7], line 51\u001b[0m, in \u001b[0;36meval_full_card\u001b[1;34m(source_card, secondary_card, target_card, card_id, source_lang, target_lang, secondary_lang, model)\u001b[0m\n\u001b[0;32m      7\u001b[0m system_prompt \u001b[38;5;241m=\u001b[39m \u001b[38;5;124mf\u001b[39m\u001b[38;5;124m'''\u001b[39m\u001b[38;5;124mYou are a multilingual assistant who is proficient in \u001b[39m\u001b[38;5;132;01m{\u001b[39;00msource_lang\u001b[38;5;132;01m}\u001b[39;00m\u001b[38;5;124m, \u001b[39m\u001b[38;5;132;01m{\u001b[39;00msecondary_lang\u001b[38;5;132;01m}\u001b[39;00m\u001b[38;5;124m and \u001b[39m\u001b[38;5;132;01m{\u001b[39;00mtarget_lang\u001b[38;5;132;01m}\u001b[39;00m\u001b[38;5;124m.\u001b[39m\u001b[38;5;124m'''\u001b[39m\n\u001b[0;32m      9\u001b[0m user_prompt \u001b[38;5;241m=\u001b[39m \u001b[38;5;124mf\u001b[39m\u001b[38;5;124m\"\"\"\u001b[39m\n\u001b[0;32m     10\u001b[0m \u001b[38;5;124m**Evaluate the correctness of a \u001b[39m\u001b[38;5;132;01m{\u001b[39;00mtarget_lang\u001b[38;5;132;01m}\u001b[39;00m\u001b[38;5;124m word and sentence based on their translations from \u001b[39m\u001b[38;5;132;01m{\u001b[39;00msource_lang\u001b[38;5;132;01m}\u001b[39;00m\u001b[38;5;124m and \u001b[39m\u001b[38;5;132;01m{\u001b[39;00msecondary_lang\u001b[38;5;132;01m}\u001b[39;00m\u001b[38;5;124m. You will receive a word in \u001b[39m\u001b[38;5;132;01m{\u001b[39;00msource_lang\u001b[38;5;132;01m}\u001b[39;00m\u001b[38;5;124m, \u001b[39m\u001b[38;5;132;01m{\u001b[39;00msecondary_lang\u001b[38;5;132;01m}\u001b[39;00m\u001b[38;5;124m, and its translation in \u001b[39m\u001b[38;5;132;01m{\u001b[39;00mtarget_lang\u001b[38;5;132;01m}\u001b[39;00m\u001b[38;5;124m, as well as a sentence in \u001b[39m\u001b[38;5;132;01m{\u001b[39;00msource_lang\u001b[38;5;132;01m}\u001b[39;00m\u001b[38;5;124m, \u001b[39m\u001b[38;5;132;01m{\u001b[39;00msecondary_lang\u001b[38;5;132;01m}\u001b[39;00m\u001b[38;5;124m, and its translation in \u001b[39m\u001b[38;5;132;01m{\u001b[39;00mtarget_lang\u001b[38;5;132;01m}\u001b[39;00m\u001b[38;5;124m. Your task is to assess the quality of the \u001b[39m\u001b[38;5;132;01m{\u001b[39;00mtarget_lang\u001b[38;5;132;01m}\u001b[39;00m\u001b[38;5;124m sentence, the usage of the \u001b[39m\u001b[38;5;132;01m{\u001b[39;00mtarget_lang\u001b[38;5;132;01m}\u001b[39;00m\u001b[38;5;124m word in the sentence, and the accuracy of the translations from \u001b[39m\u001b[38;5;132;01m{\u001b[39;00msource_lang\u001b[38;5;132;01m}\u001b[39;00m\u001b[38;5;124m and \u001b[39m\u001b[38;5;132;01m{\u001b[39;00msecondary_lang\u001b[38;5;132;01m}\u001b[39;00m\u001b[38;5;124m to \u001b[39m\u001b[38;5;132;01m{\u001b[39;00mtarget_lang\u001b[38;5;132;01m}\u001b[39;00m\u001b[38;5;124m. For each evaluation point, provide a detailed explanation of your judgment and suggest fixes where applicable, either to the \u001b[39m\u001b[38;5;132;01m{\u001b[39;00mtarget_lang\u001b[38;5;132;01m}\u001b[39;00m\u001b[38;5;124m word, the \u001b[39m\u001b[38;5;132;01m{\u001b[39;00mtarget_lang\u001b[38;5;132;01m}\u001b[39;00m\u001b[38;5;124m sentence, or both.**  \u001b[39m\n\u001b[0;32m     11\u001b[0m \n\u001b[1;32m   (...)\u001b[0m\n\u001b[0;32m     48\u001b[0m \u001b[38;5;124mPlease adhere to this structure to ensure clear, actionable feedback for each evaluation point.\u001b[39m\n\u001b[0;32m     49\u001b[0m \u001b[38;5;124m\u001b[39m\u001b[38;5;124m\"\"\"\u001b[39m\n\u001b[1;32m---> 51\u001b[0m response \u001b[38;5;241m=\u001b[39m \u001b[43mclient\u001b[49m\u001b[38;5;241;43m.\u001b[39;49m\u001b[43mchat\u001b[49m\u001b[38;5;241;43m.\u001b[39;49m\u001b[43mcompletions\u001b[49m\u001b[38;5;241;43m.\u001b[39;49m\u001b[43mcreate\u001b[49m\u001b[43m(\u001b[49m\n\u001b[0;32m     52\u001b[0m \u001b[43m  \u001b[49m\u001b[43mmodel\u001b[49m\u001b[38;5;241;43m=\u001b[39;49m\u001b[43mmodel\u001b[49m\u001b[43m,\u001b[49m\n\u001b[0;32m     53\u001b[0m \u001b[43m  \u001b[49m\u001b[43mresponse_format\u001b[49m\u001b[38;5;241;43m=\u001b[39;49m\u001b[43m{\u001b[49m\u001b[43m \u001b[49m\u001b[38;5;124;43m\"\u001b[39;49m\u001b[38;5;124;43mtype\u001b[39;49m\u001b[38;5;124;43m\"\u001b[39;49m\u001b[43m:\u001b[49m\u001b[43m \u001b[49m\u001b[38;5;124;43m\"\u001b[39;49m\u001b[38;5;124;43mjson_object\u001b[39;49m\u001b[38;5;124;43m\"\u001b[39;49m\u001b[43m \u001b[49m\u001b[43m}\u001b[49m\u001b[43m,\u001b[49m\n\u001b[0;32m     54\u001b[0m \u001b[43m  \u001b[49m\u001b[43mmessages\u001b[49m\u001b[38;5;241;43m=\u001b[39;49m\u001b[43m[\u001b[49m\n\u001b[0;32m     55\u001b[0m \u001b[43m    \u001b[49m\u001b[43m{\u001b[49m\u001b[38;5;124;43m\"\u001b[39;49m\u001b[38;5;124;43mrole\u001b[39;49m\u001b[38;5;124;43m\"\u001b[39;49m\u001b[43m:\u001b[49m\u001b[43m \u001b[49m\u001b[38;5;124;43m\"\u001b[39;49m\u001b[38;5;124;43msystem\u001b[39;49m\u001b[38;5;124;43m\"\u001b[39;49m\u001b[43m,\u001b[49m\u001b[43m \u001b[49m\u001b[38;5;124;43m\"\u001b[39;49m\u001b[38;5;124;43mcontent\u001b[39;49m\u001b[38;5;124;43m\"\u001b[39;49m\u001b[43m:\u001b[49m\u001b[43m \u001b[49m\u001b[43msystem_prompt\u001b[49m\u001b[38;5;241;43m.\u001b[39;49m\u001b[43mstrip\u001b[49m\u001b[43m(\u001b[49m\u001b[43m)\u001b[49m\u001b[43m}\u001b[49m\u001b[43m,\u001b[49m\n\u001b[0;32m     56\u001b[0m \u001b[43m    \u001b[49m\u001b[43m{\u001b[49m\u001b[38;5;124;43m\"\u001b[39;49m\u001b[38;5;124;43mrole\u001b[39;49m\u001b[38;5;124;43m\"\u001b[39;49m\u001b[43m:\u001b[49m\u001b[43m \u001b[49m\u001b[38;5;124;43m\"\u001b[39;49m\u001b[38;5;124;43muser\u001b[39;49m\u001b[38;5;124;43m\"\u001b[39;49m\u001b[43m,\u001b[49m\u001b[43m \u001b[49m\u001b[38;5;124;43m\"\u001b[39;49m\u001b[38;5;124;43mcontent\u001b[39;49m\u001b[38;5;124;43m\"\u001b[39;49m\u001b[43m:\u001b[49m\u001b[43m \u001b[49m\u001b[43muser_prompt\u001b[49m\u001b[38;5;241;43m.\u001b[39;49m\u001b[43mstrip\u001b[49m\u001b[43m(\u001b[49m\u001b[43m)\u001b[49m\u001b[43m}\u001b[49m\n\u001b[0;32m     57\u001b[0m \u001b[43m  \u001b[49m\u001b[43m]\u001b[49m\n\u001b[0;32m     58\u001b[0m \u001b[43m\u001b[49m\u001b[43m)\u001b[49m\n\u001b[0;32m     60\u001b[0m res \u001b[38;5;241m=\u001b[39m json\u001b[38;5;241m.\u001b[39mloads(response\u001b[38;5;241m.\u001b[39mchoices[\u001b[38;5;241m0\u001b[39m]\u001b[38;5;241m.\u001b[39mmessage\u001b[38;5;241m.\u001b[39mcontent\u001b[38;5;241m.\u001b[39mstrip())\n\u001b[0;32m     61\u001b[0m res[\u001b[38;5;124m'\u001b[39m\u001b[38;5;124mid\u001b[39m\u001b[38;5;124m'\u001b[39m] \u001b[38;5;241m=\u001b[39m card_id\n",
      "File \u001b[1;32mc:\\Users\\Арман\\AppData\\Local\\Programs\\Python\\Python313\\Lib\\site-packages\\openai\\_utils\\_utils.py:275\u001b[0m, in \u001b[0;36mrequired_args.<locals>.inner.<locals>.wrapper\u001b[1;34m(*args, **kwargs)\u001b[0m\n\u001b[0;32m    273\u001b[0m             msg \u001b[38;5;241m=\u001b[39m \u001b[38;5;124mf\u001b[39m\u001b[38;5;124m\"\u001b[39m\u001b[38;5;124mMissing required argument: \u001b[39m\u001b[38;5;132;01m{\u001b[39;00mquote(missing[\u001b[38;5;241m0\u001b[39m])\u001b[38;5;132;01m}\u001b[39;00m\u001b[38;5;124m\"\u001b[39m\n\u001b[0;32m    274\u001b[0m     \u001b[38;5;28;01mraise\u001b[39;00m \u001b[38;5;167;01mTypeError\u001b[39;00m(msg)\n\u001b[1;32m--> 275\u001b[0m \u001b[38;5;28;01mreturn\u001b[39;00m \u001b[43mfunc\u001b[49m\u001b[43m(\u001b[49m\u001b[38;5;241;43m*\u001b[39;49m\u001b[43margs\u001b[49m\u001b[43m,\u001b[49m\u001b[43m \u001b[49m\u001b[38;5;241;43m*\u001b[39;49m\u001b[38;5;241;43m*\u001b[39;49m\u001b[43mkwargs\u001b[49m\u001b[43m)\u001b[49m\n",
      "File \u001b[1;32mc:\\Users\\Арман\\AppData\\Local\\Programs\\Python\\Python313\\Lib\\site-packages\\openai\\resources\\chat\\completions.py:829\u001b[0m, in \u001b[0;36mCompletions.create\u001b[1;34m(self, messages, model, audio, frequency_penalty, function_call, functions, logit_bias, logprobs, max_completion_tokens, max_tokens, metadata, modalities, n, parallel_tool_calls, prediction, presence_penalty, response_format, seed, service_tier, stop, store, stream, stream_options, temperature, tool_choice, tools, top_logprobs, top_p, user, extra_headers, extra_query, extra_body, timeout)\u001b[0m\n\u001b[0;32m    788\u001b[0m \u001b[38;5;129m@required_args\u001b[39m([\u001b[38;5;124m\"\u001b[39m\u001b[38;5;124mmessages\u001b[39m\u001b[38;5;124m\"\u001b[39m, \u001b[38;5;124m\"\u001b[39m\u001b[38;5;124mmodel\u001b[39m\u001b[38;5;124m\"\u001b[39m], [\u001b[38;5;124m\"\u001b[39m\u001b[38;5;124mmessages\u001b[39m\u001b[38;5;124m\"\u001b[39m, \u001b[38;5;124m\"\u001b[39m\u001b[38;5;124mmodel\u001b[39m\u001b[38;5;124m\"\u001b[39m, \u001b[38;5;124m\"\u001b[39m\u001b[38;5;124mstream\u001b[39m\u001b[38;5;124m\"\u001b[39m])\n\u001b[0;32m    789\u001b[0m \u001b[38;5;28;01mdef\u001b[39;00m \u001b[38;5;21mcreate\u001b[39m(\n\u001b[0;32m    790\u001b[0m     \u001b[38;5;28mself\u001b[39m,\n\u001b[1;32m   (...)\u001b[0m\n\u001b[0;32m    826\u001b[0m     timeout: \u001b[38;5;28mfloat\u001b[39m \u001b[38;5;241m|\u001b[39m httpx\u001b[38;5;241m.\u001b[39mTimeout \u001b[38;5;241m|\u001b[39m \u001b[38;5;28;01mNone\u001b[39;00m \u001b[38;5;241m|\u001b[39m NotGiven \u001b[38;5;241m=\u001b[39m NOT_GIVEN,\n\u001b[0;32m    827\u001b[0m ) \u001b[38;5;241m-\u001b[39m\u001b[38;5;241m>\u001b[39m ChatCompletion \u001b[38;5;241m|\u001b[39m Stream[ChatCompletionChunk]:\n\u001b[0;32m    828\u001b[0m     validate_response_format(response_format)\n\u001b[1;32m--> 829\u001b[0m     \u001b[38;5;28;01mreturn\u001b[39;00m \u001b[38;5;28;43mself\u001b[39;49m\u001b[38;5;241;43m.\u001b[39;49m\u001b[43m_post\u001b[49m\u001b[43m(\u001b[49m\n\u001b[0;32m    830\u001b[0m \u001b[43m        \u001b[49m\u001b[38;5;124;43m\"\u001b[39;49m\u001b[38;5;124;43m/chat/completions\u001b[39;49m\u001b[38;5;124;43m\"\u001b[39;49m\u001b[43m,\u001b[49m\n\u001b[0;32m    831\u001b[0m \u001b[43m        \u001b[49m\u001b[43mbody\u001b[49m\u001b[38;5;241;43m=\u001b[39;49m\u001b[43mmaybe_transform\u001b[49m\u001b[43m(\u001b[49m\n\u001b[0;32m    832\u001b[0m \u001b[43m            \u001b[49m\u001b[43m{\u001b[49m\n\u001b[0;32m    833\u001b[0m \u001b[43m                \u001b[49m\u001b[38;5;124;43m\"\u001b[39;49m\u001b[38;5;124;43mmessages\u001b[39;49m\u001b[38;5;124;43m\"\u001b[39;49m\u001b[43m:\u001b[49m\u001b[43m \u001b[49m\u001b[43mmessages\u001b[49m\u001b[43m,\u001b[49m\n\u001b[0;32m    834\u001b[0m \u001b[43m                \u001b[49m\u001b[38;5;124;43m\"\u001b[39;49m\u001b[38;5;124;43mmodel\u001b[39;49m\u001b[38;5;124;43m\"\u001b[39;49m\u001b[43m:\u001b[49m\u001b[43m \u001b[49m\u001b[43mmodel\u001b[49m\u001b[43m,\u001b[49m\n\u001b[0;32m    835\u001b[0m \u001b[43m                \u001b[49m\u001b[38;5;124;43m\"\u001b[39;49m\u001b[38;5;124;43maudio\u001b[39;49m\u001b[38;5;124;43m\"\u001b[39;49m\u001b[43m:\u001b[49m\u001b[43m \u001b[49m\u001b[43maudio\u001b[49m\u001b[43m,\u001b[49m\n\u001b[0;32m    836\u001b[0m \u001b[43m                \u001b[49m\u001b[38;5;124;43m\"\u001b[39;49m\u001b[38;5;124;43mfrequency_penalty\u001b[39;49m\u001b[38;5;124;43m\"\u001b[39;49m\u001b[43m:\u001b[49m\u001b[43m \u001b[49m\u001b[43mfrequency_penalty\u001b[49m\u001b[43m,\u001b[49m\n\u001b[0;32m    837\u001b[0m \u001b[43m                \u001b[49m\u001b[38;5;124;43m\"\u001b[39;49m\u001b[38;5;124;43mfunction_call\u001b[39;49m\u001b[38;5;124;43m\"\u001b[39;49m\u001b[43m:\u001b[49m\u001b[43m \u001b[49m\u001b[43mfunction_call\u001b[49m\u001b[43m,\u001b[49m\n\u001b[0;32m    838\u001b[0m \u001b[43m                \u001b[49m\u001b[38;5;124;43m\"\u001b[39;49m\u001b[38;5;124;43mfunctions\u001b[39;49m\u001b[38;5;124;43m\"\u001b[39;49m\u001b[43m:\u001b[49m\u001b[43m \u001b[49m\u001b[43mfunctions\u001b[49m\u001b[43m,\u001b[49m\n\u001b[0;32m    839\u001b[0m \u001b[43m                \u001b[49m\u001b[38;5;124;43m\"\u001b[39;49m\u001b[38;5;124;43mlogit_bias\u001b[39;49m\u001b[38;5;124;43m\"\u001b[39;49m\u001b[43m:\u001b[49m\u001b[43m \u001b[49m\u001b[43mlogit_bias\u001b[49m\u001b[43m,\u001b[49m\n\u001b[0;32m    840\u001b[0m \u001b[43m                \u001b[49m\u001b[38;5;124;43m\"\u001b[39;49m\u001b[38;5;124;43mlogprobs\u001b[39;49m\u001b[38;5;124;43m\"\u001b[39;49m\u001b[43m:\u001b[49m\u001b[43m \u001b[49m\u001b[43mlogprobs\u001b[49m\u001b[43m,\u001b[49m\n\u001b[0;32m    841\u001b[0m \u001b[43m                \u001b[49m\u001b[38;5;124;43m\"\u001b[39;49m\u001b[38;5;124;43mmax_completion_tokens\u001b[39;49m\u001b[38;5;124;43m\"\u001b[39;49m\u001b[43m:\u001b[49m\u001b[43m \u001b[49m\u001b[43mmax_completion_tokens\u001b[49m\u001b[43m,\u001b[49m\n\u001b[0;32m    842\u001b[0m \u001b[43m                \u001b[49m\u001b[38;5;124;43m\"\u001b[39;49m\u001b[38;5;124;43mmax_tokens\u001b[39;49m\u001b[38;5;124;43m\"\u001b[39;49m\u001b[43m:\u001b[49m\u001b[43m \u001b[49m\u001b[43mmax_tokens\u001b[49m\u001b[43m,\u001b[49m\n\u001b[0;32m    843\u001b[0m \u001b[43m                \u001b[49m\u001b[38;5;124;43m\"\u001b[39;49m\u001b[38;5;124;43mmetadata\u001b[39;49m\u001b[38;5;124;43m\"\u001b[39;49m\u001b[43m:\u001b[49m\u001b[43m \u001b[49m\u001b[43mmetadata\u001b[49m\u001b[43m,\u001b[49m\n\u001b[0;32m    844\u001b[0m \u001b[43m                \u001b[49m\u001b[38;5;124;43m\"\u001b[39;49m\u001b[38;5;124;43mmodalities\u001b[39;49m\u001b[38;5;124;43m\"\u001b[39;49m\u001b[43m:\u001b[49m\u001b[43m \u001b[49m\u001b[43mmodalities\u001b[49m\u001b[43m,\u001b[49m\n\u001b[0;32m    845\u001b[0m \u001b[43m                \u001b[49m\u001b[38;5;124;43m\"\u001b[39;49m\u001b[38;5;124;43mn\u001b[39;49m\u001b[38;5;124;43m\"\u001b[39;49m\u001b[43m:\u001b[49m\u001b[43m \u001b[49m\u001b[43mn\u001b[49m\u001b[43m,\u001b[49m\n\u001b[0;32m    846\u001b[0m \u001b[43m                \u001b[49m\u001b[38;5;124;43m\"\u001b[39;49m\u001b[38;5;124;43mparallel_tool_calls\u001b[39;49m\u001b[38;5;124;43m\"\u001b[39;49m\u001b[43m:\u001b[49m\u001b[43m \u001b[49m\u001b[43mparallel_tool_calls\u001b[49m\u001b[43m,\u001b[49m\n\u001b[0;32m    847\u001b[0m \u001b[43m                \u001b[49m\u001b[38;5;124;43m\"\u001b[39;49m\u001b[38;5;124;43mprediction\u001b[39;49m\u001b[38;5;124;43m\"\u001b[39;49m\u001b[43m:\u001b[49m\u001b[43m \u001b[49m\u001b[43mprediction\u001b[49m\u001b[43m,\u001b[49m\n\u001b[0;32m    848\u001b[0m \u001b[43m                \u001b[49m\u001b[38;5;124;43m\"\u001b[39;49m\u001b[38;5;124;43mpresence_penalty\u001b[39;49m\u001b[38;5;124;43m\"\u001b[39;49m\u001b[43m:\u001b[49m\u001b[43m \u001b[49m\u001b[43mpresence_penalty\u001b[49m\u001b[43m,\u001b[49m\n\u001b[0;32m    849\u001b[0m \u001b[43m                \u001b[49m\u001b[38;5;124;43m\"\u001b[39;49m\u001b[38;5;124;43mresponse_format\u001b[39;49m\u001b[38;5;124;43m\"\u001b[39;49m\u001b[43m:\u001b[49m\u001b[43m \u001b[49m\u001b[43mresponse_format\u001b[49m\u001b[43m,\u001b[49m\n\u001b[0;32m    850\u001b[0m \u001b[43m                \u001b[49m\u001b[38;5;124;43m\"\u001b[39;49m\u001b[38;5;124;43mseed\u001b[39;49m\u001b[38;5;124;43m\"\u001b[39;49m\u001b[43m:\u001b[49m\u001b[43m \u001b[49m\u001b[43mseed\u001b[49m\u001b[43m,\u001b[49m\n\u001b[0;32m    851\u001b[0m \u001b[43m                \u001b[49m\u001b[38;5;124;43m\"\u001b[39;49m\u001b[38;5;124;43mservice_tier\u001b[39;49m\u001b[38;5;124;43m\"\u001b[39;49m\u001b[43m:\u001b[49m\u001b[43m \u001b[49m\u001b[43mservice_tier\u001b[49m\u001b[43m,\u001b[49m\n\u001b[0;32m    852\u001b[0m \u001b[43m                \u001b[49m\u001b[38;5;124;43m\"\u001b[39;49m\u001b[38;5;124;43mstop\u001b[39;49m\u001b[38;5;124;43m\"\u001b[39;49m\u001b[43m:\u001b[49m\u001b[43m \u001b[49m\u001b[43mstop\u001b[49m\u001b[43m,\u001b[49m\n\u001b[0;32m    853\u001b[0m \u001b[43m                \u001b[49m\u001b[38;5;124;43m\"\u001b[39;49m\u001b[38;5;124;43mstore\u001b[39;49m\u001b[38;5;124;43m\"\u001b[39;49m\u001b[43m:\u001b[49m\u001b[43m \u001b[49m\u001b[43mstore\u001b[49m\u001b[43m,\u001b[49m\n\u001b[0;32m    854\u001b[0m \u001b[43m                \u001b[49m\u001b[38;5;124;43m\"\u001b[39;49m\u001b[38;5;124;43mstream\u001b[39;49m\u001b[38;5;124;43m\"\u001b[39;49m\u001b[43m:\u001b[49m\u001b[43m \u001b[49m\u001b[43mstream\u001b[49m\u001b[43m,\u001b[49m\n\u001b[0;32m    855\u001b[0m \u001b[43m                \u001b[49m\u001b[38;5;124;43m\"\u001b[39;49m\u001b[38;5;124;43mstream_options\u001b[39;49m\u001b[38;5;124;43m\"\u001b[39;49m\u001b[43m:\u001b[49m\u001b[43m \u001b[49m\u001b[43mstream_options\u001b[49m\u001b[43m,\u001b[49m\n\u001b[0;32m    856\u001b[0m \u001b[43m                \u001b[49m\u001b[38;5;124;43m\"\u001b[39;49m\u001b[38;5;124;43mtemperature\u001b[39;49m\u001b[38;5;124;43m\"\u001b[39;49m\u001b[43m:\u001b[49m\u001b[43m \u001b[49m\u001b[43mtemperature\u001b[49m\u001b[43m,\u001b[49m\n\u001b[0;32m    857\u001b[0m \u001b[43m                \u001b[49m\u001b[38;5;124;43m\"\u001b[39;49m\u001b[38;5;124;43mtool_choice\u001b[39;49m\u001b[38;5;124;43m\"\u001b[39;49m\u001b[43m:\u001b[49m\u001b[43m \u001b[49m\u001b[43mtool_choice\u001b[49m\u001b[43m,\u001b[49m\n\u001b[0;32m    858\u001b[0m \u001b[43m                \u001b[49m\u001b[38;5;124;43m\"\u001b[39;49m\u001b[38;5;124;43mtools\u001b[39;49m\u001b[38;5;124;43m\"\u001b[39;49m\u001b[43m:\u001b[49m\u001b[43m \u001b[49m\u001b[43mtools\u001b[49m\u001b[43m,\u001b[49m\n\u001b[0;32m    859\u001b[0m \u001b[43m                \u001b[49m\u001b[38;5;124;43m\"\u001b[39;49m\u001b[38;5;124;43mtop_logprobs\u001b[39;49m\u001b[38;5;124;43m\"\u001b[39;49m\u001b[43m:\u001b[49m\u001b[43m \u001b[49m\u001b[43mtop_logprobs\u001b[49m\u001b[43m,\u001b[49m\n\u001b[0;32m    860\u001b[0m \u001b[43m                \u001b[49m\u001b[38;5;124;43m\"\u001b[39;49m\u001b[38;5;124;43mtop_p\u001b[39;49m\u001b[38;5;124;43m\"\u001b[39;49m\u001b[43m:\u001b[49m\u001b[43m \u001b[49m\u001b[43mtop_p\u001b[49m\u001b[43m,\u001b[49m\n\u001b[0;32m    861\u001b[0m \u001b[43m                \u001b[49m\u001b[38;5;124;43m\"\u001b[39;49m\u001b[38;5;124;43muser\u001b[39;49m\u001b[38;5;124;43m\"\u001b[39;49m\u001b[43m:\u001b[49m\u001b[43m \u001b[49m\u001b[43muser\u001b[49m\u001b[43m,\u001b[49m\n\u001b[0;32m    862\u001b[0m \u001b[43m            \u001b[49m\u001b[43m}\u001b[49m\u001b[43m,\u001b[49m\n\u001b[0;32m    863\u001b[0m \u001b[43m            \u001b[49m\u001b[43mcompletion_create_params\u001b[49m\u001b[38;5;241;43m.\u001b[39;49m\u001b[43mCompletionCreateParams\u001b[49m\u001b[43m,\u001b[49m\n\u001b[0;32m    864\u001b[0m \u001b[43m        \u001b[49m\u001b[43m)\u001b[49m\u001b[43m,\u001b[49m\n\u001b[0;32m    865\u001b[0m \u001b[43m        \u001b[49m\u001b[43moptions\u001b[49m\u001b[38;5;241;43m=\u001b[39;49m\u001b[43mmake_request_options\u001b[49m\u001b[43m(\u001b[49m\n\u001b[0;32m    866\u001b[0m \u001b[43m            \u001b[49m\u001b[43mextra_headers\u001b[49m\u001b[38;5;241;43m=\u001b[39;49m\u001b[43mextra_headers\u001b[49m\u001b[43m,\u001b[49m\u001b[43m \u001b[49m\u001b[43mextra_query\u001b[49m\u001b[38;5;241;43m=\u001b[39;49m\u001b[43mextra_query\u001b[49m\u001b[43m,\u001b[49m\u001b[43m \u001b[49m\u001b[43mextra_body\u001b[49m\u001b[38;5;241;43m=\u001b[39;49m\u001b[43mextra_body\u001b[49m\u001b[43m,\u001b[49m\u001b[43m \u001b[49m\u001b[43mtimeout\u001b[49m\u001b[38;5;241;43m=\u001b[39;49m\u001b[43mtimeout\u001b[49m\n\u001b[0;32m    867\u001b[0m \u001b[43m        \u001b[49m\u001b[43m)\u001b[49m\u001b[43m,\u001b[49m\n\u001b[0;32m    868\u001b[0m \u001b[43m        \u001b[49m\u001b[43mcast_to\u001b[49m\u001b[38;5;241;43m=\u001b[39;49m\u001b[43mChatCompletion\u001b[49m\u001b[43m,\u001b[49m\n\u001b[0;32m    869\u001b[0m \u001b[43m        \u001b[49m\u001b[43mstream\u001b[49m\u001b[38;5;241;43m=\u001b[39;49m\u001b[43mstream\u001b[49m\u001b[43m \u001b[49m\u001b[38;5;129;43;01mor\u001b[39;49;00m\u001b[43m \u001b[49m\u001b[38;5;28;43;01mFalse\u001b[39;49;00m\u001b[43m,\u001b[49m\n\u001b[0;32m    870\u001b[0m \u001b[43m        \u001b[49m\u001b[43mstream_cls\u001b[49m\u001b[38;5;241;43m=\u001b[39;49m\u001b[43mStream\u001b[49m\u001b[43m[\u001b[49m\u001b[43mChatCompletionChunk\u001b[49m\u001b[43m]\u001b[49m\u001b[43m,\u001b[49m\n\u001b[0;32m    871\u001b[0m \u001b[43m    \u001b[49m\u001b[43m)\u001b[49m\n",
      "File \u001b[1;32mc:\\Users\\Арман\\AppData\\Local\\Programs\\Python\\Python313\\Lib\\site-packages\\openai\\_base_client.py:1280\u001b[0m, in \u001b[0;36mSyncAPIClient.post\u001b[1;34m(self, path, cast_to, body, options, files, stream, stream_cls)\u001b[0m\n\u001b[0;32m   1266\u001b[0m \u001b[38;5;28;01mdef\u001b[39;00m \u001b[38;5;21mpost\u001b[39m(\n\u001b[0;32m   1267\u001b[0m     \u001b[38;5;28mself\u001b[39m,\n\u001b[0;32m   1268\u001b[0m     path: \u001b[38;5;28mstr\u001b[39m,\n\u001b[1;32m   (...)\u001b[0m\n\u001b[0;32m   1275\u001b[0m     stream_cls: \u001b[38;5;28mtype\u001b[39m[_StreamT] \u001b[38;5;241m|\u001b[39m \u001b[38;5;28;01mNone\u001b[39;00m \u001b[38;5;241m=\u001b[39m \u001b[38;5;28;01mNone\u001b[39;00m,\n\u001b[0;32m   1276\u001b[0m ) \u001b[38;5;241m-\u001b[39m\u001b[38;5;241m>\u001b[39m ResponseT \u001b[38;5;241m|\u001b[39m _StreamT:\n\u001b[0;32m   1277\u001b[0m     opts \u001b[38;5;241m=\u001b[39m FinalRequestOptions\u001b[38;5;241m.\u001b[39mconstruct(\n\u001b[0;32m   1278\u001b[0m         method\u001b[38;5;241m=\u001b[39m\u001b[38;5;124m\"\u001b[39m\u001b[38;5;124mpost\u001b[39m\u001b[38;5;124m\"\u001b[39m, url\u001b[38;5;241m=\u001b[39mpath, json_data\u001b[38;5;241m=\u001b[39mbody, files\u001b[38;5;241m=\u001b[39mto_httpx_files(files), \u001b[38;5;241m*\u001b[39m\u001b[38;5;241m*\u001b[39moptions\n\u001b[0;32m   1279\u001b[0m     )\n\u001b[1;32m-> 1280\u001b[0m     \u001b[38;5;28;01mreturn\u001b[39;00m cast(ResponseT, \u001b[38;5;28;43mself\u001b[39;49m\u001b[38;5;241;43m.\u001b[39;49m\u001b[43mrequest\u001b[49m\u001b[43m(\u001b[49m\u001b[43mcast_to\u001b[49m\u001b[43m,\u001b[49m\u001b[43m \u001b[49m\u001b[43mopts\u001b[49m\u001b[43m,\u001b[49m\u001b[43m \u001b[49m\u001b[43mstream\u001b[49m\u001b[38;5;241;43m=\u001b[39;49m\u001b[43mstream\u001b[49m\u001b[43m,\u001b[49m\u001b[43m \u001b[49m\u001b[43mstream_cls\u001b[49m\u001b[38;5;241;43m=\u001b[39;49m\u001b[43mstream_cls\u001b[49m\u001b[43m)\u001b[49m)\n",
      "File \u001b[1;32mc:\\Users\\Арман\\AppData\\Local\\Programs\\Python\\Python313\\Lib\\site-packages\\openai\\_base_client.py:957\u001b[0m, in \u001b[0;36mSyncAPIClient.request\u001b[1;34m(self, cast_to, options, remaining_retries, stream, stream_cls)\u001b[0m\n\u001b[0;32m    954\u001b[0m \u001b[38;5;28;01melse\u001b[39;00m:\n\u001b[0;32m    955\u001b[0m     retries_taken \u001b[38;5;241m=\u001b[39m \u001b[38;5;241m0\u001b[39m\n\u001b[1;32m--> 957\u001b[0m \u001b[38;5;28;01mreturn\u001b[39;00m \u001b[38;5;28;43mself\u001b[39;49m\u001b[38;5;241;43m.\u001b[39;49m\u001b[43m_request\u001b[49m\u001b[43m(\u001b[49m\n\u001b[0;32m    958\u001b[0m \u001b[43m    \u001b[49m\u001b[43mcast_to\u001b[49m\u001b[38;5;241;43m=\u001b[39;49m\u001b[43mcast_to\u001b[49m\u001b[43m,\u001b[49m\n\u001b[0;32m    959\u001b[0m \u001b[43m    \u001b[49m\u001b[43moptions\u001b[49m\u001b[38;5;241;43m=\u001b[39;49m\u001b[43moptions\u001b[49m\u001b[43m,\u001b[49m\n\u001b[0;32m    960\u001b[0m \u001b[43m    \u001b[49m\u001b[43mstream\u001b[49m\u001b[38;5;241;43m=\u001b[39;49m\u001b[43mstream\u001b[49m\u001b[43m,\u001b[49m\n\u001b[0;32m    961\u001b[0m \u001b[43m    \u001b[49m\u001b[43mstream_cls\u001b[49m\u001b[38;5;241;43m=\u001b[39;49m\u001b[43mstream_cls\u001b[49m\u001b[43m,\u001b[49m\n\u001b[0;32m    962\u001b[0m \u001b[43m    \u001b[49m\u001b[43mretries_taken\u001b[49m\u001b[38;5;241;43m=\u001b[39;49m\u001b[43mretries_taken\u001b[49m\u001b[43m,\u001b[49m\n\u001b[0;32m    963\u001b[0m \u001b[43m\u001b[49m\u001b[43m)\u001b[49m\n",
      "File \u001b[1;32mc:\\Users\\Арман\\AppData\\Local\\Programs\\Python\\Python313\\Lib\\site-packages\\openai\\_base_client.py:993\u001b[0m, in \u001b[0;36mSyncAPIClient._request\u001b[1;34m(self, cast_to, options, retries_taken, stream, stream_cls)\u001b[0m\n\u001b[0;32m    990\u001b[0m log\u001b[38;5;241m.\u001b[39mdebug(\u001b[38;5;124m\"\u001b[39m\u001b[38;5;124mSending HTTP Request: \u001b[39m\u001b[38;5;132;01m%s\u001b[39;00m\u001b[38;5;124m \u001b[39m\u001b[38;5;132;01m%s\u001b[39;00m\u001b[38;5;124m\"\u001b[39m, request\u001b[38;5;241m.\u001b[39mmethod, request\u001b[38;5;241m.\u001b[39murl)\n\u001b[0;32m    992\u001b[0m \u001b[38;5;28;01mtry\u001b[39;00m:\n\u001b[1;32m--> 993\u001b[0m     response \u001b[38;5;241m=\u001b[39m \u001b[38;5;28;43mself\u001b[39;49m\u001b[38;5;241;43m.\u001b[39;49m\u001b[43m_client\u001b[49m\u001b[38;5;241;43m.\u001b[39;49m\u001b[43msend\u001b[49m\u001b[43m(\u001b[49m\n\u001b[0;32m    994\u001b[0m \u001b[43m        \u001b[49m\u001b[43mrequest\u001b[49m\u001b[43m,\u001b[49m\n\u001b[0;32m    995\u001b[0m \u001b[43m        \u001b[49m\u001b[43mstream\u001b[49m\u001b[38;5;241;43m=\u001b[39;49m\u001b[43mstream\u001b[49m\u001b[43m \u001b[49m\u001b[38;5;129;43;01mor\u001b[39;49;00m\u001b[43m \u001b[49m\u001b[38;5;28;43mself\u001b[39;49m\u001b[38;5;241;43m.\u001b[39;49m\u001b[43m_should_stream_response_body\u001b[49m\u001b[43m(\u001b[49m\u001b[43mrequest\u001b[49m\u001b[38;5;241;43m=\u001b[39;49m\u001b[43mrequest\u001b[49m\u001b[43m)\u001b[49m\u001b[43m,\u001b[49m\n\u001b[0;32m    996\u001b[0m \u001b[43m        \u001b[49m\u001b[38;5;241;43m*\u001b[39;49m\u001b[38;5;241;43m*\u001b[39;49m\u001b[43mkwargs\u001b[49m\u001b[43m,\u001b[49m\n\u001b[0;32m    997\u001b[0m \u001b[43m    \u001b[49m\u001b[43m)\u001b[49m\n\u001b[0;32m    998\u001b[0m \u001b[38;5;28;01mexcept\u001b[39;00m httpx\u001b[38;5;241m.\u001b[39mTimeoutException \u001b[38;5;28;01mas\u001b[39;00m err:\n\u001b[0;32m    999\u001b[0m     log\u001b[38;5;241m.\u001b[39mdebug(\u001b[38;5;124m\"\u001b[39m\u001b[38;5;124mEncountered httpx.TimeoutException\u001b[39m\u001b[38;5;124m\"\u001b[39m, exc_info\u001b[38;5;241m=\u001b[39m\u001b[38;5;28;01mTrue\u001b[39;00m)\n",
      "File \u001b[1;32mc:\\Users\\Арман\\AppData\\Local\\Programs\\Python\\Python313\\Lib\\site-packages\\httpx\\_client.py:916\u001b[0m, in \u001b[0;36mClient.send\u001b[1;34m(self, request, stream, auth, follow_redirects)\u001b[0m\n\u001b[0;32m    912\u001b[0m \u001b[38;5;28mself\u001b[39m\u001b[38;5;241m.\u001b[39m_set_timeout(request)\n\u001b[0;32m    914\u001b[0m auth \u001b[38;5;241m=\u001b[39m \u001b[38;5;28mself\u001b[39m\u001b[38;5;241m.\u001b[39m_build_request_auth(request, auth)\n\u001b[1;32m--> 916\u001b[0m response \u001b[38;5;241m=\u001b[39m \u001b[38;5;28;43mself\u001b[39;49m\u001b[38;5;241;43m.\u001b[39;49m\u001b[43m_send_handling_auth\u001b[49m\u001b[43m(\u001b[49m\n\u001b[0;32m    917\u001b[0m \u001b[43m    \u001b[49m\u001b[43mrequest\u001b[49m\u001b[43m,\u001b[49m\n\u001b[0;32m    918\u001b[0m \u001b[43m    \u001b[49m\u001b[43mauth\u001b[49m\u001b[38;5;241;43m=\u001b[39;49m\u001b[43mauth\u001b[49m\u001b[43m,\u001b[49m\n\u001b[0;32m    919\u001b[0m \u001b[43m    \u001b[49m\u001b[43mfollow_redirects\u001b[49m\u001b[38;5;241;43m=\u001b[39;49m\u001b[43mfollow_redirects\u001b[49m\u001b[43m,\u001b[49m\n\u001b[0;32m    920\u001b[0m \u001b[43m    \u001b[49m\u001b[43mhistory\u001b[49m\u001b[38;5;241;43m=\u001b[39;49m\u001b[43m[\u001b[49m\u001b[43m]\u001b[49m\u001b[43m,\u001b[49m\n\u001b[0;32m    921\u001b[0m \u001b[43m\u001b[49m\u001b[43m)\u001b[49m\n\u001b[0;32m    922\u001b[0m \u001b[38;5;28;01mtry\u001b[39;00m:\n\u001b[0;32m    923\u001b[0m     \u001b[38;5;28;01mif\u001b[39;00m \u001b[38;5;129;01mnot\u001b[39;00m stream:\n",
      "File \u001b[1;32mc:\\Users\\Арман\\AppData\\Local\\Programs\\Python\\Python313\\Lib\\site-packages\\httpx\\_client.py:944\u001b[0m, in \u001b[0;36mClient._send_handling_auth\u001b[1;34m(self, request, auth, follow_redirects, history)\u001b[0m\n\u001b[0;32m    941\u001b[0m request \u001b[38;5;241m=\u001b[39m \u001b[38;5;28mnext\u001b[39m(auth_flow)\n\u001b[0;32m    943\u001b[0m \u001b[38;5;28;01mwhile\u001b[39;00m \u001b[38;5;28;01mTrue\u001b[39;00m:\n\u001b[1;32m--> 944\u001b[0m     response \u001b[38;5;241m=\u001b[39m \u001b[38;5;28;43mself\u001b[39;49m\u001b[38;5;241;43m.\u001b[39;49m\u001b[43m_send_handling_redirects\u001b[49m\u001b[43m(\u001b[49m\n\u001b[0;32m    945\u001b[0m \u001b[43m        \u001b[49m\u001b[43mrequest\u001b[49m\u001b[43m,\u001b[49m\n\u001b[0;32m    946\u001b[0m \u001b[43m        \u001b[49m\u001b[43mfollow_redirects\u001b[49m\u001b[38;5;241;43m=\u001b[39;49m\u001b[43mfollow_redirects\u001b[49m\u001b[43m,\u001b[49m\n\u001b[0;32m    947\u001b[0m \u001b[43m        \u001b[49m\u001b[43mhistory\u001b[49m\u001b[38;5;241;43m=\u001b[39;49m\u001b[43mhistory\u001b[49m\u001b[43m,\u001b[49m\n\u001b[0;32m    948\u001b[0m \u001b[43m    \u001b[49m\u001b[43m)\u001b[49m\n\u001b[0;32m    949\u001b[0m     \u001b[38;5;28;01mtry\u001b[39;00m:\n\u001b[0;32m    950\u001b[0m         \u001b[38;5;28;01mtry\u001b[39;00m:\n",
      "File \u001b[1;32mc:\\Users\\Арман\\AppData\\Local\\Programs\\Python\\Python313\\Lib\\site-packages\\httpx\\_client.py:981\u001b[0m, in \u001b[0;36mClient._send_handling_redirects\u001b[1;34m(self, request, follow_redirects, history)\u001b[0m\n\u001b[0;32m    978\u001b[0m \u001b[38;5;28;01mfor\u001b[39;00m hook \u001b[38;5;129;01min\u001b[39;00m \u001b[38;5;28mself\u001b[39m\u001b[38;5;241m.\u001b[39m_event_hooks[\u001b[38;5;124m\"\u001b[39m\u001b[38;5;124mrequest\u001b[39m\u001b[38;5;124m\"\u001b[39m]:\n\u001b[0;32m    979\u001b[0m     hook(request)\n\u001b[1;32m--> 981\u001b[0m response \u001b[38;5;241m=\u001b[39m \u001b[38;5;28;43mself\u001b[39;49m\u001b[38;5;241;43m.\u001b[39;49m\u001b[43m_send_single_request\u001b[49m\u001b[43m(\u001b[49m\u001b[43mrequest\u001b[49m\u001b[43m)\u001b[49m\n\u001b[0;32m    982\u001b[0m \u001b[38;5;28;01mtry\u001b[39;00m:\n\u001b[0;32m    983\u001b[0m     \u001b[38;5;28;01mfor\u001b[39;00m hook \u001b[38;5;129;01min\u001b[39;00m \u001b[38;5;28mself\u001b[39m\u001b[38;5;241m.\u001b[39m_event_hooks[\u001b[38;5;124m\"\u001b[39m\u001b[38;5;124mresponse\u001b[39m\u001b[38;5;124m\"\u001b[39m]:\n",
      "File \u001b[1;32mc:\\Users\\Арман\\AppData\\Local\\Programs\\Python\\Python313\\Lib\\site-packages\\httpx\\_client.py:1016\u001b[0m, in \u001b[0;36mClient._send_single_request\u001b[1;34m(self, request)\u001b[0m\n\u001b[0;32m   1011\u001b[0m     \u001b[38;5;28;01mraise\u001b[39;00m \u001b[38;5;167;01mRuntimeError\u001b[39;00m(\n\u001b[0;32m   1012\u001b[0m         \u001b[38;5;124m\"\u001b[39m\u001b[38;5;124mAttempted to send an async request with a sync Client instance.\u001b[39m\u001b[38;5;124m\"\u001b[39m\n\u001b[0;32m   1013\u001b[0m     )\n\u001b[0;32m   1015\u001b[0m \u001b[38;5;28;01mwith\u001b[39;00m request_context(request\u001b[38;5;241m=\u001b[39mrequest):\n\u001b[1;32m-> 1016\u001b[0m     response \u001b[38;5;241m=\u001b[39m \u001b[43mtransport\u001b[49m\u001b[38;5;241;43m.\u001b[39;49m\u001b[43mhandle_request\u001b[49m\u001b[43m(\u001b[49m\u001b[43mrequest\u001b[49m\u001b[43m)\u001b[49m\n\u001b[0;32m   1018\u001b[0m \u001b[38;5;28;01massert\u001b[39;00m \u001b[38;5;28misinstance\u001b[39m(response\u001b[38;5;241m.\u001b[39mstream, SyncByteStream)\n\u001b[0;32m   1020\u001b[0m response\u001b[38;5;241m.\u001b[39mrequest \u001b[38;5;241m=\u001b[39m request\n",
      "File \u001b[1;32mc:\\Users\\Арман\\AppData\\Local\\Programs\\Python\\Python313\\Lib\\site-packages\\httpx\\_transports\\default.py:250\u001b[0m, in \u001b[0;36mHTTPTransport.handle_request\u001b[1;34m(self, request)\u001b[0m\n\u001b[0;32m    237\u001b[0m req \u001b[38;5;241m=\u001b[39m httpcore\u001b[38;5;241m.\u001b[39mRequest(\n\u001b[0;32m    238\u001b[0m     method\u001b[38;5;241m=\u001b[39mrequest\u001b[38;5;241m.\u001b[39mmethod,\n\u001b[0;32m    239\u001b[0m     url\u001b[38;5;241m=\u001b[39mhttpcore\u001b[38;5;241m.\u001b[39mURL(\n\u001b[1;32m   (...)\u001b[0m\n\u001b[0;32m    247\u001b[0m     extensions\u001b[38;5;241m=\u001b[39mrequest\u001b[38;5;241m.\u001b[39mextensions,\n\u001b[0;32m    248\u001b[0m )\n\u001b[0;32m    249\u001b[0m \u001b[38;5;28;01mwith\u001b[39;00m map_httpcore_exceptions():\n\u001b[1;32m--> 250\u001b[0m     resp \u001b[38;5;241m=\u001b[39m \u001b[38;5;28;43mself\u001b[39;49m\u001b[38;5;241;43m.\u001b[39;49m\u001b[43m_pool\u001b[49m\u001b[38;5;241;43m.\u001b[39;49m\u001b[43mhandle_request\u001b[49m\u001b[43m(\u001b[49m\u001b[43mreq\u001b[49m\u001b[43m)\u001b[49m\n\u001b[0;32m    252\u001b[0m \u001b[38;5;28;01massert\u001b[39;00m \u001b[38;5;28misinstance\u001b[39m(resp\u001b[38;5;241m.\u001b[39mstream, typing\u001b[38;5;241m.\u001b[39mIterable)\n\u001b[0;32m    254\u001b[0m \u001b[38;5;28;01mreturn\u001b[39;00m Response(\n\u001b[0;32m    255\u001b[0m     status_code\u001b[38;5;241m=\u001b[39mresp\u001b[38;5;241m.\u001b[39mstatus,\n\u001b[0;32m    256\u001b[0m     headers\u001b[38;5;241m=\u001b[39mresp\u001b[38;5;241m.\u001b[39mheaders,\n\u001b[0;32m    257\u001b[0m     stream\u001b[38;5;241m=\u001b[39mResponseStream(resp\u001b[38;5;241m.\u001b[39mstream),\n\u001b[0;32m    258\u001b[0m     extensions\u001b[38;5;241m=\u001b[39mresp\u001b[38;5;241m.\u001b[39mextensions,\n\u001b[0;32m    259\u001b[0m )\n",
      "File \u001b[1;32mc:\\Users\\Арман\\AppData\\Local\\Programs\\Python\\Python313\\Lib\\site-packages\\httpcore\\_sync\\connection_pool.py:256\u001b[0m, in \u001b[0;36mConnectionPool.handle_request\u001b[1;34m(self, request)\u001b[0m\n\u001b[0;32m    253\u001b[0m         closing \u001b[38;5;241m=\u001b[39m \u001b[38;5;28mself\u001b[39m\u001b[38;5;241m.\u001b[39m_assign_requests_to_connections()\n\u001b[0;32m    255\u001b[0m     \u001b[38;5;28mself\u001b[39m\u001b[38;5;241m.\u001b[39m_close_connections(closing)\n\u001b[1;32m--> 256\u001b[0m     \u001b[38;5;28;01mraise\u001b[39;00m exc \u001b[38;5;28;01mfrom\u001b[39;00m \u001b[38;5;28;01mNone\u001b[39;00m\n\u001b[0;32m    258\u001b[0m \u001b[38;5;66;03m# Return the response. Note that in this case we still have to manage\u001b[39;00m\n\u001b[0;32m    259\u001b[0m \u001b[38;5;66;03m# the point at which the response is closed.\u001b[39;00m\n\u001b[0;32m    260\u001b[0m \u001b[38;5;28;01massert\u001b[39;00m \u001b[38;5;28misinstance\u001b[39m(response\u001b[38;5;241m.\u001b[39mstream, typing\u001b[38;5;241m.\u001b[39mIterable)\n",
      "File \u001b[1;32mc:\\Users\\Арман\\AppData\\Local\\Programs\\Python\\Python313\\Lib\\site-packages\\httpcore\\_sync\\connection_pool.py:236\u001b[0m, in \u001b[0;36mConnectionPool.handle_request\u001b[1;34m(self, request)\u001b[0m\n\u001b[0;32m    232\u001b[0m connection \u001b[38;5;241m=\u001b[39m pool_request\u001b[38;5;241m.\u001b[39mwait_for_connection(timeout\u001b[38;5;241m=\u001b[39mtimeout)\n\u001b[0;32m    234\u001b[0m \u001b[38;5;28;01mtry\u001b[39;00m:\n\u001b[0;32m    235\u001b[0m     \u001b[38;5;66;03m# Send the request on the assigned connection.\u001b[39;00m\n\u001b[1;32m--> 236\u001b[0m     response \u001b[38;5;241m=\u001b[39m \u001b[43mconnection\u001b[49m\u001b[38;5;241;43m.\u001b[39;49m\u001b[43mhandle_request\u001b[49m\u001b[43m(\u001b[49m\n\u001b[0;32m    237\u001b[0m \u001b[43m        \u001b[49m\u001b[43mpool_request\u001b[49m\u001b[38;5;241;43m.\u001b[39;49m\u001b[43mrequest\u001b[49m\n\u001b[0;32m    238\u001b[0m \u001b[43m    \u001b[49m\u001b[43m)\u001b[49m\n\u001b[0;32m    239\u001b[0m \u001b[38;5;28;01mexcept\u001b[39;00m ConnectionNotAvailable:\n\u001b[0;32m    240\u001b[0m     \u001b[38;5;66;03m# In some cases a connection may initially be available to\u001b[39;00m\n\u001b[0;32m    241\u001b[0m     \u001b[38;5;66;03m# handle a request, but then become unavailable.\u001b[39;00m\n\u001b[0;32m    242\u001b[0m     \u001b[38;5;66;03m#\u001b[39;00m\n\u001b[0;32m    243\u001b[0m     \u001b[38;5;66;03m# In this case we clear the connection and try again.\u001b[39;00m\n\u001b[0;32m    244\u001b[0m     pool_request\u001b[38;5;241m.\u001b[39mclear_connection()\n",
      "File \u001b[1;32mc:\\Users\\Арман\\AppData\\Local\\Programs\\Python\\Python313\\Lib\\site-packages\\httpcore\\_sync\\connection.py:103\u001b[0m, in \u001b[0;36mHTTPConnection.handle_request\u001b[1;34m(self, request)\u001b[0m\n\u001b[0;32m    100\u001b[0m     \u001b[38;5;28mself\u001b[39m\u001b[38;5;241m.\u001b[39m_connect_failed \u001b[38;5;241m=\u001b[39m \u001b[38;5;28;01mTrue\u001b[39;00m\n\u001b[0;32m    101\u001b[0m     \u001b[38;5;28;01mraise\u001b[39;00m exc\n\u001b[1;32m--> 103\u001b[0m \u001b[38;5;28;01mreturn\u001b[39;00m \u001b[38;5;28;43mself\u001b[39;49m\u001b[38;5;241;43m.\u001b[39;49m\u001b[43m_connection\u001b[49m\u001b[38;5;241;43m.\u001b[39;49m\u001b[43mhandle_request\u001b[49m\u001b[43m(\u001b[49m\u001b[43mrequest\u001b[49m\u001b[43m)\u001b[49m\n",
      "File \u001b[1;32mc:\\Users\\Арман\\AppData\\Local\\Programs\\Python\\Python313\\Lib\\site-packages\\httpcore\\_sync\\http11.py:136\u001b[0m, in \u001b[0;36mHTTP11Connection.handle_request\u001b[1;34m(self, request)\u001b[0m\n\u001b[0;32m    134\u001b[0m     \u001b[38;5;28;01mwith\u001b[39;00m Trace(\u001b[38;5;124m\"\u001b[39m\u001b[38;5;124mresponse_closed\u001b[39m\u001b[38;5;124m\"\u001b[39m, logger, request) \u001b[38;5;28;01mas\u001b[39;00m trace:\n\u001b[0;32m    135\u001b[0m         \u001b[38;5;28mself\u001b[39m\u001b[38;5;241m.\u001b[39m_response_closed()\n\u001b[1;32m--> 136\u001b[0m \u001b[38;5;28;01mraise\u001b[39;00m exc\n",
      "File \u001b[1;32mc:\\Users\\Арман\\AppData\\Local\\Programs\\Python\\Python313\\Lib\\site-packages\\httpcore\\_sync\\http11.py:106\u001b[0m, in \u001b[0;36mHTTP11Connection.handle_request\u001b[1;34m(self, request)\u001b[0m\n\u001b[0;32m     95\u001b[0m     \u001b[38;5;28;01mpass\u001b[39;00m\n\u001b[0;32m     97\u001b[0m \u001b[38;5;28;01mwith\u001b[39;00m Trace(\n\u001b[0;32m     98\u001b[0m     \u001b[38;5;124m\"\u001b[39m\u001b[38;5;124mreceive_response_headers\u001b[39m\u001b[38;5;124m\"\u001b[39m, logger, request, kwargs\n\u001b[0;32m     99\u001b[0m ) \u001b[38;5;28;01mas\u001b[39;00m trace:\n\u001b[0;32m    100\u001b[0m     (\n\u001b[0;32m    101\u001b[0m         http_version,\n\u001b[0;32m    102\u001b[0m         status,\n\u001b[0;32m    103\u001b[0m         reason_phrase,\n\u001b[0;32m    104\u001b[0m         headers,\n\u001b[0;32m    105\u001b[0m         trailing_data,\n\u001b[1;32m--> 106\u001b[0m     ) \u001b[38;5;241m=\u001b[39m \u001b[38;5;28;43mself\u001b[39;49m\u001b[38;5;241;43m.\u001b[39;49m\u001b[43m_receive_response_headers\u001b[49m\u001b[43m(\u001b[49m\u001b[38;5;241;43m*\u001b[39;49m\u001b[38;5;241;43m*\u001b[39;49m\u001b[43mkwargs\u001b[49m\u001b[43m)\u001b[49m\n\u001b[0;32m    107\u001b[0m     trace\u001b[38;5;241m.\u001b[39mreturn_value \u001b[38;5;241m=\u001b[39m (\n\u001b[0;32m    108\u001b[0m         http_version,\n\u001b[0;32m    109\u001b[0m         status,\n\u001b[0;32m    110\u001b[0m         reason_phrase,\n\u001b[0;32m    111\u001b[0m         headers,\n\u001b[0;32m    112\u001b[0m     )\n\u001b[0;32m    114\u001b[0m network_stream \u001b[38;5;241m=\u001b[39m \u001b[38;5;28mself\u001b[39m\u001b[38;5;241m.\u001b[39m_network_stream\n",
      "File \u001b[1;32mc:\\Users\\Арман\\AppData\\Local\\Programs\\Python\\Python313\\Lib\\site-packages\\httpcore\\_sync\\http11.py:177\u001b[0m, in \u001b[0;36mHTTP11Connection._receive_response_headers\u001b[1;34m(self, request)\u001b[0m\n\u001b[0;32m    174\u001b[0m timeout \u001b[38;5;241m=\u001b[39m timeouts\u001b[38;5;241m.\u001b[39mget(\u001b[38;5;124m\"\u001b[39m\u001b[38;5;124mread\u001b[39m\u001b[38;5;124m\"\u001b[39m, \u001b[38;5;28;01mNone\u001b[39;00m)\n\u001b[0;32m    176\u001b[0m \u001b[38;5;28;01mwhile\u001b[39;00m \u001b[38;5;28;01mTrue\u001b[39;00m:\n\u001b[1;32m--> 177\u001b[0m     event \u001b[38;5;241m=\u001b[39m \u001b[38;5;28;43mself\u001b[39;49m\u001b[38;5;241;43m.\u001b[39;49m\u001b[43m_receive_event\u001b[49m\u001b[43m(\u001b[49m\u001b[43mtimeout\u001b[49m\u001b[38;5;241;43m=\u001b[39;49m\u001b[43mtimeout\u001b[49m\u001b[43m)\u001b[49m\n\u001b[0;32m    178\u001b[0m     \u001b[38;5;28;01mif\u001b[39;00m \u001b[38;5;28misinstance\u001b[39m(event, h11\u001b[38;5;241m.\u001b[39mResponse):\n\u001b[0;32m    179\u001b[0m         \u001b[38;5;28;01mbreak\u001b[39;00m\n",
      "File \u001b[1;32mc:\\Users\\Арман\\AppData\\Local\\Programs\\Python\\Python313\\Lib\\site-packages\\httpcore\\_sync\\http11.py:217\u001b[0m, in \u001b[0;36mHTTP11Connection._receive_event\u001b[1;34m(self, timeout)\u001b[0m\n\u001b[0;32m    214\u001b[0m     event \u001b[38;5;241m=\u001b[39m \u001b[38;5;28mself\u001b[39m\u001b[38;5;241m.\u001b[39m_h11_state\u001b[38;5;241m.\u001b[39mnext_event()\n\u001b[0;32m    216\u001b[0m \u001b[38;5;28;01mif\u001b[39;00m event \u001b[38;5;129;01mis\u001b[39;00m h11\u001b[38;5;241m.\u001b[39mNEED_DATA:\n\u001b[1;32m--> 217\u001b[0m     data \u001b[38;5;241m=\u001b[39m \u001b[38;5;28;43mself\u001b[39;49m\u001b[38;5;241;43m.\u001b[39;49m\u001b[43m_network_stream\u001b[49m\u001b[38;5;241;43m.\u001b[39;49m\u001b[43mread\u001b[49m\u001b[43m(\u001b[49m\n\u001b[0;32m    218\u001b[0m \u001b[43m        \u001b[49m\u001b[38;5;28;43mself\u001b[39;49m\u001b[38;5;241;43m.\u001b[39;49m\u001b[43mREAD_NUM_BYTES\u001b[49m\u001b[43m,\u001b[49m\u001b[43m \u001b[49m\u001b[43mtimeout\u001b[49m\u001b[38;5;241;43m=\u001b[39;49m\u001b[43mtimeout\u001b[49m\n\u001b[0;32m    219\u001b[0m \u001b[43m    \u001b[49m\u001b[43m)\u001b[49m\n\u001b[0;32m    221\u001b[0m     \u001b[38;5;66;03m# If we feed this case through h11 we'll raise an exception like:\u001b[39;00m\n\u001b[0;32m    222\u001b[0m     \u001b[38;5;66;03m#\u001b[39;00m\n\u001b[0;32m    223\u001b[0m     \u001b[38;5;66;03m#     httpcore.RemoteProtocolError: can't handle event type\u001b[39;00m\n\u001b[1;32m   (...)\u001b[0m\n\u001b[0;32m    227\u001b[0m     \u001b[38;5;66;03m# perspective. Instead we handle this case distinctly and treat\u001b[39;00m\n\u001b[0;32m    228\u001b[0m     \u001b[38;5;66;03m# it as a ConnectError.\u001b[39;00m\n\u001b[0;32m    229\u001b[0m     \u001b[38;5;28;01mif\u001b[39;00m data \u001b[38;5;241m==\u001b[39m \u001b[38;5;124mb\u001b[39m\u001b[38;5;124m\"\u001b[39m\u001b[38;5;124m\"\u001b[39m \u001b[38;5;129;01mand\u001b[39;00m \u001b[38;5;28mself\u001b[39m\u001b[38;5;241m.\u001b[39m_h11_state\u001b[38;5;241m.\u001b[39mtheir_state \u001b[38;5;241m==\u001b[39m h11\u001b[38;5;241m.\u001b[39mSEND_RESPONSE:\n",
      "File \u001b[1;32mc:\\Users\\Арман\\AppData\\Local\\Programs\\Python\\Python313\\Lib\\site-packages\\httpcore\\_backends\\sync.py:128\u001b[0m, in \u001b[0;36mSyncStream.read\u001b[1;34m(self, max_bytes, timeout)\u001b[0m\n\u001b[0;32m    126\u001b[0m \u001b[38;5;28;01mwith\u001b[39;00m map_exceptions(exc_map):\n\u001b[0;32m    127\u001b[0m     \u001b[38;5;28mself\u001b[39m\u001b[38;5;241m.\u001b[39m_sock\u001b[38;5;241m.\u001b[39msettimeout(timeout)\n\u001b[1;32m--> 128\u001b[0m     \u001b[38;5;28;01mreturn\u001b[39;00m \u001b[38;5;28;43mself\u001b[39;49m\u001b[38;5;241;43m.\u001b[39;49m\u001b[43m_sock\u001b[49m\u001b[38;5;241;43m.\u001b[39;49m\u001b[43mrecv\u001b[49m\u001b[43m(\u001b[49m\u001b[43mmax_bytes\u001b[49m\u001b[43m)\u001b[49m\n",
      "File \u001b[1;32mc:\\Users\\Арман\\AppData\\Local\\Programs\\Python\\Python313\\Lib\\ssl.py:1285\u001b[0m, in \u001b[0;36mSSLSocket.recv\u001b[1;34m(self, buflen, flags)\u001b[0m\n\u001b[0;32m   1281\u001b[0m     \u001b[38;5;28;01mif\u001b[39;00m flags \u001b[38;5;241m!=\u001b[39m \u001b[38;5;241m0\u001b[39m:\n\u001b[0;32m   1282\u001b[0m         \u001b[38;5;28;01mraise\u001b[39;00m \u001b[38;5;167;01mValueError\u001b[39;00m(\n\u001b[0;32m   1283\u001b[0m             \u001b[38;5;124m\"\u001b[39m\u001b[38;5;124mnon-zero flags not allowed in calls to recv() on \u001b[39m\u001b[38;5;132;01m%s\u001b[39;00m\u001b[38;5;124m\"\u001b[39m \u001b[38;5;241m%\u001b[39m\n\u001b[0;32m   1284\u001b[0m             \u001b[38;5;28mself\u001b[39m\u001b[38;5;241m.\u001b[39m\u001b[38;5;18m__class__\u001b[39m)\n\u001b[1;32m-> 1285\u001b[0m     \u001b[38;5;28;01mreturn\u001b[39;00m \u001b[38;5;28;43mself\u001b[39;49m\u001b[38;5;241;43m.\u001b[39;49m\u001b[43mread\u001b[49m\u001b[43m(\u001b[49m\u001b[43mbuflen\u001b[49m\u001b[43m)\u001b[49m\n\u001b[0;32m   1286\u001b[0m \u001b[38;5;28;01melse\u001b[39;00m:\n\u001b[0;32m   1287\u001b[0m     \u001b[38;5;28;01mreturn\u001b[39;00m \u001b[38;5;28msuper\u001b[39m()\u001b[38;5;241m.\u001b[39mrecv(buflen, flags)\n",
      "File \u001b[1;32mc:\\Users\\Арман\\AppData\\Local\\Programs\\Python\\Python313\\Lib\\ssl.py:1140\u001b[0m, in \u001b[0;36mSSLSocket.read\u001b[1;34m(self, len, buffer)\u001b[0m\n\u001b[0;32m   1138\u001b[0m         \u001b[38;5;28;01mreturn\u001b[39;00m \u001b[38;5;28mself\u001b[39m\u001b[38;5;241m.\u001b[39m_sslobj\u001b[38;5;241m.\u001b[39mread(\u001b[38;5;28mlen\u001b[39m, buffer)\n\u001b[0;32m   1139\u001b[0m     \u001b[38;5;28;01melse\u001b[39;00m:\n\u001b[1;32m-> 1140\u001b[0m         \u001b[38;5;28;01mreturn\u001b[39;00m \u001b[38;5;28;43mself\u001b[39;49m\u001b[38;5;241;43m.\u001b[39;49m\u001b[43m_sslobj\u001b[49m\u001b[38;5;241;43m.\u001b[39;49m\u001b[43mread\u001b[49m\u001b[43m(\u001b[49m\u001b[38;5;28;43mlen\u001b[39;49m\u001b[43m)\u001b[49m\n\u001b[0;32m   1141\u001b[0m \u001b[38;5;28;01mexcept\u001b[39;00m SSLError \u001b[38;5;28;01mas\u001b[39;00m x:\n\u001b[0;32m   1142\u001b[0m     \u001b[38;5;28;01mif\u001b[39;00m x\u001b[38;5;241m.\u001b[39margs[\u001b[38;5;241m0\u001b[39m] \u001b[38;5;241m==\u001b[39m SSL_ERROR_EOF \u001b[38;5;129;01mand\u001b[39;00m \u001b[38;5;28mself\u001b[39m\u001b[38;5;241m.\u001b[39msuppress_ragged_eofs:\n",
      "\u001b[1;31mKeyboardInterrupt\u001b[0m: "
     ]
    }
   ],
   "source": [
    "second_book = [f'sm2_new_kap{i}.json' for i in range(1, 9)]\n",
    "\n",
    "for file_name in tqdm(second_book):\n",
    "    generate_and_write_cards(file_name)"
   ]
  },
  {
   "cell_type": "code",
   "execution_count": 19,
   "metadata": {},
   "outputs": [
    {
     "data": {
      "application/vnd.jupyter.widget-view+json": {
       "model_id": "f844be7cf2c0496388627fcb7c30179d",
       "version_major": 2,
       "version_minor": 0
      },
      "text/plain": [
       "  0%|          | 0/6 [00:00<?, ?it/s]"
      ]
     },
     "metadata": {},
     "output_type": "display_data"
    },
    {
     "data": {
      "application/vnd.jupyter.widget-view+json": {
       "model_id": "dd1c894c34dd453ea557b310db71e0a9",
       "version_major": 2,
       "version_minor": 0
      },
      "text/plain": [
       "  0%|          | 0/217 [00:00<?, ?it/s]"
      ]
     },
     "metadata": {},
     "output_type": "display_data"
    },
    {
     "name": "stdout",
     "output_type": "stream",
     "text": [
      "0.9354838709677419\n"
     ]
    },
    {
     "data": {
      "application/vnd.jupyter.widget-view+json": {
       "model_id": "0ec833e5653b4ca29e1a93208533abcf",
       "version_major": 2,
       "version_minor": 0
      },
      "text/plain": [
       "  0%|          | 0/298 [00:00<?, ?it/s]"
      ]
     },
     "metadata": {},
     "output_type": "display_data"
    },
    {
     "name": "stdout",
     "output_type": "stream",
     "text": [
      "0.9697986577181208\n"
     ]
    },
    {
     "data": {
      "application/vnd.jupyter.widget-view+json": {
       "model_id": "5c4d0bcd91244f52ae25731e2498657b",
       "version_major": 2,
       "version_minor": 0
      },
      "text/plain": [
       "  0%|          | 0/233 [00:00<?, ?it/s]"
      ]
     },
     "metadata": {},
     "output_type": "display_data"
    },
    {
     "name": "stdout",
     "output_type": "stream",
     "text": [
      "0.9484978540772532\n"
     ]
    },
    {
     "data": {
      "application/vnd.jupyter.widget-view+json": {
       "model_id": "52bbc75812a54ef2bb74d3c70fa24af7",
       "version_major": 2,
       "version_minor": 0
      },
      "text/plain": [
       "  0%|          | 0/206 [00:00<?, ?it/s]"
      ]
     },
     "metadata": {},
     "output_type": "display_data"
    },
    {
     "name": "stdout",
     "output_type": "stream",
     "text": [
      "0.9368932038834952\n"
     ]
    },
    {
     "data": {
      "application/vnd.jupyter.widget-view+json": {
       "model_id": "ac5438de08e24cd38dfb6af6be4b3a77",
       "version_major": 2,
       "version_minor": 0
      },
      "text/plain": [
       "  0%|          | 0/237 [00:00<?, ?it/s]"
      ]
     },
     "metadata": {},
     "output_type": "display_data"
    },
    {
     "name": "stdout",
     "output_type": "stream",
     "text": [
      "0.9324894514767933\n"
     ]
    },
    {
     "data": {
      "application/vnd.jupyter.widget-view+json": {
       "model_id": "b429b7c6e83844b7ad4b1455938cd6ae",
       "version_major": 2,
       "version_minor": 0
      },
      "text/plain": [
       "  0%|          | 0/194 [00:00<?, ?it/s]"
      ]
     },
     "metadata": {},
     "output_type": "display_data"
    },
    {
     "name": "stdout",
     "output_type": "stream",
     "text": [
      "0.9587628865979382\n"
     ]
    }
   ],
   "source": [
    "second_book = [f'sm2_new_kap{i}.json' for i in range(1, 9)]\n",
    "\n",
    "for file_name in tqdm(second_book[2:]):\n",
    "    generate_and_write_cards(file_name)"
   ]
  },
  {
   "cell_type": "code",
   "execution_count": 20,
   "metadata": {},
   "outputs": [
    {
     "data": {
      "application/vnd.jupyter.widget-view+json": {
       "model_id": "4f89cd3e9206448596abfcaded930dc0",
       "version_major": 2,
       "version_minor": 0
      },
      "text/plain": [
       "  0%|          | 0/1 [00:00<?, ?it/s]"
      ]
     },
     "metadata": {},
     "output_type": "display_data"
    },
    {
     "ename": "TypeError",
     "evalue": "can only concatenate str (not \"list\") to str",
     "output_type": "error",
     "traceback": [
      "\u001b[1;31m---------------------------------------------------------------------------\u001b[0m",
      "\u001b[1;31mTypeError\u001b[0m                                 Traceback (most recent call last)",
      "Cell \u001b[1;32mIn[20], line 4\u001b[0m\n\u001b[0;32m      1\u001b[0m third_book \u001b[38;5;241m=\u001b[39m [[\u001b[38;5;124mf\u001b[39m\u001b[38;5;124m'\u001b[39m\u001b[38;5;124msm3_kap\u001b[39m\u001b[38;5;132;01m{\u001b[39;00mi\u001b[38;5;132;01m}\u001b[39;00m\u001b[38;5;124m.json\u001b[39m\u001b[38;5;124m'\u001b[39m \u001b[38;5;28;01mfor\u001b[39;00m i \u001b[38;5;129;01min\u001b[39;00m \u001b[38;5;28mrange\u001b[39m(\u001b[38;5;241m1\u001b[39m, \u001b[38;5;241m9\u001b[39m)]]\n\u001b[0;32m      3\u001b[0m \u001b[38;5;28;01mfor\u001b[39;00m file_name \u001b[38;5;129;01min\u001b[39;00m tqdm(third_book):\n\u001b[1;32m----> 4\u001b[0m     \u001b[43mgenerate_and_write_cards\u001b[49m\u001b[43m(\u001b[49m\u001b[43mfile_name\u001b[49m\u001b[43m)\u001b[49m\n",
      "Cell \u001b[1;32mIn[18], line 2\u001b[0m, in \u001b[0;36mgenerate_and_write_cards\u001b[1;34m(file_name)\u001b[0m\n\u001b[0;32m      1\u001b[0m \u001b[38;5;28;01mdef\u001b[39;00m \u001b[38;5;21mgenerate_and_write_cards\u001b[39m(file_name):\n\u001b[1;32m----> 2\u001b[0m     ru_finn_cards \u001b[38;5;241m=\u001b[39m \u001b[43mget_ru_finn_cards_from_file\u001b[49m\u001b[43m(\u001b[49m\u001b[43mfile_name\u001b[49m\u001b[43m)\u001b[49m\n\u001b[0;32m      4\u001b[0m     source_cards \u001b[38;5;241m=\u001b[39m [{\u001b[38;5;124m'\u001b[39m\u001b[38;5;124mword\u001b[39m\u001b[38;5;124m'\u001b[39m: card[\u001b[38;5;124m\"\u001b[39m\u001b[38;5;124mwordFirstLang\u001b[39m\u001b[38;5;124m\"\u001b[39m], \u001b[38;5;124m'\u001b[39m\u001b[38;5;124msentence\u001b[39m\u001b[38;5;124m'\u001b[39m: card[\u001b[38;5;124m\"\u001b[39m\u001b[38;5;124msentenceFirstLang\u001b[39m\u001b[38;5;124m\"\u001b[39m], \u001b[38;5;124m'\u001b[39m\u001b[38;5;124mid\u001b[39m\u001b[38;5;124m'\u001b[39m: card[\u001b[38;5;124m'\u001b[39m\u001b[38;5;124mid\u001b[39m\u001b[38;5;124m'\u001b[39m]} \u001b[38;5;28;01mfor\u001b[39;00m card \u001b[38;5;129;01min\u001b[39;00m ru_finn_cards]\n\u001b[0;32m      5\u001b[0m     secondary_cards \u001b[38;5;241m=\u001b[39m [{\u001b[38;5;124m'\u001b[39m\u001b[38;5;124mword\u001b[39m\u001b[38;5;124m'\u001b[39m: card[\u001b[38;5;124m\"\u001b[39m\u001b[38;5;124mwordSecondLang\u001b[39m\u001b[38;5;124m\"\u001b[39m], \u001b[38;5;124m'\u001b[39m\u001b[38;5;124msentence\u001b[39m\u001b[38;5;124m'\u001b[39m: card[\u001b[38;5;124m\"\u001b[39m\u001b[38;5;124msentenceSecondLang\u001b[39m\u001b[38;5;124m\"\u001b[39m], \u001b[38;5;124m'\u001b[39m\u001b[38;5;124mid\u001b[39m\u001b[38;5;124m'\u001b[39m: card[\u001b[38;5;124m'\u001b[39m\u001b[38;5;124mid\u001b[39m\u001b[38;5;124m'\u001b[39m]} \u001b[38;5;28;01mfor\u001b[39;00m card \u001b[38;5;129;01min\u001b[39;00m ru_finn_cards]\n",
      "Cell \u001b[1;32mIn[3], line 24\u001b[0m, in \u001b[0;36mget_ru_finn_cards_from_file\u001b[1;34m(file_name)\u001b[0m\n\u001b[0;32m     22\u001b[0m \u001b[38;5;28;01mdef\u001b[39;00m \u001b[38;5;21mget_ru_finn_cards_from_file\u001b[39m(file_name):\n\u001b[0;32m     23\u001b[0m     data \u001b[38;5;241m=\u001b[39m []\n\u001b[1;32m---> 24\u001b[0m     file_path \u001b[38;5;241m=\u001b[39m \u001b[43mRU_FI_FOLDER_WITH_JSON\u001b[49m\u001b[43m \u001b[49m\u001b[38;5;241;43m+\u001b[39;49m\u001b[43m \u001b[49m\u001b[43mfile_name\u001b[49m\n\u001b[0;32m     25\u001b[0m     \u001b[38;5;28;01mwith\u001b[39;00m \u001b[38;5;28mopen\u001b[39m(file_path, \u001b[38;5;124m'\u001b[39m\u001b[38;5;124mr\u001b[39m\u001b[38;5;124m'\u001b[39m, encoding\u001b[38;5;241m=\u001b[39m\u001b[38;5;124m'\u001b[39m\u001b[38;5;124mutf-8\u001b[39m\u001b[38;5;124m'\u001b[39m) \u001b[38;5;28;01mas\u001b[39;00m file:\n\u001b[0;32m     26\u001b[0m         data \u001b[38;5;241m=\u001b[39m json\u001b[38;5;241m.\u001b[39mload(file)\n",
      "\u001b[1;31mTypeError\u001b[0m: can only concatenate str (not \"list\") to str"
     ]
    }
   ],
   "source": [
    "third_book = [[f'sm3_kap{i}.json' for i in range(1, 9)]]\n",
    "\n",
    "for file_name in tqdm(third_book):\n",
    "    generate_and_write_cards(file_name)"
   ]
  },
  {
   "cell_type": "code",
   "execution_count": null,
   "metadata": {},
   "outputs": [],
   "source": [
    "file_names = [f'sm1_new_kap{i}.json' for i in range(1, 10)]\n",
    "file_names.extend([f'sm2_new_kap{i}.json' for i in range(1, 9)])\n",
    "file_names.append('sm2_new_puhekieli.json')\n",
    "file_names.extend([f'sm3_kap{i}.json' for i in range(1, 9)])\n",
    "file_names.extend([f'sm4_kap{i}.json' for i in range(1, 6)])"
   ]
  }
 ],
 "metadata": {
  "kernelspec": {
   "display_name": "Python 3",
   "language": "python",
   "name": "python3"
  },
  "language_info": {
   "codemirror_mode": {
    "name": "ipython",
    "version": 3
   },
   "file_extension": ".py",
   "mimetype": "text/x-python",
   "name": "python",
   "nbconvert_exporter": "python",
   "pygments_lexer": "ipython3",
   "version": "3.13.0"
  }
 },
 "nbformat": 4,
 "nbformat_minor": 2
}
