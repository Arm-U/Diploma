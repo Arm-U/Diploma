{
 "cells": [
  {
   "cell_type": "code",
   "execution_count": 4,
   "id": "d4c36f7d",
   "metadata": {},
   "outputs": [],
   "source": [
    "#!/usr/bin/env python\n",
    "# coding: utf-8\n",
    "import openai\n",
    "from openai import AzureOpenAI\n",
    "from tqdm.notebook import tqdm\n",
    "import os\n",
    "from dotenv import load_dotenv, find_dotenv\n",
    "import requests\n",
    "import base64\n",
    "\n",
    "\n",
    "# create \".env\" file and put the line with the key in it\n",
    "# OPENAI_API_KEY=\"<get_your_key_from_platform.openai.com\"\n",
    "def get_openai_api_key():\n",
    "    _ = load_dotenv(find_dotenv())\n",
    "\n",
    "    return os.getenv(\"OPENAI_API_KEY\")\n",
    "\n",
    "OPENAI_API_KEY = get_openai_api_key()\n",
    "# client = openai.OpenAI(api_key=OPENAI_API_KEY)  # Replace \"YOUR_API_KEY\" with your actual OpenAI API key\n",
    "\n",
    "azure_endpoint=os.getenv(\"AZURE_OPENAI_ENDPOINT\")\n",
    "client = AzureOpenAI(\n",
    "    api_key=os.getenv(\"AZURE_OPENAI_API_KEY\"),  \n",
    "    api_version=\"2024-07-01-preview\",\n",
    "    azure_endpoint=os.getenv(\"AZURE_OPENAI_ENDPOINT\")\n",
    ")\n",
    "\n",
    "GPT_3_5_TURBO = \"gpt-3.5-turbo\"\n",
    "GPT_4_TURBO_PREVIEW = \"gpt-4-turbo-preview\"\n",
    "GPT_4 = 'gpt-4'\n",
    "GPT_4o = 'gpt-4o'\n",
    "\n",
    "def generate_finnish_sentences(words, model=GPT_3_5_TURBO):\n",
    "    word_to_sentence = {}\n",
    "    for word in tqdm(words, desc=\"Generating sentece examplesn\"):\n",
    "        #         prompt = f\"Generate a simple, useful, beginner-friendly sentence in Finnish using the word or phrase: '{word}'. The sentence should be useful and easy to understand for someone learning Finnish.\"\n",
    "        # prompt = f\"Generate a simple, useful, beginner-friendly sentence in Finnish using the word or phrase: '{word}'. The sentence should be useful and easy to understand for someone learning Finnish. Provide only the Finnish sentence, without any translation or additional information.\"\n",
    "        prompt = f'''Generate an idiomatic, simple, useful sentence in Finnish using the word or phrase:\n",
    "        \n",
    "        === \n",
    "        '{word}'\n",
    "        ===\n",
    "         \n",
    "        The sentence should be useful and easy to understand for someone learning Finnish. Provide only the Finnish sentence, without any translation or additional information.\n",
    "        '''\n",
    "\n",
    "        response = client.chat.completions.create(\n",
    "            model=model,\n",
    "            messages=[{\n",
    "                \"role\": \"user\",\n",
    "                \"content\": prompt\n",
    "            }]\n",
    "        )\n",
    "\n",
    "        #         print(response.choices[0].message)\n",
    "\n",
    "        # Correctly accessing the response data\n",
    "        # Ensure you're correctly interpreting the structure of the response\n",
    "        sentence = response.choices[0].message.content if response.choices else 'No response generated.'\n",
    "\n",
    "        # Map the word or phrase to the generated sentence\n",
    "        word_to_sentence[word] = sentence.strip()\n",
    "    return word_to_sentence\n",
    "\n",
    "\n",
    "# system_prompt = \"You are a professional russian-finnish translator. Use 'ё' in russian written language instead of 'е', when it is grammatically more correct.\"  # When 'е' suits better use it.\" #\" When 'е' suits better use it.\"\n",
    "system_prompt = '''You are a professional russian-finnish translator. '''\n",
    "\n",
    "\n"
   ]
  },
  {
   "cell_type": "code",
   "execution_count": 2,
   "id": "c7c01c51",
   "metadata": {},
   "outputs": [
    {
     "name": "stdout",
     "output_type": "stream",
     "text": [
      "https://pectoazureopenai.openai.azure.com/openai/deployments/gpt-4o/chat/completions?api-version=2023-03-15-preview\n"
     ]
    }
   ],
   "source": [
    "print(azure_endpoint)"
   ]
  },
  {
   "cell_type": "code",
   "execution_count": 5,
   "id": "ca19fc3c",
   "metadata": {},
   "outputs": [
    {
     "data": {
      "application/vnd.jupyter.widget-view+json": {
       "model_id": "18792f33b1274f54b82d09d5ef2c7098",
       "version_major": 2,
       "version_minor": 0
      },
      "text/plain": [
       "Generating sentece examplesn:   0%|          | 0/1 [00:00<?, ?it/s]"
      ]
     },
     "metadata": {},
     "output_type": "display_data"
    },
    {
     "data": {
      "text/plain": [
       "{'minä': 'Minä rakastan musiikkia.'}"
      ]
     },
     "execution_count": 5,
     "metadata": {},
     "output_type": "execute_result"
    }
   ],
   "source": [
    "generate_finnish_sentences([\"minä\"], model=GPT_4o)"
   ]
  },
  {
   "cell_type": "code",
   "execution_count": null,
   "id": "c5acfbaa",
   "metadata": {},
   "outputs": [],
   "source": []
  }
 ],
 "metadata": {
  "kernelspec": {
   "display_name": "Python 3 (ipykernel)",
   "language": "python",
   "name": "python3"
  },
  "language_info": {
   "codemirror_mode": {
    "name": "ipython",
    "version": 3
   },
   "file_extension": ".py",
   "mimetype": "text/x-python",
   "name": "python",
   "nbconvert_exporter": "python",
   "pygments_lexer": "ipython3",
   "version": "3.11.5"
  }
 },
 "nbformat": 4,
 "nbformat_minor": 5
}
