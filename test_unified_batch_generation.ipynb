{
 "cells": [
  {
   "cell_type": "markdown",
   "metadata": {},
   "source": [
    "# Тестирование библиотеки пакетной генерации карточек\n",
    "\n",
    "Этот ноутбук демонстрирует работу библиотеки `batch_card_generation_pipeline.py` для пакетной генерации и оценки карточек."
   ]
  },
  {
   "cell_type": "code",
   "execution_count": 1,
   "metadata": {},
   "outputs": [],
   "source": [
    "import sys\n",
    "import os\n",
    "from pathlib import Path\n",
    "\n",
    "# Добавляем путь к модулю в PYTHONPATH\n",
    "module_path = str(Path.cwd().parent)\n",
    "if module_path not in sys.path:\n",
    "    sys.path.append(module_path)\n",
    "\n",
    "from vocab_preparation.batch_card_generation_pipeline import (\n",
    "    process_cards_batch,\n",
    "    create_cards_list,\n",
    "    TranslationQuality\n",
    ")"
   ]
  },
  {
   "cell_type": "markdown",
   "metadata": {},
   "source": [
    "## Подготовка тестовых данных\n",
    "\n",
    "Создадим тестовый набор карточек для проверки работы библиотеки."
   ]
  },
  {
   "cell_type": "code",
   "execution_count": 2,
   "metadata": {},
   "outputs": [],
   "source": [
    "import openai\n",
    "from openai import AzureOpenAI, AsyncAzureOpenAI\n",
    "from tqdm.notebook import tqdm\n",
    "import os\n",
    "from dotenv import load_dotenv, find_dotenv\n",
    "import requests\n",
    "import base64\n",
    "\n",
    "GPT_3_5_TURBO = \"gpt-3.5-turbo\"\n",
    "GPT_4_TURBO_PREVIEW = \"gpt-4-turbo-preview\"\n",
    "GPT_4 = 'gpt-4'\n",
    "GPT_4o = 'gpt-4o'\n",
    "\n",
    "def get_openai_api_key():\n",
    "    _ = load_dotenv(find_dotenv())\n",
    "\n",
    "    return os.getenv(\"OPENAI_API_KEY\")\n",
    "\n",
    "OPENAI_API_KEY = get_openai_api_key()\n",
    "azure_endpoint=os.getenv(\"AZURE_OPENAI_ENDPOINT\")\n",
    "client = AzureOpenAI(\n",
    "    api_key=os.getenv(\"AZURE_OPENAI_API_KEY\"),  \n",
    "    api_version=\"2024-07-01-preview\",\n",
    "    azure_endpoint=os.getenv(\"AZURE_OPENAI_ENDPOINT\")\n",
    ")"
   ]
  },
  {
   "cell_type": "code",
   "execution_count": 3,
   "metadata": {},
   "outputs": [],
   "source": [
    "source_lang = 'Finnish'\n",
    "secondary_lang = 'Russian'\n",
    "target_lang = 'English'"
   ]
  },
  {
   "cell_type": "code",
   "execution_count": 4,
   "metadata": {},
   "outputs": [],
   "source": [
    "import json\n",
    "\n",
    "\n",
    "EVAL_FOLDER = '../../data/russian-english/cards/eval_results/ru_eng_'\n",
    "def get_ru_finn_eval_results_from_file(file_name):\n",
    "    data = []\n",
    "    file_path = EVAL_FOLDER + file_name\n",
    "    with open(file_path, 'r', encoding='utf-8') as file:\n",
    "        data = json.load(file)\n",
    "    return data\n",
    "\n",
    "EVAL_FOLDER = '../../data/english-finnish/cards/eval_results/eng_finn_'\n",
    "def get_eng_finn_eval_results_from_file(file_name):\n",
    "    data = []\n",
    "    file_path = EVAL_FOLDER + file_name\n",
    "    with open(file_path, 'r', encoding='utf-8') as file:\n",
    "        data = json.load(file)\n",
    "    return data\n",
    "\n",
    "RU_ENG_OUTPUT_FOLDER = '../../data/russian-english/cards/test_cards/ru_eng_'\n",
    "def get_ru_eng_cards_from_file(file_name):\n",
    "    data = []\n",
    "    file_path = OUTPUT_FOLDER + file_name\n",
    "    with open(file_path, 'r', encoding='utf-8') as file:\n",
    "        data = json.load(file)\n",
    "    return data\n",
    "\n",
    "\n",
    "RU_FINN_FOLDER_WITH_JSON = '../../data/russian-finnish/cards/curated_platform_cards/'\n",
    "def get_ru_finn_cards_from_file(file_name):\n",
    "    data = []\n",
    "    file_path = RU_FINN_FOLDER_WITH_JSON + file_name\n",
    "    with open(file_path, 'r', encoding='utf-8') as file:\n",
    "        data = json.load(file)\n",
    "    res = []\n",
    "    for card in data:\n",
    "        if 'isMarkedDeleted' not in card.keys():\n",
    "            res.append(card)\n",
    "    return res\n",
    "\n",
    "\n",
    "ENG_FINN_OUTPUT_FOLDER = '../../data/english-finnish/cards/test_cards/eng_finn_'\n",
    "def get_eng_finn_cards_from_file(file_name):\n",
    "    data = []\n",
    "    file_path = ENG_FINN_OUTPUT_FOLDER + file_name\n",
    "    with open(file_path, 'r', encoding='utf-8') as file:\n",
    "        data = json.load(file)\n",
    "    return data\n",
    "\n",
    "\n",
    "OUTPUT_FOLDER = '../../data/english-finnish/cards/test_cards/eng_finn_'\n",
    "def write_cards_to_file(file_name, cards):\n",
    "    file_path = OUTPUT_FOLDER + file_name\n",
    "    with open(file_path, 'w', encoding='utf-8') as f:\n",
    "        json.dump(cards, f, ensure_ascii=False, indent=2)\n",
    "        \n",
    "        \n",
    "EVAL_FOLDER = '../../data/english-finnish/cards/eval_results/eng_finn_'\n",
    "def write_eval_results_to_file(file_name, results):\n",
    "    file_path = EVAL_FOLDER + file_name\n",
    "    with open(file_path, 'w', encoding='utf-8') as f:\n",
    "        json.dump(results, f, ensure_ascii=False, indent=2)"
   ]
  },
  {
   "cell_type": "code",
   "execution_count": 5,
   "metadata": {},
   "outputs": [],
   "source": [
    "def get_ru_fi_cards():\n",
    "    all_cards = list()\n",
    "    \n",
    "    file_names = [f'sm1_new_kap{i}.json' for i in range(1, 10)]\n",
    "    file_names.extend([f'sm2_new_kap{i}.json' for i in range(1, 9)])\n",
    "    file_names.append('sm2_new_puhekieli.json')\n",
    "    file_names.extend([f'sm3_kap{i}.json' for i in range(1, 9)])\n",
    "    file_names.extend([f'sm4_kap{i}.json' for i in range(1, 6)])\n",
    "    \n",
    "    for file_name in file_names:\n",
    "        cards = get_ru_finn_cards_from_file(file_name)\n",
    "        all_cards.extend(cards)\n",
    "    \n",
    "    return all_cards"
   ]
  },
  {
   "cell_type": "code",
   "execution_count": 6,
   "metadata": {},
   "outputs": [],
   "source": [
    "import numpy as np\n",
    "\n",
    "ru_fi_cards_sample = np.random.choice(list(get_ru_fi_cards()), size=300, replace=False)"
   ]
  },
  {
   "cell_type": "markdown",
   "metadata": {},
   "source": [
    "## Создание списков карточек\n",
    "\n",
    "Разделим карточки на исходный и вторичный языки."
   ]
  },
  {
   "cell_type": "code",
   "execution_count": 8,
   "metadata": {},
   "outputs": [
    {
     "name": "stdout",
     "output_type": "stream",
     "text": [
      "Количество карточек: 300\n",
      "\n",
      "Пример карточки на исходном языке:\n",
      "{'word': 'häneen', 'sentence': 'Koskit häneen.', 'id': 2905}\n",
      "\n",
      "Пример карточки на вторичном языке:\n",
      "{'word': 'к нему, к ней', 'sentence': 'Ты прикоснулся к нему.', 'id': 2905}\n"
     ]
    }
   ],
   "source": [
    "secondary_cards = [{'word': card[\"wordFirstLang\"], 'sentence': card[\"sentenceFirstLang\"], 'id': card[\"id\"]} for card in ru_fi_cards_sample]\n",
    "source_cards = [{'word': card[\"wordSecondLang\"], 'sentence': card[\"sentenceSecondLang\"], 'id': card[\"id\"]} for card in ru_fi_cards_sample]\n",
    "\n",
    "print(f\"Количество карточек: {len(source_cards)}\")\n",
    "print(\"\\nПример карточки на исходном языке:\")\n",
    "print(source_cards[0])\n",
    "print(\"\\nПример карточки на вторичном языке:\")\n",
    "print(secondary_cards[0])"
   ]
  },
  {
   "cell_type": "markdown",
   "metadata": {},
   "source": [
    "## Тестирование пакетной генерации\n",
    "\n",
    "Запустим процесс генерации карточек с разными размерами пакетов для сравнения производительности."
   ]
  },
  {
   "cell_type": "code",
   "execution_count": 13,
   "metadata": {},
   "outputs": [
    {
     "data": {
      "application/vnd.jupyter.widget-view+json": {
       "model_id": "9495304a997a4e1f88010c87932aed73",
       "version_major": 2,
       "version_minor": 0
      },
      "text/plain": [
       "Тестирование размеров батча:   0%|          | 0/4 [00:00<?, ?it/s]"
      ]
     },
     "metadata": {},
     "output_type": "display_data"
    },
    {
     "name": "stdout",
     "output_type": "stream",
     "text": [
      "\n",
      "Результаты тестирования различных размеров батча:\n",
      "--------------------------------------------------------------------------------\n",
      "Размер батча    Время (с)       Карточек/с      Успешность      Успешных        Неудачных      \n",
      "--------------------------------------------------------------------------------\n",
      "1               6168.21 сек         0.05         96.0%         288             12             \n",
      "2               3317.83 сек         0.09         97.0%         291             9              \n",
      "3               2579.85 сек         0.11         97.7%         293             7              \n",
      "5               1466.09 сек         0.20         98.3%         295             5              \n"
     ]
    }
   ],
   "source": [
    "import time\n",
    "from tqdm.notebook import tqdm\n",
    "\n",
    "def test_batch_size(batch_size: int):\n",
    "    start_time = time.time()\n",
    "    \n",
    "    generated_cards, evaluation_results = process_cards_batch(\n",
    "        source_cards,\n",
    "        secondary_cards,\n",
    "        source_lang=\"Finnish\",\n",
    "        target_lang=\"English\",\n",
    "        secondary_lang=\"Russian\",\n",
    "        batch_size=batch_size,\n",
    "        max_improvement_attempts=5,  # Changed from max_iterations\n",
    "        max_retries=10\n",
    "    )\n",
    "    \n",
    "    end_time = time.time()\n",
    "    duration = end_time - start_time\n",
    "    \n",
    "    # Calculate statistics\n",
    "    total_cards = len(source_cards)\n",
    "    successful_cards = len(generated_cards)\n",
    "    failed_cards = total_cards - successful_cards\n",
    "    \n",
    "    return {\n",
    "        \"batch_size\": batch_size,\n",
    "        \"duration\": duration,\n",
    "        \"cards_per_second\": successful_cards / duration if duration > 0 else 0,\n",
    "        \"success_rate\": successful_cards / total_cards if total_cards > 0 else 0,\n",
    "        \"total_cards\": total_cards,\n",
    "        \"successful_cards\": successful_cards,\n",
    "        \"failed_cards\": failed_cards,\n",
    "        \"generated_cards\": generated_cards,\n",
    "        \"evaluation_results\": evaluation_results\n",
    "    }\n",
    "\n",
    "def print_results(results):\n",
    "    print(\"\\nРезультаты тестирования различных размеров батча:\")\n",
    "    print(\"-\" * 80)\n",
    "    print(f\"{'Размер батча':<15} {'Время (с)':<15} {'Карточек/с':<15} {'Успешность':<15} {'Успешных':<15} {'Неудачных':<15}\")\n",
    "    print(\"-\" * 80)\n",
    "    \n",
    "    for result in results:\n",
    "        print(f\"{result['batch_size']:<15} \"\n",
    "              f\"{result['duration']:.2f} сек{'':<8} \"\n",
    "              f\"{result['cards_per_second']:.2f}{'':<8} \"\n",
    "              f\"{result['success_rate']*100:.1f}%{'':<8} \"\n",
    "              f\"{result['successful_cards']:<15} \"\n",
    "              f\"{result['failed_cards']:<15}\")\n",
    "\n",
    "# Тестируем разные размеры батча\n",
    "batch_sizes = [1, 2, 3, 5]\n",
    "results = []\n",
    "\n",
    "for batch_size in tqdm(batch_sizes, desc=\"Тестирование размеров батча\"):\n",
    "    result = test_batch_size(batch_size)\n",
    "    results.append(result)\n",
    "\n",
    "# Выводим результаты\n",
    "print_results(results)"
   ]
  },
  {
   "cell_type": "markdown",
   "metadata": {},
   "source": [
    "## Анализ результатов\n",
    "\n",
    "Проанализируем результаты тестирования разных размеров пакетов."
   ]
  },
  {
   "cell_type": "code",
   "execution_count": 14,
   "metadata": {},
   "outputs": [
    {
     "data": {
      "image/png": "[encoded data removed]",
      "text/plain": [
       "<Figure size 1500x500 with 2 Axes>"
      ]
     },
     "metadata": {},
     "output_type": "display_data"
    }
   ],
   "source": [
    "import pandas as pd\n",
    "import matplotlib.pyplot as plt\n",
    "import seaborn as sns\n",
    "\n",
    "\n",
    "results_df = pd.DataFrame([{\n",
    "    'batch_size': r['batch_size'],\n",
    "    'duration': r['duration'],\n",
    "    'cards_per_second': r['cards_per_second'],\n",
    "    'success_rate': r['success_rate']\n",
    "} for r in results])\n",
    "\n",
    "fig, (ax1, ax2) = plt.subplots(1, 2, figsize=(15, 5))\n",
    "\n",
    "sns.barplot(data=results_df, x='batch_size', y='cards_per_second', ax=ax1)\n",
    "ax1.set_title('Скорость обработки карточек')\n",
    "ax1.set_xlabel('Размер пакета')\n",
    "ax1.set_ylabel('Карточек в секунду')\n",
    "\n",
    "sns.barplot(data=results_df, x='batch_size', y='success_rate', ax=ax2)\n",
    "ax2.set_title('Процент успешных карточек')\n",
    "ax2.set_xlabel('Размер пакета')\n",
    "ax2.set_ylabel('Процент успешных')\n",
    "\n",
    "plt.tight_layout()\n",
    "plt.show()"
   ]
  },
  {
   "cell_type": "markdown",
   "metadata": {},
   "source": [
    "## Анализ качества переводов\n",
    "\n",
    "Проанализируем качество переводов для лучшего размера пакета."
   ]
  },
  {
   "cell_type": "code",
   "execution_count": 15,
   "metadata": {},
   "outputs": [
    {
     "name": "stdout",
     "output_type": "stream",
     "text": [
      "Лучший размер пакета: 5\n",
      "Скорость обработки: 0.20 карточек/сек\n",
      "Процент успешных: 98.3%\n",
      "\n",
      "Статистика по критериям оценки:\n",
      "sentenceCorrectness: 100.0%\n",
      "wordUsage: 100.0%\n",
      "wordTranslationAccuracy: 100.0%\n",
      "sentenceTranslationAccuracy: 100.0%\n",
      "\n",
      "Примеры переводов:\n",
      "\n",
      "Карточка 1:\n",
      "Исходное слово (FI): maailmanmestaruuskilpailut\n",
      "Переведенное слово (EN): world championship\n",
      "Исходное предложение (FI): Maailmanmestaruuskilpailut järjestetään ensi kuussa.\n",
      "Переведенное предложение (EN): The World Championship will take place next month.\n",
      "\n",
      "Карточка 2:\n",
      "Исходное слово (FI): nauraa\n",
      "Переведенное слово (EN): laugh\n",
      "Исходное предложение (FI): Lapsi nauraa.\n",
      "Переведенное предложение (EN): The child is laughing.\n",
      "\n",
      "Карточка 3:\n",
      "Исходное слово (FI): piirre\n",
      "Переведенное слово (EN): trait\n",
      "Исходное предложение (FI): Hänen paras piirteensä on ystävällisyys.\n",
      "Переведенное предложение (EN): His/her best trait is kindness.\n"
     ]
    }
   ],
   "source": [
    "# Находим лучший результат по скорости\n",
    "best_result = max(results, key=lambda x: x['cards_per_second'])\n",
    "\n",
    "print(f\"Лучший размер пакета: {best_result['batch_size']}\")\n",
    "print(f\"Скорость обработки: {best_result['cards_per_second']:.2f} карточек/сек\")\n",
    "print(f\"Процент успешных: {best_result['success_rate']*100:.1f}%\")\n",
    "\n",
    "# Анализируем результаты оценки\n",
    "evaluation_metrics = {\n",
    "    'sentenceCorrectness': 0,\n",
    "    'wordUsage': 0,\n",
    "    'wordTranslationAccuracy': 0,\n",
    "    'sentenceTranslationAccuracy': 0\n",
    "}\n",
    "\n",
    "for eval_result in best_result['evaluation_results']:\n",
    "    for metric in evaluation_metrics:\n",
    "        if eval_result[metric]['isCorrect']:\n",
    "            evaluation_metrics[metric] += 1\n",
    "\n",
    "print(\"\\nСтатистика по критериям оценки:\")\n",
    "for metric, count in evaluation_metrics.items():\n",
    "    percentage = (count / len(best_result['evaluation_results'])) * 100\n",
    "    print(f\"{metric}: {percentage:.1f}%\")\n",
    "\n",
    "print(\"\\nПримеры переводов:\")\n",
    "for i, (source, generated) in enumerate(zip(source_cards[:3], best_result['generated_cards'][:3])):\n",
    "    print(f\"\\nКарточка {i+1}:\")\n",
    "    print(f\"Исходное слово (FI): {source['word']}\")\n",
    "    print(f\"Переведенное слово (EN): {generated['word']}\")\n",
    "    print(f\"Исходное предложение (FI): {source['sentence']}\")\n",
    "    print(f\"Переведенное предложение (EN): {generated['sentence']}\")"
   ]
  },
  {
   "cell_type": "markdown",
   "metadata": {},
   "source": [
    "### Тестирование генерации с помощью MoA"
   ]
  },
  {
   "cell_type": "code",
   "execution_count": null,
   "metadata": {},
   "outputs": [
    {
     "data": {
      "application/vnd.jupyter.widget-view+json": {
       "model_id": "6c47c5c9ecfb46ddb12df6cadd5d7854",
       "version_major": 2,
       "version_minor": 0
      },
      "text/plain": [
       "Тестирование размеров батча:   0%|          | 0/4 [00:00<?, ?it/s]"
      ]
     },
     "metadata": {},
     "output_type": "display_data"
    }
   ],
   "source": [
    "import time\n",
    "from tqdm.notebook import tqdm\n",
    "\n",
    "def test_batch_size(batch_size: int):\n",
    "    start_time = time.time()\n",
    "    \n",
    "    generated_cards, evaluation_results = process_cards_batch(\n",
    "        source_cards,\n",
    "        secondary_cards,\n",
    "        source_lang=\"Finnish\",\n",
    "        target_lang=\"English\",\n",
    "        secondary_lang=\"Russian\",\n",
    "        batch_size=batch_size,\n",
    "        max_improvement_attempts=5,  # Changed from max_iterations\n",
    "        max_retries=10,\n",
    "        use_moa=True\n",
    "    )\n",
    "    \n",
    "    end_time = time.time()\n",
    "    duration = end_time - start_time\n",
    "    \n",
    "    # Calculate statistics\n",
    "    total_cards = len(source_cards)\n",
    "    successful_cards = len(generated_cards)\n",
    "    failed_cards = total_cards - successful_cards\n",
    "    \n",
    "    return {\n",
    "        \"batch_size\": batch_size,\n",
    "        \"duration\": duration,\n",
    "        \"cards_per_second\": successful_cards / duration if duration > 0 else 0,\n",
    "        \"success_rate\": successful_cards / total_cards if total_cards > 0 else 0,\n",
    "        \"total_cards\": total_cards,\n",
    "        \"successful_cards\": successful_cards,\n",
    "        \"failed_cards\": failed_cards,\n",
    "        \"generated_cards\": generated_cards,\n",
    "        \"evaluation_results\": evaluation_results\n",
    "    }\n",
    "\n",
    "def print_results(results):\n",
    "    print(\"\\nРезультаты тестирования различных размеров батча:\")\n",
    "    print(\"-\" * 80)\n",
    "    print(f\"{'Размер батча':<15} {'Время (с)':<15} {'Карточек/с':<15} {'Успешность':<15} {'Успешных':<15} {'Неудачных':<15}\")\n",
    "    print(\"-\" * 80)\n",
    "    \n",
    "    for result in results:\n",
    "        print(f\"{result['batch_size']:<15} \"\n",
    "              f\"{result['duration']:.2f} сек{'':<8} \"\n",
    "              f\"{result['cards_per_second']:.2f}{'':<8} \"\n",
    "              f\"{result['success_rate']*100:.1f}%{'':<8} \"\n",
    "              f\"{result['successful_cards']:<15} \"\n",
    "              f\"{result['failed_cards']:<15}\")\n",
    "\n",
    "# Тестируем разные размеры батча\n",
    "batch_sizes = [1, 2, 3, 5]\n",
    "moa_results = []\n",
    "\n",
    "for batch_size in tqdm(batch_sizes, desc=\"Тестирование размеров батча\"):\n",
    "    result = test_batch_size(batch_size)\n",
    "    moa_results.append(result)\n",
    "\n",
    "# Выводим результаты\n",
    "print_results(moa_results)"
   ]
  },
  {
   "cell_type": "code",
   "execution_count": 10,
   "metadata": {},
   "outputs": [
    {
     "data": {
      "image/png": "[encoded data removed]",
      "text/plain": [
       "<Figure size 1500x500 with 2 Axes>"
      ]
     },
     "metadata": {},
     "output_type": "display_data"
    }
   ],
   "source": [
    "import pandas as pd\n",
    "import matplotlib.pyplot as plt\n",
    "import seaborn as sns\n",
    "\n",
    "\n",
    "moa_results_df = pd.DataFrame([{\n",
    "    'batch_size': r['batch_size'],\n",
    "    'duration': r['duration'],\n",
    "    'cards_per_second': r['cards_per_second'],\n",
    "    'success_rate': r['success_rate']\n",
    "} for r in moa_results])\n",
    "\n",
    "fig, (ax1, ax2) = plt.subplots(1, 2, figsize=(15, 5))\n",
    "\n",
    "sns.barplot(data=moa_results_df, x='batch_size', y='cards_per_second', ax=ax1)\n",
    "ax1.set_title('Скорость обработки карточек')\n",
    "ax1.set_xlabel('Размер пакета')\n",
    "ax1.set_ylabel('Карточек в секунду')\n",
    "\n",
    "sns.barplot(data=moa_results_df, x='batch_size', y='success_rate', ax=ax2)\n",
    "ax2.set_title('Процент успешных карточек')\n",
    "ax2.set_xlabel('Размер пакета')\n",
    "ax2.set_ylabel('Процент успешных')\n",
    "\n",
    "plt.tight_layout()\n",
    "plt.show()"
   ]
  },
  {
   "cell_type": "code",
   "execution_count": null,
   "metadata": {},
   "outputs": [],
   "source": []
  }
 ],
 "metadata": {
  "kernelspec": {
   "display_name": "Python 3",
   "language": "python",
   "name": "python3"
  },
  "language_info": {
   "codemirror_mode": {
    "name": "ipython",
    "version": 3
   },
   "file_extension": ".py",
   "mimetype": "text/x-python",
   "name": "python",
   "nbconvert_exporter": "python",
   "pygments_lexer": "ipython3",
   "version": "3.13.0"
  }
 },
 "nbformat": 4,
 "nbformat_minor": 4
}
