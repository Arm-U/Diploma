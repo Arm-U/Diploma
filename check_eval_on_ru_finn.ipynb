{
 "cells": [
  {
   "cell_type": "code",
   "execution_count": 1,
   "metadata": {},
   "outputs": [],
   "source": [
    "import openai\n",
    "from openai import AzureOpenAI, AsyncAzureOpenAI\n",
    "from tqdm.notebook import tqdm\n",
    "import os\n",
    "from dotenv import load_dotenv, find_dotenv\n",
    "import requests\n",
    "import base64\n",
    "\n",
    "GPT_3_5_TURBO = \"gpt-3.5-turbo\"\n",
    "GPT_4_TURBO_PREVIEW = \"gpt-4-turbo-preview\"\n",
    "GPT_4 = 'gpt-4'\n",
    "GPT_4o = 'gpt-4o'\n",
    "\n",
    "def get_openai_api_key():\n",
    "    _ = load_dotenv(find_dotenv())\n",
    "\n",
    "    return os.getenv(\"OPENAI_API_KEY\")\n",
    "\n",
    "OPENAI_API_KEY = get_openai_api_key()\n",
    "azure_endpoint=os.getenv(\"AZURE_OPENAI_ENDPOINT\")\n",
    "client = AzureOpenAI(\n",
    "    api_key=os.getenv(\"AZURE_OPENAI_API_KEY\"),  \n",
    "    api_version=\"2024-07-01-preview\",\n",
    "    azure_endpoint=os.getenv(\"AZURE_OPENAI_ENDPOINT\")\n",
    ")"
   ]
  },
  {
   "cell_type": "code",
   "execution_count": 2,
   "metadata": {},
   "outputs": [],
   "source": [
    "import json\n",
    "\n",
    "\n",
    "EVAL_FOLDER = '../../data/russian-english/cards/eval_results/ru_eng_'\n",
    "def get_eval_results_from_file(file_name):\n",
    "    data = []\n",
    "    file_path = EVAL_FOLDER + file_name\n",
    "    with open(file_path, 'r', encoding='utf-8') as file:\n",
    "        data = json.load(file)\n",
    "    return data\n",
    "\n",
    "\n",
    "RU_ENG_OUTPUT_FOLDER = '../../data/russian-english/cards/test_cards/ru_eng_'\n",
    "def get_ru_eng_cards_from_file(file_name):\n",
    "    data = []\n",
    "    file_path = OUTPUT_FOLDER + file_name\n",
    "    with open(file_path, 'r', encoding='utf-8') as file:\n",
    "        data = json.load(file)\n",
    "    return data\n",
    "\n",
    "\n",
    "RU_FINN_FOLDER_WITH_JSON = '../../data/russian-finnish/cards/curated_platform_cards/'\n",
    "def get_ru_finn_cards_from_file(file_name):\n",
    "    data = []\n",
    "    file_path = RU_FINN_FOLDER_WITH_JSON + file_name\n",
    "    with open(file_path, 'r', encoding='utf-8') as file:\n",
    "        data = json.load(file)\n",
    "    res = []\n",
    "    for card in data:\n",
    "        if 'isMarkedDeleted' not in card.keys():\n",
    "            res.append(card)\n",
    "    return res\n",
    "\n",
    "\n",
    "OUTPUT_FOLDER = '../../data/russian-english/cards/test_cards/ru_eng_'\n",
    "def write_cards_to_file(file_name, cards):\n",
    "    file_path = OUTPUT_FOLDER + file_name\n",
    "    with open(file_path, 'w', encoding='utf-8') as f:\n",
    "        json.dump(cards, f, ensure_ascii=False, indent=2)\n",
    "        \n",
    "        \n",
    "EVAL_FOLDER = '../../data/russian-english/cards/eval_results/ru_eng_'\n",
    "def write_eval_results_to_file(file_name, results):\n",
    "    file_path = EVAL_FOLDER + file_name\n",
    "    with open(file_path, 'w', encoding='utf-8') as f:\n",
    "        json.dump(results, f, ensure_ascii=False, indent=2)"
   ]
  },
  {
   "cell_type": "code",
   "execution_count": 3,
   "metadata": {},
   "outputs": [],
   "source": [
    "def eval_phrase_card(card, first_lang='Russian', second_lang='Finnish', model=GPT_4o):\n",
    "    src_word, src_sentence, tr_word, tr_sentence, tr_id = card.values()\n",
    "\n",
    "    system_prompt = f'''You are a multilingual assistant who is proficient in {first_lang} and {second_lang}.'''\n",
    "\n",
    "    user_prompt = f\"\"\"\n",
    "**Task**: Evaluate the correctness and naturalness of {second_lang} translations for a given {first_lang} word or phrase. Confirm the following:\n",
    "\n",
    "The {second_lang} translation accurately conveys the meaning and context of the {first_lang} version.\n",
    "The {second_lang} translation sounds natural to a native speaker.\n",
    "\n",
    "**Guidelines**:\n",
    "\n",
    "The translated word or phrase does not need to be the most common or best possible translation of the {first_lang} version. As long as it retains the original meaning and sounds natural and correct, it is acceptable.\n",
    "Your evaluation should focus on whether the translation is acceptable or identify any issues if present.\n",
    "If corrections are needed, provide only the final corrected {second_lang} translation.\n",
    "If no correction is needed, set suggestedFix to null.\n",
    "\n",
    "**Input Example**:\n",
    "\n",
    "Word or Phrase in {first_lang}: {src_word}\n",
    "Word or Phrase in {second_lang}: {tr_word}\n",
    "\n",
    "**Output Format**: Respond in JSON using the structure below:\n",
    " \n",
    "{{\n",
    "  \"translationAccuracy\": {{\n",
    "    \"isCorrect\": true/false,\n",
    "    \"explanation\": \"Detailed explanation if there is an issue or why it's correct\",\n",
    "    \"suggestedFix\": \"Suggested correction if there is an issue or null if no correction is needed\"\n",
    "  }}\n",
    "}}\n",
    "\n",
    "**Notes**:\n",
    "\n",
    "The {second_lang} translation does not have to be the most commonly used or the best translation, as long as it preserves the meaning of the {first_lang} word or phrase.\n",
    "Prioritize naturalness, correctness, and clarity when evaluating the translation.\n",
    "Ensure all explanations are detailed, clear, and actionable.\n",
    "    \"\"\"\n",
    "\n",
    "    response = client.chat.completions.create(\n",
    "      model=model,\n",
    "      response_format={ \"type\": \"json_object\" },\n",
    "      messages=[\n",
    "        {\"role\": \"system\", \"content\": system_prompt.strip()},\n",
    "        {\"role\": \"user\", \"content\": user_prompt.strip()}\n",
    "      ]\n",
    "    )\n",
    "\n",
    "    res = json.loads(response.choices[0].message.content.strip())\n",
    "    res['id'] = tr_id\n",
    "\n",
    "    return res"
   ]
  },
  {
   "cell_type": "code",
   "execution_count": 4,
   "metadata": {},
   "outputs": [],
   "source": [
    "def eval_full_card(card, first_lang='Russian', second_lang='Finnish', model=GPT_4o):\n",
    "    src_word, src_sentence, tr_word, tr_sentence, tr_id = card.values()\n",
    "\n",
    "    system_prompt = f'''You are a multilingual assistant who is proficient in {first_lang} and {second_lang}.'''\n",
    "\n",
    "    user_prompt = f\"\"\"\n",
    "**Task**: Evaluate the correctness and naturalness of an {second_lang} word and sentence based on their translations from {first_lang}. Assess the following:\n",
    "\n",
    "The quality and naturalness of the {second_lang} sentence.\n",
    "The accuracy of the word’s translation and its usage in the sentence.\n",
    "The overall accuracy of the translations for both the word and sentence from {first_lang} to {second_lang}.\n",
    "\n",
    "**Evaluation Points**:\n",
    "\n",
    "Verify that the {second_lang} sentence is grammatically correct, natural, and conveys the meaning of the {first_lang} sentence. The sentence does not need to be an exact translation as long as it preserves the original meaning and sounds natural.\n",
    "Confirm that the {second_lang} word reflects the meaning of the {first_lang} word. It is acceptable if the word appears in a different form (e.g., conjugated, pluralized) or is replaced by a synonym, as long as it aligns with the intended meaning and fits naturally within the sentence.\n",
    "Prioritize naturalness, clarity, and correctness when suggesting fixes.\n",
    "\n",
    "**Output**: Respond in JSON format as follows:\n",
    "{{\n",
    "    \"englishSentenceCorrectness\": {{\n",
    "    \"isCorrect\": true/false,\n",
    "    \"explanation\": \"Detailed explanation if there is an issue or why it's correct.\",\n",
    "    \"suggestedFix\": \"Suggested corrected sentence if there is an issue, or null if not applicable.\"\n",
    "    }},\n",
    "    \"wordUsage\": {{\n",
    "    \"isCorrect\": true/false,\n",
    "    \"explanation\": \"Detailed explanation if there is an issue or why it's correct.\",\n",
    "    \"suggestedFixSentence\": \"Suggested corrected sentence if the word usage is incorrect, or null if not applicable.\",\n",
    "    \"suggestedFixWord\": \"Suggested corrected word if the word usage is incorrect, or null if not applicable.\"\n",
    "    }},\n",
    "    \"wordTranslationAccuracy\": {{\n",
    "    \"isCorrect\": true/false,\n",
    "    \"explanation\": \"Detailed explanation if there is an issue or why it's correct.\",\n",
    "    \"suggestedFix\": \"Suggested correction for translation issues, or null if not applicable.\"\n",
    "    }},\n",
    "    \"sentenceTranslationAccuracy\": {{\n",
    "    \"isCorrect\": true/false,\n",
    "    \"explanation\": \"Detailed explanation if there is an issue or why it's correct.\",\n",
    "    \"suggestedFix\": \"Suggested correction for translation issues, or null if not applicable.\"\n",
    "    }}\n",
    "}}\n",
    "\n",
    "**Input Example**:\n",
    "\n",
    "Word in {first_lang}: {src_word}\n",
    "Word in {second_lang}: {tr_word}\n",
    "Sentence in {first_lang}: {src_sentence}\n",
    "Sentence in {second_lang}: {tr_sentence}\n",
    "\n",
    "**Notes**:\n",
    "\n",
    "The word does not have to appear in its given form as long as it fits naturally and conveys the intended meaning.\n",
    "The sentence does not have to be an exact translation of the {first_lang} sentence; preserving the meaning and sounding natural are the main priorities.\n",
    "Provide detailed explanations and actionable corrections wherever applicable.\n",
    "    \"\"\"\n",
    "\n",
    "    response = client.chat.completions.create(\n",
    "      model=model,\n",
    "      response_format={ \"type\": \"json_object\" },\n",
    "      messages=[\n",
    "        {\"role\": \"system\", \"content\": system_prompt.strip()},\n",
    "        {\"role\": \"user\", \"content\": user_prompt.strip()}\n",
    "      ]\n",
    "    )\n",
    "\n",
    "    res = json.loads(response.choices[0].message.content.strip())\n",
    "    res['id'] = tr_id\n",
    "\n",
    "    return res"
   ]
  },
  {
   "cell_type": "code",
   "execution_count": 5,
   "metadata": {},
   "outputs": [],
   "source": [
    "def check_eval(eval_result, is_phrase_card):\n",
    "    if is_phrase_card:\n",
    "        return eval_result['translationAccuracy']['isCorrect']\n",
    "    \n",
    "    w_tr_accuracy = eval_result['wordTranslationAccuracy']['isCorrect']\n",
    "    s_tr_accuracy = eval_result['sentenceTranslationAccuracy']['isCorrect']\n",
    "    s_accuracy = eval_result['englishSentenceCorrectness']['isCorrect']\n",
    "    w_accuracy = eval_result['wordUsage']['isCorrect']\n",
    "    \n",
    "    return all([w_tr_accuracy, s_tr_accuracy, s_accuracy, w_accuracy])"
   ]
  },
  {
   "cell_type": "code",
   "execution_count": 6,
   "metadata": {},
   "outputs": [],
   "source": [
    "file_names = [f'sm1_new_kap{i}.json' for i in range(1, 10)]"
   ]
  },
  {
   "cell_type": "code",
   "execution_count": 7,
   "metadata": {},
   "outputs": [
    {
     "data": {
      "text/plain": [
       "'sm1_new_kap1.json'"
      ]
     },
     "execution_count": 7,
     "metadata": {},
     "output_type": "execute_result"
    }
   ],
   "source": [
    "first_file = file_names[0]\n",
    "first_file"
   ]
  },
  {
   "cell_type": "code",
   "execution_count": 8,
   "metadata": {},
   "outputs": [],
   "source": [
    "ru_finn_cards = get_ru_finn_cards_from_file(first_file)"
   ]
  },
  {
   "cell_type": "code",
   "execution_count": 9,
   "metadata": {},
   "outputs": [],
   "source": [
    "def is_phrase_card(card):\n",
    "    return card['sentenceFirstLang'] == ''"
   ]
  },
  {
   "cell_type": "code",
   "execution_count": 10,
   "metadata": {},
   "outputs": [
    {
     "data": {
      "application/vnd.jupyter.widget-view+json": {
       "model_id": "6992dec6b5234d48a184b45169f213c8",
       "version_major": 2,
       "version_minor": 0
      },
      "text/plain": [
       "  0%|          | 0/151 [00:00<?, ?it/s]"
      ]
     },
     "metadata": {},
     "output_type": "display_data"
    }
   ],
   "source": [
    "eval_res = []\n",
    "eval_acc = []\n",
    "for card in tqdm(ru_finn_cards):\n",
    "    cur_eval = {}\n",
    "    if is_phrase_card(card):\n",
    "        cur_eval = eval_phrase_card(card)\n",
    "    else:\n",
    "        cur_eval = eval_full_card(card)\n",
    "    \n",
    "    eval_res.append(cur_eval)\n",
    "    eval_acc.append(check_eval(cur_eval, is_phrase_card(card)))"
   ]
  },
  {
   "cell_type": "code",
   "execution_count": 11,
   "metadata": {},
   "outputs": [
    {
     "name": "stdout",
     "output_type": "stream",
     "text": [
      "sm1_new_kap1.json  accuracy  0.9337748344370861\n"
     ]
    }
   ],
   "source": [
    "print(first_file, ' accuracy ', sum(eval_acc) / len(eval_acc))"
   ]
  },
  {
   "cell_type": "code",
   "execution_count": 12,
   "metadata": {},
   "outputs": [
    {
     "data": {
      "application/vnd.jupyter.widget-view+json": {
       "model_id": "0be8585da10846d689b495f5901dbb5a",
       "version_major": 2,
       "version_minor": 0
      },
      "text/plain": [
       "  0%|          | 0/8 [00:00<?, ?it/s]"
      ]
     },
     "metadata": {},
     "output_type": "display_data"
    },
    {
     "data": {
      "application/vnd.jupyter.widget-view+json": {
       "model_id": "6f87e08e16724213adc98f862912af20",
       "version_major": 2,
       "version_minor": 0
      },
      "text/plain": [
       "  0%|          | 0/192 [00:00<?, ?it/s]"
      ]
     },
     "metadata": {},
     "output_type": "display_data"
    },
    {
     "name": "stdout",
     "output_type": "stream",
     "text": [
      "sm1_new_kap2.json  accuracy  0.7760416666666666\n"
     ]
    },
    {
     "data": {
      "application/vnd.jupyter.widget-view+json": {
       "model_id": "80cf6134872c47fd9055a83b7f24e754",
       "version_major": 2,
       "version_minor": 0
      },
      "text/plain": [
       "  0%|          | 0/238 [00:00<?, ?it/s]"
      ]
     },
     "metadata": {},
     "output_type": "display_data"
    },
    {
     "name": "stdout",
     "output_type": "stream",
     "text": [
      "sm1_new_kap3.json  accuracy  0.9033613445378151\n"
     ]
    },
    {
     "data": {
      "application/vnd.jupyter.widget-view+json": {
       "model_id": "5f894252d9a749d9b6610c5a8839ca8c",
       "version_major": 2,
       "version_minor": 0
      },
      "text/plain": [
       "  0%|          | 0/267 [00:00<?, ?it/s]"
      ]
     },
     "metadata": {},
     "output_type": "display_data"
    },
    {
     "name": "stdout",
     "output_type": "stream",
     "text": [
      "sm1_new_kap4.json  accuracy  0.8838951310861424\n"
     ]
    },
    {
     "data": {
      "application/vnd.jupyter.widget-view+json": {
       "model_id": "ed644591a83a44c6ad00a7651c7658fe",
       "version_major": 2,
       "version_minor": 0
      },
      "text/plain": [
       "  0%|          | 0/153 [00:00<?, ?it/s]"
      ]
     },
     "metadata": {},
     "output_type": "display_data"
    },
    {
     "name": "stdout",
     "output_type": "stream",
     "text": [
      "sm1_new_kap5.json  accuracy  0.9084967320261438\n"
     ]
    },
    {
     "data": {
      "application/vnd.jupyter.widget-view+json": {
       "model_id": "94c0b32de63f40ce83437fb3ab634990",
       "version_major": 2,
       "version_minor": 0
      },
      "text/plain": [
       "  0%|          | 0/239 [00:00<?, ?it/s]"
      ]
     },
     "metadata": {},
     "output_type": "display_data"
    },
    {
     "name": "stdout",
     "output_type": "stream",
     "text": [
      "sm1_new_kap6.json  accuracy  0.9163179916317992\n"
     ]
    },
    {
     "data": {
      "application/vnd.jupyter.widget-view+json": {
       "model_id": "57e6734cc26047b5b49d9a0837349589",
       "version_major": 2,
       "version_minor": 0
      },
      "text/plain": [
       "  0%|          | 0/184 [00:00<?, ?it/s]"
      ]
     },
     "metadata": {},
     "output_type": "display_data"
    },
    {
     "name": "stdout",
     "output_type": "stream",
     "text": [
      "sm1_new_kap7.json  accuracy  0.9130434782608695\n"
     ]
    },
    {
     "data": {
      "application/vnd.jupyter.widget-view+json": {
       "model_id": "8bab193b98e1418192cc3dfb97df64a8",
       "version_major": 2,
       "version_minor": 0
      },
      "text/plain": [
       "  0%|          | 0/260 [00:00<?, ?it/s]"
      ]
     },
     "metadata": {},
     "output_type": "display_data"
    },
    {
     "name": "stdout",
     "output_type": "stream",
     "text": [
      "sm1_new_kap8.json  accuracy  0.8846153846153846\n"
     ]
    },
    {
     "data": {
      "application/vnd.jupyter.widget-view+json": {
       "model_id": "8bc3bc65c7cc4934a1bfaa7f288947c0",
       "version_major": 2,
       "version_minor": 0
      },
      "text/plain": [
       "  0%|          | 0/226 [00:00<?, ?it/s]"
      ]
     },
     "metadata": {},
     "output_type": "display_data"
    },
    {
     "name": "stdout",
     "output_type": "stream",
     "text": [
      "sm1_new_kap9.json  accuracy  0.9026548672566371\n"
     ]
    }
   ],
   "source": [
    "for file_name in tqdm(file_names[1:]):\n",
    "    ru_finn_cards = get_ru_finn_cards_from_file(file_name)\n",
    "\n",
    "    eval_res = []\n",
    "    eval_acc = []\n",
    "    for card in tqdm(ru_finn_cards):\n",
    "        cur_eval = {}\n",
    "        if is_phrase_card(card):\n",
    "            cur_eval = eval_phrase_card(card)\n",
    "        else:\n",
    "            cur_eval = eval_full_card(card)\n",
    "        \n",
    "        eval_res.append(cur_eval)\n",
    "        eval_acc.append(check_eval(cur_eval, is_phrase_card(card)))\n",
    "    \n",
    "    print(file_name, ' accuracy ', sum(eval_acc) / len(eval_acc))"
   ]
  },
  {
   "cell_type": "code",
   "execution_count": null,
   "metadata": {},
   "outputs": [],
   "source": []
  }
 ],
 "metadata": {
  "kernelspec": {
   "display_name": "Python 3",
   "language": "python",
   "name": "python3"
  },
  "language_info": {
   "codemirror_mode": {
    "name": "ipython",
    "version": 3
   },
   "file_extension": ".py",
   "mimetype": "text/x-python",
   "name": "python",
   "nbconvert_exporter": "python",
   "pygments_lexer": "ipython3",
   "version": "3.13.0"
  }
 },
 "nbformat": 4,
 "nbformat_minor": 2
}
