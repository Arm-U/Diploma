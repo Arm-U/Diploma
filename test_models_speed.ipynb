{
 "cells": [
  {
   "cell_type": "markdown",
   "metadata": {},
   "source": [
    "# Тестирование скорости"
   ]
  },
  {
   "cell_type": "code",
   "execution_count": 1,
   "metadata": {},
   "outputs": [],
   "source": [
    "import sys\n",
    "import os\n",
    "from pathlib import Path\n",
    "\n",
    "# Добавляем путь к модулю в PYTHONPATH\n",
    "module_path = str(Path.cwd().parent)\n",
    "if module_path not in sys.path:\n",
    "    sys.path.append(module_path)\n",
    "\n",
    "from vocab_preparation.batch_card_generation_pipeline_with_endpoints import (\n",
    "    process_cards_batch,\n",
    "    TranslationQuality\n",
    ")"
   ]
  },
  {
   "cell_type": "markdown",
   "metadata": {},
   "source": [
    "## Подготовка тестовых данных\n",
    "\n",
    "Создадим тестовый набор карточек для проверки работы библиотеки."
   ]
  },
  {
   "cell_type": "code",
   "execution_count": 2,
   "metadata": {},
   "outputs": [],
   "source": [
    "import openai\n",
    "from openai import AzureOpenAI, AsyncAzureOpenAI\n",
    "from tqdm.notebook import tqdm\n",
    "import os\n",
    "from dotenv import load_dotenv, find_dotenv\n",
    "import requests\n",
    "import base64\n",
    "\n",
    "ENDPOINTS = [\n",
    "    \"AZURE_OPENAI_ENDPOINT\",\n",
    "    \"AZURE_OPENAI_ENDPOINT_4o-3\",\n",
    "    \"AZURE_OPENAI_ENDPOINT_4o-1\",\n",
    "    \"AZURE_OPENAI_ENDPOINT_4o-1-mini\"\n",
    "]"
   ]
  },
  {
   "cell_type": "code",
   "execution_count": 3,
   "metadata": {},
   "outputs": [],
   "source": [
    "source_lang = 'Finnish'\n",
    "secondary_lang = 'Russian'\n",
    "target_lang = 'English'"
   ]
  },
  {
   "cell_type": "code",
   "execution_count": 4,
   "metadata": {},
   "outputs": [],
   "source": [
    "import json\n",
    "\n",
    "\n",
    "EVAL_FOLDER = '../../data/russian-english/cards/eval_results/ru_eng_'\n",
    "def get_ru_finn_eval_results_from_file(file_name):\n",
    "    data = []\n",
    "    file_path = EVAL_FOLDER + file_name\n",
    "    with open(file_path, 'r', encoding='utf-8') as file:\n",
    "        data = json.load(file)\n",
    "    return data\n",
    "\n",
    "EVAL_FOLDER = '../../data/english-finnish/cards/eval_results/eng_finn_'\n",
    "def get_eng_finn_eval_results_from_file(file_name):\n",
    "    data = []\n",
    "    file_path = EVAL_FOLDER + file_name\n",
    "    with open(file_path, 'r', encoding='utf-8') as file:\n",
    "        data = json.load(file)\n",
    "    return data\n",
    "\n",
    "RU_ENG_OUTPUT_FOLDER = '../../data/russian-english/cards/test_cards/ru_eng_'\n",
    "def get_ru_eng_cards_from_file(file_name):\n",
    "    data = []\n",
    "    file_path = OUTPUT_FOLDER + file_name\n",
    "    with open(file_path, 'r', encoding='utf-8') as file:\n",
    "        data = json.load(file)\n",
    "    return data\n",
    "\n",
    "\n",
    "RU_FINN_FOLDER_WITH_JSON = '../../data/russian-finnish/cards/curated_platform_cards/'\n",
    "def get_ru_finn_cards_from_file(file_name):\n",
    "    data = []\n",
    "    file_path = RU_FINN_FOLDER_WITH_JSON + file_name\n",
    "    with open(file_path, 'r', encoding='utf-8') as file:\n",
    "        data = json.load(file)\n",
    "    res = []\n",
    "    for card in data:\n",
    "        if 'isMarkedDeleted' not in card.keys():\n",
    "            res.append(card)\n",
    "    return res\n",
    "\n",
    "\n",
    "ENG_FINN_OUTPUT_FOLDER = '../../data/english-finnish/cards/test_cards/eng_finn_'\n",
    "def get_eng_finn_cards_from_file(file_name):\n",
    "    data = []\n",
    "    file_path = ENG_FINN_OUTPUT_FOLDER + file_name\n",
    "    with open(file_path, 'r', encoding='utf-8') as file:\n",
    "        data = json.load(file)\n",
    "    return data\n",
    "\n",
    "\n",
    "OUTPUT_FOLDER = '../../data/english-finnish/cards/test_cards/eng_finn_'\n",
    "def write_cards_to_file(file_name, cards):\n",
    "    file_path = OUTPUT_FOLDER + file_name\n",
    "    with open(file_path, 'w', encoding='utf-8') as f:\n",
    "        json.dump(cards, f, ensure_ascii=False, indent=2)\n",
    "        \n",
    "        \n",
    "EVAL_FOLDER = '../../data/english-finnish/cards/eval_results/eng_finn_'\n",
    "def write_eval_results_to_file(file_name, results):\n",
    "    file_path = EVAL_FOLDER + file_name\n",
    "    with open(file_path, 'w', encoding='utf-8') as f:\n",
    "        json.dump(results, f, ensure_ascii=False, indent=2)"
   ]
  },
  {
   "cell_type": "code",
   "execution_count": 5,
   "metadata": {},
   "outputs": [],
   "source": [
    "def get_ru_fi_cards():\n",
    "    all_cards = list()\n",
    "    \n",
    "    file_names = [f'sm1_new_kap{i}.json' for i in range(1, 10)]\n",
    "    file_names.extend([f'sm2_new_kap{i}.json' for i in range(1, 9)])\n",
    "    file_names.append('sm2_new_puhekieli.json')\n",
    "    file_names.extend([f'sm3_kap{i}.json' for i in range(1, 9)])\n",
    "    file_names.extend([f'sm4_kap{i}.json' for i in range(1, 6)])\n",
    "    \n",
    "    for file_name in file_names:\n",
    "        cards = get_ru_finn_cards_from_file(file_name)\n",
    "        all_cards.extend(cards)\n",
    "    \n",
    "    return all_cards"
   ]
  },
  {
   "cell_type": "code",
   "execution_count": 9,
   "metadata": {},
   "outputs": [],
   "source": [
    "import numpy as np\n",
    "\n",
    "ru_fi_cards_sample = np.random.choice(list(get_ru_fi_cards()), size=300, replace=False)"
   ]
  },
  {
   "cell_type": "markdown",
   "metadata": {},
   "source": [
    "## Создание списков карточек\n",
    "\n",
    "Разделим карточки на исходный и вторичный языки."
   ]
  },
  {
   "cell_type": "code",
   "execution_count": 10,
   "metadata": {},
   "outputs": [
    {
     "name": "stdout",
     "output_type": "stream",
     "text": [
      "Количество карточек: 300\n",
      "\n",
      "Пример карточки на исходном языке:\n",
      "{'word': 'oma-aloitteinen', 'sentence': 'Hän on erittäin oma-aloitteinen ja vastuullinen työntekijä.', 'id': 4412}\n",
      "\n",
      "Пример карточки на вторичном языке:\n",
      "{'word': 'инициативный', 'sentence': 'Он очень инициативный и ответственный работник.', 'id': 4412}\n"
     ]
    }
   ],
   "source": [
    "secondary_cards = [{'word': card[\"wordFirstLang\"], 'sentence': card[\"sentenceFirstLang\"], 'id': card[\"id\"]} for card in ru_fi_cards_sample]\n",
    "source_cards = [{'word': card[\"wordSecondLang\"], 'sentence': card[\"sentenceSecondLang\"], 'id': card[\"id\"]} for card in ru_fi_cards_sample]\n",
    "\n",
    "print(f\"Количество карточек: {len(source_cards)}\")\n",
    "print(\"\\nПример карточки на исходном языке:\")\n",
    "print(source_cards[0])\n",
    "print(\"\\nПример карточки на вторичном языке:\")\n",
    "print(secondary_cards[0])"
   ]
  },
  {
   "cell_type": "markdown",
   "metadata": {},
   "source": [
    "## Тестирование скорости генерации разных моделей\n",
    "\n",
    "Запустим процесс генерации карточек с разными моделями для сравнения производительности."
   ]
  },
  {
   "cell_type": "code",
   "execution_count": null,
   "metadata": {},
   "outputs": [
    {
     "data": {
      "application/vnd.jupyter.widget-view+json": {
       "model_id": "75e198caf41f4fb39efd3e87ffb7bba5",
       "version_major": 2,
       "version_minor": 0
      },
      "text/plain": [
       "Тестирование endpoint:   0%|          | 0/4 [00:00<?, ?it/s]"
      ]
     },
     "metadata": {},
     "output_type": "display_data"
    },
    {
     "name": "stdout",
     "output_type": "stream",
     "text": [
      "\n",
      "Результаты тестирования различных размеров батча:\n",
      "--------------------------------------------------------------------------------\n",
      "Название модели Время (с)       Карточек/с      Успешность      Успешных        Неудачных      \n",
      "--------------------------------------------------------------------------------\n",
      "ENDPOINT        16534.06 сек         0.02         97.7%         293             7              \n",
      "4o-3            1624.13 сек         0.18         96.3%         289             11             \n",
      "4o-1            1586.48 сек         0.18         97.0%         291             9              \n",
      "4o-1-mini       1638.26 сек         0.18         96.7%         290             10             \n"
     ]
    }
   ],
   "source": [
    "import time\n",
    "from tqdm.notebook import tqdm\n",
    "\n",
    "def test_endpoint_and_batch_size(endpoint:str, batch_size: int):\n",
    "    start_time = time.time()\n",
    "    \n",
    "    generated_cards, evaluation_results = process_cards_batch(\n",
    "        source_cards,\n",
    "        secondary_cards,\n",
    "        source_lang=\"Finnish\",\n",
    "        target_lang=\"English\",\n",
    "        secondary_lang=\"Russian\",\n",
    "        batch_size=batch_size,\n",
    "        max_improvement_attempts=5,  # Changed from max_iterations\n",
    "        max_retries=10,\n",
    "        endpoint=endpoint\n",
    "    )\n",
    "    \n",
    "    end_time = time.time()\n",
    "    duration = end_time - start_time\n",
    "    \n",
    "    # Calculate statistics\n",
    "    total_cards = len(source_cards)\n",
    "    successful_cards = len(generated_cards)\n",
    "    failed_cards = total_cards - successful_cards\n",
    "    \n",
    "    return {\n",
    "        \"model_name\": endpoint.split('_')[-1],\n",
    "        \"duration\": duration,\n",
    "        \"cards_per_second\": successful_cards / duration if duration > 0 else 0,\n",
    "        \"success_rate\": successful_cards / total_cards if total_cards > 0 else 0,\n",
    "        \"total_cards\": total_cards,\n",
    "        \"successful_cards\": successful_cards,\n",
    "        \"failed_cards\": failed_cards,\n",
    "        \"generated_cards\": generated_cards,\n",
    "        \"evaluation_results\": evaluation_results\n",
    "    }\n",
    "\n",
    "def print_results(results):\n",
    "    print(\"\\nРезультаты тестирования различных размеров батча:\")\n",
    "    print(\"-\" * 80)\n",
    "    print(f\"{'Название модели':<15} {'Время (с)':<15} {'Карточек/с':<15} {'Успешность':<15} {'Успешных':<15} {'Неудачных':<15}\")\n",
    "    print(\"-\" * 80)\n",
    "    \n",
    "    for result in results:\n",
    "        print(f\"{result['model_name']:<15} \"\n",
    "              f\"{result['duration']:.2f} сек{'':<8} \"\n",
    "              f\"{result['cards_per_second']:.2f}{'':<8} \"\n",
    "              f\"{result['success_rate']*100:.1f}%{'':<8} \"\n",
    "              f\"{result['successful_cards']:<15} \"\n",
    "              f\"{result['failed_cards']:<15}\")\n",
    "\n",
    "# Тестируем разные размеры батча\n",
    "batch_sizes = [5]\n",
    "results = []\n",
    "\n",
    "for endpoint in tqdm(ENDPOINTS, desc=\"Тестирование endpoint\"):\n",
    "    result = test_endpoint_and_batch_size(endpoint, 5)\n",
    "    results.append(result)\n",
    "\n",
    "# Выводим результаты\n",
    "print_results(results)"
   ]
  },
  {
   "cell_type": "markdown",
   "metadata": {},
   "source": [
    "## Анализ результатов\n",
    "\n",
    "Проанализируем результаты тестирования разных моделей."
   ]
  },
  {
   "cell_type": "code",
   "execution_count": 13,
   "metadata": {},
   "outputs": [
    {
     "data": {
      "image/png": "[encoded data removed]",
      "text/plain": [
       "<Figure size 1500x500 with 2 Axes>"
      ]
     },
     "metadata": {},
     "output_type": "display_data"
    }
   ],
   "source": [
    "import pandas as pd\n",
    "import matplotlib.pyplot as plt\n",
    "import seaborn as sns\n",
    "\n",
    "\n",
    "results_df = pd.DataFrame([{\n",
    "    'model_name': r['model_name'],\n",
    "    'duration': r['duration'],\n",
    "    'cards_per_second': r['cards_per_second'],\n",
    "    'success_rate': r['success_rate']\n",
    "} for r in results])\n",
    "\n",
    "fig, (ax1, ax2) = plt.subplots(1, 2, figsize=(15, 5))\n",
    "\n",
    "sns.barplot(data=results_df, x='model_name', y='cards_per_second', ax=ax1)\n",
    "ax1.set_title('Скорость обработки карточек')\n",
    "ax1.set_xlabel('Размер пакета')\n",
    "ax1.set_ylabel('Карточек в секунду')\n",
    "\n",
    "sns.barplot(data=results_df, x='model_name', y='success_rate', ax=ax2)\n",
    "ax2.set_title('Процент успешных карточек')\n",
    "ax2.set_xlabel('Размер пакета')\n",
    "ax2.set_ylabel('Процент успешных')\n",
    "\n",
    "plt.tight_layout()\n",
    "plt.show()"
   ]
  },
  {
   "cell_type": "markdown",
   "metadata": {},
   "source": [
    "## Анализ качества переводов\n",
    "\n",
    "Проанализируем качество переводов для лучшего размера пакета."
   ]
  },
  {
   "cell_type": "code",
   "execution_count": 16,
   "metadata": {},
   "outputs": [
    {
     "name": "stdout",
     "output_type": "stream",
     "text": [
      "Лучшая модель: 4o-1\n",
      "Скорость обработки: 0.18 карточек/сек\n",
      "Процент успешных: 97.0%\n",
      "\n",
      "Статистика по критериям оценки:\n",
      "sentenceCorrectness: 100.0%\n",
      "wordUsage: 100.0%\n",
      "wordTranslationAccuracy: 100.0%\n",
      "sentenceTranslationAccuracy: 100.0%\n",
      "\n",
      "Примеры переводов:\n",
      "\n",
      "Карточка 1:\n",
      "Исходное слово (FI): oma-aloitteinen\n",
      "Переведенное слово (EN): proactive\n",
      "Исходное предложение (FI): Hän on erittäin oma-aloitteinen ja vastuullinen työntekijä.\n",
      "Переведенное предложение (EN): He is a highly proactive and responsible employee.\n",
      "\n",
      "Карточка 2:\n",
      "Исходное слово (FI): käskeä\n",
      "Переведенное слово (EN): command\n",
      "Исходное предложение (FI): Opettaja käski oppilaita olemaan hiljaa.\n",
      "Переведенное предложение (EN): The teacher commanded the students to be quiet.\n",
      "\n",
      "Карточка 3:\n",
      "Исходное слово (FI): Niinpä.\n",
      "Переведенное слово (EN): Exactly.\n",
      "Исходное предложение (FI): \n",
      "Переведенное предложение (EN): \n"
     ]
    }
   ],
   "source": [
    "# Находим лучший результат по скорости\n",
    "best_result = max(results, key=lambda x: x['cards_per_second'])\n",
    "\n",
    "print(f\"Лучшая модель: {best_result['model_name']}\")\n",
    "print(f\"Скорость обработки: {best_result['cards_per_second']:.2f} карточек/сек\")\n",
    "print(f\"Процент успешных: {best_result['success_rate']*100:.1f}%\")\n",
    "\n",
    "# Анализируем результаты оценки\n",
    "evaluation_metrics = {\n",
    "    'sentenceCorrectness': 0,\n",
    "    'wordUsage': 0,\n",
    "    'wordTranslationAccuracy': 0,\n",
    "    'sentenceTranslationAccuracy': 0\n",
    "}\n",
    "\n",
    "for eval_result in best_result['evaluation_results']:\n",
    "    for metric in evaluation_metrics:\n",
    "        if eval_result[metric]['isCorrect']:\n",
    "            evaluation_metrics[metric] += 1\n",
    "\n",
    "print(\"\\nСтатистика по критериям оценки:\")\n",
    "for metric, count in evaluation_metrics.items():\n",
    "    percentage = (count / len(best_result['evaluation_results'])) * 100\n",
    "    print(f\"{metric}: {percentage:.1f}%\")\n",
    "\n",
    "print(\"\\nПримеры переводов:\")\n",
    "for i, (source, generated) in enumerate(zip(source_cards[:3], best_result['generated_cards'][:3])):\n",
    "    print(f\"\\nКарточка {i+1}:\")\n",
    "    print(f\"Исходное слово (FI): {source['word']}\")\n",
    "    print(f\"Переведенное слово (EN): {generated['word']}\")\n",
    "    print(f\"Исходное предложение (FI): {source['sentence']}\")\n",
    "    print(f\"Переведенное предложение (EN): {generated['sentence']}\")"
   ]
  },
  {
   "cell_type": "markdown",
   "metadata": {},
   "source": [
    "### Тестирование генерации с помощью MoA"
   ]
  },
  {
   "cell_type": "code",
   "execution_count": null,
   "metadata": {},
   "outputs": [
    {
     "data": {
      "application/vnd.jupyter.widget-view+json": {
       "model_id": "6c47c5c9ecfb46ddb12df6cadd5d7854",
       "version_major": 2,
       "version_minor": 0
      },
      "text/plain": [
       "Тестирование размеров батча:   0%|          | 0/4 [00:00<?, ?it/s]"
      ]
     },
     "metadata": {},
     "output_type": "display_data"
    }
   ],
   "source": [
    "import time\n",
    "from tqdm.notebook import tqdm\n",
    "\n",
    "def test_batch_size(batch_size: int):\n",
    "    start_time = time.time()\n",
    "    \n",
    "    generated_cards, evaluation_results = process_cards_batch(\n",
    "        source_cards,\n",
    "        secondary_cards,\n",
    "        source_lang=\"Finnish\",\n",
    "        target_lang=\"English\",\n",
    "        secondary_lang=\"Russian\",\n",
    "        batch_size=batch_size,\n",
    "        max_improvement_attempts=5,  # Changed from max_iterations\n",
    "        max_retries=10,\n",
    "        use_moa=True\n",
    "    )\n",
    "    \n",
    "    end_time = time.time()\n",
    "    duration = end_time - start_time\n",
    "    \n",
    "    # Calculate statistics\n",
    "    total_cards = len(source_cards)\n",
    "    successful_cards = len(generated_cards)\n",
    "    failed_cards = total_cards - successful_cards\n",
    "    \n",
    "    return {\n",
    "        \"batch_size\": batch_size,\n",
    "        \"duration\": duration,\n",
    "        \"cards_per_second\": successful_cards / duration if duration > 0 else 0,\n",
    "        \"success_rate\": successful_cards / total_cards if total_cards > 0 else 0,\n",
    "        \"total_cards\": total_cards,\n",
    "        \"successful_cards\": successful_cards,\n",
    "        \"failed_cards\": failed_cards,\n",
    "        \"generated_cards\": generated_cards,\n",
    "        \"evaluation_results\": evaluation_results\n",
    "    }\n",
    "\n",
    "def print_results(results):\n",
    "    print(\"\\nРезультаты тестирования различных размеров батча:\")\n",
    "    print(\"-\" * 80)\n",
    "    print(f\"{'Размер батча':<15} {'Время (с)':<15} {'Карточек/с':<15} {'Успешность':<15} {'Успешных':<15} {'Неудачных':<15}\")\n",
    "    print(\"-\" * 80)\n",
    "    \n",
    "    for result in results:\n",
    "        print(f\"{result['batch_size']:<15} \"\n",
    "              f\"{result['duration']:.2f} сек{'':<8} \"\n",
    "              f\"{result['cards_per_second']:.2f}{'':<8} \"\n",
    "              f\"{result['success_rate']*100:.1f}%{'':<8} \"\n",
    "              f\"{result['successful_cards']:<15} \"\n",
    "              f\"{result['failed_cards']:<15}\")\n",
    "\n",
    "# Тестируем разные размеры батча\n",
    "batch_sizes = [1, 2, 3, 5]\n",
    "moa_results = []\n",
    "\n",
    "for batch_size in tqdm(batch_sizes, desc=\"Тестирование размеров батча\"):\n",
    "    result = test_batch_size(batch_size)\n",
    "    moa_results.append(result)\n",
    "\n",
    "# Выводим результаты\n",
    "print_results(moa_results)"
   ]
  },
  {
   "cell_type": "code",
   "execution_count": 10,
   "metadata": {},
   "outputs": [
    {
     "data": {
      "image/png": "[encoded data removed]",
      "text/plain": [
       "<Figure size 1500x500 with 2 Axes>"
      ]
     },
     "metadata": {},
     "output_type": "display_data"
    }
   ],
   "source": [
    "import pandas as pd\n",
    "import matplotlib.pyplot as plt\n",
    "import seaborn as sns\n",
    "\n",
    "\n",
    "moa_results_df = pd.DataFrame([{\n",
    "    'batch_size': r['batch_size'],\n",
    "    'duration': r['duration'],\n",
    "    'cards_per_second': r['cards_per_second'],\n",
    "    'success_rate': r['success_rate']\n",
    "} for r in moa_results])\n",
    "\n",
    "fig, (ax1, ax2) = plt.subplots(1, 2, figsize=(15, 5))\n",
    "\n",
    "sns.barplot(data=moa_results_df, x='batch_size', y='cards_per_second', ax=ax1)\n",
    "ax1.set_title('Скорость обработки карточек')\n",
    "ax1.set_xlabel('Размер пакета')\n",
    "ax1.set_ylabel('Карточек в секунду')\n",
    "\n",
    "sns.barplot(data=moa_results_df, x='batch_size', y='success_rate', ax=ax2)\n",
    "ax2.set_title('Процент успешных карточек')\n",
    "ax2.set_xlabel('Размер пакета')\n",
    "ax2.set_ylabel('Процент успешных')\n",
    "\n",
    "plt.tight_layout()\n",
    "plt.show()"
   ]
  },
  {
   "cell_type": "code",
   "execution_count": null,
   "metadata": {},
   "outputs": [],
   "source": []
  }
 ],
 "metadata": {
  "kernelspec": {
   "display_name": "Python 3",
   "language": "python",
   "name": "python3"
  },
  "language_info": {
   "codemirror_mode": {
    "name": "ipython",
    "version": 3
   },
   "file_extension": ".py",
   "mimetype": "text/x-python",
   "name": "python",
   "nbconvert_exporter": "python",
   "pygments_lexer": "ipython3",
   "version": "3.13.0"
  }
 },
 "nbformat": 4,
 "nbformat_minor": 4
}
