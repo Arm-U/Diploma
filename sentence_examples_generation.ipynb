{
 "cells": [
  {
   "cell_type": "code",
   "execution_count": 25,
   "id": "02736a8b",
   "metadata": {},
   "outputs": [],
   "source": [
    "# !pip install openai"
   ]
  },
  {
   "cell_type": "code",
   "execution_count": null,
   "id": "5c96bb27",
   "metadata": {},
   "outputs": [],
   "source": [
    "import openai\n",
    "OPENAI_API_KEY = 'API_KEY'"
   ]
  },
  {
   "cell_type": "code",
   "execution_count": 73,
   "id": "181cdc68",
   "metadata": {},
   "outputs": [],
   "source": [
    "GPT_3_5_TURBO = \"gpt-3.5-turbo\"\n",
    "GPT_4_TURBO_PREVIEW = \"gpt-4-turbo-preview\"\n",
    "GPT_4 = 'gpt-4'"
   ]
  },
  {
   "cell_type": "code",
   "execution_count": 78,
   "id": "f7c0a6db",
   "metadata": {},
   "outputs": [],
   "source": [
    "# Assuming OPENAI_API_KEY is defined elsewhere or use the actual API key string\n",
    "client = openai.OpenAI(api_key=OPENAI_API_KEY)  # Replace \"YOUR_API_KEY\" with your actual OpenAI API key\n",
    "\n",
    "def generate_finnish_sentences(words, model = GPT_3_5_TURBO):\n",
    "    word_to_sentence = {}\n",
    "    for word in words:\n",
    "#         prompt = f\"Generate a simple, useful, beginner-friendly sentence in Finnish using the word or phrase: '{word}'. The sentence should be useful and easy to understand for someone learning Finnish.\"\n",
    "        prompt = f\"Generate a simple, useful, beginner-friendly sentence in Finnish using the word or phrase: '{word}'. The sentence should be useful and easy to understand for someone learning Finnish. Provide only the Finnish sentence, without any translation or additional information.\"\n",
    "        \n",
    "        response = client.chat.completions.create(\n",
    "            model=model,\n",
    "            messages=[{\n",
    "                \"role\": \"user\",\n",
    "                \"content\": prompt\n",
    "            }]\n",
    "        )\n",
    "        \n",
    "#         print(response.choices[0].message)        \n",
    "        \n",
    "        # Correctly accessing the response data\n",
    "        # Ensure you're correctly interpreting the structure of the response\n",
    "        sentence = response.choices[0].message.content if response.choices else 'No response generated.'\n",
    "        \n",
    "        # Map the word or phrase to the generated sentence\n",
    "        word_to_sentence[word] = sentence.strip()\n",
    "    return word_to_sentence\n",
    "\n",
    "# # List of Finnish words or phrases you want to create sentences for\n",
    "# finnish_words = ['koira', 'on kaunis päivä', 'rakastan oppia suomea']\n",
    "\n",
    "# # Generate sentences and store them in a dictionary\n",
    "# word_to_sentence_map = generate_finnish_sentences(finnish_words)\n",
    "\n",
    "# # Print the word-to-sentence hash-map\n",
    "# for word, sentence in word_to_sentence_map.items():\n",
    "#     print(f\"'{word}': '{sentence}'\")\n"
   ]
  },
  {
   "cell_type": "code",
   "execution_count": 70,
   "id": "8f6c5a31",
   "metadata": {},
   "outputs": [],
   "source": [
    "import openai\n",
    "from tqdm.notebook import tqdm\n",
    "\n",
    "system_prompt = \"You are a professional russian-finnish translator. Use 'ё' in russian written language instead of 'е', when it is grammatically more correct.\" # When 'е' suits better use it.\" #\" When 'е' suits better use it.\"\n",
    "\n",
    "def translate_word_or_phrase_to_russian(phrase, model = GPT_3_5_TURBO):\n",
    "    prompt = f\"Translate the following Finnish phrase to Russian: '{phrase}'. Provide only the translation to russian sentence, without any additional information.\"\n",
    "    response = client.chat.completions.create(\n",
    "            model = model,\n",
    "            messages = [{\n",
    "                \"role\": \"system\",\n",
    "                \"content\": system_prompt\n",
    "            },\n",
    "                {\n",
    "                \"role\": \"user\",\n",
    "                \"content\": prompt\n",
    "            }],\n",
    "            temperature = 0.0\n",
    "        )\n",
    "        \n",
    "    # Correctly accessing the response data\n",
    "    # Ensure you're correctly interpreting the structure of the response\n",
    "    translation = response.choices[0].message.content if response.choices else 'No response generated.'\n",
    "\n",
    "    translation = translation.strip()\n",
    "    return translation\n",
    "\n",
    "def translate_word_or_phrase_to_russian_with_context(phrase, context, model = GPT_3_5_TURBO):\n",
    "    prompt = f\"\"\"Translate the following Finnish word to Russian: ###'{phrase}'###. \\n \n",
    "                To understand tranlsation context for words with different variants of translation use the following sentence with the word: '{context}'. \n",
    "                Provide only the translation to russian word, without any additional information.\"\"\"\n",
    "    response = client.chat.completions.create(\n",
    "            model = model,\n",
    "            messages=[{\n",
    "                \"role\": \"system\",\n",
    "                \"content\": system_prompt\n",
    "            },\n",
    "                {\n",
    "                \"role\": \"user\",\n",
    "                \"content\": prompt\n",
    "            }],\n",
    "            temperature = 0.0\n",
    "        )\n",
    "        \n",
    "    # Correctly accessing the response data\n",
    "    # Ensure you're correctly interpreting the structure of the response\n",
    "    translation = response.choices[0].message.content if response.choices else 'No response generated.'\n",
    "\n",
    "    translation = translation.strip()\n",
    "    return translation\n",
    "    \n",
    "\n",
    "def translate_to_russian(data, model = GPT_3_5_TURBO):\n",
    "    translations = []\n",
    "    for finnish_word, finnish_sentence in tqdm(data, desc=\"Translating to russian\"):\n",
    "        # Construct the prompt for translation\n",
    "        if finnish_sentence:\n",
    "            russian_sentence = translate_word_or_phrase_to_russian(finnish_sentence, model=model)\n",
    "            russian_word = translate_word_or_phrase_to_russian_with_context(finnish_word, finnish_sentence, model=model)\n",
    "            translations.append((finnish_word, finnish_sentence, russian_word, russian_sentence))\n",
    "        else:\n",
    "            russian_word = translate_word_or_phrase_to_russian(finnish_word, model=model)\n",
    "            translations.append((finnish_word, finnish_sentence, russian_word, \"\"))\n",
    "    return translations\n"
   ]
  },
  {
   "cell_type": "code",
   "execution_count": 55,
   "id": "a1290697",
   "metadata": {},
   "outputs": [
    {
     "data": {
      "application/vnd.jupyter.widget-view+json": {
       "model_id": "50886cbadf3f4d8d929255399136ba50",
       "version_major": 2,
       "version_minor": 0
      },
      "text/plain": [
       "Translating to russian:   0%|          | 0/6 [00:00<?, ?it/s]"
      ]
     },
     "metadata": {},
     "output_type": "display_data"
    },
    {
     "data": {
      "text/plain": [
       "[('reissu',\n",
       "  'Menen huomenna kauppaan, haluaisitko tulla mukaan reissuun?',\n",
       "  'поездка',\n",
       "  'Завтра я иду в магазин, хочешь пойти со мной?'),\n",
       " ('olla tehtävänä',\n",
       "  'Minulla on tehtävänä siivota huoneeni tänään.',\n",
       "  'иметь задание',\n",
       "  'У меня есть задание убрать свою комнату сегодня.'),\n",
       " ('viime',\n",
       "  'Viime viikolla kävin elokuvissa.',\n",
       "  'прошлый',\n",
       "  'На прошлой неделе я ходил в кино.'),\n",
       " ('juodaan', 'Juodaan vettä ruoan kanssa.', 'пьём', 'Пьём воду с едой.'),\n",
       " ('Menemme kotiin.', '', 'Мы идём домой.', ''),\n",
       " ('hostelli',\n",
       "  'Minä yövyn hostellissa lomani aikana.',\n",
       "  'хостёл',\n",
       "  'Я ночую в хостеле во время моего отпуска.')]"
      ]
     },
     "execution_count": 55,
     "metadata": {},
     "output_type": "execute_result"
    }
   ],
   "source": [
    "# translate_to_russian([[\"juodaan\", \"Juodaan vettä ruoan kanssa.\"], [\"Menemme kotiin.\", \"\"]])\n",
    "input_data = [['reissu', 'Menen huomenna kauppaan, haluaisitko tulla mukaan reissuun?'],\n",
    " ['olla tehtävänä', 'Minulla on tehtävänä siivota huoneeni tänään.'],\n",
    " ['viime', 'Viime viikolla kävin elokuvissa.'],\n",
    " [\"juodaan\", \"Juodaan vettä ruoan kanssa.\"], [\"Menemme kotiin.\", \"\"],\n",
    "             ['hostelli',\n",
    "  'Minä yövyn hostellissa lomani aikana.']\n",
    "]\n",
    "translate_to_russian(input_data)"
   ]
  },
  {
   "cell_type": "code",
   "execution_count": null,
   "id": "de5ee592",
   "metadata": {},
   "outputs": [],
   "source": [
    "translate_to_russian([[\"juodaan\", \"Juodaan vettä ruoan kanssa.\"], [\"Menemme kotiin.\", \"\"]])"
   ]
  },
  {
   "cell_type": "markdown",
   "id": "22499c0f",
   "metadata": {},
   "source": [
    "## Check proper russian"
   ]
  },
  {
   "cell_type": "code",
   "execution_count": 62,
   "id": "6599465c",
   "metadata": {},
   "outputs": [],
   "source": [
    "import openai\n",
    "\n",
    "openai.api_key = 'your_openai_api_key'\n",
    "\n",
    "def check_and_fix_russian(sentence):\n",
    "    CORRECT_CODE = '#ok#'\n",
    "    prompt = f\"Check if the following Russian sentence is grammatically correct and idiomatic. Double check for correct usage of 'ё'. If it is, reply with '{CORRECT_CODE}'. If it is not, provide a corrected version:\\n\\n'{sentence}'\"\n",
    "    \n",
    "    response = client.chat.completions.create(\n",
    "#             model=\"gpt-3.5-turbo\",\n",
    "#             model=\"gpt-3.5-turbo\",\n",
    "            model='gpt-4-turbo-preview',\n",
    "            messages=[{\n",
    "                \"role\": \"user\",\n",
    "                \"content\": prompt\n",
    "            }],\n",
    "            temperature = 0.0\n",
    "        )\n",
    "        \n",
    "    # Correctly accessing the response data\n",
    "    # Ensure you're correctly interpreting the structure of the response\n",
    "    result = response.choices[0].message.content if response.choices else '#noresponse#'\n",
    "    result = result.strip()\n",
    "    if result == CORRECT_CODE:\n",
    "        return True, \"\"\n",
    "    else:\n",
    "        return False, result\n",
    "    return translation\n"
   ]
  },
  {
   "cell_type": "code",
   "execution_count": 63,
   "id": "a0e14904",
   "metadata": {},
   "outputs": [
    {
     "name": "stdout",
     "output_type": "stream",
     "text": [
      "False\n",
      "Result: 'Твой пример предложения на русском.'\n"
     ]
    }
   ],
   "source": [
    "# Example usage\n",
    "russian_sentence = \"Твой примёр предложения на русском.\"\n",
    "is_ok, fixed_sentence = check_and_fix_russian(russian_sentence)\n",
    "print(is_ok)\n",
    "print(\"Result:\", fixed_sentence)"
   ]
  },
  {
   "cell_type": "code",
   "execution_count": 65,
   "id": "fdafadfe",
   "metadata": {},
   "outputs": [
    {
     "name": "stdout",
     "output_type": "stream",
     "text": [
      "=======\n",
      "Мы уютно дома сегодня.\n",
      "False\n",
      "Result: Мы уютно дома сегодня.\n",
      "\n",
      "Corrected version:\n",
      "Мы сегодня уютно дома.\n",
      "=======\n",
      "хостёл\n",
      "True\n",
      "Result: \n",
      "=======\n",
      "сразу\n",
      "True\n",
      "Result: \n",
      "=======\n",
      "Пью в мыслях свой кофе.\n",
      "True\n",
      "Result: \n",
      "=======\n",
      "Можем ли мы договориться о времени на завтрашний день?\n",
      "True\n",
      "Result: \n",
      "=======\n",
      "Я положил ключи везде.\t\n",
      "False\n",
      "Result: 'Я положил ключи везде.' - This sentence is grammatically correct, but it might not convey the intended meaning effectively. The sentence literally means \"I put the keys everywhere,\" which is unusual or nonsensical in most contexts. If the intended meaning is \"I put the keys somewhere, but I don't remember where,\" a more idiomatic way to express this in Russian would be:\n",
      "\n",
      "'Я положил ключи где-то.'\n",
      "\n",
      "However, if the original sentence precisely conveys the intended meaning, then it is grammatically correct as is.\n",
      "=======\n",
      "Использую интернёт ежедневно.\n",
      "False\n",
      "Result: 'Использую интернет ежедневно.'\n",
      "=======\n",
      "В любом случаё.\n",
      "False\n",
      "Result: 'В любом случае.'\n",
      "=======\n",
      "В любом случаё нужна помощь.\n",
      "False\n",
      "Result: 'В любом случае нужна помощь.'\n"
     ]
    }
   ],
   "source": [
    "sentences2check = [\"Мы уютно дома сегодня.\",\n",
    "\"хостёл\",\n",
    "\"сразу\",\n",
    "\"Пью в мыслях свой кофе.\",\n",
    "\"Можем ли мы договориться о времени на завтрашний день?\",\n",
    "\"Я положил ключи везде.\t\",\n",
    "\"Использую интернёт ежедневно.\",\n",
    "\"В любом случаё.\",\n",
    "\"В любом случаё нужна помощь.\"\n",
    "]\n",
    "for s in sentences2check:\n",
    "    is_ok, fixed_sentence = check_and_fix_russian(s)\n",
    "    print(\"=======\")\n",
    "    print(s)\n",
    "    print(is_ok)\n",
    "    print(\"Result:\", fixed_sentence)"
   ]
  },
  {
   "cell_type": "code",
   "execution_count": 68,
   "id": "90aee9b5",
   "metadata": {},
   "outputs": [],
   "source": [
    "# # Translate the data to Russian\n",
    "# translated_data = gptutils.translate_to_russian(input_data)\n",
    "\n",
    "input_data = [[\"reissu\", \"Menen huomenna kauppaan, haluaisitko tulla mukaan reissuun?\"],\n",
    "[\"mukavasti\", \"Olemme mukavasti kotona tänään.\"],\n",
    "[\"hostelli\", \"Minä yövyn hostellissa lomani aikana.\"],\n",
    "[\"heti\", \"Menen kauppaan heti.\"],\n",
    "[\"mielellään\", \"Juon miellessäni kahvia.\"],\n",
    "[\"sopia\", \"Voimmeko sopia ajan huomiselle?\"],\n",
    "[\"joka paikkaan\", \"Minä laitoin avaimet joka paikkaan.\"],\n",
    "[\"netti (internet)\", \"Käytän nettiä päivittäin.\"],\n",
    "[\"joka tapauksessa\", \"Joka tapauksessa tarvitsen apua.\"]]\n",
    "\n",
    "input_data2 \n"
   ]
  },
  {
   "cell_type": "code",
   "execution_count": 71,
   "id": "0674ec50",
   "metadata": {},
   "outputs": [
    {
     "data": {
      "application/vnd.jupyter.widget-view+json": {
       "model_id": "5f9bc18597be4dfe91506f4f773e1c96",
       "version_major": 2,
       "version_minor": 0
      },
      "text/plain": [
       "Translating to russian:   0%|          | 0/9 [00:00<?, ?it/s]"
      ]
     },
     "metadata": {},
     "output_type": "display_data"
    }
   ],
   "source": [
    "translated_data = translate_to_russian(input_data, model = GPT_4_TURBO_PREVIEW)"
   ]
  },
  {
   "cell_type": "code",
   "execution_count": 72,
   "id": "98ff3578",
   "metadata": {},
   "outputs": [
    {
     "data": {
      "text/plain": [
       "[('reissu',\n",
       "  'Menen huomenna kauppaan, haluaisitko tulla mukaan reissuun?',\n",
       "  'поездка',\n",
       "  'Я иду завтра в магазин, хотел бы ты присоединиться ко мне в поездке?'),\n",
       " ('mukavasti',\n",
       "  'Olemme mukavasti kotona tänään.',\n",
       "  'удобно',\n",
       "  'Мы сегодня уютно дома.'),\n",
       " ('hostelli',\n",
       "  'Minä yövyn hostellissa lomani aikana.',\n",
       "  'хостеле',\n",
       "  'Я останавливаюсь в хостеле во время своего отпуска.'),\n",
       " ('heti', 'Menen kauppaan heti.', 'сразу', 'Иду в магазин сразу.'),\n",
       " ('mielellään',\n",
       "  'Juon miellessäni kahvia.',\n",
       "  'охотно',\n",
       "  'Я пью кофе в своих мыслях.'),\n",
       " ('sopia',\n",
       "  'Voimmeko sopia ajan huomiselle?',\n",
       "  'договориться',\n",
       "  'Можем ли мы договориться о времени на завтра?'),\n",
       " ('joka paikkaan',\n",
       "  'Minä laitoin avaimet joka paikkaan.',\n",
       "  'везде',\n",
       "  'Я положил ключи вездё.'),\n",
       " ('netti (internet)',\n",
       "  'Käytän nettiä päivittäin.',\n",
       "  'интернет',\n",
       "  'Я использую интернет каждый день.'),\n",
       " ('joka tapauksessa',\n",
       "  'Joka tapauksessa tarvitsen apua.',\n",
       "  'В любом случае',\n",
       "  'В любом случае мне нужна помощь.')]"
      ]
     },
     "execution_count": 72,
     "metadata": {},
     "output_type": "execute_result"
    }
   ],
   "source": [
    "translated_data"
   ]
  },
  {
   "cell_type": "code",
   "execution_count": 74,
   "id": "86f49eab",
   "metadata": {},
   "outputs": [
    {
     "data": {
      "application/vnd.jupyter.widget-view+json": {
       "model_id": "0fbd3944050f419384cf38708d545fd5",
       "version_major": 2,
       "version_minor": 0
      },
      "text/plain": [
       "Translating to russian:   0%|          | 0/9 [00:00<?, ?it/s]"
      ]
     },
     "metadata": {},
     "output_type": "display_data"
    }
   ],
   "source": [
    "translated_data2 = translate_to_russian(input_data, model = GPT_4)"
   ]
  },
  {
   "cell_type": "code",
   "execution_count": 75,
   "id": "b49be449",
   "metadata": {},
   "outputs": [
    {
     "data": {
      "text/plain": [
       "[('reissu',\n",
       "  'Menen huomenna kauppaan, haluaisitko tulla mukaan reissuun?',\n",
       "  'поездка',\n",
       "  'Я иду завтра в магазин, хотел бы ты присоединиться ко мне в поездке?'),\n",
       " ('mukavasti',\n",
       "  'Olemme mukavasti kotona tänään.',\n",
       "  'удобно',\n",
       "  'Мы уютно дома сегодня.'),\n",
       " ('hostelli',\n",
       "  'Minä yövyn hostellissa lomani aikana.',\n",
       "  'хостел',\n",
       "  'Я останусь в хостеле во время своего отпуска.'),\n",
       " ('heti', 'Menen kauppaan heti.', 'сразу', 'Я иду в магазин сразу.'),\n",
       " ('mielellään',\n",
       "  'Juon miellessäni kahvia.',\n",
       "  'с удовольствием',\n",
       "  'Я пью кофе в своём воображении.'),\n",
       " ('sopia',\n",
       "  'Voimmeko sopia ajan huomiselle?',\n",
       "  'договориться',\n",
       "  'Можем ли мы договориться о встрече на завтра?'),\n",
       " ('joka paikkaan',\n",
       "  'Minä laitoin avaimet joka paikkaan.',\n",
       "  'в каждое место',\n",
       "  'Я положил ключи везде.'),\n",
       " ('netti (internet)',\n",
       "  'Käytän nettiä päivittäin.',\n",
       "  'интернет',\n",
       "  'Я использую интернет каждый день.'),\n",
       " ('joka tapauksessa',\n",
       "  'Joka tapauksessa tarvitsen apua.',\n",
       "  'в любом случае',\n",
       "  'В любом случае, мне нужна помощь.')]"
      ]
     },
     "execution_count": 75,
     "metadata": {},
     "output_type": "execute_result"
    }
   ],
   "source": [
    "translated_data2"
   ]
  },
  {
   "cell_type": "code",
   "execution_count": 77,
   "id": "d4858dd8",
   "metadata": {},
   "outputs": [],
   "source": [
    "# sentence examples\n",
    "words = [\"reissu\",\n",
    "\"mukavasti\",\n",
    "\"hostelli\",\n",
    "\"heti\",\n",
    "\"mielellään\",\n",
    "\"sopia\",\n",
    "\"joka paikkaan\",\n",
    "\"netti (internet)\",\n",
    "\"joka tapauksessa\"]"
   ]
  },
  {
   "cell_type": "code",
   "execution_count": 79,
   "id": "96756bc5",
   "metadata": {},
   "outputs": [],
   "source": [
    "res  = generate_finnish_sentences(words, model = GPT_4)"
   ]
  },
  {
   "cell_type": "code",
   "execution_count": 80,
   "id": "b051a0e5",
   "metadata": {},
   "outputs": [
    {
     "data": {
      "text/plain": [
       "{'reissu': 'Hän lähti pitkälle reissulle maailman ympäri.',\n",
       " 'mukavasti': 'Olemme mukavasti kotona katsomassa elokuvaa.',\n",
       " 'hostelli': 'Minä varasin huoneen hostellista viikonlopuksi.',\n",
       " 'heti': 'Tarvitsemme apua heti.',\n",
       " 'mielellään': 'Hän ottaisi mielellään lasin vettä.',\n",
       " 'sopia': 'Kun sopimme tapaamisen ajan, lähetän sinulle kalenterikutsun.',\n",
       " 'joka paikkaan': 'Minulla on tapana ottaa vesipullo mukaani joka paikkaan.',\n",
       " 'netti (internet)': 'Netti ei toimi, voitko korjata sen?',\n",
       " 'joka tapauksessa': 'Joka tapauksessa, meidän täytyy lähteä aikaisin aamulla.'}"
      ]
     },
     "execution_count": 80,
     "metadata": {},
     "output_type": "execute_result"
    }
   ],
   "source": [
    "res"
   ]
  },
  {
   "cell_type": "code",
   "execution_count": null,
   "id": "509158b7",
   "metadata": {},
   "outputs": [],
   "source": []
  }
 ],
 "metadata": {
  "kernelspec": {
   "display_name": "Python 3 (ipykernel)",
   "language": "python",
   "name": "python3"
  },
  "language_info": {
   "codemirror_mode": {
    "name": "ipython",
    "version": 3
   },
   "file_extension": ".py",
   "mimetype": "text/x-python",
   "name": "python",
   "nbconvert_exporter": "python",
   "pygments_lexer": "ipython3",
   "version": "3.11.5"
  }
 },
 "nbformat": 4,
 "nbformat_minor": 5
}
