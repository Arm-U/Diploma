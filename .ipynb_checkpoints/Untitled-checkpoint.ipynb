{
 "cells": [
  {
   "cell_type": "code",
   "execution_count": 1,
   "id": "b1ab7a6f",
   "metadata": {},
   "outputs": [],
   "source": [
    "#!/usr/bin/env python\n",
    "# coding: utf-8\n",
    "import openai\n",
    "from openai import AzureOpenAI, AsyncAzureOpenAI\n",
    "from tqdm.notebook import tqdm\n",
    "import os\n",
    "from dotenv import load_dotenv, find_dotenv\n",
    "import requests\n",
    "import base64\n",
    "import asyncio\n",
    "from tqdm.asyncio import tqdm_asyncio\n",
    "\n",
    "\n",
    "# create \".env\" file and put the line with the key in it\n",
    "# OPENAI_API_KEY=\"<get_your_key_from_platform.openai.com\"\n",
    "def get_openai_api_key():\n",
    "    _ = load_dotenv(find_dotenv())\n",
    "\n",
    "    return os.getenv(\"OPENAI_API_KEY\")\n",
    "\n",
    "OPENAI_API_KEY = get_openai_api_key()\n",
    "# client = openai.OpenAI(api_key=OPENAI_API_KEY)  # Replace \"YOUR_API_KEY\" with your actual OpenAI API key\n",
    "\n",
    "azure_endpoint=os.getenv(\"AZURE_OPENAI_ENDPOINT\")\n",
    "client = AsyncAzureOpenAI(\n",
    "    api_key=os.getenv(\"AZURE_OPENAI_API_KEY\"),  \n",
    "    api_version=\"2024-07-01-preview\",\n",
    "    azure_endpoint=os.getenv(\"AZURE_OPENAI_ENDPOINT\")\n",
    ")\n",
    "\n",
    "GPT_3_5_TURBO = \"gpt-3.5-turbo\"\n",
    "GPT_4_TURBO_PREVIEW = \"gpt-4-turbo-preview\"\n",
    "GPT_4 = 'gpt-4'\n",
    "GPT_4o = 'gpt-4o'"
   ]
  },
  {
   "cell_type": "code",
   "execution_count": 2,
   "id": "421375b7",
   "metadata": {},
   "outputs": [],
   "source": [
    "async def generate_english_sentences_async(words, system_prompt, model=\"GPT_4o\"):\n",
    "    word_to_sentence = {}\n",
    "    \n",
    "    async def fetch_sentence(word):\n",
    "        user_prompt = f\"\"\"Generate an idiomatic, simple, useful sentence in English containing this word or phrase:\n",
    "        \n",
    "        === \n",
    "        '{word}'\n",
    "        ===\n",
    "         \n",
    "        The sentence should be useful and easy to understand for someone who just started learning English. Provide only the English sentence, without any translation or additional information.\n",
    "        \"\"\"\n",
    "        delay = 60\n",
    "        while True:\n",
    "            try:\n",
    "                response = await client.chat.completions.create(\n",
    "                    model=model,\n",
    "                    messages=[\n",
    "                        {\"role\": \"system\", \"content\": system_prompt},\n",
    "                        {\"role\": \"user\", \"content\": user_prompt}\n",
    "                    ]\n",
    "                )\n",
    "                break\n",
    "            except Exception:\n",
    "                await asyncio.sleep(delay)\n",
    "                continue\n",
    "        \n",
    "        \n",
    "        sentence = response.choices[0].message.content if response.choices else 'No response generated.'\n",
    "        word_to_sentence[word] = sentence.strip()\n",
    "    \n",
    "    tasks = [fetch_sentence(word) for word in words]\n",
    "    await tqdm_asyncio.gather(*tasks, desc=\"Generating sentence examples\")\n",
    "    \n",
    "    return word_to_sentence"
   ]
  },
  {
   "cell_type": "code",
   "execution_count": 3,
   "id": "d3124e39",
   "metadata": {},
   "outputs": [
    {
     "name": "stderr",
     "output_type": "stream",
     "text": [
      "Generating sentence examples: 100%|████████████████████████████████████████████████████| 13/13 [00:12<00:00,  1.02it/s]\n"
     ]
    },
    {
     "data": {
      "text/plain": [
       "{'Nothing': 'Nothing lasts forever.',\n",
       " 'Last': 'This is the last apple in the basket.',\n",
       " 'Basic': \"It's important to learn the basic rules of grammar.\",\n",
       " 'School': 'I go to school every day except Sunday.',\n",
       " 'Stop talkng': 'Please stop talking and listen.',\n",
       " 'Red': 'She wore a beautiful red dress to the party.',\n",
       " 'Class': 'The class starts at 9 AM every day.',\n",
       " 'Forget': \"Don't forget to lock the door.\",\n",
       " 'Apple': 'An apple a day keeps the doctor away.',\n",
       " 'Brown': 'The coffee table in the living room is brown.',\n",
       " 'Cat': 'The cat is sleeping on the couch.',\n",
       " 'Train': 'The train will arrive at the station in ten minutes.',\n",
       " 'Justin': 'Justin loves to read books in the library.'}"
      ]
     },
     "execution_count": 3,
     "metadata": {},
     "output_type": "execute_result"
    }
   ],
   "source": [
    "system_prompt = '''You are generator of simple and usefull sentences.'''\n",
    "await generate_english_sentences_async([\"Apple\", \"Cat\", \"Brown\", \"Red\", \"Basic\", \"Train\", \"Forget\", \"Class\", \"School\", \"Last\", \"Stop talkng\", \"Nothing\", \"Justin\"], system_prompt, model=GPT_4o)"
   ]
  },
  {
   "cell_type": "code",
   "execution_count": 4,
   "id": "a3ec4797",
   "metadata": {},
   "outputs": [],
   "source": [
    "import json\n",
    "\n",
    "\n",
    "FOLDER_WITH_JSON = '../../data/russian-finnish/cards/curated_platform_cards/'\n",
    "def load_cards_from_file(file_name):\n",
    "    data = []\n",
    "    file_path = FOLDER_WITH_JSON + file_name\n",
    "    with open(file_path, 'r', encoding='utf-8') as file:\n",
    "        data = json.load(file)\n",
    "    return data"
   ]
  },
  {
   "cell_type": "code",
   "execution_count": 5,
   "id": "6fff5433",
   "metadata": {},
   "outputs": [
    {
     "data": {
      "application/vnd.jupyter.widget-view+json": {
       "model_id": "c3668e04c8714a7f961c64d99fc81ec8",
       "version_major": 2,
       "version_minor": 0
      },
      "text/plain": [
       "  0%|          | 0/1 [00:00<?, ?it/s]"
      ]
     },
     "metadata": {},
     "output_type": "display_data"
    }
   ],
   "source": [
    "file_names = [f'sm1_new_kap{i}.json' for i in range(1, 2)]\n",
    "\n",
    "first_chapter = []\n",
    "for file_name in tqdm(file_names):\n",
    "    first_chapter.extend(load_cards_from_file(file_name))"
   ]
  },
  {
   "cell_type": "code",
   "execution_count": 8,
   "id": "3aa058cb",
   "metadata": {},
   "outputs": [],
   "source": [
    "import os\n",
    "import asyncio\n",
    "import json\n",
    "from tqdm.asyncio import tqdm_asyncio\n",
    "\n",
    "client = AsyncAzureOpenAI(\n",
    "    api_key=os.getenv(\"AZURE_OPENAI_API_KEY\"),\n",
    "    api_version=\"2024-07-01-preview\",\n",
    "    azure_endpoint=os.getenv(\"AZURE_OPENAI_ENDPOINT\")\n",
    ")\n",
    "\n",
    "async def evaluate_cards_async(cards, first_lang='Russian', second_lang='Finnish', model=\"GPT_4o\"):\n",
    "    results = []\n",
    "    \n",
    "    async def evaluate_card(card):\n",
    "        system_prompt = f\"\"\"\n",
    "        You are a language expert proficient in both {first_lang} and {second_lang}.\"\"\"\n",
    "\n",
    "        user_prompt = f\"\"\"\n",
    "        You are given a flashcard containing a word and a sentence in {first_lang}, along with its translation and \n",
    "        a sentence in {second_lang}. Your task is to evaluate the correctness of the flashcard. Here’s what you need to check:\n",
    "\n",
    "        1. Whether the sentence in {first_lang} is grammatically correct and natural.\n",
    "        2. Whether the sentence in {second_lang} is grammatically correct and natural.\n",
    "        3. Whether the translation from {second_lang} to {first_lang} is accurate.\n",
    "        4. Whether the word in {first_lang} occurs in some form in the {first_lang} sentence.\n",
    "        5. Whether the word in {second_lang} occurs in some form in the {second_lang} sentence.\n",
    "\n",
    "        If both sentence in {first_lang} and {second_lang} are missing it is ok, just check the translation to {second_lang}. \n",
    "\n",
    "        Check that the word in {first_lang} appear in the sentence in some form, disregarding the case and form of the word, or the order of the words, \n",
    "        if the words in {first_lang} consists of several words. For example, if the word is 'в то же время' and in the sentence it's 'в одно и то же время', it's ok. Or if 'когда опять' in the words and 'когда моя сестра опять' is in the sentence. \n",
    "        If there are several synonyms in {first_lang} word field, then if one of them appears in the sentences in some form it's ok. \n",
    "        For example, if {first_lang} word is 'выносить, красть' and in the sentence 'украсть' is used, it's ok.\n",
    "\n",
    "        If the word doesn't appear in some form, suggest using synonyms or related terms in the \n",
    "        translation to ensure the sentence remains natural and accurate. You can change either the sentence translation \n",
    "        or the word translation. For example, if the word is \"досуг,\" it can be translated as \"досуг\" or \"свободное время\". So if the word \"свободное время\" \n",
    "        is in some form used in the sentence and it sounds natural, suggested fix can be to change the word translation to \"досуг, свободное время\", \n",
    "        keeping the sentence intact.\n",
    "\n",
    "        In the suggestedFix fields, don't provide explanations or instructions, just provide the final corrected string.\n",
    "        If it's better to fix the word, not the sentence, return null for suggestedFixSentence.\n",
    "\n",
    "        Provide a detailed evaluation for each point and suggest fixes where necessary.\n",
    "\n",
    "        Here is the flashcard:\n",
    "\n",
    "        Word in {first_lang}: {card['wordFirstLang']}\n",
    "        Sentence in {first_lang}: {card['sentenceFirstLang']}\n",
    "        Word in {second_lang}: {card['wordSecondLang']}\n",
    "        Sentence in {second_lang}: {card['sentenceSecondLang']}\n",
    "\n",
    "        Respond in JSON format with the following structure:\n",
    "\n",
    "        {{\n",
    "          \"{first_lang}Sentence\": {{\n",
    "            \"isCorrect\": true/false,\n",
    "            \"explanation\": \"Detailed explanation if there is an issue or why it's correct\",\n",
    "            \"suggestedFix\": \"Suggested correction if there is an issue\"\n",
    "          }},\n",
    "          \"{second_lang}Sentence\": {{\n",
    "            \"isCorrect\": true/false,\n",
    "            \"explanation\": \"Detailed explanation if there is an issue or why it's correct\",\n",
    "            \"suggestedFix\": \"Suggested correction if there is an issue\"\n",
    "          }},\n",
    "          \"translationAccuracy\": {{\n",
    "            \"isCorrect\": true/false,\n",
    "            \"explanation\": \"Detailed explanation if there is an issue or why it's correct\",\n",
    "            \"suggestedFix\": \"Suggested correction if there is an issue\"\n",
    "          }},\n",
    "          \"{first_lang}WordUsage\": {{\n",
    "            \"isCorrect\": true/false,\n",
    "            \"explanation\": \"Detailed explanation if there is an issue or why it's correct\",\n",
    "            \"suggestedFixSentence\": \"Suggested correction to the sentence if there is an issue\",\n",
    "            \"suggestedFixWord\": \"Suggested correction to the word if there is an issue\"\n",
    "          }},\n",
    "          \"{second_lang}WordUsage\": {{\n",
    "            \"isCorrect\": true/false,\n",
    "            \"explanation\": \"Detailed explanation if there is an issue or why it's correct\",\n",
    "            \"suggestedFix\": \"Suggested correction if there is an issue\"\n",
    "          }}\n",
    "        }}\n",
    "\n",
    "        If both sentences in {first_lang} and {second_lang} are missing, return only the translationAccuracy block.\n",
    "        \"\"\"\n",
    "\n",
    "        delay = 10\n",
    "        while True:\n",
    "            try:\n",
    "                response = await client.chat.completions.create(\n",
    "                    model=model,\n",
    "                    messages=[\n",
    "                        {\"role\": \"system\", \"content\": system_prompt},\n",
    "                        {\"role\": \"user\", \"content\": user_prompt}\n",
    "                    ]\n",
    "                )\n",
    "                break\n",
    "            except Exception:\n",
    "                await asyncio.sleep(delay)\n",
    "                continue\n",
    "        \n",
    "        try:\n",
    "            results.append(json.loads(response.choices[0].message.content.strip()))\n",
    "        except Exception:\n",
    "            pass\n",
    "    \n",
    "    # Create tasks for each card to evaluate them concurrently\n",
    "    tasks = [evaluate_card(card) for card in cards]\n",
    "    await tqdm_asyncio.gather(*tasks, desc=\"Evaluating flashcards\")\n",
    "    \n",
    "    return results\n",
    "\n",
    "# Example usage\n",
    "# asyncio.run(evaluate_cards_async(cards, first_lang, second_lang, model))\n"
   ]
  },
  {
   "cell_type": "code",
   "execution_count": 9,
   "id": "e1fae59a",
   "metadata": {},
   "outputs": [
    {
     "name": "stderr",
     "output_type": "stream",
     "text": [
      "\n",
      "Evaluating flashcards:   0%|                                                                   | 0/100 [00:00<?, ?it/s]\u001b[A\n",
      "Evaluating flashcards:   1%|▌                                                        | 1/100 [00:43<1:11:23, 43.27s/it]\u001b[A\n",
      "Evaluating flashcards:   3%|█▊                                                         | 3/100 [00:43<18:12, 11.27s/it]\u001b[A\n",
      "Evaluating flashcards:   7%|████▏                                                      | 7/100 [00:45<06:02,  3.90s/it]\u001b[A\n",
      "Evaluating flashcards:   8%|████▋                                                      | 8/100 [00:45<05:02,  3.29s/it]\u001b[A\n",
      "Evaluating flashcards:   9%|█████▎                                                     | 9/100 [00:46<04:15,  2.81s/it]\u001b[A\n",
      "Evaluating flashcards:  10%|█████▊                                                    | 10/100 [01:45<24:02, 16.03s/it]\u001b[A\n",
      "Evaluating flashcards:  11%|██████▍                                                   | 11/100 [01:45<17:50, 12.02s/it]\u001b[A\n",
      "Evaluating flashcards:  13%|███████▌                                                  | 13/100 [01:46<10:28,  7.22s/it]\u001b[A\n",
      "Evaluating flashcards:  14%|████████                                                  | 14/100 [01:47<08:06,  5.66s/it]\u001b[A\n",
      "Evaluating flashcards:  15%|████████▋                                                 | 15/100 [01:47<06:04,  4.28s/it]\u001b[A\n",
      "Evaluating flashcards:  17%|█████████▊                                                | 17/100 [01:47<03:30,  2.53s/it]\u001b[A\n",
      "Evaluating flashcards:  18%|██████████▍                                               | 18/100 [02:49<22:03, 16.14s/it]\u001b[A\n",
      "Evaluating flashcards:  20%|███████████▌                                              | 20/100 [02:51<13:25, 10.07s/it]\u001b[A\n",
      "Evaluating flashcards:  22%|████████████▊                                             | 22/100 [02:52<08:46,  6.75s/it]\u001b[A\n",
      "Evaluating flashcards:  23%|█████████████▎                                            | 23/100 [03:53<22:52, 17.82s/it]\u001b[A\n",
      "Evaluating flashcards:  24%|█████████████▉                                            | 24/100 [03:53<17:32, 13.84s/it]\u001b[A\n",
      "Evaluating flashcards:  26%|███████████████                                           | 26/100 [03:54<10:33,  8.56s/it]\u001b[A\n",
      "Evaluating flashcards:  27%|███████████████▋                                          | 27/100 [03:55<08:22,  6.88s/it]\u001b[A\n",
      "Evaluating flashcards:  28%|████████████████▏                                         | 28/100 [03:56<06:36,  5.50s/it]\u001b[A\n",
      "Evaluating flashcards:  29%|████████████████▊                                         | 29/100 [04:57<23:07, 19.55s/it]\u001b[A\n",
      "Evaluating flashcards:  32%|██████████████████▌                                       | 32/100 [04:57<10:38,  9.39s/it]\u001b[A\n",
      "Evaluating flashcards:  37%|█████████████████████▍                                    | 37/100 [04:57<04:24,  4.20s/it]\u001b[A\n",
      "Evaluating flashcards:  39%|██████████████████████▌                                   | 39/100 [05:00<03:31,  3.47s/it]\u001b[A\n",
      "Evaluating flashcards:  39%|██████████████████████▌                                   | 39/100 [05:10<03:31,  3.47s/it]\u001b[A\n",
      "Evaluating flashcards:  40%|███████████████████████▏                                  | 40/100 [05:59<11:41, 11.70s/it]\u001b[A\n",
      "Evaluating flashcards:  43%|████████████████████████▉                                 | 43/100 [05:59<06:50,  7.21s/it]\u001b[A\n",
      "Evaluating flashcards:  45%|██████████████████████████                                | 45/100 [06:02<05:07,  5.59s/it]\u001b[A\n",
      "Evaluating flashcards:  45%|██████████████████████████                                | 45/100 [06:19<05:07,  5.59s/it]\u001b[A\n",
      "Evaluating flashcards:  47%|███████████████████████████▎                              | 47/100 [07:02<11:00, 12.47s/it]\u001b[A\n",
      "Evaluating flashcards:  49%|████████████████████████████▍                             | 49/100 [07:03<07:41,  9.06s/it]\u001b[A\n",
      "Evaluating flashcards:  50%|█████████████████████████████                             | 50/100 [07:04<06:21,  7.63s/it]\u001b[A\n",
      "Evaluating flashcards:  52%|██████████████████████████████▏                           | 52/100 [07:04<04:10,  5.22s/it]\u001b[A\n",
      "Evaluating flashcards:  53%|██████████████████████████████▋                           | 53/100 [07:05<03:25,  4.36s/it]\u001b[A\n",
      "Evaluating flashcards:  54%|███████████████████████████████▎                          | 54/100 [08:06<12:32, 16.36s/it]\u001b[A\n",
      "Evaluating flashcards:  55%|███████████████████████████████▉                          | 55/100 [08:06<09:27, 12.61s/it]\u001b[A\n",
      "Evaluating flashcards:  56%|████████████████████████████████▍                         | 56/100 [08:07<07:09,  9.76s/it]\u001b[A\n",
      "Evaluating flashcards:  57%|█████████████████████████████████                         | 57/100 [08:08<05:21,  7.48s/it]\u001b[A\n",
      "Evaluating flashcards:  58%|█████████████████████████████████▋                        | 58/100 [09:09<15:22, 21.97s/it]\u001b[A\n",
      "Evaluating flashcards:  66%|██████████████████████████████████████▎                   | 66/100 [09:09<03:01,  5.35s/it]\u001b[A\n",
      "Evaluating flashcards:  66%|██████████████████████████████████████▎                   | 66/100 [09:20<03:01,  5.35s/it]\u001b[A\n",
      "Evaluating flashcards:  68%|███████████████████████████████████████▍                  | 68/100 [10:13<05:51, 10.98s/it]\u001b[A\n",
      "Evaluating flashcards:  69%|████████████████████████████████████████                  | 69/100 [10:13<04:56,  9.57s/it]\u001b[A\n",
      "Evaluating flashcards:  71%|█████████████████████████████████████████▏                | 71/100 [10:14<03:23,  7.01s/it]\u001b[A\n",
      "Evaluating flashcards:  73%|██████████████████████████████████████████▎               | 73/100 [10:15<02:20,  5.21s/it]\u001b[A\n",
      "Evaluating flashcards:  74%|██████████████████████████████████████████▉               | 74/100 [11:14<06:09, 14.20s/it]\u001b[A\n",
      "Evaluating flashcards:  75%|███████████████████████████████████████████▌              | 75/100 [11:14<04:48, 11.53s/it]\u001b[A\n",
      "Evaluating flashcards:  76%|████████████████████████████████████████████              | 76/100 [11:15<03:39,  9.13s/it]\u001b[A\n",
      "Evaluating flashcards:  77%|████████████████████████████████████████████▋             | 77/100 [11:15<02:45,  7.20s/it]\u001b[A\n",
      "Evaluating flashcards:  78%|█████████████████████████████████████████████▏            | 78/100 [11:16<01:59,  5.43s/it]\u001b[A\n",
      "Evaluating flashcards:  79%|█████████████████████████████████████████████▊            | 79/100 [11:16<01:25,  4.08s/it]\u001b[A\n",
      "Evaluating flashcards:  80%|██████████████████████████████████████████████▍           | 80/100 [12:18<06:41, 20.10s/it]\u001b[A\n",
      "Evaluating flashcards:  82%|███████████████████████████████████████████████▌          | 82/100 [12:19<03:24, 11.35s/it]\u001b[A\n",
      "Evaluating flashcards:  84%|████████████████████████████████████████████████▋         | 84/100 [13:20<04:59, 18.71s/it]\u001b[A\n",
      "Evaluating flashcards:  85%|█████████████████████████████████████████████████▎        | 85/100 [13:21<03:44, 14.97s/it]\u001b[A\n",
      "Evaluating flashcards:  87%|██████████████████████████████████████████████████▍       | 87/100 [15:26<07:11, 33.18s/it]\u001b[A\n",
      "Evaluating flashcards:  89%|███████████████████████████████████████████████████▌      | 89/100 [15:27<03:57, 21.55s/it]\u001b[A\n",
      "Evaluating flashcards:  90%|████████████████████████████████████████████████████▏     | 90/100 [15:27<02:52, 17.25s/it]\u001b[A\n",
      "Evaluating flashcards:  91%|████████████████████████████████████████████████████▊     | 91/100 [15:28<02:02, 13.60s/it]\u001b[A\n",
      "Evaluating flashcards:  92%|█████████████████████████████████████████████████████▎    | 92/100 [15:29<01:25, 10.65s/it]\u001b[A\n",
      "Evaluating flashcards:  94%|██████████████████████████████████████████████████████▌   | 94/100 [16:27<01:47, 17.99s/it]\u001b[A\n",
      "Evaluating flashcards:  95%|███████████████████████████████████████████████████████   | 95/100 [16:27<01:10, 14.11s/it]\u001b[A\n",
      "Evaluating flashcards:  96%|███████████████████████████████████████████████████████▋  | 96/100 [16:29<00:44, 11.17s/it]\u001b[A\n",
      "Evaluating flashcards:  97%|████████████████████████████████████████████████████████▎ | 97/100 [17:28<01:10, 23.44s/it]\u001b[A\n",
      "Evaluating flashcards:  99%|█████████████████████████████████████████████████████████▍| 99/100 [17:30<00:13, 13.93s/it]\u001b[A\n",
      "Evaluating flashcards: 100%|█████████████████████████████████████████████████████████| 100/100 [18:29<00:00, 11.09s/it]\u001b[A\n"
     ]
    }
   ],
   "source": [
    "results = await evaluate_cards_async(first_chapter[:100])"
   ]
  },
  {
   "cell_type": "code",
   "execution_count": 20,
   "id": "a1565aea",
   "metadata": {},
   "outputs": [
    {
     "data": {
      "text/plain": [
       "66"
      ]
     },
     "execution_count": 20,
     "metadata": {},
     "output_type": "execute_result"
    }
   ],
   "source": [
    "len(results)"
   ]
  },
  {
   "cell_type": "code",
   "execution_count": 10,
   "id": "d9cfd066",
   "metadata": {},
   "outputs": [
    {
     "data": {
      "text/plain": [
       "0.9770114942528736"
      ]
     },
     "execution_count": 10,
     "metadata": {},
     "output_type": "execute_result"
    }
   ],
   "source": [
    "sum([res['translationAccuracy']['isCorrect'] for res in results]) / len([res['translationAccuracy']['isCorrect'] for res in results])"
   ]
  },
  {
   "cell_type": "code",
   "execution_count": null,
   "id": "5091808b",
   "metadata": {},
   "outputs": [],
   "source": []
  }
 ],
 "metadata": {
  "kernelspec": {
   "display_name": "Python 3 (ipykernel)",
   "language": "python",
   "name": "python3"
  },
  "language_info": {
   "codemirror_mode": {
    "name": "ipython",
    "version": 3
   },
   "file_extension": ".py",
   "mimetype": "text/x-python",
   "name": "python",
   "nbconvert_exporter": "python",
   "pygments_lexer": "ipython3",
   "version": "3.8.18"
  }
 },
 "nbformat": 4,
 "nbformat_minor": 5
}
