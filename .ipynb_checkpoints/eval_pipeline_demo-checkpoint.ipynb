{
 "cells": [
  {
   "cell_type": "code",
   "execution_count": 24,
   "id": "ad7eacd1",
   "metadata": {},
   "outputs": [],
   "source": [
    "#!/usr/bin/env python\n",
    "# coding: utf-8\n",
    "import openai\n",
    "from openai import AzureOpenAI, AsyncAzureOpenAI\n",
    "from tqdm.notebook import tqdm\n",
    "import os\n",
    "from dotenv import load_dotenv, find_dotenv\n",
    "import requests\n",
    "import base64\n",
    "\n",
    "\n",
    "# create \".env\" file and put the line with the key in it\n",
    "# OPENAI_API_KEY=\"<get_your_key_from_platform.openai.com\"\n",
    "def get_openai_api_key():\n",
    "    _ = load_dotenv(find_dotenv())\n",
    "\n",
    "    return os.getenv(\"OPENAI_API_KEY\")\n",
    "\n",
    "OPENAI_API_KEY = get_openai_api_key()\n",
    "# client = openai.OpenAI(api_key=OPENAI_API_KEY)  # Replace \"YOUR_API_KEY\" with your actual OpenAI API key\n",
    "\n",
    "azure_endpoint=os.getenv(\"AZURE_OPENAI_ENDPOINT\")\n",
    "client = AzureOpenAI(\n",
    "    api_key=os.getenv(\"AZURE_OPENAI_API_KEY\"),  \n",
    "    api_version=\"2024-07-01-preview\",\n",
    "    azure_endpoint=os.getenv(\"AZURE_OPENAI_ENDPOINT\")\n",
    ")\n",
    "\n",
    "GPT_3_5_TURBO = \"gpt-3.5-turbo\"\n",
    "GPT_4_TURBO_PREVIEW = \"gpt-4-turbo-preview\"\n",
    "GPT_4 = 'gpt-4'\n",
    "GPT_4o = 'gpt-4o'"
   ]
  },
  {
   "cell_type": "code",
   "execution_count": 25,
   "id": "ce53aa92",
   "metadata": {},
   "outputs": [],
   "source": [
    "def generate_english_sentences(words, system_prompt, model=GPT_4o):\n",
    "    word_to_sentence = {}\n",
    "    for word in tqdm(words, desc=\"Generating sentece examplesn\"):\n",
    "        #         prompt = f\"Generate a simple, useful, beginner-friendly sentence in Finnish using the word or phrase: '{word}'. The sentence should be useful and easy to understand for someone learning Finnish.\"\n",
    "        # prompt = f\"Generate a simple, useful, beginner-friendly sentence in Finnish using the word or phrase: '{word}'. The sentence should be useful and easy to understand for someone learning Finnish. Provide only the Finnish sentence, without any translation or additional information.\"\n",
    "        user_prompt = f'''Generate an idiomatic, simple, useful sentence in English containing this word or phrase:\n",
    "        \n",
    "        === \n",
    "        '{word}'\n",
    "        ===\n",
    "         \n",
    "        The sentence should be useful and easy to understand for someone who just started learning English. Provide only the English sentence, without any translation or additional information.\n",
    "        '''\n",
    "\n",
    "        response = client.chat.completions.create(\n",
    "          model=model,\n",
    "          messages=[\n",
    "            {\"role\": \"system\", \"content\": system_prompt},\n",
    "            {\"role\": \"user\", \"content\": user_prompt}\n",
    "          ]\n",
    "        )\n",
    "        \n",
    "        sentence = response.choices[0].message.content if response.choices else 'No response generated.'\n",
    "\n",
    "        word_to_sentence[word] = sentence.strip()\n",
    "    return word_to_sentence\n"
   ]
  },
  {
   "cell_type": "code",
   "execution_count": 26,
   "id": "734bb67f",
   "metadata": {},
   "outputs": [
    {
     "data": {
      "application/vnd.jupyter.widget-view+json": {
       "model_id": "e887066444b4413e8937f5e2ca3e4f5e",
       "version_major": 2,
       "version_minor": 0
      },
      "text/plain": [
       "Generating sentece examplesn:   0%|          | 0/1 [00:00<?, ?it/s]"
      ]
     },
     "metadata": {},
     "output_type": "display_data"
    },
    {
     "data": {
      "text/plain": [
       "{'Apple': 'An apple a day keeps the doctor away.'}"
      ]
     },
     "execution_count": 26,
     "metadata": {},
     "output_type": "execute_result"
    }
   ],
   "source": [
    "system_prompt = '''You are generator of simple and usefull sentences.'''\n",
    "generate_english_sentences([\"Apple\"], system_prompt, model=GPT_4o)"
   ]
  },
  {
   "cell_type": "code",
   "execution_count": 22,
   "id": "61a40090",
   "metadata": {},
   "outputs": [],
   "source": [
    "def generate_russian_sentences(words, system_prompt, model=GPT_4o):\n",
    "    word_to_sentence = {}\n",
    "    for word in tqdm(words, desc=\"Generating sentece examplesn\"):\n",
    "        #         prompt = f\"Generate a simple, useful, beginner-friendly sentence in Finnish using the word or phrase: '{word}'. The sentence should be useful and easy to understand for someone learning Finnish.\"\n",
    "        # prompt = f\"Generate a simple, useful, beginner-friendly sentence in Finnish using the word or phrase: '{word}'. The sentence should be useful and easy to understand for someone learning Finnish. Provide only the Finnish sentence, without any translation or additional information.\"\n",
    "        user_prompt = f'''Generate an idiomatic, simple, useful sentence in Russian containing this word or phrase:\n",
    "        \n",
    "        === \n",
    "        '{word}'\n",
    "        ===\n",
    "         \n",
    "        The sentence should be useful and easy to understand for someone who just started learning Russian. Provide only the Russian sentence, without any translation or additional information.\n",
    "        '''\n",
    "\n",
    "        response = client.chat.completions.create(\n",
    "          model=model,\n",
    "          messages=[\n",
    "            {\"role\": \"system\", \"content\": system_prompt},\n",
    "            {\"role\": \"user\", \"content\": user_prompt}\n",
    "          ]\n",
    "        )\n",
    "\n",
    "        sentence = response.choices[0].message.content if response.choices else 'No response generated.'\n",
    "\n",
    "        word_to_sentence[word] = sentence.strip()\n",
    "    return word_to_sentence\n"
   ]
  },
  {
   "cell_type": "code",
   "execution_count": 23,
   "id": "c01cf4fe",
   "metadata": {},
   "outputs": [
    {
     "data": {
      "application/vnd.jupyter.widget-view+json": {
       "model_id": "97b5af1ba37541469b2e976f7618f21f",
       "version_major": 2,
       "version_minor": 0
      },
      "text/plain": [
       "Generating sentece examplesn:   0%|          | 0/1 [00:00<?, ?it/s]"
      ]
     },
     "metadata": {},
     "output_type": "display_data"
    },
    {
     "data": {
      "text/plain": [
       "{'Привет': 'Привет, как дела?'}"
      ]
     },
     "execution_count": 23,
     "metadata": {},
     "output_type": "execute_result"
    }
   ],
   "source": [
    "system_prompt = '''You are Russian generator of simple and usefull sentences on Russian language.'''\n",
    "generate_russian_sentences([\"Привет\"], system_prompt, model=GPT_4o)"
   ]
  },
  {
   "cell_type": "code",
   "execution_count": 9,
   "id": "afcf6a95",
   "metadata": {},
   "outputs": [],
   "source": [
    "def generate_russian_words(system_prompt, n=1000, model=GPT_4o):\n",
    "    user_prompt = f'''Generate {n} basic, useful Russian words or phrases for beginners. Provide only generated words or phrases using for separator only comma'''\n",
    "\n",
    "    response = client.chat.completions.create(\n",
    "      model=model,\n",
    "      messages=[\n",
    "        {\"role\": \"system\", \"content\": system_prompt},\n",
    "        {\"role\": \"user\", \"content\": user_prompt}\n",
    "      ]\n",
    "    )\n",
    "\n",
    "    sentence = response.choices[0].message.content if response.choices else 'No response generated.'\n",
    "\n",
    "    return [word.strip() for word in sentence.split(',')]\n"
   ]
  },
  {
   "cell_type": "code",
   "execution_count": 32,
   "id": "969b46c6",
   "metadata": {},
   "outputs": [],
   "source": [
    "system_prompt = '''You are the Russian dictionary with useful words and phrases for beginners.'''\n",
    "russian_basic_words = generate_russian_words(system_prompt, model=GPT_4o)"
   ]
  },
  {
   "cell_type": "code",
   "execution_count": 41,
   "id": "e030620f",
   "metadata": {},
   "outputs": [
    {
     "data": {
      "application/vnd.jupyter.widget-view+json": {
       "model_id": "ddfcfe1ba264438fa0d29b07c38b6c7d",
       "version_major": 2,
       "version_minor": 0
      },
      "text/plain": [
       "Generating sentece examplesn:   0%|          | 0/100 [00:00<?, ?it/s]"
      ]
     },
     "metadata": {},
     "output_type": "display_data"
    }
   ],
   "source": [
    "system_prompt = '''You are Russian generator of simple and usefull sentences on Russian language.'''\n",
    "russian_word_to_sentence = generate_russian_sentences(russian_basic_words[:100], system_prompt, model=GPT_4o)"
   ]
  },
  {
   "cell_type": "code",
   "execution_count": 42,
   "id": "470f3898",
   "metadata": {
    "scrolled": true
   },
   "outputs": [
    {
     "data": {
      "text/plain": [
       "{'здравствуйте': 'Здравствуйте, как вас зовут?',\n",
       " 'да': 'Да, я понимаю.',\n",
       " 'нет': 'Извините, но у меня нет времени.',\n",
       " 'пожалуйста': 'Пожалуйста, передайте мне соль.',\n",
       " 'спасибо': 'Спасибо за помощь!',\n",
       " 'извините': 'Извините, вы не подскажете дорогу?',\n",
       " 'доброе утро': 'Доброе утро, как вы себя чувствуете сегодня?',\n",
       " 'добрый день': 'Добрый день, как ваши дела?',\n",
       " 'добрый вечер': 'Добрый вечер, как у вас дела?',\n",
       " 'спокойной ночи': 'Спокойной ночи, увидимся завтра!',\n",
       " 'как дела': 'Как дела? У тебя всё хорошо?',\n",
       " 'хорошо': 'Всё будет хорошо.',\n",
       " 'плохо': 'Мне стало плохо.',\n",
       " 'нормально': 'У меня всё нормально.',\n",
       " 'отлично': 'Ты сделал это задание отлично!',\n",
       " 'привет': 'Привет, как дела?',\n",
       " 'пока': 'Пока, увидимся завтра!',\n",
       " 'до свидания': 'До свидания, до завтра!',\n",
       " 'до встречи': 'До встречи на следующей неделе.',\n",
       " 'до завтра': 'До завтра!',\n",
       " 'меня зовут': 'Меня зовут Алексей, а тебя?',\n",
       " 'как вас зовут': 'Как вас зовут, если не секрет?',\n",
       " 'очень приятно': 'Очень приятно познакомиться!',\n",
       " 'вы говорите по-английски': 'Извините, вы говорите по-английски?',\n",
       " 'я не понимаю': 'Я не понимаю, что вы говорите.',\n",
       " 'повторите': 'Пожалуйста, повторите медленно.',\n",
       " 'медленнее': 'Пожалуйста, говорите медленнее.',\n",
       " 'сколько это стоит': 'Скажите, пожалуйста, сколько это стоит?',\n",
       " 'где находится': 'Где находится ближайшая аптека?',\n",
       " 'пойдёмте': 'Пойдёмте в магазин за продуктами.',\n",
       " 'я хочу': 'Я хочу пить.',\n",
       " 'я могу': 'Я могу помочь тебе с этим.',\n",
       " 'я не могу': 'Извините, я не могу помочь вам с этим.',\n",
       " 'можно': 'Можно мне взять это?',\n",
       " 'нельзя': 'Здесь фотографировать нельзя.',\n",
       " 'мне нужно': 'Мне нужно купить хлеб.',\n",
       " 'я люблю': 'Я люблю читать книги.',\n",
       " 'я не люблю': 'Я не люблю ждать долго.',\n",
       " 'я голоден': 'Я голоден, давай поедим что-нибудь.',\n",
       " 'я жажду': 'Я жажду воды после быстрого бега.',\n",
       " 'мне нужно помочь': 'Мне нужно помочь бабушке с покупками.',\n",
       " 'вода': 'Пожалуйста, налей мне стакан воды.',\n",
       " 'еда': 'Еда на столе готова.',\n",
       " 'завтрак': 'Я люблю завтракать по утрам.',\n",
       " 'обед': 'Я готовлю обед для всей семьи.',\n",
       " 'ужин': 'Я приготовил ужин для всей семьи.',\n",
       " 'напиток': 'Этот напиток очень вкусный.',\n",
       " 'хлеб': 'Я хочу купить свежий хлеб.',\n",
       " 'молоко': 'Могу ли я купить молоко в этом магазине?',\n",
       " 'мясо': 'Мне нравится жареное мясо.',\n",
       " 'овощи': 'Ешь больше овощей, это полезно для здоровья.',\n",
       " 'фрукты': 'Есть ли у вас свежие фрукты?',\n",
       " 'соль': 'Не забудь добавить соль в суп.',\n",
       " 'сахар': 'Я не пью чай с сахаром.',\n",
       " 'чай': 'Подай, пожалуйста, чашку чая.',\n",
       " 'кофе': 'Я хочу выпить кофе.',\n",
       " 'суп': 'Мама готовит вкусный суп на ужин.',\n",
       " 'рыба': 'Я поймал большую рыбу на озере.',\n",
       " 'курица': 'Курица бегает по двору.',\n",
       " 'сок': 'Можно мне стакан сока, пожалуйста?',\n",
       " 'вино': 'Это вино очень вкусное.',\n",
       " 'пиво': 'Я хочу заказать пиво.',\n",
       " 'стакан': 'Пожалуйста, налей мне воды в стакан.',\n",
       " 'чашка': 'Я хочу пить чай из этой чашки.',\n",
       " 'тарелка': 'Я поставил суп на новую тарелку.',\n",
       " 'нож': 'Пожалуйста, передай мне нож.',\n",
       " 'вилка': 'Дай мне, пожалуйста, вилку.',\n",
       " 'ложка': 'У меня есть деревянная ложка.',\n",
       " 'салфетка': 'Можно мне, пожалуйста, салфетку?',\n",
       " 'гостиница': 'Где находится ближайшая гостиница?',\n",
       " 'номер': 'Какой у вас номер комнаты?',\n",
       " 'кровать': 'Я люблю читать книги, лежа на кровати.',\n",
       " 'ванная': 'Я убираю комнату, а ты уберись в ванной.',\n",
       " 'душ': 'После тренировки я всегда принимаю душ.',\n",
       " 'туалет': 'Где находится туалет?',\n",
       " 'телевизор': 'Мой брат смотрит телевизор каждый вечер.',\n",
       " 'окно': 'Открой, пожалуйста, окно.',\n",
       " 'дверь': 'Пожалуйста, закрой дверь.',\n",
       " 'балкон': 'Вечером мы часто сидим на балконе.',\n",
       " 'ключ': 'Ключ от квартиры лежит на столе.',\n",
       " 'ресторан': 'Мы пойдём в ресторан на ужин.',\n",
       " 'меню': 'Пожалуйста, принесите меню.',\n",
       " 'официант': 'Официант принес меню и подождал, пока я выберу блюдо.',\n",
       " 'супермаркет': 'Я иду в супермаркет за продуктами.',\n",
       " 'магазин': 'Я иду в магазин за продуктами.',\n",
       " 'аптека': 'Я купил лекарство в аптеке.',\n",
       " 'больница': 'Я иду в больницу на проверку.',\n",
       " 'полиция': 'Полиция быстро приехала на место происшествия.',\n",
       " 'метро': 'Я каждый день езжу на работу на метро.',\n",
       " 'автобус': 'Автобус приехал на остановку.',\n",
       " 'такси': 'Я заказал такси на вечер.',\n",
       " 'билет': 'Где можно купить билет на концерт?',\n",
       " 'поезд': 'Поезд прибудет на станцию через пять минут.',\n",
       " 'аэропорт': 'Где находится ближайший аэропорт?',\n",
       " 'самолёт': 'Самолёт прилетает в три часа.',\n",
       " 'вокзал': 'Я жду тебя на вокзале.',\n",
       " 'улица': 'Я живу на улице Ленина.'}"
      ]
     },
     "execution_count": 42,
     "metadata": {},
     "output_type": "execute_result"
    }
   ],
   "source": [
    "russian_word_to_sentence"
   ]
  },
  {
   "cell_type": "code",
   "execution_count": 43,
   "id": "4d114719",
   "metadata": {},
   "outputs": [
    {
     "data": {
      "application/vnd.jupyter.widget-view+json": {
       "model_id": "7b17eb1c0fdb4bada4c6400b5f47ccca",
       "version_major": 2,
       "version_minor": 0
      },
      "text/plain": [
       "Generating sentece examplesn:   0%|          | 0/10 [00:00<?, ?it/s]"
      ]
     },
     "metadata": {},
     "output_type": "display_data"
    }
   ],
   "source": [
    "system_prompt = '''You are Russian generator of simple and usefull sentences on Russian language.'''\n",
    "little_russian_word_to_sentence = generate_russian_sentences(russian_basic_words[:10], system_prompt, model=GPT_4o)"
   ]
  },
  {
   "cell_type": "code",
   "execution_count": 24,
   "id": "e1b4f09c",
   "metadata": {},
   "outputs": [],
   "source": [
    "def translate_russian_to_english(word_to_sentence, system_prompt, model=GPT_4o):\n",
    "    cards = []\n",
    "    for word, sentence in tqdm(word_to_sentence.items(), desc=\"Generating sentece examplesn\"):\n",
    "        #         prompt = f\"Generate a simple, useful, beginner-friendly sentence in Finnish using the word or phrase: '{word}'. The sentence should be useful and easy to understand for someone learning Finnish.\"\n",
    "        # prompt = f\"Generate a simple, useful, beginner-friendly sentence in Finnish using the word or phrase: '{word}'. The sentence should be useful and easy to understand for someone learning Finnish. Provide only the Finnish sentence, without any translation or additional information.\"\n",
    "        #user_prompt = f'''You will get the pair of word or phrase and sentence which contains this word or phrase on Russian then translate it into English. You should translate the word or phrase then translate given sentence into English language.\n",
    "        #\n",
    "        #=== \n",
    "        #Given word or phrase: '{word}'\n",
    "        #===\n",
    "        #Given sentence: '{sentence}'\n",
    "        #===\n",
    "        # \n",
    "        #The english translated sentence should contain english translated word. Return only english translated word and english translated sentence using comma as seperator and nothing else.\n",
    "        #'''\n",
    "        word_prompt = f\"\"\"Translate given word or phrase into English.\n",
    "        ===\n",
    "        Given word: '{word}'\n",
    "        ===\n",
    "        Return only translated word or phrase and nothing else.\n",
    "        \"\"\"\n",
    "\n",
    "        response = client.chat.completions.create(\n",
    "          model=model,\n",
    "          messages=[\n",
    "            {\"role\": \"system\", \"content\": system_prompt},\n",
    "            {\"role\": \"user\", \"content\": word_prompt}\n",
    "          ]\n",
    "        )\n",
    "\n",
    "        tr_word = response.choices[0].message.content if response.choices else 'No response generated.'\n",
    "        \n",
    "        sentence_prompt = f\"\"\"Translate given sentence into English. Make sure it contains this word {tr_word}\n",
    "        ===\n",
    "        Given sentence: '{sentence}'\n",
    "        ===\n",
    "        Return only translated word or phrase and nothing else. Make sentence grammaticly correct and idiomatic.\n",
    "        \"\"\"\n",
    "\n",
    "        response = client.chat.completions.create(\n",
    "          model=model,\n",
    "          messages=[\n",
    "            {\"role\": \"system\", \"content\": system_prompt},\n",
    "            {\"role\": \"user\", \"content\": sentence_prompt}\n",
    "          ]\n",
    "        )\n",
    "\n",
    "        tr_sentence = response.choices[0].message.content if response.choices else 'No response generated.'\n",
    "        \n",
    "        card = {}\n",
    "        card[\"wordFirstLang\"] = word\n",
    "        card[\"sentenceFirstLang\"] = sentence\n",
    "        card[\"wordSecondLang\"] = tr_word.strip()\n",
    "        card[\"sentenceSecondLang\"] = tr_sentence.strip()\n",
    "        cards.append(card)\n",
    "        \n",
    "    return cards\n"
   ]
  },
  {
   "cell_type": "code",
   "execution_count": 56,
   "id": "e8fb0c3a",
   "metadata": {},
   "outputs": [
    {
     "data": {
      "application/vnd.jupyter.widget-view+json": {
       "model_id": "5dcf44d63ab14e3ebb3c8279d3b2cf7d",
       "version_major": 2,
       "version_minor": 0
      },
      "text/plain": [
       "Generating sentece examplesn:   0%|          | 0/10 [00:00<?, ?it/s]"
      ]
     },
     "metadata": {},
     "output_type": "display_data"
    }
   ],
   "source": [
    "system_prompt = '''You are the Russian to English translater for beginners. Translate given (word, sentence) pair from Russian to English'''\n",
    "little_cards = translate_russian_to_english(little_russian_word_to_sentence, system_prompt, model=GPT_4o)"
   ]
  },
  {
   "cell_type": "code",
   "execution_count": 57,
   "id": "b3095731",
   "metadata": {},
   "outputs": [
    {
     "data": {
      "text/plain": [
       "[{'wordFirstLang': 'здравствуйте',\n",
       "  'sentenceFirstLang': 'Здравствуйте, как у вас дела?',\n",
       "  'wordSecondLang': 'hello',\n",
       "  'sentenceSecondLang': 'Hello, how are you?'},\n",
       " {'wordFirstLang': 'да',\n",
       "  'sentenceFirstLang': 'Да, я тебя понимаю.',\n",
       "  'wordSecondLang': 'yes',\n",
       "  'sentenceSecondLang': 'Yes, I understand you.'},\n",
       " {'wordFirstLang': 'нет',\n",
       "  'sentenceFirstLang': 'Извините, но у нас нет хлеба.',\n",
       "  'wordSecondLang': 'no',\n",
       "  'sentenceSecondLang': 'Sorry, but we have no bread.'},\n",
       " {'wordFirstLang': 'пожалуйста',\n",
       "  'sentenceFirstLang': 'Принесите мне стакан воды, пожалуйста.',\n",
       "  'wordSecondLang': 'please',\n",
       "  'sentenceSecondLang': 'Bring me a glass of water, please.'},\n",
       " {'wordFirstLang': 'спасибо',\n",
       "  'sentenceFirstLang': 'Спасибо за помощь.',\n",
       "  'wordSecondLang': 'thank you',\n",
       "  'sentenceSecondLang': 'Thank you for your help.'},\n",
       " {'wordFirstLang': 'извините',\n",
       "  'sentenceFirstLang': 'Извините, можно мне пройти?',\n",
       "  'wordSecondLang': 'Sorry',\n",
       "  'sentenceSecondLang': 'Sorry, can I pass?'},\n",
       " {'wordFirstLang': 'доброе утро',\n",
       "  'sentenceFirstLang': 'Доброе утро, как ты себя чувствуешь сегодня?',\n",
       "  'wordSecondLang': 'good morning',\n",
       "  'sentenceSecondLang': 'Good morning, how are you feeling today?'},\n",
       " {'wordFirstLang': 'добрый день',\n",
       "  'sentenceFirstLang': 'Добрый день, как ваши дела?',\n",
       "  'wordSecondLang': 'good afternoon',\n",
       "  'sentenceSecondLang': 'Good afternoon, how are you?'},\n",
       " {'wordFirstLang': 'добрый вечер',\n",
       "  'sentenceFirstLang': 'Добрый вечер, как у вас дела?',\n",
       "  'wordSecondLang': 'good evening',\n",
       "  'sentenceSecondLang': 'Good evening, how are you?'},\n",
       " {'wordFirstLang': 'спокойной ночи',\n",
       "  'sentenceFirstLang': 'Спокойной ночи и сладких снов!',\n",
       "  'wordSecondLang': 'Good night',\n",
       "  'sentenceSecondLang': 'Good night and sweet dreams!'}]"
      ]
     },
     "execution_count": 57,
     "metadata": {},
     "output_type": "execute_result"
    }
   ],
   "source": [
    "little_cards"
   ]
  },
  {
   "cell_type": "code",
   "execution_count": 14,
   "id": "2565c0d3",
   "metadata": {},
   "outputs": [],
   "source": [
    "def eval_cards(cards, first_lang='Russian', second_lang='Finnish', model=GPT_4o):\n",
    "    successfull_translations = []\n",
    "    for card in tqdm(cards, desc=\"Generating sentece examplesn\"):\n",
    "        word_first_lang = card[\"wordFirstLang\"]\n",
    "        sentence_first_lang = card[\"sentenceFirstLang\"]\n",
    "        word_second_lang = card[\"wordSecondLang\"]\n",
    "        sentence_second_lang = card[\"sentenceSecondLang\"]\n",
    "        \n",
    "        word_translation_check = f\"\"\"Do this {first_lang} word or phrase '{word_first_lang}' is translation of this {second_lang} word or phrase '{word_second_lang}'.\n",
    "        Provide only 1 if yes, 0 else.\n",
    "        \"\"\"\n",
    "\n",
    "        response = client.chat.completions.create(\n",
    "          model=model,\n",
    "          messages=[\n",
    "            {\"role\": \"user\", \"content\": word_translation_check}\n",
    "          ]\n",
    "        )\n",
    "\n",
    "        is_word_translation_correct = response.choices[0].message.content if response.choices else 'No response generated.'\n",
    "        \n",
    "        sentence_translation_check = f\"\"\"Do this {first_lang} sentence '{sentence_first_lang}' is translation of this {second_lang} sentence '{sentence_second_lang}'.\n",
    "        Provide only 1 if yes, 0 else.\n",
    "        \"\"\"\n",
    "\n",
    "        response = client.chat.completions.create(\n",
    "          model=model,\n",
    "          messages=[\n",
    "            {\"role\": \"user\", \"content\": sentence_translation_check}\n",
    "          ]\n",
    "        )\n",
    "\n",
    "        is_sentence_translation_correct = response.choices[0].message.content if response.choices else 'No response generated.'\n",
    "        \n",
    "        first_word_exist_check = f\"\"\"Do this {first_lang} word or phrase '{word_first_lang}' contains in this sentence '{sentence_first_lang}'?\n",
    "        Provide only 1 if yes, 0 else.\n",
    "        \"\"\"\n",
    "\n",
    "        response = client.chat.completions.create(\n",
    "          model=model,\n",
    "          messages=[\n",
    "            {\"role\": \"user\", \"content\": first_word_exist_check}\n",
    "          ]\n",
    "        )\n",
    "        \n",
    "        is_first_word_exists = response.choices[0].message.content if response.choices else 'No response generated.'\n",
    "        \n",
    "        second_word_exist_check = f\"\"\"Do this {second_lang} word or phrase '{word_second_lang}' contains in this sentence '{sentence_second_lang}'?\n",
    "        Provide only 1 if yes, 0 else.\n",
    "        \"\"\"\n",
    "\n",
    "        response = client.chat.completions.create(\n",
    "          model=model,\n",
    "          messages=[\n",
    "            {\"role\": \"user\", \"content\": second_word_exist_check}\n",
    "          ]\n",
    "        )\n",
    "        \n",
    "        is_second_word_exists = response.choices[0].message.content if response.choices else 'No response generated.'\n",
    "\n",
    "        #append succesfull card\n",
    "        successfull_translations.append(int(is_word_translation_correct) * int(is_sentence_translation_correct) * int(is_first_word_exists) * int(is_second_word_exists))\n",
    "    return sum(successfull_translations) / len(successfull_translations)\n"
   ]
  },
  {
   "cell_type": "code",
   "execution_count": 64,
   "id": "ed6241ef",
   "metadata": {},
   "outputs": [
    {
     "data": {
      "application/vnd.jupyter.widget-view+json": {
       "model_id": "6e8ae4d795da456db0ec20f5103250eb",
       "version_major": 2,
       "version_minor": 0
      },
      "text/plain": [
       "Generating sentece examplesn:   0%|          | 0/10 [00:00<?, ?it/s]"
      ]
     },
     "metadata": {},
     "output_type": "display_data"
    },
    {
     "data": {
      "text/plain": [
       "1.0"
      ]
     },
     "execution_count": 64,
     "metadata": {},
     "output_type": "execute_result"
    }
   ],
   "source": [
    "eval_cards(little_cards)"
   ]
  },
  {
   "cell_type": "code",
   "execution_count": 44,
   "id": "86b8247e",
   "metadata": {},
   "outputs": [],
   "source": [
    "import json\n",
    "\n",
    "\n",
    "FOLDER_WITH_JSON = '../../data/russian-finnish/cards/curated_platform_cards/'\n",
    "def load_cards_from_file(file_name):\n",
    "    data = []\n",
    "    file_path = FOLDER_WITH_JSON + file_name\n",
    "    with open(file_path, 'r', encoding='utf-8') as file:\n",
    "        data = json.load(file)\n",
    "    return data"
   ]
  },
  {
   "cell_type": "code",
   "execution_count": 45,
   "id": "20ab53c3",
   "metadata": {},
   "outputs": [
    {
     "data": {
      "application/vnd.jupyter.widget-view+json": {
       "model_id": "0f2abddc6a89482ca390a57e3c582921",
       "version_major": 2,
       "version_minor": 0
      },
      "text/plain": [
       "  0%|          | 0/9 [00:00<?, ?it/s]"
      ]
     },
     "metadata": {},
     "output_type": "display_data"
    }
   ],
   "source": [
    "file_names = [f'sm1_new_kap{i}.json' for i in range(1, 10)]\n",
    "\n",
    "first_chapter = []\n",
    "for file_name in tqdm(file_names):\n",
    "    first_chapter.extend(load_cards_from_file(file_name))"
   ]
  },
  {
   "cell_type": "code",
   "execution_count": 13,
   "id": "f86c3363",
   "metadata": {},
   "outputs": [],
   "source": [
    "file_name = 'sm1_new_kap1.json'\n",
    "cards = load_cards_from_file(file_name)"
   ]
  },
  {
   "cell_type": "code",
   "execution_count": 78,
   "id": "35cedd40",
   "metadata": {},
   "outputs": [
    {
     "data": {
      "application/vnd.jupyter.widget-view+json": {
       "model_id": "1e31ee712c384381af9c386bdebb9f26",
       "version_major": 2,
       "version_minor": 0
      },
      "text/plain": [
       "Generating sentece examplesn:   0%|          | 0/151 [00:00<?, ?it/s]"
      ]
     },
     "metadata": {},
     "output_type": "display_data"
    },
    {
     "data": {
      "text/plain": [
       "0.2847682119205298"
      ]
     },
     "execution_count": 78,
     "metadata": {},
     "output_type": "execute_result"
    }
   ],
   "source": [
    "eval_cards(cards, first_lang='Russian', second_lang='Finnish')"
   ]
  },
  {
   "cell_type": "code",
   "execution_count": 9,
   "id": "a68bd94f",
   "metadata": {},
   "outputs": [],
   "source": [
    "def evaluate_cards_2(cards, first_lang='Russian', second_lang='Finnish', model=GPT_4o):\n",
    "    # Construct the prompt\n",
    "    results = []\n",
    "    for card in tqdm(cards):\n",
    "        system_prompt = f\"\"\"\n",
    "        You are a language expert proficient in both {first_lang} and {second_lang}.\"\"\"\n",
    "\n",
    "        user_prompt = f\"\"\"\n",
    "        You are given a flashcard containing a word and a sentence in {first_lang}, along with its translation and \n",
    "        a sentence in {second_lang}. Your task is to evaluate the correctness of the flashcard. Here’s what you need to check:\n",
    "\n",
    "        1. Whether the sentence in {first_lang} is grammatically correct and natural.\n",
    "        2. Whether the sentence in {second_lang} is grammatically correct and natural.\n",
    "        3. Whether the translation from {second_lang} to {first_lang} is accurate.\n",
    "        4. Whether the word in {first_lang} occurs in some form in the {first_lang} sentence.\n",
    "        5. Whether the word in {second_lang} occurs in some form in the {second_lang} sentence.\n",
    "\n",
    "        If both sentence in {first_lang} and {second_lang} are missing it is ok, just check the translation to {second_lang}. \n",
    "\n",
    "        Check that the word in {first_lang} appear in the sentence in some form, diregarding the case and form of the word, or the order of the words, \n",
    "        if the words in {first_lang} consists of several words. For example if the word is 'в то же время' and in sentence it's 'в одно и то же время', it's ok. Or if 'когда опять' in the words and 'когда моя сестра опять' is in the sentence. \n",
    "        If there are several synonyms in {first_lang} word field, then if one of them appears in the sentences in some form it's ok. \n",
    "        For example if {first_lang} word is 'выносить, красть' and in sentence 'украсть' is used it's ok.\n",
    "\n",
    "        If the word doesn't appear in some form, suggest using synonyms or related terms in the \n",
    "        translation to ensure the sentence remains natural and accurate. You can change either the sentence translation \n",
    "        or the word translation. For example, if the word is \"досуг,\" it can be translated as \"досуг\" or \"свободное время\". So if the word \"свободное время\" \n",
    "        is in some form used in the sentence and it sounds natural, suggested fix can be to change the word translation to \"досуг, свободное время\", \n",
    "        keeping the sentence intact\n",
    "\n",
    "\n",
    "\n",
    "\n",
    "        In the suggestedFix fields don't provide explanations or instructions, just provide the final corrected string.\n",
    "        If it's better to fix word, not sentence, return null for suggestedFixSentence.\n",
    "\n",
    "\n",
    "        Provide a detailed evaluation for each point and suggest fixes where necessary.\n",
    "\n",
    "        Here is the flashcard:\n",
    "\n",
    "        Word in {first_lang}: {card['wordFirstLang']}\n",
    "        Sentence in {first_lang}: {card['sentenceFirstLang']}\n",
    "        Word in {second_lang}: {card['wordSecondLang']}\n",
    "        Sentence in {second_lang}: {card['sentenceSecondLang']}\n",
    "\n",
    "        Respond in JSON format with the following structure:\n",
    "\n",
    "        {{\n",
    "          \"{first_lang}Sentence\": {{\n",
    "            \"isCorrect\": true/false,\n",
    "            \"explanation\": \"Detailed explanation if there is an issue or why it's correct\",\n",
    "            \"suggestedFix\": \"Suggested correction if there is an issue\"\n",
    "          }},\n",
    "          \"{second_lang}Sentence\": {{\n",
    "            \"isCorrect\": true/false,\n",
    "            \"explanation\": \"Detailed explanation if there is an issue or why it's correct\",\n",
    "            \"suggestedFix\": \"Suggested correction if there is an issue\"\n",
    "          }},\n",
    "          \"translationAccuracy\": {{\n",
    "            \"isCorrect\": true/false,\n",
    "            \"explanation\": \"Detailed explanation if there is an issue or why it's correct\",\n",
    "            \"suggestedFix\": \"Suggested correction if there is an issue\"\n",
    "          }},\n",
    "          \"{first_lang}WordUsage\": {{\n",
    "            \"isCorrect\": true/false,\n",
    "            \"explanation\": \"Detailed explanation if there is an issue or why it's correct\",\n",
    "            \"suggestedFixSentence\": \"Suggested correction to the sentence if there is an issue\"\n",
    "            \"suggestedFixWord\": \"Suggested correction to the word if there is an issue\"\n",
    "          }},\n",
    "          \"{second_lang}WordUsage\": {{\n",
    "            \"isCorrect\": true/false,\n",
    "            \"explanation\": \"Detailed explanation if there is an issue or why it's correct\",\n",
    "            \"suggestedFix\": \"Suggested correction if there is an issue\"\n",
    "          }}\n",
    "        }}\n",
    "\n",
    "\n",
    "        If both sentence in {first_lang} and {second_lang} are missing return only translationAccuracy block.\n",
    "        \"\"\"\n",
    "\n",
    "        response = client.chat.completions.create(\n",
    "          model=\"gpt-4o\",\n",
    "          response_format={ \"type\": \"json_object\" },\n",
    "          messages=[\n",
    "            {\"role\": \"system\", \"content\": system_prompt},\n",
    "            {\"role\": \"user\", \"content\": user_prompt}\n",
    "          ]\n",
    "        )\n",
    "        \n",
    "        results.append(json.loads(response.choices[0].message.content.strip()))\n",
    "    return results"
   ]
  },
  {
   "cell_type": "code",
   "execution_count": 92,
   "id": "28a9e2af",
   "metadata": {},
   "outputs": [
    {
     "data": {
      "application/vnd.jupyter.widget-view+json": {
       "model_id": "7ffee7eb91b844069b0f9db6dea5106c",
       "version_major": 2,
       "version_minor": 0
      },
      "text/plain": [
       "  0%|          | 0/151 [00:00<?, ?it/s]"
      ]
     },
     "metadata": {},
     "output_type": "display_data"
    }
   ],
   "source": [
    "results = evaluate_cards_2(cards, first_lang='Russian', second_lang='Finnish')"
   ]
  },
  {
   "cell_type": "code",
   "execution_count": 12,
   "id": "bb6c93d3",
   "metadata": {},
   "outputs": [
    {
     "data": {
      "application/vnd.jupyter.widget-view+json": {
       "model_id": "f823ccf01694423d82fc931d7360c025",
       "version_major": 2,
       "version_minor": 0
      },
      "text/plain": [
       "  0%|          | 0/260 [00:00<?, ?it/s]"
      ]
     },
     "metadata": {},
     "output_type": "display_data"
    },
    {
     "data": {
      "application/vnd.jupyter.widget-view+json": {
       "model_id": "e6c8c15e1c0e499ca101bdcd126a87f0",
       "version_major": 2,
       "version_minor": 0
      },
      "text/plain": [
       "  0%|          | 0/227 [00:00<?, ?it/s]"
      ]
     },
     "metadata": {},
     "output_type": "display_data"
    }
   ],
   "source": [
    "file_names = [f'sm1_new_kap{i}.json' for i in range(8, 10)]\n",
    "\n",
    "first_chapter = []\n",
    "results_first_chapter = []\n",
    "for file_name in file_names:\n",
    "    cur_cards = load_cards_from_file(file_name)\n",
    "    results_first_chapter.extend(evaluate_cards_2(cur_cards, first_lang='Russian', second_lang='Finnish'))"
   ]
  },
  {
   "cell_type": "code",
   "execution_count": 13,
   "id": "a34510cb",
   "metadata": {},
   "outputs": [
    {
     "data": {
      "text/plain": [
       "0.9404517453798767"
      ]
     },
     "execution_count": 13,
     "metadata": {},
     "output_type": "execute_result"
    }
   ],
   "source": [
    "sum([res['translationAccuracy']['isCorrect'] for res in results_first_chapter]) / len([res['translationAccuracy']['isCorrect'] for res in results_first_chapter])"
   ]
  },
  {
   "cell_type": "code",
   "execution_count": 56,
   "id": "2f38e433",
   "metadata": {},
   "outputs": [],
   "source": [
    "def evaluate_cards_3(cards, first_lang='Russian', second_lang='Finnish', model=GPT_4o):\n",
    "    results = []\n",
    "    for i in range(0, len(cards), 5):\n",
    "        if i + 5 > len(cards):\n",
    "            continue\n",
    "            \n",
    "        card = cards[i: i + 5]\n",
    "        \n",
    "        system_prompt = f\"\"\"\n",
    "        You are a language expert proficient in both {first_lang} and {second_lang}.\"\"\"\n",
    "\n",
    "        user_prompt = f\"\"\"\n",
    "        You are given a 5 flashcards containing a word and a sentence in {first_lang}, along with its translation and \n",
    "        a sentence in {second_lang}. Your task is to evaluate the correctness of the flashcard. Here’s what you need to check:\n",
    "\n",
    "        1. Whether the sentence in {first_lang} is grammatically correct and natural.\n",
    "        2. Whether the sentence in {second_lang} is grammatically correct and natural.\n",
    "        3. Whether the translation from {second_lang} to {first_lang} is accurate.\n",
    "        4. Whether the word in {first_lang} occurs in some form in the {first_lang} sentence.\n",
    "        5. Whether the word in {second_lang} occurs in some form in the {second_lang} sentence.\n",
    "\n",
    "        If both sentence in {first_lang} and {second_lang} are missing it is ok, just check the translation to {second_lang}. \n",
    "\n",
    "        Check that the word in {first_lang} appear in the sentence in some form, diregarding the case and form of the word, or the order of the words, \n",
    "        if the words in {first_lang} consists of several words. For example if the word is 'в то же время' and in sentence it's 'в одно и то же время', it's ok. Or if 'когда опять' in the words and 'когда моя сестра опять' is in the sentence. \n",
    "        If there are several synonyms in {first_lang} word field, then if one of them appears in the sentences in some form it's ok. \n",
    "        For example if {first_lang} word is 'выносить, красть' and in sentence 'украсть' is used it's ok.\n",
    "\n",
    "        If the word doesn't appear in some form, suggest using synonyms or related terms in the \n",
    "        translation to ensure the sentence remains natural and accurate. You can change either the sentence translation \n",
    "        or the word translation. For example, if the word is \"досуг,\" it can be translated as \"досуг\" or \"свободное время\". So if the word \"свободное время\" \n",
    "        is in some form used in the sentence and it sounds natural, suggested fix can be to change the word translation to \"досуг, свободное время\", \n",
    "        keeping the sentence intact\n",
    "\n",
    "\n",
    "\n",
    "\n",
    "        In the suggestedFix fields don't provide explanations or instructions, just provide the final corrected string.\n",
    "        If it's better to fix word, not sentence, return null for suggestedFixSentence.\n",
    "\n",
    "\n",
    "        Provide a detailed evaluation for each point and suggest fixes where necessary.\n",
    "\n",
    "        Here is the flashcards:\n",
    "        \n",
    "        First flashcard:\n",
    "\n",
    "        Word in {first_lang}: {card[0]['wordFirstLang']}\n",
    "        Sentence in {first_lang}: {card[0]['sentenceFirstLang']}\n",
    "        Word in {second_lang}: {card[0]['wordSecondLang']}\n",
    "        Sentence in {second_lang}: {card[0]['sentenceSecondLang']}\n",
    "        \n",
    "        \n",
    "        Second flashcard:\n",
    "\n",
    "        Word in {first_lang}: {card[1]['wordFirstLang']}\n",
    "        Sentence in {first_lang}: {card[1]['sentenceFirstLang']}\n",
    "        Word in {second_lang}: {card[1]['wordSecondLang']}\n",
    "        Sentence in {second_lang}: {card[1]['sentenceSecondLang']}\n",
    "        \n",
    "        \n",
    "        Third flashcard:\n",
    "\n",
    "        Word in {first_lang}: {card[2]['wordFirstLang']}\n",
    "        Sentence in {first_lang}: {card[2]['sentenceFirstLang']}\n",
    "        Word in {second_lang}: {card[2]['wordSecondLang']}\n",
    "        Sentence in {second_lang}: {card[2]['sentenceSecondLang']}\n",
    "        \n",
    "        \n",
    "        Fourth flashcard:\n",
    "\n",
    "        Word in {first_lang}: {card[3]['wordFirstLang']}\n",
    "        Sentence in {first_lang}: {card[3]['sentenceFirstLang']}\n",
    "        Word in {second_lang}: {card[3]['wordSecondLang']}\n",
    "        Sentence in {second_lang}: {card[3]['sentenceSecondLang']}\n",
    "        \n",
    "        \n",
    "        Fifth flashcard:\n",
    "\n",
    "        Word in {first_lang}: {card[4]['wordFirstLang']}\n",
    "        Sentence in {first_lang}: {card[4]['sentenceFirstLang']}\n",
    "        Word in {second_lang}: {card[4]['wordSecondLang']}\n",
    "        Sentence in {second_lang}: {card[4]['sentenceSecondLang']}\n",
    "        \n",
    "\n",
    "        Send responce in a list of dict formats, where each flashcard should be JSON format with the following structure:\n",
    "\n",
    "        {{\n",
    "          \"{first_lang}Sentence\": {{\n",
    "            \"isCorrect\": true/false,\n",
    "            \"explanation\": \"Detailed explanation if there is an issue or why it's correct\",\n",
    "            \"suggestedFix\": \"Suggested correction if there is an issue\"\n",
    "          }},\n",
    "          \"{second_lang}Sentence\": {{\n",
    "            \"isCorrect\": true/false,\n",
    "            \"explanation\": \"Detailed explanation if there is an issue or why it's correct\",\n",
    "            \"suggestedFix\": \"Suggested correction if there is an issue\"\n",
    "          }},\n",
    "          \"translationAccuracy\": {{\n",
    "            \"isCorrect\": true/false,\n",
    "            \"explanation\": \"Detailed explanation if there is an issue or why it's correct\",\n",
    "            \"suggestedFix\": \"Suggested correction if there is an issue\"\n",
    "          }},\n",
    "          \"{first_lang}WordUsage\": {{\n",
    "            \"isCorrect\": true/false,\n",
    "            \"explanation\": \"Detailed explanation if there is an issue or why it's correct\",\n",
    "            \"suggestedFixSentence\": \"Suggested correction to the sentence if there is an issue\"\n",
    "            \"suggestedFixWord\": \"Suggested correction to the word if there is an issue\"\n",
    "          }},\n",
    "          \"{second_lang}WordUsage\": {{\n",
    "            \"isCorrect\": true/false,\n",
    "            \"explanation\": \"Detailed explanation if there is an issue or why it's correct\",\n",
    "            \"suggestedFix\": \"Suggested correction if there is an issue\"\n",
    "          }}\n",
    "        }}\n",
    "\n",
    "        \"\"\"\n",
    "\n",
    "        response = client.chat.completions.create(\n",
    "          model=\"gpt-4o\",\n",
    "          response_format={ \"type\": \"json_object\" },\n",
    "          messages=[\n",
    "            {\"role\": \"system\", \"content\": system_prompt},\n",
    "            {\"role\": \"user\", \"content\": user_prompt}\n",
    "          ]\n",
    "        )\n",
    "        \n",
    "        #print(response.choices[0].message.content)\n",
    "        results.append(json.loads(response.choices[0].message.content))\n",
    "    return results"
   ]
  },
  {
   "cell_type": "code",
   "execution_count": 57,
   "id": "e6386af7",
   "metadata": {},
   "outputs": [],
   "source": [
    "tmp = evaluate_cards_3(first_chapter[:5])"
   ]
  },
  {
   "cell_type": "code",
   "execution_count": 58,
   "id": "5874a99f",
   "metadata": {},
   "outputs": [
    {
     "data": {
      "text/plain": [
       "{'RussianSentence': {'isCorrect': True,\n",
       "  'explanation': \"The sentence 'Привет, как дела?' is grammatically correct and natural.\",\n",
       "  'suggestedFix': None},\n",
       " 'FinnishSentence': {'isCorrect': True,\n",
       "  'explanation': \"The sentence 'Hei, mitä kuuluu?' is grammatically correct and natural.\",\n",
       "  'suggestedFix': None},\n",
       " 'translationAccuracy': {'isCorrect': True,\n",
       "  'explanation': 'The translation from Finnish to Russian is accurate.',\n",
       "  'suggestedFix': None},\n",
       " 'RussianWordUsage': {'isCorrect': True,\n",
       "  'explanation': \"The word 'Привет!' in Russian occurs in the sentence 'Привет, как дела?'.\",\n",
       "  'suggestedFixSentence': None,\n",
       "  'suggestedFixWord': None},\n",
       " 'FinnishWordUsage': {'isCorrect': True,\n",
       "  'explanation': \"The word 'Hei!' in Finnish occurs in the sentence 'Hei, mitä kuuluu?'.\",\n",
       "  'suggestedFix': None}}"
      ]
     },
     "execution_count": 58,
     "metadata": {},
     "output_type": "execute_result"
    }
   ],
   "source": [
    "tmp[0]"
   ]
  },
  {
   "cell_type": "code",
   "execution_count": 29,
   "id": "d5831c2b",
   "metadata": {
    "scrolled": true
   },
   "outputs": [
    {
     "data": {
      "application/vnd.jupyter.widget-view+json": {
       "model_id": "f57875c388af4dd88e0618970ea94c76",
       "version_major": 2,
       "version_minor": 0
      },
      "text/plain": [
       "  0%|          | 0/1935 [00:00<?, ?it/s]"
      ]
     },
     "metadata": {},
     "output_type": "display_data"
    },
    {
     "ename": "KeyboardInterrupt",
     "evalue": "",
     "output_type": "error",
     "traceback": [
      "\u001b[1;31m---------------------------------------------------------------------------\u001b[0m",
      "\u001b[1;31mHTTPStatusError\u001b[0m                           Traceback (most recent call last)",
      "\u001b[1;32mC:\\Users\\Public\\Anaconda3\\lib\\site-packages\\openai\\_base_client.py\u001b[0m in \u001b[0;36m_request\u001b[1;34m(self, cast_to, options, retries_taken, stream, stream_cls)\u001b[0m\n\u001b[0;32m   1036\u001b[0m         \u001b[1;32mtry\u001b[0m\u001b[1;33m:\u001b[0m\u001b[1;33m\u001b[0m\u001b[1;33m\u001b[0m\u001b[0m\n\u001b[1;32m-> 1037\u001b[1;33m             \u001b[0mresponse\u001b[0m\u001b[1;33m.\u001b[0m\u001b[0mraise_for_status\u001b[0m\u001b[1;33m(\u001b[0m\u001b[1;33m)\u001b[0m\u001b[1;33m\u001b[0m\u001b[1;33m\u001b[0m\u001b[0m\n\u001b[0m\u001b[0;32m   1038\u001b[0m         \u001b[1;32mexcept\u001b[0m \u001b[0mhttpx\u001b[0m\u001b[1;33m.\u001b[0m\u001b[0mHTTPStatusError\u001b[0m \u001b[1;32mas\u001b[0m \u001b[0merr\u001b[0m\u001b[1;33m:\u001b[0m  \u001b[1;31m# thrown on 4xx and 5xx status code\u001b[0m\u001b[1;33m\u001b[0m\u001b[1;33m\u001b[0m\u001b[0m\n",
      "\u001b[1;32mC:\\Users\\Public\\Anaconda3\\lib\\site-packages\\httpx\\_models.py\u001b[0m in \u001b[0;36mraise_for_status\u001b[1;34m(self)\u001b[0m\n\u001b[0;32m    762\u001b[0m         \u001b[0mmessage\u001b[0m \u001b[1;33m=\u001b[0m \u001b[0mmessage\u001b[0m\u001b[1;33m.\u001b[0m\u001b[0mformat\u001b[0m\u001b[1;33m(\u001b[0m\u001b[0mself\u001b[0m\u001b[1;33m,\u001b[0m \u001b[0merror_type\u001b[0m\u001b[1;33m=\u001b[0m\u001b[0merror_type\u001b[0m\u001b[1;33m)\u001b[0m\u001b[1;33m\u001b[0m\u001b[1;33m\u001b[0m\u001b[0m\n\u001b[1;32m--> 763\u001b[1;33m         \u001b[1;32mraise\u001b[0m \u001b[0mHTTPStatusError\u001b[0m\u001b[1;33m(\u001b[0m\u001b[0mmessage\u001b[0m\u001b[1;33m,\u001b[0m \u001b[0mrequest\u001b[0m\u001b[1;33m=\u001b[0m\u001b[0mrequest\u001b[0m\u001b[1;33m,\u001b[0m \u001b[0mresponse\u001b[0m\u001b[1;33m=\u001b[0m\u001b[0mself\u001b[0m\u001b[1;33m)\u001b[0m\u001b[1;33m\u001b[0m\u001b[1;33m\u001b[0m\u001b[0m\n\u001b[0m\u001b[0;32m    764\u001b[0m \u001b[1;33m\u001b[0m\u001b[0m\n",
      "\u001b[1;31mHTTPStatusError\u001b[0m: Client error '429 Too Many Requests' for url 'https://pectoazureopenai.openai.azure.com/openai/deployments/gpt-4o/chat/completions?api-version=2024-07-01-preview'\nFor more information check: https://developer.mozilla.org/en-US/docs/Web/HTTP/Status/429",
      "\nDuring handling of the above exception, another exception occurred:\n",
      "\u001b[1;31mKeyboardInterrupt\u001b[0m                         Traceback (most recent call last)",
      "\u001b[1;32m<ipython-input-29-1d304b5cd739>\u001b[0m in \u001b[0;36m<module>\u001b[1;34m\u001b[0m\n\u001b[1;32m----> 1\u001b[1;33m \u001b[0mresults\u001b[0m \u001b[1;33m=\u001b[0m \u001b[0mevaluate_cards_2\u001b[0m\u001b[1;33m(\u001b[0m\u001b[0mfirst_chapter\u001b[0m\u001b[1;33m)\u001b[0m\u001b[1;33m\u001b[0m\u001b[1;33m\u001b[0m\u001b[0m\n\u001b[0m",
      "\u001b[1;32m<ipython-input-28-1c188945c61f>\u001b[0m in \u001b[0;36mevaluate_cards_2\u001b[1;34m(cards, first_lang, second_lang, model)\u001b[0m\n\u001b[0;32m     80\u001b[0m         \"\"\"\n\u001b[0;32m     81\u001b[0m \u001b[1;33m\u001b[0m\u001b[0m\n\u001b[1;32m---> 82\u001b[1;33m         response = client.chat.completions.create(\n\u001b[0m\u001b[0;32m     83\u001b[0m           \u001b[0mmodel\u001b[0m\u001b[1;33m=\u001b[0m\u001b[1;34m\"gpt-4o\"\u001b[0m\u001b[1;33m,\u001b[0m\u001b[1;33m\u001b[0m\u001b[1;33m\u001b[0m\u001b[0m\n\u001b[0;32m     84\u001b[0m           \u001b[0mresponse_format\u001b[0m\u001b[1;33m=\u001b[0m\u001b[1;33m{\u001b[0m \u001b[1;34m\"type\"\u001b[0m\u001b[1;33m:\u001b[0m \u001b[1;34m\"json_object\"\u001b[0m \u001b[1;33m}\u001b[0m\u001b[1;33m,\u001b[0m\u001b[1;33m\u001b[0m\u001b[1;33m\u001b[0m\u001b[0m\n",
      "\u001b[1;32mC:\\Users\\Public\\Anaconda3\\lib\\site-packages\\openai\\_utils\\_utils.py\u001b[0m in \u001b[0;36mwrapper\u001b[1;34m(*args, **kwargs)\u001b[0m\n\u001b[0;32m    272\u001b[0m                         \u001b[0mmsg\u001b[0m \u001b[1;33m=\u001b[0m \u001b[1;34mf\"Missing required argument: {quote(missing[0])}\"\u001b[0m\u001b[1;33m\u001b[0m\u001b[1;33m\u001b[0m\u001b[0m\n\u001b[0;32m    273\u001b[0m                 \u001b[1;32mraise\u001b[0m \u001b[0mTypeError\u001b[0m\u001b[1;33m(\u001b[0m\u001b[0mmsg\u001b[0m\u001b[1;33m)\u001b[0m\u001b[1;33m\u001b[0m\u001b[1;33m\u001b[0m\u001b[0m\n\u001b[1;32m--> 274\u001b[1;33m             \u001b[1;32mreturn\u001b[0m \u001b[0mfunc\u001b[0m\u001b[1;33m(\u001b[0m\u001b[1;33m*\u001b[0m\u001b[0margs\u001b[0m\u001b[1;33m,\u001b[0m \u001b[1;33m**\u001b[0m\u001b[0mkwargs\u001b[0m\u001b[1;33m)\u001b[0m\u001b[1;33m\u001b[0m\u001b[1;33m\u001b[0m\u001b[0m\n\u001b[0m\u001b[0;32m    275\u001b[0m \u001b[1;33m\u001b[0m\u001b[0m\n\u001b[0;32m    276\u001b[0m         \u001b[1;32mreturn\u001b[0m \u001b[0mwrapper\u001b[0m  \u001b[1;31m# type: ignore\u001b[0m\u001b[1;33m\u001b[0m\u001b[1;33m\u001b[0m\u001b[0m\n",
      "\u001b[1;32mC:\\Users\\Public\\Anaconda3\\lib\\site-packages\\openai\\resources\\chat\\completions.py\u001b[0m in \u001b[0;36mcreate\u001b[1;34m(self, messages, model, frequency_penalty, function_call, functions, logit_bias, logprobs, max_completion_tokens, max_tokens, metadata, n, parallel_tool_calls, presence_penalty, response_format, seed, service_tier, stop, store, stream, stream_options, temperature, tool_choice, tools, top_logprobs, top_p, user, extra_headers, extra_query, extra_body, timeout)\u001b[0m\n\u001b[0;32m    740\u001b[0m     ) -> ChatCompletion | Stream[ChatCompletionChunk]:\n\u001b[0;32m    741\u001b[0m         \u001b[0mvalidate_response_format\u001b[0m\u001b[1;33m(\u001b[0m\u001b[0mresponse_format\u001b[0m\u001b[1;33m)\u001b[0m\u001b[1;33m\u001b[0m\u001b[1;33m\u001b[0m\u001b[0m\n\u001b[1;32m--> 742\u001b[1;33m         return self._post(\n\u001b[0m\u001b[0;32m    743\u001b[0m             \u001b[1;34m\"/chat/completions\"\u001b[0m\u001b[1;33m,\u001b[0m\u001b[1;33m\u001b[0m\u001b[1;33m\u001b[0m\u001b[0m\n\u001b[0;32m    744\u001b[0m             body=maybe_transform(\n",
      "\u001b[1;32mC:\\Users\\Public\\Anaconda3\\lib\\site-packages\\openai\\_base_client.py\u001b[0m in \u001b[0;36mpost\u001b[1;34m(self, path, cast_to, body, options, files, stream, stream_cls)\u001b[0m\n\u001b[0;32m   1275\u001b[0m             \u001b[0mmethod\u001b[0m\u001b[1;33m=\u001b[0m\u001b[1;34m\"post\"\u001b[0m\u001b[1;33m,\u001b[0m \u001b[0murl\u001b[0m\u001b[1;33m=\u001b[0m\u001b[0mpath\u001b[0m\u001b[1;33m,\u001b[0m \u001b[0mjson_data\u001b[0m\u001b[1;33m=\u001b[0m\u001b[0mbody\u001b[0m\u001b[1;33m,\u001b[0m \u001b[0mfiles\u001b[0m\u001b[1;33m=\u001b[0m\u001b[0mto_httpx_files\u001b[0m\u001b[1;33m(\u001b[0m\u001b[0mfiles\u001b[0m\u001b[1;33m)\u001b[0m\u001b[1;33m,\u001b[0m \u001b[1;33m**\u001b[0m\u001b[0moptions\u001b[0m\u001b[1;33m\u001b[0m\u001b[1;33m\u001b[0m\u001b[0m\n\u001b[0;32m   1276\u001b[0m         )\n\u001b[1;32m-> 1277\u001b[1;33m         \u001b[1;32mreturn\u001b[0m \u001b[0mcast\u001b[0m\u001b[1;33m(\u001b[0m\u001b[0mResponseT\u001b[0m\u001b[1;33m,\u001b[0m \u001b[0mself\u001b[0m\u001b[1;33m.\u001b[0m\u001b[0mrequest\u001b[0m\u001b[1;33m(\u001b[0m\u001b[0mcast_to\u001b[0m\u001b[1;33m,\u001b[0m \u001b[0mopts\u001b[0m\u001b[1;33m,\u001b[0m \u001b[0mstream\u001b[0m\u001b[1;33m=\u001b[0m\u001b[0mstream\u001b[0m\u001b[1;33m,\u001b[0m \u001b[0mstream_cls\u001b[0m\u001b[1;33m=\u001b[0m\u001b[0mstream_cls\u001b[0m\u001b[1;33m)\u001b[0m\u001b[1;33m)\u001b[0m\u001b[1;33m\u001b[0m\u001b[1;33m\u001b[0m\u001b[0m\n\u001b[0m\u001b[0;32m   1278\u001b[0m \u001b[1;33m\u001b[0m\u001b[0m\n\u001b[0;32m   1279\u001b[0m     def patch(\n",
      "\u001b[1;32mC:\\Users\\Public\\Anaconda3\\lib\\site-packages\\openai\\_base_client.py\u001b[0m in \u001b[0;36mrequest\u001b[1;34m(self, cast_to, options, remaining_retries, stream, stream_cls)\u001b[0m\n\u001b[0;32m    952\u001b[0m             \u001b[0mretries_taken\u001b[0m \u001b[1;33m=\u001b[0m \u001b[1;36m0\u001b[0m\u001b[1;33m\u001b[0m\u001b[1;33m\u001b[0m\u001b[0m\n\u001b[0;32m    953\u001b[0m \u001b[1;33m\u001b[0m\u001b[0m\n\u001b[1;32m--> 954\u001b[1;33m         return self._request(\n\u001b[0m\u001b[0;32m    955\u001b[0m             \u001b[0mcast_to\u001b[0m\u001b[1;33m=\u001b[0m\u001b[0mcast_to\u001b[0m\u001b[1;33m,\u001b[0m\u001b[1;33m\u001b[0m\u001b[1;33m\u001b[0m\u001b[0m\n\u001b[0;32m    956\u001b[0m             \u001b[0moptions\u001b[0m\u001b[1;33m=\u001b[0m\u001b[0moptions\u001b[0m\u001b[1;33m,\u001b[0m\u001b[1;33m\u001b[0m\u001b[1;33m\u001b[0m\u001b[0m\n",
      "\u001b[1;32mC:\\Users\\Public\\Anaconda3\\lib\\site-packages\\openai\\_base_client.py\u001b[0m in \u001b[0;36m_request\u001b[1;34m(self, cast_to, options, retries_taken, stream, stream_cls)\u001b[0m\n\u001b[0;32m   1041\u001b[0m             \u001b[1;32mif\u001b[0m \u001b[0mremaining_retries\u001b[0m \u001b[1;33m>\u001b[0m \u001b[1;36m0\u001b[0m \u001b[1;32mand\u001b[0m \u001b[0mself\u001b[0m\u001b[1;33m.\u001b[0m\u001b[0m_should_retry\u001b[0m\u001b[1;33m(\u001b[0m\u001b[0merr\u001b[0m\u001b[1;33m.\u001b[0m\u001b[0mresponse\u001b[0m\u001b[1;33m)\u001b[0m\u001b[1;33m:\u001b[0m\u001b[1;33m\u001b[0m\u001b[1;33m\u001b[0m\u001b[0m\n\u001b[0;32m   1042\u001b[0m                 \u001b[0merr\u001b[0m\u001b[1;33m.\u001b[0m\u001b[0mresponse\u001b[0m\u001b[1;33m.\u001b[0m\u001b[0mclose\u001b[0m\u001b[1;33m(\u001b[0m\u001b[1;33m)\u001b[0m\u001b[1;33m\u001b[0m\u001b[1;33m\u001b[0m\u001b[0m\n\u001b[1;32m-> 1043\u001b[1;33m                 return self._retry_request(\n\u001b[0m\u001b[0;32m   1044\u001b[0m                     \u001b[0minput_options\u001b[0m\u001b[1;33m,\u001b[0m\u001b[1;33m\u001b[0m\u001b[1;33m\u001b[0m\u001b[0m\n\u001b[0;32m   1045\u001b[0m                     \u001b[0mcast_to\u001b[0m\u001b[1;33m,\u001b[0m\u001b[1;33m\u001b[0m\u001b[1;33m\u001b[0m\u001b[0m\n",
      "\u001b[1;32mC:\\Users\\Public\\Anaconda3\\lib\\site-packages\\openai\\_base_client.py\u001b[0m in \u001b[0;36m_retry_request\u001b[1;34m(self, options, cast_to, retries_taken, response_headers, stream, stream_cls)\u001b[0m\n\u001b[0;32m   1088\u001b[0m         \u001b[1;31m# In a synchronous context we are blocking the entire thread. Up to the library user to run the client in a\u001b[0m\u001b[1;33m\u001b[0m\u001b[1;33m\u001b[0m\u001b[1;33m\u001b[0m\u001b[0m\n\u001b[0;32m   1089\u001b[0m         \u001b[1;31m# different thread if necessary.\u001b[0m\u001b[1;33m\u001b[0m\u001b[1;33m\u001b[0m\u001b[1;33m\u001b[0m\u001b[0m\n\u001b[1;32m-> 1090\u001b[1;33m         \u001b[0mtime\u001b[0m\u001b[1;33m.\u001b[0m\u001b[0msleep\u001b[0m\u001b[1;33m(\u001b[0m\u001b[0mtimeout\u001b[0m\u001b[1;33m)\u001b[0m\u001b[1;33m\u001b[0m\u001b[1;33m\u001b[0m\u001b[0m\n\u001b[0m\u001b[0;32m   1091\u001b[0m \u001b[1;33m\u001b[0m\u001b[0m\n\u001b[0;32m   1092\u001b[0m         return self._request(\n",
      "\u001b[1;31mKeyboardInterrupt\u001b[0m: "
     ]
    }
   ],
   "source": [
    "results = evaluate_cards_2(first_chapter)"
   ]
  },
  {
   "cell_type": "code",
   "execution_count": 93,
   "id": "6a92682c",
   "metadata": {},
   "outputs": [
    {
     "data": {
      "text/plain": [
       "{'RussianSentence': {'isCorrect': True,\n",
       "  'explanation': \"The Russian sentence 'Привет, как дела?' is grammatically correct and sounds natural.\",\n",
       "  'suggestedFix': None},\n",
       " 'FinnishSentence': {'isCorrect': True,\n",
       "  'explanation': \"The Finnish sentence 'Hei, mitä kuuluu?' is grammatically correct and sounds natural.\",\n",
       "  'suggestedFix': None},\n",
       " 'translationAccuracy': {'isCorrect': True,\n",
       "  'explanation': \"The translation 'Hei, mitä kuuluu?' accurately translates to 'Привет, как дела?' in Russian.\",\n",
       "  'suggestedFix': None},\n",
       " 'RussianWordUsage': {'isCorrect': True,\n",
       "  'explanation': \"The word 'Привет!' appears in the sentence 'Привет, как дела?' in an appropriate form.\",\n",
       "  'suggestedFixSentence': None,\n",
       "  'suggestedFixWord': None},\n",
       " 'FinnishWordUsage': {'isCorrect': True,\n",
       "  'explanation': \"The word 'Hei!' appears in the sentence 'Hei, mitä kuuluu?' in an appropriate form.\",\n",
       "  'suggestedFix': None}}"
      ]
     },
     "execution_count": 93,
     "metadata": {},
     "output_type": "execute_result"
    }
   ],
   "source": [
    "results[0]"
   ]
  },
  {
   "cell_type": "code",
   "execution_count": 95,
   "id": "e5d6ef5e",
   "metadata": {},
   "outputs": [
    {
     "data": {
      "text/plain": [
       "0.9933774834437086"
      ]
     },
     "execution_count": 95,
     "metadata": {},
     "output_type": "execute_result"
    }
   ],
   "source": [
    "sum([res['translationAccuracy']['isCorrect'] for res in results]) / len([res['translationAccuracy']['isCorrect'] for res in results])"
   ]
  },
  {
   "cell_type": "code",
   "execution_count": 17,
   "id": "012c3e37",
   "metadata": {},
   "outputs": [],
   "source": [
    "def translate_first_lang_to_second_lang(initial_cards, first_lang='Russian', second_lang='Finnish', model=GPT_4o):\n",
    "    final_cards = []\n",
    "    \n",
    "    for card in tqdm(initial_cards):\n",
    "        #         prompt = f\"Generate a simple, useful, beginner-friendly sentence in Finnish using the word or phrase: '{word}'. The sentence should be useful and easy to understand for someone learning Finnish.\"\n",
    "        # prompt = f\"Generate a simple, useful, beginner-friendly sentence in Finnish using the word or phrase: '{word}'. The sentence should be useful and easy to understand for someone learning Finnish. Provide only the Finnish sentence, without any translation or additional information.\"\n",
    "        #user_prompt = f'''You will get the pair of word or phrase and sentence which contains this word or phrase on Russian then translate it into English. You should translate the word or phrase then translate given sentence into English language.\n",
    "        #\n",
    "        #=== \n",
    "        #Given word or phrase: '{word}'\n",
    "        #===\n",
    "        #Given sentence: '{sentence}'\n",
    "        #===\n",
    "        # \n",
    "        #The english translated sentence should contain english translated word. Return only english translated word and english translated sentence using comma as seperator and nothing else.\n",
    "        #'''\n",
    "        \n",
    "        word_first_lang = card[\"wordFirstLang\"]\n",
    "        sentence_first_lang = card[\"sentenceFirstLang\"]\n",
    "        \n",
    "        word_prompt = f\"\"\"Translate given {first_lang} word or phrase into {second_lang}.\n",
    "        ===\n",
    "        Given word: '{word_first_lang}'\n",
    "        ===\n",
    "        Return only translated word or phrase and nothing else.\n",
    "        \"\"\"\n",
    "\n",
    "        response = client.chat.completions.create(\n",
    "          model=model,\n",
    "          messages=[\n",
    "            {\"role\": \"system\", \"content\": system_prompt},\n",
    "            {\"role\": \"user\", \"content\": word_prompt}\n",
    "          ]\n",
    "        )\n",
    "\n",
    "        tr_word = response.choices[0].message.content if response.choices else 'No response generated.'\n",
    "        \n",
    "        sentence_prompt = f\"\"\"Translate given {first_lang} sentence into {second_lang}. Make sure it contains this word {tr_word}\n",
    "        ===\n",
    "        Given sentence: '{sentence_first_lang}'\n",
    "        ===\n",
    "        Return only translated word or phrase and nothing else. Make sentence grammaticly correct and idiomatic.\n",
    "        \"\"\"\n",
    "\n",
    "        response = client.chat.completions.create(\n",
    "          model=model,\n",
    "          messages=[\n",
    "            {\"role\": \"system\", \"content\": system_prompt},\n",
    "            {\"role\": \"user\", \"content\": sentence_prompt}\n",
    "          ]\n",
    "        )\n",
    "\n",
    "        tr_sentence = response.choices[0].message.content if response.choices else 'No response generated.'\n",
    "        \n",
    "        final_card = {}\n",
    "        final_card[\"wordFirstLang\"] = word_first_lang\n",
    "        final_card[\"sentenceFirstLang\"] = sentence_first_lang\n",
    "        final_card[\"wordSecondLang\"] = tr_word.strip()\n",
    "        final_card[\"sentenceSecondLang\"] = tr_sentence.strip()\n",
    "        final_cards.append(card)\n",
    "        \n",
    "    return final_cards\n"
   ]
  },
  {
   "cell_type": "code",
   "execution_count": 18,
   "id": "8d20e2d0",
   "metadata": {},
   "outputs": [
    {
     "data": {
      "application/vnd.jupyter.widget-view+json": {
       "model_id": "1a340ac468c34065a99e8f9db8eb86ed",
       "version_major": 2,
       "version_minor": 0
      },
      "text/plain": [
       "  0%|          | 0/151 [00:00<?, ?it/s]"
      ]
     },
     "metadata": {},
     "output_type": "display_data"
    }
   ],
   "source": [
    "translated_cards = translate_first_lang_to_second_lang(cards)"
   ]
  },
  {
   "cell_type": "code",
   "execution_count": 19,
   "id": "6f4e4e69",
   "metadata": {},
   "outputs": [
    {
     "data": {
      "application/vnd.jupyter.widget-view+json": {
       "model_id": "186fde8310f945a4b9afed21241af1da",
       "version_major": 2,
       "version_minor": 0
      },
      "text/plain": [
       "  0%|          | 0/151 [00:00<?, ?it/s]"
      ]
     },
     "metadata": {},
     "output_type": "display_data"
    }
   ],
   "source": [
    "translation_eval_results = evaluate_cards_2(translated_cards, first_lang='Russian', second_lang='Finnish')"
   ]
  },
  {
   "cell_type": "code",
   "execution_count": 20,
   "id": "e5a2ded4",
   "metadata": {},
   "outputs": [
    {
     "data": {
      "text/plain": [
       "0.9933774834437086"
      ]
     },
     "execution_count": 20,
     "metadata": {},
     "output_type": "execute_result"
    }
   ],
   "source": [
    "sum([res['translationAccuracy']['isCorrect'] for res in translation_eval_results]) / len([res['translationAccuracy']['isCorrect'] for res in translation_eval_results])"
   ]
  },
  {
   "cell_type": "code",
   "execution_count": 33,
   "id": "9a183bd3",
   "metadata": {},
   "outputs": [],
   "source": [
    "def eval_with_golden(real_cards, translated_cards, first_lang='Russian', second_lang='Finnish', model=GPT_4o):\n",
    "    results = []\n",
    "    for real_card, translated_card in tqdm(list(zip(real_cards, translated_cards))):\n",
    "        word_real = real_card[\"wordSecondLang\"]\n",
    "        sentence_real = real_card[\"sentenceSecondLang\"]\n",
    "        word_tr = translated_card[\"wordSecondLang\"]\n",
    "        sentence_tr = translated_card[\"sentenceSecondLang\"]\n",
    "        \n",
    "        system_prompt = f\"\"\"\n",
    "        You are a language expert proficient in both {second_lang}.\"\"\"\n",
    "        \n",
    "        user_prompt = f\"\"\"\n",
    "        You are given a two pairs of word or phrase and sentence containing this word or phrase in {second_lang}. Here’s what you need to check:\n",
    "\n",
    "        1. Whether the word or phrase '{word_tr}' is similar by meaning to this word or phrase '{word_real}'.\n",
    "        2. Whether the sentence '{sentence_tr}' is similar by meaning to this sentence '{sentence_real}'.\n",
    "        3. Whether the word or phrase '{word_tr}' occurs in some form in this sentence '{sentence_tr}'.\n",
    "\n",
    "        Respond in JSON format with the following structure:\n",
    "\n",
    "        {{\n",
    "          \"WordSimilarity\": {{\n",
    "            \"isCorrect\": true/false,\n",
    "            \"explanation\": \"Detailed explanation if there is an issue or why it's correct\",\n",
    "            \"suggestedFix\": \"Suggested correction if there is an issue\"\n",
    "          }},\n",
    "          \"SentenceSimilarity\": {{\n",
    "            \"isCorrect\": true/false,\n",
    "            \"explanation\": \"Detailed explanation if there is an issue or why it's correct\",\n",
    "            \"suggestedFix\": \"Suggested correction if there is an issue\"\n",
    "          }},\n",
    "          \"WordUsage\": {{\n",
    "            \"isCorrect\": true/false,\n",
    "            \"explanation\": \"Detailed explanation if there is an issue or why it's correct\",\n",
    "            \"suggestedFixSentence\": \"Suggested correction to the sentence if there is an issue\"\n",
    "            \"suggestedFixWord\": \"Suggested correction to the word if there is an issue\"\n",
    "          }}\n",
    "        }}\n",
    "        \n",
    "        If word or sentence didn't provided then think this checks correct\n",
    "        \"\"\"\n",
    "        \n",
    "        response = client.chat.completions.create(\n",
    "          model=\"gpt-4o\",\n",
    "          response_format={ \"type\": \"json_object\" },\n",
    "          messages=[\n",
    "            {\"role\": \"system\", \"content\": system_prompt},\n",
    "            {\"role\": \"user\", \"content\": user_prompt}\n",
    "          ]\n",
    "        )\n",
    "        \n",
    "        results.append(json.loads(response.choices[0].message.content.strip()))\n",
    "    return results"
   ]
  },
  {
   "cell_type": "code",
   "execution_count": 36,
   "id": "2040bd5c",
   "metadata": {},
   "outputs": [
    {
     "data": {
      "application/vnd.jupyter.widget-view+json": {
       "model_id": "1a001e1ff42a411fa2a36b7fe1fbb59c",
       "version_major": 2,
       "version_minor": 0
      },
      "text/plain": [
       "  0%|          | 0/151 [00:00<?, ?it/s]"
      ]
     },
     "metadata": {},
     "output_type": "display_data"
    }
   ],
   "source": [
    "results_with_golden = eval_with_golden(cards, translated_cards)"
   ]
  },
  {
   "cell_type": "code",
   "execution_count": 37,
   "id": "a8c220ad",
   "metadata": {},
   "outputs": [
    {
     "data": {
      "text/plain": [
       "0.9933774834437086"
      ]
     },
     "execution_count": 37,
     "metadata": {},
     "output_type": "execute_result"
    }
   ],
   "source": [
    "sum([res['WordSimilarity']['isCorrect'] for res in results_with_golden]) / len([res['WordSimilarity']['isCorrect'] for res in results_with_golden])"
   ]
  },
  {
   "cell_type": "code",
   "execution_count": null,
   "id": "8c30c162",
   "metadata": {},
   "outputs": [],
   "source": []
  }
 ],
 "metadata": {
  "celltoolbar": "Отсутствует",
  "kernelspec": {
   "display_name": "Python 3 (ipykernel)",
   "language": "python",
   "name": "python3"
  },
  "language_info": {
   "codemirror_mode": {
    "name": "ipython",
    "version": 3
   },
   "file_extension": ".py",
   "mimetype": "text/x-python",
   "name": "python",
   "nbconvert_exporter": "python",
   "pygments_lexer": "ipython3",
   "version": "3.8.18"
  }
 },
 "nbformat": 4,
 "nbformat_minor": 5
}
