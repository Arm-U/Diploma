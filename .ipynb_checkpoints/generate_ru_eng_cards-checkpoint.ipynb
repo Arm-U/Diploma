{
 "cells": [
  {
   "cell_type": "code",
   "execution_count": 29,
   "id": "0c856add",
   "metadata": {},
   "outputs": [],
   "source": [
    "#!/usr/bin/env python\n",
    "# coding: utf-8\n",
    "import openai\n",
    "from openai import AzureOpenAI, AsyncAzureOpenAI\n",
    "from tqdm.notebook import tqdm\n",
    "import os\n",
    "from dotenv import load_dotenv, find_dotenv\n",
    "import requests\n",
    "import base64\n",
    "\n",
    "\n",
    "# create \".env\" file and put the line with the key in it\n",
    "# OPENAI_API_KEY=\"<get_your_key_from_platform.openai.com\"\n",
    "def get_openai_api_key():\n",
    "    _ = load_dotenv(find_dotenv())\n",
    "\n",
    "    return os.getenv(\"OPENAI_API_KEY\")\n",
    "\n",
    "OPENAI_API_KEY = get_openai_api_key()\n",
    "# client = openai.OpenAI(api_key=OPENAI_API_KEY)  # Replace \"YOUR_API_KEY\" with your actual OpenAI API key\n",
    "\n",
    "azure_endpoint=os.getenv(\"AZURE_OPENAI_ENDPOINT\")\n",
    "client = AzureOpenAI(\n",
    "    api_key=os.getenv(\"AZURE_OPENAI_API_KEY\"),  \n",
    "    api_version=\"2024-07-01-preview\",\n",
    "    azure_endpoint=os.getenv(\"AZURE_OPENAI_ENDPOINT\")\n",
    ")\n",
    "\n",
    "GPT_3_5_TURBO = \"gpt-3.5-turbo\"\n",
    "GPT_4_TURBO_PREVIEW = \"gpt-4-turbo-preview\"\n",
    "GPT_4 = 'gpt-4'\n",
    "GPT_4o = 'gpt-4o'"
   ]
  },
  {
   "cell_type": "code",
   "execution_count": 30,
   "id": "2b2433f4",
   "metadata": {},
   "outputs": [],
   "source": [
    "def generate_ru_eng_cards(basic_cards, system_prompt, model=GPT_4o):\n",
    "    cards = []\n",
    "    for basic_card in tqdm(basic_cards, desc=\"Generating ru-eng cards\"):\n",
    "        #         prompt = f\"Generate a simple, useful, beginner-friendly sentence in Finnish using the word or phrase: '{word}'. The sentence should be useful and easy to understand for someone learning Finnish.\"\n",
    "        # prompt = f\"Generate a simple, useful, beginner-friendly sentence in Finnish using the word or phrase: '{word}'. The sentence should be useful and easy to understand for someone learning Finnish. Provide only the Finnish sentence, without any translation or additional information.\"\n",
    "        #user_prompt = f'''You will get the pair of word or phrase and sentence which contains this word or phrase on Russian then translate it into English. You should translate the word or phrase then translate given sentence into English language.\n",
    "        #\n",
    "        #=== \n",
    "        #Given word or phrase: '{word}'\n",
    "        #===\n",
    "        #Given sentence: '{sentence}'\n",
    "        #===\n",
    "        # \n",
    "        #The english translated sentence should contain english translated word. Return only english translated word and english translated sentence using comma as seperator and nothing else.\n",
    "        #'''\n",
    "        word, sentence, _, _, _ = basic_card.values()\n",
    "        \n",
    "        word_prompt = f\"\"\"Translate given word or phrase into English.\n",
    "        ===\n",
    "        Given word: '{word}'\n",
    "        ===\n",
    "        Return only translated word or phrase and nothing else.\n",
    "        \"\"\"\n",
    "\n",
    "        response = client.chat.completions.create(\n",
    "          model=model,\n",
    "          messages=[\n",
    "            {\"role\": \"system\", \"content\": system_prompt},\n",
    "            {\"role\": \"user\", \"content\": word_prompt}\n",
    "          ]\n",
    "        )\n",
    "\n",
    "        tr_word = response.choices[0].message.content if response.choices else 'No response generated.'\n",
    "        \n",
    "        sentence_prompt = f\"\"\"Translate given sentence into English. Make sure it contains this word {tr_word}\n",
    "        ===\n",
    "        Given sentence: '{sentence}'\n",
    "        ===\n",
    "        Return only translated word or phrase and nothing else. Make sentence grammaticly correct and idiomatic.\n",
    "        \"\"\"\n",
    "\n",
    "        response = client.chat.completions.create(\n",
    "          model=model,\n",
    "          messages=[\n",
    "            {\"role\": \"system\", \"content\": system_prompt},\n",
    "            {\"role\": \"user\", \"content\": sentence_prompt}\n",
    "          ]\n",
    "        )\n",
    "\n",
    "        tr_sentence = response.choices[0].message.content if response.choices else 'No response generated.'\n",
    "        \n",
    "        card = {}\n",
    "        card[\"wordFirstLang\"] = word\n",
    "        card[\"sentenceFirstLang\"] = sentence\n",
    "        card[\"wordSecondLang\"] = tr_word.strip()\n",
    "        card[\"sentenceSecondLang\"] = tr_sentence.strip()\n",
    "        cards.append(card)\n",
    "        \n",
    "    return cards\n"
   ]
  },
  {
   "cell_type": "code",
   "execution_count": 31,
   "id": "bfb2614d",
   "metadata": {},
   "outputs": [],
   "source": [
    "import json\n",
    "\n",
    "\n",
    "FOLDER_WITH_JSON = '../../data/russian-finnish/cards/curated_platform_cards/'\n",
    "def load_cards_from_file(file_name):\n",
    "    data = []\n",
    "    file_path = FOLDER_WITH_JSON + file_name\n",
    "    with open(file_path, 'r', encoding='utf-8') as file:\n",
    "        data = json.load(file)\n",
    "    return data"
   ]
  },
  {
   "cell_type": "code",
   "execution_count": 32,
   "id": "0ffb48f3",
   "metadata": {},
   "outputs": [],
   "source": [
    "ru_cards_1 = load_cards_from_file('sm1_new_kap1.json')"
   ]
  },
  {
   "cell_type": "code",
   "execution_count": 33,
   "id": "926b1515",
   "metadata": {},
   "outputs": [
    {
     "data": {
      "application/vnd.jupyter.widget-view+json": {
       "model_id": "82a09e650f514350941b153b26cfac09",
       "version_major": 2,
       "version_minor": 0
      },
      "text/plain": [
       "Generating ru-eng cards:   0%|          | 0/151 [00:00<?, ?it/s]"
      ]
     },
     "metadata": {},
     "output_type": "display_data"
    }
   ],
   "source": [
    "system_prompt = '''You are the Russian to English translater for beginners. Translate given (word, sentence) pair from Russian to English'''\n",
    "ru_eng_cards_1 = generate_ru_eng_cards(ru_cards_1, system_prompt, model=GPT_4o)"
   ]
  },
  {
   "cell_type": "code",
   "execution_count": 35,
   "id": "6da79666",
   "metadata": {},
   "outputs": [
    {
     "data": {
      "application/vnd.jupyter.widget-view+json": {
       "model_id": "338c3cf6bc344b499866bc9061e95c63",
       "version_major": 2,
       "version_minor": 0
      },
      "text/plain": [
       "  0%|          | 0/151 [00:00<?, ?it/s]"
      ]
     },
     "metadata": {},
     "output_type": "display_data"
    }
   ],
   "source": [
    "results_1 = evaluate_cards(ru_eng_cards_1, second_lang='English')"
   ]
  },
  {
   "cell_type": "code",
   "execution_count": 38,
   "id": "050cebc3",
   "metadata": {},
   "outputs": [
    {
     "data": {
      "text/plain": [
       "24"
      ]
     },
     "execution_count": 38,
     "metadata": {},
     "output_type": "execute_result"
    }
   ],
   "source": [
    "len([res['translationAccuracy']['isCorrect'] for res in results_1]) - sum([res['translationAccuracy']['isCorrect'] for res in results_1])"
   ]
  },
  {
   "cell_type": "code",
   "execution_count": 37,
   "id": "15cd7648",
   "metadata": {},
   "outputs": [
    {
     "name": "stdout",
     "output_type": "stream",
     "text": [
      "{'RussianSentence': {'isCorrect': True, 'explanation': \"The sentence 'Здесь много людей.' is grammatically correct and natural in Russian.\", 'suggestedFix': None}, 'EnglishSentence': {'isCorrect': False, 'explanation': \"The sentence 'There are here many people.' is not grammatically correct. The correct structure is: 'There are many people here.'\", 'suggestedFix': 'There are many people here.'}, 'translationAccuracy': {'isCorrect': False, 'explanation': \"The translation 'Здесь много людей.' is not accurately translated as 'There are here many people.' but as 'There are many people here.'\", 'suggestedFix': 'There are many people here.'}, 'RussianWordUsage': {'isCorrect': True, 'explanation': \"The word 'здесь' appears in the sentence 'Здесь много людей.'\", 'suggestedFixSentence': None, 'suggestedFixWord': None}, 'EnglishWordUsage': {'isCorrect': False, 'explanation': \"The word 'here' should be at the end of the sentence to sound natural.\", 'suggestedFix': 'There are many people here.'}}\n"
     ]
    }
   ],
   "source": [
    "for res in results_1:\n",
    "    if res['translationAccuracy']['isCorrect'] == 0:\n",
    "        print(res)\n",
    "        break"
   ]
  },
  {
   "cell_type": "code",
   "execution_count": 8,
   "id": "2145e721",
   "metadata": {},
   "outputs": [],
   "source": [
    "ru_cards_2 = load_cards_from_file('sm1_new_kap2.json')"
   ]
  },
  {
   "cell_type": "code",
   "execution_count": 21,
   "id": "892f0dea",
   "metadata": {},
   "outputs": [
    {
     "data": {
      "application/vnd.jupyter.widget-view+json": {
       "model_id": "84d4fb1bc0e640fea507689f66567dea",
       "version_major": 2,
       "version_minor": 0
      },
      "text/plain": [
       "Generating ru-eng cards:   0%|          | 0/192 [00:00<?, ?it/s]"
      ]
     },
     "metadata": {},
     "output_type": "display_data"
    }
   ],
   "source": [
    "system_prompt = '''You are the Russian to English translater for beginners. Translate given (word, sentence) pair from Russian to English'''\n",
    "ru_eng_cards_2 = generate_ru_eng_cards(ru_cards_2, system_prompt, model=GPT_4o)"
   ]
  },
  {
   "cell_type": "code",
   "execution_count": 34,
   "id": "3301ed23",
   "metadata": {},
   "outputs": [],
   "source": [
    "def evaluate_cards(cards, first_lang='Russian', second_lang='Finnish', model=GPT_4o):\n",
    "    # Construct the prompt\n",
    "    results = []\n",
    "    for card in tqdm(cards):\n",
    "        system_prompt = f\"\"\"\n",
    "        You are a language expert proficient in both {first_lang} and {second_lang}.\"\"\"\n",
    "\n",
    "        user_prompt = f\"\"\"\n",
    "        You are given a flashcard containing a word and a sentence in {first_lang}, along with its translation and \n",
    "        a sentence in {second_lang}. Your task is to evaluate the correctness of the flashcard. Here’s what you need to check:\n",
    "\n",
    "        1. Whether the sentence in {first_lang} is grammatically correct and natural.\n",
    "        2. Whether the sentence in {second_lang} is grammatically correct and natural.\n",
    "        3. Whether the translation from {second_lang} to {first_lang} is accurate.\n",
    "        4. Whether the word in {first_lang} occurs in some form in the {first_lang} sentence.\n",
    "        5. Whether the word in {second_lang} occurs in some form in the {second_lang} sentence.\n",
    "\n",
    "        If both sentence in {first_lang} and {second_lang} are missing it is ok, just check the translation to {second_lang}. \n",
    "\n",
    "        Check that the word in {first_lang} appear in the sentence in some form, diregarding the case and form of the word, or the order of the words, \n",
    "        if the words in {first_lang} consists of several words. For example if the word is 'в то же время' and in sentence it's 'в одно и то же время', it's ok. Or if 'когда опять' in the words and 'когда моя сестра опять' is in the sentence. \n",
    "        If there are several synonyms in {first_lang} word field, then if one of them appears in the sentences in some form it's ok. \n",
    "        For example if {first_lang} word is 'выносить, красть' and in sentence 'украсть' is used it's ok.\n",
    "\n",
    "        If the word doesn't appear in some form, suggest using synonyms or related terms in the \n",
    "        translation to ensure the sentence remains natural and accurate. You can change either the sentence translation \n",
    "        or the word translation. For example, if the word is \"досуг,\" it can be translated as \"досуг\" or \"свободное время\". So if the word \"свободное время\" \n",
    "        is in some form used in the sentence and it sounds natural, suggested fix can be to change the word translation to \"досуг, свободное время\", \n",
    "        keeping the sentence intact\n",
    "\n",
    "\n",
    "\n",
    "\n",
    "        In the suggestedFix fields don't provide explanations or instructions, just provide the final corrected string.\n",
    "        If it's better to fix word, not sentence, return null for suggestedFixSentence.\n",
    "\n",
    "\n",
    "        Provide a detailed evaluation for each point and suggest fixes where necessary.\n",
    "\n",
    "        Here is the flashcard:\n",
    "\n",
    "        Word in {first_lang}: {card['wordFirstLang']}\n",
    "        Sentence in {first_lang}: {card['sentenceFirstLang']}\n",
    "        Word in {second_lang}: {card['wordSecondLang']}\n",
    "        Sentence in {second_lang}: {card['sentenceSecondLang']}\n",
    "\n",
    "        Respond in JSON format with the following structure:\n",
    "\n",
    "        {{\n",
    "          \"{first_lang}Sentence\": {{\n",
    "            \"isCorrect\": true/false,\n",
    "            \"explanation\": \"Detailed explanation if there is an issue or why it's correct\",\n",
    "            \"suggestedFix\": \"Suggested correction if there is an issue\"\n",
    "          }},\n",
    "          \"{second_lang}Sentence\": {{\n",
    "            \"isCorrect\": true/false,\n",
    "            \"explanation\": \"Detailed explanation if there is an issue or why it's correct\",\n",
    "            \"suggestedFix\": \"Suggested correction if there is an issue\"\n",
    "          }},\n",
    "          \"translationAccuracy\": {{\n",
    "            \"isCorrect\": true/false,\n",
    "            \"explanation\": \"Detailed explanation if there is an issue or why it's correct\",\n",
    "            \"suggestedFix\": \"Suggested correction if there is an issue\"\n",
    "          }},\n",
    "          \"{first_lang}WordUsage\": {{\n",
    "            \"isCorrect\": true/false,\n",
    "            \"explanation\": \"Detailed explanation if there is an issue or why it's correct\",\n",
    "            \"suggestedFixSentence\": \"Suggested correction to the sentence if there is an issue\"\n",
    "            \"suggestedFixWord\": \"Suggested correction to the word if there is an issue\"\n",
    "          }},\n",
    "          \"{second_lang}WordUsage\": {{\n",
    "            \"isCorrect\": true/false,\n",
    "            \"explanation\": \"Detailed explanation if there is an issue or why it's correct\",\n",
    "            \"suggestedFix\": \"Suggested correction if there is an issue\"\n",
    "          }}\n",
    "        }}\n",
    "\n",
    "\n",
    "        If both sentence in {first_lang} and {second_lang} are missing return only translationAccuracy block.\n",
    "        \"\"\"\n",
    "\n",
    "        response = client.chat.completions.create(\n",
    "          model=\"gpt-4o\",\n",
    "          response_format={ \"type\": \"json_object\" },\n",
    "          messages=[\n",
    "            {\"role\": \"system\", \"content\": system_prompt},\n",
    "            {\"role\": \"user\", \"content\": user_prompt}\n",
    "          ]\n",
    "        )\n",
    "        \n",
    "        results.append(json.loads(response.choices[0].message.content.strip()))\n",
    "    return results"
   ]
  },
  {
   "cell_type": "code",
   "execution_count": 25,
   "id": "3bb62d51",
   "metadata": {},
   "outputs": [
    {
     "data": {
      "text/plain": [
       "{'wordFirstLang': 'парк',\n",
       " 'sentenceFirstLang': 'Давай встретимся в парке.',\n",
       " 'wordSecondLang': 'park',\n",
       " 'sentenceSecondLang': \"Let's meet in the park.\"}"
      ]
     },
     "execution_count": 25,
     "metadata": {},
     "output_type": "execute_result"
    }
   ],
   "source": [
    "ru_eng_cards_2[0]"
   ]
  },
  {
   "cell_type": "code",
   "execution_count": 26,
   "id": "15e25513",
   "metadata": {},
   "outputs": [
    {
     "data": {
      "application/vnd.jupyter.widget-view+json": {
       "model_id": "8abeb13f195b4c7b8d0a3ba83916b88a",
       "version_major": 2,
       "version_minor": 0
      },
      "text/plain": [
       "  0%|          | 0/192 [00:00<?, ?it/s]"
      ]
     },
     "metadata": {},
     "output_type": "display_data"
    }
   ],
   "source": [
    "results_2 = evaluate_cards(ru_eng_cards_2, second_lang='English')"
   ]
  },
  {
   "cell_type": "code",
   "execution_count": 27,
   "id": "dc47a8a8",
   "metadata": {},
   "outputs": [
    {
     "data": {
      "text/plain": [
       "0.8802083333333334"
      ]
     },
     "execution_count": 27,
     "metadata": {},
     "output_type": "execute_result"
    }
   ],
   "source": [
    "sum([res['translationAccuracy']['isCorrect'] for res in results_2]) / len([res['translationAccuracy']['isCorrect'] for res in results_2])"
   ]
  },
  {
   "cell_type": "code",
   "execution_count": 28,
   "id": "709a0da9",
   "metadata": {},
   "outputs": [
    {
     "name": "stdout",
     "output_type": "stream",
     "text": [
      "{'RussianSentence': {'isCorrect': True, 'explanation': \"The sentence in Russian 'Ну, может кого-то другого.' is grammatically correct and natural.\", 'suggestedFix': None}, 'EnglishSentence': {'isCorrect': False, 'explanation': \"The sentence 'Maybe someone other.' is not grammatically correct and natural in English. The correct phrase should be 'Maybe someone else.'\", 'suggestedFix': 'Maybe someone else.'}, 'translationAccuracy': {'isCorrect': False, 'explanation': \"The translation of the sentence 'Ну, может кого-то другого.' to 'Maybe someone other.' is incorrect. A more accurate translation would be 'Maybe someone else.'\", 'suggestedFix': 'Maybe someone else.'}, 'RussianWordUsage': {'isCorrect': True, 'explanation': \"The word 'другой' appears in the sentence in the form 'другого'.\", 'suggestedFixSentence': None, 'suggestedFixWord': None}, 'EnglishWordUsage': {'isCorrect': True, 'explanation': \"The concept of 'other' appears in the sentence in the context of 'someone else'.\", 'suggestedFix': None}}\n"
     ]
    }
   ],
   "source": [
    "for res in results_2:\n",
    "    if res['translationAccuracy']['isCorrect'] == 0:\n",
    "        print(res)\n",
    "        break"
   ]
  },
  {
   "cell_type": "code",
   "execution_count": null,
   "id": "b2395dd8",
   "metadata": {},
   "outputs": [],
   "source": [
    "def "
   ]
  }
 ],
 "metadata": {
  "kernelspec": {
   "display_name": "Python 3 (ipykernel)",
   "language": "python",
   "name": "python3"
  },
  "language_info": {
   "codemirror_mode": {
    "name": "ipython",
    "version": 3
   },
   "file_extension": ".py",
   "mimetype": "text/x-python",
   "name": "python",
   "nbconvert_exporter": "python",
   "pygments_lexer": "ipython3",
   "version": "3.8.18"
  }
 },
 "nbformat": 4,
 "nbformat_minor": 5
}
