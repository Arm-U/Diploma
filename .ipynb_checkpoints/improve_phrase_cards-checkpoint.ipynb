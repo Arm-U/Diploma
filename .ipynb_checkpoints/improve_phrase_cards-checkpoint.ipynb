{
 "cells": [
  {
   "cell_type": "code",
   "execution_count": 1,
   "id": "61e1e002",
   "metadata": {},
   "outputs": [],
   "source": [
    "import tiktoken\n",
    "import openai\n",
    "from openai import AzureOpenAI, AsyncAzureOpenAI\n",
    "from tqdm.notebook import tqdm\n",
    "import os\n",
    "from dotenv import load_dotenv, find_dotenv\n",
    "import requests\n",
    "import base64\n",
    "\n",
    "GPT_3_5_TURBO = \"gpt-3.5-turbo\"\n",
    "GPT_4_TURBO_PREVIEW = \"gpt-4-turbo-preview\"\n",
    "GPT_4 = 'gpt-4'\n",
    "GPT_4o = 'gpt-4o'\n",
    "\n",
    "def get_openai_api_key():\n",
    "    _ = load_dotenv(find_dotenv())\n",
    "\n",
    "    return os.getenv(\"OPENAI_API_KEY\")\n",
    "\n",
    "OPENAI_API_KEY = get_openai_api_key()\n",
    "azure_endpoint=os.getenv(\"AZURE_OPENAI_ENDPOINT\")\n",
    "client = AzureOpenAI(\n",
    "    api_key=os.getenv(\"AZURE_OPENAI_API_KEY\"),  \n",
    "    api_version=\"2024-07-01-preview\",\n",
    "    azure_endpoint=os.getenv(\"AZURE_OPENAI_ENDPOINT\")\n",
    ")"
   ]
  },
  {
   "cell_type": "code",
   "execution_count": 2,
   "id": "62808527",
   "metadata": {},
   "outputs": [],
   "source": [
    "import json\n",
    "\n",
    "\n",
    "EVAL_FOLDER = '../../data/russian-english/cards/eval_results/ru_eng_'\n",
    "def get_eval_results_from_file(file_name):\n",
    "    data = []\n",
    "    file_path = EVAL_FOLDER + file_name\n",
    "    with open(file_path, 'r', encoding='utf-8') as file:\n",
    "        data = json.load(file)\n",
    "    return data"
   ]
  },
  {
   "cell_type": "code",
   "execution_count": 3,
   "id": "37888b26",
   "metadata": {},
   "outputs": [],
   "source": [
    "import json\n",
    "\n",
    "\n",
    "OUTPUT_FOLDER = '../../data/russian-english/cards/test_cards/ru_eng_'\n",
    "def get_cards_from_file(file_name):\n",
    "    data = []\n",
    "    file_path = OUTPUT_FOLDER + file_name\n",
    "    with open(file_path, 'r', encoding='utf-8') as file:\n",
    "        data = json.load(file)\n",
    "    return data"
   ]
  },
  {
   "cell_type": "code",
   "execution_count": 4,
   "id": "6243af7b",
   "metadata": {},
   "outputs": [],
   "source": [
    "file_names = [f'sm1_new_kap{i}.json' for i in range(1, 10)]"
   ]
  },
  {
   "cell_type": "code",
   "execution_count": 6,
   "id": "233ed21c",
   "metadata": {},
   "outputs": [],
   "source": [
    "cards_1 = get_cards_from_file(file_names[0])\n",
    "eval_results_1 = get_eval_results_from_file(file_names[0])"
   ]
  },
  {
   "cell_type": "code",
   "execution_count": 25,
   "id": "3c41625f",
   "metadata": {},
   "outputs": [],
   "source": [
    "def improve_only_phrase_cards(basic_cards, basic_eval_results, system_prompt, first_lang='Russian', second_lang='English', model=GPT_4o):\n",
    "    cards = []\n",
    "    eval_results = []\n",
    "    for basic_card, basic_eval_result in tqdm(list(zip(basic_cards, basic_eval_results))):\n",
    "        try:\n",
    "            word, sentence, _, _, card_id = basic_card.values()\n",
    "            if sentence != '':\n",
    "                cards.append(basic_card)\n",
    "                eval_results.append(basic_eval_result)\n",
    "                continue\n",
    "\n",
    "            user_prompt = f'''You will get simple word or phrase on Russian. Your task is to translate this word or phrase into English.\n",
    "            You don't need to translate the phrase literally. You need to translate it in such a way that the meaning of the phrase is preserved and the translation sounds natural.\n",
    "\n",
    "            === \n",
    "            Given word or phrase: '{word}'\n",
    "            ===\n",
    "\n",
    "\n",
    "            Return only english translated word or phrase and nothing else.\n",
    "            '''\n",
    "\n",
    "            response = client.chat.completions.create(\n",
    "              model=model,\n",
    "              messages=[\n",
    "                {\"role\": \"system\", \"content\": system_prompt},\n",
    "                {\"role\": \"user\", \"content\": user_prompt}\n",
    "              ]\n",
    "            )\n",
    "            \n",
    "            tr_word = response.choices[0].message.content\n",
    "\n",
    "            card = {}\n",
    "            card[\"wordFirstLang\"] = word\n",
    "            card[\"sentenceFirstLang\"] = \"\"\n",
    "            card[\"wordSecondLang\"] = tr_word.strip()\n",
    "            card[\"sentenceSecondLang\"] = \"\"\n",
    "            card[\"id\"] = card_id\n",
    "            cards.append(card)\n",
    "            \n",
    "            user_prompt = f\"\"\"\n",
    "            You are given a word or phrase in {first_lang}, along with its translation in {second_lang}. Your task is to evaluate the correctness of the translation.\n",
    "\n",
    "            You have to check whether the translation from {second_lang} to {first_lang} is accurate.\n",
    "\n",
    "            If the translation isn't accurate then suggest fix with explanation why you considered it as a mistake.\n",
    "\n",
    "\n",
    "\n",
    "\n",
    "            In the suggestedFix fields don't provide explanations or instructions, just provide the final corrected string.\n",
    "            If it's better to fix word, not sentence, return null for suggestedFixSentence.\n",
    "\n",
    "\n",
    "            Provide a detailed evaluation for each point and suggest fixes where necessary.\n",
    "\n",
    "            Here is the words or phrases:\n",
    "            \n",
    "            ======\n",
    "            Word in {first_lang}: {card['wordFirstLang']}\n",
    "            ======\n",
    "            \n",
    "            ======\n",
    "            Word in {second_lang}: {card['wordSecondLang']}\n",
    "            ======\n",
    "\n",
    "            Respond in JSON format with the following structure:\n",
    "\n",
    "            {{\n",
    "              \"translationAccuracy\": {{\n",
    "                \"isCorrect\": true/false,\n",
    "                \"explanation\": \"Detailed explanation if there is an issue or why it's correct\",\n",
    "                \"suggestedFix\": \"Suggested correction if there is an issue\"\n",
    "              }}\n",
    "            }}\n",
    "            \"\"\"\n",
    "            \n",
    "            response = client.chat.completions.create(\n",
    "              model=\"gpt-4o\",\n",
    "              response_format={ \"type\": \"json_object\" },\n",
    "              messages=[\n",
    "                {\"role\": \"system\", \"content\": system_prompt},\n",
    "                {\"role\": \"user\", \"content\": user_prompt}\n",
    "              ]\n",
    "            )\n",
    "\n",
    "            res = json.loads(response.choices[0].message.content.strip())\n",
    "            res['id'] = card['id']\n",
    "            eval_results.append(res)\n",
    "            \n",
    "        except Exception as e:\n",
    "            print(e.message)\n",
    "    return cards, eval_results"
   ]
  },
  {
   "cell_type": "code",
   "execution_count": 26,
   "id": "cd0bdfa8",
   "metadata": {},
   "outputs": [
    {
     "data": {
      "application/vnd.jupyter.widget-view+json": {
       "model_id": "c52e1db302a24ced825b0ee3f9f3e40f",
       "version_major": 2,
       "version_minor": 0
      },
      "text/plain": [
       "  0%|          | 0/22 [00:00<?, ?it/s]"
      ]
     },
     "metadata": {},
     "output_type": "display_data"
    }
   ],
   "source": [
    "system_prompt = '''You are the Russian to English translater for beginners.'''\n",
    "lol, kek = improve_only_phrase_cards(cards_1[:22], eval_results_1[:22], system_prompt)"
   ]
  },
  {
   "cell_type": "code",
   "execution_count": 27,
   "id": "c88e64ff",
   "metadata": {},
   "outputs": [
    {
     "data": {
      "text/plain": [
       "({'wordFirstLang': 'Спокойной ночи! Спи крепко!',\n",
       "  'sentenceFirstLang': '',\n",
       "  'wordSecondLang': 'Good night! Sleep tight!',\n",
       "  'sentenceSecondLang': '',\n",
       "  'id': 1021},\n",
       " {'translationAccuracy': {'isCorrect': True,\n",
       "   'explanation': \"The translation 'Good night! Sleep tight!' accurately captures the meaning of the Russian phrase 'Спокойной ночи! Спи крепко!' Both convey a similar sentiment often used before sleeping, where 'Спокойной ночи!' translates to 'Good night!' and 'Спи крепко!' translates to 'Sleep tight!'\",\n",
       "   'suggestedFix': None},\n",
       "  'id': 1021})"
      ]
     },
     "execution_count": 27,
     "metadata": {},
     "output_type": "execute_result"
    }
   ],
   "source": [
    "lol[21], kek[21]"
   ]
  },
  {
   "cell_type": "code",
   "execution_count": 20,
   "id": "4df3f600",
   "metadata": {},
   "outputs": [],
   "source": [
    "import json\n",
    "\n",
    "\n",
    "OUTPUT_FOLDER = '../../data/russian-english/cards/test_cards/ru_eng_'\n",
    "def write_cards_to_file(file_name, cards):\n",
    "    file_path = OUTPUT_FOLDER + file_name\n",
    "    with open(file_path, 'w', encoding='utf-8') as f:\n",
    "        json.dump(cards, f, ensure_ascii=False, indent=2)"
   ]
  },
  {
   "cell_type": "code",
   "execution_count": 21,
   "id": "ebcbd7ca",
   "metadata": {},
   "outputs": [],
   "source": [
    "import json\n",
    "\n",
    "\n",
    "EVAL_FOLDER = '../../data/russian-english/cards/eval_results/ru_eng_'\n",
    "def write_eval_results_to_file(file_name, results):\n",
    "    file_path = EVAL_FOLDER + file_name\n",
    "    with open(file_path, 'w', encoding='utf-8') as f:\n",
    "        json.dump(results, f, ensure_ascii=False, indent=2)"
   ]
  },
  {
   "cell_type": "code",
   "execution_count": 29,
   "id": "d6777c08",
   "metadata": {},
   "outputs": [
    {
     "data": {
      "application/vnd.jupyter.widget-view+json": {
       "model_id": "2f745930d4e344b3a39dd0e1d096b16c",
       "version_major": 2,
       "version_minor": 0
      },
      "text/plain": [
       "  0%|          | 0/7 [00:00<?, ?it/s]"
      ]
     },
     "metadata": {},
     "output_type": "display_data"
    },
    {
     "data": {
      "application/vnd.jupyter.widget-view+json": {
       "model_id": "d44b34fe061940248ae2addd82d4d77e",
       "version_major": 2,
       "version_minor": 0
      },
      "text/plain": [
       "  0%|          | 0/150 [00:00<?, ?it/s]"
      ]
     },
     "metadata": {},
     "output_type": "display_data"
    },
    {
     "data": {
      "application/vnd.jupyter.widget-view+json": {
       "model_id": "0d67d256860d4d75804aa284f0e593ae",
       "version_major": 2,
       "version_minor": 0
      },
      "text/plain": [
       "  0%|          | 0/192 [00:00<?, ?it/s]"
      ]
     },
     "metadata": {},
     "output_type": "display_data"
    },
    {
     "data": {
      "application/vnd.jupyter.widget-view+json": {
       "model_id": "eb2c8764452a4b0f9f22b2cdd0ed5b1d",
       "version_major": 2,
       "version_minor": 0
      },
      "text/plain": [
       "  0%|          | 0/238 [00:00<?, ?it/s]"
      ]
     },
     "metadata": {},
     "output_type": "display_data"
    },
    {
     "data": {
      "application/vnd.jupyter.widget-view+json": {
       "model_id": "0567d8c2d65048be98a5681e876bdfbc",
       "version_major": 2,
       "version_minor": 0
      },
      "text/plain": [
       "  0%|          | 0/267 [00:00<?, ?it/s]"
      ]
     },
     "metadata": {},
     "output_type": "display_data"
    },
    {
     "data": {
      "application/vnd.jupyter.widget-view+json": {
       "model_id": "1b10b38b8cbd4f71b9256b1fda2dd5ad",
       "version_major": 2,
       "version_minor": 0
      },
      "text/plain": [
       "  0%|          | 0/152 [00:00<?, ?it/s]"
      ]
     },
     "metadata": {},
     "output_type": "display_data"
    },
    {
     "data": {
      "application/vnd.jupyter.widget-view+json": {
       "model_id": "0d5f2a679b98415087dd27d8095387e6",
       "version_major": 2,
       "version_minor": 0
      },
      "text/plain": [
       "  0%|          | 0/239 [00:00<?, ?it/s]"
      ]
     },
     "metadata": {},
     "output_type": "display_data"
    },
    {
     "data": {
      "application/vnd.jupyter.widget-view+json": {
       "model_id": "251a7554936f4574b8705c865b0e6329",
       "version_major": 2,
       "version_minor": 0
      },
      "text/plain": [
       "  0%|          | 0/184 [00:00<?, ?it/s]"
      ]
     },
     "metadata": {},
     "output_type": "display_data"
    }
   ],
   "source": [
    "file_names = [f'sm1_new_kap{i}.json' for i in range(1, 8)]\n",
    "\n",
    "for file_name in tqdm(file_names):\n",
    "    ru_cards = get_cards_from_file(file_name)\n",
    "    eval_results = get_eval_results_from_file(file_name)\n",
    "    \n",
    "    system_prompt = '''You are the Russian to English translater for beginners.'''\n",
    "    final_cards, final_eval_results = improve_only_phrase_cards(ru_cards, eval_results, system_prompt)\n",
    "    \n",
    "    write_cards_to_file(file_name, final_cards)\n",
    "    \n",
    "    write_eval_results_to_file(file_name, final_eval_results)"
   ]
  },
  {
   "cell_type": "code",
   "execution_count": 30,
   "id": "146e4a8f",
   "metadata": {},
   "outputs": [
    {
     "data": {
      "application/vnd.jupyter.widget-view+json": {
       "model_id": "35e1e96f2c2d415b94218b9890316e82",
       "version_major": 2,
       "version_minor": 0
      },
      "text/plain": [
       "  0%|          | 0/1 [00:00<?, ?it/s]"
      ]
     },
     "metadata": {},
     "output_type": "display_data"
    },
    {
     "data": {
      "application/vnd.jupyter.widget-view+json": {
       "model_id": "9c4ebf8f3b614420b7718ad263ed24e8",
       "version_major": 2,
       "version_minor": 0
      },
      "text/plain": [
       "  0%|          | 0/259 [00:00<?, ?it/s]"
      ]
     },
     "metadata": {},
     "output_type": "display_data"
    }
   ],
   "source": [
    "file_names = [f'sm1_new_kap{i}.json' for i in range(8, 9)]\n",
    "\n",
    "for file_name in tqdm(file_names):\n",
    "    ru_cards = get_cards_from_file(file_name)\n",
    "    eval_results = get_eval_results_from_file(file_name)\n",
    "    \n",
    "    system_prompt = '''You are the Russian to English translater for beginners.'''\n",
    "    final_cards, final_eval_results = improve_only_phrase_cards(ru_cards, eval_results, system_prompt)\n",
    "    \n",
    "    write_cards_to_file(file_name, final_cards)\n",
    "    \n",
    "    write_eval_results_to_file(file_name, final_eval_results)"
   ]
  },
  {
   "cell_type": "code",
   "execution_count": null,
   "id": "bf209594",
   "metadata": {},
   "outputs": [],
   "source": []
  }
 ],
 "metadata": {
  "kernelspec": {
   "display_name": "Python 3 (ipykernel)",
   "language": "python",
   "name": "python3"
  },
  "language_info": {
   "codemirror_mode": {
    "name": "ipython",
    "version": 3
   },
   "file_extension": ".py",
   "mimetype": "text/x-python",
   "name": "python",
   "nbconvert_exporter": "python",
   "pygments_lexer": "ipython3",
   "version": "3.8.18"
  }
 },
 "nbformat": 4,
 "nbformat_minor": 5
}
