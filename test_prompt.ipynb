{
 "cells": [
  {
   "cell_type": "code",
   "execution_count": 119,
   "metadata": {},
   "outputs": [],
   "source": [
    "import openai\n",
    "from openai import AzureOpenAI, AsyncAzureOpenAI\n",
    "from tqdm.notebook import tqdm\n",
    "import os\n",
    "from dotenv import load_dotenv, find_dotenv\n",
    "import requests\n",
    "import base64\n",
    "\n",
    "GPT_3_5_TURBO = \"gpt-3.5-turbo\"\n",
    "GPT_4_TURBO_PREVIEW = \"gpt-4-turbo-preview\"\n",
    "GPT_4 = 'gpt-4'\n",
    "GPT_4o = 'gpt-4o'\n",
    "\n",
    "def get_openai_api_key():\n",
    "    _ = load_dotenv(find_dotenv())\n",
    "\n",
    "    return os.getenv(\"OPENAI_API_KEY\")\n",
    "\n",
    "OPENAI_API_KEY = get_openai_api_key()\n",
    "azure_endpoint=os.getenv(\"AZURE_OPENAI_ENDPOINT\")\n",
    "client = AzureOpenAI(\n",
    "    api_key=os.getenv(\"AZURE_OPENAI_API_KEY\"),  \n",
    "    api_version=\"2024-07-01-preview\",\n",
    "    azure_endpoint=os.getenv(\"AZURE_OPENAI_ENDPOINT\")\n",
    ")"
   ]
  },
  {
   "cell_type": "code",
   "execution_count": 156,
   "metadata": {},
   "outputs": [],
   "source": [
    "import json\n",
    "\n",
    "\n",
    "EVAL_FOLDER = '../../data/russian-english/cards/eval_results/ru_eng_'\n",
    "def get_eval_results_from_file(file_name):\n",
    "    data = []\n",
    "    file_path = EVAL_FOLDER + file_name\n",
    "    with open(file_path, 'r', encoding='utf-8') as file:\n",
    "        data = json.load(file)\n",
    "    return data\n",
    "\n",
    "\n",
    "RU_ENG_OUTPUT_FOLDER = '../../data/russian-english/cards/test_cards/ru_eng_'\n",
    "def get_ru_eng_cards_from_file(file_name):\n",
    "    data = []\n",
    "    file_path = OUTPUT_FOLDER + file_name\n",
    "    with open(file_path, 'r', encoding='utf-8') as file:\n",
    "        data = json.load(file)\n",
    "    return data\n",
    "\n",
    "\n",
    "RU_FINN_FOLDER_WITH_JSON = '../../data/russian-finnish/cards/curated_platform_cards/'\n",
    "def get_ru_finn_cards_from_file(file_name):\n",
    "    data = []\n",
    "    file_path = RU_FINN_FOLDER_WITH_JSON + file_name\n",
    "    with open(file_path, 'r', encoding='utf-8') as file:\n",
    "        data = json.load(file)\n",
    "    res = []\n",
    "    for card in data:\n",
    "        if 'isMarkedDeleted' not in card.keys():\n",
    "            res.append(card)\n",
    "    return res\n",
    "\n",
    "\n",
    "OUTPUT_FOLDER = '../../data/russian-english/cards/test_cards/ru_eng_'\n",
    "def write_cards_to_file(file_name, cards):\n",
    "    file_path = OUTPUT_FOLDER + file_name\n",
    "    with open(file_path, 'w', encoding='utf-8') as f:\n",
    "        json.dump(cards, f, ensure_ascii=False, indent=2)\n",
    "        \n",
    "        \n",
    "EVAL_FOLDER = '../../data/russian-english/cards/eval_results/ru_eng_'\n",
    "def write_eval_results_to_file(file_name, results):\n",
    "    file_path = EVAL_FOLDER + file_name\n",
    "    with open(file_path, 'w', encoding='utf-8') as f:\n",
    "        json.dump(results, f, ensure_ascii=False, indent=2)"
   ]
  },
  {
   "cell_type": "code",
   "execution_count": 144,
   "metadata": {},
   "outputs": [],
   "source": [
    "def generate_phrase_cards_and_evaluate(ru_finn_cards, ru_eng_cards, ru_eng_evals, model=GPT_4o):\n",
    "    cards = []\n",
    "    eval_results = []\n",
    "    for ru_finn, ru_eng, eval_result in tqdm(list(zip(ru_finn_cards, ru_eng_cards, ru_eng_evals))):\n",
    "        try:\n",
    "            ru_word, ru_sentence, finn_word, finn_sentence, card_id = ru_finn.values()\n",
    "            if ru_sentence != '':\n",
    "                cards.append(ru_eng)\n",
    "                eval_results.append(eval_result)\n",
    "                continue\n",
    "                \n",
    "            system_prompt = '''You are a multilingual assistant who is proficient in Russian, Finnish and English.'''\n",
    "\n",
    "            user_prompt = f\"\"\"\n",
    "            Translate the given Russian word or phrase: '{ru_word}' into clear and natural English, reflecting its meaning and context as the primary focus. Use the Finnish equivalent: '{finn_word}' as a supportive reference to help clarify or refine the exact context if needed. The goal is to create an English translation that is accurate, fluent, and authentic to native speakers, avoiding overly complex or literal phrasing.\n",
    "\n",
    "            Please provide the English translation of the word or phrase and nothing else.\n",
    "            \"\"\"\n",
    "\n",
    "            response = client.chat.completions.create(\n",
    "              model=model,\n",
    "              messages=[\n",
    "                {\"role\": \"system\", \"content\": system_prompt.strip()},\n",
    "                {\"role\": \"user\", \"content\": user_prompt.strip()}\n",
    "              ]\n",
    "            )\n",
    "            \n",
    "            tr_word = response.choices[0].message.content.strip()\n",
    "\n",
    "            card = {}\n",
    "            card[\"wordFirstLang\"] = ru_word\n",
    "            card[\"sentenceFirstLang\"] = \"\"\n",
    "            card[\"wordSecondLang\"] = tr_word\n",
    "            card[\"sentenceSecondLang\"] = \"\"\n",
    "            card[\"id\"] = card_id\n",
    "            cards.append(card)\n",
    "            \n",
    "            user_prompt = f\"\"\"\n",
    "            As an AI model, your task is to evaluate the correctness and naturalness of English translations for given Russian and Finnish words or phrases. Check if the English translation accurately conveys the meaning and context of the Russian and Finnish versions, and whether it sounds natural to a native speaker. Your evaluation does not need to suggest the best possible translation, only confirm that it is good enough and identify any issues if present.\n",
    "\n",
    "            When suggesting corrections, provide only the final corrected English translation. If no correction is needed, set `suggestedFix` to `null`.\n",
    "\n",
    "            Here are the words or phrases:  \n",
    "            - Word or Phrase in Russian: {ru_word}  \n",
    "            - Word or Phrase in Finnish: {finn_word}  \n",
    "            - Word or Phrase in English: {tr_word}  \n",
    "\n",
    "            Respond in JSON format using the following structure:  \n",
    "            {{\n",
    "              \"translationAccuracy\": {{\n",
    "                \"isCorrect\": true/false,\n",
    "                \"explanation\": \"Detailed explanation if there is an issue or why it's correct\",\n",
    "                \"suggestedFix\": \"Suggested correction if there is an issue or null if no correction is needed\"\n",
    "              }}\n",
    "            }}\n",
    "            \"\"\"\n",
    "            \n",
    "            response = client.chat.completions.create(\n",
    "              model=\"gpt-4o\",\n",
    "              response_format={ \"type\": \"json_object\" },\n",
    "              messages=[\n",
    "                {\"role\": \"system\", \"content\": system_prompt.strip()},\n",
    "                {\"role\": \"user\", \"content\": user_prompt.strip()}\n",
    "              ]\n",
    "            )\n",
    "\n",
    "            res = json.loads(response.choices[0].message.content.strip())\n",
    "            res['id'] = card['id']\n",
    "            eval_results.append(res)\n",
    "            \n",
    "        except Exception as e:\n",
    "            print(ru_finn['id'])\n",
    "    return cards, eval_results"
   ]
  },
  {
   "cell_type": "code",
   "execution_count": 145,
   "metadata": {},
   "outputs": [],
   "source": [
    "def improve_cards_with_eval(ru_finn_cards, ru_eng_cards, ru_eng_evals, model=GPT_4o):\n",
    "    cards = []\n",
    "    eval_results = []\n",
    "    for ru_finn, ru_eng, eval_result in tqdm(list(zip(ru_finn_cards, ru_eng_cards, ru_eng_evals))):\n",
    "        try:\n",
    "            ru_word, ru_sentence, finn_word, finn_sentence, card_id = ru_finn.values()\n",
    "            _, _, eng_word, eng_sentence, _ = ru_eng.values()\n",
    "            if ru_sentence != '':\n",
    "                cards.append(ru_eng)\n",
    "                eval_results.append(eval_result)\n",
    "                continue\n",
    "            \n",
    "            is_correct, explanation, suggested_fix = eval_result['translationAccuracy'].values()\n",
    "\n",
    "            if is_correct:\n",
    "                cards.append(ru_eng)\n",
    "                eval_results.append(eval_result)\n",
    "                continue\n",
    "                \n",
    "            system_prompt = '''You are a multilingual assistant who is proficient in Russian, Finnish and English.'''\n",
    "\n",
    "            user_prompt = f\"\"\"\n",
    "            Translate the given Russian word or phrase: '{ru_word}' into clear and natural English, reflecting its meaning and context as the primary focus. Use the Finnish equivalent: '{finn_word}' as a supportive reference to help clarify or refine the exact context if needed. The goal is to create an English translation that is accurate, fluent, and authentic to native speakers, avoiding overly complex or literal phrasing.\n",
    "\n",
    "            Consider the following:  \n",
    "\n",
    "            - Existing English translation: '{eng_word}'  \n",
    "            - Issues identified: '{explanation}'  \n",
    "            - Suggested improvement: '{suggested_fix}'  \n",
    "\n",
    "            Using this information, provide a natural English translation that prioritizes the Russian meaning while considering the Finnish phrase for additional context. Respond with **only the final English translation** without any additional explanations.\n",
    "            \"\"\"\n",
    "\n",
    "            response = client.chat.completions.create(\n",
    "              model=model,\n",
    "              messages=[\n",
    "                {\"role\": \"system\", \"content\": system_prompt.strip()},\n",
    "                {\"role\": \"user\", \"content\": user_prompt.strip()}\n",
    "              ]\n",
    "            )\n",
    "            \n",
    "            tr_word = response.choices[0].message.content.strip()\n",
    "\n",
    "            card = {}\n",
    "            card[\"wordFirstLang\"] = ru_word\n",
    "            card[\"sentenceFirstLang\"] = \"\"\n",
    "            card[\"wordSecondLang\"] = tr_word\n",
    "            card[\"sentenceSecondLang\"] = \"\"\n",
    "            card[\"id\"] = card_id\n",
    "            cards.append(card)\n",
    "            \n",
    "            user_prompt = f\"\"\"\n",
    "            As an AI model, your task is to evaluate the correctness and naturalness of English translations for given Russian and Finnish words or phrases. Check if the English translation accurately conveys the meaning and context of the Russian and Finnish versions, and whether it sounds natural to a native speaker. Your evaluation does not need to suggest the best possible translation, only confirm that it is good enough and identify any issues if present.\n",
    "\n",
    "            When suggesting corrections, provide only the final corrected English translation. If no correction is needed, set `suggestedFix` to `null`.\n",
    "\n",
    "            Here are the words or phrases:  \n",
    "            - Word or Phrase in Russian: {ru_word}  \n",
    "            - Word or Phrase in Finnish: {finn_word}  \n",
    "            - Word or Phrase in English: {tr_word}  \n",
    "\n",
    "            Respond in JSON format using the following structure:  \n",
    "            {{\n",
    "              \"translationAccuracy\": {{\n",
    "                \"isCorrect\": true/false,\n",
    "                \"explanation\": \"Detailed explanation if there is an issue or why it's correct\",\n",
    "                \"suggestedFix\": \"Suggested correction if there is an issue or null if no correction is needed\"\n",
    "              }}\n",
    "            }}\n",
    "            \"\"\"\n",
    "            \n",
    "            response = client.chat.completions.create(\n",
    "              model=\"gpt-4o\",\n",
    "              response_format={ \"type\": \"json_object\" },\n",
    "              messages=[\n",
    "                {\"role\": \"system\", \"content\": system_prompt.strip()},\n",
    "                {\"role\": \"user\", \"content\": user_prompt.strip()}\n",
    "              ]\n",
    "            )\n",
    "\n",
    "            res = json.loads(response.choices[0].message.content.strip())\n",
    "            res['id'] = card['id']\n",
    "            eval_results.append(res)\n",
    "            \n",
    "        except Exception as e:\n",
    "            print(ru_finn['id'])\n",
    "    return cards, eval_results"
   ]
  },
  {
   "cell_type": "code",
   "execution_count": 146,
   "metadata": {},
   "outputs": [],
   "source": [
    "file_names = [f'sm1_new_kap{i}.json' for i in range(1, 9)]"
   ]
  },
  {
   "cell_type": "code",
   "execution_count": 147,
   "metadata": {},
   "outputs": [
    {
     "data": {
      "text/plain": [
       "'sm1_new_kap3.json'"
      ]
     },
     "execution_count": 147,
     "metadata": {},
     "output_type": "execute_result"
    }
   ],
   "source": [
    "file_names[2]"
   ]
  },
  {
   "cell_type": "code",
   "execution_count": 152,
   "metadata": {},
   "outputs": [
    {
     "name": "stdout",
     "output_type": "stream",
     "text": [
      "lol\n",
      "lol\n"
     ]
    }
   ],
   "source": [
    "tmp_eval = get_eval_results_from_file(file_names[5])\n",
    "tmp_ru_eng = get_ru_eng_cards_from_file(file_names[5])\n",
    "tmp_ru_finn = get_ru_finn_cards_from_file(file_names[5])"
   ]
  },
  {
   "cell_type": "code",
   "execution_count": null,
   "metadata": {},
   "outputs": [
    {
     "data": {
      "application/vnd.jupyter.widget-view+json": {
       "model_id": "0303346f7f3044b29f42ada61b3e054d",
       "version_major": 2,
       "version_minor": 0
      },
      "text/plain": [
       "  0%|          | 0/233 [00:00<?, ?it/s]"
      ]
     },
     "metadata": {},
     "output_type": "display_data"
    },
    {
     "name": "stdout",
     "output_type": "stream",
     "text": [
      "2249\n",
      "2250\n"
     ]
    }
   ],
   "source": [
    "tmp_cards, tmp_res = generate_phrase_cards_and_evaluate(tmp_ru_finn, tmp_ru_eng, tmp_eval)"
   ]
  },
  {
   "cell_type": "code",
   "execution_count": 150,
   "metadata": {},
   "outputs": [
    {
     "data": {
      "text/plain": [
       "(233, 239)"
      ]
     },
     "execution_count": 150,
     "metadata": {},
     "output_type": "execute_result"
    }
   ],
   "source": [
    "len(tmp_eval), len(tmp_ru_finn)"
   ]
  },
  {
   "cell_type": "code",
   "execution_count": 138,
   "metadata": {},
   "outputs": [
    {
     "data": {
      "application/vnd.jupyter.widget-view+json": {
       "model_id": "1724ff83073c4bd2b08b7e89ab1ef619",
       "version_major": 2,
       "version_minor": 0
      },
      "text/plain": [
       "  0%|          | 0/231 [00:00<?, ?it/s]"
      ]
     },
     "metadata": {},
     "output_type": "display_data"
    },
    {
     "name": "stdout",
     "output_type": "stream",
     "text": [
      "2249\n",
      "2250\n"
     ]
    }
   ],
   "source": [
    "improved_cards, improved_evals = improve_cards_with_eval(tmp_ru_finn, tmp_cards, tmp_res)"
   ]
  },
  {
   "cell_type": "code",
   "execution_count": 139,
   "metadata": {},
   "outputs": [
    {
     "data": {
      "application/vnd.jupyter.widget-view+json": {
       "model_id": "d10d9efaae5d4114940086c07db67462",
       "version_major": 2,
       "version_minor": 0
      },
      "text/plain": [
       "  0%|          | 0/229 [00:00<?, ?it/s]"
      ]
     },
     "metadata": {},
     "output_type": "display_data"
    },
    {
     "name": "stdout",
     "output_type": "stream",
     "text": [
      "2249\n",
      "2250\n"
     ]
    }
   ],
   "source": [
    "improved_cards_v2, improved_evals_v2 = improve_cards_with_eval(tmp_ru_finn, improved_cards, improved_evals)"
   ]
  },
  {
   "cell_type": "code",
   "execution_count": 140,
   "metadata": {},
   "outputs": [
    {
     "ename": "ZeroDivisionError",
     "evalue": "division by zero",
     "output_type": "error",
     "traceback": [
      "\u001b[1;31m---------------------------------------------------------------------------\u001b[0m",
      "\u001b[1;31mZeroDivisionError\u001b[0m                         Traceback (most recent call last)",
      "Cell \u001b[1;32mIn[140], line 1\u001b[0m\n\u001b[1;32m----> 1\u001b[0m \u001b[38;5;28;43msum\u001b[39;49m\u001b[43m(\u001b[49m\u001b[43m[\u001b[49m\u001b[43mres\u001b[49m\u001b[43m[\u001b[49m\u001b[38;5;124;43m'\u001b[39;49m\u001b[38;5;124;43mtranslationAccuracy\u001b[39;49m\u001b[38;5;124;43m'\u001b[39;49m\u001b[43m]\u001b[49m\u001b[43m[\u001b[49m\u001b[38;5;124;43m'\u001b[39;49m\u001b[38;5;124;43misCorrect\u001b[39;49m\u001b[38;5;124;43m'\u001b[39;49m\u001b[43m]\u001b[49m\u001b[43m \u001b[49m\u001b[38;5;28;43;01mfor\u001b[39;49;00m\u001b[43m \u001b[49m\u001b[43mres\u001b[49m\u001b[43m \u001b[49m\u001b[38;5;129;43;01min\u001b[39;49;00m\u001b[43m \u001b[49m\u001b[43mimproved_cards_v2\u001b[49m\u001b[43m \u001b[49m\u001b[38;5;28;43;01mif\u001b[39;49;00m\u001b[43m \u001b[49m\u001b[38;5;28;43mlen\u001b[39;49m\u001b[43m(\u001b[49m\u001b[43mres\u001b[49m\u001b[38;5;241;43m.\u001b[39;49m\u001b[43mitems\u001b[49m\u001b[43m(\u001b[49m\u001b[43m)\u001b[49m\u001b[43m)\u001b[49m\u001b[43m \u001b[49m\u001b[38;5;241;43m==\u001b[39;49m\u001b[43m \u001b[49m\u001b[38;5;241;43m2\u001b[39;49m\u001b[43m]\u001b[49m\u001b[43m)\u001b[49m\u001b[43m \u001b[49m\u001b[38;5;241;43m/\u001b[39;49m\u001b[43m \u001b[49m\u001b[38;5;28;43mlen\u001b[39;49m\u001b[43m(\u001b[49m\u001b[43m[\u001b[49m\u001b[43mres\u001b[49m\u001b[43m[\u001b[49m\u001b[38;5;124;43m'\u001b[39;49m\u001b[38;5;124;43mtranslationAccuracy\u001b[39;49m\u001b[38;5;124;43m'\u001b[39;49m\u001b[43m]\u001b[49m\u001b[43m[\u001b[49m\u001b[38;5;124;43m'\u001b[39;49m\u001b[38;5;124;43misCorrect\u001b[39;49m\u001b[38;5;124;43m'\u001b[39;49m\u001b[43m]\u001b[49m\u001b[43m \u001b[49m\u001b[38;5;28;43;01mfor\u001b[39;49;00m\u001b[43m \u001b[49m\u001b[43mres\u001b[49m\u001b[43m \u001b[49m\u001b[38;5;129;43;01min\u001b[39;49;00m\u001b[43m \u001b[49m\u001b[43mimproved_cards_v2\u001b[49m\u001b[43m \u001b[49m\u001b[38;5;28;43;01mif\u001b[39;49;00m\u001b[43m \u001b[49m\u001b[38;5;28;43mlen\u001b[39;49m\u001b[43m(\u001b[49m\u001b[43mres\u001b[49m\u001b[38;5;241;43m.\u001b[39;49m\u001b[43mitems\u001b[49m\u001b[43m(\u001b[49m\u001b[43m)\u001b[49m\u001b[43m)\u001b[49m\u001b[43m \u001b[49m\u001b[38;5;241;43m==\u001b[39;49m\u001b[43m \u001b[49m\u001b[38;5;241;43m2\u001b[39;49m\u001b[43m]\u001b[49m\u001b[43m)\u001b[49m\n",
      "\u001b[1;31mZeroDivisionError\u001b[0m: division by zero"
     ]
    }
   ],
   "source": [
    "sum([res['translationAccuracy']['isCorrect'] for res in improved_cards_v2 if len(res.items()) == 2]) / len([res['translationAccuracy']['isCorrect'] for res in improved_cards_v2 if len(res.items()) == 2])"
   ]
  },
  {
   "cell_type": "code",
   "execution_count": 134,
   "metadata": {},
   "outputs": [
    {
     "data": {
      "text/plain": [
       "0.935064935064935"
      ]
     },
     "execution_count": 134,
     "metadata": {},
     "output_type": "execute_result"
    }
   ],
   "source": [
    "sum([res['translationAccuracy']['isCorrect'] for res in improved_evals if len(res.items()) == 2]) / len([res['translationAccuracy']['isCorrect'] for res in improved_evals if len(res.items()) == 2])"
   ]
  },
  {
   "cell_type": "code",
   "execution_count": 129,
   "metadata": {},
   "outputs": [
    {
     "data": {
      "text/plain": [
       "[{'translationAccuracy': {'isCorrect': False,\n",
       "   'explanation': \"The word 'гардероб' in Russian and 'vaatehuone' in Finnish both refer to a 'closet' or 'walk-in closet' rather than a 'wardrobe'. 'Wardrobe' typically refers to a piece of furniture for storing clothes, whereas 'гардероб' and 'vaatehuone' suggest a room or area designated for storing clothes.\",\n",
       "   'suggestedFix': 'Closet'},\n",
       "  'id': 2155},\n",
       " {'translationAccuracy': {'isCorrect': True,\n",
       "   'explanation': \"The English translation 'Reserved sauna time' accurately conveys the meaning of 'время для сауны' in Russian and 'saunavuoro' in Finnish. 'Reserved sauna time' is natural and understandable to a native English speaker.\",\n",
       "   'suggestedFix': None},\n",
       "  'id': 2178},\n",
       " {'translationAccuracy': {'isCorrect': False,\n",
       "   'explanation': \"The given English translation 'I see' generally conveys the meaning of understanding or realization, which aligns with 'Ага' in Russian and 'Ahaa' in Finnish in certain contexts. However, 'Ага' and 'Ahaa' are more commonly used as expressions of sudden realization or discovery, often similar to 'Aha!' in English, which better captures the immediate sense of realization.\",\n",
       "   'suggestedFix': 'Aha!'},\n",
       "  'id': 2190}]"
      ]
     },
     "execution_count": 129,
     "metadata": {},
     "output_type": "execute_result"
    }
   ],
   "source": [
    "improved_evals"
   ]
  },
  {
   "cell_type": "code",
   "execution_count": 130,
   "metadata": {},
   "outputs": [
    {
     "data": {
      "text/plain": [
       "0.9090909090909091"
      ]
     },
     "execution_count": 130,
     "metadata": {},
     "output_type": "execute_result"
    }
   ],
   "source": [
    "sum([res['translationAccuracy']['isCorrect'] for res in tmp_res if len(res.items()) == 2]) / len([res['translationAccuracy']['isCorrect'] for res in tmp_res if len(res.items()) == 2])"
   ]
  },
  {
   "cell_type": "code",
   "execution_count": 63,
   "metadata": {},
   "outputs": [
    {
     "data": {
      "text/plain": [
       "[{'translationAccuracy': {'isCorrect': True,\n",
       "   'explanation': \"The English translation 'What time is it?' accurately reflects the meaning of the Russian phrase 'Сколько времени?' and the Finnish phrase 'Mitä kello on?'. Both phrases are commonly used to ask for the current time in their respective languages.\",\n",
       "   'suggestedFix': None},\n",
       "  'id': 1933},\n",
       " {'translationAccuracy': {'isCorrect': True,\n",
       "   'explanation': \"The English phrase 'at one o'clock' accurately captures the meaning of both the Russian 'в час' and the Finnish 'kello yksi (yhdeltä)', indicating the same time. The translation is correct and sounds natural.\",\n",
       "   'suggestedFix': None},\n",
       "  'id': 1941},\n",
       " {'translationAccuracy': {'isCorrect': True,\n",
       "   'explanation': \"The English phrase 'At two o'clock' accurately reflects the meaning of both the Russian phrase 'в два часа' and the Finnish phrase 'kello kaksi (kahdelta)' with no loss of context or nuance.\",\n",
       "   'suggestedFix': None},\n",
       "  'id': 1942},\n",
       " {'translationAccuracy': {'isCorrect': True,\n",
       "   'explanation': \"The English translation 'at three o'clock' correctly reflects the meaning of both the Russian phrase 'в три часа' and the Finnish phrase 'kello kolme (kolmelta)'. It accurately conveys the time being referred to and sounds natural in English.\",\n",
       "   'suggestedFix': None},\n",
       "  'id': 1943},\n",
       " {'translationAccuracy': {'isCorrect': True,\n",
       "   'explanation': \"The English translation 'at four o'clock' accurately reflects the meaning of the Russian phrase 'в четыре часа' and the Finnish phrase 'kello neljä (neljältä)'. The context and nuances are preserved, and the translation sounds natural.\",\n",
       "   'suggestedFix': None},\n",
       "  'id': 1944},\n",
       " {'translationAccuracy': {'isCorrect': True,\n",
       "   'explanation': \"The English translation 'At five o'clock' correctly reflects the meaning of both the Russian 'в пять часов' and the Finnish 'kello viisi (viideltä)'. All phrases indicate the same time.\",\n",
       "   'suggestedFix': None},\n",
       "  'id': 1945},\n",
       " {'translationAccuracy': {'isCorrect': True,\n",
       "   'explanation': \"The translation 'at six o'clock' correctly reflects the meaning of both the Russian phrase 'в шесть часов' and the Finnish phrase 'kello kuusi (kuudelta)'.\",\n",
       "   'suggestedFix': None},\n",
       "  'id': 1946},\n",
       " {'translationAccuracy': {'isCorrect': True,\n",
       "   'explanation': \"The English translation 'at seven o'clock' correctly reflects the meaning of both the Russian 'в семь часов' and the Finnish 'kello seitsemän (seitsemältä)'. The context and nuances are preserved.\",\n",
       "   'suggestedFix': None},\n",
       "  'id': 1947},\n",
       " {'translationAccuracy': {'isCorrect': True,\n",
       "   'explanation': \"The English translation 'At eight o'clock' correctly reflects the meaning of both the Russian phrase 'в восемь часов' and the Finnish phrase 'kello kahdeksan (kahdeksalta)', preserving the context and nuances.\",\n",
       "   'suggestedFix': None},\n",
       "  'id': 1948},\n",
       " {'translationAccuracy': {'isCorrect': True,\n",
       "   'explanation': \"The English translation 'at nine o'clock' accurately reflects the meaning and context of the Russian 'в девять часов' and the Finnish 'kello yhdeksän (yhdeksältä)', preserving both the time reference and naturalness.\",\n",
       "   'suggestedFix': None},\n",
       "  'id': 1949},\n",
       " {'translationAccuracy': {'isCorrect': True,\n",
       "   'explanation': \"The English translation 'At ten o'clock' accurately reflects the meaning of the Russian phrase 'в десять часов' and the Finnish phrase 'kello kymmenen (kymmeneltä)', both of which refer to the time at ten o'clock.\",\n",
       "   'suggestedFix': None},\n",
       "  'id': 1950},\n",
       " {'translationAccuracy': {'isCorrect': True,\n",
       "   'explanation': \"The English translation 'At eleven o'clock' correctly reflects the meaning of the Russian 'в одиннадцать часов' and the Finnish 'kello yksitoista (yhdeltätoista)', preserving the context and nuances.\",\n",
       "   'suggestedFix': None},\n",
       "  'id': 1951},\n",
       " {'translationAccuracy': {'isCorrect': True,\n",
       "   'explanation': \"The English translation 'at twelve o'clock' correctly reflects the meaning and context of both the Russian 'в двенадцать часов' and the Finnish 'kello kaksitoista (kahdeltatoista)'.\",\n",
       "   'suggestedFix': None},\n",
       "  'id': 1952},\n",
       " {'translationAccuracy': {'isCorrect': True,\n",
       "   'explanation': 'The English translation accurately reflects the meaning and context of the Russian and Finnish versions. The phrase is translated naturally and appropriately.',\n",
       "   'suggestedFix': None},\n",
       "  'id': 1953},\n",
       " {'translationAccuracy': {'isCorrect': True,\n",
       "   'explanation': \"The English phrase 'I'm going' accurately reflects the meaning of the Russian 'я иду' and the Finnish 'mä meen'. Both original phrases indicate the act of going somewhere, which is correctly translated in a natural and context-appropriate way in English.\",\n",
       "   'suggestedFix': None},\n",
       "  'id': 1954},\n",
       " {'translationAccuracy': {'isCorrect': False,\n",
       "   'explanation': \"The given English translation 'are you going' does not fully capture the informal and direct nature of the Russian 'ты идёшь' and the Finnish 'sä meet'. A more accurate translation would be 'you are going' which preserves the context and nuance.\",\n",
       "   'suggestedFix': 'you are going'},\n",
       "  'id': 1955},\n",
       " {'translationAccuracy': {'isCorrect': True,\n",
       "   'explanation': \"The English translation 'He/She is going' correctly reflects the meaning of the Russian 'он/она идёт' and the Finnish 'se menee'. The context and nuances are preserved.\",\n",
       "   'suggestedFix': None},\n",
       "  'id': 1956},\n",
       " {'translationAccuracy': {'isCorrect': True,\n",
       "   'explanation': \"The English translation 'We're going' accurately captures the meaning of the Russian 'мы идём' and the Finnish 'me mennään'. It conveys the sense of moving or proceeding together.\",\n",
       "   'suggestedFix': None},\n",
       "  'id': 1957},\n",
       " {'translationAccuracy': {'isCorrect': True,\n",
       "   'explanation': \"The English translation 'You are going.' correctly reflects the meaning of both the Russian 'вы идёте' and the Finnish 'te meette', preserving the correct context and nuances.\",\n",
       "   'suggestedFix': None},\n",
       "  'id': 1958},\n",
       " {'translationAccuracy': {'isCorrect': False,\n",
       "   'explanation': \"The English translation 'They are going.' does not fully capture the nuances of the Russian phrase 'они идут' or the Finnish phrase 'ne menee'. While 'They are going' is grammatically correct, it sounds slightly unnatural in English for expressing a current ongoing action.\",\n",
       "   'suggestedFix': 'They are on their way.'},\n",
       "  'id': 1959},\n",
       " {'translationAccuracy': {'isCorrect': True,\n",
       "   'explanation': \"The translation 'I'll be there.' correctly reflects the meaning of the Russian phrase 'я приду' and the Finnish phrase 'mä tuun,' both of which imply coming or arriving at a location. The English version is natural and contextually accurate.\",\n",
       "   'suggestedFix': None},\n",
       "  'id': 1960},\n",
       " {'translationAccuracy': {'isCorrect': True,\n",
       "   'explanation': \"The given English translation 'Are you coming?' correctly reflects the meaning of the Russian 'ты придёшь' and the Finnish 'sä tuut', preserving the context and nuances.\",\n",
       "   'suggestedFix': None},\n",
       "  'id': 1961},\n",
       " {'translationAccuracy': {'isCorrect': True,\n",
       "   'explanation': \"The English translation 'He/She/It will come.' correctly reflects the meaning of 'он/она придёт' in Russian and 'se tulee' in Finnish. The context and nuances are preserved.\",\n",
       "   'suggestedFix': None},\n",
       "  'id': 1962},\n",
       " {'translationAccuracy': {'isCorrect': True,\n",
       "   'explanation': \"The English translation 'We'll come.' correctly reflects the meaning of both the Russian 'мы придём' and the Finnish 'me tullaan,' preserving the context and nuances.\",\n",
       "   'suggestedFix': None},\n",
       "  'id': 1963},\n",
       " {'translationAccuracy': {'isCorrect': True,\n",
       "   'explanation': \"The English translation 'Will you come?' accurately captures the meaning of both the Russian and Finnish phrases 'вы придёте' and 'te tuutte', which are asking if someone will come. The context and nuance are preserved.\",\n",
       "   'suggestedFix': None},\n",
       "  'id': 1964},\n",
       " {'translationAccuracy': {'isCorrect': False,\n",
       "   'explanation': \"The English translation 'They will come' does not perfectly mirror the original Russian and Finnish phrases. The Russian 'они придут' and Finnish 'ne tulee' translate to 'they will come', but the Finnish phrase 'ne tulee' grammatically is closer to 'they come' or 'they are coming' due to the use of 'tulee' instead of 'tulevat'.\",\n",
       "   'suggestedFix': 'They are coming.'},\n",
       "  'id': 1965},\n",
       " {'translationAccuracy': {'isCorrect': True,\n",
       "   'explanation': 'The given English translation accurately reflects the meanings and nuances of the Russian and Finnish phrases. The translation is also natural and appropriate for the context.',\n",
       "   'suggestedFix': None},\n",
       "  'id': 1966},\n",
       " {'translationAccuracy': {'isCorrect': True,\n",
       "   'explanation': \"The English translation 'Shall we go for a swim?' correctly reflects the meaning of the Russian 'Идём плавать?' and Finnish 'Mennäänks uimaan?' phrases, preserving the context and nuances.\",\n",
       "   'suggestedFix': None},\n",
       "  'id': 1967},\n",
       " {'translationAccuracy': {'isCorrect': True,\n",
       "   'explanation': 'The English translation correctly reflects the meaning and nuances of the given Russian and Finnish phrases. It also sounds natural in English.',\n",
       "   'suggestedFix': None},\n",
       "  'id': 1968},\n",
       " {'translationAccuracy': {'isCorrect': True,\n",
       "   'explanation': 'The English translation correctly captures the meaning of both the Russian and Finnish phrases. It maintains the context and nuances of asking about availability and providing preferred days.',\n",
       "   'suggestedFix': None},\n",
       "  'id': 1975},\n",
       " {'translationAccuracy': {'isCorrect': True,\n",
       "   'explanation': 'The English translation correctly reflects the meaning of the Russian and Finnish phrases, maintaining the context and nuances. The translated phrases are natural and understandable in English.',\n",
       "   'suggestedFix': None},\n",
       "  'id': 1976},\n",
       " {'translationAccuracy': {'isCorrect': True,\n",
       "   'explanation': \"The English translation 'Does Monday work for you? Yes, it does.' accurately reflects the meaning of both the Russian 'Подходит ли вам в понедельник? Подходит.' and the Finnish 'Käykö maanantaina? Se käy.' and sounds natural.\",\n",
       "   'suggestedFix': None},\n",
       "  'id': 1977},\n",
       " {'translationAccuracy': {'isCorrect': True,\n",
       "   'explanation': 'The English translation correctly reflects the meaning of the Russian and Finnish phrases, and it sounds natural.',\n",
       "   'suggestedFix': None},\n",
       "  'id': 1978},\n",
       " {'translationAccuracy': {'isCorrect': True,\n",
       "   'explanation': \"The English translation 'What about Wednesday? I'm not free on Wednesday.' accurately reflects the meaning of the Russian and Finnish versions. The context and nuances are preserved and the English phrase sounds natural.\",\n",
       "   'suggestedFix': None},\n",
       "  'id': 1979},\n",
       " {'translationAccuracy': {'isCorrect': True,\n",
       "   'explanation': 'The English translation correctly reflects the meaning of the Russian and Finnish versions, preserving the context and nuances. Therefore, the translation is accurate and sounds natural.',\n",
       "   'suggestedFix': None},\n",
       "  'id': 1980},\n",
       " {'translationAccuracy': {'isCorrect': True,\n",
       "   'explanation': \"The English phrase 'That works' correctly reflects the meaning of both the Russian 'Подходит' and the Finnish 'Se sopii', indicating that something is suitable or acceptable.\",\n",
       "   'suggestedFix': None},\n",
       "  'id': 1981},\n",
       " {'translationAccuracy': {'isCorrect': False,\n",
       "   'explanation': \"The provided English translation 'It doesn't work' does not accurately reflect the meaning of the Russian 'Не подходит' and Finnish 'Ei, se ei käy,' which both imply that something is not suitable or doesn't fit, rather than not functioning.\",\n",
       "   'suggestedFix': \"It doesn't fit.\"},\n",
       "  'id': 1982},\n",
       " {'translationAccuracy': {'isCorrect': True,\n",
       "   'explanation': \"The English translation 'Wednesday doesn't work for me.' accurately reflects the meanings of both the Russian and Finnish phrases. It correctly conveys that Wednesday is not suitable for the person due to lack of time or some other reason.\",\n",
       "   'suggestedFix': None},\n",
       "  'id': 1983},\n",
       " {'translationAccuracy': {'isCorrect': True,\n",
       "   'explanation': \"The English translation 'Sorry, but I won't make it by three.' accurately reflects the meaning of both the Russian and Finnish phrases, preserving the context and nuances.\",\n",
       "   'suggestedFix': None},\n",
       "  'id': 1984},\n",
       " {'translationAccuracy': {'isCorrect': True,\n",
       "   'explanation': \"The English translation 'I'm not Finnish' accurately captures the meaning of both the Russian 'Я не финн.' and the Finnish 'Minä en ole suomalainen.'\",\n",
       "   'suggestedFix': None},\n",
       "  'id': 1985},\n",
       " {'translationAccuracy': {'isCorrect': True,\n",
       "   'explanation': \"The English translation 'You don't speak Japanese' accurately reflects the meaning of both the Russian sentence 'Ты не говоришь по-японски.' and the Finnish sentence 'Sinä et puhu japania.', preserving the context and nuances.\",\n",
       "   'suggestedFix': None},\n",
       "  'id': 1986},\n",
       " {'translationAccuracy': {'isCorrect': True,\n",
       "   'explanation': 'The English translation correctly reflects the meaning of the Russian and Finnish versions. It accurately preserves the context and nuances of the original phrases.',\n",
       "   'suggestedFix': None},\n",
       "  'id': 1987},\n",
       " {'translationAccuracy': {'isCorrect': True,\n",
       "   'explanation': \"The English translation 'We don't study mathematics' accurately reflects the meaning of the Russian 'Мы не учим математику.' and the Finnish 'Me emme opiskele matematiikkaa.' The phrase is natural and conveys the correct context and nuances.\",\n",
       "   'suggestedFix': None},\n",
       "  'id': 1988},\n",
       " {'translationAccuracy': {'isCorrect': True,\n",
       "   'explanation': \"The English translation 'You don't play soccer' accurately reflects the meaning of the Russian 'Вы не играете в футбол' and the Finnish 'Te ette pelaa jalkapalloa.' The negation and meaning are preserved correctly.\",\n",
       "   'suggestedFix': None},\n",
       "  'id': 1989},\n",
       " {'translationAccuracy': {'isCorrect': True,\n",
       "   'explanation': 'The English translation accurately reflects the meaning of the Russian and Finnish phrases, preserving context and nuances. The translation also sounds natural.',\n",
       "   'suggestedFix': None},\n",
       "  'id': 1990},\n",
       " {'translationAccuracy': {'isCorrect': True,\n",
       "   'explanation': \"The English translation 'Can you swim?' correctly reflects the meaning of both the Russian phrase 'Ты умеешь плавать?' and the Finnish phrase 'Osaatko sinä uida?'. The context and nuances are preserved, making the translation accurate and natural.\",\n",
       "   'suggestedFix': None},\n",
       "  'id': 1991},\n",
       " {'translationAccuracy': {'isCorrect': True,\n",
       "   'explanation': \"The English translation 'I can't play the piano.' accurately reflects the meaning of the Russian phrase 'Я не умею играть на пианино.' and the Finnish phrase 'Minä en osaa soittaa pianoa.' Both versions imply an inability to play the piano, and the English translation conveys this accurately and naturally.\",\n",
       "   'suggestedFix': None},\n",
       "  'id': 1992},\n",
       " {'translationAccuracy': {'isCorrect': True,\n",
       "   'explanation': 'The English translation correctly conveys the meaning of the Russian and Finnish phrases, which both state that Anna cannot attend class today. The translation is natural and accurate.',\n",
       "   'suggestedFix': None},\n",
       "  'id': 1993},\n",
       " {'translationAccuracy': {'isCorrect': True,\n",
       "   'explanation': \"The English translation 'I want to go home!' correctly reflects the meaning of the Russian phrase 'Я хочу пойти домой!' and the Finnish phrase 'Minä haluan mennä kotiin!' while preserving the context and nuances.\",\n",
       "   'suggestedFix': None},\n",
       "  'id': 1994},\n",
       " {'translationAccuracy': {'isCorrect': True,\n",
       "   'explanation': \"The English translation 'We can buy some ice cream.' correctly reflects the meaning of the Russian phrase 'Мы можем купить мороженое.' and the Finnish phrase 'Me voimme ostaa jäätelöä.' It preserves the context and nuance.\",\n",
       "   'suggestedFix': None},\n",
       "  'id': 1995},\n",
       " {'translationAccuracy': {'isCorrect': True,\n",
       "   'explanation': \"The English translation 'Joonas can't read' accurately reflects the meaning of both the Russian phrase 'Йоонас не умеет читать.' and the Finnish phrase 'Joonas ei osaa lukea.' The name 'Joonas' is correctly transliterated, and the ability to read is correctly conveyed in the negative form.\",\n",
       "   'suggestedFix': None},\n",
       "  'id': 1996},\n",
       " {'translationAccuracy': {'isCorrect': True,\n",
       "   'explanation': \"The English translation 'I love swimming' correctly reflects the meaning and context of the Russian phrase 'Я люблю плавать.' and the Finnish phrase 'Minä tykkään uida.'. Both phrases express enjoyment of the activity of swimming.\",\n",
       "   'suggestedFix': None},\n",
       "  'id': 1997},\n",
       " {'translationAccuracy': {'isCorrect': True,\n",
       "   'explanation': 'The English translation accurately and naturally reflects the meaning of the Russian and Finnish phrases, preserving the context and nuances.',\n",
       "   'suggestedFix': None},\n",
       "  'id': 1998},\n",
       " {'translationAccuracy': {'isCorrect': True,\n",
       "   'explanation': 'The English translation correctly captures the meaning of both the Russian and Finnish phrases. The context and nuances are preserved, and the translation is natural.',\n",
       "   'suggestedFix': None},\n",
       "  'id': 1999},\n",
       " {'translationAccuracy': {'isCorrect': True,\n",
       "   'explanation': \"The English translation 'Do you drink coffee?' correctly reflects the meaning of both the Russian phrase 'Ты пьёшь кофе?' and the Finnish phrase 'Juotko sinä kahvia?', preserving context and nuances.\",\n",
       "   'suggestedFix': None},\n",
       "  'id': 2000},\n",
       " {'translationAccuracy': {'isCorrect': True,\n",
       "   'explanation': 'The English translation correctly reflects the meaning of both the Russian and Finnish versions, preserving the context and nuances accurately.',\n",
       "   'suggestedFix': None},\n",
       "  'id': 2001},\n",
       " {'translationAccuracy': {'isCorrect': True,\n",
       "   'explanation': \"The English translation 'Kalle is playing soccer' correctly reflects the meaning of the Russian 'Калле играет в футбол' and the Finnish 'Kalle pelaa jalkapalloa'. The context and nuances are preserved.\",\n",
       "   'suggestedFix': None},\n",
       "  'id': 2002},\n",
       " {'translationAccuracy': {'isCorrect': True,\n",
       "   'explanation': \"The English translation 'We're having pizza tonight.' accurately captures the meaning of the Russian 'Мы едим пиццу вечером.' and the Finnish 'Me syömme illalla pizzaa.' The context and nuances are preserved.\",\n",
       "   'suggestedFix': None},\n",
       "  'id': 2003},\n",
       " {'translationAccuracy': {'isCorrect': True,\n",
       "   'explanation': \"The English translation correctly reflects the meaning of the Russian and Finnish versions, preserving the context and nuances. The word 'soccer' is an appropriate and commonly used term in American English for the sport known as 'football' in other English-speaking countries.\",\n",
       "   'suggestedFix': None},\n",
       "  'id': 2004},\n",
       " {'translationAccuracy': {'isCorrect': True,\n",
       "   'explanation': 'The English translation correctly reflects the meaning of the Russian and Finnish versions and preserves the context and nuances. It also sounds natural.',\n",
       "   'suggestedFix': None},\n",
       "  'id': 2005},\n",
       " {'translationAccuracy': {'isCorrect': True,\n",
       "   'explanation': \"The English translation 'Thank you for the invitation!' accurately reflects the meaning of the Russian 'Спасибо за приглашение!' and the Finnish 'Kiitos kutsusta!' The context and sentiment are preserved, and the translation sounds natural in English.\",\n",
       "   'suggestedFix': None},\n",
       "  'id': 2011}]"
      ]
     },
     "execution_count": 63,
     "metadata": {},
     "output_type": "execute_result"
    }
   ],
   "source": [
    "[res for res in tmp_res]"
   ]
  },
  {
   "cell_type": "code",
   "execution_count": 8,
   "metadata": {},
   "outputs": [
    {
     "data": {
      "text/plain": [
       "0.9625"
      ]
     },
     "execution_count": 8,
     "metadata": {},
     "output_type": "execute_result"
    }
   ],
   "source": [
    "sum([res['translationAccuracy']['isCorrect'] for res in tmp_res if res['translationAccuracy']['isCorrect'] is not None]) / len([res['translationAccuracy']['isCorrect'] for res in tmp_res])"
   ]
  },
  {
   "cell_type": "code",
   "execution_count": 199,
   "metadata": {},
   "outputs": [],
   "source": [
    "def generate_complete_cards_and_evaluate(ru_finn_cards, model=GPT_4o):\n",
    "    cards = []\n",
    "    eval_results = []\n",
    "    for ru_finn in tqdm(ru_finn_cards):\n",
    "        try:\n",
    "            ru_word, ru_sentence, finn_word, finn_sentence, card_id = ru_finn.values()\n",
    "            if ru_sentence == '':\n",
    "                #cards.append(ru_eng)\n",
    "                #eval_results.append(eval_result)\n",
    "                continue\n",
    "                \n",
    "            system_prompt = '''You are a multilingual assistant who is proficient in Russian, Finnish and English.'''\n",
    "\n",
    "            user_prompt = f\"\"\"\n",
    "            Translate the given Russian word or phrase along with its Finnish translation into English, and then translate the provided Russian sentence, incorporating the English translation of the word or phrase. Use synonyms or related terms where necessary to convey the intended meaning and maintain naturalness in English.\n",
    "\n",
    "            Given word or phrase (Russian): '{ru_word}'\n",
    "            Given word or phrase (Finnish): '{finn_word}'\n",
    "\n",
    "            Given sentence (Russian): '{ru_sentence}'\n",
    "            Given sentence (Finnish): '{finn_sentence}'\n",
    "\n",
    "            Return the English translated word or phrase and the English translated sentence, separated by a semicolon (;).\n",
    "            \"\"\"\n",
    "\n",
    "            response = client.chat.completions.create(\n",
    "              model=model,\n",
    "              messages=[\n",
    "                {\"role\": \"system\", \"content\": system_prompt.strip()},\n",
    "                {\"role\": \"user\", \"content\": user_prompt.strip()}\n",
    "              ]\n",
    "            )\n",
    "            \n",
    "            tr_word, tr_sentence = response.choices[0].message.content.strip().split(';')\n",
    "\n",
    "            card = {}\n",
    "            card[\"wordFirstLang\"] = ru_word\n",
    "            card[\"sentenceFirstLang\"] = ru_sentence\n",
    "            card[\"wordSecondLang\"] = tr_word.strip()\n",
    "            card[\"sentenceSecondLang\"] = tr_sentence.strip()\n",
    "            card[\"id\"] = card_id\n",
    "            cards.append(card)\n",
    "            \n",
    "            user_prompt = f\"\"\"\n",
    "            Evaluate the correctness of an English word and sentence based on their translations from Russian and Finnish. You will receive a word in Russian, Finnish, and its translation in English, as well as a sentence in Russian, Finnish, and its translation in English. Your task is to assess the quality of the English sentence, the usage of the English word in the sentence, and the accuracy of the translations from Russian and Finnish to English. For each evaluation point, provide a detailed explanation of your judgment and suggest fixes where applicable, either to the English word, the English sentence, or both.\n",
    "\n",
    "            Please ensure that the English sentence is grammatically correct and natural. Suggest a corrected version if necessary. Verify that the English sentence contains the English word in some form and suggest using synonyms or related terms if the word is missing. Prioritize naturalness and correctness. Ensure that the translations of both the word and sentence from Russian and Finnish to English are accurate and provide corrections if necessary.\n",
    "\n",
    "            Respond in JSON format with the following structure:\n",
    "            {{\n",
    "              \"englishSentence\": {{\n",
    "                \"isCorrect\": true/false,\n",
    "                \"explanation\": \"Detailed explanation if there is an issue or why it's correct.\",\n",
    "                \"suggestedFix\": \"Suggested corrected sentence if there is an issue, or null if not applicable.\"\n",
    "              }},\n",
    "              \"wordUsage\": {{\n",
    "                \"isCorrect\": true/false,\n",
    "                \"explanation\": \"Detailed explanation if there is an issue or why it's correct.\",\n",
    "                \"suggestedFixSentence\": \"Suggested corrected sentence if the word usage is incorrect, or null if not applicable.\",\n",
    "                \"suggestedFixWord\": \"Suggested corrected word if the word usage is incorrect, or null if not applicable.\"\n",
    "              }},\n",
    "              \"translationAccuracy\": {{\n",
    "                \"isCorrect\": true/false,\n",
    "                \"explanation\": \"Detailed explanation if there is an issue or why it's correct.\",\n",
    "                \"suggestedFix\": \"Suggested correction for translation issues, or null if not applicable.\"\n",
    "              }}\n",
    "            }}\n",
    "\n",
    "            Here are the provided word and sentence in Russian, Finnish, and English:\n",
    "\n",
    "            - Word in Russian: {ru_word}\n",
    "            - Word in Finnish: {finn_word}\n",
    "            - Word in English: {tr_word}\n",
    "            - Sentence in Russian: {ru_sentence}\n",
    "            - Sentence in Finnish: {finn_sentence}\n",
    "            - Sentence in English: {tr_sentence}\n",
    "\n",
    "            Please adhere to this structure to ensure clear, actionable feedback for each evaluation point.\n",
    "            \"\"\"\n",
    "            \n",
    "            response = client.chat.completions.create(\n",
    "              model=\"gpt-4o\",\n",
    "              response_format={ \"type\": \"json_object\" },\n",
    "              messages=[\n",
    "                {\"role\": \"system\", \"content\": system_prompt.strip()},\n",
    "                {\"role\": \"user\", \"content\": user_prompt.strip()}\n",
    "              ]\n",
    "            )\n",
    "\n",
    "            res = json.loads(response.choices[0].message.content.strip())\n",
    "            res['id'] = card['id']\n",
    "            eval_results.append(res)\n",
    "            \n",
    "        except Exception as e:\n",
    "            print(ru_finn['id'])\n",
    "    return cards, eval_results"
   ]
  },
  {
   "cell_type": "code",
   "execution_count": 210,
   "metadata": {},
   "outputs": [],
   "source": [
    "def improve_complete_cards_and_evaluate(ru_finn_cards, ru_eng_cards, ru_eng_evals, model=GPT_4o):\n",
    "    cards = []\n",
    "    eval_results = []\n",
    "    for ru_finn, ru_eng, eval_result in tqdm(list(zip(ru_finn_cards, ru_eng_cards, ru_eng_evals))):\n",
    "        try:\n",
    "            ru_word, ru_sentence, finn_word, finn_sentence, card_id = ru_finn.values()\n",
    "            _, _, eng_word, eng_sentence, _ = ru_eng.values()\n",
    "\n",
    "            if ru_sentence == '':\n",
    "                #cards.append(ru_eng)\n",
    "                #eval_results.append(eval_result)\n",
    "                continue\n",
    "            \n",
    "            tr_is_correct, tr_explanation, tr_suggested_fix = eval_result['translationAccuracy'].values()\n",
    "            w_is_correct, w_explanation, w_suggested_fix, w_suggested_fix_s = eval_result['wordUsage'].values()\n",
    "            s_is_correct, s_explanation, s_suggested_fix = eval_result['englishSentence'].values()\n",
    "\n",
    "            if all([tr_is_correct, w_is_correct, s_is_correct]):\n",
    "                #cards.append(ru_eng)\n",
    "                #eval_results.append(eval_result)\n",
    "                continue\n",
    "                \n",
    "            system_prompt = '''You are a multilingual assistant who is proficient in Russian, Finnish and English.'''\n",
    "\n",
    "            user_prompt = f\"\"\"\n",
    "            Translate the given Russian word or phrase into English and use it within the provided Russian sentence to create a natural and accurate English translation. The Finnish word or sentence can be used as additional context to refine the translation if needed, but the focus should remain on accurately conveying the meaning of the Russian source. Aim for clarity, naturalness, and contextual appropriateness in English.  \n",
    "\n",
    "            Details to guide your translation:  \n",
    "\n",
    "            - **Russian word or phrase:** '{ru_word}'  \n",
    "            - **Finnish word or phrase:** '{finn_word}'  \n",
    "            - **Russian sentence:** '{ru_sentence}'  \n",
    "            - **Finnish sentence:** '{finn_sentence}'  \n",
    "            - **Existing English translation of the word or phrase:** '{eng_word}'  \n",
    "            - **Existing English translation of the sentence:** '{eng_sentence}'  \n",
    "            - **Evaluation results of the existing translation:** {eval_result}  \n",
    "\n",
    "            ### Instructions:  \n",
    "            1. Translate the word or phrase into English, ensuring it fits naturally into the sentence while maintaining the intended meaning.  \n",
    "            2. Translate the Russian sentence into English, incorporating the translated word or phrase naturally and accurately.  \n",
    "            3. Use synonyms or related terms if necessary to ensure the translation sounds fluent and idiomatic in English.  \n",
    "            4. Consider the Finnish word or sentence and evaluation results as optional aids; use them only if they help clarify meaning or improve naturalness.  \n",
    "\n",
    "            The goal is to create a polished and natural translation that prioritizes the Russian source meaning, aligns well with the given sentence, and respects the context provided. Return the English translated word or phrase and the English translated sentence, separated by a semicolon (;).\n",
    "            \"\"\"\n",
    "\n",
    "            response = client.chat.completions.create(\n",
    "              model=model,\n",
    "              messages=[\n",
    "                {\"role\": \"system\", \"content\": system_prompt.strip()},\n",
    "                {\"role\": \"user\", \"content\": user_prompt.strip()}\n",
    "              ]\n",
    "            )\n",
    "            \n",
    "            tr_word, tr_sentence = response.choices[0].message.content.strip().split(';')\n",
    "\n",
    "            card = {}\n",
    "            card[\"wordFirstLang\"] = ru_word\n",
    "            card[\"sentenceFirstLang\"] = ru_sentence\n",
    "            card[\"wordSecondLang\"] = tr_word.strip()\n",
    "            card[\"sentenceSecondLang\"] = tr_sentence.strip()\n",
    "            card[\"id\"] = card_id\n",
    "            cards.append(card)\n",
    "            \n",
    "            user_prompt = f\"\"\"\n",
    "            Evaluate the correctness of an English word and sentence based on their translations from Russian and Finnish. You will receive a word in Russian, Finnish, and its translation in English, as well as a sentence in Russian, Finnish, and its translation in English. Your task is to assess the quality of the English sentence, the usage of the English word in the sentence, and the accuracy of the translations from Russian and Finnish to English. For each evaluation point, provide a detailed explanation of your judgment and suggest fixes where applicable, either to the English word, the English sentence, or both.\n",
    "\n",
    "            Please ensure that the English sentence is grammatically correct and natural. Suggest a corrected version if necessary. Verify that the English sentence contains the English word in some form and suggest using synonyms or related terms if the word is missing. Prioritize naturalness and correctness. Ensure that the translations of both the word and sentence from Russian and Finnish to English are accurate and provide corrections if necessary.\n",
    "\n",
    "            Respond in JSON format with the following structure:\n",
    "            {{\n",
    "              \"englishSentence\": {{\n",
    "                \"isCorrect\": true/false,\n",
    "                \"explanation\": \"Detailed explanation if there is an issue or why it's correct.\",\n",
    "                \"suggestedFix\": \"Suggested corrected sentence if there is an issue, or null if not applicable.\"\n",
    "              }},\n",
    "              \"wordUsage\": {{\n",
    "                \"isCorrect\": true/false,\n",
    "                \"explanation\": \"Detailed explanation if there is an issue or why it's correct.\",\n",
    "                \"suggestedFixSentence\": \"Suggested corrected sentence if the word usage is incorrect, or null if not applicable.\",\n",
    "                \"suggestedFixWord\": \"Suggested corrected word if the word usage is incorrect, or null if not applicable.\"\n",
    "              }},\n",
    "              \"translationAccuracy\": {{\n",
    "                \"isCorrect\": true/false,\n",
    "                \"explanation\": \"Detailed explanation if there is an issue or why it's correct.\",\n",
    "                \"suggestedFix\": \"Suggested correction for translation issues, or null if not applicable.\"\n",
    "              }}\n",
    "            }}\n",
    "\n",
    "            Here are the provided word and sentence in Russian, Finnish, and English:\n",
    "\n",
    "            - Word in Russian: {ru_word}\n",
    "            - Word in Finnish: {finn_word}\n",
    "            - Word in English: {tr_word}\n",
    "            - Sentence in Russian: {ru_sentence}\n",
    "            - Sentence in Finnish: {finn_sentence}\n",
    "            - Sentence in English: {tr_sentence}\n",
    "\n",
    "            Please adhere to this structure to ensure clear, actionable feedback for each evaluation point.\n",
    "            \"\"\"\n",
    "            \n",
    "            response = client.chat.completions.create(\n",
    "              model=\"gpt-4o\",\n",
    "              response_format={ \"type\": \"json_object\" },\n",
    "              messages=[\n",
    "                {\"role\": \"system\", \"content\": system_prompt.strip()},\n",
    "                {\"role\": \"user\", \"content\": user_prompt.strip()}\n",
    "              ]\n",
    "            )\n",
    "\n",
    "            res = json.loads(response.choices[0].message.content.strip())\n",
    "            res['id'] = card['id']\n",
    "            eval_results.append(res)\n",
    "            \n",
    "        except Exception as e:\n",
    "            print(ru_finn['id'])\n",
    "    return cards, eval_results"
   ]
  },
  {
   "cell_type": "code",
   "execution_count": 201,
   "metadata": {},
   "outputs": [],
   "source": [
    "tmp_eval = get_eval_results_from_file(file_names[5])\n",
    "tmp_ru_eng = get_ru_eng_cards_from_file(file_names[5])\n",
    "tmp_ru_finn = get_ru_finn_cards_from_file(file_names[5])"
   ]
  },
  {
   "cell_type": "code",
   "execution_count": 202,
   "metadata": {},
   "outputs": [
    {
     "data": {
      "application/vnd.jupyter.widget-view+json": {
       "model_id": "d3e79ec9c13849ba991ee430f8451dea",
       "version_major": 2,
       "version_minor": 0
      },
      "text/plain": [
       "  0%|          | 0/239 [00:00<?, ?it/s]"
      ]
     },
     "metadata": {},
     "output_type": "display_data"
    },
    {
     "name": "stdout",
     "output_type": "stream",
     "text": [
      "2237\n"
     ]
    }
   ],
   "source": [
    "tmp_cards, tmp_evals = generate_complete_cards_and_evaluate(tmp_ru_finn)"
   ]
  },
  {
   "cell_type": "code",
   "execution_count": 203,
   "metadata": {},
   "outputs": [],
   "source": [
    "new_tmp_ru_finn = []\n",
    "ids = [card['id'] for card in tmp_cards]\n",
    "for card in tmp_ru_finn:\n",
    "    if card['id'] in ids:\n",
    "        new_tmp_ru_finn.append(card)"
   ]
  },
  {
   "cell_type": "code",
   "execution_count": 211,
   "metadata": {},
   "outputs": [
    {
     "data": {
      "application/vnd.jupyter.widget-view+json": {
       "model_id": "f64191d2a3494cc99d9432a0a0d2e5b7",
       "version_major": 2,
       "version_minor": 0
      },
      "text/plain": [
       "  0%|          | 0/185 [00:00<?, ?it/s]"
      ]
     },
     "metadata": {},
     "output_type": "display_data"
    }
   ],
   "source": [
    "upd_cards, upd_evals = improve_complete_cards_and_evaluate(new_tmp_ru_finn, tmp_cards, tmp_evals)"
   ]
  },
  {
   "cell_type": "code",
   "execution_count": 197,
   "metadata": {},
   "outputs": [
    {
     "data": {
      "text/plain": [
       "[{'englishSentence': {'isCorrect': True,\n",
       "   'explanation': 'The English sentence is grammatically correct and sounds natural.',\n",
       "   'suggestedFix': None},\n",
       "  'wordUsage': {'isCorrect': True,\n",
       "   'explanation': \"The word 'district' is correctly used in the English sentence. It aligns well with its counterparts in the Russian ('район') and Finnish ('alue') sentences.\",\n",
       "   'suggestedFixSentence': None,\n",
       "   'suggestedFixWord': None},\n",
       "  'translationAccuracy': {'isCorrect': False,\n",
       "   'explanation': \"The word 'district' is a correct translation generally, but given the context of the sentence, it's more natural to use 'area' instead of 'district' in English. The word 'district' can sometimes imply a more formal or administrative subdivision, which may not be necessary here.\",\n",
       "   'suggestedFix': 'The apartment is located in a quiet area.'},\n",
       "  'id': 2037},\n",
       " {'englishSentence': {'isCorrect': True,\n",
       "   'explanation': \"The sentence 'I am extremely hungry.' is grammatically correct and sounds natural in English. It conveys the meaning effectively and follows standard English syntax.\",\n",
       "   'suggestedFix': None},\n",
       "  'wordUsage': {'isCorrect': True,\n",
       "   'explanation': \"The word 'extremely' is correctly used in the sentence 'I am extremely hungry.'. It properly conveys the intensity of the hunger in English.\",\n",
       "   'suggestedFixSentence': None,\n",
       "   'suggestedFixWord': None},\n",
       "  'translationAccuracy': {'isCorrect': False,\n",
       "   'explanation': \"The translations of the word and sentence have slight issues. The word 'очень' in Russian and 'hirmu' in Finnish can both mean 'very' rather than 'extremely'. Additionally, 'ужасный аппетит' translates more closely to 'terrible' (in a large sense) appetite rather than 'extremely hungry'. The Russian sentence should translate more accurately as 'I have a terrible appetite.', emphasizing the unnatural extent of hunger.\",\n",
       "   'suggestedFix': {'word': {'english': 'very (or terribly, for stronger emphasis)',\n",
       "     'sentence': 'I am terribly hungry.'}}},\n",
       "  'id': 2055},\n",
       " {'englishSentence': {'isCorrect': False,\n",
       "   'explanation': \"The English sentence is mostly correct but feels slightly incomplete as it does not specify who needs help. Adding 'me' at the end would make it more natural and clear.\",\n",
       "   'suggestedFix': 'Take the box and help me.'},\n",
       "  'wordUsage': {'isCorrect': True,\n",
       "   'explanation': \"The word 'box' is correctly used in the English sentence. It corresponds accurately with the given words in both Russian ('ящик') and Finnish ('laatikko'), and fits naturally within the sentence.\",\n",
       "   'suggestedFixSentence': None,\n",
       "   'suggestedFixWord': None},\n",
       "  'translationAccuracy': {'isCorrect': False,\n",
       "   'explanation': \"The translations of the word 'box' from Russian ('ящик') and Finnish ('laatikko') to English are accurate. However, the English sentence 'Take the box and help me.' better captures the intended meaning of the original Russian and Finnish sentences.\",\n",
       "   'suggestedFix': 'Take the box and help me.'},\n",
       "  'id': 2068},\n",
       " {'englishSentence': {'isCorrect': False,\n",
       "   'explanation': \"The sentence is grammatically correct but 'short' is not the best adjective to describe the height of a table in English. 'Low' would be a more natural and accurate choice.\",\n",
       "   'suggestedFix': 'The table is low.'},\n",
       "  'wordUsage': {'isCorrect': False,\n",
       "   'explanation': \"The word 'short' is generally used to describe the length of something or the height of a person, not the height of an object like a table. In this context, 'low' is the appropriate term.\",\n",
       "   'suggestedFixSentence': 'The table is low.',\n",
       "   'suggestedFixWord': 'low'},\n",
       "  'translationAccuracy': {'isCorrect': False,\n",
       "   'explanation': \"The word 'низкий' in Russian and 'matala' in Finnish both mean 'low' rather than 'short'. The translation of the sentence 'Стол низкий' and 'Pöytä on matala' should reflect this.\",\n",
       "   'suggestedFix': 'The table is low.'},\n",
       "  'id': 2089},\n",
       " {'englishSentence': {'isCorrect': True,\n",
       "   'explanation': \"The English sentence 'I am on vacation in Imatra.' is grammatically correct and sounds natural.\",\n",
       "   'suggestedFix': None},\n",
       "  'wordUsage': {'isCorrect': True,\n",
       "   'explanation': \"The English word 'In Imatra' is correctly used in the sentence 'I am on vacation in Imatra.'\",\n",
       "   'suggestedFixSentence': None,\n",
       "   'suggestedFixWord': None},\n",
       "  'translationAccuracy': {'isCorrect': False,\n",
       "   'explanation': \"The translation from Russian ('Отпуск в Иматре.') and Finnish ('Loma Imatralla.') to English ('I am on vacation in Imatra.') is slightly off in terms of literal translation. The literal translation should be 'Vacation in Imatra.'\",\n",
       "   'suggestedFix': 'Vacation in Imatra.'},\n",
       "  'id': 2201},\n",
       " {'englishSentence': {'isCorrect': False,\n",
       "   'explanation': \"The English sentence 'That is a house.' is grammatically correct but does not align well with the given Russian and Finnish sentences. The Russian sentence 'Тот дом.' and the Finnish sentence 'Toi talo.' both translate more directly to 'That house.' There is a difference because 'That is a house.' implies presence (there is a house), whereas 'That house.' is simply identifying the specific house.\",\n",
       "   'suggestedFix': 'That house.'},\n",
       "  'wordUsage': {'isCorrect': True,\n",
       "   'explanation': \"The word 'That' is used correctly in the English sentence to indicate a specific object, in this case, the house. It aligns well with the provided word translations from Russian ('тот') and Finnish ('toi').\",\n",
       "   'suggestedFixSentence': None,\n",
       "   'suggestedFixWord': None},\n",
       "  'translationAccuracy': {'isCorrect': False,\n",
       "   'explanation': \"The translation of the sentence 'Тот дом.' from Russian and 'Toi talo.' from Finnish to English should be 'That house.' rather than 'That is a house.' to accurately capture the intended meaning. 'Тот дом.' and 'Toi talo.' are more accurately translated as a noun phrase specifying a particular house.\",\n",
       "   'suggestedFix': 'That house.'},\n",
       "  'id': 2239},\n",
       " {'englishSentence': {'isCorrect': False,\n",
       "   'explanation': \"The English sentence 'At least place this lamp on the table.' does not capture the meaning of the Russian sentence 'Поставь хотя бы этот светильник на стол.' or the Finnish sentence 'Vie vaikka tämä lamppu pöydälle.' in which 'хотя бы' and 'vaikka' suggest an additional sense of doing the minimal suggestion or compromise. The suggested meaning could be better represented with 'at least' or 'even if'.\",\n",
       "   'suggestedFix': 'At least put this lamp on the table.'},\n",
       "  'wordUsage': {'isCorrect': False,\n",
       "   'explanation': \"The word 'although' is not used in the English sentence, which changes its meaning from the original Russian and Finnish sentences that include 'хотя' and 'vaikka', which convey a sense of minimal suggestion rather than a contrasting idea.\",\n",
       "   'suggestedFixSentence': \"Even if it isn't much, put this lamp on the table.\",\n",
       "   'suggestedFixWord': 'even if'},\n",
       "  'translationAccuracy': {'isCorrect': False,\n",
       "   'explanation': \"The current English translation 'At least place this lamp on the table.' does not accurately convey the meaning of the original Russian and Finnish sentences, which suggest a minimal action or suggestion without negating other options.\",\n",
       "   'suggestedFix': 'At least put this lamp on the table.'},\n",
       "  'id': 2260}]"
      ]
     },
     "execution_count": 197,
     "metadata": {},
     "output_type": "execute_result"
    }
   ],
   "source": [
    "[res for res in upd_evals if not res['translationAccuracy']['isCorrect']]"
   ]
  },
  {
   "cell_type": "code",
   "execution_count": 212,
   "metadata": {},
   "outputs": [
    {
     "data": {
      "text/plain": [
       "0.7586206896551724"
      ]
     },
     "execution_count": 212,
     "metadata": {},
     "output_type": "execute_result"
    }
   ],
   "source": [
    "sum([res['translationAccuracy']['isCorrect'] for res in upd_evals]) / len([res['translationAccuracy']['isCorrect'] for res in upd_evals])"
   ]
  },
  {
   "cell_type": "code",
   "execution_count": 213,
   "metadata": {},
   "outputs": [
    {
     "data": {
      "text/plain": [
       "0.6551724137931034"
      ]
     },
     "execution_count": 213,
     "metadata": {},
     "output_type": "execute_result"
    }
   ],
   "source": [
    "sum([res['englishSentence']['isCorrect'] for res in upd_evals]) / len([res['englishSentence']['isCorrect'] for res in upd_evals])"
   ]
  },
  {
   "cell_type": "code",
   "execution_count": 214,
   "metadata": {},
   "outputs": [
    {
     "data": {
      "text/plain": [
       "(185, 29)"
      ]
     },
     "execution_count": 214,
     "metadata": {},
     "output_type": "execute_result"
    }
   ],
   "source": [
    "len(tmp_evals), len(upd_evals)"
   ]
  },
  {
   "cell_type": "code",
   "execution_count": 174,
   "metadata": {},
   "outputs": [],
   "source": [
    "new_tmp_ru_finn = []\n",
    "ids = [card['id'] for card in tmp_cards]\n",
    "for card in tmp_ru_finn:\n",
    "    if card['id'] in ids:\n",
    "        new_tmp_ru_finn.append(card)"
   ]
  },
  {
   "cell_type": "code",
   "execution_count": 170,
   "metadata": {},
   "outputs": [
    {
     "data": {
      "text/plain": [
       "0.9086021505376344"
      ]
     },
     "execution_count": 170,
     "metadata": {},
     "output_type": "execute_result"
    }
   ],
   "source": [
    "sum([res['translationAccuracy']['isCorrect'] for res in tmp_evals]) / len([res['translationAccuracy']['isCorrect'] for res in tmp_evals])"
   ]
  },
  {
   "cell_type": "code",
   "execution_count": 166,
   "metadata": {},
   "outputs": [
    {
     "name": "stdout",
     "output_type": "stream",
     "text": [
      "{'EnglishSentence': {'isCorrect': True, 'explanation': \"The sentence 'We traveled abroad.' is grammatically correct and sounds natural in English.\", 'suggestedFix': None}, 'WordUsage': {'isCorrect': True, 'explanation': \"The word 'abroad' is accurately used in the sentence 'We traveled abroad.' and fits the context perfectly.\", 'suggestedFixSentence': None, 'suggestedFixWord': None}, 'TranslationAccuracy': {'isCorrect': True, 'explanation': \"The translations from Russian 'Мы поехали за границу.' and Finnish 'Me menimme ulkomaille.' to English 'We traveled abroad.' are accurate.\", 'suggestedFix': None}, 'id': 2208}\n"
     ]
    }
   ],
   "source": [
    "for res in tmp_evals:\n",
    "    if 'translationAccuracy' not in res.keys():\n",
    "        print(res)\n",
    "        break"
   ]
  },
  {
   "cell_type": "code",
   "execution_count": null,
   "metadata": {},
   "outputs": [],
   "source": []
  }
 ],
 "metadata": {
  "kernelspec": {
   "display_name": "Python 3",
   "language": "python",
   "name": "python3"
  },
  "language_info": {
   "codemirror_mode": {
    "name": "ipython",
    "version": 3
   },
   "file_extension": ".py",
   "mimetype": "text/x-python",
   "name": "python",
   "nbconvert_exporter": "python",
   "pygments_lexer": "ipython3",
   "version": "3.13.0"
  }
 },
 "nbformat": 4,
 "nbformat_minor": 2
}
