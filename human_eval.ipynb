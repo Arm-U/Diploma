{
 "cells": [
  {
   "cell_type": "code",
   "execution_count": 3,
   "metadata": {},
   "outputs": [],
   "source": [
    "import numpy as np\n",
    "import pandas as pd"
   ]
  },
  {
   "cell_type": "code",
   "execution_count": 18,
   "metadata": {},
   "outputs": [
    {
     "data": {
      "text/plain": [
       "Index(['Unnamed: 0', 'wordFirstLang', 'sentenceFirstLang', 'wordSecondLang',\n",
       "       'sentenceSecondLang', 'id', 'eng_sent', 'word_use', 'word_trans',\n",
       "       'sent_trans_acc', 'trans_acc', 'comments'],\n",
       "      dtype='object')"
      ]
     },
     "execution_count": 18,
     "metadata": {},
     "output_type": "execute_result"
    }
   ],
   "source": [
    "df = pd.read_excel('ru_eng_sm1_labeled.xlsx', header=0)\n",
    "df.columns"
   ]
  },
  {
   "cell_type": "code",
   "execution_count": 19,
   "metadata": {},
   "outputs": [],
   "source": [
    "labeled_cards = df.iloc[:650]"
   ]
  },
  {
   "cell_type": "code",
   "execution_count": 20,
   "metadata": {},
   "outputs": [
    {
     "name": "stderr",
     "output_type": "stream",
     "text": [
      "C:\\Users\\Арман\\AppData\\Local\\Temp\\ipykernel_8880\\1365964914.py:1: SettingWithCopyWarning: \n",
      "A value is trying to be set on a copy of a slice from a DataFrame\n",
      "\n",
      "See the caveats in the documentation: https://pandas.pydata.org/pandas-docs/stable/user_guide/indexing.html#returning-a-view-versus-a-copy\n",
      "  labeled_cards.fillna(0, inplace=True)\n"
     ]
    },
    {
     "data": {
      "text/html": [
       "<div>\n",
       "<style scoped>\n",
       "    .dataframe tbody tr th:only-of-type {\n",
       "        vertical-align: middle;\n",
       "    }\n",
       "\n",
       "    .dataframe tbody tr th {\n",
       "        vertical-align: top;\n",
       "    }\n",
       "\n",
       "    .dataframe thead th {\n",
       "        text-align: right;\n",
       "    }\n",
       "</style>\n",
       "<table border=\"1\" class=\"dataframe\">\n",
       "  <thead>\n",
       "    <tr style=\"text-align: right;\">\n",
       "      <th></th>\n",
       "      <th>Unnamed: 0</th>\n",
       "      <th>wordFirstLang</th>\n",
       "      <th>sentenceFirstLang</th>\n",
       "      <th>wordSecondLang</th>\n",
       "      <th>sentenceSecondLang</th>\n",
       "      <th>id</th>\n",
       "      <th>eng_sent</th>\n",
       "      <th>word_use</th>\n",
       "      <th>word_trans</th>\n",
       "      <th>sent_trans_acc</th>\n",
       "      <th>trans_acc</th>\n",
       "      <th>comments</th>\n",
       "    </tr>\n",
       "  </thead>\n",
       "  <tbody>\n",
       "    <tr>\n",
       "      <th>0</th>\n",
       "      <td>0</td>\n",
       "      <td>Привет!</td>\n",
       "      <td>Привет, как дела?</td>\n",
       "      <td>Hello!</td>\n",
       "      <td>Hello, how are you?</td>\n",
       "      <td>1000</td>\n",
       "      <td>1.0</td>\n",
       "      <td>1.0</td>\n",
       "      <td>1.0</td>\n",
       "      <td>1.0</td>\n",
       "      <td>0.0</td>\n",
       "      <td>0</td>\n",
       "    </tr>\n",
       "    <tr>\n",
       "      <th>1</th>\n",
       "      <td>1</td>\n",
       "      <td>Добро пожаловать!</td>\n",
       "      <td>Добро пожаловать в наш магазин!</td>\n",
       "      <td>Welcome!</td>\n",
       "      <td>Welcome to our store!</td>\n",
       "      <td>1001</td>\n",
       "      <td>1.0</td>\n",
       "      <td>1.0</td>\n",
       "      <td>1.0</td>\n",
       "      <td>1.0</td>\n",
       "      <td>0.0</td>\n",
       "      <td>0</td>\n",
       "    </tr>\n",
       "    <tr>\n",
       "      <th>2</th>\n",
       "      <td>2</td>\n",
       "      <td>Извините!</td>\n",
       "      <td>Извините, где находится станция?</td>\n",
       "      <td>Sorry!</td>\n",
       "      <td>Sorry, where is the station?</td>\n",
       "      <td>1002</td>\n",
       "      <td>1.0</td>\n",
       "      <td>1.0</td>\n",
       "      <td>1.0</td>\n",
       "      <td>1.0</td>\n",
       "      <td>0.0</td>\n",
       "      <td>0</td>\n",
       "    </tr>\n",
       "    <tr>\n",
       "      <th>3</th>\n",
       "      <td>3</td>\n",
       "      <td>здесь</td>\n",
       "      <td>Здесь много людей.</td>\n",
       "      <td>here</td>\n",
       "      <td>There are many people here.</td>\n",
       "      <td>1003</td>\n",
       "      <td>1.0</td>\n",
       "      <td>1.0</td>\n",
       "      <td>1.0</td>\n",
       "      <td>1.0</td>\n",
       "      <td>0.0</td>\n",
       "      <td>0</td>\n",
       "    </tr>\n",
       "    <tr>\n",
       "      <th>4</th>\n",
       "      <td>4</td>\n",
       "      <td>Кто ты?</td>\n",
       "      <td>Привет, кто ты?</td>\n",
       "      <td>Who are you?</td>\n",
       "      <td>Hello, who are you?</td>\n",
       "      <td>1004</td>\n",
       "      <td>1.0</td>\n",
       "      <td>1.0</td>\n",
       "      <td>1.0</td>\n",
       "      <td>1.0</td>\n",
       "      <td>0.0</td>\n",
       "      <td>0</td>\n",
       "    </tr>\n",
       "  </tbody>\n",
       "</table>\n",
       "</div>"
      ],
      "text/plain": [
       "   Unnamed: 0      wordFirstLang                 sentenceFirstLang  \\\n",
       "0           0            Привет!                 Привет, как дела?   \n",
       "1           1  Добро пожаловать!   Добро пожаловать в наш магазин!   \n",
       "2           2          Извините!  Извините, где находится станция?   \n",
       "3           3              здесь                Здесь много людей.   \n",
       "4           4            Кто ты?                   Привет, кто ты?   \n",
       "\n",
       "  wordSecondLang            sentenceSecondLang    id  eng_sent  word_use  \\\n",
       "0         Hello!           Hello, how are you?  1000       1.0       1.0   \n",
       "1       Welcome!         Welcome to our store!  1001       1.0       1.0   \n",
       "2         Sorry!  Sorry, where is the station?  1002       1.0       1.0   \n",
       "3           here   There are many people here.  1003       1.0       1.0   \n",
       "4   Who are you?           Hello, who are you?  1004       1.0       1.0   \n",
       "\n",
       "   word_trans  sent_trans_acc  trans_acc comments  \n",
       "0         1.0             1.0        0.0        0  \n",
       "1         1.0             1.0        0.0        0  \n",
       "2         1.0             1.0        0.0        0  \n",
       "3         1.0             1.0        0.0        0  \n",
       "4         1.0             1.0        0.0        0  "
      ]
     },
     "execution_count": 20,
     "metadata": {},
     "output_type": "execute_result"
    }
   ],
   "source": [
    "labeled_cards.fillna(0, inplace=True)\n",
    "labeled_cards.head(5)"
   ]
  },
  {
   "cell_type": "code",
   "execution_count": 21,
   "metadata": {},
   "outputs": [
    {
     "name": "stderr",
     "output_type": "stream",
     "text": [
      "C:\\Users\\Арман\\AppData\\Local\\Temp\\ipykernel_8880\\3451555255.py:1: SettingWithCopyWarning: \n",
      "A value is trying to be set on a copy of a slice from a DataFrame.\n",
      "Try using .loc[row_indexer,col_indexer] = value instead\n",
      "\n",
      "See the caveats in the documentation: https://pandas.pydata.org/pandas-docs/stable/user_guide/indexing.html#returning-a-view-versus-a-copy\n",
      "  labeled_cards['card_accuracy'] = labeled_cards['eng_sent'] * labeled_cards['word_use'] * labeled_cards['word_trans'] * labeled_cards['sent_trans_acc'] + labeled_cards['trans_acc']\n"
     ]
    }
   ],
   "source": [
    "labeled_cards['card_accuracy'] = labeled_cards['eng_sent'] * labeled_cards['word_use'] * labeled_cards['word_trans'] * labeled_cards['sent_trans_acc'] + labeled_cards['trans_acc']"
   ]
  },
  {
   "cell_type": "code",
   "execution_count": 22,
   "metadata": {},
   "outputs": [
    {
     "data": {
      "text/plain": [
       "0.9646153846153847"
      ]
     },
     "execution_count": 22,
     "metadata": {},
     "output_type": "execute_result"
    }
   ],
   "source": [
    "sum(labeled_cards['card_accuracy']) / len(labeled_cards['card_accuracy'])"
   ]
  },
  {
   "cell_type": "code",
   "execution_count": null,
   "metadata": {},
   "outputs": [],
   "source": []
  }
 ],
 "metadata": {
  "kernelspec": {
   "display_name": "Python 3",
   "language": "python",
   "name": "python3"
  },
  "language_info": {
   "codemirror_mode": {
    "name": "ipython",
    "version": 3
   },
   "file_extension": ".py",
   "mimetype": "text/x-python",
   "name": "python",
   "nbconvert_exporter": "python",
   "pygments_lexer": "ipython3",
   "version": "3.13.0"
  }
 },
 "nbformat": 4,
 "nbformat_minor": 2
}
