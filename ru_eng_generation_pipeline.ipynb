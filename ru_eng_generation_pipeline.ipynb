{
 "cells": [
  {
   "cell_type": "code",
   "execution_count": 1,
   "metadata": {},
   "outputs": [],
   "source": [
    "import openai\n",
    "from openai import AzureOpenAI, AsyncAzureOpenAI\n",
    "from tqdm.notebook import tqdm\n",
    "import os\n",
    "from dotenv import load_dotenv, find_dotenv\n",
    "import requests\n",
    "import base64\n",
    "\n",
    "GPT_3_5_TURBO = \"gpt-3.5-turbo\"\n",
    "GPT_4_TURBO_PREVIEW = \"gpt-4-turbo-preview\"\n",
    "GPT_4 = 'gpt-4'\n",
    "GPT_4o = 'gpt-4o'\n",
    "\n",
    "def get_openai_api_key():\n",
    "    _ = load_dotenv(find_dotenv())\n",
    "\n",
    "    return os.getenv(\"OPENAI_API_KEY\")\n",
    "\n",
    "OPENAI_API_KEY = get_openai_api_key()\n",
    "azure_endpoint=os.getenv(\"AZURE_OPENAI_ENDPOINT\")\n",
    "client = AzureOpenAI(\n",
    "    api_key=os.getenv(\"AZURE_OPENAI_API_KEY\"),  \n",
    "    api_version=\"2024-07-01-preview\",\n",
    "    azure_endpoint=os.getenv(\"AZURE_OPENAI_ENDPOINT\")\n",
    ")"
   ]
  },
  {
   "cell_type": "code",
   "execution_count": 2,
   "metadata": {},
   "outputs": [],
   "source": [
    "import json\n",
    "\n",
    "\n",
    "EVAL_FOLDER = '../../data/russian-english/cards/eval_results/ru_eng_'\n",
    "def get_eval_results_from_file(file_name):\n",
    "    data = []\n",
    "    file_path = EVAL_FOLDER + file_name\n",
    "    with open(file_path, 'r', encoding='utf-8') as file:\n",
    "        data = json.load(file)\n",
    "    return data\n",
    "\n",
    "\n",
    "RU_ENG_OUTPUT_FOLDER = '../../data/russian-english/cards/test_cards/ru_eng_'\n",
    "def get_ru_eng_cards_from_file(file_name):\n",
    "    data = []\n",
    "    file_path = OUTPUT_FOLDER + file_name\n",
    "    with open(file_path, 'r', encoding='utf-8') as file:\n",
    "        data = json.load(file)\n",
    "    return data\n",
    "\n",
    "\n",
    "RU_FINN_FOLDER_WITH_JSON = '../../data/russian-finnish/cards/curated_platform_cards/'\n",
    "def get_ru_finn_cards_from_file(file_name):\n",
    "    data = []\n",
    "    file_path = RU_FINN_FOLDER_WITH_JSON + file_name\n",
    "    with open(file_path, 'r', encoding='utf-8') as file:\n",
    "        data = json.load(file)\n",
    "    res = []\n",
    "    for card in data:\n",
    "        if 'isMarkedDeleted' not in card.keys():\n",
    "            res.append(card)\n",
    "    return res\n",
    "\n",
    "\n",
    "OUTPUT_FOLDER = '../../data/russian-english/cards/test_cards/ru_eng_'\n",
    "def write_cards_to_file(file_name, cards):\n",
    "    file_path = OUTPUT_FOLDER + file_name\n",
    "    with open(file_path, 'w', encoding='utf-8') as f:\n",
    "        json.dump(cards, f, ensure_ascii=False, indent=2)\n",
    "        \n",
    "        \n",
    "EVAL_FOLDER = '../../data/russian-english/cards/eval_results/ru_eng_'\n",
    "def write_eval_results_to_file(file_name, results):\n",
    "    file_path = EVAL_FOLDER + file_name\n",
    "    with open(file_path, 'w', encoding='utf-8') as f:\n",
    "        json.dump(results, f, ensure_ascii=False, indent=2)"
   ]
  },
  {
   "cell_type": "code",
   "execution_count": 3,
   "metadata": {},
   "outputs": [],
   "source": [
    "def generate_ru_eng_phrase_card(ru_finn_card, model=GPT_4o):\n",
    "    ru_word, ru_sentence, finn_word, finn_sentence, card_id = ru_finn_card.values()\n",
    "\n",
    "    system_prompt = '''You are a multilingual assistant who is proficient in Russian, Finnish and English.'''\n",
    "\n",
    "    user_prompt = f\"\"\"\n",
    "    Translate the given Russian word or phrase: '{ru_word}' into clear and natural English, reflecting its meaning and context as the primary focus. Use the Finnish equivalent: '{finn_word}' as a supportive reference to help clarify or refine the exact context if needed. The goal is to create an English translation that is accurate, fluent, and authentic to native speakers, avoiding overly complex or literal phrasing.\n",
    "\n",
    "    Please provide the English translation of the word or phrase and nothing else.\n",
    "    \"\"\"\n",
    "\n",
    "    response = client.chat.completions.create(\n",
    "        model=model,\n",
    "        messages=[\n",
    "        {\"role\": \"system\", \"content\": system_prompt.strip()},\n",
    "        {\"role\": \"user\", \"content\": user_prompt.strip()}\n",
    "        ]\n",
    "    )\n",
    "\n",
    "    tr_word = response.choices[0].message.content.strip()\n",
    "\n",
    "    card = {}\n",
    "    card[\"wordFirstLang\"] = ru_word\n",
    "    card[\"sentenceFirstLang\"] = \"\"\n",
    "    card[\"wordSecondLang\"] = tr_word\n",
    "    card[\"sentenceSecondLang\"] = \"\"\n",
    "    card[\"id\"] = card_id\n",
    "\n",
    "    return card"
   ]
  },
  {
   "cell_type": "code",
   "execution_count": 4,
   "metadata": {},
   "outputs": [],
   "source": [
    "def generate_ru_eng_full_card(ru_finn_card, model=GPT_4o):\n",
    "    ru_word, ru_sentence, finn_word, finn_sentence, card_id = ru_finn_card.values()\n",
    "\n",
    "    system_prompt = '''You are a multilingual assistant who is proficient in Russian, Finnish and English.'''\n",
    "\n",
    "    user_prompt = f\"\"\"\n",
    "    Translate the given Russian word or phrase along with its Finnish translation into English, and then translate the provided Russian sentence, incorporating the English translation of the word or phrase. Use synonyms or related terms where necessary to convey the intended meaning and maintain naturalness in English.\n",
    "\n",
    "    Given word or phrase (Russian): '{ru_word}'\n",
    "    Given word or phrase (Finnish): '{finn_word}'\n",
    "\n",
    "    Given sentence (Russian): '{ru_sentence}'\n",
    "    Given sentence (Finnish): '{finn_sentence}'\n",
    "\n",
    "    ### Response structure:\n",
    "\n",
    "    Respond in JSON format with the following structure:\n",
    "    {{\n",
    "        \"englishWord\": \"Translated word in Englsih\",\n",
    "        \"englishSentence\": \"Translated sentence in English\"\n",
    "    }}\n",
    "    \"\"\"\n",
    "\n",
    "    response = client.chat.completions.create(\n",
    "        model=model,\n",
    "        response_format={ \"type\": \"json_object\" },\n",
    "        messages=[\n",
    "        {\"role\": \"system\", \"content\": system_prompt.strip()},\n",
    "        {\"role\": \"user\", \"content\": user_prompt.strip()}\n",
    "        ]\n",
    "    )\n",
    "    \n",
    "    response_dict = json.loads(response.choices[0].message.content.strip())\n",
    "    tr_word = response_dict['englishWord']\n",
    "    tr_sentence = response_dict['englishSentence']\n",
    "\n",
    "    card = {}\n",
    "    card[\"wordFirstLang\"] = ru_word\n",
    "    card[\"sentenceFirstLang\"] = ru_sentence\n",
    "    card[\"wordSecondLang\"] = tr_word.strip()\n",
    "    card[\"sentenceSecondLang\"] = tr_sentence.strip()\n",
    "    card[\"id\"] = card_id\n",
    "\n",
    "    return card"
   ]
  },
  {
   "cell_type": "code",
   "execution_count": 5,
   "metadata": {},
   "outputs": [],
   "source": [
    "def eval_phrase_card(ru_finn_card, ru_eng_card, model=GPT_4o):\n",
    "    ru_word, ru_sentence, finn_word, finn_sentence, card_id = ru_finn_card.values()\n",
    "    _, _, tr_word, tr_sentence, tr_id = ru_eng_card.values()\n",
    "\n",
    "    assert(card_id == tr_id)\n",
    "\n",
    "    system_prompt = '''You are a multilingual assistant who is proficient in Russian, Finnish and English.'''\n",
    "\n",
    "    user_prompt = f\"\"\"\n",
    "    As an AI model, your task is to evaluate the correctness and naturalness of English translations for given Russian and Finnish words or phrases. Check if the English translation accurately conveys the meaning and context of the Russian and Finnish versions, and whether it sounds natural to a native speaker. Your evaluation does not need to suggest the best possible translation, only confirm that it is good enough and identify any issues if present.\n",
    "\n",
    "    When suggesting corrections, provide only the final corrected English translation. If no correction is needed, set `suggestedFix` to `null`.\n",
    "\n",
    "    Here are the words or phrases:  \n",
    "    - Word or Phrase in Russian: {ru_word}  \n",
    "    - Word or Phrase in Finnish: {finn_word}  \n",
    "    - Word or Phrase in English: {tr_word}  \n",
    "\n",
    "    Respond in JSON format using the following structure:  \n",
    "    {{\n",
    "      \"translationAccuracy\": {{\n",
    "        \"isCorrect\": true/false,\n",
    "        \"explanation\": \"Detailed explanation if there is an issue or why it's correct\",\n",
    "        \"suggestedFix\": \"Suggested correction if there is an issue or null if no correction is needed\"\n",
    "      }}\n",
    "    }}\n",
    "    \"\"\"\n",
    "\n",
    "    response = client.chat.completions.create(\n",
    "      model=model,\n",
    "      response_format={ \"type\": \"json_object\" },\n",
    "      messages=[\n",
    "        {\"role\": \"system\", \"content\": system_prompt.strip()},\n",
    "        {\"role\": \"user\", \"content\": user_prompt.strip()}\n",
    "      ]\n",
    "    )\n",
    "\n",
    "    res = json.loads(response.choices[0].message.content.strip())\n",
    "    res['id'] = card_id\n",
    "\n",
    "    return res"
   ]
  },
  {
   "cell_type": "code",
   "execution_count": 6,
   "metadata": {},
   "outputs": [],
   "source": [
    "def eval_full_card(ru_finn_card, ru_eng_card, model=GPT_4o):\n",
    "    ru_word, ru_sentence, finn_word, finn_sentence, card_id = ru_finn_card.values()\n",
    "    _, _, tr_word, tr_sentence, tr_id = ru_eng_card.values()\n",
    "\n",
    "    assert(card_id == tr_id)\n",
    "\n",
    "    system_prompt = '''You are a multilingual assistant who is proficient in Russian, Finnish and English.'''\n",
    "\n",
    "    user_prompt = f\"\"\"\n",
    "    Evaluate the correctness of an English word and sentence based on their translations from Russian and Finnish. You will receive a word in Russian, Finnish, and its translation in English, as well as a sentence in Russian, Finnish, and its translation in English. Your task is to assess the quality of the English sentence, the usage of the English word in the sentence, and the accuracy of the translations from Russian and Finnish to English. For each evaluation point, provide a detailed explanation of your judgment and suggest fixes where applicable, either to the English word, the English sentence, or both.\n",
    "\n",
    "    Please ensure that the English sentence is grammatically correct and natural. Suggest a corrected version if necessary. Verify that the English sentence contains the English word in some form and suggest using synonyms or related terms if the word is missing. Prioritize naturalness and correctness. Ensure that the translations of both the word and sentence from Russian and Finnish to English are accurate and provide corrections if necessary.\n",
    "\n",
    "    Respond in JSON format with the following structure:\n",
    "    {{\n",
    "        \"englishSentenceCorrectness\": {{\n",
    "        \"isCorrect\": true/false,\n",
    "        \"explanation\": \"Detailed explanation if there is an issue or why it's correct.\",\n",
    "        \"suggestedFix\": \"Suggested corrected sentence if there is an issue, or null if not applicable.\"\n",
    "        }},\n",
    "        \"wordUsage\": {{\n",
    "        \"isCorrect\": true/false,\n",
    "        \"explanation\": \"Detailed explanation if there is an issue or why it's correct.\",\n",
    "        \"suggestedFixSentence\": \"Suggested corrected sentence if the word usage is incorrect, or null if not applicable.\",\n",
    "        \"suggestedFixWord\": \"Suggested corrected word if the word usage is incorrect, or null if not applicable.\"\n",
    "        }},\n",
    "        \"wordTranslationAccuracy\": {{\n",
    "        \"isCorrect\": true/false,\n",
    "        \"explanation\": \"Detailed explanation if there is an issue or why it's correct.\",\n",
    "        \"suggestedFix\": \"Suggested correction for translation issues, or null if not applicable.\"\n",
    "        }},\n",
    "        \"sentenceTranslationAccuracy\": {{\n",
    "        \"isCorrect\": true/false,\n",
    "        \"explanation\": \"Detailed explanation if there is an issue or why it's correct.\",\n",
    "        \"suggestedFix\": \"Suggested correction for translation issues, or null if not applicable.\"\n",
    "        }}\n",
    "    }}\n",
    "\n",
    "    Here are the provided word and sentence in Russian, Finnish, and English:\n",
    "\n",
    "    - Word in Russian: {ru_word}\n",
    "    - Word in Finnish: {finn_word}\n",
    "    - Word in English: {tr_word}\n",
    "    - Sentence in Russian: {ru_sentence}\n",
    "    - Sentence in Finnish: {finn_sentence}\n",
    "    - Sentence in English: {tr_sentence}\n",
    "\n",
    "    Please adhere to this structure to ensure clear, actionable feedback for each evaluation point.\n",
    "    \"\"\"\n",
    "\n",
    "    response = client.chat.completions.create(\n",
    "      model=model,\n",
    "      response_format={ \"type\": \"json_object\" },\n",
    "      messages=[\n",
    "        {\"role\": \"system\", \"content\": system_prompt.strip()},\n",
    "        {\"role\": \"user\", \"content\": user_prompt.strip()}\n",
    "      ]\n",
    "    )\n",
    "\n",
    "    res = json.loads(response.choices[0].message.content.strip())\n",
    "    res['id'] = card_id\n",
    "\n",
    "    return res"
   ]
  },
  {
   "cell_type": "code",
   "execution_count": 7,
   "metadata": {},
   "outputs": [],
   "source": [
    "def improve_ru_eng_phrase_card(ru_finn_card, ru_eng_card, eval_result, model=GPT_4o):\n",
    "    ru_word, _, finn_word, _, card_id = ru_finn_card.values()\n",
    "    _, _, eng_word, _, tr_id = ru_eng_card.values()\n",
    "    _, explanation, suggested_fix = eval_result['translationAccuracy'].values()\n",
    "\n",
    "    assert(card_id == tr_id)\n",
    "\n",
    "    system_prompt = '''You are a multilingual assistant who is proficient in Russian, Finnish and English.'''\n",
    "\n",
    "    user_prompt = f\"\"\"\n",
    "    Translate the given Russian word or phrase: '{ru_word}' into clear and natural English, prioritizing its meaning and how it would sound most authentic and fluent to native speakers. Use the Finnish equivalent: '{finn_word}' as a supportive reference if it helps refine the context or meaning. While accuracy is important, favor translations that fit naturally into everyday English, even if they are not the most direct equivalents.\n",
    "\n",
    "    Consider the following:\n",
    "    Existing English translation: '{eng_word}'\n",
    "    Issues identified: '{explanation}'\n",
    "    Suggested improvement: '{suggested_fix}'\n",
    "    Instructions:\n",
    "    Based on the information provided, craft an English translation that balances accuracy, naturalness, and context. You may adapt the word or phrase slightly to ensure it resonates well with native speakers and fits its intended use.\n",
    "\n",
    "    Respond with only the final English translation without any additional explanations.\n",
    "    \"\"\"\n",
    "\n",
    "    response = client.chat.completions.create(\n",
    "        model=model,\n",
    "        messages=[\n",
    "        {\"role\": \"system\", \"content\": system_prompt.strip()},\n",
    "        {\"role\": \"user\", \"content\": user_prompt.strip()}\n",
    "        ]\n",
    "    )\n",
    "    \n",
    "    tr_word = response.choices[0].message.content.strip()\n",
    "\n",
    "    card = {}\n",
    "    card[\"wordFirstLang\"] = ru_word\n",
    "    card[\"sentenceFirstLang\"] = \"\"\n",
    "    card[\"wordSecondLang\"] = tr_word\n",
    "    card[\"sentenceSecondLang\"] = \"\"\n",
    "    card[\"id\"] = card_id\n",
    "\n",
    "    return card"
   ]
  },
  {
   "cell_type": "code",
   "execution_count": 8,
   "metadata": {},
   "outputs": [],
   "source": [
    "def improve_ru_eng_full_card(ru_finn_card, ru_eng_card, eval_result, model=GPT_4o):\n",
    "    ru_word, ru_sentence, finn_word, finn_sentence, card_id = ru_finn_card.values()\n",
    "    _, _, eng_word, eng_sentence, tr_id = ru_eng_card.values()\n",
    "\n",
    "    assert(card_id == tr_id)\n",
    "\n",
    "    system_prompt = '''You are a multilingual assistant who is proficient in Russian, Finnish and English.'''\n",
    "\n",
    "    user_prompt = f\"\"\"\n",
    "    Translate the given Russian word or phrase into English and use it within the provided Russian sentence to create a natural and accurate English translation. Use the Finnish word or sentence as additional context if needed. Focus on accurately conveying the meaning of the Russian source while incorporating all feedback and suggestions from the evaluation results.\n",
    "\n",
    "    When choosing the English word or phrase, prioritize naturalness and fluency in the sentence over strict accuracy. While the translation should reflect the original meaning, it is acceptable to use a word or phrase that is not the most direct translation but still conveys the intended sense in a way that sounds natural and idiomatic in English.\n",
    "\n",
    "    ### Details to guide your translation:\n",
    "\n",
    "    Russian word or phrase: '{ru_word}'\n",
    "    Finnish word or phrase: '{finn_word}'\n",
    "    Russian sentence: '{ru_sentence}'\n",
    "    Finnish sentence: '{finn_sentence}'\n",
    "    Existing English translation of the word or phrase: '{eng_word}'\n",
    "    Existing English translation of the sentence: '{eng_sentence}'\n",
    "\n",
    "    ### Evaluation Results Summary:\n",
    "\n",
    "    **English Sentence Evaluation**:\n",
    "\n",
    "    Correctness: {eval_result['englishSentenceCorrectness']['isCorrect']}\n",
    "    Explanation: {eval_result['englishSentenceCorrectness']['explanation']}\n",
    "    Suggested Fix (if applicable): {eval_result['englishSentenceCorrectness']['suggestedFix']}\n",
    "\n",
    "    **Word Usage Evaluation**:\n",
    "\n",
    "    Correctness: {eval_result['wordUsage']['isCorrect']}\n",
    "    Explanation: {eval_result['wordUsage']['explanation']}\n",
    "    Suggested Fix for Word (if applicable): {eval_result['wordUsage']['suggestedFixWord']}\n",
    "    Suggested Fix for Sentence (if applicable): {eval_result['wordUsage']['suggestedFixSentence']}\n",
    "\n",
    "    **Word Translation Accuracy Evaluation**:\n",
    "\n",
    "    Correctness: {eval_result['wordTranslationAccuracy']['isCorrect']}\n",
    "    Explanation: {eval_result['wordTranslationAccuracy']['explanation']}\n",
    "    Suggested Fix (if applicable): {eval_result['wordTranslationAccuracy']['suggestedFix']}\n",
    "\n",
    "    **Sentence Translation Accuracy Evaluation**:\n",
    "\n",
    "    Correctness: {eval_result['sentenceTranslationAccuracy']['isCorrect']}\n",
    "    Explanation: {eval_result['sentenceTranslationAccuracy']['explanation']}\n",
    "    Suggested Fix (if applicable): {eval_result['sentenceTranslationAccuracy']['suggestedFix']}\n",
    "\n",
    "    ### Instructions:\n",
    "    Review the Evaluation Feedback:\n",
    "\n",
    "    Carefully consider all provided explanations and suggested fixes for the word or phrase, sentence, and overall translation accuracy.\n",
    "    Translate the Word or Phrase:\n",
    "\n",
    "    Choose a translation that balances accuracy with naturalness. It is acceptable to use a word that deviates slightly from the most direct translation if it results in a more fluent and idiomatic sentence.\n",
    "    If the word usage is marked incorrect, incorporate the suggested fix or refine it further for better contextual alignment.\n",
    "    Translate the Russian Sentence:\n",
    "\n",
    "    Integrate the translated word or phrase naturally into the sentence.\n",
    "    If the sentence translation is marked incorrect, incorporate the suggested fixes and adjust for fluency and clarity.\n",
    "    Address Translation Accuracy Issues:\n",
    "\n",
    "    If any translation inaccuracies are identified, apply the suggested fixes or clarify the meaning while ensuring the translation sounds natural and idiomatic.\n",
    "    Leverage Context:\n",
    "\n",
    "    Use the Finnish word or sentence as additional guidance where necessary.\n",
    "    Produce a Polished Result:\n",
    "\n",
    "    Ensure the final translation conveys the intended meaning, aligns naturally with the sentence, and incorporates feedback from the evaluation results.\n",
    "\n",
    "    ### Response structure:\n",
    "\n",
    "    Respond in JSON format with the following structure:\n",
    "    {{\n",
    "        \"englishWord\": \"Translated word in Englsih\",\n",
    "        \"englishSentence\": \"Translated sentence in English\"\n",
    "    }}\n",
    "    \"\"\"\n",
    "\n",
    "    response = client.chat.completions.create(\n",
    "        model=model,\n",
    "        response_format={ \"type\": \"json_object\" },\n",
    "        messages=[\n",
    "        {\"role\": \"system\", \"content\": system_prompt.strip()},\n",
    "        {\"role\": \"user\", \"content\": user_prompt.strip()}\n",
    "        ]\n",
    "    )\n",
    "    \n",
    "    response_dict = json.loads(response.choices[0].message.content.strip())\n",
    "    tr_word = response_dict['englishWord']\n",
    "    tr_sentence = response_dict['englishSentence']\n",
    "\n",
    "    card = {}\n",
    "    card[\"wordFirstLang\"] = ru_word\n",
    "    card[\"sentenceFirstLang\"] = ru_sentence\n",
    "    card[\"wordSecondLang\"] = tr_word.strip()\n",
    "    card[\"sentenceSecondLang\"] = tr_sentence.strip()\n",
    "    card[\"id\"] = card_id\n",
    "\n",
    "    return card"
   ]
  },
  {
   "cell_type": "code",
   "execution_count": 9,
   "metadata": {},
   "outputs": [],
   "source": [
    "def is_phrase_card(card):\n",
    "    return card['sentenceFirstLang'] == ''"
   ]
  },
  {
   "cell_type": "code",
   "execution_count": 10,
   "metadata": {},
   "outputs": [],
   "source": [
    "def check_eval(eval_result, is_phrase_card):\n",
    "    if is_phrase_card:\n",
    "        return eval_result['translationAccuracy']['isCorrect']\n",
    "    \n",
    "    w_tr_accuracy = eval_result['wordTranslationAccuracy']['isCorrect']\n",
    "    s_tr_accuracy = eval_result['sentenceTranslationAccuracy']['isCorrect']\n",
    "    s_accuracy = eval_result['englishSentenceCorrectness']['isCorrect']\n",
    "    w_accuracy = eval_result['wordUsage']['isCorrect']\n",
    "    \n",
    "    return all([w_tr_accuracy, s_tr_accuracy, s_accuracy, w_accuracy])"
   ]
  },
  {
   "cell_type": "code",
   "execution_count": 11,
   "metadata": {},
   "outputs": [],
   "source": [
    "def card_handler(ru_finn_card, num_iter=5):\n",
    "    is_phrase_card = (ru_finn_card['sentenceFirstLang'] == '')\n",
    "\n",
    "    ru_eng_card = {}\n",
    "\n",
    "    if is_phrase_card:\n",
    "        ru_eng_card = generate_ru_eng_phrase_card(ru_finn_card)\n",
    "    else:\n",
    "        ru_eng_card = generate_ru_eng_full_card(ru_finn_card)\n",
    "\n",
    "    eval_result = {}\n",
    "\n",
    "    if is_phrase_card:\n",
    "        eval_result = eval_phrase_card(ru_finn_card, ru_eng_card)\n",
    "    else:\n",
    "        eval_result = eval_full_card(ru_finn_card, ru_eng_card)\n",
    "\n",
    "    for _ in range(num_iter):\n",
    "        if check_eval(eval_result, is_phrase_card):\n",
    "            break\n",
    "        \n",
    "        if is_phrase_card:\n",
    "            ru_eng_card = improve_ru_eng_phrase_card(ru_finn_card, ru_eng_card, eval_result)\n",
    "        else:\n",
    "            ru_eng_card = improve_ru_eng_full_card(ru_finn_card, ru_eng_card, eval_result)\n",
    "\n",
    "        if is_phrase_card:\n",
    "            eval_result = eval_phrase_card(ru_finn_card, ru_eng_card)\n",
    "        else:\n",
    "            eval_result = eval_full_card(ru_finn_card, ru_eng_card)\n",
    "    \n",
    "    return ru_eng_card, eval_result"
   ]
  },
  {
   "cell_type": "code",
   "execution_count": 12,
   "metadata": {},
   "outputs": [],
   "source": [
    "def generate_ru_eng_cards_from_file(file_name):\n",
    "    ru_finn_cards = get_ru_finn_cards_from_file(file_name)\n",
    "\n",
    "    ru_eng_cards = []\n",
    "    eval_results = []\n",
    "\n",
    "    for ru_finn in tqdm(ru_finn_cards):\n",
    "        while True:\n",
    "            try:\n",
    "                ru_eng, eval_res = card_handler(ru_finn)\n",
    "\n",
    "                ru_eng_cards.append(ru_eng)\n",
    "                eval_results.append(eval_res)\n",
    "\n",
    "                break\n",
    "            except Exception:\n",
    "                pass\n",
    "\n",
    "    write_cards_to_file(file_name, ru_eng_cards)\n",
    "    write_eval_results_to_file(file_name, eval_results)"
   ]
  },
  {
   "cell_type": "code",
   "execution_count": 13,
   "metadata": {},
   "outputs": [],
   "source": [
    "file_names = [f'sm1_new_kap{i}.json' for i in range(1, 10)]"
   ]
  },
  {
   "cell_type": "code",
   "execution_count": 33,
   "metadata": {},
   "outputs": [
    {
     "data": {
      "text/plain": [
       "'sm1_new_kap1.json'"
      ]
     },
     "execution_count": 33,
     "metadata": {},
     "output_type": "execute_result"
    }
   ],
   "source": [
    "first_file = file_names[0]\n",
    "first_file"
   ]
  },
  {
   "cell_type": "code",
   "execution_count": 34,
   "metadata": {},
   "outputs": [
    {
     "data": {
      "application/vnd.jupyter.widget-view+json": {
       "model_id": "318ca4e1f36a4a51841ead5547fbb66e",
       "version_major": 2,
       "version_minor": 0
      },
      "text/plain": [
       "  0%|          | 0/151 [00:00<?, ?it/s]"
      ]
     },
     "metadata": {},
     "output_type": "display_data"
    }
   ],
   "source": [
    "generate_ru_eng_cards_from_file(first_file)"
   ]
  },
  {
   "cell_type": "code",
   "execution_count": 15,
   "metadata": {},
   "outputs": [],
   "source": [
    "def check_file_accuracy(file_name):\n",
    "    ru_eng_cards = get_ru_eng_cards_from_file(file_name)\n",
    "    eval_results = get_eval_results_from_file(file_name)\n",
    "\n",
    "    assert(len(ru_eng_cards) == len(eval_results))\n",
    "\n",
    "    results = []\n",
    "    for ru_eng, eval_res in list(zip(ru_eng_cards, eval_results)):\n",
    "        is_phrase_card = (ru_eng['sentenceFirstLang'] == '')\n",
    "        results.append(check_eval(eval_res, is_phrase_card))\n",
    "    \n",
    "    return sum(results) / len(results)"
   ]
  },
  {
   "cell_type": "code",
   "execution_count": 17,
   "metadata": {},
   "outputs": [
    {
     "data": {
      "text/plain": [
       "0.9923076923076923"
      ]
     },
     "execution_count": 17,
     "metadata": {},
     "output_type": "execute_result"
    }
   ],
   "source": [
    "check_file_accuracy(file_names[7])"
   ]
  },
  {
   "cell_type": "code",
   "execution_count": 64,
   "metadata": {},
   "outputs": [
    {
     "data": {
      "application/vnd.jupyter.widget-view+json": {
       "model_id": "10e16d13c5244d1d9aac9508a4644165",
       "version_major": 2,
       "version_minor": 0
      },
      "text/plain": [
       "  0%|          | 0/9 [00:00<?, ?it/s]"
      ]
     },
     "metadata": {},
     "output_type": "display_data"
    },
    {
     "data": {
      "application/vnd.jupyter.widget-view+json": {
       "model_id": "f5e2b1bb2dfa4aeabc0920f41073c70b",
       "version_major": 2,
       "version_minor": 0
      },
      "text/plain": [
       "  0%|          | 0/151 [00:00<?, ?it/s]"
      ]
     },
     "metadata": {},
     "output_type": "display_data"
    },
    {
     "name": "stdout",
     "output_type": "stream",
     "text": [
      "1.0\n"
     ]
    },
    {
     "data": {
      "application/vnd.jupyter.widget-view+json": {
       "model_id": "fb7491c396374542a3f78f1898a3cd07",
       "version_major": 2,
       "version_minor": 0
      },
      "text/plain": [
       "  0%|          | 0/192 [00:00<?, ?it/s]"
      ]
     },
     "metadata": {},
     "output_type": "display_data"
    },
    {
     "name": "stdout",
     "output_type": "stream",
     "text": [
      "0.9947916666666666\n"
     ]
    },
    {
     "data": {
      "application/vnd.jupyter.widget-view+json": {
       "model_id": "826305a2f4aa4f449784fc36f173a8c4",
       "version_major": 2,
       "version_minor": 0
      },
      "text/plain": [
       "  0%|          | 0/238 [00:00<?, ?it/s]"
      ]
     },
     "metadata": {},
     "output_type": "display_data"
    },
    {
     "name": "stdout",
     "output_type": "stream",
     "text": [
      "0.9705882352941176\n"
     ]
    },
    {
     "data": {
      "application/vnd.jupyter.widget-view+json": {
       "model_id": "b3f37594841e4dc4b4d7a34af3c10172",
       "version_major": 2,
       "version_minor": 0
      },
      "text/plain": [
       "  0%|          | 0/267 [00:00<?, ?it/s]"
      ]
     },
     "metadata": {},
     "output_type": "display_data"
    },
    {
     "name": "stdout",
     "output_type": "stream",
     "text": [
      "0.9850187265917603\n"
     ]
    },
    {
     "data": {
      "application/vnd.jupyter.widget-view+json": {
       "model_id": "0406e6dba5cb4b229fcfafc7acd1184c",
       "version_major": 2,
       "version_minor": 0
      },
      "text/plain": [
       "  0%|          | 0/153 [00:00<?, ?it/s]"
      ]
     },
     "metadata": {},
     "output_type": "display_data"
    },
    {
     "name": "stdout",
     "output_type": "stream",
     "text": [
      "0.9934640522875817\n"
     ]
    },
    {
     "data": {
      "application/vnd.jupyter.widget-view+json": {
       "model_id": "3666911caf2f44ba8552897b8110b841",
       "version_major": 2,
       "version_minor": 0
      },
      "text/plain": [
       "  0%|          | 0/239 [00:00<?, ?it/s]"
      ]
     },
     "metadata": {},
     "output_type": "display_data"
    },
    {
     "name": "stdout",
     "output_type": "stream",
     "text": [
      "0.9916317991631799\n"
     ]
    },
    {
     "data": {
      "application/vnd.jupyter.widget-view+json": {
       "model_id": "2cbcf83c704749489a04aad5cc0c5e82",
       "version_major": 2,
       "version_minor": 0
      },
      "text/plain": [
       "  0%|          | 0/184 [00:00<?, ?it/s]"
      ]
     },
     "metadata": {},
     "output_type": "display_data"
    },
    {
     "name": "stdout",
     "output_type": "stream",
     "text": [
      "0.9782608695652174\n"
     ]
    },
    {
     "data": {
      "application/vnd.jupyter.widget-view+json": {
       "model_id": "fe2e16f47d69474784bd428afdaad60a",
       "version_major": 2,
       "version_minor": 0
      },
      "text/plain": [
       "  0%|          | 0/260 [00:00<?, ?it/s]"
      ]
     },
     "metadata": {},
     "output_type": "display_data"
    },
    {
     "name": "stdout",
     "output_type": "stream",
     "text": [
      "0.9807692307692307\n"
     ]
    },
    {
     "data": {
      "application/vnd.jupyter.widget-view+json": {
       "model_id": "e187df6e70f94d46aec4907c9cdd1861",
       "version_major": 2,
       "version_minor": 0
      },
      "text/plain": [
       "  0%|          | 0/226 [00:00<?, ?it/s]"
      ]
     },
     "metadata": {},
     "output_type": "display_data"
    },
    {
     "ename": "KeyboardInterrupt",
     "evalue": "",
     "output_type": "error",
     "traceback": [
      "\u001b[1;31m---------------------------------------------------------------------------\u001b[0m",
      "\u001b[1;31mConnectError\u001b[0m                              Traceback (most recent call last)",
      "File \u001b[1;32mc:\\Users\\Арман\\AppData\\Local\\Programs\\Python\\Python313\\Lib\\site-packages\\httpx\\_transports\\default.py:101\u001b[0m, in \u001b[0;36mmap_httpcore_exceptions\u001b[1;34m()\u001b[0m\n\u001b[0;32m    100\u001b[0m \u001b[38;5;28;01mtry\u001b[39;00m:\n\u001b[1;32m--> 101\u001b[0m     \u001b[38;5;28;01myield\u001b[39;00m\n\u001b[0;32m    102\u001b[0m \u001b[38;5;28;01mexcept\u001b[39;00m \u001b[38;5;167;01mException\u001b[39;00m \u001b[38;5;28;01mas\u001b[39;00m exc:\n",
      "File \u001b[1;32mc:\\Users\\Арман\\AppData\\Local\\Programs\\Python\\Python313\\Lib\\site-packages\\httpx\\_transports\\default.py:250\u001b[0m, in \u001b[0;36mHTTPTransport.handle_request\u001b[1;34m(self, request)\u001b[0m\n\u001b[0;32m    249\u001b[0m \u001b[38;5;28;01mwith\u001b[39;00m map_httpcore_exceptions():\n\u001b[1;32m--> 250\u001b[0m     resp \u001b[38;5;241m=\u001b[39m \u001b[38;5;28;43mself\u001b[39;49m\u001b[38;5;241;43m.\u001b[39;49m\u001b[43m_pool\u001b[49m\u001b[38;5;241;43m.\u001b[39;49m\u001b[43mhandle_request\u001b[49m\u001b[43m(\u001b[49m\u001b[43mreq\u001b[49m\u001b[43m)\u001b[49m\n\u001b[0;32m    252\u001b[0m \u001b[38;5;28;01massert\u001b[39;00m \u001b[38;5;28misinstance\u001b[39m(resp\u001b[38;5;241m.\u001b[39mstream, typing\u001b[38;5;241m.\u001b[39mIterable)\n",
      "File \u001b[1;32mc:\\Users\\Арман\\AppData\\Local\\Programs\\Python\\Python313\\Lib\\site-packages\\httpcore\\_sync\\connection_pool.py:256\u001b[0m, in \u001b[0;36mConnectionPool.handle_request\u001b[1;34m(self, request)\u001b[0m\n\u001b[0;32m    255\u001b[0m     \u001b[38;5;28mself\u001b[39m\u001b[38;5;241m.\u001b[39m_close_connections(closing)\n\u001b[1;32m--> 256\u001b[0m     \u001b[38;5;28;01mraise\u001b[39;00m exc \u001b[38;5;28;01mfrom\u001b[39;00m \u001b[38;5;28;01mNone\u001b[39;00m\n\u001b[0;32m    258\u001b[0m \u001b[38;5;66;03m# Return the response. Note that in this case we still have to manage\u001b[39;00m\n\u001b[0;32m    259\u001b[0m \u001b[38;5;66;03m# the point at which the response is closed.\u001b[39;00m\n",
      "File \u001b[1;32mc:\\Users\\Арман\\AppData\\Local\\Programs\\Python\\Python313\\Lib\\site-packages\\httpcore\\_sync\\connection_pool.py:236\u001b[0m, in \u001b[0;36mConnectionPool.handle_request\u001b[1;34m(self, request)\u001b[0m\n\u001b[0;32m    234\u001b[0m \u001b[38;5;28;01mtry\u001b[39;00m:\n\u001b[0;32m    235\u001b[0m     \u001b[38;5;66;03m# Send the request on the assigned connection.\u001b[39;00m\n\u001b[1;32m--> 236\u001b[0m     response \u001b[38;5;241m=\u001b[39m \u001b[43mconnection\u001b[49m\u001b[38;5;241;43m.\u001b[39;49m\u001b[43mhandle_request\u001b[49m\u001b[43m(\u001b[49m\n\u001b[0;32m    237\u001b[0m \u001b[43m        \u001b[49m\u001b[43mpool_request\u001b[49m\u001b[38;5;241;43m.\u001b[39;49m\u001b[43mrequest\u001b[49m\n\u001b[0;32m    238\u001b[0m \u001b[43m    \u001b[49m\u001b[43m)\u001b[49m\n\u001b[0;32m    239\u001b[0m \u001b[38;5;28;01mexcept\u001b[39;00m ConnectionNotAvailable:\n\u001b[0;32m    240\u001b[0m     \u001b[38;5;66;03m# In some cases a connection may initially be available to\u001b[39;00m\n\u001b[0;32m    241\u001b[0m     \u001b[38;5;66;03m# handle a request, but then become unavailable.\u001b[39;00m\n\u001b[0;32m    242\u001b[0m     \u001b[38;5;66;03m#\u001b[39;00m\n\u001b[0;32m    243\u001b[0m     \u001b[38;5;66;03m# In this case we clear the connection and try again.\u001b[39;00m\n",
      "File \u001b[1;32mc:\\Users\\Арман\\AppData\\Local\\Programs\\Python\\Python313\\Lib\\site-packages\\httpcore\\_sync\\connection.py:101\u001b[0m, in \u001b[0;36mHTTPConnection.handle_request\u001b[1;34m(self, request)\u001b[0m\n\u001b[0;32m    100\u001b[0m     \u001b[38;5;28mself\u001b[39m\u001b[38;5;241m.\u001b[39m_connect_failed \u001b[38;5;241m=\u001b[39m \u001b[38;5;28;01mTrue\u001b[39;00m\n\u001b[1;32m--> 101\u001b[0m     \u001b[38;5;28;01mraise\u001b[39;00m exc\n\u001b[0;32m    103\u001b[0m \u001b[38;5;28;01mreturn\u001b[39;00m \u001b[38;5;28mself\u001b[39m\u001b[38;5;241m.\u001b[39m_connection\u001b[38;5;241m.\u001b[39mhandle_request(request)\n",
      "File \u001b[1;32mc:\\Users\\Арман\\AppData\\Local\\Programs\\Python\\Python313\\Lib\\site-packages\\httpcore\\_sync\\connection.py:78\u001b[0m, in \u001b[0;36mHTTPConnection.handle_request\u001b[1;34m(self, request)\u001b[0m\n\u001b[0;32m     77\u001b[0m \u001b[38;5;28;01mif\u001b[39;00m \u001b[38;5;28mself\u001b[39m\u001b[38;5;241m.\u001b[39m_connection \u001b[38;5;129;01mis\u001b[39;00m \u001b[38;5;28;01mNone\u001b[39;00m:\n\u001b[1;32m---> 78\u001b[0m     stream \u001b[38;5;241m=\u001b[39m \u001b[38;5;28;43mself\u001b[39;49m\u001b[38;5;241;43m.\u001b[39;49m\u001b[43m_connect\u001b[49m\u001b[43m(\u001b[49m\u001b[43mrequest\u001b[49m\u001b[43m)\u001b[49m\n\u001b[0;32m     80\u001b[0m     ssl_object \u001b[38;5;241m=\u001b[39m stream\u001b[38;5;241m.\u001b[39mget_extra_info(\u001b[38;5;124m\"\u001b[39m\u001b[38;5;124mssl_object\u001b[39m\u001b[38;5;124m\"\u001b[39m)\n",
      "File \u001b[1;32mc:\\Users\\Арман\\AppData\\Local\\Programs\\Python\\Python313\\Lib\\site-packages\\httpcore\\_sync\\connection.py:124\u001b[0m, in \u001b[0;36mHTTPConnection._connect\u001b[1;34m(self, request)\u001b[0m\n\u001b[0;32m    123\u001b[0m \u001b[38;5;28;01mwith\u001b[39;00m Trace(\u001b[38;5;124m\"\u001b[39m\u001b[38;5;124mconnect_tcp\u001b[39m\u001b[38;5;124m\"\u001b[39m, logger, request, kwargs) \u001b[38;5;28;01mas\u001b[39;00m trace:\n\u001b[1;32m--> 124\u001b[0m     stream \u001b[38;5;241m=\u001b[39m \u001b[38;5;28;43mself\u001b[39;49m\u001b[38;5;241;43m.\u001b[39;49m\u001b[43m_network_backend\u001b[49m\u001b[38;5;241;43m.\u001b[39;49m\u001b[43mconnect_tcp\u001b[49m\u001b[43m(\u001b[49m\u001b[38;5;241;43m*\u001b[39;49m\u001b[38;5;241;43m*\u001b[39;49m\u001b[43mkwargs\u001b[49m\u001b[43m)\u001b[49m\n\u001b[0;32m    125\u001b[0m     trace\u001b[38;5;241m.\u001b[39mreturn_value \u001b[38;5;241m=\u001b[39m stream\n",
      "File \u001b[1;32mc:\\Users\\Арман\\AppData\\Local\\Programs\\Python\\Python313\\Lib\\site-packages\\httpcore\\_backends\\sync.py:207\u001b[0m, in \u001b[0;36mSyncBackend.connect_tcp\u001b[1;34m(self, host, port, timeout, local_address, socket_options)\u001b[0m\n\u001b[0;32m    202\u001b[0m exc_map: ExceptionMapping \u001b[38;5;241m=\u001b[39m {\n\u001b[0;32m    203\u001b[0m     socket\u001b[38;5;241m.\u001b[39mtimeout: ConnectTimeout,\n\u001b[0;32m    204\u001b[0m     \u001b[38;5;167;01mOSError\u001b[39;00m: ConnectError,\n\u001b[0;32m    205\u001b[0m }\n\u001b[1;32m--> 207\u001b[0m \u001b[38;5;28;01mwith\u001b[39;00m map_exceptions(exc_map):\n\u001b[0;32m    208\u001b[0m     sock \u001b[38;5;241m=\u001b[39m socket\u001b[38;5;241m.\u001b[39mcreate_connection(\n\u001b[0;32m    209\u001b[0m         address,\n\u001b[0;32m    210\u001b[0m         timeout,\n\u001b[0;32m    211\u001b[0m         source_address\u001b[38;5;241m=\u001b[39msource_address,\n\u001b[0;32m    212\u001b[0m     )\n",
      "File \u001b[1;32mc:\\Users\\Арман\\AppData\\Local\\Programs\\Python\\Python313\\Lib\\contextlib.py:162\u001b[0m, in \u001b[0;36m_GeneratorContextManager.__exit__\u001b[1;34m(self, typ, value, traceback)\u001b[0m\n\u001b[0;32m    161\u001b[0m \u001b[38;5;28;01mtry\u001b[39;00m:\n\u001b[1;32m--> 162\u001b[0m     \u001b[38;5;28;43mself\u001b[39;49m\u001b[38;5;241;43m.\u001b[39;49m\u001b[43mgen\u001b[49m\u001b[38;5;241;43m.\u001b[39;49m\u001b[43mthrow\u001b[49m\u001b[43m(\u001b[49m\u001b[43mvalue\u001b[49m\u001b[43m)\u001b[49m\n\u001b[0;32m    163\u001b[0m \u001b[38;5;28;01mexcept\u001b[39;00m \u001b[38;5;167;01mStopIteration\u001b[39;00m \u001b[38;5;28;01mas\u001b[39;00m exc:\n\u001b[0;32m    164\u001b[0m     \u001b[38;5;66;03m# Suppress StopIteration *unless* it's the same exception that\u001b[39;00m\n\u001b[0;32m    165\u001b[0m     \u001b[38;5;66;03m# was passed to throw().  This prevents a StopIteration\u001b[39;00m\n\u001b[0;32m    166\u001b[0m     \u001b[38;5;66;03m# raised inside the \"with\" statement from being suppressed.\u001b[39;00m\n",
      "File \u001b[1;32mc:\\Users\\Арман\\AppData\\Local\\Programs\\Python\\Python313\\Lib\\site-packages\\httpcore\\_exceptions.py:14\u001b[0m, in \u001b[0;36mmap_exceptions\u001b[1;34m(map)\u001b[0m\n\u001b[0;32m     13\u001b[0m     \u001b[38;5;28;01mif\u001b[39;00m \u001b[38;5;28misinstance\u001b[39m(exc, from_exc):\n\u001b[1;32m---> 14\u001b[0m         \u001b[38;5;28;01mraise\u001b[39;00m to_exc(exc) \u001b[38;5;28;01mfrom\u001b[39;00m \u001b[38;5;21;01mexc\u001b[39;00m\n\u001b[0;32m     15\u001b[0m \u001b[38;5;28;01mraise\u001b[39;00m\n",
      "\u001b[1;31mConnectError\u001b[0m: [Errno 11001] getaddrinfo failed",
      "\nThe above exception was the direct cause of the following exception:\n",
      "\u001b[1;31mConnectError\u001b[0m                              Traceback (most recent call last)",
      "File \u001b[1;32mc:\\Users\\Арман\\AppData\\Local\\Programs\\Python\\Python313\\Lib\\site-packages\\openai\\_base_client.py:993\u001b[0m, in \u001b[0;36mSyncAPIClient._request\u001b[1;34m(self, cast_to, options, retries_taken, stream, stream_cls)\u001b[0m\n\u001b[0;32m    992\u001b[0m \u001b[38;5;28;01mtry\u001b[39;00m:\n\u001b[1;32m--> 993\u001b[0m     response \u001b[38;5;241m=\u001b[39m \u001b[38;5;28;43mself\u001b[39;49m\u001b[38;5;241;43m.\u001b[39;49m\u001b[43m_client\u001b[49m\u001b[38;5;241;43m.\u001b[39;49m\u001b[43msend\u001b[49m\u001b[43m(\u001b[49m\n\u001b[0;32m    994\u001b[0m \u001b[43m        \u001b[49m\u001b[43mrequest\u001b[49m\u001b[43m,\u001b[49m\n\u001b[0;32m    995\u001b[0m \u001b[43m        \u001b[49m\u001b[43mstream\u001b[49m\u001b[38;5;241;43m=\u001b[39;49m\u001b[43mstream\u001b[49m\u001b[43m \u001b[49m\u001b[38;5;129;43;01mor\u001b[39;49;00m\u001b[43m \u001b[49m\u001b[38;5;28;43mself\u001b[39;49m\u001b[38;5;241;43m.\u001b[39;49m\u001b[43m_should_stream_response_body\u001b[49m\u001b[43m(\u001b[49m\u001b[43mrequest\u001b[49m\u001b[38;5;241;43m=\u001b[39;49m\u001b[43mrequest\u001b[49m\u001b[43m)\u001b[49m\u001b[43m,\u001b[49m\n\u001b[0;32m    996\u001b[0m \u001b[43m        \u001b[49m\u001b[38;5;241;43m*\u001b[39;49m\u001b[38;5;241;43m*\u001b[39;49m\u001b[43mkwargs\u001b[49m\u001b[43m,\u001b[49m\n\u001b[0;32m    997\u001b[0m \u001b[43m    \u001b[49m\u001b[43m)\u001b[49m\n\u001b[0;32m    998\u001b[0m \u001b[38;5;28;01mexcept\u001b[39;00m httpx\u001b[38;5;241m.\u001b[39mTimeoutException \u001b[38;5;28;01mas\u001b[39;00m err:\n",
      "File \u001b[1;32mc:\\Users\\Арман\\AppData\\Local\\Programs\\Python\\Python313\\Lib\\site-packages\\httpx\\_client.py:916\u001b[0m, in \u001b[0;36mClient.send\u001b[1;34m(self, request, stream, auth, follow_redirects)\u001b[0m\n\u001b[0;32m    914\u001b[0m auth \u001b[38;5;241m=\u001b[39m \u001b[38;5;28mself\u001b[39m\u001b[38;5;241m.\u001b[39m_build_request_auth(request, auth)\n\u001b[1;32m--> 916\u001b[0m response \u001b[38;5;241m=\u001b[39m \u001b[38;5;28;43mself\u001b[39;49m\u001b[38;5;241;43m.\u001b[39;49m\u001b[43m_send_handling_auth\u001b[49m\u001b[43m(\u001b[49m\n\u001b[0;32m    917\u001b[0m \u001b[43m    \u001b[49m\u001b[43mrequest\u001b[49m\u001b[43m,\u001b[49m\n\u001b[0;32m    918\u001b[0m \u001b[43m    \u001b[49m\u001b[43mauth\u001b[49m\u001b[38;5;241;43m=\u001b[39;49m\u001b[43mauth\u001b[49m\u001b[43m,\u001b[49m\n\u001b[0;32m    919\u001b[0m \u001b[43m    \u001b[49m\u001b[43mfollow_redirects\u001b[49m\u001b[38;5;241;43m=\u001b[39;49m\u001b[43mfollow_redirects\u001b[49m\u001b[43m,\u001b[49m\n\u001b[0;32m    920\u001b[0m \u001b[43m    \u001b[49m\u001b[43mhistory\u001b[49m\u001b[38;5;241;43m=\u001b[39;49m\u001b[43m[\u001b[49m\u001b[43m]\u001b[49m\u001b[43m,\u001b[49m\n\u001b[0;32m    921\u001b[0m \u001b[43m\u001b[49m\u001b[43m)\u001b[49m\n\u001b[0;32m    922\u001b[0m \u001b[38;5;28;01mtry\u001b[39;00m:\n",
      "File \u001b[1;32mc:\\Users\\Арман\\AppData\\Local\\Programs\\Python\\Python313\\Lib\\site-packages\\httpx\\_client.py:944\u001b[0m, in \u001b[0;36mClient._send_handling_auth\u001b[1;34m(self, request, auth, follow_redirects, history)\u001b[0m\n\u001b[0;32m    943\u001b[0m \u001b[38;5;28;01mwhile\u001b[39;00m \u001b[38;5;28;01mTrue\u001b[39;00m:\n\u001b[1;32m--> 944\u001b[0m     response \u001b[38;5;241m=\u001b[39m \u001b[38;5;28;43mself\u001b[39;49m\u001b[38;5;241;43m.\u001b[39;49m\u001b[43m_send_handling_redirects\u001b[49m\u001b[43m(\u001b[49m\n\u001b[0;32m    945\u001b[0m \u001b[43m        \u001b[49m\u001b[43mrequest\u001b[49m\u001b[43m,\u001b[49m\n\u001b[0;32m    946\u001b[0m \u001b[43m        \u001b[49m\u001b[43mfollow_redirects\u001b[49m\u001b[38;5;241;43m=\u001b[39;49m\u001b[43mfollow_redirects\u001b[49m\u001b[43m,\u001b[49m\n\u001b[0;32m    947\u001b[0m \u001b[43m        \u001b[49m\u001b[43mhistory\u001b[49m\u001b[38;5;241;43m=\u001b[39;49m\u001b[43mhistory\u001b[49m\u001b[43m,\u001b[49m\n\u001b[0;32m    948\u001b[0m \u001b[43m    \u001b[49m\u001b[43m)\u001b[49m\n\u001b[0;32m    949\u001b[0m     \u001b[38;5;28;01mtry\u001b[39;00m:\n",
      "File \u001b[1;32mc:\\Users\\Арман\\AppData\\Local\\Programs\\Python\\Python313\\Lib\\site-packages\\httpx\\_client.py:981\u001b[0m, in \u001b[0;36mClient._send_handling_redirects\u001b[1;34m(self, request, follow_redirects, history)\u001b[0m\n\u001b[0;32m    979\u001b[0m     hook(request)\n\u001b[1;32m--> 981\u001b[0m response \u001b[38;5;241m=\u001b[39m \u001b[38;5;28;43mself\u001b[39;49m\u001b[38;5;241;43m.\u001b[39;49m\u001b[43m_send_single_request\u001b[49m\u001b[43m(\u001b[49m\u001b[43mrequest\u001b[49m\u001b[43m)\u001b[49m\n\u001b[0;32m    982\u001b[0m \u001b[38;5;28;01mtry\u001b[39;00m:\n",
      "File \u001b[1;32mc:\\Users\\Арман\\AppData\\Local\\Programs\\Python\\Python313\\Lib\\site-packages\\httpx\\_client.py:1016\u001b[0m, in \u001b[0;36mClient._send_single_request\u001b[1;34m(self, request)\u001b[0m\n\u001b[0;32m   1015\u001b[0m \u001b[38;5;28;01mwith\u001b[39;00m request_context(request\u001b[38;5;241m=\u001b[39mrequest):\n\u001b[1;32m-> 1016\u001b[0m     response \u001b[38;5;241m=\u001b[39m \u001b[43mtransport\u001b[49m\u001b[38;5;241;43m.\u001b[39;49m\u001b[43mhandle_request\u001b[49m\u001b[43m(\u001b[49m\u001b[43mrequest\u001b[49m\u001b[43m)\u001b[49m\n\u001b[0;32m   1018\u001b[0m \u001b[38;5;28;01massert\u001b[39;00m \u001b[38;5;28misinstance\u001b[39m(response\u001b[38;5;241m.\u001b[39mstream, SyncByteStream)\n",
      "File \u001b[1;32mc:\\Users\\Арман\\AppData\\Local\\Programs\\Python\\Python313\\Lib\\site-packages\\httpx\\_transports\\default.py:249\u001b[0m, in \u001b[0;36mHTTPTransport.handle_request\u001b[1;34m(self, request)\u001b[0m\n\u001b[0;32m    237\u001b[0m req \u001b[38;5;241m=\u001b[39m httpcore\u001b[38;5;241m.\u001b[39mRequest(\n\u001b[0;32m    238\u001b[0m     method\u001b[38;5;241m=\u001b[39mrequest\u001b[38;5;241m.\u001b[39mmethod,\n\u001b[0;32m    239\u001b[0m     url\u001b[38;5;241m=\u001b[39mhttpcore\u001b[38;5;241m.\u001b[39mURL(\n\u001b[1;32m   (...)\u001b[0m\n\u001b[0;32m    247\u001b[0m     extensions\u001b[38;5;241m=\u001b[39mrequest\u001b[38;5;241m.\u001b[39mextensions,\n\u001b[0;32m    248\u001b[0m )\n\u001b[1;32m--> 249\u001b[0m \u001b[38;5;28;01mwith\u001b[39;00m map_httpcore_exceptions():\n\u001b[0;32m    250\u001b[0m     resp \u001b[38;5;241m=\u001b[39m \u001b[38;5;28mself\u001b[39m\u001b[38;5;241m.\u001b[39m_pool\u001b[38;5;241m.\u001b[39mhandle_request(req)\n",
      "File \u001b[1;32mc:\\Users\\Арман\\AppData\\Local\\Programs\\Python\\Python313\\Lib\\contextlib.py:162\u001b[0m, in \u001b[0;36m_GeneratorContextManager.__exit__\u001b[1;34m(self, typ, value, traceback)\u001b[0m\n\u001b[0;32m    161\u001b[0m \u001b[38;5;28;01mtry\u001b[39;00m:\n\u001b[1;32m--> 162\u001b[0m     \u001b[38;5;28;43mself\u001b[39;49m\u001b[38;5;241;43m.\u001b[39;49m\u001b[43mgen\u001b[49m\u001b[38;5;241;43m.\u001b[39;49m\u001b[43mthrow\u001b[49m\u001b[43m(\u001b[49m\u001b[43mvalue\u001b[49m\u001b[43m)\u001b[49m\n\u001b[0;32m    163\u001b[0m \u001b[38;5;28;01mexcept\u001b[39;00m \u001b[38;5;167;01mStopIteration\u001b[39;00m \u001b[38;5;28;01mas\u001b[39;00m exc:\n\u001b[0;32m    164\u001b[0m     \u001b[38;5;66;03m# Suppress StopIteration *unless* it's the same exception that\u001b[39;00m\n\u001b[0;32m    165\u001b[0m     \u001b[38;5;66;03m# was passed to throw().  This prevents a StopIteration\u001b[39;00m\n\u001b[0;32m    166\u001b[0m     \u001b[38;5;66;03m# raised inside the \"with\" statement from being suppressed.\u001b[39;00m\n",
      "File \u001b[1;32mc:\\Users\\Арман\\AppData\\Local\\Programs\\Python\\Python313\\Lib\\site-packages\\httpx\\_transports\\default.py:118\u001b[0m, in \u001b[0;36mmap_httpcore_exceptions\u001b[1;34m()\u001b[0m\n\u001b[0;32m    117\u001b[0m message \u001b[38;5;241m=\u001b[39m \u001b[38;5;28mstr\u001b[39m(exc)\n\u001b[1;32m--> 118\u001b[0m \u001b[38;5;28;01mraise\u001b[39;00m mapped_exc(message) \u001b[38;5;28;01mfrom\u001b[39;00m \u001b[38;5;21;01mexc\u001b[39;00m\n",
      "\u001b[1;31mConnectError\u001b[0m: [Errno 11001] getaddrinfo failed",
      "\nDuring handling of the above exception, another exception occurred:\n",
      "\u001b[1;31mKeyboardInterrupt\u001b[0m                         Traceback (most recent call last)",
      "Cell \u001b[1;32mIn[64], line 2\u001b[0m\n\u001b[0;32m      1\u001b[0m \u001b[38;5;28;01mfor\u001b[39;00m file_name \u001b[38;5;129;01min\u001b[39;00m tqdm(file_names):\n\u001b[1;32m----> 2\u001b[0m     \u001b[43mgenerate_ru_eng_cards_from_file\u001b[49m\u001b[43m(\u001b[49m\u001b[43mfile_name\u001b[49m\u001b[43m)\u001b[49m\n\u001b[0;32m      3\u001b[0m     \u001b[38;5;28mprint\u001b[39m(check_file_accuracy(file_name))\n",
      "Cell \u001b[1;32mIn[62], line 10\u001b[0m, in \u001b[0;36mgenerate_ru_eng_cards_from_file\u001b[1;34m(file_name)\u001b[0m\n\u001b[0;32m      8\u001b[0m \u001b[38;5;28;01mwhile\u001b[39;00m \u001b[38;5;28;01mTrue\u001b[39;00m:\n\u001b[0;32m      9\u001b[0m     \u001b[38;5;28;01mtry\u001b[39;00m:\n\u001b[1;32m---> 10\u001b[0m         ru_eng, eval_res \u001b[38;5;241m=\u001b[39m \u001b[43mcard_handler\u001b[49m\u001b[43m(\u001b[49m\u001b[43mru_finn\u001b[49m\u001b[43m)\u001b[49m\n\u001b[0;32m     12\u001b[0m         ru_eng_cards\u001b[38;5;241m.\u001b[39mappend(ru_eng)\n\u001b[0;32m     13\u001b[0m         eval_results\u001b[38;5;241m.\u001b[39mappend(eval_res)\n",
      "Cell \u001b[1;32mIn[22], line 9\u001b[0m, in \u001b[0;36mcard_handler\u001b[1;34m(ru_finn_card, num_iter)\u001b[0m\n\u001b[0;32m      7\u001b[0m     ru_eng_card \u001b[38;5;241m=\u001b[39m generate_ru_eng_phrase_card(ru_finn_card)\n\u001b[0;32m      8\u001b[0m \u001b[38;5;28;01melse\u001b[39;00m:\n\u001b[1;32m----> 9\u001b[0m     ru_eng_card \u001b[38;5;241m=\u001b[39m \u001b[43mgenerate_ru_eng_full_card\u001b[49m\u001b[43m(\u001b[49m\u001b[43mru_finn_card\u001b[49m\u001b[43m)\u001b[49m\n\u001b[0;32m     11\u001b[0m eval_result \u001b[38;5;241m=\u001b[39m {}\n\u001b[0;32m     13\u001b[0m \u001b[38;5;28;01mif\u001b[39;00m is_phrase_card:\n",
      "Cell \u001b[1;32mIn[5], line 18\u001b[0m, in \u001b[0;36mgenerate_ru_eng_full_card\u001b[1;34m(ru_finn_card, model)\u001b[0m\n\u001b[0;32m      4\u001b[0m system_prompt \u001b[38;5;241m=\u001b[39m \u001b[38;5;124m'''\u001b[39m\u001b[38;5;124mYou are a multilingual assistant who is proficient in Russian, Finnish and English.\u001b[39m\u001b[38;5;124m'''\u001b[39m\n\u001b[0;32m      6\u001b[0m user_prompt \u001b[38;5;241m=\u001b[39m \u001b[38;5;124mf\u001b[39m\u001b[38;5;124m\"\"\"\u001b[39m\n\u001b[0;32m      7\u001b[0m \u001b[38;5;124mTranslate the given Russian word or phrase along with its Finnish translation into English, and then translate the provided Russian sentence, incorporating the English translation of the word or phrase. Use synonyms or related terms where necessary to convey the intended meaning and maintain naturalness in English.\u001b[39m\n\u001b[0;32m      8\u001b[0m \n\u001b[1;32m   (...)\u001b[0m\n\u001b[0;32m     15\u001b[0m \u001b[38;5;124mReturn the English translated word or phrase and the English translated sentence, separated by a semicolon (;).\u001b[39m\n\u001b[0;32m     16\u001b[0m \u001b[38;5;124m\u001b[39m\u001b[38;5;124m\"\"\"\u001b[39m\n\u001b[1;32m---> 18\u001b[0m response \u001b[38;5;241m=\u001b[39m \u001b[43mclient\u001b[49m\u001b[38;5;241;43m.\u001b[39;49m\u001b[43mchat\u001b[49m\u001b[38;5;241;43m.\u001b[39;49m\u001b[43mcompletions\u001b[49m\u001b[38;5;241;43m.\u001b[39;49m\u001b[43mcreate\u001b[49m\u001b[43m(\u001b[49m\n\u001b[0;32m     19\u001b[0m \u001b[43m    \u001b[49m\u001b[43mmodel\u001b[49m\u001b[38;5;241;43m=\u001b[39;49m\u001b[43mmodel\u001b[49m\u001b[43m,\u001b[49m\n\u001b[0;32m     20\u001b[0m \u001b[43m    \u001b[49m\u001b[43mmessages\u001b[49m\u001b[38;5;241;43m=\u001b[39;49m\u001b[43m[\u001b[49m\n\u001b[0;32m     21\u001b[0m \u001b[43m    \u001b[49m\u001b[43m{\u001b[49m\u001b[38;5;124;43m\"\u001b[39;49m\u001b[38;5;124;43mrole\u001b[39;49m\u001b[38;5;124;43m\"\u001b[39;49m\u001b[43m:\u001b[49m\u001b[43m \u001b[49m\u001b[38;5;124;43m\"\u001b[39;49m\u001b[38;5;124;43msystem\u001b[39;49m\u001b[38;5;124;43m\"\u001b[39;49m\u001b[43m,\u001b[49m\u001b[43m \u001b[49m\u001b[38;5;124;43m\"\u001b[39;49m\u001b[38;5;124;43mcontent\u001b[39;49m\u001b[38;5;124;43m\"\u001b[39;49m\u001b[43m:\u001b[49m\u001b[43m \u001b[49m\u001b[43msystem_prompt\u001b[49m\u001b[38;5;241;43m.\u001b[39;49m\u001b[43mstrip\u001b[49m\u001b[43m(\u001b[49m\u001b[43m)\u001b[49m\u001b[43m}\u001b[49m\u001b[43m,\u001b[49m\n\u001b[0;32m     22\u001b[0m \u001b[43m    \u001b[49m\u001b[43m{\u001b[49m\u001b[38;5;124;43m\"\u001b[39;49m\u001b[38;5;124;43mrole\u001b[39;49m\u001b[38;5;124;43m\"\u001b[39;49m\u001b[43m:\u001b[49m\u001b[43m \u001b[49m\u001b[38;5;124;43m\"\u001b[39;49m\u001b[38;5;124;43muser\u001b[39;49m\u001b[38;5;124;43m\"\u001b[39;49m\u001b[43m,\u001b[49m\u001b[43m \u001b[49m\u001b[38;5;124;43m\"\u001b[39;49m\u001b[38;5;124;43mcontent\u001b[39;49m\u001b[38;5;124;43m\"\u001b[39;49m\u001b[43m:\u001b[49m\u001b[43m \u001b[49m\u001b[43muser_prompt\u001b[49m\u001b[38;5;241;43m.\u001b[39;49m\u001b[43mstrip\u001b[49m\u001b[43m(\u001b[49m\u001b[43m)\u001b[49m\u001b[43m}\u001b[49m\n\u001b[0;32m     23\u001b[0m \u001b[43m    \u001b[49m\u001b[43m]\u001b[49m\n\u001b[0;32m     24\u001b[0m \u001b[43m\u001b[49m\u001b[43m)\u001b[49m\n\u001b[0;32m     26\u001b[0m tr_word, tr_sentence \u001b[38;5;241m=\u001b[39m response\u001b[38;5;241m.\u001b[39mchoices[\u001b[38;5;241m0\u001b[39m]\u001b[38;5;241m.\u001b[39mmessage\u001b[38;5;241m.\u001b[39mcontent\u001b[38;5;241m.\u001b[39mstrip()\u001b[38;5;241m.\u001b[39msplit(\u001b[38;5;124m'\u001b[39m\u001b[38;5;124m;\u001b[39m\u001b[38;5;124m'\u001b[39m)\n\u001b[0;32m     28\u001b[0m card \u001b[38;5;241m=\u001b[39m {}\n",
      "File \u001b[1;32mc:\\Users\\Арман\\AppData\\Local\\Programs\\Python\\Python313\\Lib\\site-packages\\openai\\_utils\\_utils.py:275\u001b[0m, in \u001b[0;36mrequired_args.<locals>.inner.<locals>.wrapper\u001b[1;34m(*args, **kwargs)\u001b[0m\n\u001b[0;32m    273\u001b[0m             msg \u001b[38;5;241m=\u001b[39m \u001b[38;5;124mf\u001b[39m\u001b[38;5;124m\"\u001b[39m\u001b[38;5;124mMissing required argument: \u001b[39m\u001b[38;5;132;01m{\u001b[39;00mquote(missing[\u001b[38;5;241m0\u001b[39m])\u001b[38;5;132;01m}\u001b[39;00m\u001b[38;5;124m\"\u001b[39m\n\u001b[0;32m    274\u001b[0m     \u001b[38;5;28;01mraise\u001b[39;00m \u001b[38;5;167;01mTypeError\u001b[39;00m(msg)\n\u001b[1;32m--> 275\u001b[0m \u001b[38;5;28;01mreturn\u001b[39;00m \u001b[43mfunc\u001b[49m\u001b[43m(\u001b[49m\u001b[38;5;241;43m*\u001b[39;49m\u001b[43margs\u001b[49m\u001b[43m,\u001b[49m\u001b[43m \u001b[49m\u001b[38;5;241;43m*\u001b[39;49m\u001b[38;5;241;43m*\u001b[39;49m\u001b[43mkwargs\u001b[49m\u001b[43m)\u001b[49m\n",
      "File \u001b[1;32mc:\\Users\\Арман\\AppData\\Local\\Programs\\Python\\Python313\\Lib\\site-packages\\openai\\resources\\chat\\completions.py:829\u001b[0m, in \u001b[0;36mCompletions.create\u001b[1;34m(self, messages, model, audio, frequency_penalty, function_call, functions, logit_bias, logprobs, max_completion_tokens, max_tokens, metadata, modalities, n, parallel_tool_calls, prediction, presence_penalty, response_format, seed, service_tier, stop, store, stream, stream_options, temperature, tool_choice, tools, top_logprobs, top_p, user, extra_headers, extra_query, extra_body, timeout)\u001b[0m\n\u001b[0;32m    788\u001b[0m \u001b[38;5;129m@required_args\u001b[39m([\u001b[38;5;124m\"\u001b[39m\u001b[38;5;124mmessages\u001b[39m\u001b[38;5;124m\"\u001b[39m, \u001b[38;5;124m\"\u001b[39m\u001b[38;5;124mmodel\u001b[39m\u001b[38;5;124m\"\u001b[39m], [\u001b[38;5;124m\"\u001b[39m\u001b[38;5;124mmessages\u001b[39m\u001b[38;5;124m\"\u001b[39m, \u001b[38;5;124m\"\u001b[39m\u001b[38;5;124mmodel\u001b[39m\u001b[38;5;124m\"\u001b[39m, \u001b[38;5;124m\"\u001b[39m\u001b[38;5;124mstream\u001b[39m\u001b[38;5;124m\"\u001b[39m])\n\u001b[0;32m    789\u001b[0m \u001b[38;5;28;01mdef\u001b[39;00m \u001b[38;5;21mcreate\u001b[39m(\n\u001b[0;32m    790\u001b[0m     \u001b[38;5;28mself\u001b[39m,\n\u001b[1;32m   (...)\u001b[0m\n\u001b[0;32m    826\u001b[0m     timeout: \u001b[38;5;28mfloat\u001b[39m \u001b[38;5;241m|\u001b[39m httpx\u001b[38;5;241m.\u001b[39mTimeout \u001b[38;5;241m|\u001b[39m \u001b[38;5;28;01mNone\u001b[39;00m \u001b[38;5;241m|\u001b[39m NotGiven \u001b[38;5;241m=\u001b[39m NOT_GIVEN,\n\u001b[0;32m    827\u001b[0m ) \u001b[38;5;241m-\u001b[39m\u001b[38;5;241m>\u001b[39m ChatCompletion \u001b[38;5;241m|\u001b[39m Stream[ChatCompletionChunk]:\n\u001b[0;32m    828\u001b[0m     validate_response_format(response_format)\n\u001b[1;32m--> 829\u001b[0m     \u001b[38;5;28;01mreturn\u001b[39;00m \u001b[38;5;28;43mself\u001b[39;49m\u001b[38;5;241;43m.\u001b[39;49m\u001b[43m_post\u001b[49m\u001b[43m(\u001b[49m\n\u001b[0;32m    830\u001b[0m \u001b[43m        \u001b[49m\u001b[38;5;124;43m\"\u001b[39;49m\u001b[38;5;124;43m/chat/completions\u001b[39;49m\u001b[38;5;124;43m\"\u001b[39;49m\u001b[43m,\u001b[49m\n\u001b[0;32m    831\u001b[0m \u001b[43m        \u001b[49m\u001b[43mbody\u001b[49m\u001b[38;5;241;43m=\u001b[39;49m\u001b[43mmaybe_transform\u001b[49m\u001b[43m(\u001b[49m\n\u001b[0;32m    832\u001b[0m \u001b[43m            \u001b[49m\u001b[43m{\u001b[49m\n\u001b[0;32m    833\u001b[0m \u001b[43m                \u001b[49m\u001b[38;5;124;43m\"\u001b[39;49m\u001b[38;5;124;43mmessages\u001b[39;49m\u001b[38;5;124;43m\"\u001b[39;49m\u001b[43m:\u001b[49m\u001b[43m \u001b[49m\u001b[43mmessages\u001b[49m\u001b[43m,\u001b[49m\n\u001b[0;32m    834\u001b[0m \u001b[43m                \u001b[49m\u001b[38;5;124;43m\"\u001b[39;49m\u001b[38;5;124;43mmodel\u001b[39;49m\u001b[38;5;124;43m\"\u001b[39;49m\u001b[43m:\u001b[49m\u001b[43m \u001b[49m\u001b[43mmodel\u001b[49m\u001b[43m,\u001b[49m\n\u001b[0;32m    835\u001b[0m \u001b[43m                \u001b[49m\u001b[38;5;124;43m\"\u001b[39;49m\u001b[38;5;124;43maudio\u001b[39;49m\u001b[38;5;124;43m\"\u001b[39;49m\u001b[43m:\u001b[49m\u001b[43m \u001b[49m\u001b[43maudio\u001b[49m\u001b[43m,\u001b[49m\n\u001b[0;32m    836\u001b[0m \u001b[43m                \u001b[49m\u001b[38;5;124;43m\"\u001b[39;49m\u001b[38;5;124;43mfrequency_penalty\u001b[39;49m\u001b[38;5;124;43m\"\u001b[39;49m\u001b[43m:\u001b[49m\u001b[43m \u001b[49m\u001b[43mfrequency_penalty\u001b[49m\u001b[43m,\u001b[49m\n\u001b[0;32m    837\u001b[0m \u001b[43m                \u001b[49m\u001b[38;5;124;43m\"\u001b[39;49m\u001b[38;5;124;43mfunction_call\u001b[39;49m\u001b[38;5;124;43m\"\u001b[39;49m\u001b[43m:\u001b[49m\u001b[43m \u001b[49m\u001b[43mfunction_call\u001b[49m\u001b[43m,\u001b[49m\n\u001b[0;32m    838\u001b[0m \u001b[43m                \u001b[49m\u001b[38;5;124;43m\"\u001b[39;49m\u001b[38;5;124;43mfunctions\u001b[39;49m\u001b[38;5;124;43m\"\u001b[39;49m\u001b[43m:\u001b[49m\u001b[43m \u001b[49m\u001b[43mfunctions\u001b[49m\u001b[43m,\u001b[49m\n\u001b[0;32m    839\u001b[0m \u001b[43m                \u001b[49m\u001b[38;5;124;43m\"\u001b[39;49m\u001b[38;5;124;43mlogit_bias\u001b[39;49m\u001b[38;5;124;43m\"\u001b[39;49m\u001b[43m:\u001b[49m\u001b[43m \u001b[49m\u001b[43mlogit_bias\u001b[49m\u001b[43m,\u001b[49m\n\u001b[0;32m    840\u001b[0m \u001b[43m                \u001b[49m\u001b[38;5;124;43m\"\u001b[39;49m\u001b[38;5;124;43mlogprobs\u001b[39;49m\u001b[38;5;124;43m\"\u001b[39;49m\u001b[43m:\u001b[49m\u001b[43m \u001b[49m\u001b[43mlogprobs\u001b[49m\u001b[43m,\u001b[49m\n\u001b[0;32m    841\u001b[0m \u001b[43m                \u001b[49m\u001b[38;5;124;43m\"\u001b[39;49m\u001b[38;5;124;43mmax_completion_tokens\u001b[39;49m\u001b[38;5;124;43m\"\u001b[39;49m\u001b[43m:\u001b[49m\u001b[43m \u001b[49m\u001b[43mmax_completion_tokens\u001b[49m\u001b[43m,\u001b[49m\n\u001b[0;32m    842\u001b[0m \u001b[43m                \u001b[49m\u001b[38;5;124;43m\"\u001b[39;49m\u001b[38;5;124;43mmax_tokens\u001b[39;49m\u001b[38;5;124;43m\"\u001b[39;49m\u001b[43m:\u001b[49m\u001b[43m \u001b[49m\u001b[43mmax_tokens\u001b[49m\u001b[43m,\u001b[49m\n\u001b[0;32m    843\u001b[0m \u001b[43m                \u001b[49m\u001b[38;5;124;43m\"\u001b[39;49m\u001b[38;5;124;43mmetadata\u001b[39;49m\u001b[38;5;124;43m\"\u001b[39;49m\u001b[43m:\u001b[49m\u001b[43m \u001b[49m\u001b[43mmetadata\u001b[49m\u001b[43m,\u001b[49m\n\u001b[0;32m    844\u001b[0m \u001b[43m                \u001b[49m\u001b[38;5;124;43m\"\u001b[39;49m\u001b[38;5;124;43mmodalities\u001b[39;49m\u001b[38;5;124;43m\"\u001b[39;49m\u001b[43m:\u001b[49m\u001b[43m \u001b[49m\u001b[43mmodalities\u001b[49m\u001b[43m,\u001b[49m\n\u001b[0;32m    845\u001b[0m \u001b[43m                \u001b[49m\u001b[38;5;124;43m\"\u001b[39;49m\u001b[38;5;124;43mn\u001b[39;49m\u001b[38;5;124;43m\"\u001b[39;49m\u001b[43m:\u001b[49m\u001b[43m \u001b[49m\u001b[43mn\u001b[49m\u001b[43m,\u001b[49m\n\u001b[0;32m    846\u001b[0m \u001b[43m                \u001b[49m\u001b[38;5;124;43m\"\u001b[39;49m\u001b[38;5;124;43mparallel_tool_calls\u001b[39;49m\u001b[38;5;124;43m\"\u001b[39;49m\u001b[43m:\u001b[49m\u001b[43m \u001b[49m\u001b[43mparallel_tool_calls\u001b[49m\u001b[43m,\u001b[49m\n\u001b[0;32m    847\u001b[0m \u001b[43m                \u001b[49m\u001b[38;5;124;43m\"\u001b[39;49m\u001b[38;5;124;43mprediction\u001b[39;49m\u001b[38;5;124;43m\"\u001b[39;49m\u001b[43m:\u001b[49m\u001b[43m \u001b[49m\u001b[43mprediction\u001b[49m\u001b[43m,\u001b[49m\n\u001b[0;32m    848\u001b[0m \u001b[43m                \u001b[49m\u001b[38;5;124;43m\"\u001b[39;49m\u001b[38;5;124;43mpresence_penalty\u001b[39;49m\u001b[38;5;124;43m\"\u001b[39;49m\u001b[43m:\u001b[49m\u001b[43m \u001b[49m\u001b[43mpresence_penalty\u001b[49m\u001b[43m,\u001b[49m\n\u001b[0;32m    849\u001b[0m \u001b[43m                \u001b[49m\u001b[38;5;124;43m\"\u001b[39;49m\u001b[38;5;124;43mresponse_format\u001b[39;49m\u001b[38;5;124;43m\"\u001b[39;49m\u001b[43m:\u001b[49m\u001b[43m \u001b[49m\u001b[43mresponse_format\u001b[49m\u001b[43m,\u001b[49m\n\u001b[0;32m    850\u001b[0m \u001b[43m                \u001b[49m\u001b[38;5;124;43m\"\u001b[39;49m\u001b[38;5;124;43mseed\u001b[39;49m\u001b[38;5;124;43m\"\u001b[39;49m\u001b[43m:\u001b[49m\u001b[43m \u001b[49m\u001b[43mseed\u001b[49m\u001b[43m,\u001b[49m\n\u001b[0;32m    851\u001b[0m \u001b[43m                \u001b[49m\u001b[38;5;124;43m\"\u001b[39;49m\u001b[38;5;124;43mservice_tier\u001b[39;49m\u001b[38;5;124;43m\"\u001b[39;49m\u001b[43m:\u001b[49m\u001b[43m \u001b[49m\u001b[43mservice_tier\u001b[49m\u001b[43m,\u001b[49m\n\u001b[0;32m    852\u001b[0m \u001b[43m                \u001b[49m\u001b[38;5;124;43m\"\u001b[39;49m\u001b[38;5;124;43mstop\u001b[39;49m\u001b[38;5;124;43m\"\u001b[39;49m\u001b[43m:\u001b[49m\u001b[43m \u001b[49m\u001b[43mstop\u001b[49m\u001b[43m,\u001b[49m\n\u001b[0;32m    853\u001b[0m \u001b[43m                \u001b[49m\u001b[38;5;124;43m\"\u001b[39;49m\u001b[38;5;124;43mstore\u001b[39;49m\u001b[38;5;124;43m\"\u001b[39;49m\u001b[43m:\u001b[49m\u001b[43m \u001b[49m\u001b[43mstore\u001b[49m\u001b[43m,\u001b[49m\n\u001b[0;32m    854\u001b[0m \u001b[43m                \u001b[49m\u001b[38;5;124;43m\"\u001b[39;49m\u001b[38;5;124;43mstream\u001b[39;49m\u001b[38;5;124;43m\"\u001b[39;49m\u001b[43m:\u001b[49m\u001b[43m \u001b[49m\u001b[43mstream\u001b[49m\u001b[43m,\u001b[49m\n\u001b[0;32m    855\u001b[0m \u001b[43m                \u001b[49m\u001b[38;5;124;43m\"\u001b[39;49m\u001b[38;5;124;43mstream_options\u001b[39;49m\u001b[38;5;124;43m\"\u001b[39;49m\u001b[43m:\u001b[49m\u001b[43m \u001b[49m\u001b[43mstream_options\u001b[49m\u001b[43m,\u001b[49m\n\u001b[0;32m    856\u001b[0m \u001b[43m                \u001b[49m\u001b[38;5;124;43m\"\u001b[39;49m\u001b[38;5;124;43mtemperature\u001b[39;49m\u001b[38;5;124;43m\"\u001b[39;49m\u001b[43m:\u001b[49m\u001b[43m \u001b[49m\u001b[43mtemperature\u001b[49m\u001b[43m,\u001b[49m\n\u001b[0;32m    857\u001b[0m \u001b[43m                \u001b[49m\u001b[38;5;124;43m\"\u001b[39;49m\u001b[38;5;124;43mtool_choice\u001b[39;49m\u001b[38;5;124;43m\"\u001b[39;49m\u001b[43m:\u001b[49m\u001b[43m \u001b[49m\u001b[43mtool_choice\u001b[49m\u001b[43m,\u001b[49m\n\u001b[0;32m    858\u001b[0m \u001b[43m                \u001b[49m\u001b[38;5;124;43m\"\u001b[39;49m\u001b[38;5;124;43mtools\u001b[39;49m\u001b[38;5;124;43m\"\u001b[39;49m\u001b[43m:\u001b[49m\u001b[43m \u001b[49m\u001b[43mtools\u001b[49m\u001b[43m,\u001b[49m\n\u001b[0;32m    859\u001b[0m \u001b[43m                \u001b[49m\u001b[38;5;124;43m\"\u001b[39;49m\u001b[38;5;124;43mtop_logprobs\u001b[39;49m\u001b[38;5;124;43m\"\u001b[39;49m\u001b[43m:\u001b[49m\u001b[43m \u001b[49m\u001b[43mtop_logprobs\u001b[49m\u001b[43m,\u001b[49m\n\u001b[0;32m    860\u001b[0m \u001b[43m                \u001b[49m\u001b[38;5;124;43m\"\u001b[39;49m\u001b[38;5;124;43mtop_p\u001b[39;49m\u001b[38;5;124;43m\"\u001b[39;49m\u001b[43m:\u001b[49m\u001b[43m \u001b[49m\u001b[43mtop_p\u001b[49m\u001b[43m,\u001b[49m\n\u001b[0;32m    861\u001b[0m \u001b[43m                \u001b[49m\u001b[38;5;124;43m\"\u001b[39;49m\u001b[38;5;124;43muser\u001b[39;49m\u001b[38;5;124;43m\"\u001b[39;49m\u001b[43m:\u001b[49m\u001b[43m \u001b[49m\u001b[43muser\u001b[49m\u001b[43m,\u001b[49m\n\u001b[0;32m    862\u001b[0m \u001b[43m            \u001b[49m\u001b[43m}\u001b[49m\u001b[43m,\u001b[49m\n\u001b[0;32m    863\u001b[0m \u001b[43m            \u001b[49m\u001b[43mcompletion_create_params\u001b[49m\u001b[38;5;241;43m.\u001b[39;49m\u001b[43mCompletionCreateParams\u001b[49m\u001b[43m,\u001b[49m\n\u001b[0;32m    864\u001b[0m \u001b[43m        \u001b[49m\u001b[43m)\u001b[49m\u001b[43m,\u001b[49m\n\u001b[0;32m    865\u001b[0m \u001b[43m        \u001b[49m\u001b[43moptions\u001b[49m\u001b[38;5;241;43m=\u001b[39;49m\u001b[43mmake_request_options\u001b[49m\u001b[43m(\u001b[49m\n\u001b[0;32m    866\u001b[0m \u001b[43m            \u001b[49m\u001b[43mextra_headers\u001b[49m\u001b[38;5;241;43m=\u001b[39;49m\u001b[43mextra_headers\u001b[49m\u001b[43m,\u001b[49m\u001b[43m \u001b[49m\u001b[43mextra_query\u001b[49m\u001b[38;5;241;43m=\u001b[39;49m\u001b[43mextra_query\u001b[49m\u001b[43m,\u001b[49m\u001b[43m \u001b[49m\u001b[43mextra_body\u001b[49m\u001b[38;5;241;43m=\u001b[39;49m\u001b[43mextra_body\u001b[49m\u001b[43m,\u001b[49m\u001b[43m \u001b[49m\u001b[43mtimeout\u001b[49m\u001b[38;5;241;43m=\u001b[39;49m\u001b[43mtimeout\u001b[49m\n\u001b[0;32m    867\u001b[0m \u001b[43m        \u001b[49m\u001b[43m)\u001b[49m\u001b[43m,\u001b[49m\n\u001b[0;32m    868\u001b[0m \u001b[43m        \u001b[49m\u001b[43mcast_to\u001b[49m\u001b[38;5;241;43m=\u001b[39;49m\u001b[43mChatCompletion\u001b[49m\u001b[43m,\u001b[49m\n\u001b[0;32m    869\u001b[0m \u001b[43m        \u001b[49m\u001b[43mstream\u001b[49m\u001b[38;5;241;43m=\u001b[39;49m\u001b[43mstream\u001b[49m\u001b[43m \u001b[49m\u001b[38;5;129;43;01mor\u001b[39;49;00m\u001b[43m \u001b[49m\u001b[38;5;28;43;01mFalse\u001b[39;49;00m\u001b[43m,\u001b[49m\n\u001b[0;32m    870\u001b[0m \u001b[43m        \u001b[49m\u001b[43mstream_cls\u001b[49m\u001b[38;5;241;43m=\u001b[39;49m\u001b[43mStream\u001b[49m\u001b[43m[\u001b[49m\u001b[43mChatCompletionChunk\u001b[49m\u001b[43m]\u001b[49m\u001b[43m,\u001b[49m\n\u001b[0;32m    871\u001b[0m \u001b[43m    \u001b[49m\u001b[43m)\u001b[49m\n",
      "File \u001b[1;32mc:\\Users\\Арман\\AppData\\Local\\Programs\\Python\\Python313\\Lib\\site-packages\\openai\\_base_client.py:1280\u001b[0m, in \u001b[0;36mSyncAPIClient.post\u001b[1;34m(self, path, cast_to, body, options, files, stream, stream_cls)\u001b[0m\n\u001b[0;32m   1266\u001b[0m \u001b[38;5;28;01mdef\u001b[39;00m \u001b[38;5;21mpost\u001b[39m(\n\u001b[0;32m   1267\u001b[0m     \u001b[38;5;28mself\u001b[39m,\n\u001b[0;32m   1268\u001b[0m     path: \u001b[38;5;28mstr\u001b[39m,\n\u001b[1;32m   (...)\u001b[0m\n\u001b[0;32m   1275\u001b[0m     stream_cls: \u001b[38;5;28mtype\u001b[39m[_StreamT] \u001b[38;5;241m|\u001b[39m \u001b[38;5;28;01mNone\u001b[39;00m \u001b[38;5;241m=\u001b[39m \u001b[38;5;28;01mNone\u001b[39;00m,\n\u001b[0;32m   1276\u001b[0m ) \u001b[38;5;241m-\u001b[39m\u001b[38;5;241m>\u001b[39m ResponseT \u001b[38;5;241m|\u001b[39m _StreamT:\n\u001b[0;32m   1277\u001b[0m     opts \u001b[38;5;241m=\u001b[39m FinalRequestOptions\u001b[38;5;241m.\u001b[39mconstruct(\n\u001b[0;32m   1278\u001b[0m         method\u001b[38;5;241m=\u001b[39m\u001b[38;5;124m\"\u001b[39m\u001b[38;5;124mpost\u001b[39m\u001b[38;5;124m\"\u001b[39m, url\u001b[38;5;241m=\u001b[39mpath, json_data\u001b[38;5;241m=\u001b[39mbody, files\u001b[38;5;241m=\u001b[39mto_httpx_files(files), \u001b[38;5;241m*\u001b[39m\u001b[38;5;241m*\u001b[39moptions\n\u001b[0;32m   1279\u001b[0m     )\n\u001b[1;32m-> 1280\u001b[0m     \u001b[38;5;28;01mreturn\u001b[39;00m cast(ResponseT, \u001b[38;5;28;43mself\u001b[39;49m\u001b[38;5;241;43m.\u001b[39;49m\u001b[43mrequest\u001b[49m\u001b[43m(\u001b[49m\u001b[43mcast_to\u001b[49m\u001b[43m,\u001b[49m\u001b[43m \u001b[49m\u001b[43mopts\u001b[49m\u001b[43m,\u001b[49m\u001b[43m \u001b[49m\u001b[43mstream\u001b[49m\u001b[38;5;241;43m=\u001b[39;49m\u001b[43mstream\u001b[49m\u001b[43m,\u001b[49m\u001b[43m \u001b[49m\u001b[43mstream_cls\u001b[49m\u001b[38;5;241;43m=\u001b[39;49m\u001b[43mstream_cls\u001b[49m\u001b[43m)\u001b[49m)\n",
      "File \u001b[1;32mc:\\Users\\Арман\\AppData\\Local\\Programs\\Python\\Python313\\Lib\\site-packages\\openai\\_base_client.py:957\u001b[0m, in \u001b[0;36mSyncAPIClient.request\u001b[1;34m(self, cast_to, options, remaining_retries, stream, stream_cls)\u001b[0m\n\u001b[0;32m    954\u001b[0m \u001b[38;5;28;01melse\u001b[39;00m:\n\u001b[0;32m    955\u001b[0m     retries_taken \u001b[38;5;241m=\u001b[39m \u001b[38;5;241m0\u001b[39m\n\u001b[1;32m--> 957\u001b[0m \u001b[38;5;28;01mreturn\u001b[39;00m \u001b[38;5;28;43mself\u001b[39;49m\u001b[38;5;241;43m.\u001b[39;49m\u001b[43m_request\u001b[49m\u001b[43m(\u001b[49m\n\u001b[0;32m    958\u001b[0m \u001b[43m    \u001b[49m\u001b[43mcast_to\u001b[49m\u001b[38;5;241;43m=\u001b[39;49m\u001b[43mcast_to\u001b[49m\u001b[43m,\u001b[49m\n\u001b[0;32m    959\u001b[0m \u001b[43m    \u001b[49m\u001b[43moptions\u001b[49m\u001b[38;5;241;43m=\u001b[39;49m\u001b[43moptions\u001b[49m\u001b[43m,\u001b[49m\n\u001b[0;32m    960\u001b[0m \u001b[43m    \u001b[49m\u001b[43mstream\u001b[49m\u001b[38;5;241;43m=\u001b[39;49m\u001b[43mstream\u001b[49m\u001b[43m,\u001b[49m\n\u001b[0;32m    961\u001b[0m \u001b[43m    \u001b[49m\u001b[43mstream_cls\u001b[49m\u001b[38;5;241;43m=\u001b[39;49m\u001b[43mstream_cls\u001b[49m\u001b[43m,\u001b[49m\n\u001b[0;32m    962\u001b[0m \u001b[43m    \u001b[49m\u001b[43mretries_taken\u001b[49m\u001b[38;5;241;43m=\u001b[39;49m\u001b[43mretries_taken\u001b[49m\u001b[43m,\u001b[49m\n\u001b[0;32m    963\u001b[0m \u001b[43m\u001b[49m\u001b[43m)\u001b[49m\n",
      "File \u001b[1;32mc:\\Users\\Арман\\AppData\\Local\\Programs\\Python\\Python313\\Lib\\site-packages\\openai\\_base_client.py:1017\u001b[0m, in \u001b[0;36mSyncAPIClient._request\u001b[1;34m(self, cast_to, options, retries_taken, stream, stream_cls)\u001b[0m\n\u001b[0;32m   1014\u001b[0m log\u001b[38;5;241m.\u001b[39mdebug(\u001b[38;5;124m\"\u001b[39m\u001b[38;5;124mEncountered Exception\u001b[39m\u001b[38;5;124m\"\u001b[39m, exc_info\u001b[38;5;241m=\u001b[39m\u001b[38;5;28;01mTrue\u001b[39;00m)\n\u001b[0;32m   1016\u001b[0m \u001b[38;5;28;01mif\u001b[39;00m remaining_retries \u001b[38;5;241m>\u001b[39m \u001b[38;5;241m0\u001b[39m:\n\u001b[1;32m-> 1017\u001b[0m     \u001b[38;5;28;01mreturn\u001b[39;00m \u001b[38;5;28;43mself\u001b[39;49m\u001b[38;5;241;43m.\u001b[39;49m\u001b[43m_retry_request\u001b[49m\u001b[43m(\u001b[49m\n\u001b[0;32m   1018\u001b[0m \u001b[43m        \u001b[49m\u001b[43minput_options\u001b[49m\u001b[43m,\u001b[49m\n\u001b[0;32m   1019\u001b[0m \u001b[43m        \u001b[49m\u001b[43mcast_to\u001b[49m\u001b[43m,\u001b[49m\n\u001b[0;32m   1020\u001b[0m \u001b[43m        \u001b[49m\u001b[43mretries_taken\u001b[49m\u001b[38;5;241;43m=\u001b[39;49m\u001b[43mretries_taken\u001b[49m\u001b[43m,\u001b[49m\n\u001b[0;32m   1021\u001b[0m \u001b[43m        \u001b[49m\u001b[43mstream\u001b[49m\u001b[38;5;241;43m=\u001b[39;49m\u001b[43mstream\u001b[49m\u001b[43m,\u001b[49m\n\u001b[0;32m   1022\u001b[0m \u001b[43m        \u001b[49m\u001b[43mstream_cls\u001b[49m\u001b[38;5;241;43m=\u001b[39;49m\u001b[43mstream_cls\u001b[49m\u001b[43m,\u001b[49m\n\u001b[0;32m   1023\u001b[0m \u001b[43m        \u001b[49m\u001b[43mresponse_headers\u001b[49m\u001b[38;5;241;43m=\u001b[39;49m\u001b[38;5;28;43;01mNone\u001b[39;49;00m\u001b[43m,\u001b[49m\n\u001b[0;32m   1024\u001b[0m \u001b[43m    \u001b[49m\u001b[43m)\u001b[49m\n\u001b[0;32m   1026\u001b[0m log\u001b[38;5;241m.\u001b[39mdebug(\u001b[38;5;124m\"\u001b[39m\u001b[38;5;124mRaising connection error\u001b[39m\u001b[38;5;124m\"\u001b[39m)\n\u001b[0;32m   1027\u001b[0m \u001b[38;5;28;01mraise\u001b[39;00m APIConnectionError(request\u001b[38;5;241m=\u001b[39mrequest) \u001b[38;5;28;01mfrom\u001b[39;00m \u001b[38;5;21;01merr\u001b[39;00m\n",
      "File \u001b[1;32mc:\\Users\\Арман\\AppData\\Local\\Programs\\Python\\Python313\\Lib\\site-packages\\openai\\_base_client.py:1093\u001b[0m, in \u001b[0;36mSyncAPIClient._retry_request\u001b[1;34m(self, options, cast_to, retries_taken, response_headers, stream, stream_cls)\u001b[0m\n\u001b[0;32m   1089\u001b[0m log\u001b[38;5;241m.\u001b[39minfo(\u001b[38;5;124m\"\u001b[39m\u001b[38;5;124mRetrying request to \u001b[39m\u001b[38;5;132;01m%s\u001b[39;00m\u001b[38;5;124m in \u001b[39m\u001b[38;5;132;01m%f\u001b[39;00m\u001b[38;5;124m seconds\u001b[39m\u001b[38;5;124m\"\u001b[39m, options\u001b[38;5;241m.\u001b[39murl, timeout)\n\u001b[0;32m   1091\u001b[0m \u001b[38;5;66;03m# In a synchronous context we are blocking the entire thread. Up to the library user to run the client in a\u001b[39;00m\n\u001b[0;32m   1092\u001b[0m \u001b[38;5;66;03m# different thread if necessary.\u001b[39;00m\n\u001b[1;32m-> 1093\u001b[0m \u001b[43mtime\u001b[49m\u001b[38;5;241;43m.\u001b[39;49m\u001b[43msleep\u001b[49m\u001b[43m(\u001b[49m\u001b[43mtimeout\u001b[49m\u001b[43m)\u001b[49m\n\u001b[0;32m   1095\u001b[0m \u001b[38;5;28;01mreturn\u001b[39;00m \u001b[38;5;28mself\u001b[39m\u001b[38;5;241m.\u001b[39m_request(\n\u001b[0;32m   1096\u001b[0m     options\u001b[38;5;241m=\u001b[39moptions,\n\u001b[0;32m   1097\u001b[0m     cast_to\u001b[38;5;241m=\u001b[39mcast_to,\n\u001b[1;32m   (...)\u001b[0m\n\u001b[0;32m   1100\u001b[0m     stream_cls\u001b[38;5;241m=\u001b[39mstream_cls,\n\u001b[0;32m   1101\u001b[0m )\n",
      "\u001b[1;31mKeyboardInterrupt\u001b[0m: "
     ]
    }
   ],
   "source": [
    "for file_name in tqdm(file_names):\n",
    "    generate_ru_eng_cards_from_file(file_name)\n",
    "    print(check_file_accuracy(file_name))"
   ]
  },
  {
   "cell_type": "code",
   "execution_count": 162,
   "metadata": {},
   "outputs": [
    {
     "data": {
      "text/plain": [
       "['sm1_new_kap8.json', 'sm1_new_kap9.json']"
      ]
     },
     "execution_count": 162,
     "metadata": {},
     "output_type": "execute_result"
    }
   ],
   "source": [
    "file_names[-2:]"
   ]
  },
  {
   "cell_type": "code",
   "execution_count": 163,
   "metadata": {},
   "outputs": [
    {
     "data": {
      "application/vnd.jupyter.widget-view+json": {
       "model_id": "f3394f5737ab4099855589fdce0e6f6b",
       "version_major": 2,
       "version_minor": 0
      },
      "text/plain": [
       "  0%|          | 0/2 [00:00<?, ?it/s]"
      ]
     },
     "metadata": {},
     "output_type": "display_data"
    },
    {
     "data": {
      "application/vnd.jupyter.widget-view+json": {
       "model_id": "f1c135a9799b4df993437131448ba3b3",
       "version_major": 2,
       "version_minor": 0
      },
      "text/plain": [
       "  0%|          | 0/260 [00:00<?, ?it/s]"
      ]
     },
     "metadata": {},
     "output_type": "display_data"
    },
    {
     "name": "stdout",
     "output_type": "stream",
     "text": [
      "0.9923076923076923\n"
     ]
    },
    {
     "data": {
      "application/vnd.jupyter.widget-view+json": {
       "model_id": "2c78a4529b064e25ac1b6e31326da9b6",
       "version_major": 2,
       "version_minor": 0
      },
      "text/plain": [
       "  0%|          | 0/226 [00:00<?, ?it/s]"
      ]
     },
     "metadata": {},
     "output_type": "display_data"
    },
    {
     "name": "stdout",
     "output_type": "stream",
     "text": [
      "0.9734513274336283\n"
     ]
    }
   ],
   "source": [
    "for file_name in tqdm(file_names[-2:]):\n",
    "    generate_ru_eng_cards_from_file(file_name)\n",
    "    print(check_file_accuracy(file_name))"
   ]
  },
  {
   "cell_type": "code",
   "execution_count": 164,
   "metadata": {},
   "outputs": [],
   "source": [
    "second_chapter = [f'sm2_new_kap{i}.json' for i in range(1, 9)]"
   ]
  },
  {
   "cell_type": "code",
   "execution_count": 165,
   "metadata": {},
   "outputs": [
    {
     "data": {
      "application/vnd.jupyter.widget-view+json": {
       "model_id": "90257d6ffd934938b8455ab7e3e656a6",
       "version_major": 2,
       "version_minor": 0
      },
      "text/plain": [
       "  0%|          | 0/8 [00:00<?, ?it/s]"
      ]
     },
     "metadata": {},
     "output_type": "display_data"
    },
    {
     "data": {
      "application/vnd.jupyter.widget-view+json": {
       "model_id": "8a85accfa3f24a96afd63b32ec38fe43",
       "version_major": 2,
       "version_minor": 0
      },
      "text/plain": [
       "  0%|          | 0/239 [00:00<?, ?it/s]"
      ]
     },
     "metadata": {},
     "output_type": "display_data"
    },
    {
     "name": "stdout",
     "output_type": "stream",
     "text": [
      "0.9790794979079498\n"
     ]
    },
    {
     "data": {
      "application/vnd.jupyter.widget-view+json": {
       "model_id": "27866da97d3041279b4dbc7e09c67ed8",
       "version_major": 2,
       "version_minor": 0
      },
      "text/plain": [
       "  0%|          | 0/195 [00:00<?, ?it/s]"
      ]
     },
     "metadata": {},
     "output_type": "display_data"
    },
    {
     "name": "stdout",
     "output_type": "stream",
     "text": [
      "0.9794871794871794\n"
     ]
    },
    {
     "data": {
      "application/vnd.jupyter.widget-view+json": {
       "model_id": "87c867b046954893a8ab15fc2df9c43d",
       "version_major": 2,
       "version_minor": 0
      },
      "text/plain": [
       "  0%|          | 0/217 [00:00<?, ?it/s]"
      ]
     },
     "metadata": {},
     "output_type": "display_data"
    },
    {
     "name": "stdout",
     "output_type": "stream",
     "text": [
      "0.9769585253456221\n"
     ]
    },
    {
     "data": {
      "application/vnd.jupyter.widget-view+json": {
       "model_id": "85fe0c93c949473fa8b21eb2ab71bc92",
       "version_major": 2,
       "version_minor": 0
      },
      "text/plain": [
       "  0%|          | 0/298 [00:00<?, ?it/s]"
      ]
     },
     "metadata": {},
     "output_type": "display_data"
    },
    {
     "name": "stdout",
     "output_type": "stream",
     "text": [
      "0.9932885906040269\n"
     ]
    },
    {
     "data": {
      "application/vnd.jupyter.widget-view+json": {
       "model_id": "c88d74075d254bd8be1812cd97667eb1",
       "version_major": 2,
       "version_minor": 0
      },
      "text/plain": [
       "  0%|          | 0/233 [00:00<?, ?it/s]"
      ]
     },
     "metadata": {},
     "output_type": "display_data"
    },
    {
     "name": "stdout",
     "output_type": "stream",
     "text": [
      "0.9613733905579399\n"
     ]
    },
    {
     "data": {
      "application/vnd.jupyter.widget-view+json": {
       "model_id": "ad44310744b54d1e93670fb6eaa93c09",
       "version_major": 2,
       "version_minor": 0
      },
      "text/plain": [
       "  0%|          | 0/206 [00:00<?, ?it/s]"
      ]
     },
     "metadata": {},
     "output_type": "display_data"
    },
    {
     "name": "stdout",
     "output_type": "stream",
     "text": [
      "0.9805825242718447\n"
     ]
    },
    {
     "data": {
      "application/vnd.jupyter.widget-view+json": {
       "model_id": "17e1bccd2e624d188e2e19b4baf1d79b",
       "version_major": 2,
       "version_minor": 0
      },
      "text/plain": [
       "  0%|          | 0/237 [00:00<?, ?it/s]"
      ]
     },
     "metadata": {},
     "output_type": "display_data"
    },
    {
     "name": "stdout",
     "output_type": "stream",
     "text": [
      "0.9831223628691983\n"
     ]
    },
    {
     "data": {
      "application/vnd.jupyter.widget-view+json": {
       "model_id": "6554c1c5680d4fb187e77c4629ac02e2",
       "version_major": 2,
       "version_minor": 0
      },
      "text/plain": [
       "  0%|          | 0/194 [00:00<?, ?it/s]"
      ]
     },
     "metadata": {},
     "output_type": "display_data"
    },
    {
     "name": "stdout",
     "output_type": "stream",
     "text": [
      "0.9948453608247423\n"
     ]
    }
   ],
   "source": [
    "for file_name in tqdm(second_chapter):\n",
    "    generate_ru_eng_cards_from_file(file_name)\n",
    "    print(check_file_accuracy(file_name))"
   ]
  },
  {
   "cell_type": "code",
   "execution_count": 18,
   "metadata": {},
   "outputs": [],
   "source": [
    "sm2_last_file = 'sm2_new_puhekieli.json'"
   ]
  },
  {
   "cell_type": "code",
   "execution_count": 21,
   "metadata": {},
   "outputs": [
    {
     "data": {
      "application/vnd.jupyter.widget-view+json": {
       "model_id": "fe23d130efc04424aeb0076f87b6eafc",
       "version_major": 2,
       "version_minor": 0
      },
      "text/plain": [
       "  0%|          | 0/110 [00:00<?, ?it/s]"
      ]
     },
     "metadata": {},
     "output_type": "display_data"
    },
    {
     "name": "stdout",
     "output_type": "stream",
     "text": [
      "0.9818181818181818\n"
     ]
    }
   ],
   "source": [
    "generate_ru_eng_cards_from_file(sm2_last_file)\n",
    "print(check_file_accuracy(sm2_last_file))"
   ]
  },
  {
   "cell_type": "code",
   "execution_count": 19,
   "metadata": {},
   "outputs": [],
   "source": [
    "third_chapter = [f'sm3_kap{i}.json' for i in range(1, 9)]"
   ]
  },
  {
   "cell_type": "code",
   "execution_count": 20,
   "metadata": {},
   "outputs": [
    {
     "data": {
      "text/plain": [
       "'sm3_kap1.json'"
      ]
     },
     "execution_count": 20,
     "metadata": {},
     "output_type": "execute_result"
    }
   ],
   "source": [
    "third_chapter[0]"
   ]
  },
  {
   "cell_type": "code",
   "execution_count": 22,
   "metadata": {},
   "outputs": [
    {
     "data": {
      "application/vnd.jupyter.widget-view+json": {
       "model_id": "46af32ddd7ea4fc8909bb61a72226325",
       "version_major": 2,
       "version_minor": 0
      },
      "text/plain": [
       "  0%|          | 0/8 [00:00<?, ?it/s]"
      ]
     },
     "metadata": {},
     "output_type": "display_data"
    },
    {
     "data": {
      "application/vnd.jupyter.widget-view+json": {
       "model_id": "431b3fbdb9e44fc3879d5525c642fbe9",
       "version_major": 2,
       "version_minor": 0
      },
      "text/plain": [
       "  0%|          | 0/157 [00:00<?, ?it/s]"
      ]
     },
     "metadata": {},
     "output_type": "display_data"
    },
    {
     "name": "stdout",
     "output_type": "stream",
     "text": [
      "0.9872611464968153\n"
     ]
    },
    {
     "data": {
      "application/vnd.jupyter.widget-view+json": {
       "model_id": "130851da5ae34b998a8a95709ded928a",
       "version_major": 2,
       "version_minor": 0
      },
      "text/plain": [
       "  0%|          | 0/208 [00:00<?, ?it/s]"
      ]
     },
     "metadata": {},
     "output_type": "display_data"
    },
    {
     "name": "stdout",
     "output_type": "stream",
     "text": [
      "0.9759615384615384\n"
     ]
    },
    {
     "data": {
      "application/vnd.jupyter.widget-view+json": {
       "model_id": "914a67c903f142b7aa2aebd0eae7142a",
       "version_major": 2,
       "version_minor": 0
      },
      "text/plain": [
       "  0%|          | 0/150 [00:00<?, ?it/s]"
      ]
     },
     "metadata": {},
     "output_type": "display_data"
    },
    {
     "name": "stdout",
     "output_type": "stream",
     "text": [
      "0.9933333333333333\n"
     ]
    },
    {
     "data": {
      "application/vnd.jupyter.widget-view+json": {
       "model_id": "4860c50cae6a4eaaa531b6abb61c18ce",
       "version_major": 2,
       "version_minor": 0
      },
      "text/plain": [
       "  0%|          | 0/144 [00:00<?, ?it/s]"
      ]
     },
     "metadata": {},
     "output_type": "display_data"
    },
    {
     "name": "stdout",
     "output_type": "stream",
     "text": [
      "0.9791666666666666\n"
     ]
    },
    {
     "data": {
      "application/vnd.jupyter.widget-view+json": {
       "model_id": "ecd6a2eb82dd46279a106354929ede2a",
       "version_major": 2,
       "version_minor": 0
      },
      "text/plain": [
       "  0%|          | 0/158 [00:00<?, ?it/s]"
      ]
     },
     "metadata": {},
     "output_type": "display_data"
    },
    {
     "name": "stdout",
     "output_type": "stream",
     "text": [
      "0.9936708860759493\n"
     ]
    },
    {
     "data": {
      "application/vnd.jupyter.widget-view+json": {
       "model_id": "cdf550d29a304f739043b50e61b656c6",
       "version_major": 2,
       "version_minor": 0
      },
      "text/plain": [
       "  0%|          | 0/221 [00:00<?, ?it/s]"
      ]
     },
     "metadata": {},
     "output_type": "display_data"
    },
    {
     "name": "stdout",
     "output_type": "stream",
     "text": [
      "0.9773755656108597\n"
     ]
    },
    {
     "data": {
      "application/vnd.jupyter.widget-view+json": {
       "model_id": "1d35922184af4ab6b45560b858e6058d",
       "version_major": 2,
       "version_minor": 0
      },
      "text/plain": [
       "  0%|          | 0/177 [00:00<?, ?it/s]"
      ]
     },
     "metadata": {},
     "output_type": "display_data"
    },
    {
     "name": "stdout",
     "output_type": "stream",
     "text": [
      "0.9943502824858758\n"
     ]
    },
    {
     "data": {
      "application/vnd.jupyter.widget-view+json": {
       "model_id": "1ae27b2d834f490b8f71fb565da1d3a0",
       "version_major": 2,
       "version_minor": 0
      },
      "text/plain": [
       "  0%|          | 0/240 [00:00<?, ?it/s]"
      ]
     },
     "metadata": {},
     "output_type": "display_data"
    },
    {
     "name": "stdout",
     "output_type": "stream",
     "text": [
      "0.9708333333333333\n"
     ]
    }
   ],
   "source": [
    "for file_name in tqdm(third_chapter):\n",
    "    generate_ru_eng_cards_from_file(file_name)\n",
    "    print(check_file_accuracy(file_name))"
   ]
  },
  {
   "cell_type": "code",
   "execution_count": 166,
   "metadata": {},
   "outputs": [],
   "source": [
    "tmp_ru_eng = get_ru_eng_cards_from_file(second_chapter[4])\n",
    "tmp_evals = get_eval_results_from_file(second_chapter[4])\n",
    "tmp_ru_finn = get_ru_finn_cards_from_file(second_chapter[4])"
   ]
  },
  {
   "cell_type": "code",
   "execution_count": 167,
   "metadata": {},
   "outputs": [
    {
     "data": {
      "text/plain": [
       "(233, 233, 233)"
      ]
     },
     "execution_count": 167,
     "metadata": {},
     "output_type": "execute_result"
    }
   ],
   "source": [
    "len(tmp_ru_finn), len(tmp_evals), len(tmp_ru_eng)"
   ]
  },
  {
   "cell_type": "code",
   "execution_count": 168,
   "metadata": {},
   "outputs": [
    {
     "data": {
      "text/plain": [
       "[]"
      ]
     },
     "execution_count": 168,
     "metadata": {},
     "output_type": "execute_result"
    }
   ],
   "source": [
    "ids = [card['id'] for card in tmp_ru_eng]\n",
    "bad = [card for card in tmp_ru_finn if card['id'] not in ids]\n",
    "bad"
   ]
  },
  {
   "cell_type": "code",
   "execution_count": 169,
   "metadata": {},
   "outputs": [],
   "source": [
    "bad_cards = []\n",
    "\n",
    "for ru_finn, eval in list(zip(tmp_ru_finn, tmp_evals)):\n",
    "    is_phrase_card = (ru_finn['sentenceFirstLang'] == '')\n",
    "\n",
    "    if not check_eval(eval, is_phrase_card):\n",
    "        bad_cards.append(ru_finn)"
   ]
  },
  {
   "cell_type": "code",
   "execution_count": 170,
   "metadata": {},
   "outputs": [
    {
     "name": "stdout",
     "output_type": "stream",
     "text": [
      "{'wordFirstLang': 'то есть', 'sentenceFirstLang': 'Моё имя Анна, то есть я Анна.', 'wordSecondLang': 'in other words', 'sentenceSecondLang': 'My name is Anna, or in other words, I am Anna.', 'id': 4013}\n",
      "{'englishSentenceCorrectness': {'isCorrect': True, 'explanation': 'The English sentence is grammatically correct and sounds natural.', 'suggestedFix': None}, 'wordUsage': {'isCorrect': True, 'explanation': \"The word 'in other words' is used correctly within the sentence to restate the name.\", 'suggestedFixSentence': None, 'suggestedFixWord': None}, 'wordTranslationAccuracy': {'isCorrect': True, 'explanation': \"The phrase 'то есть' in Russian and 'eli' in Finnish accurately translate to 'in other words' in English.\", 'suggestedFix': None}, 'sentenceTranslationAccuracy': {'isCorrect': True, 'explanation': 'The English translation of the sentence maintains the same meaning as the original Russian and Finnish sentences.', 'suggestedFix': None}, 'id': 4013}\n",
      "===================\n",
      "{'wordFirstLang': 'вы не прочитали', 'sentenceFirstLang': 'Почему вы не прочитали своё домашнее задание?', 'wordSecondLang': 'done', 'sentenceSecondLang': \"Why haven't you done your homework?\", 'id': 4046}\n",
      "{'englishSentenceCorrectness': {'isCorrect': True, 'explanation': \"The English sentence 'Why haven't you done your homework?' is grammatically correct and natural.\", 'suggestedFix': None}, 'wordUsage': {'isCorrect': False, 'explanation': \"The English word 'done' does not accurately reflect the meaning of the Russian 'вы не прочитали' or the Finnish 'te ette oo lukenu,' which both mean 'you have not read'.\", 'suggestedFixSentence': \"Why haven't you read your homework?\", 'suggestedFixWord': 'read'}, 'wordTranslationAccuracy': {'isCorrect': False, 'explanation': \"The word 'вы не прочитали' in Russian and 'te ette oo lukenu' in Finnish both translate to 'you have not read' in English. The provided word 'done' is incorrect.\", 'suggestedFix': 'read'}, 'sentenceTranslationAccuracy': {'isCorrect': False, 'explanation': \"The correct translation of the sentence 'Почему вы не прочитали своё домашнее задание?' from Russian and 'Miksi te ette oo lukenu läksyjään?' from Finnish is 'Why haven't you read your homework?' The provided translation 'Why haven't you done your homework?' is not accurate.\", 'suggestedFix': \"Why haven't you read your homework?\"}, 'id': 4046}\n",
      "===================\n",
      "{'wordFirstLang': 'они не прочитали', 'sentenceFirstLang': 'Всегда помни, что нужно сообщать учителю, если они не прочитали своё домашнее задание.', 'wordSecondLang': 'done', 'sentenceSecondLang': 'Always remember to inform the teacher if they have not done their homework.', 'id': 4047}\n",
      "{'englishSentenceCorrectness': {'isCorrect': True, 'explanation': 'The English sentence is grammatically correct and natural. It clearly conveys the intended meaning.', 'suggestedFix': None}, 'wordUsage': {'isCorrect': False, 'explanation': \"The provided English word 'done' does not accurately reflect the meaning of the Russian and Finnish phrases, which translate to 'have not read'. The word 'done' implies completion rather than specifically reading homework.\", 'suggestedFixSentence': 'Always remember to inform the teacher if they have not read their homework.', 'suggestedFixWord': 'read'}, 'wordTranslationAccuracy': {'isCorrect': False, 'explanation': \"The English word 'done' is not an accurate translation of the Russian 'они не прочитали' or the Finnish 'ne ei oo lukenu', which both mean 'they have not read'.\", 'suggestedFix': 'read'}, 'sentenceTranslationAccuracy': {'isCorrect': False, 'explanation': \"The English sentence 'Always remember to inform the teacher if they have not done their homework' inaccurately translates the Russian and Finnish sentences. Both original sentences specify that the homework has not been 'read', not just 'done'.\", 'suggestedFix': 'Always remember to inform the teacher if they have not read their homework.'}, 'id': 4047}\n",
      "===================\n",
      "{'wordFirstLang': 'какой-нибудь', 'sentenceFirstLang': 'Можешь дать мне какой-нибудь пример?', 'wordSecondLang': 'an', 'sentenceSecondLang': 'Can you give me an example?', 'id': 4089}\n",
      "{'englishSentenceCorrectness': {'isCorrect': True, 'explanation': \"The English sentence 'Can you give me an example?' is grammatically correct and sounds natural.\", 'suggestedFix': None}, 'wordUsage': {'isCorrect': True, 'explanation': \"The English word 'an' is correctly used in the sentence 'Can you give me an example?' since it appropriately precedes a word starting with a vowel sound (example).\", 'suggestedFixSentence': None, 'suggestedFixWord': None}, 'wordTranslationAccuracy': {'isCorrect': False, 'explanation': \"The translation of 'какой-нибудь' and 'jonkin' should be 'any' rather than 'an'. The word 'an' doesn't capture the meaning of 'какой-нибудь' or 'jonkin' which indicates 'any' or 'some'.\", 'suggestedFix': \"The correct translation for the word should be 'any'.\"}, 'sentenceTranslationAccuracy': {'isCorrect': True, 'explanation': \"Despite the translation issue with the word, the sentence 'Can you give me an example?' correctly conveys the meaning of the original Russian and Finnish sentences. 'Any' (какой-нибудь/jonkin) example can naturally be translated to 'an example' in this context.\", 'suggestedFix': None}, 'id': 4089}\n",
      "===================\n",
      "{'wordFirstLang': 'какой-нибудь', 'sentenceFirstLang': 'Могли бы вы рассказать, как мне добраться до какого-нибудь ближайшего продуктового магазина?', 'wordSecondLang': 'nearest', 'sentenceSecondLang': 'Could you tell me how to get to the nearest grocery store?', 'id': 4090}\n",
      "{'englishSentenceCorrectness': {'isCorrect': True, 'explanation': \"The English sentence 'Could you tell me how to get to the nearest grocery store?' is grammatically correct and natural.\", 'suggestedFix': None}, 'wordUsage': {'isCorrect': False, 'explanation': \"The word 'nearest' in English means the closest in distance. However, the Russian and Finnish words 'какой-нибудь' and 'johonkin (jonnekin)' mean 'some' or 'any'. Therefore, 'nearest' is not the correct translation here.\", 'suggestedFixSentence': 'Could you tell me how to get to any grocery store nearby?', 'suggestedFixWord': 'any'}, 'wordTranslationAccuracy': {'isCorrect': False, 'explanation': \"The English word 'nearest' is not a correct translation of the Russian word 'какой-нибудь' and the Finnish word 'johonkin (jonnekin)', which mean 'some' or 'any'.\", 'suggestedFix': 'any'}, 'sentenceTranslationAccuracy': {'isCorrect': False, 'explanation': \"The phrase 'nearest grocery store' does not accurately capture the meaning of 'какого-нибудь ближайшего продуктового магазина' and 'johonkin lähimpään ruokakauppaan', which imply 'any nearby grocery store'.\", 'suggestedFix': 'Could you tell me how to get to any grocery store nearby?'}, 'id': 4090}\n",
      "===================\n",
      "{'wordFirstLang': 'откуда-нибудь, о какой-нибудь', 'sentenceFirstLang': 'Мог бы ты рассказать мне о какой-нибудь интересной книге?', 'wordSecondLang': 'an', 'sentenceSecondLang': 'Could you tell me about an interesting book?', 'id': 4092}\n",
      "{'englishSentenceCorrectness': {'isCorrect': True, 'explanation': \"The sentence 'Could you tell me about an interesting book?' is grammatically correct and sounds natural in English. It successfully conveys the intended meaning.\", 'suggestedFix': None}, 'wordUsage': {'isCorrect': True, 'explanation': \"The word 'an' is used correctly in the sentence 'Could you tell me about an interesting book?'. It fits naturally before the word 'interesting' and indicates that the speaker is asking about any interesting book.\", 'suggestedFixSentence': None, 'suggestedFixWord': None}, 'wordTranslationAccuracy': {'isCorrect': False, 'explanation': \"The English translation for 'откуда-нибудь' and 'jostakin' should be 'from somewhere' or 'from anywhere'. The translated word 'an' doesn't accurately represent the original meanings.\", 'suggestedFix': \"A more accurate translation for the word would be 'from somewhere' or 'from anywhere'.\"}, 'sentenceTranslationAccuracy': {'isCorrect': True, 'explanation': \"The sentence 'Could you tell me about an interesting book?' accurately translates the meaning of the Russian and Finnish sentences into English. Despite the inaccuracy with the individual word, the overall sentence meaning is conveyed correctly.\", 'suggestedFix': None}, 'id': 4092}\n",
      "===================\n",
      "{'wordFirstLang': 'никакого, никакой', 'sentenceFirstLang': 'Трусы не имеют для меня никакой ценности.', 'wordSecondLang': 'worth', 'sentenceSecondLang': 'Cowards hold no worth for me.', 'id': 4120}\n",
      "{'englishSentenceCorrectness': {'isCorrect': True, 'explanation': \"The English sentence 'Cowards hold no worth for me.' is grammatically correct and natural.\", 'suggestedFix': None}, 'wordUsage': {'isCorrect': True, 'explanation': \"The usage of the word 'worth' in the sentence 'Cowards hold no worth for me.' is correct and makes sense in this context.\", 'suggestedFixSentence': None, 'suggestedFixWord': None}, 'wordTranslationAccuracy': {'isCorrect': False, 'explanation': \"The translation of the word 'никакого, никакой' from Russian and 'millekään' from Finnish to 'worth' in English is not entirely accurate. The more accurate translation would be 'no' or 'none' to convey the intended meaning.\", 'suggestedFix': 'no'}, 'sentenceTranslationAccuracy': {'isCorrect': False, 'explanation': \"The English sentence 'Cowards hold no worth for me.' is a good sentence, but it does not accurately reflect the translations from Russian and Finnish. A more accurate translation from Russian would be 'Underwear holds no value for me.' and from Finnish, it would be 'I hold no value for any cowards.'\", 'suggestedFix': 'Underwear holds no value for me. / I hold no value for any cowards.'}, 'id': 4120}\n",
      "===================\n",
      "{'wordFirstLang': 'никак', 'sentenceFirstLang': 'Я никак не могу найти свои ключи.', 'wordSecondLang': 'not at all / by no means', 'sentenceSecondLang': \"I can't find my keys at all.\", 'id': 4121}\n",
      "{'englishSentenceCorrectness': {'isCorrect': True, 'explanation': \"The English sentence 'I can't find my keys at all.' is grammatically correct and sounds natural.\", 'suggestedFix': None}, 'wordUsage': {'isCorrect': True, 'explanation': \"The word 'not at all' or 'by no means' in the provided English sentence corresponds to 'at all,' which is used correctly in the context.\", 'suggestedFixSentence': None, 'suggestedFixWord': None}, 'wordTranslationAccuracy': {'isCorrect': True, 'explanation': \"The English translation of the word 'никак' and 'millään' to 'not at all / by no means' is accurate.\", 'suggestedFix': None}, 'sentenceTranslationAccuracy': {'isCorrect': True, 'explanation': \"The English sentence 'I can't find my keys at all.' accurately translates the meaning of both the Russian sentence 'Я никак не могу найти свои ключи.' and the Finnish sentence 'En löydä avaimiani millään.'\", 'suggestedFix': None}, 'id': 4121}\n",
      "===================\n",
      "{'wordFirstLang': 'от чего-либо, ничего', 'sentenceFirstLang': 'Не чувствуется ничего.', 'wordSecondLang': 'anything', 'sentenceSecondLang': \"You don't feel anything.\", 'id': 4122}\n",
      "{'englishSentenceCorrectness': {'isCorrect': True, 'explanation': \"The English sentence 'You don't feel anything.' is grammatically correct and conveys a natural meaning.\", 'suggestedFix': None}, 'wordUsage': {'isCorrect': True, 'explanation': \"The word 'anything' is used correctly in the English sentence. It accurately represents the concept of 'ничего' in Russian and 'miltään' in Finnish within the given context.\", 'suggestedFixSentence': None, 'suggestedFixWord': None}, 'wordTranslationAccuracy': {'isCorrect': True, 'explanation': \"The translation of the word 'ничего' from Russian and 'miltään' from Finnish to 'anything' in English is accurate. 'Anything' correctly captures the intended meaning of 'ничего' (nothing) and 'miltään' (of anything).\", 'suggestedFix': None}, 'sentenceTranslationAccuracy': {'isCorrect': True, 'explanation': \"The English sentence 'You don't feel anything.' is an accurate translation of the Russian sentence 'Не чувствуется ничего.' and the Finnish sentence 'Ei tunnu miltään.' It correctly conveys the sense of feeling nothing, which is the intended meaning.\", 'suggestedFix': None}, 'id': 4122}\n",
      "===================\n"
     ]
    }
   ],
   "source": [
    "for ru_finn, eval in list(zip(tmp_ru_finn, tmp_evals)):\n",
    "    is_phrase_card = (ru_finn['sentenceFirstLang'] == '')\n",
    "\n",
    "    if not check_eval(eval, is_phrase_card):\n",
    "        card, eval = card_handler(ru_finn)\n",
    "        print(card)\n",
    "        print(eval)\n",
    "        print('===================')"
   ]
  },
  {
   "cell_type": "code",
   "execution_count": 129,
   "metadata": {},
   "outputs": [
    {
     "name": "stdout",
     "output_type": "stream",
     "text": [
      "magic is abra kadabra\n"
     ]
    }
   ],
   "source": [
    "lol = \"abra kadabra\"\n",
    "print(f'magic is {lol}')"
   ]
  },
  {
   "cell_type": "code",
   "execution_count": 14,
   "metadata": {},
   "outputs": [],
   "source": [
    "def regressor(ru_finn_card, ru_eng_cards, n_models=3, model=GPT_4o):\n",
    "    ru_word, ru_sentence, finn_word, finn_sentence, card_id = ru_finn_card.values()\n",
    "\n",
    "    tr_words = [card['wordSecondLang'] for card in ru_eng_cards]\n",
    "    tr_sentences = [card['sentenceSecondLang'] for card in ru_eng_cards]\n",
    "\n",
    "    models_response = ''\n",
    "    for i in range(n_models):\n",
    "        models_response += f\"\"\"{i + 1}. `Model {i + 1}` Response: {{ \"englishWord\": '{tr_words[i]}', \"englishSentence\": '{tr_sentences[i]}'}}\\n\"\"\"\n",
    "\n",
    "    system_prompt = '''You are a multilingual assistant who is proficient in Russian, Finnish and English.'''\n",
    "\n",
    "    user_prompt = f\"\"\"\n",
    "**Instruction for the Regressor**:  \n",
    "Evaluate the translations provided by different models for a given Russian word or phrase and its accompanying sentence. Select or synthesize the best English translation for the word and sentence based on:\n",
    "1. **Accuracy**: Ensure the translation reflects the original Russian meaning correctly.\n",
    "2. **Naturalness**: The English translations should be fluid and use appropriate synonyms or phrasing where needed.\n",
    "3. **Consistency**: The translated sentence should appropriately incorporate the word's translation.\n",
    "\n",
    "### Input:\n",
    "Given word or phrase (Russian): '{ru_word}'  \n",
    "Given word or phrase (Finnish): '{finn_word}'  \n",
    "\n",
    "Given sentence (Russian): '{ru_sentence}'  \n",
    "Given sentence (Finnish): '{finn_sentence}'  \n",
    "\n",
    "Responses from models:\n",
    "{models_response}\n",
    "\n",
    "---\n",
    "\n",
    "### Task:\n",
    "Critically evaluate these responses, identify the best translations, and synthesize a single, high-quality translation. If needed, refine the translations to ensure accuracy and naturalness. Do not simply copy; improve where necessary.\n",
    "\n",
    "### Response structure:\n",
    "Respond in JSON format with the following structure:\n",
    "{{\n",
    "    \"englishWord\": \"Best translated word in English\",\n",
    "    \"englishSentence\": \"Best translated sentence in English\"\n",
    "}}\n",
    "\n",
    "---\n",
    "\n",
    "### Key Considerations for Evaluation:\n",
    "- **Accuracy**: Does the translation reflect the original meaning and nuances in Russian?\n",
    "- **Fluency**: Is the translation grammatically correct and natural in English?\n",
    "- **Contextual Fit**: Does the sentence correctly integrate the translation of the word or phrase?\n",
    "    \"\"\"\n",
    "\n",
    "    response = client.chat.completions.create(\n",
    "        model=model,\n",
    "        response_format={ \"type\": \"json_object\" },\n",
    "        messages=[\n",
    "        {\"role\": \"system\", \"content\": system_prompt.strip()},\n",
    "        {\"role\": \"user\", \"content\": user_prompt.strip()}\n",
    "        ]\n",
    "    )\n",
    "    \n",
    "    response_dict = json.loads(response.choices[0].message.content.strip())\n",
    "    tr_word = response_dict['englishWord']\n",
    "    tr_sentence = response_dict['englishSentence']\n",
    "\n",
    "    card = {}\n",
    "    card[\"wordFirstLang\"] = ru_word\n",
    "    card[\"sentenceFirstLang\"] = ru_sentence\n",
    "    card[\"wordSecondLang\"] = tr_word.strip()\n",
    "    card[\"sentenceSecondLang\"] = tr_sentence.strip()\n",
    "    card[\"id\"] = card_id\n",
    "\n",
    "    return card"
   ]
  },
  {
   "cell_type": "code",
   "execution_count": 15,
   "metadata": {},
   "outputs": [],
   "source": [
    "def meaxture_of_agents(ru_finn_card, n_models=3):\n",
    "    is_phrase_card = (ru_finn_card['sentenceFirstLang'] == '')\n",
    "\n",
    "    ru_eng_cards = []\n",
    "    for _ in range(n_models):\n",
    "        ru_eng_card = {}\n",
    "\n",
    "        if is_phrase_card:\n",
    "            ru_eng_card = generate_ru_eng_phrase_card(ru_finn_card)\n",
    "        else:\n",
    "            ru_eng_card = generate_ru_eng_full_card(ru_finn_card)\n",
    "\n",
    "        ru_eng_cards.append(ru_eng_card)\n",
    "\n",
    "    card = regressor(ru_finn_card, ru_eng_cards, n_models)\n",
    "\n",
    "    return card\n",
    "\n",
    "    #eval_result = {}\n",
    "\n",
    "    #if is_phrase_card:\n",
    "    #    eval_result = eval_phrase_card(ru_finn_card, ru_eng_card)\n",
    "    #else:\n",
    "    #    eval_result = eval_full_card(ru_finn_card, ru_eng_card)"
   ]
  },
  {
   "cell_type": "code",
   "execution_count": 16,
   "metadata": {},
   "outputs": [],
   "source": [
    "def moa_and_eval(ru_finn_card):\n",
    "    ru_eng_card = meaxture_of_agents(ru_finn_card)\n",
    "    is_phrase_card = (ru_finn_card['sentenceFirstLang'] == '')\n",
    "\n",
    "    assert(ru_finn_card['id'] == ru_eng_card['id'])\n",
    "\n",
    "    eval_res = {}\n",
    "    if is_phrase_card:\n",
    "        eval_res = eval_phrase_card(ru_finn_card, ru_eng_card)\n",
    "    else:\n",
    "        eval_res = eval_full_card(ru_finn_card, ru_eng_card)\n",
    "\n",
    "    return ru_eng_card, eval_res"
   ]
  },
  {
   "cell_type": "code",
   "execution_count": 120,
   "metadata": {},
   "outputs": [
    {
     "data": {
      "text/plain": [
       "{'wordFirstLang': 'мы с удовольствием',\n",
       " 'sentenceFirstLang': 'Мы были рады вас пригласить.',\n",
       " 'wordSecondLang': 'mielellämme',\n",
       " 'sentenceSecondLang': 'Kutsuimme teidät mielellämme.',\n",
       " 'id': 2272}"
      ]
     },
     "execution_count": 120,
     "metadata": {},
     "output_type": "execute_result"
    }
   ],
   "source": [
    "bad_cards[0]"
   ]
  },
  {
   "cell_type": "code",
   "execution_count": 146,
   "metadata": {},
   "outputs": [
    {
     "data": {
      "text/plain": [
       "({'wordFirstLang': 'купаться',\n",
       "  'sentenceFirstLang': 'Летом я люблю купаться в озере.',\n",
       "  'wordSecondLang': 'to swim',\n",
       "  'sentenceSecondLang': 'In the summer, I love to swim in the lake.',\n",
       "  'id': 1556},\n",
       " {'englishSentenceCorrectness': {'isCorrect': True,\n",
       "   'explanation': \"The English sentence 'In the summer, I love to swim in the lake' is grammatically correct and natural. It uses proper syntax and conveys the intended meaning clearly.\",\n",
       "   'suggestedFix': None},\n",
       "  'wordUsage': {'isCorrect': False,\n",
       "   'explanation': \"The word 'to swim' in English does not accurately convey the meaning of the Russian 'купаться' and Finnish 'kylpeä', which more closely align with 'to bathe' in this context. Both Russian and Finnish words imply the action of bathing rather than swimming.\",\n",
       "   'suggestedFixSentence': 'In the summer, I love to bathe in the lake.',\n",
       "   'suggestedFixWord': 'to bathe'},\n",
       "  'wordTranslationAccuracy': {'isCorrect': False,\n",
       "   'explanation': \"The English translation 'to swim' does not fully capture the nuance of the Russian 'купаться' and Finnish 'kylpeä'. A more accurate translation would be 'to bathe', especially considering the context of the sentence (bathing in a lake in summer).\",\n",
       "   'suggestedFix': 'to bathe'},\n",
       "  'sentenceTranslationAccuracy': {'isCorrect': False,\n",
       "   'explanation': \"Although 'In the summer, I love to swim in the lake' is a grammatically correct sentence, it does not accurately reflect the meaning of the Russian 'Летом я люблю купаться в озере' and Finnish 'Kesällä tykkään kylpeä järvessä', which imply bathing rather than swimming.\",\n",
       "   'suggestedFix': 'In the summer, I love to bathe in the lake.'},\n",
       "  'id': 1556})"
      ]
     },
     "execution_count": 146,
     "metadata": {},
     "output_type": "execute_result"
    }
   ],
   "source": [
    "moa_and_eval(bad_cards[4])"
   ]
  },
  {
   "cell_type": "code",
   "execution_count": 17,
   "metadata": {},
   "outputs": [],
   "source": [
    "def meaxture_of_improving_agents(ru_finn_card, ru_eng_card, eval_result, n_models=3):\n",
    "    is_phrase_card = (ru_finn_card['sentenceFirstLang'] == '')\n",
    "\n",
    "    improved_cards = []\n",
    "    for _ in range(n_models):\n",
    "        improved_ru_eng_card = {}\n",
    "\n",
    "        if is_phrase_card:\n",
    "            improved_ru_eng_card = improve_ru_eng_phrase_card(ru_finn_card, ru_eng_card, eval_result)\n",
    "        else:\n",
    "            improved_ru_eng_card = improve_ru_eng_full_card(ru_finn_card, ru_eng_card, eval_result)\n",
    "\n",
    "        improved_cards.append(improved_ru_eng_card)\n",
    "\n",
    "    card = regressor(ru_finn_card, improved_cards, n_models)\n",
    "\n",
    "    return card\n",
    "\n",
    "    #eval_result = {}\n",
    "\n",
    "    #if is_phrase_card:\n",
    "    #    eval_result = eval_phrase_card(ru_finn_card, ru_eng_card)\n",
    "    #else:\n",
    "    #    eval_result = eval_full_card(ru_finn_card, ru_eng_card)"
   ]
  },
  {
   "cell_type": "code",
   "execution_count": 18,
   "metadata": {},
   "outputs": [],
   "source": [
    "def card_handler_with_agents(ru_finn_card, num_iter=5, num_agents=3):\n",
    "    is_phrase_card = (ru_finn_card['sentenceFirstLang'] == '')\n",
    "\n",
    "    ru_eng_card = {}\n",
    "\n",
    "    if is_phrase_card:\n",
    "        ru_eng_card = generate_ru_eng_phrase_card(ru_finn_card)\n",
    "    else:\n",
    "        ru_eng_card = generate_ru_eng_full_card(ru_finn_card)\n",
    "\n",
    "    eval_result = {}\n",
    "\n",
    "    if is_phrase_card:\n",
    "        eval_result = eval_phrase_card(ru_finn_card, ru_eng_card)\n",
    "    else:\n",
    "        eval_result = eval_full_card(ru_finn_card, ru_eng_card)\n",
    "\n",
    "    for _ in range(num_iter):\n",
    "        if check_eval(eval_result, is_phrase_card):\n",
    "            break\n",
    "        \n",
    "        if is_phrase_card:\n",
    "            ru_eng_card = meaxture_of_improving_agents(ru_finn_card, ru_eng_card, eval_result, num_agents)\n",
    "        else:\n",
    "            ru_eng_card = meaxture_of_improving_agents(ru_finn_card, ru_eng_card, eval_result, num_agents)\n",
    "\n",
    "        if is_phrase_card:\n",
    "            eval_result = eval_phrase_card(ru_finn_card, ru_eng_card)\n",
    "        else:\n",
    "            eval_result = eval_full_card(ru_finn_card, ru_eng_card)\n",
    "    \n",
    "    return ru_eng_card, eval_result"
   ]
  },
  {
   "cell_type": "code",
   "execution_count": 19,
   "metadata": {},
   "outputs": [],
   "source": [
    "def check_moa(file_name):\n",
    "    ru_finn_cards = get_ru_finn_cards_from_file(file_name)\n",
    "\n",
    "    ru_eng_cards = []\n",
    "    eval_results = []\n",
    "\n",
    "    for ru_finn in tqdm(ru_finn_cards):\n",
    "        while True:\n",
    "            try:\n",
    "                ru_eng, eval_res = card_handler_with_agents(ru_finn)\n",
    "\n",
    "                ru_eng_cards.append(ru_eng)\n",
    "                eval_results.append(eval_res)\n",
    "\n",
    "                break\n",
    "            except Exception:\n",
    "                pass\n",
    "\n",
    "    assert(len(ru_eng_cards) == len(eval_results))\n",
    "\n",
    "    results = []\n",
    "    for ru_eng, eval_res in list(zip(ru_eng_cards, eval_results)):\n",
    "        is_phrase_card = (ru_eng['sentenceFirstLang'] == '')\n",
    "        results.append(check_eval(eval_res, is_phrase_card))\n",
    "    \n",
    "    return sum(results) / len(results)"
   ]
  },
  {
   "cell_type": "code",
   "execution_count": 21,
   "metadata": {},
   "outputs": [
    {
     "data": {
      "application/vnd.jupyter.widget-view+json": {
       "model_id": "99bcc245a8ed40c5a899c121b8e8d7b9",
       "version_major": 2,
       "version_minor": 0
      },
      "text/plain": [
       "  0%|          | 0/151 [00:00<?, ?it/s]"
      ]
     },
     "metadata": {},
     "output_type": "display_data"
    },
    {
     "data": {
      "text/plain": [
       "0.9801324503311258"
      ]
     },
     "execution_count": 21,
     "metadata": {},
     "output_type": "execute_result"
    }
   ],
   "source": [
    "check_moa(file_names[0])"
   ]
  },
  {
   "cell_type": "code",
   "execution_count": 20,
   "metadata": {},
   "outputs": [
    {
     "data": {
      "application/vnd.jupyter.widget-view+json": {
       "model_id": "e8c3c394561b4dedabe3f65855011cef",
       "version_major": 2,
       "version_minor": 0
      },
      "text/plain": [
       "  0%|          | 0/192 [00:00<?, ?it/s]"
      ]
     },
     "metadata": {},
     "output_type": "display_data"
    },
    {
     "data": {
      "text/plain": [
       "0.9895833333333334"
      ]
     },
     "execution_count": 20,
     "metadata": {},
     "output_type": "execute_result"
    }
   ],
   "source": [
    "check_moa(file_names[1])"
   ]
  },
  {
   "cell_type": "code",
   "execution_count": 21,
   "metadata": {},
   "outputs": [
    {
     "data": {
      "application/vnd.jupyter.widget-view+json": {
       "model_id": "fc98a4b323de4655bd1a042e4904de2e",
       "version_major": 2,
       "version_minor": 0
      },
      "text/plain": [
       "  0%|          | 0/238 [00:00<?, ?it/s]"
      ]
     },
     "metadata": {},
     "output_type": "display_data"
    },
    {
     "data": {
      "text/plain": [
       "0.9831932773109243"
      ]
     },
     "execution_count": 21,
     "metadata": {},
     "output_type": "execute_result"
    }
   ],
   "source": [
    "check_moa(file_names[2])"
   ]
  },
  {
   "cell_type": "code",
   "execution_count": 22,
   "metadata": {},
   "outputs": [
    {
     "data": {
      "application/vnd.jupyter.widget-view+json": {
       "model_id": "5f03aba6274c47338db8031f9b5ff21a",
       "version_major": 2,
       "version_minor": 0
      },
      "text/plain": [
       "  0%|          | 0/267 [00:00<?, ?it/s]"
      ]
     },
     "metadata": {},
     "output_type": "display_data"
    },
    {
     "data": {
      "text/plain": [
       "0.9775280898876404"
      ]
     },
     "execution_count": 22,
     "metadata": {},
     "output_type": "execute_result"
    }
   ],
   "source": [
    "check_moa(file_names[3])"
   ]
  },
  {
   "cell_type": "code",
   "execution_count": null,
   "metadata": {},
   "outputs": [],
   "source": []
  }
 ],
 "metadata": {
  "kernelspec": {
   "display_name": "Python 3",
   "language": "python",
   "name": "python3"
  },
  "language_info": {
   "codemirror_mode": {
    "name": "ipython",
    "version": 3
   },
   "file_extension": ".py",
   "mimetype": "text/x-python",
   "name": "python",
   "nbconvert_exporter": "python",
   "pygments_lexer": "ipython3",
   "version": "3.13.0"
  }
 },
 "nbformat": 4,
 "nbformat_minor": 2
}
