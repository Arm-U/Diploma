{
 "cells": [
  {
   "cell_type": "code",
   "execution_count": 1,
   "id": "44b3aed8",
   "metadata": {},
   "outputs": [],
   "source": [
    "import json\n",
    "import pandas as pd\n",
    "\n",
    "def print_incorrect_fields(file_path):\n",
    "    def get_incorrect_fields(evaluation):\n",
    "        # Check if any evaluation field has isCorrect set to false and return those fields\n",
    "        fields = ['russianSentence', 'finnishSentence', 'translationAccuracy', 'russianWordUsage', 'finnishWordUsage']\n",
    "        incorrect_fields = {}\n",
    "        for field in fields:\n",
    "            if not evaluation.get(field, {}).get('isCorrect', True):\n",
    "                incorrect_fields[field] = evaluation[field]\n",
    "        return incorrect_fields\n",
    "    \n",
    "    evaluations = {}\n",
    "    \n",
    "    with open(file_path, 'r', encoding='utf-8') as file:\n",
    "        for line in file:\n",
    "            try:\n",
    "                json_object = json.loads(line.strip())\n",
    "                evaluation = json_object.get('evaluation', {})\n",
    "                incorrect_fields = get_incorrect_fields(evaluation)\n",
    "                if incorrect_fields:\n",
    "                    evaluations[json_object.get(\"id\")] = incorrect_fields\n",
    "            except json.JSONDecodeError as e:\n",
    "                print(f\"Error decoding JSON: {e}\")      \n",
    "\n",
    "    return evaluations\n",
    "\n"
   ]
  },
  {
   "cell_type": "code",
   "execution_count": 15,
   "id": "59317c6a",
   "metadata": {},
   "outputs": [],
   "source": [
    "EXCEL_FOLDER = '../ProfiRu/'\n",
    "CHAPTER_NAME = 'sm3_kap4'\n",
    "IDS_2_MARK_DELETED = [5574, \n",
    "              5620, \n",
    "              5493,\n",
    "              5408,\n",
    "              5681,\n",
    "              5437,\n",
    "              5557,\n",
    "              5764, \n",
    "              5858,\n",
    "              5861,\n",
    "              5864,\n",
    "              5867,\n",
    "              5871,\n",
    "              5873,\n",
    "              5891,\n",
    "              5922]"
   ]
  },
  {
   "cell_type": "code",
   "execution_count": 24,
   "id": "4c5f831d",
   "metadata": {},
   "outputs": [],
   "source": [
    "def prepare_file_with_eval_comments(profi=True):\n",
    "    # Path to the Excel file\n",
    "    if profi:\n",
    "        excel_file_path = f\"{EXCEL_FOLDER}{CHAPTER_NAME}_profi.xlsx\"\n",
    "    else: \n",
    "        excel_file_path = f\"{EXCEL_FOLDER}{CHAPTER_NAME}.xlsx\"\n",
    "    # Path to the JSON lines file\n",
    "    # sm3_kap4_evaluations.jsonl\n",
    "    json_lines_file_path = f\"{CHAPTER_NAME}_evaluations.jsonl\"\n",
    "\n",
    "    # Load the Excel file\n",
    "    df = pd.read_excel(excel_file_path)\n",
    "    \n",
    "    # Update the isDeleted field for the specified ids\n",
    "    df.loc[df['id'].isin(IDS_2_MARK_DELETED), 'isDeleted'] = 1\n",
    "\n",
    "    # Get the evaluations with incorrect fields\n",
    "    evaluations = print_incorrect_fields(json_lines_file_path)\n",
    "\n",
    "    # Add the commentAutoEval column to the dataframe\n",
    "    df['commentAutoEval'] = df['id'].apply(lambda x: json.dumps(evaluations.get(x, {}), ensure_ascii=False) if x in evaluations else '')\n",
    "\n",
    "    # Save the updated dataframe back to Excel\n",
    "    updated_excel_file_path = f\"{EXCEL_FOLDER}{CHAPTER_NAME}_profi_with_autoeval.xlsx\"\n",
    "    df.to_excel(updated_excel_file_path, index=False)\n",
    "\n",
    "    print(f\"Updated Excel file saved to: {updated_excel_file_path}\")\n",
    "    \n"
   ]
  },
  {
   "cell_type": "code",
   "execution_count": 17,
   "id": "e6a8e00e",
   "metadata": {},
   "outputs": [
    {
     "name": "stdout",
     "output_type": "stream",
     "text": [
      "Updated Excel file saved to: ../ProfiRu/sm3_kap4_profi_with_autoeval.xlsx\n"
     ]
    }
   ],
   "source": [
    "CHAPTER_NAME = 'sm3_kap4'\n",
    "prepare_file_with_eval_comments()"
   ]
  },
  {
   "cell_type": "code",
   "execution_count": 18,
   "id": "62555f25",
   "metadata": {},
   "outputs": [
    {
     "name": "stdout",
     "output_type": "stream",
     "text": [
      "Updated Excel file saved to: ../ProfiRu/sm3_kap5_profi_with_autoeval.xlsx\n"
     ]
    }
   ],
   "source": [
    "CHAPTER_NAME = 'sm3_kap5'\n",
    "prepare_file_with_eval_comments()"
   ]
  },
  {
   "cell_type": "code",
   "execution_count": 19,
   "id": "d18e5237",
   "metadata": {},
   "outputs": [
    {
     "name": "stdout",
     "output_type": "stream",
     "text": [
      "Updated Excel file saved to: ../ProfiRu/sm3_kap6_profi_with_autoeval.xlsx\n"
     ]
    }
   ],
   "source": [
    "CHAPTER_NAME = 'sm3_kap6'\n",
    "prepare_file_with_eval_comments()"
   ]
  },
  {
   "cell_type": "code",
   "execution_count": 20,
   "id": "bfbcfac9",
   "metadata": {},
   "outputs": [
    {
     "name": "stdout",
     "output_type": "stream",
     "text": [
      "Updated Excel file saved to: ../ProfiRu/sm3_kap7_profi_with_autoeval.xlsx\n"
     ]
    }
   ],
   "source": [
    "CHAPTER_NAME = 'sm3_kap7'\n",
    "prepare_file_with_eval_comments()"
   ]
  },
  {
   "cell_type": "code",
   "execution_count": 21,
   "id": "1bb38a18",
   "metadata": {},
   "outputs": [
    {
     "name": "stdout",
     "output_type": "stream",
     "text": [
      "Updated Excel file saved to: ../ProfiRu/sm3_kap8_profi_with_autoeval.xlsx\n"
     ]
    }
   ],
   "source": [
    "CHAPTER_NAME = 'sm3_kap8'\n",
    "prepare_file_with_eval_comments()"
   ]
  },
  {
   "cell_type": "code",
   "execution_count": 25,
   "id": "ae1c79ab",
   "metadata": {},
   "outputs": [
    {
     "name": "stdout",
     "output_type": "stream",
     "text": [
      "Updated Excel file saved to: ../EvalExcels//sm2_new_puhekieli_profi_with_autoeval.xlsx\n"
     ]
    }
   ],
   "source": [
    "# my old chapter\n",
    "EXCEL_FOLDER = '../EvalExcels//'\n",
    "CHAPTER_NAME = 'sm2_new_puhekieli'\n",
    "prepare_file_with_eval_comments(profi=False)"
   ]
  },
  {
   "cell_type": "code",
   "execution_count": null,
   "id": "f5ea063d",
   "metadata": {},
   "outputs": [],
   "source": []
  }
 ],
 "metadata": {
  "kernelspec": {
   "display_name": "Python 3 (ipykernel)",
   "language": "python",
   "name": "python3"
  },
  "language_info": {
   "codemirror_mode": {
    "name": "ipython",
    "version": 3
   },
   "file_extension": ".py",
   "mimetype": "text/x-python",
   "name": "python",
   "nbconvert_exporter": "python",
   "pygments_lexer": "ipython3",
   "version": "3.11.5"
  }
 },
 "nbformat": 4,
 "nbformat_minor": 5
}
